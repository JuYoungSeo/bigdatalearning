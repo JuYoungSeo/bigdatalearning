{
 "cells": [
  {
   "cell_type": "markdown",
   "metadata": {},
   "source": [
    "### 추천시스템 원리\n",
    "1. 나하고 비슷한 사람을 찾음.\n",
    "2. 그럼 비슷한 사람이 샀던 책을 나도 살 확률이 높음.\n",
    "\n",
    "\n",
    "1. 과거에 했던 행동을 다시 할 확률이 높기때문에\n",
    "2. 다음에 했던 같은 행동을 할 확률이 높다.\n",
    "\n",
    "\n",
    "#### 사람기반, content 기반이 존재"
   ]
  },
  {
   "cell_type": "markdown",
   "metadata": {},
   "source": [
    "## 협업 필터링 (사람 기반)\n",
    "과거의 패턴을 기준으로 유사도를 찾음.\n",
    "\n",
    "#### Serendipity Recommen dation (신선한 추천)\n",
    "- 내가 안했던 거까지 추천해줄 수 있음.\n"
   ]
  },
  {
   "cell_type": "markdown",
   "metadata": {},
   "source": [
    "#### 문제점\n",
    "###### 콜드 스타트 문제\n",
    "- 기존에 많이 축적된 이용자의 행동 정보에만 의존하며, 새로운 콘텐츠가 나오면 추천이 어려움.\n",
    "- 롱테일 문제 : 다수의 항목은 추천을 위한 충분한 정보를 제공하지 못하는 경우가 많음. 독특한 취향의 고객 문제\n",
    "- gray sheep : 취향이 많이 바뀌는 사람 / black sheep : 진성 오더\n"
   ]
  },
  {
   "cell_type": "markdown",
   "metadata": {},
   "source": [
    "## 콘텐츠 기반 필터링\n",
    "콘텐츠끼리 유사도 찾기가 아주 어려움.\n",
    "\n",
    "- 콜드 스타트 문제가 없음.\n",
    "- 과거의 일이아니라 고유한 성격을 가지고 찾는 방식\n",
    "\n",
    "\n",
    "#### 앞서 두 개 합친 하이브리드 시스템 많이씀."
   ]
  },
  {
   "cell_type": "markdown",
   "metadata": {},
   "source": [
    "## 모델 기반 협력 필터링\n",
    "- PCA (숨어있는 거 찾는거)\n",
    "- SVD 3x4 행렬을 (3xn)(nxm)(mxn)(nx4)로 바꿔서 성분 찾는거."
   ]
  },
  {
   "cell_type": "markdown",
   "metadata": {},
   "source": [
    "## Memory based 기법"
   ]
  },
  {
   "cell_type": "markdown",
   "metadata": {},
   "source": [
    "##### columns = dimension = feature"
   ]
  },
  {
   "cell_type": "markdown",
   "metadata": {},
   "source": [
    "### 유사도\n",
    "##### 코사인 similarity Calcuation\n",
    "크면 클수록 유사도가 큼\n",
    "##### 피어슨, 헨달, 스피어만 = 상관계수"
   ]
  },
  {
   "cell_type": "markdown",
   "metadata": {},
   "source": [
    "#### 사람보다는 item-based 하면 메모리 효율 성이 좋음"
   ]
  },
  {
   "cell_type": "markdown",
   "metadata": {},
   "source": [
    "# 추천\n",
    "1. 추천은 검증하기가 힘들어서 안함.\n",
    "2. 그래서 사람들 가지고 직접 측정함."
   ]
  },
  {
   "cell_type": "markdown",
   "metadata": {},
   "source": [
    "# 영화추천 알고리즘"
   ]
  },
  {
   "cell_type": "code",
   "execution_count": null,
   "metadata": {},
   "outputs": [],
   "source": [
    "import pandas as pd"
   ]
  },
  {
   "cell_type": "code",
   "execution_count": null,
   "metadata": {},
   "outputs": [],
   "source": [
    "data = pd.read_csv(\"ml100/u.data\",sep='\\t',header=None)\n",
    "genre = pd.read_csv(\"ml100/u.genre\",sep='|',header=None)\n",
    "info = pd.read_csv(\"ml100/u.info\",sep=' ',header=None)\n",
    "occupation = pd.read_csv(\"ml100/u.occupation\",sep='\\t',header=None)\n"
   ]
  },
  {
   "cell_type": "code",
   "execution_count": null,
   "metadata": {},
   "outputs": [],
   "source": [
    "user = pd.read_csv(\"ml100/u.user\",sep='|',header=None)"
   ]
  },
  {
   "cell_type": "code",
   "execution_count": null,
   "metadata": {},
   "outputs": [],
   "source": [
    "info = info.rename({1:'table', 0 : 'number'},axis=1)\n",
    "info"
   ]
  },
  {
   "cell_type": "markdown",
   "metadata": {},
   "source": [
    "##### item인걸 여는데  csv는 기본적으로 ,로 나눠지는데 , 가있어서 안됨."
   ]
  },
  {
   "cell_type": "code",
   "execution_count": null,
   "metadata": {
    "scrolled": true
   },
   "outputs": [],
   "source": [
    "item = pd.read_csv(\"ml100/u.item\", engine='python', sep='|', header=None)"
   ]
  },
  {
   "cell_type": "code",
   "execution_count": null,
   "metadata": {},
   "outputs": [],
   "source": [
    "item = item.rename(colname, axis=1)\n",
    "item"
   ]
  },
  {
   "cell_type": "code",
   "execution_count": null,
   "metadata": {},
   "outputs": [],
   "source": [
    "str_ = \"\"\"movie id | movie title | release date | video release date |\n",
    "              IMDb URL | unknown | Action | Adventure | Animation |\n",
    "              Children's | Comedy | Crime | Documentary | Drama | Fantasy |\n",
    "              Film-Noir | Horror | Musical | Mystery | Romance | Sci-Fi |\n",
    "              Thriller | War | Western |\"\"\"\n",
    "\n",
    "str_ = str_.replace(\" \",\"\").replace(\"\\n\",\"\").split('|')\n",
    "colname = dict(zip(range(len(str_)),str_))\n",
    "colname"
   ]
  },
  {
   "cell_type": "code",
   "execution_count": null,
   "metadata": {},
   "outputs": [],
   "source": [
    "item = item.rename(colname, axis=1)\n",
    "item"
   ]
  },
  {
   "cell_type": "code",
   "execution_count": null,
   "metadata": {},
   "outputs": [],
   "source": [
    "str_ = str_.replace(\" \",\"\").replace(\"\\n\",\"\").split('|')"
   ]
  },
  {
   "cell_type": "code",
   "execution_count": null,
   "metadata": {},
   "outputs": [],
   "source": [
    "colname = dict(zip(range(len(str_)),str_))"
   ]
  },
  {
   "cell_type": "code",
   "execution_count": null,
   "metadata": {},
   "outputs": [],
   "source": [
    "genre = genre.drop(columns=1)"
   ]
  },
  {
   "cell_type": "code",
   "execution_count": null,
   "metadata": {},
   "outputs": [],
   "source": [
    "user = user.rename({0:'userid', 1:'age', 2:'gender',3:'occupation',4:'zipcode'},axis=1)"
   ]
  },
  {
   "cell_type": "code",
   "execution_count": null,
   "metadata": {
    "scrolled": true
   },
   "outputs": [],
   "source": [
    "data = data.rename({0:'userid', 1:'itemid',2:'rating', 3:'timestamp'}, axis=1)\n",
    "data"
   ]
  },
  {
   "cell_type": "code",
   "execution_count": null,
   "metadata": {},
   "outputs": [],
   "source": [
    "genre = genre.rename({0:'genre'}, axis=1)"
   ]
  },
  {
   "cell_type": "code",
   "execution_count": null,
   "metadata": {},
   "outputs": [],
   "source": [
    "occupation = occupation.rename({0:'occupation'}, axis = 1)"
   ]
  },
  {
   "cell_type": "code",
   "execution_count": null,
   "metadata": {},
   "outputs": [],
   "source": [
    "item.melt(item.columns[:5], var_name = 'genre',value_name = 'v')"
   ]
  },
  {
   "cell_type": "code",
   "execution_count": null,
   "metadata": {
    "scrolled": true
   },
   "outputs": [],
   "source": [
    "genre"
   ]
  },
  {
   "cell_type": "code",
   "execution_count": null,
   "metadata": {},
   "outputs": [],
   "source": [
    "item.rename({0: 'movieid',\n",
    " 1: 'movietitle',\n",
    " 2: 'releasedate',\n",
    " 3: 'videoreleasedate',\n",
    " 4: 'IMDbURL'}, axis=1, inplace = True)\n",
    "item.melt(item.columns[:5])"
   ]
  },
  {
   "cell_type": "code",
   "execution_count": null,
   "metadata": {},
   "outputs": [],
   "source": [
    "item.melt(item.columns[:5])"
   ]
  },
  {
   "cell_type": "markdown",
   "metadata": {},
   "source": [
    "### 이제 테이블을 통해 추천시스템을 만든다."
   ]
  },
  {
   "cell_type": "code",
   "execution_count": null,
   "metadata": {
    "scrolled": true
   },
   "outputs": [],
   "source": [
    "data"
   ]
  },
  {
   "cell_type": "markdown",
   "metadata": {},
   "source": [
    "#### merge랑 join\n",
    "+ merge = 데이터 프레임끼리 합칠떄\n",
    "+ join = 칼럼끼리 합칠때"
   ]
  },
  {
   "cell_type": "code",
   "execution_count": null,
   "metadata": {
    "scrolled": true
   },
   "outputs": [],
   "source": [
    "data.merge(user) # 분리된 데이터 테이블을 합쳐줌. (join을 시킴)"
   ]
  },
  {
   "cell_type": "code",
   "execution_count": null,
   "metadata": {
    "scrolled": true
   },
   "outputs": [],
   "source": [
    "data"
   ]
  },
  {
   "cell_type": "markdown",
   "metadata": {},
   "source": [
    "##### timestamp는 pd.to_datetime으로 바꿈"
   ]
  },
  {
   "cell_type": "code",
   "execution_count": null,
   "metadata": {
    "scrolled": true
   },
   "outputs": [],
   "source": [
    "data.timestamp = pd.to_datetime(data.timestamp, unit= 's')"
   ]
  },
  {
   "cell_type": "markdown",
   "metadata": {},
   "source": [
    "###### 이시간대 사람이 평점 매김"
   ]
  },
  {
   "cell_type": "code",
   "execution_count": null,
   "metadata": {
    "scrolled": true
   },
   "outputs": [],
   "source": [
    "data_raw = data.copy()"
   ]
  },
  {
   "cell_type": "code",
   "execution_count": null,
   "metadata": {},
   "outputs": [],
   "source": [
    "data1 = data_raw.copy()"
   ]
  },
  {
   "cell_type": "code",
   "execution_count": null,
   "metadata": {},
   "outputs": [],
   "source": [
    "data1.drop(columns = 'timestamp', inplace = True)"
   ]
  },
  {
   "cell_type": "code",
   "execution_count": null,
   "metadata": {
    "scrolled": true
   },
   "outputs": [],
   "source": [
    "data"
   ]
  },
  {
   "cell_type": "markdown",
   "metadata": {},
   "source": [
    "#### SCI 기법"
   ]
  },
  {
   "cell_type": "code",
   "execution_count": null,
   "metadata": {
    "scrolled": true
   },
   "outputs": [],
   "source": [
    "data.set_index(['userid','itemid']).unstack()"
   ]
  },
  {
   "cell_type": "code",
   "execution_count": null,
   "metadata": {},
   "outputs": [],
   "source": [
    "recommendation = data.set_index(['userid','itemid']).unstack().fillna(0)"
   ]
  },
  {
   "cell_type": "code",
   "execution_count": null,
   "metadata": {
    "scrolled": true
   },
   "outputs": [],
   "source": [
    "recommendation"
   ]
  },
  {
   "cell_type": "code",
   "execution_count": null,
   "metadata": {},
   "outputs": [],
   "source": [
    "import pickle"
   ]
  },
  {
   "cell_type": "code",
   "execution_count": null,
   "metadata": {},
   "outputs": [],
   "source": [
    "with open('sun.p', 'wb') as f:\n",
    "    pickle.dump(recommendation,f)"
   ]
  },
  {
   "cell_type": "markdown",
   "metadata": {},
   "source": [
    "#### pickle ----------------------------"
   ]
  },
  {
   "cell_type": "code",
   "execution_count": null,
   "metadata": {},
   "outputs": [],
   "source": [
    "recommendation.to_pickle"
   ]
  },
  {
   "cell_type": "code",
   "execution_count": null,
   "metadata": {},
   "outputs": [],
   "source": [
    "pd.read_pickle()"
   ]
  },
  {
   "cell_type": "markdown",
   "metadata": {},
   "source": [
    "#### ----------------------------------"
   ]
  },
  {
   "cell_type": "code",
   "execution_count": null,
   "metadata": {},
   "outputs": [],
   "source": [
    "recommendation.columns"
   ]
  },
  {
   "cell_type": "markdown",
   "metadata": {},
   "source": [
    "#### crosstab, pivotable"
   ]
  },
  {
   "cell_type": "code",
   "execution_count": null,
   "metadata": {
    "scrolled": true
   },
   "outputs": [],
   "source": [
    "data"
   ]
  },
  {
   "cell_type": "code",
   "execution_count": null,
   "metadata": {
    "scrolled": true
   },
   "outputs": [],
   "source": [
    "data.pivot_table('rating','userid','itemid')"
   ]
  },
  {
   "cell_type": "code",
   "execution_count": null,
   "metadata": {
    "scrolled": true
   },
   "outputs": [],
   "source": [
    "pd.crosstab(data['userid'],data['itemid'],values=data['rating'],aggfunc='max').fillna(0)"
   ]
  },
  {
   "cell_type": "code",
   "execution_count": null,
   "metadata": {
    "scrolled": true
   },
   "outputs": [],
   "source": [
    "data = data.pivot('userid','itemid','rating').fillna(0)"
   ]
  },
  {
   "cell_type": "markdown",
   "metadata": {},
   "source": [
    "###### pivot은 aggfunc이 없기 때문에  값을 그대로 박아놈. 2개면 에러남. "
   ]
  },
  {
   "cell_type": "markdown",
   "metadata": {},
   "source": [
    "### Corr"
   ]
  },
  {
   "cell_type": "code",
   "execution_count": null,
   "metadata": {
    "scrolled": true
   },
   "outputs": [],
   "source": [
    "data.corr()"
   ]
  },
  {
   "cell_type": "code",
   "execution_count": null,
   "metadata": {
    "scrolled": true
   },
   "outputs": [],
   "source": [
    "data_corr = data.T.corr()"
   ]
  },
  {
   "cell_type": "markdown",
   "metadata": {},
   "source": [
    "##### 한사람을 지목하여 값의 내림차순으로 정의함"
   ]
  },
  {
   "cell_type": "code",
   "execution_count": null,
   "metadata": {
    "scrolled": true
   },
   "outputs": [],
   "source": [
    "data_corr.loc[42].sort_values(ascending = False).iloc[1:5]"
   ]
  },
  {
   "cell_type": "code",
   "execution_count": null,
   "metadata": {},
   "outputs": [],
   "source": [
    "def recommencdation_user(userid, k):\n",
    "    return data_corr.loc[userid].sort_values(ascending = False).iloc[1:k+1].index"
   ]
  },
  {
   "cell_type": "code",
   "execution_count": null,
   "metadata": {},
   "outputs": [],
   "source": [
    "recommencdation_user(42,5)"
   ]
  },
  {
   "cell_type": "code",
   "execution_count": null,
   "metadata": {
    "scrolled": true
   },
   "outputs": [],
   "source": [
    "t = set(data_raw[data_raw['userid']==577].itemid)-set(data_raw[data_raw['userid']==42].itemid)"
   ]
  },
  {
   "cell_type": "code",
   "execution_count": null,
   "metadata": {
    "scrolled": true
   },
   "outputs": [],
   "source": [
    "r1 = data1[(data1.itemid.isin(t)) & (data1['rating']==5) & (data1.userid==577)].sort_values('rating',ascending=False)"
   ]
  },
  {
   "cell_type": "code",
   "execution_count": null,
   "metadata": {},
   "outputs": [],
   "source": [
    "r1.rating = r1.rating*0.9\n",
    "r1"
   ]
  },
  {
   "cell_type": "markdown",
   "metadata": {},
   "source": [
    "##### 이제 함수로 만든다."
   ]
  },
  {
   "cell_type": "code",
   "execution_count": null,
   "metadata": {},
   "outputs": [],
   "source": [
    "s = recommencdation_user(42,5)"
   ]
  },
  {
   "cell_type": "code",
   "execution_count": null,
   "metadata": {},
   "outputs": [],
   "source": [
    "for i in s:\n",
    "    print(i)"
   ]
  },
  {
   "cell_type": "code",
   "execution_count": null,
   "metadata": {},
   "outputs": [],
   "source": [
    "for i in s:\n",
    "    set(data1[data1['userid']==i].itemid)-set(data1[data1['userid']==userid].itemid)"
   ]
  },
  {
   "cell_type": "code",
   "execution_count": null,
   "metadata": {},
   "outputs": [],
   "source": [
    "def recommencdation_user(userid, k):\n",
    "    s = data_corr.loc[userid].sort_values(ascending = False).iloc[1:k+1].index\n",
    "    temp = []\n",
    "    for i in s:\n",
    "        temp.append(set(data1[data1['userid']==i].itemid)-set(data1[data1['userid']==userid].itemid))\n",
    "    else:\n",
    "        return temp"
   ]
  },
  {
   "cell_type": "code",
   "execution_count": null,
   "metadata": {
    "scrolled": true
   },
   "outputs": [],
   "source": [
    "recommencdation_user(1,5)"
   ]
  },
  {
   "cell_type": "code",
   "execution_count": null,
   "metadata": {},
   "outputs": [],
   "source": [
    "def recommencdation_user(userid, k):\n",
    "    s = data_corr.loc[userid].sort_values(ascending = False).iloc[1:k+1].index\n",
    "    t = (set(data1[data1['userid']==s[0]].itemid)-set(data1[data1['userid']==userid].itemid))\n",
    "    return data1[(data1.itemid.isin(t)) & (data1['rating']==5) & (data1.userid==s[0])]"
   ]
  },
  {
   "cell_type": "code",
   "execution_count": null,
   "metadata": {},
   "outputs": [],
   "source": [
    "s1 = recommencdation_user(1,5)"
   ]
  },
  {
   "cell_type": "code",
   "execution_count": null,
   "metadata": {},
   "outputs": [],
   "source": [
    "s1"
   ]
  },
  {
   "cell_type": "code",
   "execution_count": null,
   "metadata": {},
   "outputs": [],
   "source": [
    "s0 = recommencdation_user(1,5)"
   ]
  },
  {
   "cell_type": "code",
   "execution_count": null,
   "metadata": {},
   "outputs": [],
   "source": [
    "s0"
   ]
  },
  {
   "cell_type": "markdown",
   "metadata": {},
   "source": [
    "##### pd.concat쓰면 두개 프레임 합쳐줌."
   ]
  },
  {
   "cell_type": "code",
   "execution_count": null,
   "metadata": {},
   "outputs": [],
   "source": [
    "pd.concat([s0,s1])"
   ]
  },
  {
   "cell_type": "code",
   "execution_count": null,
   "metadata": {},
   "outputs": [],
   "source": [
    "pd.concat([s0,s1]).duplicated()"
   ]
  },
  {
   "cell_type": "markdown",
   "metadata": {},
   "source": [
    "##### duplicated()  중복된걸 알려줌.."
   ]
  },
  {
   "cell_type": "code",
   "execution_count": null,
   "metadata": {},
   "outputs": [],
   "source": [
    "x = pd.concat([s0,s1])"
   ]
  },
  {
   "cell_type": "markdown",
   "metadata": {},
   "source": [
    "##### drop_duplicates : 중복된걸 없애줌."
   ]
  },
  {
   "cell_type": "code",
   "execution_count": null,
   "metadata": {},
   "outputs": [],
   "source": [
    "x.drop_duplicates()"
   ]
  },
  {
   "cell_type": "code",
   "execution_count": null,
   "metadata": {},
   "outputs": [],
   "source": [
    "def recommencdation_user(userid, k):\n",
    "    s = data_corr.loc[userid].sort_values(ascending = False).iloc[1:k+1].index\n",
    "    for i in s:\n",
    "        t = (set(data1[data1['userid']==s[0]].itemid)-set(data1[data1['userid']==userid].itemid))\n",
    "        return data1[(data1.itemid.isin(t)) & (data1['rating']==5) & (data1.userid==s[0])]"
   ]
  },
  {
   "cell_type": "code",
   "execution_count": null,
   "metadata": {},
   "outputs": [],
   "source": [
    "def recommencdation_user(userid, k, n=10):\n",
    "    s = data_corr.loc[userid].sort_values(ascending = False).iloc[1:k+1].index\n",
    "    temp = pd.DataFrame(columns=['userid','itemid','rating'])\n",
    "    for j,i in enumerate(s,1):\n",
    "        t = set(data1[data1['userid']==i].itemid)-set(data1[data1['userid']==userid].itemid)\n",
    "        k = data1[(data1.itemid.isin(t)) & (data1['rating']==5) & (data1.userid==i)]\n",
    "        k.rating = k.rating*(1-0.05*j)\n",
    "        temp = pd.concat([temp,k])\n",
    "    else:\n",
    "        #return temp.groupby('itemid').mean().sort_values('rating', ascending=False)[:n]\n",
    "        temp = temp.rename(columns={'itemid':'movieid'})\n",
    "        return [x for x in temp.merge(item[['movieid','movietitle']]).drop_duplicates().groupby('movietitle').mean().sort_values('rating', ascending = False)[:n].index]"
   ]
  },
  {
   "cell_type": "code",
   "execution_count": null,
   "metadata": {},
   "outputs": [],
   "source": [
    "recommencdation_user(42,5,4)"
   ]
  },
  {
   "cell_type": "markdown",
   "metadata": {},
   "source": [
    "unstack 하면 seires가 나오니까 판다스로 나와야한다."
   ]
  },
  {
   "cell_type": "markdown",
   "metadata": {},
   "source": [
    "# awesome-python\n",
    "관련된 패키지들을 모아놈"
   ]
  },
  {
   "cell_type": "markdown",
   "metadata": {},
   "source": [
    "## 중간에 객체 자체를 저장시키면서 하면 좋음.\n",
    "#### 피클링이라는 방법"
   ]
  }
 ],
 "metadata": {
  "kernelspec": {
   "display_name": "Python 3",
   "language": "python",
   "name": "python3"
  },
  "language_info": {
   "codemirror_mode": {
    "name": "ipython",
    "version": 3
   },
   "file_extension": ".py",
   "mimetype": "text/x-python",
   "name": "python",
   "nbconvert_exporter": "python",
   "pygments_lexer": "ipython3",
   "version": "3.7.3"
  }
 },
 "nbformat": 4,
 "nbformat_minor": 2
}
