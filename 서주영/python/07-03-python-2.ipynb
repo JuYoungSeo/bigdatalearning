{
 "cells": [
  {
   "cell_type": "markdown",
   "metadata": {},
   "source": [
    "# First Class Function\n",
    "\n",
    "함수가 값이어서 할당 가능함"
   ]
  },
  {
   "cell_type": "code",
   "execution_count": null,
   "metadata": {},
   "outputs": [],
   "source": [
    "a = print"
   ]
  },
  {
   "cell_type": "code",
   "execution_count": null,
   "metadata": {},
   "outputs": [],
   "source": [
    "sum = 0"
   ]
  },
  {
   "cell_type": "code",
   "execution_count": null,
   "metadata": {},
   "outputs": [],
   "source": [
    "del sum"
   ]
  },
  {
   "cell_type": "code",
   "execution_count": null,
   "metadata": {},
   "outputs": [],
   "source": [
    "a = [str,int, float]"
   ]
  },
  {
   "cell_type": "code",
   "execution_count": null,
   "metadata": {},
   "outputs": [
    {
     "data": {
      "text/plain": [
       "'2'"
      ]
     },
     "execution_count": 7,
     "metadata": {},
     "output_type": "execute_result"
    }
   ],
   "source": [
    "a[0](2)"
   ]
  },
  {
   "cell_type": "code",
   "execution_count": null,
   "metadata": {},
   "outputs": [],
   "source": [
    "def a(x): # 클로저, 데코레이터 가능한 기법\n",
    "    print(x(2))"
   ]
  },
  {
   "cell_type": "code",
   "execution_count": null,
   "metadata": {},
   "outputs": [
    {
     "name": "stdout",
     "output_type": "stream",
     "text": [
      "2\n",
      "None\n"
     ]
    }
   ],
   "source": [
    "a(print)"
   ]
  },
  {
   "cell_type": "markdown",
   "metadata": {},
   "source": [
    "클로저, 데코레이터는 함수안에 함수 집어넣는 기법 (중첩된 함수)"
   ]
  },
  {
   "cell_type": "markdown",
   "metadata": {},
   "source": [
    "## global, nonlocal"
   ]
  },
  {
   "cell_type": "code",
   "execution_count": null,
   "metadata": {},
   "outputs": [],
   "source": [
    "# 찾는 순서 Local Enclose Global Bulitin\n",
    "x = 1\n",
    "def y():\n",
    "    breakpoint()\n",
    "    x = x+1 # 접근은 할 수 있지만 변경을 시키지 못함.\n",
    "    print(x)\n",
    "    "
   ]
  },
  {
   "cell_type": "code",
   "execution_count": null,
   "metadata": {},
   "outputs": [
    {
     "name": "stdout",
     "output_type": "stream",
     "text": [
      "> <ipython-input-10-bf214a7daca6>(5)y()\n",
      "-> x = x+1 # 접근은 할 수 있지만 변경을 시키지 못함.\n"
     ]
    }
   ],
   "source": [
    "y()"
   ]
  },
  {
   "cell_type": "code",
   "execution_count": null,
   "metadata": {},
   "outputs": [],
   "source": [
    "# 찾는 순서 Local Enclose Global Bulitin\n",
    "x = 1"
   ]
  },
  {
   "cell_type": "code",
   "execution_count": null,
   "metadata": {},
   "outputs": [],
   "source": [
    "def y():\n",
    "    global x # 할당 6번째\n",
    "    x = x+1\n",
    "    print(x)\n",
    "    "
   ]
  },
  {
   "cell_type": "code",
   "execution_count": null,
   "metadata": {},
   "outputs": [],
   "source": [
    "y()"
   ]
  },
  {
   "cell_type": "code",
   "execution_count": null,
   "metadata": {},
   "outputs": [],
   "source": [
    "x"
   ]
  },
  {
   "cell_type": "code",
   "execution_count": null,
   "metadata": {},
   "outputs": [],
   "source": [
    "def y():\n",
    "    global x # 할당 6번째\n",
    "    abz = 1\n",
    "    print(x)"
   ]
  },
  {
   "cell_type": "code",
   "execution_count": null,
   "metadata": {},
   "outputs": [],
   "source": [
    "abz"
   ]
  },
  {
   "cell_type": "code",
   "execution_count": 5,
   "metadata": {},
   "outputs": [],
   "source": [
    "def y():\n",
    "    z=1\n",
    "    print(z)"
   ]
  },
  {
   "cell_type": "code",
   "execution_count": 2,
   "metadata": {},
   "outputs": [],
   "source": [
    "y.z=3"
   ]
  },
  {
   "cell_type": "code",
   "execution_count": 3,
   "metadata": {},
   "outputs": [
    {
     "data": {
      "text/plain": [
       "3"
      ]
     },
     "execution_count": 3,
     "metadata": {},
     "output_type": "execute_result"
    }
   ],
   "source": [
    "y.z"
   ]
  },
  {
   "cell_type": "code",
   "execution_count": 6,
   "metadata": {},
   "outputs": [
    {
     "name": "stdout",
     "output_type": "stream",
     "text": [
      "1\n"
     ]
    }
   ],
   "source": [
    "y() # y.z랑 y랑 다르다"
   ]
  },
  {
   "cell_type": "code",
   "execution_count": null,
   "metadata": {},
   "outputs": [],
   "source": []
  },
  {
   "cell_type": "code",
   "execution_count": 11,
   "metadata": {},
   "outputs": [],
   "source": [
    "def y():\n",
    "    def z():\n",
    "        return 1\n",
    "    return z()"
   ]
  },
  {
   "cell_type": "code",
   "execution_count": 12,
   "metadata": {},
   "outputs": [
    {
     "data": {
      "text/plain": [
       "1"
      ]
     },
     "execution_count": 12,
     "metadata": {},
     "output_type": "execute_result"
    }
   ],
   "source": [
    "y()"
   ]
  },
  {
   "cell_type": "code",
   "execution_count": 13,
   "metadata": {},
   "outputs": [],
   "source": [
    "def y():\n",
    "    def z():\n",
    "        return 1\n",
    "    return z"
   ]
  },
  {
   "cell_type": "code",
   "execution_count": 15,
   "metadata": {},
   "outputs": [
    {
     "data": {
      "text/plain": [
       "1"
      ]
     },
     "execution_count": 15,
     "metadata": {},
     "output_type": "execute_result"
    }
   ],
   "source": [
    "y()()"
   ]
  },
  {
   "cell_type": "code",
   "execution_count": 16,
   "metadata": {},
   "outputs": [],
   "source": [
    "def y():\n",
    "    print('문근영')\n",
    "    return y"
   ]
  },
  {
   "cell_type": "code",
   "execution_count": 19,
   "metadata": {},
   "outputs": [
    {
     "name": "stdout",
     "output_type": "stream",
     "text": [
      "문근영\n",
      "문근영\n",
      "문근영\n"
     ]
    },
    {
     "data": {
      "text/plain": [
       "<function __main__.y()>"
      ]
     },
     "execution_count": 19,
     "metadata": {},
     "output_type": "execute_result"
    }
   ],
   "source": [
    "y()()()"
   ]
  },
  {
   "cell_type": "markdown",
   "metadata": {},
   "source": [
    "### 클로저 Closure : 다양한 함수 편하게 만들때"
   ]
  },
  {
   "cell_type": "code",
   "execution_count": null,
   "metadata": {},
   "outputs": [],
   "source": [
    "def y(x):\n",
    "    def z(n):\n",
    "        return x+n\n",
    "    return z"
   ]
  },
  {
   "cell_type": "code",
   "execution_count": 33,
   "metadata": {},
   "outputs": [],
   "source": [
    "two_add = y(4)"
   ]
  },
  {
   "cell_type": "code",
   "execution_count": 34,
   "metadata": {},
   "outputs": [
    {
     "data": {
      "text/plain": [
       "7"
      ]
     },
     "execution_count": 34,
     "metadata": {},
     "output_type": "execute_result"
    }
   ],
   "source": [
    "two_add(3)"
   ]
  },
  {
   "cell_type": "code",
   "execution_count": 35,
   "metadata": {},
   "outputs": [],
   "source": [
    "def y(x):\n",
    "    return lambda n : n+x"
   ]
  },
  {
   "cell_type": "code",
   "execution_count": 36,
   "metadata": {},
   "outputs": [],
   "source": [
    "two_add = y(4)"
   ]
  },
  {
   "cell_type": "code",
   "execution_count": 37,
   "metadata": {},
   "outputs": [
    {
     "data": {
      "text/plain": [
       "7"
      ]
     },
     "execution_count": 37,
     "metadata": {},
     "output_type": "execute_result"
    }
   ],
   "source": [
    "two_add(3)"
   ]
  },
  {
   "cell_type": "code",
   "execution_count": 38,
   "metadata": {},
   "outputs": [
    {
     "name": "stdout",
     "output_type": "stream",
     "text": [
      "Writing mmon.txt\n"
     ]
    }
   ],
   "source": [
    "%%writefile mmon.txt\n",
    "asdfasfasf\n",
    "asdfasfasfasdf\n",
    "asdasdaaaaaaaa\n",
    "fffffffffffffsd\n",
    "dsfasdfasdfff"
   ]
  },
  {
   "cell_type": "code",
   "execution_count": 40,
   "metadata": {},
   "outputs": [],
   "source": [
    "a = open('mmon.txt')"
   ]
  },
  {
   "cell_type": "code",
   "execution_count": 46,
   "metadata": {},
   "outputs": [
    {
     "data": {
      "text/plain": [
       "'asdfasfasfasdf\\n'"
      ]
     },
     "execution_count": 46,
     "metadata": {},
     "output_type": "execute_result"
    }
   ],
   "source": [
    "a.__next__()"
   ]
  },
  {
   "cell_type": "code",
   "execution_count": 47,
   "metadata": {},
   "outputs": [
    {
     "ename": "AssertionError",
     "evalue": "",
     "output_type": "error",
     "traceback": [
      "\u001b[1;31m---------------------------------------------------------------------------\u001b[0m",
      "\u001b[1;31mAssertionError\u001b[0m                            Traceback (most recent call last)",
      "\u001b[1;32m<ipython-input-47-d55ab68127f6>\u001b[0m in \u001b[0;36m<module>\u001b[1;34m\u001b[0m\n\u001b[0;32m      1\u001b[0m \u001b[1;31m# True, False를 나타낼때 False면 에러를 나타냄.\u001b[0m\u001b[1;33m\u001b[0m\u001b[1;33m\u001b[0m\u001b[1;33m\u001b[0m\u001b[0m\n\u001b[0;32m      2\u001b[0m \u001b[0ma\u001b[0m \u001b[1;33m=\u001b[0m \u001b[1;36m1\u001b[0m\u001b[1;33m\u001b[0m\u001b[1;33m\u001b[0m\u001b[0m\n\u001b[1;32m----> 3\u001b[1;33m \u001b[1;32massert\u001b[0m \u001b[0ma\u001b[0m\u001b[1;33m>\u001b[0m\u001b[1;36m2\u001b[0m\u001b[1;33m\u001b[0m\u001b[1;33m\u001b[0m\u001b[0m\n\u001b[0m",
      "\u001b[1;31mAssertionError\u001b[0m: "
     ]
    }
   ],
   "source": [
    "# True, False를 나타낼때 False면 에러를 나타냄.\n",
    "a = 1\n",
    "assert a>2"
   ]
  },
  {
   "cell_type": "code",
   "execution_count": 53,
   "metadata": {},
   "outputs": [],
   "source": [
    "from operator import add, mul, sub"
   ]
  },
  {
   "cell_type": "code",
   "execution_count": 51,
   "metadata": {},
   "outputs": [
    {
     "data": {
      "text/plain": [
       "7"
      ]
     },
     "execution_count": 51,
     "metadata": {},
     "output_type": "execute_result"
    }
   ],
   "source": [
    "add(3,4)"
   ]
  },
  {
   "cell_type": "code",
   "execution_count": 52,
   "metadata": {},
   "outputs": [
    {
     "data": {
      "text/plain": [
       "28"
      ]
     },
     "execution_count": 52,
     "metadata": {},
     "output_type": "execute_result"
    }
   ],
   "source": [
    "mul(4,7)"
   ]
  },
  {
   "cell_type": "code",
   "execution_count": 54,
   "metadata": {},
   "outputs": [
    {
     "data": {
      "text/plain": [
       "8"
      ]
     },
     "execution_count": 54,
     "metadata": {},
     "output_type": "execute_result"
    }
   ],
   "source": [
    "sub(10,2)"
   ]
  },
  {
   "cell_type": "code",
   "execution_count": 55,
   "metadata": {},
   "outputs": [
    {
     "name": "stdout",
     "output_type": "stream",
     "text": [
      "0\n",
      "1\n",
      "2\n",
      "3\n",
      "4\n",
      "5\n",
      "6\n",
      "7\n",
      "8\n",
      "9\n"
     ]
    }
   ],
   "source": [
    "for z in range(10):\n",
    "    print(z)"
   ]
  },
  {
   "cell_type": "code",
   "execution_count": 56,
   "metadata": {},
   "outputs": [
    {
     "data": {
      "text/plain": [
       "9"
      ]
     },
     "execution_count": 56,
     "metadata": {},
     "output_type": "execute_result"
    }
   ],
   "source": [
    "z"
   ]
  },
  {
   "cell_type": "code",
   "execution_count": 59,
   "metadata": {},
   "outputs": [
    {
     "data": {
      "text/plain": [
       "[0, 1, 2, 3, 4, 5, 6, 7, 8, 9]"
      ]
     },
     "execution_count": 59,
     "metadata": {},
     "output_type": "execute_result"
    }
   ],
   "source": [
    "[zz for zz in range(10)]"
   ]
  },
  {
   "cell_type": "code",
   "execution_count": 61,
   "metadata": {},
   "outputs": [
    {
     "data": {
      "text/plain": [
       "1"
      ]
     },
     "execution_count": 61,
     "metadata": {},
     "output_type": "execute_result"
    }
   ],
   "source": [
    "1"
   ]
  },
  {
   "cell_type": "code",
   "execution_count": 62,
   "metadata": {},
   "outputs": [
    {
     "data": {
      "text/plain": [
       "2"
      ]
     },
     "execution_count": 62,
     "metadata": {},
     "output_type": "execute_result"
    }
   ],
   "source": [
    "2"
   ]
  },
  {
   "cell_type": "code",
   "execution_count": 63,
   "metadata": {},
   "outputs": [
    {
     "data": {
      "text/plain": [
       "3"
      ]
     },
     "execution_count": 63,
     "metadata": {},
     "output_type": "execute_result"
    }
   ],
   "source": [
    "3"
   ]
  },
  {
   "cell_type": "code",
   "execution_count": 64,
   "metadata": {},
   "outputs": [
    {
     "data": {
      "text/plain": [
       "3"
      ]
     },
     "execution_count": 64,
     "metadata": {},
     "output_type": "execute_result"
    }
   ],
   "source": [
    "_"
   ]
  },
  {
   "cell_type": "code",
   "execution_count": 65,
   "metadata": {},
   "outputs": [],
   "source": [
    "_ = 1"
   ]
  },
  {
   "cell_type": "code",
   "execution_count": 66,
   "metadata": {},
   "outputs": [
    {
     "data": {
      "text/plain": [
       "4"
      ]
     },
     "execution_count": 66,
     "metadata": {},
     "output_type": "execute_result"
    }
   ],
   "source": [
    "4"
   ]
  },
  {
   "cell_type": "code",
   "execution_count": 67,
   "metadata": {},
   "outputs": [
    {
     "data": {
      "text/plain": [
       "1"
      ]
     },
     "execution_count": 67,
     "metadata": {},
     "output_type": "execute_result"
    }
   ],
   "source": [
    "_"
   ]
  },
  {
   "cell_type": "code",
   "execution_count": 73,
   "metadata": {
    "collapsed": true
   },
   "outputs": [
    {
     "name": "stdout",
     "output_type": "stream",
     "text": [
      "def y():\n",
      "    z=1\n",
      "    print(x)\n",
      "y.z=3\n",
      "y.z\n",
      "y()\n",
      "def y():\n",
      "    z=1\n",
      "    print(z)\n",
      "y()\n",
      "class A:\n",
      "    x = 1\n",
      "A.x = 2\n",
      "a = A()\n",
      "a.x\n",
      "def y():\n",
      "    def z():\n",
      "        return 1\n",
      "    return z()\n",
      "y()\n",
      "def y():\n",
      "    def z():\n",
      "        return 1\n",
      "    return z\n",
      "y()\n",
      "y()()\n",
      "def y():\n",
      "    print('문근영')\n",
      "    return y\n",
      "y()\n",
      "y()()\n",
      "y()()()\n",
      "def y():\n",
      "    def z():\n",
      "        return 1\n",
      "    return z\n",
      "y()()\n",
      "def y(x):\n",
      "    def z():\n",
      "        return 1\n",
      "    return z\n",
      "y(3)()\n",
      "def y(x):\n",
      "    def z():\n",
      "        return x+1\n",
      "    return z\n",
      "y(3)()\n",
      "y(2)()\n",
      "def y(x):\n",
      "    def z(n):\n",
      "        return x+n\n",
      "    return z\n",
      "y(2)(3)\n",
      "y(2)()\n",
      "y(2)\n",
      "two_add = y(2)\n",
      "two_add(3)\n",
      "two_add = y(4)\n",
      "two_add(3)\n",
      "def y(x):\n",
      "    return lambda n : n+x\n",
      "two_add = y(4)\n",
      "two_add(3)\n",
      "%%writefile mmon.txt\n",
      "asdfasfasf\n",
      "asdfasfasfasdf\n",
      "asdasdaaaaaaaa\n",
      "fffffffffffffsd\n",
      "dsfasdfasdfff\n",
      "a = open('moon.txt')\n",
      "a = open('mmon.txt')\n",
      "a\n",
      "next(a)\n",
      "a.__next__\n",
      "a.next\n",
      "dir(a)\n",
      "a.__next__()\n",
      "# True, False를 나타낼때 False면 에러를 나타냄.\n",
      "a = 1\n",
      "assert a>2\n",
      "from operator import add\n",
      "add(3,4)\n",
      "from operator import add, mul\n",
      "add(3,4)\n",
      "mul(4,7)\n",
      "from operator import add, mul, sub\n",
      "sub(10,2)\n",
      "for z in range(10):\n",
      "    print(z)\n",
      "z\n",
      "[z for z in range(10)]\n",
      "z\n",
      "[zz for zz in range(10)]\n",
      "zz\n",
      "1\n",
      "2\n",
      "3\n",
      "_\n",
      "_ = 1\n",
      "4\n",
      "_\n",
      "del _\n",
      "_\n",
      "4\n",
      "_\n",
      "_79\n",
      "%history\n"
     ]
    }
   ],
   "source": [
    "%historyO"
   ]
  },
  {
   "cell_type": "code",
   "execution_count": 74,
   "metadata": {},
   "outputs": [
    {
     "data": {
      "text/plain": [
       "True"
      ]
     },
     "execution_count": 74,
     "metadata": {},
     "output_type": "execute_result"
    }
   ],
   "source": [
    "callable(int)"
   ]
  },
  {
   "cell_type": "code",
   "execution_count": 75,
   "metadata": {},
   "outputs": [],
   "source": [
    "def x(a):\n",
    "    return a"
   ]
  },
  {
   "cell_type": "code",
   "execution_count": 76,
   "metadata": {},
   "outputs": [],
   "source": [
    "y = lambda a: a"
   ]
  },
  {
   "cell_type": "code",
   "execution_count": 77,
   "metadata": {},
   "outputs": [
    {
     "data": {
      "text/plain": [
       "<function __main__.x(a)>"
      ]
     },
     "execution_count": 77,
     "metadata": {},
     "output_type": "execute_result"
    }
   ],
   "source": [
    "x"
   ]
  },
  {
   "cell_type": "code",
   "execution_count": 78,
   "metadata": {},
   "outputs": [
    {
     "data": {
      "text/plain": [
       "<function __main__.<lambda>(a)>"
      ]
     },
     "execution_count": 78,
     "metadata": {},
     "output_type": "execute_result"
    }
   ],
   "source": [
    "y"
   ]
  },
  {
   "cell_type": "code",
   "execution_count": 79,
   "metadata": {},
   "outputs": [
    {
     "data": {
      "text/plain": [
       "['__annotations__',\n",
       " '__call__',\n",
       " '__class__',\n",
       " '__closure__',\n",
       " '__code__',\n",
       " '__defaults__',\n",
       " '__delattr__',\n",
       " '__dict__',\n",
       " '__dir__',\n",
       " '__doc__',\n",
       " '__eq__',\n",
       " '__format__',\n",
       " '__ge__',\n",
       " '__get__',\n",
       " '__getattribute__',\n",
       " '__globals__',\n",
       " '__gt__',\n",
       " '__hash__',\n",
       " '__init__',\n",
       " '__init_subclass__',\n",
       " '__kwdefaults__',\n",
       " '__le__',\n",
       " '__lt__',\n",
       " '__module__',\n",
       " '__name__',\n",
       " '__ne__',\n",
       " '__new__',\n",
       " '__qualname__',\n",
       " '__reduce__',\n",
       " '__reduce_ex__',\n",
       " '__repr__',\n",
       " '__setattr__',\n",
       " '__sizeof__',\n",
       " '__str__',\n",
       " '__subclasshook__']"
      ]
     },
     "execution_count": 79,
     "metadata": {},
     "output_type": "execute_result"
    }
   ],
   "source": [
    "dir(x)"
   ]
  },
  {
   "cell_type": "code",
   "execution_count": 80,
   "metadata": {},
   "outputs": [
    {
     "data": {
      "text/plain": [
       "set()"
      ]
     },
     "execution_count": 80,
     "metadata": {},
     "output_type": "execute_result"
    }
   ],
   "source": [
    "set(dir(x))^set(dir(y))"
   ]
  },
  {
   "cell_type": "code",
   "execution_count": 81,
   "metadata": {},
   "outputs": [
    {
     "data": {
      "text/plain": [
       "'<lambda>'"
      ]
     },
     "execution_count": 81,
     "metadata": {},
     "output_type": "execute_result"
    }
   ],
   "source": [
    "y.__name__"
   ]
  },
  {
   "cell_type": "code",
   "execution_count": 82,
   "metadata": {},
   "outputs": [
    {
     "data": {
      "text/plain": [
       "'x'"
      ]
     },
     "execution_count": 82,
     "metadata": {},
     "output_type": "execute_result"
    }
   ],
   "source": [
    "x.__name__"
   ]
  },
  {
   "cell_type": "code",
   "execution_count": 83,
   "metadata": {},
   "outputs": [],
   "source": [
    "from itertools import cycle"
   ]
  },
  {
   "cell_type": "code",
   "execution_count": 84,
   "metadata": {},
   "outputs": [],
   "source": [
    "a = cycle([1,2,3])"
   ]
  },
  {
   "cell_type": "code",
   "execution_count": 85,
   "metadata": {},
   "outputs": [
    {
     "data": {
      "text/plain": [
       "<itertools.cycle at 0x1ded1fc59d8>"
      ]
     },
     "execution_count": 85,
     "metadata": {},
     "output_type": "execute_result"
    }
   ],
   "source": [
    "a"
   ]
  },
  {
   "cell_type": "code",
   "execution_count": 102,
   "metadata": {},
   "outputs": [
    {
     "data": {
      "text/plain": [
       "1"
      ]
     },
     "execution_count": 102,
     "metadata": {},
     "output_type": "execute_result"
    }
   ],
   "source": [
    "next(a)"
   ]
  },
  {
   "cell_type": "code",
   "execution_count": 103,
   "metadata": {},
   "outputs": [],
   "source": [
    "import inspect"
   ]
  },
  {
   "cell_type": "code",
   "execution_count": 107,
   "metadata": {},
   "outputs": [
    {
     "name": "stdout",
     "output_type": "stream",
     "text": [
      "    def parser_f(filepath_or_buffer,\n",
      "                 sep=sep,\n",
      "                 delimiter=None,\n",
      "\n",
      "                 # Column and Index Locations and Names\n",
      "                 header='infer',\n",
      "                 names=None,\n",
      "                 index_col=None,\n",
      "                 usecols=None,\n",
      "                 squeeze=False,\n",
      "                 prefix=None,\n",
      "                 mangle_dupe_cols=True,\n",
      "\n",
      "                 # General Parsing Configuration\n",
      "                 dtype=None,\n",
      "                 engine=None,\n",
      "                 converters=None,\n",
      "                 true_values=None,\n",
      "                 false_values=None,\n",
      "                 skipinitialspace=False,\n",
      "                 skiprows=None,\n",
      "                 skipfooter=0,\n",
      "                 nrows=None,\n",
      "\n",
      "                 # NA and Missing Data Handling\n",
      "                 na_values=None,\n",
      "                 keep_default_na=True,\n",
      "                 na_filter=True,\n",
      "                 verbose=False,\n",
      "                 skip_blank_lines=True,\n",
      "\n",
      "                 # Datetime Handling\n",
      "                 parse_dates=False,\n",
      "                 infer_datetime_format=False,\n",
      "                 keep_date_col=False,\n",
      "                 date_parser=None,\n",
      "                 dayfirst=False,\n",
      "\n",
      "                 # Iteration\n",
      "                 iterator=False,\n",
      "                 chunksize=None,\n",
      "\n",
      "                 # Quoting, Compression, and File Format\n",
      "                 compression='infer',\n",
      "                 thousands=None,\n",
      "                 decimal=b'.',\n",
      "                 lineterminator=None,\n",
      "                 quotechar='\"',\n",
      "                 quoting=csv.QUOTE_MINIMAL,\n",
      "                 doublequote=True,\n",
      "                 escapechar=None,\n",
      "                 comment=None,\n",
      "                 encoding=None,\n",
      "                 dialect=None,\n",
      "                 tupleize_cols=None,\n",
      "\n",
      "                 # Error Handling\n",
      "                 error_bad_lines=True,\n",
      "                 warn_bad_lines=True,\n",
      "\n",
      "                 # Internal\n",
      "                 delim_whitespace=False,\n",
      "                 low_memory=_c_parser_defaults['low_memory'],\n",
      "                 memory_map=False,\n",
      "                 float_precision=None):\n",
      "\n",
      "        # deprecate read_table GH21948\n",
      "        if name == \"read_table\":\n",
      "            if sep is False and delimiter is None:\n",
      "                warnings.warn(\"read_table is deprecated, use read_csv \"\n",
      "                              \"instead, passing sep='\\\\t'.\",\n",
      "                              FutureWarning, stacklevel=2)\n",
      "            else:\n",
      "                warnings.warn(\"read_table is deprecated, use read_csv \"\n",
      "                              \"instead.\",\n",
      "                              FutureWarning, stacklevel=2)\n",
      "            if sep is False:\n",
      "                sep = default_sep\n",
      "\n",
      "        # gh-23761\n",
      "        #\n",
      "        # When a dialect is passed, it overrides any of the overlapping\n",
      "        # parameters passed in directly. We don't want to warn if the\n",
      "        # default parameters were passed in (since it probably means\n",
      "        # that the user didn't pass them in explicitly in the first place).\n",
      "        #\n",
      "        # \"delimiter\" is the annoying corner case because we alias it to\n",
      "        # \"sep\" before doing comparison to the dialect values later on.\n",
      "        # Thus, we need a flag to indicate that we need to \"override\"\n",
      "        # the comparison to dialect values by checking if default values\n",
      "        # for BOTH \"delimiter\" and \"sep\" were provided.\n",
      "        if dialect is not None:\n",
      "            sep_override = delimiter is None and sep == default_sep\n",
      "            kwds = dict(sep_override=sep_override)\n",
      "        else:\n",
      "            kwds = dict()\n",
      "\n",
      "        # Alias sep -> delimiter.\n",
      "        if delimiter is None:\n",
      "            delimiter = sep\n",
      "\n",
      "        if delim_whitespace and delimiter != default_sep:\n",
      "            raise ValueError(\"Specified a delimiter with both sep and\"\n",
      "                             \" delim_whitespace=True; you can only\"\n",
      "                             \" specify one.\")\n",
      "\n",
      "        if engine is not None:\n",
      "            engine_specified = True\n",
      "        else:\n",
      "            engine = 'c'\n",
      "            engine_specified = False\n",
      "\n",
      "        kwds.update(delimiter=delimiter,\n",
      "                    engine=engine,\n",
      "                    dialect=dialect,\n",
      "                    compression=compression,\n",
      "                    engine_specified=engine_specified,\n",
      "\n",
      "                    doublequote=doublequote,\n",
      "                    escapechar=escapechar,\n",
      "                    quotechar=quotechar,\n",
      "                    quoting=quoting,\n",
      "                    skipinitialspace=skipinitialspace,\n",
      "                    lineterminator=lineterminator,\n",
      "\n",
      "                    header=header,\n",
      "                    index_col=index_col,\n",
      "                    names=names,\n",
      "                    prefix=prefix,\n",
      "                    skiprows=skiprows,\n",
      "                    skipfooter=skipfooter,\n",
      "                    na_values=na_values,\n",
      "                    true_values=true_values,\n",
      "                    false_values=false_values,\n",
      "                    keep_default_na=keep_default_na,\n",
      "                    thousands=thousands,\n",
      "                    comment=comment,\n",
      "                    decimal=decimal,\n",
      "\n",
      "                    parse_dates=parse_dates,\n",
      "                    keep_date_col=keep_date_col,\n",
      "                    dayfirst=dayfirst,\n",
      "                    date_parser=date_parser,\n",
      "\n",
      "                    nrows=nrows,\n",
      "                    iterator=iterator,\n",
      "                    chunksize=chunksize,\n",
      "                    converters=converters,\n",
      "                    dtype=dtype,\n",
      "                    usecols=usecols,\n",
      "                    verbose=verbose,\n",
      "                    encoding=encoding,\n",
      "                    squeeze=squeeze,\n",
      "                    memory_map=memory_map,\n",
      "                    float_precision=float_precision,\n",
      "\n",
      "                    na_filter=na_filter,\n",
      "                    delim_whitespace=delim_whitespace,\n",
      "                    warn_bad_lines=warn_bad_lines,\n",
      "                    error_bad_lines=error_bad_lines,\n",
      "                    low_memory=low_memory,\n",
      "                    mangle_dupe_cols=mangle_dupe_cols,\n",
      "                    tupleize_cols=tupleize_cols,\n",
      "                    infer_datetime_format=infer_datetime_format,\n",
      "                    skip_blank_lines=skip_blank_lines)\n",
      "\n",
      "        return _read(filepath_or_buffer, kwds)\n",
      "\n"
     ]
    }
   ],
   "source": [
    "print(inspect.getsource(pd.read_csv))"
   ]
  },
  {
   "cell_type": "code",
   "execution_count": 105,
   "metadata": {},
   "outputs": [],
   "source": [
    "import pandas as pd"
   ]
  },
  {
   "cell_type": "code",
   "execution_count": 108,
   "metadata": {},
   "outputs": [],
   "source": [
    "from itertools import count"
   ]
  },
  {
   "cell_type": "code",
   "execution_count": 112,
   "metadata": {},
   "outputs": [],
   "source": [
    "??count"
   ]
  },
  {
   "cell_type": "code",
   "execution_count": 114,
   "metadata": {},
   "outputs": [],
   "source": [
    "a = count()"
   ]
  },
  {
   "cell_type": "code",
   "execution_count": 141,
   "metadata": {},
   "outputs": [
    {
     "data": {
      "text/plain": [
       "26"
      ]
     },
     "execution_count": 141,
     "metadata": {},
     "output_type": "execute_result"
    }
   ],
   "source": [
    "next(a)"
   ]
  },
  {
   "cell_type": "code",
   "execution_count": null,
   "metadata": {},
   "outputs": [],
   "source": []
  }
 ],
 "metadata": {
  "kernelspec": {
   "display_name": "Python 3",
   "language": "python",
   "name": "python3"
  },
  "language_info": {
   "codemirror_mode": {
    "name": "ipython",
    "version": 3
   },
   "file_extension": ".py",
   "mimetype": "text/x-python",
   "name": "python",
   "nbconvert_exporter": "python",
   "pygments_lexer": "ipython3",
   "version": "3.7.3"
  }
 },
 "nbformat": 4,
 "nbformat_minor": 2
}
