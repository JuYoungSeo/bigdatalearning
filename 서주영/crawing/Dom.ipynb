{
 "cells": [
  {
   "cell_type": "markdown",
   "metadata": {},
   "source": [
    "Dom을 만들기위해 Paser가 필요"
   ]
  },
  {
   "cell_type": "code",
   "execution_count": 1,
   "metadata": {},
   "outputs": [],
   "source": [
    "from bs4 import BeautifulSoup"
   ]
  },
  {
   "cell_type": "markdown",
   "metadata": {},
   "source": [
    "Parser : 기본적으로 lxml을 사용할꺼임.\n",
    "- 정확하게 웰폼에서만 잘돌아감."
   ]
  },
  {
   "cell_type": "markdown",
   "metadata": {},
   "source": [
    "html.parser : 비교적 느리지만 준수하게 사용함."
   ]
  },
  {
   "cell_type": "code",
   "execution_count": 207,
   "metadata": {},
   "outputs": [],
   "source": [
    "html = '''\n",
    "<html>\n",
    "\t<head></head>\n",
    "\t<body>\n",
    "    \t<div id=\"result\">\n",
    "        \t<p class=\"abc\">\n",
    "            \t<a class=\"red\" id = \"red2\" href = \"https:naver.com\">go to open</a>\n",
    "                <a class=\"blue\">hi everyone</a>\n",
    "                <div> <a> third a </a></div>\n",
    "            </p>\n",
    "        </div>\n",
    "\t</body>\n",
    "</html>\n",
    "'''"
   ]
  },
  {
   "cell_type": "code",
   "execution_count": 208,
   "metadata": {},
   "outputs": [],
   "source": [
    "dom = BeautifulSoup(html, \"html.parser\") # lxml, html.pareser"
   ]
  },
  {
   "cell_type": "code",
   "execution_count": 209,
   "metadata": {},
   "outputs": [
    {
     "name": "stdout",
     "output_type": "stream",
     "text": [
      "<html>\n",
      " <head>\n",
      " </head>\n",
      " <body>\n",
      "  <div id=\"result\">\n",
      "   <p class=\"abc\">\n",
      "    <a class=\"red\" href=\"https:naver.com\" id=\"red2\">\n",
      "     go to open\n",
      "    </a>\n",
      "    <a class=\"blue\">\n",
      "     hi everyone\n",
      "    </a>\n",
      "    <div>\n",
      "     <a>\n",
      "      third a\n",
      "     </a>\n",
      "    </div>\n",
      "   </p>\n",
      "  </div>\n",
      " </body>\n",
      "</html>\n",
      "\n"
     ]
    }
   ],
   "source": [
    "print(dom.prettify())"
   ]
  },
  {
   "cell_type": "code",
   "execution_count": 210,
   "metadata": {},
   "outputs": [
    {
     "data": {
      "text/plain": [
       "<a class=\"red\" href=\"https:naver.com\" id=\"red2\">go to open</a>"
      ]
     },
     "execution_count": 210,
     "metadata": {},
     "output_type": "execute_result"
    }
   ],
   "source": [
    "dom.html.body.div.p.a"
   ]
  },
  {
   "cell_type": "code",
   "execution_count": 211,
   "metadata": {},
   "outputs": [
    {
     "data": {
      "text/plain": [
       "[<a class=\"red\" href=\"https:naver.com\" id=\"red2\">go to open</a>,\n",
       " <a class=\"blue\">hi everyone</a>,\n",
       " <a> third a </a>]"
      ]
     },
     "execution_count": 211,
     "metadata": {},
     "output_type": "execute_result"
    }
   ],
   "source": [
    "dom.find_all('a')"
   ]
  },
  {
   "cell_type": "code",
   "execution_count": 212,
   "metadata": {},
   "outputs": [
    {
     "data": {
      "text/plain": [
       "<list_iterator at 0x2ee6cbb2630>"
      ]
     },
     "execution_count": 212,
     "metadata": {},
     "output_type": "execute_result"
    }
   ],
   "source": [
    "dom.html.body.div.p.children"
   ]
  },
  {
   "cell_type": "code",
   "execution_count": 213,
   "metadata": {},
   "outputs": [
    {
     "name": "stdout",
     "output_type": "stream",
     "text": [
      "\n",
      "\n",
      "<a class=\"red\" href=\"https:naver.com\" id=\"red2\">go to open</a>\n",
      "\n",
      "\n",
      "<a class=\"blue\">hi everyone</a>\n",
      "\n",
      "\n",
      "<div> <a> third a </a></div>\n",
      "\n",
      "\n"
     ]
    }
   ],
   "source": [
    "for i in dom.html.body.div.p.children:\n",
    "    print(i)"
   ]
  },
  {
   "cell_type": "code",
   "execution_count": 214,
   "metadata": {},
   "outputs": [
    {
     "data": {
      "text/plain": [
       "['HTML_FORMATTERS',\n",
       " 'XML_FORMATTERS',\n",
       " '__bool__',\n",
       " '__call__',\n",
       " '__class__',\n",
       " '__contains__',\n",
       " '__copy__',\n",
       " '__delattr__',\n",
       " '__delitem__',\n",
       " '__dict__',\n",
       " '__dir__',\n",
       " '__doc__',\n",
       " '__eq__',\n",
       " '__format__',\n",
       " '__ge__',\n",
       " '__getattr__',\n",
       " '__getattribute__',\n",
       " '__getitem__',\n",
       " '__gt__',\n",
       " '__hash__',\n",
       " '__init__',\n",
       " '__init_subclass__',\n",
       " '__iter__',\n",
       " '__le__',\n",
       " '__len__',\n",
       " '__lt__',\n",
       " '__module__',\n",
       " '__ne__',\n",
       " '__new__',\n",
       " '__reduce__',\n",
       " '__reduce_ex__',\n",
       " '__repr__',\n",
       " '__setattr__',\n",
       " '__setitem__',\n",
       " '__sizeof__',\n",
       " '__str__',\n",
       " '__subclasshook__',\n",
       " '__unicode__',\n",
       " '__weakref__',\n",
       " '_all_strings',\n",
       " '_find_all',\n",
       " '_find_one',\n",
       " '_formatter_for_name',\n",
       " '_is_xml',\n",
       " '_lastRecursiveChild',\n",
       " '_last_descendant',\n",
       " '_should_pretty_print',\n",
       " 'append',\n",
       " 'attrs',\n",
       " 'can_be_empty_element',\n",
       " 'childGenerator',\n",
       " 'children',\n",
       " 'clear',\n",
       " 'contents',\n",
       " 'decode',\n",
       " 'decode_contents',\n",
       " 'decompose',\n",
       " 'descendants',\n",
       " 'encode',\n",
       " 'encode_contents',\n",
       " 'extend',\n",
       " 'extract',\n",
       " 'fetchNextSiblings',\n",
       " 'fetchParents',\n",
       " 'fetchPrevious',\n",
       " 'fetchPreviousSiblings',\n",
       " 'find',\n",
       " 'findAll',\n",
       " 'findAllNext',\n",
       " 'findAllPrevious',\n",
       " 'findChild',\n",
       " 'findChildren',\n",
       " 'findNext',\n",
       " 'findNextSibling',\n",
       " 'findNextSiblings',\n",
       " 'findParent',\n",
       " 'findParents',\n",
       " 'findPrevious',\n",
       " 'findPreviousSibling',\n",
       " 'findPreviousSiblings',\n",
       " 'find_all',\n",
       " 'find_all_next',\n",
       " 'find_all_previous',\n",
       " 'find_next',\n",
       " 'find_next_sibling',\n",
       " 'find_next_siblings',\n",
       " 'find_parent',\n",
       " 'find_parents',\n",
       " 'find_previous',\n",
       " 'find_previous_sibling',\n",
       " 'find_previous_siblings',\n",
       " 'format_string',\n",
       " 'get',\n",
       " 'getText',\n",
       " 'get_attribute_list',\n",
       " 'get_text',\n",
       " 'has_attr',\n",
       " 'has_key',\n",
       " 'hidden',\n",
       " 'index',\n",
       " 'insert',\n",
       " 'insert_after',\n",
       " 'insert_before',\n",
       " 'isSelfClosing',\n",
       " 'is_empty_element',\n",
       " 'known_xml',\n",
       " 'name',\n",
       " 'namespace',\n",
       " 'next',\n",
       " 'nextGenerator',\n",
       " 'nextSibling',\n",
       " 'nextSiblingGenerator',\n",
       " 'next_element',\n",
       " 'next_elements',\n",
       " 'next_sibling',\n",
       " 'next_siblings',\n",
       " 'parent',\n",
       " 'parentGenerator',\n",
       " 'parents',\n",
       " 'parserClass',\n",
       " 'parser_class',\n",
       " 'prefix',\n",
       " 'preserve_whitespace_tags',\n",
       " 'prettify',\n",
       " 'previous',\n",
       " 'previousGenerator',\n",
       " 'previousSibling',\n",
       " 'previousSiblingGenerator',\n",
       " 'previous_element',\n",
       " 'previous_elements',\n",
       " 'previous_sibling',\n",
       " 'previous_siblings',\n",
       " 'recursiveChildGenerator',\n",
       " 'renderContents',\n",
       " 'replaceWith',\n",
       " 'replaceWithChildren',\n",
       " 'replace_with',\n",
       " 'replace_with_children',\n",
       " 'select',\n",
       " 'select_one',\n",
       " 'setup',\n",
       " 'string',\n",
       " 'strings',\n",
       " 'stripped_strings',\n",
       " 'text',\n",
       " 'unwrap',\n",
       " 'wrap']"
      ]
     },
     "execution_count": 214,
     "metadata": {},
     "output_type": "execute_result"
    }
   ],
   "source": [
    "dir(dom.html.body.div.p)"
   ]
  },
  {
   "cell_type": "code",
   "execution_count": 215,
   "metadata": {},
   "outputs": [
    {
     "data": {
      "text/plain": [
       "{'class': ['red'], 'id': 'red2', 'href': 'https:naver.com'}"
      ]
     },
     "execution_count": 215,
     "metadata": {},
     "output_type": "execute_result"
    }
   ],
   "source": [
    "dom.a.attrs"
   ]
  },
  {
   "cell_type": "code",
   "execution_count": 216,
   "metadata": {},
   "outputs": [
    {
     "data": {
      "text/plain": [
       "['HTML_FORMATTERS',\n",
       " 'XML_FORMATTERS',\n",
       " '__bool__',\n",
       " '__call__',\n",
       " '__class__',\n",
       " '__contains__',\n",
       " '__copy__',\n",
       " '__delattr__',\n",
       " '__delitem__',\n",
       " '__dict__',\n",
       " '__dir__',\n",
       " '__doc__',\n",
       " '__eq__',\n",
       " '__format__',\n",
       " '__ge__',\n",
       " '__getattr__',\n",
       " '__getattribute__',\n",
       " '__getitem__',\n",
       " '__gt__',\n",
       " '__hash__',\n",
       " '__init__',\n",
       " '__init_subclass__',\n",
       " '__iter__',\n",
       " '__le__',\n",
       " '__len__',\n",
       " '__lt__',\n",
       " '__module__',\n",
       " '__ne__',\n",
       " '__new__',\n",
       " '__reduce__',\n",
       " '__reduce_ex__',\n",
       " '__repr__',\n",
       " '__setattr__',\n",
       " '__setitem__',\n",
       " '__sizeof__',\n",
       " '__str__',\n",
       " '__subclasshook__',\n",
       " '__unicode__',\n",
       " '__weakref__',\n",
       " '_all_strings',\n",
       " '_find_all',\n",
       " '_find_one',\n",
       " '_formatter_for_name',\n",
       " '_is_xml',\n",
       " '_lastRecursiveChild',\n",
       " '_last_descendant',\n",
       " '_should_pretty_print',\n",
       " 'append',\n",
       " 'attrs',\n",
       " 'can_be_empty_element',\n",
       " 'childGenerator',\n",
       " 'children',\n",
       " 'clear',\n",
       " 'contents',\n",
       " 'decode',\n",
       " 'decode_contents',\n",
       " 'decompose',\n",
       " 'descendants',\n",
       " 'encode',\n",
       " 'encode_contents',\n",
       " 'extend',\n",
       " 'extract',\n",
       " 'fetchNextSiblings',\n",
       " 'fetchParents',\n",
       " 'fetchPrevious',\n",
       " 'fetchPreviousSiblings',\n",
       " 'find',\n",
       " 'findAll',\n",
       " 'findAllNext',\n",
       " 'findAllPrevious',\n",
       " 'findChild',\n",
       " 'findChildren',\n",
       " 'findNext',\n",
       " 'findNextSibling',\n",
       " 'findNextSiblings',\n",
       " 'findParent',\n",
       " 'findParents',\n",
       " 'findPrevious',\n",
       " 'findPreviousSibling',\n",
       " 'findPreviousSiblings',\n",
       " 'find_all',\n",
       " 'find_all_next',\n",
       " 'find_all_previous',\n",
       " 'find_next',\n",
       " 'find_next_sibling',\n",
       " 'find_next_siblings',\n",
       " 'find_parent',\n",
       " 'find_parents',\n",
       " 'find_previous',\n",
       " 'find_previous_sibling',\n",
       " 'find_previous_siblings',\n",
       " 'format_string',\n",
       " 'get',\n",
       " 'getText',\n",
       " 'get_attribute_list',\n",
       " 'get_text',\n",
       " 'has_attr',\n",
       " 'has_key',\n",
       " 'hidden',\n",
       " 'index',\n",
       " 'insert',\n",
       " 'insert_after',\n",
       " 'insert_before',\n",
       " 'isSelfClosing',\n",
       " 'is_empty_element',\n",
       " 'known_xml',\n",
       " 'name',\n",
       " 'namespace',\n",
       " 'next',\n",
       " 'nextGenerator',\n",
       " 'nextSibling',\n",
       " 'nextSiblingGenerator',\n",
       " 'next_element',\n",
       " 'next_elements',\n",
       " 'next_sibling',\n",
       " 'next_siblings',\n",
       " 'parent',\n",
       " 'parentGenerator',\n",
       " 'parents',\n",
       " 'parserClass',\n",
       " 'parser_class',\n",
       " 'prefix',\n",
       " 'preserve_whitespace_tags',\n",
       " 'prettify',\n",
       " 'previous',\n",
       " 'previousGenerator',\n",
       " 'previousSibling',\n",
       " 'previousSiblingGenerator',\n",
       " 'previous_element',\n",
       " 'previous_elements',\n",
       " 'previous_sibling',\n",
       " 'previous_siblings',\n",
       " 'recursiveChildGenerator',\n",
       " 'renderContents',\n",
       " 'replaceWith',\n",
       " 'replaceWithChildren',\n",
       " 'replace_with',\n",
       " 'replace_with_children',\n",
       " 'select',\n",
       " 'select_one',\n",
       " 'setup',\n",
       " 'string',\n",
       " 'strings',\n",
       " 'stripped_strings',\n",
       " 'text',\n",
       " 'unwrap',\n",
       " 'wrap']"
      ]
     },
     "execution_count": 216,
     "metadata": {},
     "output_type": "execute_result"
    }
   ],
   "source": [
    "dir(dom.a)"
   ]
  },
  {
   "cell_type": "code",
   "execution_count": 217,
   "metadata": {},
   "outputs": [
    {
     "data": {
      "text/plain": [
       "['__add__',\n",
       " '__class__',\n",
       " '__contains__',\n",
       " '__delattr__',\n",
       " '__delitem__',\n",
       " '__dir__',\n",
       " '__doc__',\n",
       " '__eq__',\n",
       " '__format__',\n",
       " '__ge__',\n",
       " '__getattribute__',\n",
       " '__getitem__',\n",
       " '__gt__',\n",
       " '__hash__',\n",
       " '__iadd__',\n",
       " '__imul__',\n",
       " '__init__',\n",
       " '__init_subclass__',\n",
       " '__iter__',\n",
       " '__le__',\n",
       " '__len__',\n",
       " '__lt__',\n",
       " '__mul__',\n",
       " '__ne__',\n",
       " '__new__',\n",
       " '__reduce__',\n",
       " '__reduce_ex__',\n",
       " '__repr__',\n",
       " '__reversed__',\n",
       " '__rmul__',\n",
       " '__setattr__',\n",
       " '__setitem__',\n",
       " '__sizeof__',\n",
       " '__str__',\n",
       " '__subclasshook__',\n",
       " 'append',\n",
       " 'clear',\n",
       " 'copy',\n",
       " 'count',\n",
       " 'extend',\n",
       " 'index',\n",
       " 'insert',\n",
       " 'pop',\n",
       " 'remove',\n",
       " 'reverse',\n",
       " 'sort']"
      ]
     },
     "execution_count": 217,
     "metadata": {},
     "output_type": "execute_result"
    }
   ],
   "source": [
    "dir(dom.a[\"class\"])"
   ]
  },
  {
   "cell_type": "code",
   "execution_count": 218,
   "metadata": {},
   "outputs": [
    {
     "name": "stdout",
     "output_type": "stream",
     "text": [
      "<class 'bs4.element.NavigableString'> \n",
      "\n",
      "<class 'bs4.element.Tag'> <a class=\"red\" href=\"https:naver.com\" id=\"red2\">go to open</a>\n",
      "<class 'bs4.element.NavigableString'> \n",
      "\n",
      "<class 'bs4.element.Tag'> <a class=\"blue\">hi everyone</a>\n",
      "<class 'bs4.element.NavigableString'> \n",
      "\n",
      "<class 'bs4.element.Tag'> <div> <a> third a </a></div>\n",
      "<class 'bs4.element.NavigableString'> \n",
      "\n"
     ]
    }
   ],
   "source": [
    "for _ in [x for x in dom.p.children]:\n",
    "    print(type(_), _)"
   ]
  },
  {
   "cell_type": "code",
   "execution_count": 219,
   "metadata": {},
   "outputs": [
    {
     "data": {
      "text/plain": [
       "{'class': ['red'], 'id': 'red2', 'href': 'https:naver.com'}"
      ]
     },
     "execution_count": 219,
     "metadata": {},
     "output_type": "execute_result"
    }
   ],
   "source": [
    "dom.a.attrs"
   ]
  },
  {
   "cell_type": "code",
   "execution_count": 220,
   "metadata": {},
   "outputs": [
    {
     "data": {
      "text/plain": [
       "{'class': ['blue']}"
      ]
     },
     "execution_count": 220,
     "metadata": {},
     "output_type": "execute_result"
    }
   ],
   "source": [
    "[x for x in dom.p.children][3].attrs"
   ]
  },
  {
   "cell_type": "code",
   "execution_count": 221,
   "metadata": {},
   "outputs": [
    {
     "data": {
      "text/plain": [
       "[<a class=\"red\" href=\"https:naver.com\" id=\"red2\">go to open</a>,\n",
       " <a class=\"blue\">hi everyone</a>,\n",
       " <a> third a </a>]"
      ]
     },
     "execution_count": 221,
     "metadata": {},
     "output_type": "execute_result"
    }
   ],
   "source": [
    "dom.find_all('a')"
   ]
  },
  {
   "cell_type": "code",
   "execution_count": 222,
   "metadata": {},
   "outputs": [
    {
     "data": {
      "text/plain": [
       "[<a class=\"red\" href=\"https:naver.com\" id=\"red2\">go to open</a>]"
      ]
     },
     "execution_count": 222,
     "metadata": {},
     "output_type": "execute_result"
    }
   ],
   "source": [
    "dom.find_all('',attrs={'class':'red'})"
   ]
  },
  {
   "cell_type": "code",
   "execution_count": 223,
   "metadata": {},
   "outputs": [
    {
     "data": {
      "text/plain": [
       "['go to open']"
      ]
     },
     "execution_count": 223,
     "metadata": {},
     "output_type": "execute_result"
    }
   ],
   "source": [
    "dom.find_all(text = 'go to open')"
   ]
  },
  {
   "cell_type": "code",
   "execution_count": 224,
   "metadata": {},
   "outputs": [
    {
     "data": {
      "text/plain": [
       "[<a class=\"red\" href=\"https:naver.com\" id=\"red2\">go to open</a>]"
      ]
     },
     "execution_count": 224,
     "metadata": {},
     "output_type": "execute_result"
    }
   ],
   "source": [
    "dom.find_all('a', limit=1)"
   ]
  },
  {
   "cell_type": "code",
   "execution_count": 225,
   "metadata": {},
   "outputs": [
    {
     "data": {
      "text/plain": [
       "[]"
      ]
     },
     "execution_count": 225,
     "metadata": {},
     "output_type": "execute_result"
    }
   ],
   "source": [
    "dom.find_all('a', recursive=False) # 내가 어디까지 돌건지 넣어줄수 있음. False로 두면 자식요소만 찾겠다는 얘기"
   ]
  },
  {
   "cell_type": "markdown",
   "metadata": {},
   "source": [
    "find_parent, find_next_sibling, find_previous_siblings"
   ]
  },
  {
   "cell_type": "code",
   "execution_count": 226,
   "metadata": {},
   "outputs": [
    {
     "data": {
      "text/plain": [
       "<a class=\"blue\">hi everyone</a>"
      ]
     },
     "execution_count": 226,
     "metadata": {},
     "output_type": "execute_result"
    }
   ],
   "source": [
    "dom.a.find_next_sibling()"
   ]
  },
  {
   "cell_type": "code",
   "execution_count": 227,
   "metadata": {},
   "outputs": [
    {
     "data": {
      "text/plain": [
       "3"
      ]
     },
     "execution_count": 227,
     "metadata": {},
     "output_type": "execute_result"
    }
   ],
   "source": [
    "len(dom.find_all('a')) # 내가 어디까지 돌건지 넣어줄수 있음. False로 두면 자식요소만 찾겠다는 얘기"
   ]
  },
  {
   "cell_type": "code",
   "execution_count": 228,
   "metadata": {},
   "outputs": [
    {
     "data": {
      "text/plain": [
       "2"
      ]
     },
     "execution_count": 228,
     "metadata": {},
     "output_type": "execute_result"
    }
   ],
   "source": [
    "len(dom.p.find_all('a', recursive=False)) # 내가 어디까지 돌건지 넣어줄수 있음. False로 두면 자식요소만 찾겠다는 얘기"
   ]
  },
  {
   "cell_type": "code",
   "execution_count": 229,
   "metadata": {},
   "outputs": [
    {
     "data": {
      "text/plain": [
       "['__call__',\n",
       " '__class__',\n",
       " '__delattr__',\n",
       " '__dir__',\n",
       " '__doc__',\n",
       " '__eq__',\n",
       " '__format__',\n",
       " '__func__',\n",
       " '__ge__',\n",
       " '__get__',\n",
       " '__getattribute__',\n",
       " '__gt__',\n",
       " '__hash__',\n",
       " '__init__',\n",
       " '__init_subclass__',\n",
       " '__le__',\n",
       " '__lt__',\n",
       " '__ne__',\n",
       " '__new__',\n",
       " '__reduce__',\n",
       " '__reduce_ex__',\n",
       " '__repr__',\n",
       " '__self__',\n",
       " '__setattr__',\n",
       " '__sizeof__',\n",
       " '__str__',\n",
       " '__subclasshook__']"
      ]
     },
     "execution_count": 229,
     "metadata": {},
     "output_type": "execute_result"
    }
   ],
   "source": [
    "dir(dom.p.div.a.find_parent)"
   ]
  },
  {
   "cell_type": "code",
   "execution_count": 230,
   "metadata": {},
   "outputs": [
    {
     "data": {
      "text/plain": [
       "'div'"
      ]
     },
     "execution_count": 230,
     "metadata": {},
     "output_type": "execute_result"
    }
   ],
   "source": [
    "dom.p.div.a.find_parent().name"
   ]
  },
  {
   "cell_type": "code",
   "execution_count": 231,
   "metadata": {},
   "outputs": [
    {
     "name": "stdout",
     "output_type": "stream",
     "text": [
      "div\n",
      "p\n",
      "div\n",
      "body\n",
      "html\n",
      "[document]\n"
     ]
    }
   ],
   "source": [
    "for _ in dom.p.div.a.find_parents():\n",
    "    print(_.name)"
   ]
  },
  {
   "cell_type": "code",
   "execution_count": 232,
   "metadata": {},
   "outputs": [
    {
     "data": {
      "text/plain": [
       "[<a class=\"blue\">hi everyone</a>,\n",
       " <a class=\"red\" href=\"https:naver.com\" id=\"red2\">go to open</a>]"
      ]
     },
     "execution_count": 232,
     "metadata": {},
     "output_type": "execute_result"
    }
   ],
   "source": [
    "dom.p.div.a.find_parent().find_previous_siblings()"
   ]
  },
  {
   "cell_type": "code",
   "execution_count": 233,
   "metadata": {},
   "outputs": [
    {
     "data": {
      "text/plain": [
       "['HTML_FORMATTERS',\n",
       " 'XML_FORMATTERS',\n",
       " '__bool__',\n",
       " '__call__',\n",
       " '__class__',\n",
       " '__contains__',\n",
       " '__copy__',\n",
       " '__delattr__',\n",
       " '__delitem__',\n",
       " '__dict__',\n",
       " '__dir__',\n",
       " '__doc__',\n",
       " '__eq__',\n",
       " '__format__',\n",
       " '__ge__',\n",
       " '__getattr__',\n",
       " '__getattribute__',\n",
       " '__getitem__',\n",
       " '__gt__',\n",
       " '__hash__',\n",
       " '__init__',\n",
       " '__init_subclass__',\n",
       " '__iter__',\n",
       " '__le__',\n",
       " '__len__',\n",
       " '__lt__',\n",
       " '__module__',\n",
       " '__ne__',\n",
       " '__new__',\n",
       " '__reduce__',\n",
       " '__reduce_ex__',\n",
       " '__repr__',\n",
       " '__setattr__',\n",
       " '__setitem__',\n",
       " '__sizeof__',\n",
       " '__str__',\n",
       " '__subclasshook__',\n",
       " '__unicode__',\n",
       " '__weakref__',\n",
       " '_all_strings',\n",
       " '_find_all',\n",
       " '_find_one',\n",
       " '_formatter_for_name',\n",
       " '_is_xml',\n",
       " '_lastRecursiveChild',\n",
       " '_last_descendant',\n",
       " '_should_pretty_print',\n",
       " 'append',\n",
       " 'attrs',\n",
       " 'can_be_empty_element',\n",
       " 'childGenerator',\n",
       " 'children',\n",
       " 'clear',\n",
       " 'contents',\n",
       " 'decode',\n",
       " 'decode_contents',\n",
       " 'decompose',\n",
       " 'descendants',\n",
       " 'encode',\n",
       " 'encode_contents',\n",
       " 'extend',\n",
       " 'extract',\n",
       " 'fetchNextSiblings',\n",
       " 'fetchParents',\n",
       " 'fetchPrevious',\n",
       " 'fetchPreviousSiblings',\n",
       " 'find',\n",
       " 'findAll',\n",
       " 'findAllNext',\n",
       " 'findAllPrevious',\n",
       " 'findChild',\n",
       " 'findChildren',\n",
       " 'findNext',\n",
       " 'findNextSibling',\n",
       " 'findNextSiblings',\n",
       " 'findParent',\n",
       " 'findParents',\n",
       " 'findPrevious',\n",
       " 'findPreviousSibling',\n",
       " 'findPreviousSiblings',\n",
       " 'find_all',\n",
       " 'find_all_next',\n",
       " 'find_all_previous',\n",
       " 'find_next',\n",
       " 'find_next_sibling',\n",
       " 'find_next_siblings',\n",
       " 'find_parent',\n",
       " 'find_parents',\n",
       " 'find_previous',\n",
       " 'find_previous_sibling',\n",
       " 'find_previous_siblings',\n",
       " 'format_string',\n",
       " 'get',\n",
       " 'getText',\n",
       " 'get_attribute_list',\n",
       " 'get_text',\n",
       " 'has_attr',\n",
       " 'has_key',\n",
       " 'hidden',\n",
       " 'index',\n",
       " 'insert',\n",
       " 'insert_after',\n",
       " 'insert_before',\n",
       " 'isSelfClosing',\n",
       " 'is_empty_element',\n",
       " 'known_xml',\n",
       " 'name',\n",
       " 'namespace',\n",
       " 'next',\n",
       " 'nextGenerator',\n",
       " 'nextSibling',\n",
       " 'nextSiblingGenerator',\n",
       " 'next_element',\n",
       " 'next_elements',\n",
       " 'next_sibling',\n",
       " 'next_siblings',\n",
       " 'parent',\n",
       " 'parentGenerator',\n",
       " 'parents',\n",
       " 'parserClass',\n",
       " 'parser_class',\n",
       " 'prefix',\n",
       " 'preserve_whitespace_tags',\n",
       " 'prettify',\n",
       " 'previous',\n",
       " 'previousGenerator',\n",
       " 'previousSibling',\n",
       " 'previousSiblingGenerator',\n",
       " 'previous_element',\n",
       " 'previous_elements',\n",
       " 'previous_sibling',\n",
       " 'previous_siblings',\n",
       " 'recursiveChildGenerator',\n",
       " 'renderContents',\n",
       " 'replaceWith',\n",
       " 'replaceWithChildren',\n",
       " 'replace_with',\n",
       " 'replace_with_children',\n",
       " 'select',\n",
       " 'select_one',\n",
       " 'setup',\n",
       " 'string',\n",
       " 'strings',\n",
       " 'stripped_strings',\n",
       " 'text',\n",
       " 'unwrap',\n",
       " 'wrap']"
      ]
     },
     "execution_count": 233,
     "metadata": {},
     "output_type": "execute_result"
    }
   ],
   "source": [
    "dir(dom.p.div.a)"
   ]
  },
  {
   "cell_type": "code",
   "execution_count": 234,
   "metadata": {},
   "outputs": [
    {
     "data": {
      "text/plain": [
       "['HTML_FORMATTERS',\n",
       " 'XML_FORMATTERS',\n",
       " '__bool__',\n",
       " '__call__',\n",
       " '__class__',\n",
       " '__contains__',\n",
       " '__copy__',\n",
       " '__delattr__',\n",
       " '__delitem__',\n",
       " '__dict__',\n",
       " '__dir__',\n",
       " '__doc__',\n",
       " '__eq__',\n",
       " '__format__',\n",
       " '__ge__',\n",
       " '__getattr__',\n",
       " '__getattribute__',\n",
       " '__getitem__',\n",
       " '__gt__',\n",
       " '__hash__',\n",
       " '__init__',\n",
       " '__init_subclass__',\n",
       " '__iter__',\n",
       " '__le__',\n",
       " '__len__',\n",
       " '__lt__',\n",
       " '__module__',\n",
       " '__ne__',\n",
       " '__new__',\n",
       " '__reduce__',\n",
       " '__reduce_ex__',\n",
       " '__repr__',\n",
       " '__setattr__',\n",
       " '__setitem__',\n",
       " '__sizeof__',\n",
       " '__str__',\n",
       " '__subclasshook__',\n",
       " '__unicode__',\n",
       " '__weakref__',\n",
       " '_all_strings',\n",
       " '_find_all',\n",
       " '_find_one',\n",
       " '_formatter_for_name',\n",
       " '_is_xml',\n",
       " '_lastRecursiveChild',\n",
       " '_last_descendant',\n",
       " '_should_pretty_print',\n",
       " 'append',\n",
       " 'attrs',\n",
       " 'can_be_empty_element',\n",
       " 'childGenerator',\n",
       " 'children',\n",
       " 'clear',\n",
       " 'contents',\n",
       " 'decode',\n",
       " 'decode_contents',\n",
       " 'decompose',\n",
       " 'descendants',\n",
       " 'encode',\n",
       " 'encode_contents',\n",
       " 'extend',\n",
       " 'extract',\n",
       " 'fetchNextSiblings',\n",
       " 'fetchParents',\n",
       " 'fetchPrevious',\n",
       " 'fetchPreviousSiblings',\n",
       " 'find',\n",
       " 'findAll',\n",
       " 'findAllNext',\n",
       " 'findAllPrevious',\n",
       " 'findChild',\n",
       " 'findChildren',\n",
       " 'findNext',\n",
       " 'findNextSibling',\n",
       " 'findNextSiblings',\n",
       " 'findParent',\n",
       " 'findParents',\n",
       " 'findPrevious',\n",
       " 'findPreviousSibling',\n",
       " 'findPreviousSiblings',\n",
       " 'find_all',\n",
       " 'find_all_next',\n",
       " 'find_all_previous',\n",
       " 'find_next',\n",
       " 'find_next_sibling',\n",
       " 'find_next_siblings',\n",
       " 'find_parent',\n",
       " 'find_parents',\n",
       " 'find_previous',\n",
       " 'find_previous_sibling',\n",
       " 'find_previous_siblings',\n",
       " 'format_string',\n",
       " 'get',\n",
       " 'getText',\n",
       " 'get_attribute_list',\n",
       " 'get_text',\n",
       " 'has_attr',\n",
       " 'has_key',\n",
       " 'hidden',\n",
       " 'index',\n",
       " 'insert',\n",
       " 'insert_after',\n",
       " 'insert_before',\n",
       " 'isSelfClosing',\n",
       " 'is_empty_element',\n",
       " 'known_xml',\n",
       " 'name',\n",
       " 'namespace',\n",
       " 'next',\n",
       " 'nextGenerator',\n",
       " 'nextSibling',\n",
       " 'nextSiblingGenerator',\n",
       " 'next_element',\n",
       " 'next_elements',\n",
       " 'next_sibling',\n",
       " 'next_siblings',\n",
       " 'parent',\n",
       " 'parentGenerator',\n",
       " 'parents',\n",
       " 'parserClass',\n",
       " 'parser_class',\n",
       " 'prefix',\n",
       " 'preserve_whitespace_tags',\n",
       " 'prettify',\n",
       " 'previous',\n",
       " 'previousGenerator',\n",
       " 'previousSibling',\n",
       " 'previousSiblingGenerator',\n",
       " 'previous_element',\n",
       " 'previous_elements',\n",
       " 'previous_sibling',\n",
       " 'previous_siblings',\n",
       " 'recursiveChildGenerator',\n",
       " 'renderContents',\n",
       " 'replaceWith',\n",
       " 'replaceWithChildren',\n",
       " 'replace_with',\n",
       " 'replace_with_children',\n",
       " 'select',\n",
       " 'select_one',\n",
       " 'setup',\n",
       " 'string',\n",
       " 'strings',\n",
       " 'stripped_strings',\n",
       " 'text',\n",
       " 'unwrap',\n",
       " 'wrap']"
      ]
     },
     "execution_count": 234,
     "metadata": {},
     "output_type": "execute_result"
    }
   ],
   "source": [
    "dir(dom.p.div.a.find_parent().find_previous())"
   ]
  },
  {
   "cell_type": "code",
   "execution_count": 236,
   "metadata": {},
   "outputs": [
    {
     "data": {
      "text/plain": [
       "<a class=\"blue\">hi everyone</a>"
      ]
     },
     "execution_count": 236,
     "metadata": {},
     "output_type": "execute_result"
    }
   ],
   "source": [
    "dom.p.div.a.find_parent().find_previous_sibling()"
   ]
  },
  {
   "cell_type": "code",
   "execution_count": 237,
   "metadata": {},
   "outputs": [],
   "source": [
    "url = \"http://pythonscraping.com/pages/page3.html\""
   ]
  },
  {
   "cell_type": "code",
   "execution_count": 497,
   "metadata": {},
   "outputs": [],
   "source": [
    "import requests\n",
    "import time\n",
    "\n",
    "#headers = {\"user-agent\":\"Mozilla/5.0 (Windows NT 10.0; Win64; x64) AppleWebKit/537.36 (KHTML, like Gecko) Chrome/75.0.3770.100 Safari/537.36\"}\n",
    "\n",
    "def download(method, url, param = None, data = None, timeout=1, maxretries = 3):\n",
    "    try:\n",
    "        resq = requests.request(method, url,params = param, data=data, headers = headers)\n",
    "        resq.raise_for_status()\n",
    "        \n",
    "    except requests.exceptions.HTTPError as e:\n",
    "        if (500<= e.response.status_code < 600) and maxretries>0:\n",
    "            time.sleep(timeout)\n",
    "            print(\"재시도\")\n",
    "            download(method, url,timeout=timeout,maxretries=maxretries-1)\n",
    "        else:\n",
    "            print(e.response.status_code)\n",
    "            print(e.response.reason)\n",
    "    return resq"
   ]
  },
  {
   "cell_type": "code",
   "execution_count": 349,
   "metadata": {},
   "outputs": [
    {
     "data": {
      "text/plain": [
       "requests.models.Response"
      ]
     },
     "execution_count": 349,
     "metadata": {},
     "output_type": "execute_result"
    }
   ],
   "source": [
    "resq = download(\"get\",url)\n",
    "type(resq)"
   ]
  },
  {
   "cell_type": "code",
   "execution_count": 353,
   "metadata": {},
   "outputs": [
    {
     "data": {
      "text/plain": [
       "{'Date': 'Fri, 12 Jul 2019 05:34:41 GMT', 'Server': 'Apache', 'Last-Modified': 'Mon, 04 Aug 2014 00:49:04 GMT', 'ETag': '\"412006a-148ea-4ffc31b072000\"', 'Accept-Ranges': 'bytes', 'Content-Length': '84202', 'Cache-Control': 'max-age=1209600', 'Expires': 'Fri, 26 Jul 2019 05:34:41 GMT', 'Keep-Alive': 'timeout=5, max=100', 'Connection': 'Keep-Alive', 'Content-Type': 'image/jpeg'}"
      ]
     },
     "execution_count": 353,
     "metadata": {},
     "output_type": "execute_result"
    }
   ],
   "source": [
    "resq.headers"
   ]
  },
  {
   "cell_type": "code",
   "execution_count": 350,
   "metadata": {},
   "outputs": [
    {
     "data": {
      "text/plain": [
       "str"
      ]
     },
     "execution_count": 350,
     "metadata": {},
     "output_type": "execute_result"
    }
   ],
   "source": [
    "html=resq.text\n",
    "type(html)"
   ]
  },
  {
   "cell_type": "code",
   "execution_count": 281,
   "metadata": {},
   "outputs": [],
   "source": [
    "dom = BeautifulSoup(html, \"lxml\")"
   ]
  },
  {
   "cell_type": "code",
   "execution_count": 282,
   "metadata": {},
   "outputs": [
    {
     "data": {
      "text/plain": [
       "'<html>\\n <head>\\n  <style>\\n   img{\\n\\twidth:75px;\\n}\\ntable{\\n\\twidth:50%;\\n}\\ntd{\\n\\tmargin:10px;\\n\\tpadding:10px;\\n}\\n.wrapper{\\n\\twidth:800px;\\n}\\n.excitingNote{\\n\\tfont-style:italic;\\n\\tfont-weight:bold;\\n}\\n  </style>\\n </head>\\n <body>\\n  <div id=\"wrapper\">\\n   <img src=\"../img/gifts/logo.jpg\" style=\"float:left;\"/>\\n   <h1>\\n    Totally Normal Gifts\\n   </h1>\\n   <div id=\"content\">\\n    Here is a collection of totally normal, totally reasonable gifts that your friends are sure to love! Our collection is\\nhand-curated by well-paid, free-range Tibetan monks.\\n    <p>\\n     We haven\\'t figured out how to make online shopping carts yet, but you can send us a check to:\\n     <br/>\\n     123 Main St.\\n     <br/>\\n     Abuja, Nigeria\\nWe will then send your totally amazing gift, pronto! Please include an extra $5.00 for gift wrapping.\\n    </p>\\n   </div>\\n   <table id=\"giftList\">\\n    <tr>\\n     <th>\\n      Item Title\\n     </th>\\n     <th>\\n      Description\\n     </th>\\n     <th>\\n      Cost\\n     </th>\\n     <th>\\n      Image\\n     </th>\\n    </tr>\\n    <tr class=\"gift\" id=\"gift1\">\\n     <td>\\n      Vegetable Basket\\n     </td>\\n     <td>\\n      This vegetable basket is the perfect gift for your health conscious (or overweight) friends!\\n      <span class=\"excitingNote\">\\n       Now with super-colorful bell peppers!\\n      </span>\\n     </td>\\n     <td>\\n      $15.00\\n     </td>\\n     <td>\\n      <img src=\"../img/gifts/img1.jpg\"/>\\n     </td>\\n    </tr>\\n    <tr class=\"gift\" id=\"gift2\">\\n     <td>\\n      Russian Nesting Dolls\\n     </td>\\n     <td>\\n      Hand-painted by trained monkeys, these exquisite dolls are priceless! And by \"priceless,\" we mean \"extremely expensive\"!\\n      <span class=\"excitingNote\">\\n       8 entire dolls per set! Octuple the presents!\\n      </span>\\n     </td>\\n     <td>\\n      $10,000.52\\n     </td>\\n     <td>\\n      <img src=\"../img/gifts/img2.jpg\"/>\\n     </td>\\n    </tr>\\n    <tr class=\"gift\" id=\"gift3\">\\n     <td>\\n      Fish Painting\\n     </td>\\n     <td>\\n      If something seems fishy about this painting, it\\'s because it\\'s a fish!\\n      <span class=\"excitingNote\">\\n       Also hand-painted by trained monkeys!\\n      </span>\\n     </td>\\n     <td>\\n      $10,005.00\\n     </td>\\n     <td>\\n      <img src=\"../img/gifts/img3.jpg\"/>\\n     </td>\\n    </tr>\\n    <tr class=\"gift\" id=\"gift4\">\\n     <td>\\n      Dead Parrot\\n     </td>\\n     <td>\\n      This is an ex-parrot!\\n      <span class=\"excitingNote\">\\n       Or maybe he\\'s only resting?\\n      </span>\\n     </td>\\n     <td>\\n      $0.50\\n     </td>\\n     <td>\\n      <img src=\"../img/gifts/img4.jpg\"/>\\n     </td>\\n    </tr>\\n    <tr class=\"gift\" id=\"gift5\">\\n     <td>\\n      Mystery Box\\n     </td>\\n     <td>\\n      If you love suprises, this mystery box is for you! Do not place on light-colored surfaces. May cause oil staining.\\n      <span class=\"excitingNote\">\\n       Keep your friends guessing!\\n      </span>\\n     </td>\\n     <td>\\n      $1.50\\n     </td>\\n     <td>\\n      <img src=\"../img/gifts/img6.jpg\"/>\\n     </td>\\n    </tr>\\n   </table>\\n   <div id=\"footer\">\\n    © Totally Normal Gifts, Inc.\\n    <br/>\\n    +234 (617) 863-0736\\n   </div>\\n  </div>\\n </body>\\n</html>\\n'"
      ]
     },
     "execution_count": 282,
     "metadata": {},
     "output_type": "execute_result"
    }
   ],
   "source": [
    "dom.prettify()"
   ]
  },
  {
   "cell_type": "code",
   "execution_count": 267,
   "metadata": {},
   "outputs": [
    {
     "data": {
      "text/plain": [
       "['div', 'body', 'html', '[document]']"
      ]
     },
     "execution_count": 267,
     "metadata": {},
     "output_type": "execute_result"
    }
   ],
   "source": [
    "footer = dom.find('div',attrs={'id':'footer'})\n",
    "[_.name for _ in footer.find_parents()]"
   ]
  },
  {
   "cell_type": "code",
   "execution_count": 277,
   "metadata": {},
   "outputs": [
    {
     "data": {
      "text/plain": [
       "['table', 'div', 'h1', 'img']"
      ]
     },
     "execution_count": 277,
     "metadata": {},
     "output_type": "execute_result"
    }
   ],
   "source": [
    "[_.name for _ in footer.find_previous_siblings()]"
   ]
  },
  {
   "cell_type": "code",
   "execution_count": 284,
   "metadata": {},
   "outputs": [
    {
     "data": {
      "text/plain": [
       "['img', 'h1', 'div', 'table', 'div']"
      ]
     },
     "execution_count": 284,
     "metadata": {},
     "output_type": "execute_result"
    }
   ],
   "source": [
    "footer_parent = footer.find_parent()\n",
    "[_.name for _ in footer_parent.find_all(recursive = False)]"
   ]
  },
  {
   "cell_type": "code",
   "execution_count": 290,
   "metadata": {},
   "outputs": [
    {
     "data": {
      "text/plain": [
       "<img src=\"../img/gifts/img2.jpg\"/>"
      ]
     },
     "execution_count": 290,
     "metadata": {},
     "output_type": "execute_result"
    }
   ],
   "source": [
    "footer_parent.table.find('tr',attrs={'id':'gift2'}).find('img')"
   ]
  },
  {
   "cell_type": "code",
   "execution_count": 303,
   "metadata": {},
   "outputs": [
    {
     "data": {
      "text/plain": [
       "<img src=\"../img/gifts/img2.jpg\"/>"
      ]
     },
     "execution_count": 303,
     "metadata": {},
     "output_type": "execute_result"
    }
   ],
   "source": [
    "footer_parent.table.find_all('tr')[2].find_all('td')[3].find('img')"
   ]
  },
  {
   "cell_type": "code",
   "execution_count": 344,
   "metadata": {},
   "outputs": [
    {
     "name": "stdout",
     "output_type": "stream",
     "text": [
      "http://pythonscraping.com/img/gifts/img1.jpg\n",
      "http://pythonscraping.com/img/gifts/img2.jpg\n",
      "http://pythonscraping.com/img/gifts/img3.jpg\n",
      "http://pythonscraping.com/img/gifts/img4.jpg\n",
      "http://pythonscraping.com/img/gifts/img6.jpg\n"
     ]
    }
   ],
   "source": [
    "for i in footer_parent.table.find_all('img'):\n",
    "    #print(dir(i))\n",
    "    url_ = i.get_attribute_list('src')\n",
    "    print(requests.compat.urljoin(url,url_[0]))"
   ]
  },
  {
   "cell_type": "code",
   "execution_count": 327,
   "metadata": {},
   "outputs": [
    {
     "data": {
      "text/plain": [
       "['HTML_FORMATTERS',\n",
       " 'XML_FORMATTERS',\n",
       " '__bool__',\n",
       " '__call__',\n",
       " '__class__',\n",
       " '__contains__',\n",
       " '__copy__',\n",
       " '__delattr__',\n",
       " '__delitem__',\n",
       " '__dict__',\n",
       " '__dir__',\n",
       " '__doc__',\n",
       " '__eq__',\n",
       " '__format__',\n",
       " '__ge__',\n",
       " '__getattr__',\n",
       " '__getattribute__',\n",
       " '__getitem__',\n",
       " '__gt__',\n",
       " '__hash__',\n",
       " '__init__',\n",
       " '__init_subclass__',\n",
       " '__iter__',\n",
       " '__le__',\n",
       " '__len__',\n",
       " '__lt__',\n",
       " '__module__',\n",
       " '__ne__',\n",
       " '__new__',\n",
       " '__reduce__',\n",
       " '__reduce_ex__',\n",
       " '__repr__',\n",
       " '__setattr__',\n",
       " '__setitem__',\n",
       " '__sizeof__',\n",
       " '__str__',\n",
       " '__subclasshook__',\n",
       " '__unicode__',\n",
       " '__weakref__',\n",
       " '_all_strings',\n",
       " '_find_all',\n",
       " '_find_one',\n",
       " '_formatter_for_name',\n",
       " '_is_xml',\n",
       " '_lastRecursiveChild',\n",
       " '_last_descendant',\n",
       " '_should_pretty_print',\n",
       " 'append',\n",
       " 'attrs',\n",
       " 'can_be_empty_element',\n",
       " 'childGenerator',\n",
       " 'children',\n",
       " 'clear',\n",
       " 'contents',\n",
       " 'decode',\n",
       " 'decode_contents',\n",
       " 'decompose',\n",
       " 'descendants',\n",
       " 'encode',\n",
       " 'encode_contents',\n",
       " 'extend',\n",
       " 'extract',\n",
       " 'fetchNextSiblings',\n",
       " 'fetchParents',\n",
       " 'fetchPrevious',\n",
       " 'fetchPreviousSiblings',\n",
       " 'find',\n",
       " 'findAll',\n",
       " 'findAllNext',\n",
       " 'findAllPrevious',\n",
       " 'findChild',\n",
       " 'findChildren',\n",
       " 'findNext',\n",
       " 'findNextSibling',\n",
       " 'findNextSiblings',\n",
       " 'findParent',\n",
       " 'findParents',\n",
       " 'findPrevious',\n",
       " 'findPreviousSibling',\n",
       " 'findPreviousSiblings',\n",
       " 'find_all',\n",
       " 'find_all_next',\n",
       " 'find_all_previous',\n",
       " 'find_next',\n",
       " 'find_next_sibling',\n",
       " 'find_next_siblings',\n",
       " 'find_parent',\n",
       " 'find_parents',\n",
       " 'find_previous',\n",
       " 'find_previous_sibling',\n",
       " 'find_previous_siblings',\n",
       " 'format_string',\n",
       " 'get',\n",
       " 'getText',\n",
       " 'get_attribute_list',\n",
       " 'get_text',\n",
       " 'has_attr',\n",
       " 'has_key',\n",
       " 'hidden',\n",
       " 'index',\n",
       " 'insert',\n",
       " 'insert_after',\n",
       " 'insert_before',\n",
       " 'isSelfClosing',\n",
       " 'is_empty_element',\n",
       " 'known_xml',\n",
       " 'name',\n",
       " 'namespace',\n",
       " 'next',\n",
       " 'nextGenerator',\n",
       " 'nextSibling',\n",
       " 'nextSiblingGenerator',\n",
       " 'next_element',\n",
       " 'next_elements',\n",
       " 'next_sibling',\n",
       " 'next_siblings',\n",
       " 'parent',\n",
       " 'parentGenerator',\n",
       " 'parents',\n",
       " 'parserClass',\n",
       " 'parser_class',\n",
       " 'prefix',\n",
       " 'preserve_whitespace_tags',\n",
       " 'prettify',\n",
       " 'previous',\n",
       " 'previousGenerator',\n",
       " 'previousSibling',\n",
       " 'previousSiblingGenerator',\n",
       " 'previous_element',\n",
       " 'previous_elements',\n",
       " 'previous_sibling',\n",
       " 'previous_siblings',\n",
       " 'recursiveChildGenerator',\n",
       " 'renderContents',\n",
       " 'replaceWith',\n",
       " 'replaceWithChildren',\n",
       " 'replace_with',\n",
       " 'replace_with_children',\n",
       " 'select',\n",
       " 'select_one',\n",
       " 'setup',\n",
       " 'string',\n",
       " 'strings',\n",
       " 'stripped_strings',\n",
       " 'text',\n",
       " 'unwrap',\n",
       " 'wrap']"
      ]
     },
     "execution_count": 327,
     "metadata": {},
     "output_type": "execute_result"
    }
   ],
   "source": [
    "dir(footer_parent.table.find('img'))"
   ]
  },
  {
   "cell_type": "code",
   "execution_count": 339,
   "metadata": {},
   "outputs": [
    {
     "data": {
      "text/plain": [
       "['../img/gifts/img1.jpg']"
      ]
     },
     "execution_count": 339,
     "metadata": {},
     "output_type": "execute_result"
    }
   ],
   "source": [
    "url_=footer_parent.table.find('img').get_attribute_list('src')\n",
    "url_"
   ]
  },
  {
   "cell_type": "code",
   "execution_count": 341,
   "metadata": {},
   "outputs": [
    {
     "data": {
      "text/plain": [
       "'http://pythonscraping.com/img/gifts/img1.jpg'"
      ]
     },
     "execution_count": 341,
     "metadata": {},
     "output_type": "execute_result"
    }
   ],
   "source": [
    "url = \"http://pythonscraping.com/pages/page3.html\"\n",
    "url__ = requests.compat.urljoin(url,url_[0])\n",
    "url__"
   ]
  },
  {
   "cell_type": "code",
   "execution_count": 346,
   "metadata": {},
   "outputs": [
    {
     "data": {
      "text/plain": [
       "['http://pythonscraping.com/img/gifts/img1.jpg',\n",
       " 'http://pythonscraping.com/img/gifts/img2.jpg',\n",
       " 'http://pythonscraping.com/img/gifts/img3.jpg',\n",
       " 'http://pythonscraping.com/img/gifts/img4.jpg',\n",
       " 'http://pythonscraping.com/img/gifts/img6.jpg']"
      ]
     },
     "execution_count": 346,
     "metadata": {},
     "output_type": "execute_result"
    }
   ],
   "source": [
    "[requests.compat.urljoin(url ,_.find_all(\"td\")[-1].find()[\"src\"]) for _ in footer.find_previous_sibling().find_all(\"tr\")[1:]]"
   ]
  },
  {
   "cell_type": "code",
   "execution_count": 366,
   "metadata": {},
   "outputs": [],
   "source": [
    "for j,i in enumerate(footer_parent.table.find_all('img')):\n",
    "    #print(dir(i))\n",
    "    url_ = i.get_attribute_list('src')\n",
    "    resq=download(\"get\",requests.compat.urljoin(url,url_[0]))\n",
    "    f = open(\"picture\"+str(j)+\".\"+resq.headers['Content-Type'].split('/')[1], 'wb')\n",
    "    f.write(resq.content)\n",
    "    f.close()"
   ]
  },
  {
   "cell_type": "code",
   "execution_count": 365,
   "metadata": {},
   "outputs": [
    {
     "data": {
      "text/plain": [
       "'jpeg'"
      ]
     },
     "execution_count": 365,
     "metadata": {},
     "output_type": "execute_result"
    }
   ],
   "source": [
    "resq.headers['Content-Type'].split('/')[1]"
   ]
  },
  {
   "cell_type": "markdown",
   "metadata": {},
   "source": [
    "#### response 객체에서 headers해서 content type을 보면 확장자를 알수 있다."
   ]
  },
  {
   "cell_type": "code",
   "execution_count": 367,
   "metadata": {},
   "outputs": [],
   "source": [
    "img_list = [requests.compat.urljoin(url ,_.find_all(\"td\")[-1].find()[\"src\"]) for _ in footer.find_previous_sibling().find_all(\"tr\")[1:]]"
   ]
  },
  {
   "cell_type": "code",
   "execution_count": 380,
   "metadata": {},
   "outputs": [],
   "source": [
    "for j in img_list:\n",
    "    resq=download(\"get\",j)\n",
    "    filename = \"{0}.{1}\".format(resq.url.split(\"/\")[-1].split(\",\")[0].split(\".\")[0], resq.headers['Content-Type'].split('/')[1])\n",
    "    f = open(resq.url.split(\"/\")[-1].split(\",\")[0], 'wb')\n",
    "    f.write(resq.content)\n",
    "    f.close()"
   ]
  },
  {
   "cell_type": "code",
   "execution_count": 374,
   "metadata": {},
   "outputs": [
    {
     "data": {
      "text/plain": [
       "ParseResult(scheme='http', netloc='pythonscraping.com', path='/img/gifts/img6.jpg', params='', query='', fragment='')"
      ]
     },
     "execution_count": 374,
     "metadata": {},
     "output_type": "execute_result"
    }
   ],
   "source": [
    "requests.compat.urlparse(resq.url)"
   ]
  },
  {
   "cell_type": "code",
   "execution_count": 375,
   "metadata": {},
   "outputs": [
    {
     "data": {
      "text/plain": [
       "'img6.jpg'"
      ]
     },
     "execution_count": 375,
     "metadata": {},
     "output_type": "execute_result"
    }
   ],
   "source": [
    "resq.url.split(\"/\")[-1].split(\",\")[0]"
   ]
  },
  {
   "cell_type": "code",
   "execution_count": 378,
   "metadata": {},
   "outputs": [
    {
     "data": {
      "text/plain": [
       "'img6'"
      ]
     },
     "execution_count": 378,
     "metadata": {},
     "output_type": "execute_result"
    }
   ],
   "source": [
    "resq.url.split(\"/\")[-1].split(\",\")[0].split(\".\")[0]"
   ]
  },
  {
   "cell_type": "code",
   "execution_count": 404,
   "metadata": {},
   "outputs": [
    {
     "data": {
      "text/plain": [
       "requests.models.Response"
      ]
     },
     "execution_count": 404,
     "metadata": {},
     "output_type": "execute_result"
    }
   ],
   "source": [
    "resq = download(\"get\",url)\n",
    "type(resq)"
   ]
  },
  {
   "cell_type": "code",
   "execution_count": 390,
   "metadata": {},
   "outputs": [],
   "source": [
    "import re\n",
    "p = re.compile('''\\B<img src=\"(.+?)\"''')"
   ]
  },
  {
   "cell_type": "code",
   "execution_count": 397,
   "metadata": {},
   "outputs": [],
   "source": [
    "\n",
    "\n",
    "for i in [requests.compat.urljoin(url ,_) for _ in p.findall(resq.text)[1:]]:\n",
    "    resq=download(\"get\",i)\n",
    "    filename = \"{0}.{1}\".format(resq.url.split(\"/\")[-1].split(\",\")[0].split(\".\")[0], resq.headers['Content-Type'].split('/')[1])\n",
    "    f = open(resq.url.split(\"/\")[-1].split(\",\")[0], 'wb')\n",
    "    f.write(resq.content)\n",
    "    f.close()"
   ]
  },
  {
   "cell_type": "code",
   "execution_count": 382,
   "metadata": {
    "scrolled": true
   },
   "outputs": [
    {
     "data": {
      "text/plain": [
       "'<html>\\n<head>\\n<style>\\nimg{\\n\\twidth:75px;\\n}\\ntable{\\n\\twidth:50%;\\n}\\ntd{\\n\\tmargin:10px;\\n\\tpadding:10px;\\n}\\n.wrapper{\\n\\twidth:800px;\\n}\\n.excitingNote{\\n\\tfont-style:italic;\\n\\tfont-weight:bold;\\n}\\n</style>\\n</head>\\n<body>\\n<div id=\"wrapper\">\\n<img src=\"../img/gifts/logo.jpg\" style=\"float:left;\">\\n<h1>Totally Normal Gifts</h1>\\n<div id=\"content\">Here is a collection of totally normal, totally reasonable gifts that your friends are sure to love! Our collection is\\nhand-curated by well-paid, free-range Tibetan monks.<p>\\nWe haven\\'t figured out how to make online shopping carts yet, but you can send us a check to:<br>\\n123 Main St.<br>\\nAbuja, Nigeria\\n</br>We will then send your totally amazing gift, pronto! Please include an extra $5.00 for gift wrapping.</div>\\n<table id=\"giftList\">\\n<tr><th>\\nItem Title\\n</th><th>\\nDescription\\n</th><th>\\nCost\\n</th><th>\\nImage\\n</th></tr>\\n\\n<tr id=\"gift1\" class=\"gift\"><td>\\nVegetable Basket\\n</td><td>\\nThis vegetable basket is the perfect gift for your health conscious (or overweight) friends!\\n<span class=\"excitingNote\">Now with super-colorful bell peppers!</span>\\n</td><td>\\n$15.00\\n</td><td>\\n<img src=\"../img/gifts/img1.jpg\">\\n</td></tr>\\n\\n<tr id=\"gift2\" class=\"gift\"><td>\\nRussian Nesting Dolls\\n</td><td>\\nHand-painted by trained monkeys, these exquisite dolls are priceless! And by \"priceless,\" we mean \"extremely expensive\"! <span class=\"excitingNote\">8 entire dolls per set! Octuple the presents!</span>\\n</td><td>\\n$10,000.52\\n</td><td>\\n<img src=\"../img/gifts/img2.jpg\">\\n</td></tr>\\n\\n<tr id=\"gift3\" class=\"gift\"><td>\\nFish Painting\\n</td><td>\\nIf something seems fishy about this painting, it\\'s because it\\'s a fish! <span class=\"excitingNote\">Also hand-painted by trained monkeys!</span>\\n</td><td>\\n$10,005.00\\n</td><td>\\n<img src=\"../img/gifts/img3.jpg\">\\n</td></tr>\\n\\n<tr id=\"gift4\" class=\"gift\"><td>\\nDead Parrot\\n</td><td>\\nThis is an ex-parrot! <span class=\"excitingNote\">Or maybe he\\'s only resting?</span>\\n</td><td>\\n$0.50\\n</td><td>\\n<img src=\"../img/gifts/img4.jpg\">\\n</td></tr>\\n\\n<tr id=\"gift5\" class=\"gift\"><td>\\nMystery Box\\n</td><td>\\nIf you love suprises, this mystery box is for you! Do not place on light-colored surfaces. May cause oil staining. <span class=\"excitingNote\">Keep your friends guessing!</span>\\n</td><td>\\n$1.50\\n</td><td>\\n<img src=\"../img/gifts/img6.jpg\">\\n</td></tr>\\n</table>\\n</p>\\n<div id=\"footer\">\\n&copy; Totally Normal Gifts, Inc. <br>\\n+234 (617) 863-0736\\n</div>\\n\\n</div>\\n</body>\\n</html>\\n'"
      ]
     },
     "execution_count": 382,
     "metadata": {},
     "output_type": "execute_result"
    }
   ],
   "source": [
    "for i in img_name_list:\n",
    "    resq=download(\"get\",j)\n",
    "    filename = '{0}.{1}'.format(resq.url)"
   ]
  },
  {
   "cell_type": "code",
   "execution_count": 412,
   "metadata": {},
   "outputs": [
    {
     "data": {
      "text/plain": [
       "['http://pythonscraping.com/img/gifts/img1.jpg',\n",
       " 'http://pythonscraping.com/img/gifts/img2.jpg',\n",
       " 'http://pythonscraping.com/img/gifts/img3.jpg',\n",
       " 'http://pythonscraping.com/img/gifts/img4.jpg',\n",
       " 'http://pythonscraping.com/img/gifts/img6.jpg']"
      ]
     },
     "execution_count": 412,
     "metadata": {},
     "output_type": "execute_result"
    }
   ],
   "source": [
    "[requests.compat.urljoin(url ,_) for _ in p.findall(resq.text)[1:]]"
   ]
  },
  {
   "cell_type": "code",
   "execution_count": 405,
   "metadata": {},
   "outputs": [
    {
     "data": {
      "text/plain": [
       "['../img/gifts/logo.jpg',\n",
       " '../img/gifts/img1.jpg',\n",
       " '../img/gifts/img2.jpg',\n",
       " '../img/gifts/img3.jpg',\n",
       " '../img/gifts/img4.jpg',\n",
       " '../img/gifts/img6.jpg']"
      ]
     },
     "execution_count": 405,
     "metadata": {},
     "output_type": "execute_result"
    }
   ],
   "source": [
    "p = re.compile('''\\B<img src=\"(.+?)\"''')\n",
    "p.findall(resq.text)"
   ]
  },
  {
   "cell_type": "code",
   "execution_count": 410,
   "metadata": {},
   "outputs": [
    {
     "name": "stdout",
     "output_type": "stream",
     "text": [
      "../img/gifts/logo.jpg\n",
      "../img/gifts/img1.jpg\n",
      "../img/gifts/img2.jpg\n",
      "../img/gifts/img3.jpg\n",
      "../img/gifts/img4.jpg\n",
      "../img/gifts/img6.jpg\n"
     ]
    }
   ],
   "source": [
    "for _ in p.findall(resq.text):\n",
    "    print(_)"
   ]
  },
  {
   "cell_type": "code",
   "execution_count": 413,
   "metadata": {},
   "outputs": [],
   "source": [
    "for i in [requests.compat.urljoin(url ,_) for _ in p.findall(resq.text)[1:]]:\n",
    "    resq=download(\"get\",i)\n",
    "    filename = \"{0}.{1}\".format(resq.url.split(\"/\")[-1].split(\",\")[0].split(\".\")[0], resq.headers['Content-Type'].split('/')[1])\n",
    "    f = open(resq.url.split(\"/\")[-1].split(\",\")[0], 'wb')\n",
    "    f.write(resq.content)\n",
    "    f.close()"
   ]
  },
  {
   "cell_type": "code",
   "execution_count": 426,
   "metadata": {},
   "outputs": [],
   "source": [
    "resq = download(\"get\", \"https://search.naver.com/search.naver\", param={'where':'image','query':'박보영'})"
   ]
  },
  {
   "cell_type": "code",
   "execution_count": 429,
   "metadata": {},
   "outputs": [],
   "source": [
    "p = re.compile('''data-source=\"(.+?)\".+?>.+?>.+?>.+?>.+?>.+?>.+?>.+?>(.+?)<''')\n",
    "tuple_ = p.findall(resq.text)"
   ]
  },
  {
   "cell_type": "code",
   "execution_count": 446,
   "metadata": {},
   "outputs": [
    {
     "name": "stdout",
     "output_type": "stream",
     "text": [
      "https://search.pstatic.net/common/?src=http%3A%2F%2Fcafefiles.naver.net%2F20140419_115%2Falsdnr4721_1397918757998zpEC6_JPEG%2F-1042080401.jpg&type=b400\n",
      "https://search.pstatic.net/common/?src=http%3A%2F%2Fimgnews.naver.net%2Fimage%2F311%2F2019%2F04%2F30%2F0000985275_001_20190430071110015.jpg&type=b400\n",
      "https://search.pstatic.net/common/?src=http%3A%2F%2Fblogfiles.naver.net%2FMjAxODA3MDRfMTQ4%2FMDAxNTMwNjY3NjY3NjEz.zj9Umgo5orK-9sGr3r5yWQBn9HIYKJY3YVzz4Gzk1bsg.cstJdYVKQm2SFg5M9o0TVOKPaMBM5ud-Rag1IaPZ9Lkg.JPEG.js2y86%2Fqkrqhdud14.jpg&type=b400\n",
      "https://search.pstatic.net/common/?src=http%3A%2F%2Fblogfiles.naver.net%2FMjAxODEwMTBfMTA1%2FMDAxNTM5MTc2ODM0MDI5.mlRvQ8JGvq5N4tNpgT_wWgPrxlMg6cHXpGDGISJ9iskg.i0sOEaB-ad78ykWXzDiHA33UAqp-g-Mr2ZqPrkD_tZ0g.JPEG.angel000429%2F1539176666436.jpg&type=b400\n",
      "https://search.pstatic.net/common/?src=http%3A%2F%2Fblogfiles.naver.net%2F20151123_272%2Fqazwsx2002_1448267051132FmL3G_JPEG%2F002.jpg&type=b400\n",
      "https://search.pstatic.net/common/?src=http%3A%2F%2Fblogfiles.naver.net%2F20130115_197%2Fmeem1234_1358224908968XtlPr_JPEG%2F616134414dc99047d8b5cd8114e9118d_789NWL7Emre4gBcdWhB5lvIS.jpg&type=b400\n",
      "https://search.pstatic.net/common/?src=http%3A%2F%2Fblogfiles.naver.net%2F20110525_18%2Fpjh34091_1306290554589AVmww_JPEG%2F%25B9%25DA%25BA%25B8%25BF%25B5_%25BB%25F5%25B7%25CE%25BF%25EE_%25C8%25AD%25BA%25B8_0.jpg&type=b400\n",
      "https://search.pstatic.net/common/?src=http%3A%2F%2Fimgnews.naver.net%2Fimage%2F5079%2F2013%2F02%2F12%2F766713_0_m500679_58628_59_20130212133540.jpg&type=b400\n",
      "https://search.pstatic.net/common/?src=https%3A%2F%2Fphinf.pstatic.net%2Ftvcast%2F20180823_97%2F7AbLf_1534989707099rBIu4_PNG%2Fzf8rcG9madjv.png&type=b400\n",
      "https://search.pstatic.net/common/?src=http%3A%2F%2Fimgnews.naver.net%2Fimage%2F311%2F2018%2F07%2F26%2F0000881291_002_20180726205533782.jpg&type=b400\n",
      "https://search.pstatic.net/common/?src=http%3A%2F%2Fblogfiles.naver.net%2FMjAxODA4MTRfMTUz%2FMDAxNTM0MjIyMzAxMjU2.1J2e9Fy5EX_VLf367oeDAv28iL6v05bXV3hP2OkwgxMg.I1NMx1RH--8Yb0yx3j4EybMZUKVFHTf6lijc4R5LFJog.JPEG.imsung_cho%2F1533953928_1383617.jpg&type=b400\n",
      "https://search.pstatic.net/common/?src=http%3A%2F%2Fpost.phinf.naver.net%2FMjAxOTA0MjlfMTA3%2FMDAxNTU2NTA0MzA2MzE4.0UAFhPY7p0odl0sTrtap8gh1ti63KbjaCRERw_8qyzwg.lheAC4SgbJ26pQtbPEoLpKq8f5QIPUtpMnz850vzzWMg.JPEG%2FIMBvaNWUWeK6v2onENvaworTmtAE.jpg&type=b400\n",
      "https://search.pstatic.net/common/?src=http%3A%2F%2Fimgnews.naver.net%2Fimage%2F076%2F2018%2F08%2F09%2F2018081001000825000059711_20180809115327017.jpg&type=b400\n",
      "https://search.pstatic.net/common/?src=http%3A%2F%2Fimgnews.naver.net%2Fimage%2F076%2F2019%2F05%2F03%2F2019050401000298400016991_20190503160106821.jpg&type=b400\n",
      "https://search.pstatic.net/common/?src=http%3A%2F%2Fhol.phinf.naver.net%2F00%2F662%2F354%2F66235414_1.jpg&type=b400\n",
      "https://search.pstatic.net/common/?src=http%3A%2F%2Fimgnews.naver.net%2Fimage%2F5582%2F2019%2F03%2F26%2F0000035400_001_20190326111013364.jpg&type=b400\n",
      "https://search.pstatic.net/common/?src=http%3A%2F%2Fkinimage.naver.net%2F20181216_209%2F15449260677587Ll86_JPEG%2F1544926067429.jpg&type=b400\n",
      "https://search.pstatic.net/sunny/?src=http%3A%2F%2Fimg.segye.com%2Fcontent%2Fimage%2F2015%2F10%2F17%2F20151017503314.jpg&type=b400\n",
      "https://search.pstatic.net/common/?src=http%3A%2F%2Fimgnews.naver.net%2Fimage%2F5349%2F2018%2F08%2F07%2F1533628848_205383_20180807165840982.jpg&type=b400\n",
      "https://search.pstatic.net/common/?src=http%3A%2F%2Fimgnews.naver.net%2Fimage%2F312%2F2019%2F04%2F29%2F0000385085_001_20190429111506300.jpg&type=b400\n",
      "https://search.pstatic.net/common/?src=http%3A%2F%2Fimgnews.naver.net%2Fimage%2F5575%2F2019%2F03%2F03%2F0000033175_001_20190303115605887.jpg&type=b400\n",
      "https://search.pstatic.net/common/?src=http%3A%2F%2Fblogfiles.naver.net%2F20160506_156%2Fbismuth083_1462537897447sdsOj_JPEG%2FFB_IMG_1462446137505.jpg&type=b400\n",
      "https://search.pstatic.net/common/?src=http%3A%2F%2Fblogfiles.naver.net%2F20131111_212%2Fpapa77ma_1384121301256kovyM_JPEG%2F%25A2%25BD%25B9%25DA%25BA%25B8%25BF%25B5%25A2%25BD.jpg&type=b400\n",
      "https://search.pstatic.net/common/?src=http%3A%2F%2Fimgnews.naver.net%2Fimage%2F312%2F2018%2F08%2F09%2F0000342601_001_20180809170227017.jpg&type=b400\n",
      "https://search.pstatic.net/common/?src=http%3A%2F%2Fimgnews.naver.net%2Fimage%2F109%2F2019%2F05%2F03%2F0004002600_002_20190503164807188.jpg&type=b400\n",
      "https://search.pstatic.net/common/?src=http%3A%2F%2Fimgnews.naver.net%2Fimage%2F5268%2F2014%2F01%2F21%2F927889_0-550827_47544_59_20140121145003.jpg&type=b400\n",
      "https://search.pstatic.net/common/?src=http%3A%2F%2Fimgnews.naver.net%2Fimage%2F312%2F2019%2F04%2F29%2F0000385092_001_20190429112508757.jpg&type=b400\n",
      "https://search.pstatic.net/common/?src=http%3A%2F%2Fimgnews.naver.net%2Fimage%2F5503%2F2019%2F06%2F25%2F0000030512_001_20190625145841663.JPG&type=b400\n",
      "https://search.pstatic.net/common/?src=http%3A%2F%2Fimgnews.naver.net%2Fimage%2F5339%2F2018%2F12%2F07%2F2018120636294797_20181207000910239.jpg&type=b400\n",
      "https://search.pstatic.net/common/?src=http%3A%2F%2Fimgnews.naver.net%2Fimage%2F5567%2F2019%2F06%2F25%2F0000008181_001_20190625110648024.jpg&type=b400\n",
      "https://search.pstatic.net/common/?src=http%3A%2F%2Fimgnews.naver.net%2Fimage%2F5043%2F2012%2F10%2F30%2F2012103015504813_59_20121030092011.jpg&type=b400\n",
      "https://search.pstatic.net/common/?src=http%3A%2F%2Fimgnews.naver.net%2Fimage%2F112%2F2019%2F05%2F28%2F201905282207245443380_20190528224138_01_20190528224209210.jpg&type=b400\n",
      "https://search.pstatic.net/common/?src=http%3A%2F%2Fimgnews.naver.net%2Fimage%2F382%2F2019%2F05%2F03%2F0000729116_001_20190503153611843.jpg&type=b400\n",
      "https://search.pstatic.net/common/?src=http%3A%2F%2Fimgnews.naver.net%2Fimage%2F5696%2F2019%2F06%2F12%2F0000014463_001_20190612155651670.jpg&type=b400\n",
      "https://search.pstatic.net/common/?src=http%3A%2F%2Fimgnews.naver.net%2Fimage%2F117%2F2019%2F06%2F04%2F201906041529224634_1_20190604153311103.jpg&type=b400\n",
      "https://search.pstatic.net/common/?src=http%3A%2F%2Fimgnews.naver.net%2Fimage%2F5575%2F2019%2F05%2F04%2F0000042593_001_20190504202221714.jpg&type=b400\n",
      "https://search.pstatic.net/common/?src=http%3A%2F%2Fimgnews.naver.net%2Fimage%2F609%2F2019%2F06%2F24%2F201906241301272410_2_20190624130727191.jpg&type=b400\n",
      "https://search.pstatic.net/common/?src=http%3A%2F%2Fimgnews.naver.net%2Fimage%2F5092%2F2011%2F06%2F20%2F1308560965_600.jpg&type=b400\n",
      "https://search.pstatic.net/common/?src=http%3A%2F%2Fimgnews.naver.net%2Fimage%2F5567%2F2019%2F05%2F29%2F0000007370_001_20190529103635685.jpg&type=b400\n",
      "https://search.pstatic.net/common/?src=http%3A%2F%2Fimgnews.naver.net%2Fimage%2F015%2F2019%2F06%2F11%2F0004156850_001_20190611134604695.jpg&type=b400\n",
      "https://search.pstatic.net/common/?src=http%3A%2F%2Fimgnews.naver.net%2Fimage%2F109%2F2008%2F10%2F27%2F200810271211252300_1.jpg&type=b400\n",
      "https://search.pstatic.net/common/?src=http%3A%2F%2Fimgnews.naver.net%2Fimage%2F468%2F2019%2F06%2F09%2F0000517985_001_20190609094022835.jpg&type=b400\n",
      "https://search.pstatic.net/common/?src=http%3A%2F%2Fimgnews.naver.net%2Fimage%2F468%2F2019%2F05%2F19%2F0000509577_001_20190519134517159.jpg&type=b400\n",
      "https://search.pstatic.net/common/?src=http%3A%2F%2Fimgnews.naver.net%2Fimage%2F144%2F2015%2F09%2F16%2Fl_2015091602001330300222841_99_20150916141402.jpg&type=b400\n",
      "https://search.pstatic.net/common/?src=http%3A%2F%2Fimgnews.naver.net%2Fimage%2F5138%2F2011%2F04%2F04%2F201104040931099660385-2-25339.jpg&type=b400\n",
      "https://search.pstatic.net/common/?src=http%3A%2F%2Fimgnews.naver.net%2Fimage%2F117%2F2016%2F08%2F30%2F201608301954891116_1_99_20160830195503.jpg&type=b400\n",
      "https://search.pstatic.net/common/?src=http%3A%2F%2Fimgnews.naver.net%2Fimage%2F5090%2F2013%2F02%2F17%2F20130217000088_0_59_20130217140812.jpg&type=b400\n",
      "https://search.pstatic.net/common/?src=http%3A%2F%2Fimgnews.naver.net%2Fimage%2F108%2F2008%2F12%2F16%2F2008121610173266362_1.jpg&type=b400\n",
      "https://search.pstatic.net/common/?src=http%3A%2F%2Fblogfiles.naver.net%2F20130115_176%2Fmeem1234_13582249143180FEUm_PNG%2F616134414dc99047d8b5cd8114e9118d_tlLpEK3D7gyeZn5fv.png&type=b400\n",
      "https://search.pstatic.net/common/?src=http%3A%2F%2Fblogfiles.naver.net%2FMjAxODA3MDRfMTkx%2FMDAxNTMwNjY2OTg4MjQ3.jGIjWJ2Q48xxoz37vJRZDsL3hPkRyYeU8yMeB_rS1KQg.YldJcuFtuDxDeyHf4q8WAKjE-jOqa4IsVgylD1nh4PYg.JPEG.js2y86%2F%25BB%25CD%25BC%25F6%25B4%25CF10.jpg&type=b400\n"
     ]
    }
   ],
   "source": [
    "a=0\n",
    "for i,j in tuple_:\n",
    "    resq = download(\"get\", i)\n",
    "    print(resq.url)\n",
    "    a+=1\n",
    "    filename = \"{0}.{1}\".format(str(a),resq.headers['Content-Type'].split('/')[1])\n",
    "    f = open(\"pic/\"+filename,\"wb\")\n",
    "    f.write(resq.content)\n",
    "    f.close"
   ]
  },
  {
   "cell_type": "code",
   "execution_count": 421,
   "metadata": {},
   "outputs": [
    {
     "data": {
      "text/plain": [
       "{'Date': 'Mon, 08 Jul 2019 16:52:16 GMT', 'Server': 'Testa/4.8.17', 'P3P': 'CP=\"ALL CURa ADMa DEVa TAIa OUR BUS IND PHY ONL UNI PUR FIN COM NAV INT DEM CNT STA POL HEA PRE LOC OTC\"', 'Accept-Ranges': 'bytes', 'Last-Modified': 'Mon, 08 Jul 2019 16:52:16 GMT', 'Content-Length': '51299', 'Expires': 'Wed, 07 Aug 2019 16:52:16 GMT', 'Cache-Control': 'max-age=2592000', 'Content-Type': 'image/jpeg', 'Age': '308864', 'Strict-Transport-Security': 'max-age=31536000'}"
      ]
     },
     "execution_count": 421,
     "metadata": {},
     "output_type": "execute_result"
    }
   ],
   "source": [
    "resq = download(\"get\", \"\"\"https://search.pstatic.net/common/?src=http%3A%2F%2Fblogfiles.naver.net%2FMjAxODA3MDRfMTkx%2FMDAxNTMwNjY2OTg4MjQ3.jGIjWJ2Q48xxoz37vJRZDsL3hPkRyYeU8yMeB_rS1KQg.YldJcuFtuDxDeyHf4q8WAKjE-jOqa4IsVgylD1nh4PYg.JPEG.js2y86%2F%25BB%25CD%25BC%25F6%25B4%25CF10.jpg&type=b400\"\"\")\n",
    "resq.headers"
   ]
  },
  {
   "cell_type": "code",
   "execution_count": 450,
   "metadata": {},
   "outputs": [
    {
     "data": {
      "text/plain": [
       "[('여기 박보영빠돌이있지않음?? | 카페',\n",
       "  'https://search.pstatic.net/common/?src=http%3A%2F%2Fcafefiles.naver.net%2F20140419_115%2Falsdnr4721_1397918757998zpEC6_JPEG%2F-1042080401.jpg&type=b400'),\n",
       " (\"박보영 '요정이 눈 앞에'[엑's HD포토] | 포토뉴스\",\n",
       "  'https://search.pstatic.net/common/?src=http%3A%2F%2Fimgnews.naver.net%2Fimage%2F311%2F2019%2F04%2F30%2F0000985275_001_20190430071110015.jpg&type=b400'),\n",
       " ('박보영 : 힘쎈여자도봉순 도봉순 | 블로그',\n",
       "  'https://search.pstatic.net/common/?src=http%3A%2F%2Fblogfiles.naver.net%2FMjAxODA3MDRfMTQ4%2FMDAxNTMwNjY3NjY3NjEz.zj9Umgo5orK-9sGr3r5yWQBn9HIYKJY3YVzz4Gzk1bsg.cstJdYVKQm2SFg5M9o0TVOKPaMBM5ud-Rag1IaPZ9Lkg.JPEG.js2y86%2Fqkrqhdud14.jpg&type=b400'),\n",
       " ('박보영 사진 모음 #1 (스왑주의) | 블로그',\n",
       "  'https://search.pstatic.net/common/?src=http%3A%2F%2Fblogfiles.naver.net%2FMjAxODEwMTBfMTA1%2FMDAxNTM5MTc2ODM0MDI5.mlRvQ8JGvq5N4tNpgT_wWgPrxlMg6cHXpGDGISJ9iskg.i0sOEaB-ad78ykWXzDiHA33UAqp-g-Mr2ZqPrkD_tZ0g.JPEG.angel000429%2F1539176666436.jpg&type=b400'),\n",
       " (\"'열정같은소리하고있네' 박보영·정재영, 겨울 패션 화보 공개 | 블로그\",\n",
       "  'https://search.pstatic.net/common/?src=http%3A%2F%2Fblogfiles.naver.net%2F20151123_272%2Fqazwsx2002_1448267051132FmL3G_JPEG%2F002.jpg&type=b400'),\n",
       " ('박보영 에스콰이어 화보  | 블로그',\n",
       "  'https://search.pstatic.net/common/?src=http%3A%2F%2Fblogfiles.naver.net%2F20130115_197%2Fmeem1234_1358224908968XtlPr_JPEG%2F616134414dc99047d8b5cd8114e9118d_789NWL7Emre4gBcdWhB5lvIS.jpg&type=b400'),\n",
       " ('최근 박보영 새로운 화보 | 블로그',\n",
       "  'https://search.pstatic.net/common/?src=http%3A%2F%2Fblogfiles.naver.net%2F20110525_18%2Fpjh34091_1306290554589AVmww_JPEG%2F%25B9%25DA%25BA%25B8%25BF%25B5_%25BB%25F5%25B7%25CE%25BF%25EE_%25C8%25AD%25BA%25B8_0.jpg&type=b400'),\n",
       " ('박보영 심경 \"원래 징징대는 편인데…\" 김상유 대표 글 논란 해명? | 포토뉴스',\n",
       "  'https://search.pstatic.net/common/?src=http%3A%2F%2Fimgnews.naver.net%2Fimage%2F5079%2F2013%2F02%2F12%2F766713_0_m500679_58628_59_20130212133540.jpg&type=b400'),\n",
       " ('이제야 밝혀지는 두 사람의 진실?! 박보영, 김영광 인터뷰! | 동영상',\n",
       "  'https://search.pstatic.net/common/?src=https%3A%2F%2Fphinf.pstatic.net%2Ftvcast%2F20180823_97%2F7AbLf_1534989707099rBIu4_PNG%2Fzf8rcG9madjv.png&type=b400'),\n",
       " (\"[엑's HD화보] '뽀블리' 박보영 '야구장에서도 러블리~' | 포토뉴스\",\n",
       "  'https://search.pstatic.net/common/?src=http%3A%2F%2Fimgnews.naver.net%2Fimage%2F311%2F2018%2F07%2F26%2F0000881291_002_20180726205533782.jpg&type=b400'),\n",
       " ('인터뷰 박보영 패션 옷 #써스데이아일랜드 쉬폰 블라우스_여자 여름 블라우스 | 블로그',\n",
       "  'https://search.pstatic.net/common/?src=http%3A%2F%2Fblogfiles.naver.net%2FMjAxODA4MTRfMTUz%2FMDAxNTM0MjIyMzAxMjU2.1J2e9Fy5EX_VLf367oeDAv28iL6v05bXV3hP2OkwgxMg.I1NMx1RH--8Yb0yx3j4EybMZUKVFHTf6lijc4R5LFJog.JPEG.imsung_cho%2F1533953928_1383617.jpg&type=b400'),\n",
       " ('[4K직캠] 박보영(Park Bo Young), 진짜 봄이 왔네요(190429) | 포스트',\n",
       "  'https://search.pstatic.net/common/?src=http%3A%2F%2Fpost.phinf.naver.net%2FMjAxOTA0MjlfMTA3%2FMDAxNTU2NTA0MzA2MzE4.0UAFhPY7p0odl0sTrtap8gh1ti63KbjaCRERw_8qyzwg.lheAC4SgbJ26pQtbPEoLpKq8f5QIPUtpMnz850vzzWMg.JPEG%2FIMBvaNWUWeK6v2onENvaworTmtAE.jpg&type=b400'),\n",
       " ('[인터뷰①] 박보영 \"데뷔 이래 가장 나쁜女..♥ 참 어렵더라\" | 포토뉴스',\n",
       "  'https://search.pstatic.net/common/?src=http%3A%2F%2Fimgnews.naver.net%2Fimage%2F076%2F2018%2F08%2F09%2F2018081001000825000059711_20180809115327017.jpg&type=b400'),\n",
       " ('\\'어비스\\' 박보영 \"외모 관련 대사, 불편할까 걱정돼 수정 노력\" | 포토뉴스',\n",
       "  'https://search.pstatic.net/common/?src=http%3A%2F%2Fimgnews.naver.net%2Fimage%2F076%2F2019%2F05%2F03%2F2019050401000298400016991_20190503160106821.jpg&type=b400'),\n",
       " (\"[티저]'엄마야!' 거울 보고 깜짝 놀란 박보영 tvN [어비스-영혼소생구슬] | 동영상\",\n",
       "  'https://search.pstatic.net/common/?src=http%3A%2F%2Fhol.phinf.naver.net%2F00%2F662%2F354%2F66235414_1.jpg&type=b400'),\n",
       " (\"'이 정도면 장기근속'… 박보영, 토레타 모델 발탁 | 포토뉴스\",\n",
       "  'https://search.pstatic.net/common/?src=http%3A%2F%2Fimgnews.naver.net%2Fimage%2F5582%2F2019%2F03%2F26%2F0000035400_001_20190326111013364.jpg&type=b400'),\n",
       " ('박보영 폰 배경사진 고화질로 많이많이 | 지식iN',\n",
       "  'https://search.pstatic.net/common/?src=http%3A%2F%2Fkinimage.naver.net%2F20181216_209%2F15449260677587Ll86_JPEG%2F1544926067429.jpg&type=b400'),\n",
       " (\"[화보] 박보영, 인형외모에 우윳빛 각선미 '섹시' - 세계일보 | 웹\",\n",
       "  'https://search.pstatic.net/sunny/?src=http%3A%2F%2Fimg.segye.com%2Fcontent%2Fimage%2F2015%2F10%2F17%2F20151017503314.jpg&type=b400'),\n",
       " (\"[시크포토]박보영, '클로즈업 부르는 미모' | 포토뉴스\",\n",
       "  'https://search.pstatic.net/common/?src=http%3A%2F%2Fimgnews.naver.net%2Fimage%2F5349%2F2018%2F08%2F07%2F1533628848_205383_20180807165840982.jpg&type=b400'),\n",
       " (\"[TEN PHOTO]박보영 '굿 모닝~' | 포토뉴스\",\n",
       "  'https://search.pstatic.net/common/?src=http%3A%2F%2Fimgnews.naver.net%2Fimage%2F312%2F2019%2F04%2F29%2F0000385085_001_20190429111506300.jpg&type=b400'),\n",
       " (\"'런닝맨' 박보영, 깜짝출연...절친 선배 송지효와 민낯대결 | 포토뉴스\",\n",
       "  'https://search.pstatic.net/common/?src=http%3A%2F%2Fimgnews.naver.net%2Fimage%2F5575%2F2019%2F03%2F03%2F0000033175_001_20190303115605887.jpg&type=b400'),\n",
       " ('탐정 홍길동 시사회에서 | 블로그',\n",
       "  'https://search.pstatic.net/common/?src=http%3A%2F%2Fblogfiles.naver.net%2F20160506_156%2Fbismuth083_1462537897447sdsOj_JPEG%2FFB_IMG_1462446137505.jpg&type=b400'),\n",
       " (\"♥♥♥♥♥박보영♥'영화'노브레싱 VIP시사회 초대 인터뷰♥♥♥♥♥ | 블로그\",\n",
       "  'https://search.pstatic.net/common/?src=http%3A%2F%2Fblogfiles.naver.net%2F20131111_212%2Fpapa77ma_1384121301256kovyM_JPEG%2F%25A2%25BD%25B9%25DA%25BA%25B8%25BF%25B5%25A2%25BD.jpg&type=b400'),\n",
       " (\"[TEN PHOTO]박보영 '가만히 있어도 미모가 반짝' | 포토뉴스\",\n",
       "  'https://search.pstatic.net/common/?src=http%3A%2F%2Fimgnews.naver.net%2Fimage%2F312%2F2018%2F08%2F09%2F0000342601_001_20180809170227017.jpg&type=b400'),\n",
       " (\"'오나귀'→'어비스' 박보영, 어게인 '뽀블리' 매직 자신감(종합)[Oh!쎈 현장] | 포토뉴스\",\n",
       "  'https://search.pstatic.net/common/?src=http%3A%2F%2Fimgnews.naver.net%2Fimage%2F109%2F2019%2F05%2F03%2F0004002600_002_20190503164807188.jpg&type=b400'),\n",
       " ('\\'피끓는 청춘\\' 박보영, 일진 연기 \"학생들이 따라할까 걱정\" | 포토뉴스',\n",
       "  'https://search.pstatic.net/common/?src=http%3A%2F%2Fimgnews.naver.net%2Fimage%2F5268%2F2014%2F01%2F21%2F927889_0-550827_47544_59_20140121145003.jpg&type=b400'),\n",
       " (\"[TEN PHOTO]박보영 '꽃내음 가득한 매력' | 포토뉴스\",\n",
       "  'https://search.pstatic.net/common/?src=http%3A%2F%2Fimgnews.naver.net%2Fimage%2F312%2F2019%2F04%2F29%2F0000385092_001_20190429112508757.jpg&type=b400'),\n",
       " ('tvN ‘어비스’ 25일 마지막 회.. 박보영 \"내가 너 지켜줄게” | 포토뉴스',\n",
       "  'https://search.pstatic.net/common/?src=http%3A%2F%2Fimgnews.naver.net%2Fimage%2F5503%2F2019%2F06%2F25%2F0000030512_001_20190625145841663.JPG&type=b400'),\n",
       " ('[#별별샷] 배우 박보영, 청순한 방부제 미모로 ‘시선강탈’ | 포토뉴스',\n",
       "  'https://search.pstatic.net/common/?src=http%3A%2F%2Fimgnews.naver.net%2Fimage%2F5339%2F2018%2F12%2F07%2F2018120636294797_20181207000910239.jpg&type=b400'),\n",
       " (\"'어비스' 박보영, 안효섭과 애틋한 사랑...해피엔딩 기대감 up | 포토뉴스\",\n",
       "  'https://search.pstatic.net/common/?src=http%3A%2F%2Fimgnews.naver.net%2Fimage%2F5567%2F2019%2F06%2F25%2F0000008181_001_20190625110648024.jpg&type=b400'),\n",
       " ('박보영 컬투 얼굴 비교 \"컬투 머리크기 반밖에 안되는 \\'소두 종결자\\'\" | 포토뉴스',\n",
       "  'https://search.pstatic.net/common/?src=http%3A%2F%2Fimgnews.naver.net%2Fimage%2F5043%2F2012%2F10%2F30%2F2012103015504813_59_20121030092011.jpg&type=b400'),\n",
       " (\"'어비스' 박보영♥안효섭, 심쿵 키스‥권수현, 박보영 살인 사주(종합) | 포토뉴스\",\n",
       "  'https://search.pstatic.net/common/?src=http%3A%2F%2Fimgnews.naver.net%2Fimage%2F112%2F2019%2F05%2F28%2F201905282207245443380_20190528224138_01_20190528224209210.jpg&type=b400'),\n",
       " ('[포토] ‘어비스’ ‘뽀블리’ 박보영 ‘아름답다’ | 포토뉴스',\n",
       "  'https://search.pstatic.net/common/?src=http%3A%2F%2Fimgnews.naver.net%2Fimage%2F382%2F2019%2F05%2F03%2F0000729116_001_20190503153611843.jpg&type=b400'),\n",
       " ('tvN ‘어비스’ 로맨틱가이 안효섭,  박보영에게 ‘테디베어’ 목걸이 깜짝 선물! | 포토뉴스',\n",
       "  'https://search.pstatic.net/common/?src=http%3A%2F%2Fimgnews.naver.net%2Fimage%2F5696%2F2019%2F06%2F12%2F0000014463_001_20190612155651670.jpg&type=b400'),\n",
       " (\"'어비스' 박보영♥안효섭, 본격 동거시작 '초밀착 껌딱지' | 포토뉴스\",\n",
       "  'https://search.pstatic.net/common/?src=http%3A%2F%2Fimgnews.naver.net%2Fimage%2F117%2F2019%2F06%2F04%2F201906041529224634_1_20190604153311103.jpg&type=b400'),\n",
       " ('박보영 \"이소라 박효신 듀엣곡 받쓰, \\'소울트리\\'인데 속상하다\" | 포토뉴스',\n",
       "  'https://search.pstatic.net/common/?src=http%3A%2F%2Fimgnews.naver.net%2Fimage%2F5575%2F2019%2F05%2F04%2F0000042593_001_20190504202221714.jpg&type=b400'),\n",
       " ('‘어비스’ 박보영-안효섭-이시언, 권수현 처단 막판 스퍼트[오늘TV] | 포토뉴스',\n",
       "  'https://search.pstatic.net/common/?src=http%3A%2F%2Fimgnews.naver.net%2Fimage%2F609%2F2019%2F06%2F24%2F201906241301272410_2_20190624130727191.jpg&type=b400'),\n",
       " ('박보영 \\'운동 셀카\\' 공개, \"너무 예쁘다!\" 네티즌 극찬 | 포토뉴스',\n",
       "  'https://search.pstatic.net/common/?src=http%3A%2F%2Fimgnews.naver.net%2Fimage%2F5092%2F2011%2F06%2F20%2F1308560965_600.jpg&type=b400'),\n",
       " (\"박보영 '어비스', 프로페셔널 검사 스타일링 눈길 | 포토뉴스\",\n",
       "  'https://search.pstatic.net/common/?src=http%3A%2F%2Fimgnews.naver.net%2Fimage%2F5567%2F2019%2F05%2F29%2F0000007370_001_20190529103635685.jpg&type=b400'),\n",
       " ('‘어비스’ 안효섭, 박보영 위한 특급 배려…다정보스 등극 | 포토뉴스',\n",
       "  'https://search.pstatic.net/common/?src=http%3A%2F%2Fimgnews.naver.net%2Fimage%2F015%2F2019%2F06%2F11%2F0004156850_001_20190611134604695.jpg&type=b400'),\n",
       " (\"[사진]박보영,'백옥같은 피부' | 포토뉴스\",\n",
       "  'https://search.pstatic.net/common/?src=http%3A%2F%2Fimgnews.naver.net%2Fimage%2F109%2F2008%2F10%2F27%2F200810271211252300_1.jpg&type=b400'),\n",
       " ('\\'어비스\\' 제작진 \"박보영-안효섭 \\'애틋 로맨스\\' 무르익는다\" | 포토뉴스',\n",
       "  'https://search.pstatic.net/common/?src=http%3A%2F%2Fimgnews.naver.net%2Fimage%2F468%2F2019%2F06%2F09%2F0000517985_001_20190609094022835.jpg&type=b400'),\n",
       " (\"'어비스' 박보영X안효섭, 현실에서도 껌딱지 모드…초밀착 케미폭발 비하인드 공개 | 포토뉴스\",\n",
       "  'https://search.pstatic.net/common/?src=http%3A%2F%2Fimgnews.naver.net%2Fimage%2F468%2F2019%2F05%2F19%2F0000509577_001_20190519134517159.jpg&type=b400'),\n",
       " ('[스타패션] 박보영, 가을 여인으로 변신해 반전 매력 발산 | 포토뉴스',\n",
       "  'https://search.pstatic.net/common/?src=http%3A%2F%2Fimgnews.naver.net%2Fimage%2F144%2F2015%2F09%2F16%2Fl_2015091602001330300222841_99_20150916141402.jpg&type=b400'),\n",
       " ('박보영, 셀카로 근황 공개 \"역시 국민여동생\" | 포토뉴스',\n",
       "  'https://search.pstatic.net/common/?src=http%3A%2F%2Fimgnews.naver.net%2Fimage%2F5138%2F2011%2F04%2F04%2F201104040931099660385-2-25339.jpg&type=b400'),\n",
       " (\"[MD포토] 박보영 '한화 유니폼 입고 야구장 왔어요' | 포토뉴스\",\n",
       "  'https://search.pstatic.net/common/?src=http%3A%2F%2Fimgnews.naver.net%2Fimage%2F117%2F2016%2F08%2F30%2F201608301954891116_1_99_20160830195503.jpg&type=b400'),\n",
       " ('레스포색, 새 뮤즈 박보영 발탁 | 포토뉴스',\n",
       "  'https://search.pstatic.net/common/?src=http%3A%2F%2Fimgnews.naver.net%2Fimage%2F5090%2F2013%2F02%2F17%2F20130217000088_0_59_20130217140812.jpg&type=b400'),\n",
       " ('박보영 \"스타덤? 친구들도 어색하다고 놀려요\"(인터뷰) | 포토뉴스',\n",
       "  'https://search.pstatic.net/common/?src=http%3A%2F%2Fimgnews.naver.net%2Fimage%2F108%2F2008%2F12%2F16%2F2008121610173266362_1.jpg&type=b400'),\n",
       " ('박보영 에스콰이어 화보  | 블로그',\n",
       "  'https://search.pstatic.net/common/?src=http%3A%2F%2Fblogfiles.naver.net%2F20130115_176%2Fmeem1234_13582249143180FEUm_PNG%2F616134414dc99047d8b5cd8114e9118d_tlLpEK3D7gyeZn5fv.png&type=b400'),\n",
       " ('박보영 : 힘쎈여자도봉순 도봉순 | 블로그',\n",
       "  'https://search.pstatic.net/common/?src=http%3A%2F%2Fblogfiles.naver.net%2FMjAxODA3MDRfMTkx%2FMDAxNTMwNjY2OTg4MjQ3.jGIjWJ2Q48xxoz37vJRZDsL3hPkRyYeU8yMeB_rS1KQg.YldJcuFtuDxDeyHf4q8WAKjE-jOqa4IsVgylD1nh4PYg.JPEG.js2y86%2F%25BB%25CD%25BC%25F6%25B4%25CF10.jpg&type=b400')]"
      ]
     },
     "execution_count": 450,
     "metadata": {},
     "output_type": "execute_result"
    }
   ],
   "source": [
    "resq = download(\"get\", \"https://search.naver.com/search.naver\", param={'where':'image','query':'박보영'})\n",
    "\n",
    "\n",
    "dom = BeautifulSoup(resq.text, \"lxml\")\n",
    "[(_[\"alt\"], _[\"data-source\"]) for _ in dom.find(\"div\",{\"class\":\"photo_grid _box\"}).find_all(\"img\")]"
   ]
  },
  {
   "cell_type": "markdown",
   "metadata": {},
   "source": [
    "## Selector\n",
    "정규식, Dom, Css 포함함 <br>\n",
    "CSSOM : 브라우저 입장에서 봤을때 띄어주는 것"
   ]
  },
  {
   "cell_type": "code",
   "execution_count": 460,
   "metadata": {},
   "outputs": [],
   "source": [
    "html = '''\n",
    "<html>\n",
    "\t<head></head>\n",
    "\t<body>\n",
    "    \t<div id=\"result\">\n",
    "        \t<p class=\"abc\">\n",
    "            \t<a class=\"red\" id = \"red2\" href = \"https:naver.com\">go to open</a>\n",
    "                <a class=\"blue\">hi everyone</a>\n",
    "                <div class=\"bule\"><div>\n",
    "                <div> <a> third a </a></div>\n",
    "            </p>\n",
    "        </div>\n",
    "\t</body>\n",
    "</html>\n",
    "'''"
   ]
  },
  {
   "cell_type": "code",
   "execution_count": 461,
   "metadata": {},
   "outputs": [],
   "source": [
    "dom = BeautifulSoup(html, \"lxml\")"
   ]
  },
  {
   "cell_type": "code",
   "execution_count": 462,
   "metadata": {},
   "outputs": [
    {
     "data": {
      "text/plain": [
       "[<div id=\"result\">\n",
       " <p class=\"abc\">\n",
       " <a class=\"red\" href=\"https:naver.com\" id=\"red2\">go to open</a>\n",
       " <a class=\"blue\">hi everyone</a>\n",
       " </p><div class=\"bule\"><div>\n",
       " <div> <a> third a </a></div>\n",
       " </div>\n",
       " </div></div>, <div class=\"bule\"><div>\n",
       " <div> <a> third a </a></div>\n",
       " </div>\n",
       " </div>, <div>\n",
       " <div> <a> third a </a></div>\n",
       " </div>, <div> <a> third a </a></div>]"
      ]
     },
     "execution_count": 462,
     "metadata": {},
     "output_type": "execute_result"
    }
   ],
   "source": [
    "dom.select('div') # 자식이 아니라 자손을 찾음."
   ]
  },
  {
   "cell_type": "markdown",
   "metadata": {},
   "source": [
    "ID => # <br>\n",
    "class -> . <br>\n",
    "태그 -> 태그 <br>\n",
    "자손 -> 공백 <br>\n",
    "자식 -> > <br>"
   ]
  },
  {
   "cell_type": "code",
   "execution_count": 463,
   "metadata": {},
   "outputs": [
    {
     "data": {
      "text/plain": [
       "[<div id=\"result\">\n",
       " <p class=\"abc\">\n",
       " <a class=\"red\" href=\"https:naver.com\" id=\"red2\">go to open</a>\n",
       " <a class=\"blue\">hi everyone</a>\n",
       " </p><div class=\"bule\"><div>\n",
       " <div> <a> third a </a></div>\n",
       " </div>\n",
       " </div></div>, <div class=\"bule\"><div>\n",
       " <div> <a> third a </a></div>\n",
       " </div>\n",
       " </div>, <div>\n",
       " <div> <a> third a </a></div>\n",
       " </div>, <div> <a> third a </a></div>]"
      ]
     },
     "execution_count": 463,
     "metadata": {},
     "output_type": "execute_result"
    }
   ],
   "source": [
    "dom.select(\"div\")"
   ]
  },
  {
   "cell_type": "code",
   "execution_count": 464,
   "metadata": {},
   "outputs": [
    {
     "data": {
      "text/plain": [
       "[<div id=\"result\">\n",
       " <p class=\"abc\">\n",
       " <a class=\"red\" href=\"https:naver.com\" id=\"red2\">go to open</a>\n",
       " <a class=\"blue\">hi everyone</a>\n",
       " </p><div class=\"bule\"><div>\n",
       " <div> <a> third a </a></div>\n",
       " </div>\n",
       " </div></div>]"
      ]
     },
     "execution_count": 464,
     "metadata": {},
     "output_type": "execute_result"
    }
   ],
   "source": [
    "dom.select(\"div#result\")"
   ]
  },
  {
   "cell_type": "code",
   "execution_count": 465,
   "metadata": {},
   "outputs": [
    {
     "data": {
      "text/plain": [
       "[<div id=\"result\">\n",
       " <p class=\"abc\">\n",
       " <a class=\"red\" href=\"https:naver.com\" id=\"red2\">go to open</a>\n",
       " <a class=\"blue\">hi everyone</a>\n",
       " </p><div class=\"bule\"><div>\n",
       " <div> <a> third a </a></div>\n",
       " </div>\n",
       " </div></div>]"
      ]
     },
     "execution_count": 465,
     "metadata": {},
     "output_type": "execute_result"
    }
   ],
   "source": [
    "dom.select(\"#result\")"
   ]
  },
  {
   "cell_type": "code",
   "execution_count": 469,
   "metadata": {},
   "outputs": [
    {
     "data": {
      "text/plain": [
       "4"
      ]
     },
     "execution_count": 469,
     "metadata": {},
     "output_type": "execute_result"
    }
   ],
   "source": [
    "len(dom.select(\"body div\"))"
   ]
  },
  {
   "cell_type": "code",
   "execution_count": 470,
   "metadata": {},
   "outputs": [
    {
     "data": {
      "text/plain": [
       "[<div id=\"result\">\n",
       " <p class=\"abc\">\n",
       " <a class=\"red\" href=\"https:naver.com\" id=\"red2\">go to open</a>\n",
       " <a class=\"blue\">hi everyone</a>\n",
       " </p><div class=\"bule\"><div>\n",
       " <div> <a> third a </a></div>\n",
       " </div>\n",
       " </div></div>]"
      ]
     },
     "execution_count": 470,
     "metadata": {},
     "output_type": "execute_result"
    }
   ],
   "source": [
    "dom.select(\"body>div\")"
   ]
  },
  {
   "cell_type": "code",
   "execution_count": 498,
   "metadata": {},
   "outputs": [],
   "source": [
    "url = \"https://www.google.com/search?\"\n",
    "resq = download(\"get\", url, param={'q':'박보영'})"
   ]
  },
  {
   "cell_type": "code",
   "execution_count": 493,
   "metadata": {},
   "outputs": [],
   "source": [
    "dom=BeautifulSoup(resq.text,\"lxml\")"
   ]
  },
  {
   "cell_type": "code",
   "execution_count": 500,
   "metadata": {},
   "outputs": [
    {
     "data": {
      "text/plain": [
       "[]"
      ]
     },
     "execution_count": 500,
     "metadata": {},
     "output_type": "execute_result"
    }
   ],
   "source": [
    "dom.select(\".rc > .r a\")"
   ]
  },
  {
   "cell_type": "markdown",
   "metadata": {},
   "source": [
    "dom.select(\".rc > .r a[href^=http]\") # http로 시작하는 것만 긁어옴"
   ]
  },
  {
   "cell_type": "code",
   "execution_count": 501,
   "metadata": {},
   "outputs": [],
   "source": [
    "url = \"https://search.naver.com/search.naver?\"\n",
    "resq = download(\"get\", url, param={'query':'박보영'})"
   ]
  },
  {
   "cell_type": "code",
   "execution_count": 503,
   "metadata": {},
   "outputs": [],
   "source": [
    "dom = BeautifulSoup(resq.text, \"lxml\")"
   ]
  },
  {
   "cell_type": "code",
   "execution_count": 524,
   "metadata": {},
   "outputs": [
    {
     "name": "stdout",
     "output_type": "stream",
     "text": [
      "http://www.lecturernews.com/news/articleView.html?idxno=21949\n",
      "http://www.incheonilbo.com/news/articleView.html?idxno=961581\n",
      "http://viewers.heraldcorp.com/news/articleView.html?idxno=39209\n",
      "http://star.mt.co.kr/stview.php?no=2019071016145539514\n"
     ]
    }
   ],
   "source": [
    "for i in dom.select('.type01>li[id^=sp_nws_all]>dl>dt>a[href^=http]'):\n",
    "    print(i['href'])"
   ]
  },
  {
   "cell_type": "code",
   "execution_count": 508,
   "metadata": {},
   "outputs": [
    {
     "data": {
      "text/plain": [
       "list"
      ]
     },
     "execution_count": 508,
     "metadata": {},
     "output_type": "execute_result"
    }
   ],
   "source": [
    "url = \"https://search.naver.com/search.naver\"\n",
    "resq = download(\"get\", url, param={'query':'박보영'})\n",
    "dom = BeautifulSoup(resq.text, \" lxml\")"
   ]
  },
  {
   "cell_type": "code",
   "execution_count": 527,
   "metadata": {},
   "outputs": [],
   "source": [
    "url = \"https://search.daum.net/search\"\n",
    "resq = download(\"get\", url, param= {'q':'파이썬'})\n",
    "dom = BeautifulSoup(resq.text, \"lxml\")"
   ]
  },
  {
   "cell_type": "code",
   "execution_count": 541,
   "metadata": {},
   "outputs": [
    {
     "name": "stdout",
     "output_type": "stream",
     "text": [
      "\n",
      "\n",
      " https://www.daum.net/?nil_profile=daum&nil_src=search\n",
      "\n",
      "\n",
      "백과사전\n",
      "새창\n",
      "\n",
      " http://100.daum.net/search/entry?q=%ED%8C%8C%EC%9D%B4%EC%8D%AC\n",
      "\n",
      "\n",
      "어학사전\n",
      "새창\n",
      "\n",
      " http://dic.daum.net/search.do?q=%ED%8C%8C%EC%9D%B4%EC%8D%AC\n",
      "\n",
      "\n",
      "지도\n",
      "새창\n",
      "\n",
      " http://map.daum.net/?from=total&nil_suggest=btn&tab=place&q=%ED%8C%8C%EC%9D%B4%EC%8D%AC\n",
      "\n",
      "\n",
      "쇼핑\n",
      "새창\n",
      "\n",
      " http://shopping.daum.net/in/search?srchhow=Cexpo&q=%ED%8C%8C%EC%9D%B4%EC%8D%AC\n",
      "파이썬 https://www.python.org/\n",
      "www.python.org/ https://www.python.org/\n",
      "신청하기 https://business.kakao.com/info/keywordad/\n",
      "   http://keyword.ad.daum.net/short/clk?q=BWmL_xBjdZXEZaLYOhZhENhg5DsM3YkaXAiTYhRft3Rm8xx9r8ugFFH.nE8NJEkLhwzV.msTcsgWGXcOkiDUU35uI6BOf_CjuIm_HqV.LJGz8pEcA1UAW_X4R_M5ciQq1XtCoMzQue_muaG6iOnOXxhJVdJ_Hbj5zqbGQ7gIQD2Bx8a4_lWz1L-75NT4siJdM23RNRQPEyxFsQ00&s=http%3A%2F%2Fwww.koreaisacademy.com%2F%3FDMKW%3D%25ED%258C%258C%25EC%259D%25B4%25EC%258D%25AC%26DMSKW%3D%25ED%258C%258C%25EC%259D%25B4%25EC%258D%25AC%26DMCOL%3DPM&isExtCont=true\n",
      "코리아IT아카데미 http://keyword.ad.daum.net/short/clk?q=BWdSBbUF5ken_1Nt-noKvU1qNV2MvGpW6k7EQQpk31m7I8Gya85-gzsZr.qirFJ-f-hF59Yo4-SF-xJrdD6gVkmsp-eX9fV.7TW9a.U9WdUDzY81r1yICUf3ifVsnL9usNpnkzFTBarNYYOaf5-lbP8awIlPLhjKCt4BfjCwuUFD9EpYMnvpePW-V27TYYZONt_t8o_KaZx5uQ00&s=http%3A%2F%2Fwww.koreaisacademy.com%2F%3FDMKW%3D%25ED%258C%258C%25EC%259D%25B4%25EC%258D%25AC%26DMSKW%3D%25ED%258C%258C%25EC%259D%25B4%25EC%258D%25AC%26DMCOL%3DPM\n",
      "www.koreaisacademy.com http://keyword.ad.daum.net/short/clk?q=BWdSBbUF5ken_1Nt-noKvU1qNV2MvGpW6k7EQQpk31m7I8Gya85-gzsZr.qirFJ-f-hF59Yo4-SF-xJrdD6gVkmsp-eX9fV.7TW9a.U9WdUDzY81r1yICUf3ifVsnL9usNpnkzFTBarNYYOaf5-lbP8awIlPLhjKCt4BfjCwuUFD9EpYMnvpePW-V27TYYZONt_t8o_KaZx5uQ00&s=http%3A%2F%2Fwww.koreaisacademy.com%2F%3FDMKW%3D%25ED%258C%258C%25EC%259D%25B4%25EC%258D%25AC%26DMSKW%3D%25ED%258C%258C%25EC%259D%25B4%25EC%258D%25AC%26DMCOL%3DPM\n",
      "파이썬, 브랜드대상4관왕, 국비전액무료, IT우수기관, 수강료조회. http://keyword.ad.daum.net/short/clk?q=BWdSBbUF5ken_1Nt-noKvU1qNV2MvGpW6k7EQQpk31m7I8Gya85-gzsZr.qirFJ-f-hF59Yo4-SF-xJrdD6gVkmsp-eX9fV.7TW9a.U9WdUDzY81r1yICUf3ifVsnL9usNpnkzFTBarNYYOaf5-lbP8awIlPLhjKCt4BfjCwuUFD9EpYMnvpePW-V27TYYZONt_t8o_KaZx5uQ00&s=http%3A%2F%2Fwww.koreaisacademy.com%2F%3FDMKW%3D%25ED%258C%258C%25EC%259D%25B4%25EC%258D%25AC%26DMSKW%3D%25ED%258C%258C%25EC%259D%25B4%25EC%258D%25AC%26DMCOL%3DPM\n",
      "대학인강 대표 유니와이즈 http://keyword.ad.daum.net/short/clk?q=BWqcY6A7N5dmOHvTPxbPa.cFPKn3PKgxDLcxdTq37Q6P2mRmtvB93kD78vyfsiXHBaFEyjIoxl-_K.wmR6VQhppsgX7PIWsAO5PYezyr3DrmWFjgeHN9makB7XVq3poZDdoU6J8PUtkGeN_28-9df1gpgdjPoLYfVWIBAsXXfRjgoXZWrlwQKTK_BW_Qe_Kape44xa9lLTBi3.ntUZQsgT_Hv9gHKnN4gMVC2j4Bb9uQbT9GVV1b9JfpYZ71CyyRvB8k55tC7TYmwVI.rjQ9OPVe2ZIOPhcNjAypibaRoYNjPaCycK9UNaFPusaG98nvGG6HWZYybv4M9d5Ywor2KC7sysjtqXTvn4CXonLkNPzv1JhDEbZ2iWHDCmLWVy278SY0&s=http%3A%2F%2Fwww.uniwise.co.kr%2FuniwiseWeb%2Flecture%2FmovieLectureList.html%3FsubNo%3D3%26searchCategoryCode%3D003%26searchSubjectCode%3D1320%26SUBJECT_SJT_CD%3D1320%26leftMenuLType%3DT002%26lecKType%3DDl%3FsubNo%3D5%26searchCategoryCode%3D005%26searchSubjectCode%3D1296%26SUBJECT_SJT_CD%3D1296%26leftMenuLType%3DT002%26lecKType%3DDl%3FsubNo%3D5%26searchCategoryCode%3D005%26searchSubjectCode%3D1296%26SUBJECT_SJT_CD%3D1296%26leftMenuLType%3DT002%26lecKType%3DD%3Futm_source%3Ddaum%26utm_medium%3DCPC%26DMKW%3D%25ED%258C%258C%25EC%259D%25B4%25EC%258D%25AC%26DMSKW%3D%25ED%258C%258C%25EC%259D%25B4%25EC%258D%25AC%26DMCOL%3DPM\n",
      "www.uniwise.co.kr http://keyword.ad.daum.net/short/clk?q=BWqcY6A7N5dmOHvTPxbPa.cFPKn3PKgxDLcxdTq37Q6P2mRmtvB93kD78vyfsiXHBaFEyjIoxl-_K.wmR6VQhppsgX7PIWsAO5PYezyr3DrmWFjgeHN9makB7XVq3poZDdoU6J8PUtkGeN_28-9df1gpgdjPoLYfVWIBAsXXfRjgoXZWrlwQKTK_BW_Qe_Kape44xa9lLTBi3.ntUZQsgT_Hv9gHKnN4gMVC2j4Bb9uQbT9GVV1b9JfpYZ71CyyRvB8k55tC7TYmwVI.rjQ9OPVe2ZIOPhcNjAypibaRoYNjPaCycK9UNaFPusaG98nvGG6HWZYybv4M9d5Ywor2KC7sysjtqXTvn4CXonLkNPzv1JhDEbZ2iWHDCmLWVy278SY0&s=http%3A%2F%2Fwww.uniwise.co.kr%2FuniwiseWeb%2Flecture%2FmovieLectureList.html%3FsubNo%3D3%26searchCategoryCode%3D003%26searchSubjectCode%3D1320%26SUBJECT_SJT_CD%3D1320%26leftMenuLType%3DT002%26lecKType%3DDl%3FsubNo%3D5%26searchCategoryCode%3D005%26searchSubjectCode%3D1296%26SUBJECT_SJT_CD%3D1296%26leftMenuLType%3DT002%26lecKType%3DDl%3FsubNo%3D5%26searchCategoryCode%3D005%26searchSubjectCode%3D1296%26SUBJECT_SJT_CD%3D1296%26leftMenuLType%3DT002%26lecKType%3DD%3Futm_source%3Ddaum%26utm_medium%3DCPC%26DMKW%3D%25ED%258C%258C%25EC%259D%25B4%25EC%258D%25AC%26DMSKW%3D%25ED%258C%258C%25EC%259D%25B4%25EC%258D%25AC%26DMCOL%3DPM\n",
      "여름방학 맞이 특별할인 이벤트! 딱 15일동안만 최대 30%할인! ~7/15 종료 http://keyword.ad.daum.net/short/clk?q=BWqcY6A7N5dmOHvTPxbPa.cFPKn3PKgxDLcxdTq37Q6P2mRmtvB93kD78vyfsiXHBaFEyjIoxl-_K.wmR6VQhppsgX7PIWsAO5PYezyr3DrmWFjgeHN9makB7XVq3poZDdoU6J8PUtkGeN_28-9df1gpgdjPoLYfVWIBAsXXfRjgoXZWrlwQKTK_BW_Qe_Kape44xa9lLTBi3.ntUZQsgT_Hv9gHKnN4gMVC2j4Bb9uQbT9GVV1b9JfpYZ71CyyRvB8k55tC7TYmwVI.rjQ9OPVe2ZIOPhcNjAypibaRoYNjPaCycK9UNaFPusaG98nvGG6HWZYybv4M9d5Ywor2KC7sysjtqXTvn4CXonLkNPzv1JhDEbZ2iWHDCmLWVy278SY0&s=http%3A%2F%2Fwww.uniwise.co.kr%2FuniwiseWeb%2Flecture%2FmovieLectureList.html%3FsubNo%3D3%26searchCategoryCode%3D003%26searchSubjectCode%3D1320%26SUBJECT_SJT_CD%3D1320%26leftMenuLType%3DT002%26lecKType%3DDl%3FsubNo%3D5%26searchCategoryCode%3D005%26searchSubjectCode%3D1296%26SUBJECT_SJT_CD%3D1296%26leftMenuLType%3DT002%26lecKType%3DDl%3FsubNo%3D5%26searchCategoryCode%3D005%26searchSubjectCode%3D1296%26SUBJECT_SJT_CD%3D1296%26leftMenuLType%3DT002%26lecKType%3DD%3Futm_source%3Ddaum%26utm_medium%3DCPC%26DMKW%3D%25ED%258C%258C%25EC%259D%25B4%25EC%258D%25AC%26DMSKW%3D%25ED%258C%258C%25EC%259D%25B4%25EC%258D%25AC%26DMCOL%3DPM\n",
      "KG아이티뱅크 파이썬교육 박연주 http://keyword.ad.daum.net/short/clk?q=BWxBJ9NHXsNseaMHG-PcqW_u-P_9MNOsOQ_aAw73ZhiwTw2CFPj7XNKhNcQ-OXmw56QISvRwJA22_AVy9SMmDIs37Q5-ZU.rIR_TKXY5XJV_KHEhU9BfdEHIEBbXK19QeyXdopI8Rkh_Y_y4PxnJYNbYgjhwzBqZ9AH3lGGzLqzuGnUEAnOHihU_5BmdHsldfv2UfzpJuJk4mg00&s=http%3A%2F%2Fwww.no1-itbank.com%2F%3FDMKW%3D%25ED%258C%258C%25EC%259D%25B4%25EC%258D%25AC%26DMSKW%3D%25ED%258C%258C%25EC%259D%25B4%25EC%258D%25AC%26DMCOL%3DPM\n",
      "www.no1-itbank.com http://keyword.ad.daum.net/short/clk?q=BWxBJ9NHXsNseaMHG-PcqW_u-P_9MNOsOQ_aAw73ZhiwTw2CFPj7XNKhNcQ-OXmw56QISvRwJA22_AVy9SMmDIs37Q5-ZU.rIR_TKXY5XJV_KHEhU9BfdEHIEBbXK19QeyXdopI8Rkh_Y_y4PxnJYNbYgjhwzBqZ9AH3lGGzLqzuGnUEAnOHihU_5BmdHsldfv2UfzpJuJk4mg00&s=http%3A%2F%2Fwww.no1-itbank.com%2F%3FDMKW%3D%25ED%258C%258C%25EC%259D%25B4%25EC%258D%25AC%26DMSKW%3D%25ED%258C%258C%25EC%259D%25B4%25EC%258D%25AC%26DMCOL%3DPM\n",
      "수강료 최대 40%할인적용 http://keyword.ad.daum.net/short/clk?q=BW2BJ9NHXsNseaMHG-PcqW_u-P_9MNOsOQ_aAw73ZhiwTw2CFPj7XNKhNcQ-OXmw56QISvRwJA22_AVy9SMmDIs37Q5-ZU.rIR_TKXY5XJV_KHEhU9BfdEHIEBbXK19QeyXdopI8Rkh_Y_y4PxnJYNbYgjhwzBqZ9AH3lGGzLqzuGnUEAnOHihU_5BmdHsldfv2UfzpJuJk4mg00&s=http%3A%2F%2Fwww.no1-itbank.com%2F%3FDMKW%3D%25ED%258C%258C%25EC%259D%25B4%25EC%258D%25AC%26DMSKW%3D%25ED%258C%258C%25EC%259D%25B4%25EC%258D%25AC%26DMCOL%3DPM&isExtCont=true\n",
      "파이썬교육 기초 및 심화과정상담, 일정, 지점, 수강료조회 및 상담신청. http://keyword.ad.daum.net/short/clk?q=BWxBJ9NHXsNseaMHG-PcqW_u-P_9MNOsOQ_aAw73ZhiwTw2CFPj7XNKhNcQ-OXmw56QISvRwJA22_AVy9SMmDIs37Q5-ZU.rIR_TKXY5XJV_KHEhU9BfdEHIEBbXK19QeyXdopI8Rkh_Y_y4PxnJYNbYgjhwzBqZ9AH3lGGzLqzuGnUEAnOHihU_5BmdHsldfv2UfzpJuJk4mg00&s=http%3A%2F%2Fwww.no1-itbank.com%2F%3FDMKW%3D%25ED%258C%258C%25EC%259D%25B4%25EC%258D%25AC%26DMSKW%3D%25ED%258C%258C%25EC%259D%25B4%25EC%258D%25AC%26DMCOL%3DPM\n",
      "더조은 컴퓨터아카데미 http://keyword.ad.daum.net/short/clk?q=BW5sKdxehz.5BP7t27bfUN_IXEEsYHpw_WUBtY1C9KFLTAfw964B-AB9lnChsMKpgMB1quvvLcyH_UrsK_mHp2ICd-IBEBnSCT_JKN8elzW2rg9o3nZMGzW_pLNVsm_BF3FWH5g3MZzkMduj_57-d3Mmg9fzHOxJ_7.YxWsbUYLSMNlBbj2hLznwXHv.egZNQAEvLJRslLb4HF2Ovj9QA3iJVhc7CJ8umpw0&s=http%3A%2F%2Ftjoeun.co.kr%2Ffront%2Flecture%2Fit_course.asp%3FDMKW%3D%25ED%258C%258C%25EC%259D%25B4%25EC%258D%25AC%26DMSKW%3D%25ED%258C%258C%25EC%259D%25B4%25EC%258D%25AC%26DMCOL%3DPM\n",
      "www.tjoeun.co.kr http://keyword.ad.daum.net/short/clk?q=BW5sKdxehz.5BP7t27bfUN_IXEEsYHpw_WUBtY1C9KFLTAfw964B-AB9lnChsMKpgMB1quvvLcyH_UrsK_mHp2ICd-IBEBnSCT_JKN8elzW2rg9o3nZMGzW_pLNVsm_BF3FWH5g3MZzkMduj_57-d3Mmg9fzHOxJ_7.YxWsbUYLSMNlBbj2hLznwXHv.egZNQAEvLJRslLb4HF2Ovj9QA3iJVhc7CJ8umpw0&s=http%3A%2F%2Ftjoeun.co.kr%2Ffront%2Flecture%2Fit_course.asp%3FDMKW%3D%25ED%258C%258C%25EC%259D%25B4%25EC%258D%25AC%26DMSKW%3D%25ED%258C%258C%25EC%259D%25B4%25EC%258D%25AC%26DMCOL%3DPM\n",
      "국비교육과정 http://keyword.ad.daum.net/short/clk?q=BW_EemvCqG4EcKlU_9mHYBI5KeN8Bm11rzunpu-9HhtFU7nHSUZPngR-AQAsrn1RW_yu5Hx4xxy9SJAdCgnyryJzgP3e1EBZXsXLGlTrUsbcnQ1FqZsU7yvTauIS26oA8zocGNuvIwl2HwXYubtLppgS&s=http%3A%2F%2Fm.tjoeun.co.kr%2Ffront%2Fetc%2Fncs%2F&isExtCont=true\n",
      "취업스토리 http://keyword.ad.daum.net/short/clk?q=BXGtIa_cAMFVbEoQa-EsOOWogyi7VwLB_aJmAsiTyscKql2jhplnIhzALKSxWsQMmZ.GvXcszDRlZ6cj5VOrIz187rGjwgK_7DvyPkq3Pjo-VDrBqkiYV88mnQUlS9Wbpw52WIDsj49CFFpNnX6CuejX.TYj6R6fLCUzQMGgIUQQZg00&s=http%3A%2F%2Fm.tjoeun.co.kr%2Ffront%2Flecture%2Fjobstory%2Fweb.asp&isExtCont=true\n",
      "포트폴리오 http://keyword.ad.daum.net/short/clk?q=BXIzK32B4FjCHyREKzl7C_NwcVy_NgaL2eGPodzpGRWqIySyEhoKSg1eH3BoQGH-B_wu9NPHdaZrtN.asXA-efM_EXOnJKRo-3HojpTth-NJQuRMojOnr_NfnZSg3-qUIdo6xqihT-Jbv1_zwRruKu6tkUB.wMa6S8M0&s=http%3A%2F%2Fm.tjoeun.co.kr%2Ffront%2Fportfolio%2Fportfolio.asp&isExtCont=true\n",
      "온라인상담 http://keyword.ad.daum.net/short/clk?q=BXNMQOkSB73w5ae6eqAaD_szYnEecO9I6xm61SljTDJXgtasFmlhvge6NerWuTEED81-MiwS7MXJiqYoq9A7HXU6CBhWEonYuZ-RPLRvHsHXDQ7E5Y86b4N_yqLbBNY5peRzPiojD66EC73-mvqks.EJUfLUGHFICP2OpU1X1NMMUw00&s=http%3A%2F%2Fm.tjoeun.co.kr%2Ffront%2Fhelpdesk%2Fonline_counsel.asp&isExtCont=true\n",
      "취업연계 국비 100% 무료교육, IT개발 전문가양성, 취업수당지급, 파이썬. http://keyword.ad.daum.net/short/clk?q=BW5sKdxehz.5BP7t27bfUN_IXEEsYHpw_WUBtY1C9KFLTAfw964B-AB9lnChsMKpgMB1quvvLcyH_UrsK_mHp2ICd-IBEBnSCT_JKN8elzW2rg9o3nZMGzW_pLNVsm_BF3FWH5g3MZzkMduj_57-d3Mmg9fzHOxJ_7.YxWsbUYLSMNlBbj2hLznwXHv.egZNQAEvLJRslLb4HF2Ovj9QA3iJVhc7CJ8umpw0&s=http%3A%2F%2Ftjoeun.co.kr%2Ffront%2Flecture%2Fit_course.asp%3FDMKW%3D%25ED%258C%258C%25EC%259D%25B4%25EC%258D%25AC%26DMSKW%3D%25ED%258C%258C%25EC%259D%25B4%25EC%258D%25AC%26DMCOL%3DPM\n",
      "KG아이티뱅크 코딩학원 김서균 http://keyword.ad.daum.net/short/clk?q=BXTN-MWdyLMN7pfZxw2KcTzkYxHNibHE5yld7C4uQLYKA-Iv5G9c7T2gE.s4o-LYq5K5AmxOg5iveoXz8wx--27sz1DtN_eEz-1I5pfWQiS1l6cGMa5IdPVYsztv54FXkC9XJJlpPKxHSA00&s=http%3A%2F%2Fwww.itbank21.com\n",
      "www.itbank21.com http://keyword.ad.daum.net/short/clk?q=BXTN-MWdyLMN7pfZxw2KcTzkYxHNibHE5yld7C4uQLYKA-Iv5G9c7T2gE.s4o-LYq5K5AmxOg5iveoXz8wx--27sz1DtN_eEz-1I5pfWQiS1l6cGMa5IdPVYsztv54FXkC9XJJlpPKxHSA00&s=http%3A%2F%2Fwww.itbank21.com\n",
      "파이썬, C언어, 자바등 프로그래밍 교육, 무료취업상담, 수강료확인, 할인이벤트 http://keyword.ad.daum.net/short/clk?q=BXTN-MWdyLMN7pfZxw2KcTzkYxHNibHE5yld7C4uQLYKA-Iv5G9c7T2gE.s4o-LYq5K5AmxOg5iveoXz8wx--27sz1DtN_eEz-1I5pfWQiS1l6cGMa5IdPVYsztv54FXkC9XJJlpPKxHSA00&s=http%3A%2F%2Fwww.itbank21.com\n",
      "   http://keyword.ad.daum.net/short/clk?q=BXby8KNBdjZ9wmoLqP2i-gczCb2fm9KjvHAcYopq7lnoSRPivfZ2ehCZLiE6I2wGvraigFtA_6cPedsBovgPhQdFxql6Rp9gRgQGG1BqfiUByXUDIkFuEktB-z5VmuZj2Lfzcn1MHX1eL3jAvxZp9GxBBvcGJBGmQFy9u6SIJQ35_LL2nK6cZVwEj-oxXRzWtV6Op5YQuWqhuRNlDODFOug9icsHplnJOlqHF8eeqd6Mgg00&s=https%3A%2F%2Fhome.sjcu.ac.kr%2Fko%2Fcms%2FFR_CON%2Findex.do%3FMENU_ID%3D1150%26DMKW%3D%25ED%258C%258C%25EC%259D%25B4%25EC%258D%25AC%26DMSKW%3D%25ED%258C%258C%25EC%259D%25B4%25EC%258D%25AC%26DMCOL%3DPM&isExtCont=true\n",
      "세사대 컴퓨터소프트웨어학과 http://keyword.ad.daum.net/short/clk?q=BXXE84ZpL8D2NMKjAbGjgHGylmtjxRkhI6_KX98gR8OyuAdSh5Y6wAogCozSXfUWz9zPgOrMYIyyUadjeOIuQZeWH69fkwpV2t4yjBGsZr.uJz-jPvouz2.GqSQJ8gy_cBmLREzp.oNjkUjLCSDUbUyi6oPWLKPfwtmCcoJkDzOHodv_3_s7eb3Gv1AwYHy-JtrtJnoOdY6h86.F3g-7mtVG5oXEjTRLsCT-QNFOTVSORA00&s=https%3A%2F%2Fhome.sjcu.ac.kr%2Fko%2Fcms%2FFR_CON%2Findex.do%3FMENU_ID%3D1150%26DMKW%3D%25ED%258C%258C%25EC%259D%25B4%25EC%258D%25AC%26DMSKW%3D%25ED%258C%258C%25EC%259D%25B4%25EC%258D%25AC%26DMCOL%3DPM\n",
      "home.sjcu.ac.kr http://keyword.ad.daum.net/short/clk?q=BXXE84ZpL8D2NMKjAbGjgHGylmtjxRkhI6_KX98gR8OyuAdSh5Y6wAogCozSXfUWz9zPgOrMYIyyUadjeOIuQZeWH69fkwpV2t4yjBGsZr.uJz-jPvouz2.GqSQJ8gy_cBmLREzp.oNjkUjLCSDUbUyi6oPWLKPfwtmCcoJkDzOHodv_3_s7eb3Gv1AwYHy-JtrtJnoOdY6h86.F3g-7mtVG5oXEjTRLsCT-QNFOTVSORA00&s=https%3A%2F%2Fhome.sjcu.ac.kr%2Fko%2Fcms%2FFR_CON%2Findex.do%3FMENU_ID%3D1150%26DMKW%3D%25ED%258C%258C%25EC%259D%25B4%25EC%258D%25AC%26DMSKW%3D%25ED%258C%258C%25EC%259D%25B4%25EC%258D%25AC%26DMCOL%3DPM\n",
      "인공지능 시대의 전문가 양성을 위한 교육과정 개설, 세종사이버 컴퓨터소프트웨어학과. http://keyword.ad.daum.net/short/clk?q=BXXE84ZpL8D2NMKjAbGjgHGylmtjxRkhI6_KX98gR8OyuAdSh5Y6wAogCozSXfUWz9zPgOrMYIyyUadjeOIuQZeWH69fkwpV2t4yjBGsZr.uJz-jPvouz2.GqSQJ8gy_cBmLREzp.oNjkUjLCSDUbUyi6oPWLKPfwtmCcoJkDzOHodv_3_s7eb3Gv1AwYHy-JtrtJnoOdY6h86.F3g-7mtVG5oXEjTRLsCT-QNFOTVSORA00&s=https%3A%2F%2Fhome.sjcu.ac.kr%2Fko%2Fcms%2FFR_CON%2Findex.do%3FMENU_ID%3D1150%26DMKW%3D%25ED%258C%258C%25EC%259D%25B4%25EC%258D%25AC%26DMSKW%3D%25ED%258C%258C%25EC%259D%25B4%25EC%258D%25AC%26DMCOL%3DPM\n",
      "KG아이티뱅크 컴퓨터학원 염인준 http://keyword.ad.daum.net/short/clk?q=BXdG-IOSt3CY5whAS3sZFxv9kIeSiT-vlU9wOEOV1doPXjWHXJSwjWEvmiYjzsswM6O_9rRRyqACZ1_GqznT24ODrTB17y9NfwPbJfFx9Vc6k3fdtuNLGDVQi3wUz2c2RcnNrwmb1YYm4Q00&s=http%3A%2F%2Fkgitbank.pro\n",
      "kgitbank.pro http://keyword.ad.daum.net/short/clk?q=BXdG-IOSt3CY5whAS3sZFxv9kIeSiT-vlU9wOEOV1doPXjWHXJSwjWEvmiYjzsswM6O_9rRRyqACZ1_GqznT24ODrTB17y9NfwPbJfFx9Vc6k3fdtuNLGDVQi3wUz2c2RcnNrwmb1YYm4Q00&s=http%3A%2F%2Fkgitbank.pro\n",
      "서울부산지점 IT전과목보유, 전공대비 취업준비, 기초 심화, 평일반 주말반 http://keyword.ad.daum.net/short/clk?q=BXdG-IOSt3CY5whAS3sZFxv9kIeSiT-vlU9wOEOV1doPXjWHXJSwjWEvmiYjzsswM6O_9rRRyqACZ1_GqznT24ODrTB17y9NfwPbJfFx9Vc6k3fdtuNLGDVQi3wUz2c2RcnNrwmb1YYm4Q00&s=http%3A%2F%2Fkgitbank.pro\n",
      "   http://keyword.ad.daum.net/short/clk?q=BXljdV-3B2v79EhaU1NqP.IzCA2CLovcvKS_sAl5dD49P4oD-iTEJYnucKD-Gew7OpAIFJHAFNEFeFbJmkjoJHknL2UnzipA.GbiHkcMh32EW2flHnZ5ULLSjrlggOAI6MfiQzq8FCGFp.ROxk2gFvqC4owodkUQtqDJzxaon_5izXEHG5MwcvEzM_PcJ3BxBzLTQkgyZj1tUNxTyj5m44Jw&s=http%3A%2F%2Fsinchon.koreaisacademy.com%2F%3FDMKW%3D%25ED%258C%258C%25EC%259D%25B4%25EC%258D%25AC%26DMSKW%3D%25ED%258C%258C%25EC%259D%25B4%25EC%258D%25AC%26DMCOL%3DPM&isExtCont=true\n",
      "코리아IT아카데미 신촌점 http://keyword.ad.daum.net/short/clk?q=BXhjdV-3B2v79EhaU1NqP.IzCA2CLovcvKS_sAl5dD49P4oD-iTEJYnucKD-Gew7OpAIFJHAFNEFeFbJmkjoJHknL2UnzipA.GbiHkcMh32EW2flHnZ5ULLSjrlggOAI6MfiQzq8FCGFp.ROxk2gFvqC4owodkUQtqDJzxaon_5izXEHG5MwcvEzM_PcJ3BxBzLTQkgyZj1tUNxTyj5m44Jw&s=http%3A%2F%2Fsinchon.koreaisacademy.com%2F%3FDMKW%3D%25ED%258C%258C%25EC%259D%25B4%25EC%258D%25AC%26DMSKW%3D%25ED%258C%258C%25EC%259D%25B4%25EC%258D%25AC%26DMCOL%3DPM\n",
      "sinchon.koreaisacademy.com http://keyword.ad.daum.net/short/clk?q=BXhjdV-3B2v79EhaU1NqP.IzCA2CLovcvKS_sAl5dD49P4oD-iTEJYnucKD-Gew7OpAIFJHAFNEFeFbJmkjoJHknL2UnzipA.GbiHkcMh32EW2flHnZ5ULLSjrlggOAI6MfiQzq8FCGFp.ROxk2gFvqC4owodkUQtqDJzxaon_5izXEHG5MwcvEzM_PcJ3BxBzLTQkgyZj1tUNxTyj5m44Jw&s=http%3A%2F%2Fsinchon.koreaisacademy.com%2F%3FDMKW%3D%25ED%258C%258C%25EC%259D%25B4%25EC%258D%25AC%26DMSKW%3D%25ED%258C%258C%25EC%259D%25B4%25EC%258D%25AC%26DMCOL%3DPM\n",
      "파이썬, 국비전액무료, IT우수기관, 브랜드대상4관왕, 수강료조회. http://keyword.ad.daum.net/short/clk?q=BXhjdV-3B2v79EhaU1NqP.IzCA2CLovcvKS_sAl5dD49P4oD-iTEJYnucKD-Gew7OpAIFJHAFNEFeFbJmkjoJHknL2UnzipA.GbiHkcMh32EW2flHnZ5ULLSjrlggOAI6MfiQzq8FCGFp.ROxk2gFvqC4owodkUQtqDJzxaon_5izXEHG5MwcvEzM_PcJ3BxBzLTQkgyZj1tUNxTyj5m44Jw&s=http%3A%2F%2Fsinchon.koreaisacademy.com%2F%3FDMKW%3D%25ED%258C%258C%25EC%259D%25B4%25EC%258D%25AC%26DMSKW%3D%25ED%258C%258C%25EC%259D%25B4%25EC%258D%25AC%26DMCOL%3DPM\n",
      "파이썬 쿠팡 http://keyword.ad.daum.net/short/clk?q=BXrj4.Oy.71XxAKkumIPxGtP6JrLZ79BFhpnnotL2MgD-wM6-gq6ITRGWjc_2umH2xuVrraeBTtDCRBZOHtLJHe8MZae3FG4RyI1SNOCUlFknNdMQH39p-LdUJ59St.ngVhxYW4KzOj61K6wh61ncH_iIUiq1uXVEHUopocfgyNRb4RQPzCSbp8fjVeM5MScnbNgsj76A2DrOURvdpiExCFBpQzLerix2S8lzo_DkwkY4634T-WdwwEDLKRRNWvfUtk0&s=http%3A%2F%2Flanding.coupang.com%2Fmulti%3Fsid%3DRSA1%26src%3D1042002%26spec%3D10304941%26lptag%3D%25ED%258C%258C%25EC%259D%25B4%25EC%258D%25AC%26addtag%3D200%26ctag%3D%25ED%258C%258C%25EC%259D%25B4%25EC%258D%25AC%26query%3D%25ED%258C%258C%25EC%259D%25B4%25EC%258D%25AC%26forceBypass%3DY\n",
      "www.coupang.com http://keyword.ad.daum.net/short/clk?q=BXrj4.Oy.71XxAKkumIPxGtP6JrLZ79BFhpnnotL2MgD-wM6-gq6ITRGWjc_2umH2xuVrraeBTtDCRBZOHtLJHe8MZae3FG4RyI1SNOCUlFknNdMQH39p-LdUJ59St.ngVhxYW4KzOj61K6wh61ncH_iIUiq1uXVEHUopocfgyNRb4RQPzCSbp8fjVeM5MScnbNgsj76A2DrOURvdpiExCFBpQzLerix2S8lzo_DkwkY4634T-WdwwEDLKRRNWvfUtk0&s=http%3A%2F%2Flanding.coupang.com%2Fmulti%3Fsid%3DRSA1%26src%3D1042002%26spec%3D10304941%26lptag%3D%25ED%258C%258C%25EC%259D%25B4%25EC%258D%25AC%26addtag%3D200%26ctag%3D%25ED%258C%258C%25EC%259D%25B4%25EC%258D%25AC%26query%3D%25ED%258C%258C%25EC%259D%25B4%25EC%258D%25AC%26forceBypass%3DY\n",
      "쿠페이 최대 5% 캐시적립! http://keyword.ad.daum.net/short/clk?q=BXvj4.Oy.71XxAKkumIPxGtP6JrLZ79BFhpnnotL2MgD-wM6-gq6ITRGWjc_2umH2xuVrraeBTtDCRBZOHtLJHe8MZae3FG4RyI1SNOCUlFknNdMQH39p-LdUJ59St.ngVhxYW4KzOj61K6wh61ncH_iIUiq1uXVEHUopocfgyNRb4RQPzCSbp8fjVeM5MScnbNgsj76A2DrOURvdpiExCFBpQzLerix2S8lzo_DkwkY4634T-WdwwEDLKRRNWvfUtk0&s=http%3A%2F%2Flanding.coupang.com%2Fmulti%3Fsid%3DRSA1%26src%3D1042002%26spec%3D10304941%26lptag%3D%25ED%258C%258C%25EC%259D%25B4%25EC%258D%25AC%26addtag%3D200%26ctag%3D%25ED%258C%258C%25EC%259D%25B4%25EC%258D%25AC%26query%3D%25ED%258C%258C%25EC%259D%25B4%25EC%258D%25AC%26forceBypass%3DY&isExtCont=true\n",
      "파이썬 특가! IT도서, 전문서적, 로켓와우 클럽은 무료배송! http://keyword.ad.daum.net/short/clk?q=BXrj4.Oy.71XxAKkumIPxGtP6JrLZ79BFhpnnotL2MgD-wM6-gq6ITRGWjc_2umH2xuVrraeBTtDCRBZOHtLJHe8MZae3FG4RyI1SNOCUlFknNdMQH39p-LdUJ59St.ngVhxYW4KzOj61K6wh61ncH_iIUiq1uXVEHUopocfgyNRb4RQPzCSbp8fjVeM5MScnbNgsj76A2DrOURvdpiExCFBpQzLerix2S8lzo_DkwkY4634T-WdwwEDLKRRNWvfUtk0&s=http%3A%2F%2Flanding.coupang.com%2Fmulti%3Fsid%3DRSA1%26src%3D1042002%26spec%3D10304941%26lptag%3D%25ED%258C%258C%25EC%259D%25B4%25EC%258D%25AC%26addtag%3D200%26ctag%3D%25ED%258C%258C%25EC%259D%25B4%25EC%258D%25AC%26query%3D%25ED%258C%258C%25EC%259D%25B4%25EC%258D%25AC%26forceBypass%3DY\n",
      "   http://keyword.ad.daum.net/short/clk?q=BX4yQ6LON5EtyuKf9pQ6mmiDnXS66XKFt8EzDjK7Nmd5h1ZUo2euE4mZQvN_UzZrd.DbrkPHnbz.MeRFfc7kX32O7MYYfhvlI7fUzp5yi6pcN-sV-YkPTHFkXZczLaY7T1dBTV9vIHpJ9fHFsAfYTAj3_usdV2B7HH1bH21S.ZFbTTI2EqkhBSUcpIJRl6SvLos0&s=http%3A%2F%2Fit.ezenac.co.kr%2F%3FDMKW%3D%25ED%258C%258C%25EC%259D%25B4%25EC%258D%25AC%26DMSKW%3D%25ED%258C%258C%25EC%259D%25B4%25EC%258D%25AC%26DMCOL%3DPM&isExtCont=true\n",
      "이젠IT아카데미학원 http://keyword.ad.daum.net/short/clk?q=BXzyQ6LON5EtyuKf9pQ6mmiDnXS66XKFt8EzDjK7Nmd5h1ZUo2euE4mZQvN_UzZrd.DbrkPHnbz.MeRFfc7kX32O7MYYfhvlI7fUzp5yi6pcN-sV-YkPTHFkXZczLaY7T1dBTV9vIHpJ9fHFsAfYTAj3_usdV2B7HH1bH21S.ZFbTTI2EqkhBSUcpIJRl6SvLos0&s=http%3A%2F%2Fit.ezenac.co.kr%2F%3FDMKW%3D%25ED%258C%258C%25EC%259D%25B4%25EC%258D%25AC%26DMSKW%3D%25ED%258C%258C%25EC%259D%25B4%25EC%258D%25AC%26DMCOL%3DPM\n",
      "it.ezenac.co.kr http://keyword.ad.daum.net/short/clk?q=BXzyQ6LON5EtyuKf9pQ6mmiDnXS66XKFt8EzDjK7Nmd5h1ZUo2euE4mZQvN_UzZrd.DbrkPHnbz.MeRFfc7kX32O7MYYfhvlI7fUzp5yi6pcN-sV-YkPTHFkXZczLaY7T1dBTV9vIHpJ9fHFsAfYTAj3_usdV2B7HH1bH21S.ZFbTTI2EqkhBSUcpIJRl6SvLos0&s=http%3A%2F%2Fit.ezenac.co.kr%2F%3FDMKW%3D%25ED%258C%258C%25EC%259D%25B4%25EC%258D%25AC%26DMSKW%3D%25ED%258C%258C%25EC%259D%25B4%25EC%258D%25AC%26DMCOL%3DPM\n",
      "IT전문교육, 기초부터 실무까지 맞춤교육, 취업준비&직장인 국비100%무료교육. http://keyword.ad.daum.net/short/clk?q=BXzyQ6LON5EtyuKf9pQ6mmiDnXS66XKFt8EzDjK7Nmd5h1ZUo2euE4mZQvN_UzZrd.DbrkPHnbz.MeRFfc7kX32O7MYYfhvlI7fUzp5yi6pcN-sV-YkPTHFkXZczLaY7T1dBTV9vIHpJ9fHFsAfYTAj3_usdV2B7HH1bH21S.ZFbTTI2EqkhBSUcpIJRl6SvLos0&s=http%3A%2F%2Fit.ezenac.co.kr%2F%3FDMKW%3D%25ED%258C%258C%25EC%259D%25B4%25EC%258D%25AC%26DMSKW%3D%25ED%258C%258C%25EC%259D%25B4%25EC%258D%25AC%26DMCOL%3DPM\n",
      "신청하기 http://adnetwork.ad.kakaocorp.com/\n",
      "온라인 종합 교육포털 따즈아 http://keyword.ad.daum.net/short/clk?q=.hMjIUGOQgZAp1qd4omBwQ32gYEbvKrrQJvl4IaMEtnpQ.MZdh1193GB_FlAXeL78.dDi8XKBs7ru8-HvVGA6vndzba83D_3dYAbNa-RS9ng_ZTxfi.iAMAJj-Cz85XyuJIIbfAYv67QWQ00&s=http%3A%2F%2Fwww.ddazua.com%2F\n",
      "www.ddazua.com http://keyword.ad.daum.net/short/clk?q=.hMjIUGOQgZAp1qd4omBwQ32gYEbvKrrQJvl4IaMEtnpQ.MZdh1193GB_FlAXeL78.dDi8XKBs7ru8-HvVGA6vndzba83D_3dYAbNa-RS9ng_ZTxfi.iAMAJj-Cz85XyuJIIbfAYv67QWQ00&s=http%3A%2F%2Fwww.ddazua.com%2F\n",
      "최신강좌들이 한 곳에! 그래픽, 게임, 뷰티, 요리 등 자격증은 여기서 따즈아! http://keyword.ad.daum.net/short/clk?q=.hMjIUGOQgZAp1qd4omBwQ32gYEbvKrrQJvl4IaMEtnpQ.MZdh1193GB_FlAXeL78.dDi8XKBs7ru8-HvVGA6vndzba83D_3dYAbNa-RS9ng_ZTxfi.iAMAJj-Cz85XyuJIIbfAYv67QWQ00&s=http%3A%2F%2Fwww.ddazua.com%2F\n",
      "코리아IT아카데미 대구점 http://keyword.ad.daum.net/short/clk?q=.hS2gyOHKPX8QOB5sWn_S8_1Z7pqPAC6EzUFWrCg.mgvxVW-H9287Y_jCvfSlbk.mQVUNGPA1mTQVQZ7BLMwJgQ-1s6z9Zexdud5I2.XZC5QQdHpUUR6NxlluigEBj4_7Z.MSPl4q1aOag00&s=http%3A%2F%2Fdaegu.koreaisacademy.com\n",
      "daegu.koreaisacademy.com http://keyword.ad.daum.net/short/clk?q=.hS2gyOHKPX8QOB5sWn_S8_1Z7pqPAC6EzUFWrCg.mgvxVW-H9287Y_jCvfSlbk.mQVUNGPA1mTQVQZ7BLMwJgQ-1s6z9Zexdud5I2.XZC5QQdHpUUR6NxlluigEBj4_7Z.MSPl4q1aOag00&s=http%3A%2F%2Fdaegu.koreaisacademy.com\n",
      "파이썬, IT우수기관, 국비전액무료, 브랜드대상4관왕, 수강료조회. http://keyword.ad.daum.net/short/clk?q=.hS2gyOHKPX8QOB5sWn_S8_1Z7pqPAC6EzUFWrCg.mgvxVW-H9287Y_jCvfSlbk.mQVUNGPA1mTQVQZ7BLMwJgQ-1s6z9Zexdud5I2.XZC5QQdHpUUR6NxlluigEBj4_7Z.MSPl4q1aOag00&s=http%3A%2F%2Fdaegu.koreaisacademy.com\n",
      "KG아이티뱅크 수강문의 신규등록센터 http://keyword.ad.daum.net/short/clk?q=.hWl9WYvTjp.YCGnx2s86UhKEi79DYgXrf-.s2Loc3aWOinlW9obrXylhxbFF2GUrr3THoM9Mkw_Q6PqjpH3bXCF8j6wCrhKuU-w8JvcY9x2sg15pD5VT8miihjP.7vT-aqznqYlZBNcdZPGKI.21DCaCy6IdacI3MzO8aWlBWSzHxtFHyM76f6UzekbgR38j3Y0&s=http%3A%2F%2FIT-BK.kr%2F%3FDMKW%3D%25ED%258C%258C%25EC%259D%25B4%25EC%258D%25AC%26DMSKW%3D%25ED%258C%258C%25EC%259D%25B4%25EC%258D%25AC%26DMCOL%3DWIDELINK\n",
      "IT-BK.kr http://keyword.ad.daum.net/short/clk?q=.hWl9WYvTjp.YCGnx2s86UhKEi79DYgXrf-.s2Loc3aWOinlW9obrXylhxbFF2GUrr3THoM9Mkw_Q6PqjpH3bXCF8j6wCrhKuU-w8JvcY9x2sg15pD5VT8miihjP.7vT-aqznqYlZBNcdZPGKI.21DCaCy6IdacI3MzO8aWlBWSzHxtFHyM76f6UzekbgR38j3Y0&s=http%3A%2F%2FIT-BK.kr%2F%3FDMKW%3D%25ED%258C%258C%25EC%259D%25B4%25EC%258D%25AC%26DMSKW%3D%25ED%258C%258C%25EC%259D%25B4%25EC%258D%25AC%26DMCOL%3DWIDELINK\n",
      "IT전문학원 위치, 교육과정, 교육기간, 국비지원 및 수강료할인 혜택안내. http://keyword.ad.daum.net/short/clk?q=.hWl9WYvTjp.YCGnx2s86UhKEi79DYgXrf-.s2Loc3aWOinlW9obrXylhxbFF2GUrr3THoM9Mkw_Q6PqjpH3bXCF8j6wCrhKuU-w8JvcY9x2sg15pD5VT8miihjP.7vT-aqznqYlZBNcdZPGKI.21DCaCy6IdacI3MzO8aWlBWSzHxtFHyM76f6UzekbgR38j3Y0&s=http%3A%2F%2FIT-BK.kr%2F%3FDMKW%3D%25ED%258C%258C%25EC%259D%25B4%25EC%258D%25AC%26DMSKW%3D%25ED%258C%258C%25EC%259D%25B4%25EC%258D%25AC%26DMCOL%3DWIDELINK\n",
      "KG아이티뱅크학원 임대섭 http://keyword.ad.daum.net/short/clk?q=.hbGL6Ci1xTkSJlzYWo_ctk_nyh8ySCCfGTly5CHGqA.1QDZgBctyBEyYljAfk.M1li5K.yTMvAig6C6yjbChX7MPbEKoibQFJVvDoV.Wb7L5M8.6vEvmxgoZ_O71hRfEY7qwkcBIbdd7w00&s=http%3A%2F%2Fhackerbank.co.kr\n",
      "hackerbank.co.kr http://keyword.ad.daum.net/short/clk?q=.hbGL6Ci1xTkSJlzYWo_ctk_nyh8ySCCfGTly5CHGqA.1QDZgBctyBEyYljAfk.M1li5K.yTMvAig6C6yjbChX7MPbEKoibQFJVvDoV.Wb7L5M8.6vEvmxgoZ_O71hRfEY7qwkcBIbdd7w00&s=http%3A%2F%2Fhackerbank.co.kr\n",
      "파이썬, 프로그래밍, 네트웤, 서버, 보안, DB 전문교육학원, 무료상담안내 http://keyword.ad.daum.net/short/clk?q=.hbGL6Ci1xTkSJlzYWo_ctk_nyh8ySCCfGTly5CHGqA.1QDZgBctyBEyYljAfk.M1li5K.yTMvAig6C6yjbChX7MPbEKoibQFJVvDoV.Wb7L5M8.6vEvmxgoZ_O71hRfEY7qwkcBIbdd7w00&s=http%3A%2F%2Fhackerbank.co.kr\n",
      "11번가 특가 http://keyword.ad.daum.net/short/clk?q=.heDTKGNltZrX_YIrnjsVyMsO4PntPzsJsZ-f_Ja5I_E_uJt1d484MyJ8UFKsQudOrVmuuvhm_BbXRccE..C9_832zgHvlbMIwzoeoIgiJBczThyW3ME_RkDWNEKOE2sAgFnDDOak_ESLM7sevxJyt1eSyeTsHB-2oPrWt.EO7iMlY61pCiYxL2xT2jOFb7_PRlwa6dG1O_kAQ00&s=http%3A%2F%2Fwww.11st.co.kr%2Fconnect%2FGateway.tmall%3Fmethod%3DXsite%26tid%3D1001342751%26uid%3D143655282%26code%3D1034\n",
      "www.11st.co.kr http://keyword.ad.daum.net/short/clk?q=.heDTKGNltZrX_YIrnjsVyMsO4PntPzsJsZ-f_Ja5I_E_uJt1d484MyJ8UFKsQudOrVmuuvhm_BbXRccE..C9_832zgHvlbMIwzoeoIgiJBczThyW3ME_RkDWNEKOE2sAgFnDDOak_ESLM7sevxJyt1eSyeTsHB-2oPrWt.EO7iMlY61pCiYxL2xT2jOFb7_PRlwa6dG1O_kAQ00&s=http%3A%2F%2Fwww.11st.co.kr%2Fconnect%2FGateway.tmall%3Fmethod%3DXsite%26tid%3D1001342751%26uid%3D143655282%26code%3D1034\n",
      "Everytime 십일절! 전 고객 할인, SK pay point 최대 17%적립! 파이썬 http://keyword.ad.daum.net/short/clk?q=.heDTKGNltZrX_YIrnjsVyMsO4PntPzsJsZ-f_Ja5I_E_uJt1d484MyJ8UFKsQudOrVmuuvhm_BbXRccE..C9_832zgHvlbMIwzoeoIgiJBczThyW3ME_RkDWNEKOE2sAgFnDDOak_ESLM7sevxJyt1eSyeTsHB-2oPrWt.EO7iMlY61pCiYxL2xT2jOFb7_PRlwa6dG1O_kAQ00&s=http%3A%2F%2Fwww.11st.co.kr%2Fconnect%2FGateway.tmall%3Fmethod%3DXsite%26tid%3D1001342751%26uid%3D143655282%26code%3D1034\n",
      "   http://100.daum.net/encyclopedia/view/24XXXXX90313\n",
      " 파이썬 http://100.daum.net/encyclopedia/view/24XXXXX90313\n",
      " 파이썬 https://ko.wikipedia.org/wiki/%ED%8C%8C%EC%9D%B4%EC%8D%AC\n",
      " Python https://en.wikipedia.org/wiki/Python%20%28programming%20language%29\n",
      " 백과사전 더보기    http://100.daum.net/search/entry?q=%ED%8C%8C%EC%9D%B4%EC%8D%AC\n",
      "질문하기 http://tip.daum.net/ask?q=%ED%8C%8C%EC%9D%B4%EC%8D%AC\n",
      "파이썬 어따 써먹는건가요? 제가 자바 html css javascript php db jsp...  http://tip.daum.net/answer/103923979?q=%ED%8C%8C%EC%9D%B4%EC%8D%AC\n",
      "   http://tip.daum.net/answer/110830019?q=%ED%8C%8C%EC%9D%B4%EC%8D%AC\n",
      "파이썬 요일 계산 프로그램 파이썬으로 위와 같은 사진같이 요일 계산...  http://tip.daum.net/answer/110830019?q=%ED%8C%8C%EC%9D%B4%EC%8D%AC\n",
      "C언어와 파이썬 중에서 둘 중 뭐가 더 해킹에 적합한 언어인가요? 검색...  http://tip.daum.net/answer/107927406?q=%ED%8C%8C%EC%9D%B4%EC%8D%AC\n",
      "파이썬독학할 때 인강으로 해도 괜찮나요? 안녕하세요 ~ 프로그래밍언어...  http://tip.daum.net/answer/108215962?q=%ED%8C%8C%EC%9D%B4%EC%8D%AC\n",
      "   https://cp.news.search.daum.net/p/80805341\n",
      "\"누구나 파이썬(Python)으로 데이터 분석할 수 있다\" https://cp.news.search.daum.net/p/80805341\n",
      "   https://cp.news.search.daum.net/p/80673211\n",
      "반드시 알아야 할 '파이썬 입문' A에서 Z까지 https://cp.news.search.daum.net/p/80673211\n",
      "   https://cp.news.search.daum.net/p/79793966\n",
      "초등수학으로 배우는 파이썬 https://cp.news.search.daum.net/p/79793966\n",
      "   http://v.media.daum.net/v/20190424110209578?f=o\n",
      "스택오버플로 월별 '파이썬' 질문, 자바스크립트 앞질렀다 http://v.media.daum.net/v/20190424110209578?f=o\n",
      "다음뉴스 http://v.media.daum.net/v/20190424110209578\n",
      "   http://qohjjang.tistory.com/2\n",
      "Python Quest 1: 파이썬 설치, Hello World http://qohjjang.tistory.com/2\n",
      "qohjjang.tistory.com/2 http://qohjjang.tistory.com/2\n",
      "Hughble Log http://qohjjang.tistory.com/\n",
      "   http://treenamu.tistory.com/4\n",
      "파이썬 아나콘다 설치 http://treenamu.tistory.com/4\n",
      "treenamu.tistory.com/4 http://treenamu.tistory.com/4\n",
      "IT잔가지 http://treenamu.tistory.com/\n",
      "쉽게배우는 코딩 파이썬학원::그린컴퓨터 http://greenartacademy.tistory.com/274\n",
      "greenartacademy.tistory.com/274 http://greenartacademy.tistory.com/274\n",
      "Green Art http://greenartacademy.tistory.com/\n",
      "   http://blog.naver.com/PostView.nhn?blogId=susfs152&logNo=221561306547\n",
      "파이썬 설치 입문 인강 http://blog.naver.com/PostView.nhn?blogId=susfs152&logNo=221561306547\n",
      "blog.naver.com/susfs152/221561306547 http://blog.naver.com/PostView.nhn?blogId=susfs152&logNo=221561306547\n",
      "it 대마왕 http://blog.naver.com/susfs152\n",
      "   https://brunch.co.kr/@dimension-value/68\n",
      "데이터로 보는 나의 구독자 - 파이썬(Python)을 활용한 데이터 수집 및 시각화 프로젝트 후기 https://brunch.co.kr/@dimension-value/68\n",
      "강원양 https://brunch.co.kr/@dimension-value\n",
      "   https://brunch.co.kr/@kenshin1/8\n",
      "문과 출신 직장인은 어떻게 파이썬 공부할까? - 고교생 때 암기와 노트 테이킹 습관은 여전히 주효하다 https://brunch.co.kr/@kenshin1/8\n",
      "에니시 https://brunch.co.kr/@kenshin1\n",
      "   https://brunch.co.kr/@baekdu/8\n",
      "#2 \"Hello python\" - 파이썬 기초 문법 https://brunch.co.kr/@baekdu/8\n",
      "BetheOne https://brunch.co.kr/@baekdu\n",
      "     https://brunch.co.kr/@timevoyage\n",
      "TOMO https://brunch.co.kr/@timevoyage\n",
      "     https://brunch.co.kr/@insuk\n",
      "조인석 chris https://brunch.co.kr/@insuk\n",
      "     https://brunch.co.kr/@jk-lab\n",
      "JK의 계단 밑 연구실 https://brunch.co.kr/@jk-lab\n",
      "     https://brunch.co.kr/@edte1020\n",
      "낯선 https://brunch.co.kr/@edte1020\n",
      "     https://brunch.co.kr/@baekdu\n",
      "BetheOne https://brunch.co.kr/@baekdu\n",
      "     https://brunch.co.kr/@hackpupu\n",
      "hackpupu https://brunch.co.kr/@hackpupu\n",
      "python http://dic.daum.net/word/view.do?wordid=ekw000134523&supid=eku001203087\n",
      "더보기 http://dic.daum.net/word/view.do?wordid=ekw000134523&supid=eku001203087\n",
      " 어학사전 더보기  http://dic.daum.net/search.do?q=%ED%8C%8C%EC%9D%B4%EC%8D%AC&dic=all&search_first=Y\n",
      "광고신청 http://local.biz.daum.net/\n",
      "신규등록 https://register.search.daum.net/index.daum\n",
      "전체보기 http://map.kakao.com/?map_type=DEFAULT&map_hybrid=false&q=%ED%8C%8C%EC%9D%B4%EC%8D%AC&from=total\n",
      " 파이썬학원  http://place.map.kakao.com/2137565213\n",
      "홈페이지 http://main.edu-it.kr\n",
      "  로드뷰  http://map.kakao.com/?q=%ED%8C%8C%EC%9D%B4%EC%8D%AC&srcid=2137565213&confirmid=2137565213&rv=on&from=total\n",
      "  길찾기  http://map.kakao.com/?target=car&eX=498347&eY=1130954&eName=%ED%8C%8C%EC%9D%B4%EC%8D%AC%ED%95%99%EC%9B%90&from=total&ids=,P2137565213\n",
      " 대구파이썬학원  http://place.map.kakao.com/140074052\n",
      "  로드뷰  http://map.kakao.com/?q=%ED%8C%8C%EC%9D%B4%EC%8D%AC&srcid=140074052&confirmid=140074052&rv=on&from=total\n",
      "  길찾기  http://map.kakao.com/?target=car&eX=849785&eY=657432&eName=%EB%8C%80%EA%B5%AC%ED%8C%8C%EC%9D%B4%EC%8D%AC%ED%95%99%EC%9B%90&from=total&ids=,P140074052\n",
      " KG아이티뱅크 강남점  http://place.map.kakao.com/518168733\n",
      "홈페이지 http://gangnam.kgitbank.com/\n",
      "  로드뷰  http://map.kakao.com/?q=%ED%8C%8C%EC%9D%B4%EC%8D%AC&srcid=518168733&confirmid=518168733&rv=on&from=total\n",
      "  길찾기  http://map.kakao.com/?target=car&eX=506638&eY=1110343&eName=KG%EC%95%84%EC%9D%B4%ED%8B%B0%EB%B1%85%ED%81%AC+%EA%B0%95%EB%82%A8%EC%A0%90&from=total&ids=,P518168733\n",
      " 다빈치코딩학원  http://place.map.kakao.com/1886675095\n",
      "홈페이지 http://davinci.or.kr\n",
      "  로드뷰  http://map.kakao.com/?q=%ED%8C%8C%EC%9D%B4%EC%8D%AC&srcid=1886675095&confirmid=1886675095&rv=on&from=total\n",
      "  길찾기  http://map.kakao.com/?target=car&eX=509221&eY=1045877&eName=%EB%8B%A4%EB%B9%88%EC%B9%98%EC%BD%94%EB%94%A9%ED%95%99%EC%9B%90&from=total&ids=,P1886675095\n",
      " 장소 더보기  http://map.kakao.com/?from=total&nil_suggest=btn&q=%ED%8C%8C%EC%9D%B4%EC%8D%AC&tab=place\n",
      "신청하기 https://register.search.daum.net/\n",
      "파이썬 프로그래밍 언어 기초 강좌 http://python.blog96.com/\n",
      "python.blog96.com/ http://python.blog96.com/\n",
      "파이썬 으로 할 수 있는 일 http://cyan91.tistory.com/\n",
      "cyan91.tistory.com/ http://cyan91.tistory.com/\n",
      "레버리지 http://flyway3000km.tistory.com/\n",
      "flyway3000km.tistory.com/ http://flyway3000km.tistory.com/\n",
      "파이썬 도큐멘테이션 http://python.flowdas.com/\n",
      "python.flowdas.com/ http://python.flowdas.com/\n",
      "법적고지 및 안내 http://shopping.daum.net/html/noticeOfLaw.html\n",
      "     길벗 모두의 파이썬 알고리즘 누구나 쉽게 배우는 프로그래밍 기초 [9791160506631]   23,400원 최저   가격비교 17  상품평 0    http://shopping.daum.net/siso/p/product/C5085239948/&q:%ED%8C%8C%EC%9D%B4%EC%8D%AC&cateid:103111100104107&srchhow:Cexpo\n",
      "     길벗 모두의 알고리즘 파이썬 컴퓨팅 사고를 위한 기초 [9791160501728]   14,400원 최저   가격비교 16  상품평 0    http://shopping.daum.net/siso/p/product/E5085235878/&q:%ED%8C%8C%EC%9D%B4%EC%8D%AC&cateid:103111100104107&srchhow:Cexpo\n",
      "     파이썬 머신러닝 판다스 데이터 분석   22,500원  판매몰별밤서재  상품평 0    http://shopping.daum.net/search/%ED%8C%8C%EC%9D%B4%EC%8D%AC/&docid:R6919794869&srchhow:Cexpo\n",
      " 컴퓨터/IT  http://shopping.daum.net/search/%ED%8C%8C%EC%9D%B4%EC%8D%AC/&cateid:103111100104107&srchhow:Cexpo\n",
      " 배송비 무료  http://shopping.daum.net/search/%ED%8C%8C%EC%9D%B4%EC%8D%AC/&docid:R6919794869&srchhow:Cexpo\n",
      "     파이썬 라이브러리로 배우는 딥러닝 입문과 응용 [9791188621354]   25,200원 최저   가격비교 14  상품평 0    http://shopping.daum.net/siso/p/product/C5085235792/&q:%ED%8C%8C%EC%9D%B4%EC%8D%AC&cateid:103111100104107&srchhow:Cexpo\n",
      "     파이썬 자료구조와 알고리즘   19,800원  판매몰별밤서재  상품평 0    http://shopping.daum.net/search/%ED%8C%8C%EC%9D%B4%EC%8D%AC/&docid:J6990774960&srchhow:Cexpo\n",
      " 컴퓨터/IT  http://shopping.daum.net/search/%ED%8C%8C%EC%9D%B4%EC%8D%AC/&cateid:103111100104107&srchhow:Cexpo\n",
      " 배송비 무료  http://shopping.daum.net/search/%ED%8C%8C%EC%9D%B4%EC%8D%AC/&docid:J6990774960&srchhow:Cexpo\n",
      "     단계별 구성으로 단단하게 배우는 코딩 강화 파이썬   17,820원  판매몰별밤서재  상품평 0    http://shopping.daum.net/search/%ED%8C%8C%EC%9D%B4%EC%8D%AC/&docid:V6990775014&srchhow:Cexpo\n",
      " 컴퓨터/IT  http://shopping.daum.net/search/%ED%8C%8C%EC%9D%B4%EC%8D%AC/&cateid:103111100104107&srchhow:Cexpo\n",
      " 배송비 무료  http://shopping.daum.net/search/%ED%8C%8C%EC%9D%B4%EC%8D%AC/&docid:V6990775014&srchhow:Cexpo\n",
      "     윤성우의 열혈 파이썬 기초편 [9788996094081]   14,400원 최저   가격비교 10  상품평 0    http://shopping.daum.net/siso/p/product/A5085218921/&q:%ED%8C%8C%EC%9D%B4%EC%8D%AC&cateid:103111100104107&srchhow:Cexpo\n",
      "     그림으로 정리한 알고리즘과 자료구조 자바 파이썬 [9788956747880]   13,500원 최저   가격비교 16  상품평 0    http://shopping.daum.net/siso/p/product/A5085236223/&q:%ED%8C%8C%EC%9D%B4%EC%8D%AC&cateid:103111100104107&srchhow:Cexpo\n",
      "쇼핑 더보기 http://shopping.daum.net/search/%ED%8C%8C%EC%9D%B4%EC%8D%AC/&docid:&srchhow:Cexpo\n",
      "신청하기 https://keywordshop.nate.com/\n",
      " http://www.11st.co.kr/connect/Gateway.tmall?method=Xsite&tid=1000111638&uid=7653182&code=1039\n",
      "11번가 파이썬 http://www.11st.co.kr/connect/Gateway.tmall?method=Xsite&tid=1000111638&uid=7653182&code=1039\n",
      "www.11st.co.kr http://www.11st.co.kr/connect/Gateway.tmall?method=Xsite&tid=1000111638&uid=7653182&code=1039\n",
      "매일 할인특가, T멤버십 할인, 최대 무이자 22개월 혜택! 파이썬. http://www.11st.co.kr/connect/Gateway.tmall?method=Xsite&tid=1000111638&uid=7653182&code=1039\n",
      " http://kd.auction.co.kr/kd_redirectse.asp?semagcd=SA20001&CODE=362KD99999999&lp=%2F%2Fsearch.auction.co.kr%2Fsearch%2Fsearch.aspx%3Fkeyword%3D%25C6%25C4%25C0%25CC%25BD%25E3&cosemkid=ov15488152552203906\n",
      "쇼핑은 역시 옥션 http://kd.auction.co.kr/kd_redirectse.asp?semagcd=SA20001&CODE=362KD99999999&lp=%2F%2Fsearch.auction.co.kr%2Fsearch%2Fsearch.aspx%3Fkeyword%3D%25C6%25C4%25C0%25CC%25BD%25E3&cosemkid=ov15488152552203906\n",
      "www.auction.co.kr http://kd.auction.co.kr/kd_redirectse.asp?semagcd=SA20001&CODE=362KD99999999&lp=%2F%2Fsearch.auction.co.kr%2Fsearch%2Fsearch.aspx%3Fkeyword%3D%25C6%25C4%25C0%25CC%25BD%25E3&cosemkid=ov15488152552203906\n",
      "신상 가전제품 총집합! 가전제품 옥션회원 10% 할인+제휴카드 추가할인 http://kd.auction.co.kr/kd_redirectse.asp?semagcd=SA20001&CODE=362KD99999999&lp=%2F%2Fsearch.auction.co.kr%2Fsearch%2Fsearch.aspx%3Fkeyword%3D%25C6%25C4%25C0%25CC%25BD%25E3&cosemkid=ov15488152552203906\n",
      " http://jump.emforce.co.kr/jumper52.jsp?1=1$$$&EKAMS=daum.52.600.119.1244014070018.140381&trackingDays=30$$$http://affiliate.gmarket.co.kr/?com=emforce&media=nate&ch=code31&url=http://search.gmarket.co.kr/search.aspx?keyword=%C6%C4%C0%CC%BD%E3&jaehuid=200003989\n",
      "G마켓 파이썬 http://jump.emforce.co.kr/jumper52.jsp?1=1$$$&EKAMS=daum.52.600.119.1244014070018.140381&trackingDays=30$$$http://affiliate.gmarket.co.kr/?com=emforce&media=nate&ch=code31&url=http://search.gmarket.co.kr/search.aspx?keyword=%C6%C4%C0%CC%BD%E3&jaehuid=200003989\n",
      "www.gmarket.co.kr http://jump.emforce.co.kr/jumper52.jsp?1=1$$$&EKAMS=daum.52.600.119.1244014070018.140381&trackingDays=30$$$http://affiliate.gmarket.co.kr/?com=emforce&media=nate&ch=code31&url=http://search.gmarket.co.kr/search.aspx?keyword=%C6%C4%C0%CC%BD%E3&jaehuid=200003989\n",
      "파이썬 특가 SALE, 핸드백, 지갑, 인기 악세사리, 시계, 빠른배송. http://jump.emforce.co.kr/jumper52.jsp?1=1$$$&EKAMS=daum.52.600.119.1244014070018.140381&trackingDays=30$$$http://affiliate.gmarket.co.kr/?com=emforce&media=nate&ch=code31&url=http://search.gmarket.co.kr/search.aspx?keyword=%C6%C4%C0%CC%BD%E3&jaehuid=200003989\n",
      "\n",
      "T!P팁에 질문하기\n",
      " http://tip.daum.net/ask?q=%ED%8C%8C%EC%9D%B4%EC%8D%AC\n",
      "검색블로그 http://daumsearch.tistory.com\n",
      "사이트ㆍ지역 등록신청 https://register.search.daum.net/\n",
      "검색제휴 http://partner.search.daum.net/partner/index.daum\n",
      "키워드광고 https://business.kakao.com/info/keywordad\n",
      "로컬광고 http://local.biz.daum.net/\n",
      "크로스미디어 https://with.kakao.com/crossmedia\n",
      "고객센터 http://cs.daum.net/faq/15.html\n",
      "Kakao Corp. http://kakaocorp.com\n"
     ]
    }
   ],
   "source": [
    "for i in dom.select(\"a[href^=http]\"):\n",
    "    print(i.text,i['href'])"
   ]
  },
  {
   "cell_type": "code",
   "execution_count": 538,
   "metadata": {},
   "outputs": [
    {
     "data": {
      "text/plain": [
       "[<a href=\"https://www.daum.net/?nil_profile=daum&amp;nil_src=search\" id=\"daumLogo\" onclick='smartLog(this, \"e=1&amp;dc=MLC\", event);' target=\"_top\" title=\"Daum 메인페이지로 가기\">\n",
       " <img alt=\"Daum\" height=\"34\" src=\"//search1.daumcdn.net/search/statics/common/pi/logo/daumlogo_170324.png\" width=\"84\"/>\n",
       " </a>,\n",
       " <a class=\"tab tab_dic100\" href=\"http://100.daum.net/search/entry?q=%ED%8C%8C%EC%9D%B4%EC%8D%AC\" onclick='smartLog(this, \"pg=1&amp;r=2&amp;p=1&amp;rc=1&amp;dc=NTB&amp;at=more\", event);' target=\"_blank\">\n",
       " <span class=\"inner_tab\">\n",
       " <span class=\"txt_tab\">백과사전</span>\n",
       " <span class=\"ico_ksearch ico_outlink\">새창</span>\n",
       " </span>\n",
       " </a>,\n",
       " <a class=\"tab tab_dic\" href=\"http://dic.daum.net/search.do?q=%ED%8C%8C%EC%9D%B4%EC%8D%AC\" onclick='smartLog(this, \"pg=1&amp;r=7&amp;p=1&amp;rc=1&amp;dc=NTB&amp;at=more\", event);' target=\"_blank\">\n",
       " <span class=\"inner_tab\">\n",
       " <span class=\"txt_tab\">어학사전</span>\n",
       " <span class=\"ico_ksearch ico_outlink\">새창</span>\n",
       " </span>\n",
       " </a>,\n",
       " <a class=\"tab tab_map\" href=\"http://map.daum.net/?from=total&amp;nil_suggest=btn&amp;tab=place&amp;q=%ED%8C%8C%EC%9D%B4%EC%8D%AC\" onclick='smartLog(this, \"pg=1&amp;r=8&amp;p=1&amp;rc=1&amp;dc=NTB&amp;at=more\", event);' target=\"_blank\">\n",
       " <span class=\"inner_tab\">\n",
       " <span class=\"txt_tab\">지도</span>\n",
       " <span class=\"ico_ksearch ico_outlink\">새창</span>\n",
       " </span>\n",
       " </a>,\n",
       " <a class=\"link_more tab_shop\" href=\"http://shopping.daum.net/in/search?srchhow=Cexpo&amp;q=%ED%8C%8C%EC%9D%B4%EC%8D%AC\" onclick='smartLog(this, \"pg=1&amp;r=10&amp;p=2&amp;rc=1&amp;e1=TO&amp;e2=SNPZ&amp;dc=NTB&amp;at=more\", event);' target=\"_blank\">\n",
       " <span class=\"inner_tab\">\n",
       " <span class=\"txt_tab\">쇼핑</span>\n",
       " <span class=\"ico_ksearch ico_outlink\">새창</span>\n",
       " </span>\n",
       " </a>,\n",
       " <a class=\"f_tit\" href=\"https://www.python.org/\" onclick='smartLog(this, \"dc=0DL&amp;d=108AhygBbk69Z0SVYH&amp;p=1&amp;at=link&amp;r=1&amp;rc=1\", event, { \"cpid\" : { \"value\" : \"site^web\" } });' target=\"_blank\">파이썬</a>,\n",
       " <a class=\"f_url link_site\" href=\"https://www.python.org/\" onclick='smartLog(this, \"dc=0DL&amp;d=108AhygBbk69Z0SVYH&amp;p=2&amp;at=link&amp;r=1&amp;rc=1\", event, { \"cpid\" : { \"value\" : \"site^web\" } });' target=\"_blank\">www.python.org/</a>,\n",
       " <a class=\"f_nb\" href=\"https://business.kakao.com/info/keywordad/\" onclick='smartLog(this, \"s=TO&amp;a=PMTO&amp;d=1&amp;pg=1&amp;e=1&amp;dc=0PL\", event);' target=\"_blank\">신청하기</a>,\n",
       " <a class=\"thumb\" href=\"http://keyword.ad.daum.net/short/clk?q=BWmL_xBjdZXEZaLYOhZhENhg5DsM3YkaXAiTYhRft3Rm8xx9r8ugFFH.nE8NJEkLhwzV.msTcsgWGXcOkiDUU35uI6BOf_CjuIm_HqV.LJGz8pEcA1UAW_X4R_M5ciQq1XtCoMzQue_muaG6iOnOXxhJVdJ_Hbj5zqbGQ7gIQD2Bx8a4_lWz1L-75NT4siJdM23RNRQPEyxFsQ00&amp;s=http%3A%2F%2Fwww.koreaisacademy.com%2F%3FDMKW%3D%25ED%258C%258C%25EC%259D%25B4%25EC%258D%25AC%26DMSKW%3D%25ED%258C%258C%25EC%259D%25B4%25EC%258D%25AC%26DMCOL%3DPM&amp;isExtCont=true\" onclick='smartLog(this, \"s=TO&amp;a=PMTO&amp;pg=1&amp;r=1&amp;rc=10&amp;p=41&amp;d=12895552128&amp;e1=PM&amp;dc=0PL\", event);' target=\"_blank\"> <img alt=\"\" class=\"thumb_img\" height=\"64\" onerror=\"C.shoppingNColl.img_on_error(this);\" src=\"https://search1.daumcdn.net/thumb/R120x120.q70/?fname=http://t1.daumcdn.net/clix_image_library_public/img/4397fb284d24ab3b42fba05dd73a8f96937595d9\" width=\"64\"/> </a>,\n",
       " <a class=\"f_link_bu\" href=\"http://keyword.ad.daum.net/short/clk?q=BWdSBbUF5ken_1Nt-noKvU1qNV2MvGpW6k7EQQpk31m7I8Gya85-gzsZr.qirFJ-f-hF59Yo4-SF-xJrdD6gVkmsp-eX9fV.7TW9a.U9WdUDzY81r1yICUf3ifVsnL9usNpnkzFTBarNYYOaf5-lbP8awIlPLhjKCt4BfjCwuUFD9EpYMnvpePW-V27TYYZONt_t8o_KaZx5uQ00&amp;s=http%3A%2F%2Fwww.koreaisacademy.com%2F%3FDMKW%3D%25ED%258C%258C%25EC%259D%25B4%25EC%258D%25AC%26DMSKW%3D%25ED%258C%258C%25EC%259D%25B4%25EC%258D%25AC%26DMCOL%3DPM\" onclick='smartLog(this, \"s=TO&amp;a=PMTO&amp;pg=1&amp;r=1&amp;rc=10&amp;p=1&amp;d=12895552128&amp;e1=PM&amp;dc=0PL\", event);' target=\"_blank\">코리아IT아카데미</a>,\n",
       " <a class=\"f_url url_fl\" href=\"http://keyword.ad.daum.net/short/clk?q=BWdSBbUF5ken_1Nt-noKvU1qNV2MvGpW6k7EQQpk31m7I8Gya85-gzsZr.qirFJ-f-hF59Yo4-SF-xJrdD6gVkmsp-eX9fV.7TW9a.U9WdUDzY81r1yICUf3ifVsnL9usNpnkzFTBarNYYOaf5-lbP8awIlPLhjKCt4BfjCwuUFD9EpYMnvpePW-V27TYYZONt_t8o_KaZx5uQ00&amp;s=http%3A%2F%2Fwww.koreaisacademy.com%2F%3FDMKW%3D%25ED%258C%258C%25EC%259D%25B4%25EC%258D%25AC%26DMSKW%3D%25ED%258C%258C%25EC%259D%25B4%25EC%258D%25AC%26DMCOL%3DPM\" onclick='smartLog(this, \"s=TO&amp;a=PMTO&amp;pg=1&amp;r=1&amp;rc=10&amp;p=2&amp;d=12895552128&amp;e1=PM&amp;dc=0PL\", event);' target=\"_blank\">www.koreaisacademy.com</a>,\n",
       " <a class=\"f_eb link_txt\" href=\"http://keyword.ad.daum.net/short/clk?q=BWdSBbUF5ken_1Nt-noKvU1qNV2MvGpW6k7EQQpk31m7I8Gya85-gzsZr.qirFJ-f-hF59Yo4-SF-xJrdD6gVkmsp-eX9fV.7TW9a.U9WdUDzY81r1yICUf3ifVsnL9usNpnkzFTBarNYYOaf5-lbP8awIlPLhjKCt4BfjCwuUFD9EpYMnvpePW-V27TYYZONt_t8o_KaZx5uQ00&amp;s=http%3A%2F%2Fwww.koreaisacademy.com%2F%3FDMKW%3D%25ED%258C%258C%25EC%259D%25B4%25EC%258D%25AC%26DMSKW%3D%25ED%258C%258C%25EC%259D%25B4%25EC%258D%25AC%26DMCOL%3DPM\" onclick='smartLog(this, \"s=TO&amp;a=PMTO&amp;pg=1&amp;r=1&amp;rc=10&amp;p=3&amp;d=12895552128&amp;e1=PM&amp;dc=0PL\", event);' target=\"_blank\"><b>파이썬</b>, 브랜드대상4관왕, 국비전액무료, IT우수기관, 수강료조회.</a>,\n",
       " <a class=\"f_link_bu\" href=\"http://keyword.ad.daum.net/short/clk?q=BWqcY6A7N5dmOHvTPxbPa.cFPKn3PKgxDLcxdTq37Q6P2mRmtvB93kD78vyfsiXHBaFEyjIoxl-_K.wmR6VQhppsgX7PIWsAO5PYezyr3DrmWFjgeHN9makB7XVq3poZDdoU6J8PUtkGeN_28-9df1gpgdjPoLYfVWIBAsXXfRjgoXZWrlwQKTK_BW_Qe_Kape44xa9lLTBi3.ntUZQsgT_Hv9gHKnN4gMVC2j4Bb9uQbT9GVV1b9JfpYZ71CyyRvB8k55tC7TYmwVI.rjQ9OPVe2ZIOPhcNjAypibaRoYNjPaCycK9UNaFPusaG98nvGG6HWZYybv4M9d5Ywor2KC7sysjtqXTvn4CXonLkNPzv1JhDEbZ2iWHDCmLWVy278SY0&amp;s=http%3A%2F%2Fwww.uniwise.co.kr%2FuniwiseWeb%2Flecture%2FmovieLectureList.html%3FsubNo%3D3%26searchCategoryCode%3D003%26searchSubjectCode%3D1320%26SUBJECT_SJT_CD%3D1320%26leftMenuLType%3DT002%26lecKType%3DDl%3FsubNo%3D5%26searchCategoryCode%3D005%26searchSubjectCode%3D1296%26SUBJECT_SJT_CD%3D1296%26leftMenuLType%3DT002%26lecKType%3DDl%3FsubNo%3D5%26searchCategoryCode%3D005%26searchSubjectCode%3D1296%26SUBJECT_SJT_CD%3D1296%26leftMenuLType%3DT002%26lecKType%3DD%3Futm_source%3Ddaum%26utm_medium%3DCPC%26DMKW%3D%25ED%258C%258C%25EC%259D%25B4%25EC%258D%25AC%26DMSKW%3D%25ED%258C%258C%25EC%259D%25B4%25EC%258D%25AC%26DMCOL%3DPM\" onclick='smartLog(this, \"s=TO&amp;a=PMTO&amp;pg=1&amp;r=2&amp;rc=10&amp;p=1&amp;d=12929466376&amp;e1=PM&amp;dc=0PL\", event);' target=\"_blank\">대학인강 대표 유니와이즈</a>,\n",
       " <a class=\"f_url url_fl\" href=\"http://keyword.ad.daum.net/short/clk?q=BWqcY6A7N5dmOHvTPxbPa.cFPKn3PKgxDLcxdTq37Q6P2mRmtvB93kD78vyfsiXHBaFEyjIoxl-_K.wmR6VQhppsgX7PIWsAO5PYezyr3DrmWFjgeHN9makB7XVq3poZDdoU6J8PUtkGeN_28-9df1gpgdjPoLYfVWIBAsXXfRjgoXZWrlwQKTK_BW_Qe_Kape44xa9lLTBi3.ntUZQsgT_Hv9gHKnN4gMVC2j4Bb9uQbT9GVV1b9JfpYZ71CyyRvB8k55tC7TYmwVI.rjQ9OPVe2ZIOPhcNjAypibaRoYNjPaCycK9UNaFPusaG98nvGG6HWZYybv4M9d5Ywor2KC7sysjtqXTvn4CXonLkNPzv1JhDEbZ2iWHDCmLWVy278SY0&amp;s=http%3A%2F%2Fwww.uniwise.co.kr%2FuniwiseWeb%2Flecture%2FmovieLectureList.html%3FsubNo%3D3%26searchCategoryCode%3D003%26searchSubjectCode%3D1320%26SUBJECT_SJT_CD%3D1320%26leftMenuLType%3DT002%26lecKType%3DDl%3FsubNo%3D5%26searchCategoryCode%3D005%26searchSubjectCode%3D1296%26SUBJECT_SJT_CD%3D1296%26leftMenuLType%3DT002%26lecKType%3DDl%3FsubNo%3D5%26searchCategoryCode%3D005%26searchSubjectCode%3D1296%26SUBJECT_SJT_CD%3D1296%26leftMenuLType%3DT002%26lecKType%3DD%3Futm_source%3Ddaum%26utm_medium%3DCPC%26DMKW%3D%25ED%258C%258C%25EC%259D%25B4%25EC%258D%25AC%26DMSKW%3D%25ED%258C%258C%25EC%259D%25B4%25EC%258D%25AC%26DMCOL%3DPM\" onclick='smartLog(this, \"s=TO&amp;a=PMTO&amp;pg=1&amp;r=2&amp;rc=10&amp;p=2&amp;d=12929466376&amp;e1=PM&amp;dc=0PL\", event);' target=\"_blank\">www.uniwise.co.kr</a>,\n",
       " <a class=\"f_eb link_txt\" href=\"http://keyword.ad.daum.net/short/clk?q=BWqcY6A7N5dmOHvTPxbPa.cFPKn3PKgxDLcxdTq37Q6P2mRmtvB93kD78vyfsiXHBaFEyjIoxl-_K.wmR6VQhppsgX7PIWsAO5PYezyr3DrmWFjgeHN9makB7XVq3poZDdoU6J8PUtkGeN_28-9df1gpgdjPoLYfVWIBAsXXfRjgoXZWrlwQKTK_BW_Qe_Kape44xa9lLTBi3.ntUZQsgT_Hv9gHKnN4gMVC2j4Bb9uQbT9GVV1b9JfpYZ71CyyRvB8k55tC7TYmwVI.rjQ9OPVe2ZIOPhcNjAypibaRoYNjPaCycK9UNaFPusaG98nvGG6HWZYybv4M9d5Ywor2KC7sysjtqXTvn4CXonLkNPzv1JhDEbZ2iWHDCmLWVy278SY0&amp;s=http%3A%2F%2Fwww.uniwise.co.kr%2FuniwiseWeb%2Flecture%2FmovieLectureList.html%3FsubNo%3D3%26searchCategoryCode%3D003%26searchSubjectCode%3D1320%26SUBJECT_SJT_CD%3D1320%26leftMenuLType%3DT002%26lecKType%3DDl%3FsubNo%3D5%26searchCategoryCode%3D005%26searchSubjectCode%3D1296%26SUBJECT_SJT_CD%3D1296%26leftMenuLType%3DT002%26lecKType%3DDl%3FsubNo%3D5%26searchCategoryCode%3D005%26searchSubjectCode%3D1296%26SUBJECT_SJT_CD%3D1296%26leftMenuLType%3DT002%26lecKType%3DD%3Futm_source%3Ddaum%26utm_medium%3DCPC%26DMKW%3D%25ED%258C%258C%25EC%259D%25B4%25EC%258D%25AC%26DMSKW%3D%25ED%258C%258C%25EC%259D%25B4%25EC%258D%25AC%26DMCOL%3DPM\" onclick='smartLog(this, \"s=TO&amp;a=PMTO&amp;pg=1&amp;r=2&amp;rc=10&amp;p=3&amp;d=12929466376&amp;e1=PM&amp;dc=0PL\", event);' target=\"_blank\">여름방학 맞이 특별할인 이벤트! 딱 15일동안만 최대 30%할인! ~7/15 종료</a>,\n",
       " <a class=\"f_link_bu\" href=\"http://keyword.ad.daum.net/short/clk?q=BWxBJ9NHXsNseaMHG-PcqW_u-P_9MNOsOQ_aAw73ZhiwTw2CFPj7XNKhNcQ-OXmw56QISvRwJA22_AVy9SMmDIs37Q5-ZU.rIR_TKXY5XJV_KHEhU9BfdEHIEBbXK19QeyXdopI8Rkh_Y_y4PxnJYNbYgjhwzBqZ9AH3lGGzLqzuGnUEAnOHihU_5BmdHsldfv2UfzpJuJk4mg00&amp;s=http%3A%2F%2Fwww.no1-itbank.com%2F%3FDMKW%3D%25ED%258C%258C%25EC%259D%25B4%25EC%258D%25AC%26DMSKW%3D%25ED%258C%258C%25EC%259D%25B4%25EC%258D%25AC%26DMCOL%3DPM\" onclick='smartLog(this, \"s=TO&amp;a=PMTO&amp;pg=1&amp;r=3&amp;rc=10&amp;p=1&amp;d=9263284736&amp;e1=PM&amp;dc=0PL\", event);' target=\"_blank\">KG아이티뱅크 <b>파이썬</b>교육 박연주</a>,\n",
       " <a class=\"f_url url_fl\" href=\"http://keyword.ad.daum.net/short/clk?q=BWxBJ9NHXsNseaMHG-PcqW_u-P_9MNOsOQ_aAw73ZhiwTw2CFPj7XNKhNcQ-OXmw56QISvRwJA22_AVy9SMmDIs37Q5-ZU.rIR_TKXY5XJV_KHEhU9BfdEHIEBbXK19QeyXdopI8Rkh_Y_y4PxnJYNbYgjhwzBqZ9AH3lGGzLqzuGnUEAnOHihU_5BmdHsldfv2UfzpJuJk4mg00&amp;s=http%3A%2F%2Fwww.no1-itbank.com%2F%3FDMKW%3D%25ED%258C%258C%25EC%259D%25B4%25EC%258D%25AC%26DMSKW%3D%25ED%258C%258C%25EC%259D%25B4%25EC%258D%25AC%26DMCOL%3DPM\" onclick='smartLog(this, \"s=TO&amp;a=PMTO&amp;pg=1&amp;r=3&amp;rc=10&amp;p=2&amp;d=9263284736&amp;e1=PM&amp;dc=0PL\", event);' target=\"_blank\">www.no1-itbank.com</a>,\n",
       " <a class=\"f_link\" href=\"http://keyword.ad.daum.net/short/clk?q=BW2BJ9NHXsNseaMHG-PcqW_u-P_9MNOsOQ_aAw73ZhiwTw2CFPj7XNKhNcQ-OXmw56QISvRwJA22_AVy9SMmDIs37Q5-ZU.rIR_TKXY5XJV_KHEhU9BfdEHIEBbXK19QeyXdopI8Rkh_Y_y4PxnJYNbYgjhwzBqZ9AH3lGGzLqzuGnUEAnOHihU_5BmdHsldfv2UfzpJuJk4mg00&amp;s=http%3A%2F%2Fwww.no1-itbank.com%2F%3FDMKW%3D%25ED%258C%258C%25EC%259D%25B4%25EC%258D%25AC%26DMSKW%3D%25ED%258C%258C%25EC%259D%25B4%25EC%258D%25AC%26DMCOL%3DPM&amp;isExtCont=true\" onclick='smartLog(this, \"s=TO&amp;a=PMTO&amp;pg=1&amp;r=3&amp;rc=10&amp;p=30&amp;d=9263284736&amp;e1=PM&amp;dc=0PL\", event);' target=\"_blank\">수강료 최대 40%할인적용</a>,\n",
       " <a class=\"f_eb link_txt\" href=\"http://keyword.ad.daum.net/short/clk?q=BWxBJ9NHXsNseaMHG-PcqW_u-P_9MNOsOQ_aAw73ZhiwTw2CFPj7XNKhNcQ-OXmw56QISvRwJA22_AVy9SMmDIs37Q5-ZU.rIR_TKXY5XJV_KHEhU9BfdEHIEBbXK19QeyXdopI8Rkh_Y_y4PxnJYNbYgjhwzBqZ9AH3lGGzLqzuGnUEAnOHihU_5BmdHsldfv2UfzpJuJk4mg00&amp;s=http%3A%2F%2Fwww.no1-itbank.com%2F%3FDMKW%3D%25ED%258C%258C%25EC%259D%25B4%25EC%258D%25AC%26DMSKW%3D%25ED%258C%258C%25EC%259D%25B4%25EC%258D%25AC%26DMCOL%3DPM\" onclick='smartLog(this, \"s=TO&amp;a=PMTO&amp;pg=1&amp;r=3&amp;rc=10&amp;p=3&amp;d=9263284736&amp;e1=PM&amp;dc=0PL\", event);' target=\"_blank\"><b>파이썬</b>교육 기초 및 심화과정상담, 일정, 지점, 수강료조회 및 상담신청.</a>,\n",
       " <a class=\"f_link_bu\" href=\"http://keyword.ad.daum.net/short/clk?q=BW5sKdxehz.5BP7t27bfUN_IXEEsYHpw_WUBtY1C9KFLTAfw964B-AB9lnChsMKpgMB1quvvLcyH_UrsK_mHp2ICd-IBEBnSCT_JKN8elzW2rg9o3nZMGzW_pLNVsm_BF3FWH5g3MZzkMduj_57-d3Mmg9fzHOxJ_7.YxWsbUYLSMNlBbj2hLznwXHv.egZNQAEvLJRslLb4HF2Ovj9QA3iJVhc7CJ8umpw0&amp;s=http%3A%2F%2Ftjoeun.co.kr%2Ffront%2Flecture%2Fit_course.asp%3FDMKW%3D%25ED%258C%258C%25EC%259D%25B4%25EC%258D%25AC%26DMSKW%3D%25ED%258C%258C%25EC%259D%25B4%25EC%258D%25AC%26DMCOL%3DPM\" onclick='smartLog(this, \"s=TO&amp;a=PMTO&amp;pg=1&amp;r=4&amp;rc=10&amp;p=1&amp;d=11453071368&amp;e1=PM&amp;dc=0PL\", event);' target=\"_blank\">더조은 컴퓨터아카데미</a>,\n",
       " <a class=\"f_url url_fl\" href=\"http://keyword.ad.daum.net/short/clk?q=BW5sKdxehz.5BP7t27bfUN_IXEEsYHpw_WUBtY1C9KFLTAfw964B-AB9lnChsMKpgMB1quvvLcyH_UrsK_mHp2ICd-IBEBnSCT_JKN8elzW2rg9o3nZMGzW_pLNVsm_BF3FWH5g3MZzkMduj_57-d3Mmg9fzHOxJ_7.YxWsbUYLSMNlBbj2hLznwXHv.egZNQAEvLJRslLb4HF2Ovj9QA3iJVhc7CJ8umpw0&amp;s=http%3A%2F%2Ftjoeun.co.kr%2Ffront%2Flecture%2Fit_course.asp%3FDMKW%3D%25ED%258C%258C%25EC%259D%25B4%25EC%258D%25AC%26DMSKW%3D%25ED%258C%258C%25EC%259D%25B4%25EC%258D%25AC%26DMCOL%3DPM\" onclick='smartLog(this, \"s=TO&amp;a=PMTO&amp;pg=1&amp;r=4&amp;rc=10&amp;p=2&amp;d=11453071368&amp;e1=PM&amp;dc=0PL\", event);' target=\"_blank\">www.tjoeun.co.kr</a>,\n",
       " <a class=\"f_link\" href=\"http://keyword.ad.daum.net/short/clk?q=BW_EemvCqG4EcKlU_9mHYBI5KeN8Bm11rzunpu-9HhtFU7nHSUZPngR-AQAsrn1RW_yu5Hx4xxy9SJAdCgnyryJzgP3e1EBZXsXLGlTrUsbcnQ1FqZsU7yvTauIS26oA8zocGNuvIwl2HwXYubtLppgS&amp;s=http%3A%2F%2Fm.tjoeun.co.kr%2Ffront%2Fetc%2Fncs%2F&amp;isExtCont=true\" onclick='smartLog(this, \"s=TO&amp;a=PMTO&amp;pg=1&amp;r=4&amp;rc=10&amp;p=31&amp;d=11453071368&amp;e1=PM&amp;dc=0PL\", event);' target=\"_blank\">국비교육과정</a>,\n",
       " <a class=\"f_link\" href=\"http://keyword.ad.daum.net/short/clk?q=BXGtIa_cAMFVbEoQa-EsOOWogyi7VwLB_aJmAsiTyscKql2jhplnIhzALKSxWsQMmZ.GvXcszDRlZ6cj5VOrIz187rGjwgK_7DvyPkq3Pjo-VDrBqkiYV88mnQUlS9Wbpw52WIDsj49CFFpNnX6CuejX.TYj6R6fLCUzQMGgIUQQZg00&amp;s=http%3A%2F%2Fm.tjoeun.co.kr%2Ffront%2Flecture%2Fjobstory%2Fweb.asp&amp;isExtCont=true\" onclick='smartLog(this, \"s=TO&amp;a=PMTO&amp;pg=1&amp;r=4&amp;rc=10&amp;p=32&amp;d=11453071368&amp;e1=PM&amp;dc=0PL\", event);' target=\"_blank\">취업스토리</a>,\n",
       " <a class=\"f_link\" href=\"http://keyword.ad.daum.net/short/clk?q=BXIzK32B4FjCHyREKzl7C_NwcVy_NgaL2eGPodzpGRWqIySyEhoKSg1eH3BoQGH-B_wu9NPHdaZrtN.asXA-efM_EXOnJKRo-3HojpTth-NJQuRMojOnr_NfnZSg3-qUIdo6xqihT-Jbv1_zwRruKu6tkUB.wMa6S8M0&amp;s=http%3A%2F%2Fm.tjoeun.co.kr%2Ffront%2Fportfolio%2Fportfolio.asp&amp;isExtCont=true\" onclick='smartLog(this, \"s=TO&amp;a=PMTO&amp;pg=1&amp;r=4&amp;rc=10&amp;p=33&amp;d=11453071368&amp;e1=PM&amp;dc=0PL\", event);' target=\"_blank\">포트폴리오</a>,\n",
       " <a class=\"f_link\" href=\"http://keyword.ad.daum.net/short/clk?q=BXNMQOkSB73w5ae6eqAaD_szYnEecO9I6xm61SljTDJXgtasFmlhvge6NerWuTEED81-MiwS7MXJiqYoq9A7HXU6CBhWEonYuZ-RPLRvHsHXDQ7E5Y86b4N_yqLbBNY5peRzPiojD66EC73-mvqks.EJUfLUGHFICP2OpU1X1NMMUw00&amp;s=http%3A%2F%2Fm.tjoeun.co.kr%2Ffront%2Fhelpdesk%2Fonline_counsel.asp&amp;isExtCont=true\" onclick='smartLog(this, \"s=TO&amp;a=PMTO&amp;pg=1&amp;r=4&amp;rc=10&amp;p=34&amp;d=11453071368&amp;e1=PM&amp;dc=0PL\", event);' target=\"_blank\">온라인상담</a>,\n",
       " <a class=\"f_eb link_txt\" href=\"http://keyword.ad.daum.net/short/clk?q=BW5sKdxehz.5BP7t27bfUN_IXEEsYHpw_WUBtY1C9KFLTAfw964B-AB9lnChsMKpgMB1quvvLcyH_UrsK_mHp2ICd-IBEBnSCT_JKN8elzW2rg9o3nZMGzW_pLNVsm_BF3FWH5g3MZzkMduj_57-d3Mmg9fzHOxJ_7.YxWsbUYLSMNlBbj2hLznwXHv.egZNQAEvLJRslLb4HF2Ovj9QA3iJVhc7CJ8umpw0&amp;s=http%3A%2F%2Ftjoeun.co.kr%2Ffront%2Flecture%2Fit_course.asp%3FDMKW%3D%25ED%258C%258C%25EC%259D%25B4%25EC%258D%25AC%26DMSKW%3D%25ED%258C%258C%25EC%259D%25B4%25EC%258D%25AC%26DMCOL%3DPM\" onclick='smartLog(this, \"s=TO&amp;a=PMTO&amp;pg=1&amp;r=4&amp;rc=10&amp;p=3&amp;d=11453071368&amp;e1=PM&amp;dc=0PL\", event);' target=\"_blank\">취업연계 국비 100% 무료교육, IT개발 전문가양성, 취업수당지급, <b>파이썬</b>.</a>,\n",
       " <a class=\"f_link_bu\" href=\"http://keyword.ad.daum.net/short/clk?q=BXTN-MWdyLMN7pfZxw2KcTzkYxHNibHE5yld7C4uQLYKA-Iv5G9c7T2gE.s4o-LYq5K5AmxOg5iveoXz8wx--27sz1DtN_eEz-1I5pfWQiS1l6cGMa5IdPVYsztv54FXkC9XJJlpPKxHSA00&amp;s=http%3A%2F%2Fwww.itbank21.com\" onclick='smartLog(this, \"s=TO&amp;a=PMTO&amp;pg=1&amp;r=5&amp;rc=10&amp;p=1&amp;d=15712037024&amp;e1=PM&amp;dc=0PL\", event);' target=\"_blank\">KG아이티뱅크 코딩학원 김서균</a>,\n",
       " <a class=\"f_url url_fl\" href=\"http://keyword.ad.daum.net/short/clk?q=BXTN-MWdyLMN7pfZxw2KcTzkYxHNibHE5yld7C4uQLYKA-Iv5G9c7T2gE.s4o-LYq5K5AmxOg5iveoXz8wx--27sz1DtN_eEz-1I5pfWQiS1l6cGMa5IdPVYsztv54FXkC9XJJlpPKxHSA00&amp;s=http%3A%2F%2Fwww.itbank21.com\" onclick='smartLog(this, \"s=TO&amp;a=PMTO&amp;pg=1&amp;r=5&amp;rc=10&amp;p=2&amp;d=15712037024&amp;e1=PM&amp;dc=0PL\", event);' target=\"_blank\">www.itbank21.com</a>,\n",
       " <a class=\"f_eb link_txt\" href=\"http://keyword.ad.daum.net/short/clk?q=BXTN-MWdyLMN7pfZxw2KcTzkYxHNibHE5yld7C4uQLYKA-Iv5G9c7T2gE.s4o-LYq5K5AmxOg5iveoXz8wx--27sz1DtN_eEz-1I5pfWQiS1l6cGMa5IdPVYsztv54FXkC9XJJlpPKxHSA00&amp;s=http%3A%2F%2Fwww.itbank21.com\" onclick='smartLog(this, \"s=TO&amp;a=PMTO&amp;pg=1&amp;r=5&amp;rc=10&amp;p=3&amp;d=15712037024&amp;e1=PM&amp;dc=0PL\", event);' target=\"_blank\"><b>파이썬</b>, C언어, 자바등 프로그래밍 교육, 무료취업상담, 수강료확인, 할인이벤트</a>,\n",
       " <a class=\"thumb\" href=\"http://keyword.ad.daum.net/short/clk?q=BXby8KNBdjZ9wmoLqP2i-gczCb2fm9KjvHAcYopq7lnoSRPivfZ2ehCZLiE6I2wGvraigFtA_6cPedsBovgPhQdFxql6Rp9gRgQGG1BqfiUByXUDIkFuEktB-z5VmuZj2Lfzcn1MHX1eL3jAvxZp9GxBBvcGJBGmQFy9u6SIJQ35_LL2nK6cZVwEj-oxXRzWtV6Op5YQuWqhuRNlDODFOug9icsHplnJOlqHF8eeqd6Mgg00&amp;s=https%3A%2F%2Fhome.sjcu.ac.kr%2Fko%2Fcms%2FFR_CON%2Findex.do%3FMENU_ID%3D1150%26DMKW%3D%25ED%258C%258C%25EC%259D%25B4%25EC%258D%25AC%26DMSKW%3D%25ED%258C%258C%25EC%259D%25B4%25EC%258D%25AC%26DMCOL%3DPM&amp;isExtCont=true\" onclick='smartLog(this, \"s=TO&amp;a=PMTO&amp;pg=1&amp;r=6&amp;rc=10&amp;p=41&amp;d=13558131368&amp;e1=PM&amp;dc=0PL\", event);' target=\"_blank\"> <img alt=\"\" class=\"thumb_img\" height=\"64\" onerror=\"C.shoppingNColl.img_on_error(this);\" src=\"https://search1.daumcdn.net/thumb/R120x120.q70/?fname=http://t1.daumcdn.net/clix_image_library_public/img/66eb8fe6ee9545197b5d4f5bfb2f2befad6f9ef1\" width=\"64\"/> </a>,\n",
       " <a class=\"f_link_bu\" href=\"http://keyword.ad.daum.net/short/clk?q=BXXE84ZpL8D2NMKjAbGjgHGylmtjxRkhI6_KX98gR8OyuAdSh5Y6wAogCozSXfUWz9zPgOrMYIyyUadjeOIuQZeWH69fkwpV2t4yjBGsZr.uJz-jPvouz2.GqSQJ8gy_cBmLREzp.oNjkUjLCSDUbUyi6oPWLKPfwtmCcoJkDzOHodv_3_s7eb3Gv1AwYHy-JtrtJnoOdY6h86.F3g-7mtVG5oXEjTRLsCT-QNFOTVSORA00&amp;s=https%3A%2F%2Fhome.sjcu.ac.kr%2Fko%2Fcms%2FFR_CON%2Findex.do%3FMENU_ID%3D1150%26DMKW%3D%25ED%258C%258C%25EC%259D%25B4%25EC%258D%25AC%26DMSKW%3D%25ED%258C%258C%25EC%259D%25B4%25EC%258D%25AC%26DMCOL%3DPM\" onclick='smartLog(this, \"s=TO&amp;a=PMTO&amp;pg=1&amp;r=6&amp;rc=10&amp;p=1&amp;d=13558131368&amp;e1=PM&amp;dc=0PL\", event);' target=\"_blank\">세사대 컴퓨터소프트웨어학과</a>,\n",
       " <a class=\"f_url url_fl\" href=\"http://keyword.ad.daum.net/short/clk?q=BXXE84ZpL8D2NMKjAbGjgHGylmtjxRkhI6_KX98gR8OyuAdSh5Y6wAogCozSXfUWz9zPgOrMYIyyUadjeOIuQZeWH69fkwpV2t4yjBGsZr.uJz-jPvouz2.GqSQJ8gy_cBmLREzp.oNjkUjLCSDUbUyi6oPWLKPfwtmCcoJkDzOHodv_3_s7eb3Gv1AwYHy-JtrtJnoOdY6h86.F3g-7mtVG5oXEjTRLsCT-QNFOTVSORA00&amp;s=https%3A%2F%2Fhome.sjcu.ac.kr%2Fko%2Fcms%2FFR_CON%2Findex.do%3FMENU_ID%3D1150%26DMKW%3D%25ED%258C%258C%25EC%259D%25B4%25EC%258D%25AC%26DMSKW%3D%25ED%258C%258C%25EC%259D%25B4%25EC%258D%25AC%26DMCOL%3DPM\" onclick='smartLog(this, \"s=TO&amp;a=PMTO&amp;pg=1&amp;r=6&amp;rc=10&amp;p=2&amp;d=13558131368&amp;e1=PM&amp;dc=0PL\", event);' target=\"_blank\">home.sjcu.ac.kr</a>,\n",
       " <a class=\"f_eb link_txt\" href=\"http://keyword.ad.daum.net/short/clk?q=BXXE84ZpL8D2NMKjAbGjgHGylmtjxRkhI6_KX98gR8OyuAdSh5Y6wAogCozSXfUWz9zPgOrMYIyyUadjeOIuQZeWH69fkwpV2t4yjBGsZr.uJz-jPvouz2.GqSQJ8gy_cBmLREzp.oNjkUjLCSDUbUyi6oPWLKPfwtmCcoJkDzOHodv_3_s7eb3Gv1AwYHy-JtrtJnoOdY6h86.F3g-7mtVG5oXEjTRLsCT-QNFOTVSORA00&amp;s=https%3A%2F%2Fhome.sjcu.ac.kr%2Fko%2Fcms%2FFR_CON%2Findex.do%3FMENU_ID%3D1150%26DMKW%3D%25ED%258C%258C%25EC%259D%25B4%25EC%258D%25AC%26DMSKW%3D%25ED%258C%258C%25EC%259D%25B4%25EC%258D%25AC%26DMCOL%3DPM\" onclick='smartLog(this, \"s=TO&amp;a=PMTO&amp;pg=1&amp;r=6&amp;rc=10&amp;p=3&amp;d=13558131368&amp;e1=PM&amp;dc=0PL\", event);' target=\"_blank\">인공지능 시대의 전문가 양성을 위한 교육과정 개설, 세종사이버 컴퓨터소프트웨어학과.</a>,\n",
       " <a class=\"f_link_bu\" href=\"http://keyword.ad.daum.net/short/clk?q=BXdG-IOSt3CY5whAS3sZFxv9kIeSiT-vlU9wOEOV1doPXjWHXJSwjWEvmiYjzsswM6O_9rRRyqACZ1_GqznT24ODrTB17y9NfwPbJfFx9Vc6k3fdtuNLGDVQi3wUz2c2RcnNrwmb1YYm4Q00&amp;s=http%3A%2F%2Fkgitbank.pro\" onclick='smartLog(this, \"s=TO&amp;a=PMTO&amp;pg=1&amp;r=7&amp;rc=10&amp;p=1&amp;d=15712421920&amp;e1=PM&amp;dc=0PL\", event);' target=\"_blank\">KG아이티뱅크 컴퓨터학원 염인준</a>,\n",
       " <a class=\"f_url url_fl\" href=\"http://keyword.ad.daum.net/short/clk?q=BXdG-IOSt3CY5whAS3sZFxv9kIeSiT-vlU9wOEOV1doPXjWHXJSwjWEvmiYjzsswM6O_9rRRyqACZ1_GqznT24ODrTB17y9NfwPbJfFx9Vc6k3fdtuNLGDVQi3wUz2c2RcnNrwmb1YYm4Q00&amp;s=http%3A%2F%2Fkgitbank.pro\" onclick='smartLog(this, \"s=TO&amp;a=PMTO&amp;pg=1&amp;r=7&amp;rc=10&amp;p=2&amp;d=15712421920&amp;e1=PM&amp;dc=0PL\", event);' target=\"_blank\">kgitbank.pro</a>,\n",
       " <a class=\"f_eb link_txt\" href=\"http://keyword.ad.daum.net/short/clk?q=BXdG-IOSt3CY5whAS3sZFxv9kIeSiT-vlU9wOEOV1doPXjWHXJSwjWEvmiYjzsswM6O_9rRRyqACZ1_GqznT24ODrTB17y9NfwPbJfFx9Vc6k3fdtuNLGDVQi3wUz2c2RcnNrwmb1YYm4Q00&amp;s=http%3A%2F%2Fkgitbank.pro\" onclick='smartLog(this, \"s=TO&amp;a=PMTO&amp;pg=1&amp;r=7&amp;rc=10&amp;p=3&amp;d=15712421920&amp;e1=PM&amp;dc=0PL\", event);' target=\"_blank\">서울부산지점 IT전과목보유, 전공대비 취업준비, 기초 심화, 평일반 주말반</a>,\n",
       " <a class=\"thumb\" href=\"http://keyword.ad.daum.net/short/clk?q=BXljdV-3B2v79EhaU1NqP.IzCA2CLovcvKS_sAl5dD49P4oD-iTEJYnucKD-Gew7OpAIFJHAFNEFeFbJmkjoJHknL2UnzipA.GbiHkcMh32EW2flHnZ5ULLSjrlggOAI6MfiQzq8FCGFp.ROxk2gFvqC4owodkUQtqDJzxaon_5izXEHG5MwcvEzM_PcJ3BxBzLTQkgyZj1tUNxTyj5m44Jw&amp;s=http%3A%2F%2Fsinchon.koreaisacademy.com%2F%3FDMKW%3D%25ED%258C%258C%25EC%259D%25B4%25EC%258D%25AC%26DMSKW%3D%25ED%258C%258C%25EC%259D%25B4%25EC%258D%25AC%26DMCOL%3DPM&amp;isExtCont=true\" onclick='smartLog(this, \"s=TO&amp;a=PMTO&amp;pg=1&amp;r=8&amp;rc=10&amp;p=41&amp;d=12895562400&amp;e1=PM&amp;dc=0PL\", event);' target=\"_blank\"> <img alt=\"\" class=\"thumb_img\" height=\"64\" onerror=\"C.shoppingNColl.img_on_error(this);\" src=\"https://search1.daumcdn.net/thumb/R120x120.q70/?fname=http://t1.daumcdn.net/clix_image_library_public/img/1677e5a3f750878a29288e551161cfb1badcbfb3\" width=\"64\"/> </a>,\n",
       " <a class=\"f_link_bu\" href=\"http://keyword.ad.daum.net/short/clk?q=BXhjdV-3B2v79EhaU1NqP.IzCA2CLovcvKS_sAl5dD49P4oD-iTEJYnucKD-Gew7OpAIFJHAFNEFeFbJmkjoJHknL2UnzipA.GbiHkcMh32EW2flHnZ5ULLSjrlggOAI6MfiQzq8FCGFp.ROxk2gFvqC4owodkUQtqDJzxaon_5izXEHG5MwcvEzM_PcJ3BxBzLTQkgyZj1tUNxTyj5m44Jw&amp;s=http%3A%2F%2Fsinchon.koreaisacademy.com%2F%3FDMKW%3D%25ED%258C%258C%25EC%259D%25B4%25EC%258D%25AC%26DMSKW%3D%25ED%258C%258C%25EC%259D%25B4%25EC%258D%25AC%26DMCOL%3DPM\" onclick='smartLog(this, \"s=TO&amp;a=PMTO&amp;pg=1&amp;r=8&amp;rc=10&amp;p=1&amp;d=12895562400&amp;e1=PM&amp;dc=0PL\", event);' target=\"_blank\">코리아IT아카데미 신촌점</a>,\n",
       " <a class=\"f_url url_fl\" href=\"http://keyword.ad.daum.net/short/clk?q=BXhjdV-3B2v79EhaU1NqP.IzCA2CLovcvKS_sAl5dD49P4oD-iTEJYnucKD-Gew7OpAIFJHAFNEFeFbJmkjoJHknL2UnzipA.GbiHkcMh32EW2flHnZ5ULLSjrlggOAI6MfiQzq8FCGFp.ROxk2gFvqC4owodkUQtqDJzxaon_5izXEHG5MwcvEzM_PcJ3BxBzLTQkgyZj1tUNxTyj5m44Jw&amp;s=http%3A%2F%2Fsinchon.koreaisacademy.com%2F%3FDMKW%3D%25ED%258C%258C%25EC%259D%25B4%25EC%258D%25AC%26DMSKW%3D%25ED%258C%258C%25EC%259D%25B4%25EC%258D%25AC%26DMCOL%3DPM\" onclick='smartLog(this, \"s=TO&amp;a=PMTO&amp;pg=1&amp;r=8&amp;rc=10&amp;p=2&amp;d=12895562400&amp;e1=PM&amp;dc=0PL\", event);' target=\"_blank\">sinchon.koreaisacademy.com</a>,\n",
       " <a class=\"f_eb link_txt\" href=\"http://keyword.ad.daum.net/short/clk?q=BXhjdV-3B2v79EhaU1NqP.IzCA2CLovcvKS_sAl5dD49P4oD-iTEJYnucKD-Gew7OpAIFJHAFNEFeFbJmkjoJHknL2UnzipA.GbiHkcMh32EW2flHnZ5ULLSjrlggOAI6MfiQzq8FCGFp.ROxk2gFvqC4owodkUQtqDJzxaon_5izXEHG5MwcvEzM_PcJ3BxBzLTQkgyZj1tUNxTyj5m44Jw&amp;s=http%3A%2F%2Fsinchon.koreaisacademy.com%2F%3FDMKW%3D%25ED%258C%258C%25EC%259D%25B4%25EC%258D%25AC%26DMSKW%3D%25ED%258C%258C%25EC%259D%25B4%25EC%258D%25AC%26DMCOL%3DPM\" onclick='smartLog(this, \"s=TO&amp;a=PMTO&amp;pg=1&amp;r=8&amp;rc=10&amp;p=3&amp;d=12895562400&amp;e1=PM&amp;dc=0PL\", event);' target=\"_blank\"><b>파이썬</b>, 국비전액무료, IT우수기관, 브랜드대상4관왕, 수강료조회.</a>,\n",
       " <a class=\"f_link_bu\" href=\"http://keyword.ad.daum.net/short/clk?q=BXrj4.Oy.71XxAKkumIPxGtP6JrLZ79BFhpnnotL2MgD-wM6-gq6ITRGWjc_2umH2xuVrraeBTtDCRBZOHtLJHe8MZae3FG4RyI1SNOCUlFknNdMQH39p-LdUJ59St.ngVhxYW4KzOj61K6wh61ncH_iIUiq1uXVEHUopocfgyNRb4RQPzCSbp8fjVeM5MScnbNgsj76A2DrOURvdpiExCFBpQzLerix2S8lzo_DkwkY4634T-WdwwEDLKRRNWvfUtk0&amp;s=http%3A%2F%2Flanding.coupang.com%2Fmulti%3Fsid%3DRSA1%26src%3D1042002%26spec%3D10304941%26lptag%3D%25ED%258C%258C%25EC%259D%25B4%25EC%258D%25AC%26addtag%3D200%26ctag%3D%25ED%258C%258C%25EC%259D%25B4%25EC%258D%25AC%26query%3D%25ED%258C%258C%25EC%259D%25B4%25EC%258D%25AC%26forceBypass%3DY\" onclick='smartLog(this, \"s=TO&amp;a=PMTO&amp;pg=1&amp;r=9&amp;rc=10&amp;p=1&amp;d=13055305760&amp;e1=PM&amp;dc=0PL\", event);' target=\"_blank\"><b>파이썬</b> 쿠팡</a>,\n",
       " <a class=\"f_url url_fl\" href=\"http://keyword.ad.daum.net/short/clk?q=BXrj4.Oy.71XxAKkumIPxGtP6JrLZ79BFhpnnotL2MgD-wM6-gq6ITRGWjc_2umH2xuVrraeBTtDCRBZOHtLJHe8MZae3FG4RyI1SNOCUlFknNdMQH39p-LdUJ59St.ngVhxYW4KzOj61K6wh61ncH_iIUiq1uXVEHUopocfgyNRb4RQPzCSbp8fjVeM5MScnbNgsj76A2DrOURvdpiExCFBpQzLerix2S8lzo_DkwkY4634T-WdwwEDLKRRNWvfUtk0&amp;s=http%3A%2F%2Flanding.coupang.com%2Fmulti%3Fsid%3DRSA1%26src%3D1042002%26spec%3D10304941%26lptag%3D%25ED%258C%258C%25EC%259D%25B4%25EC%258D%25AC%26addtag%3D200%26ctag%3D%25ED%258C%258C%25EC%259D%25B4%25EC%258D%25AC%26query%3D%25ED%258C%258C%25EC%259D%25B4%25EC%258D%25AC%26forceBypass%3DY\" onclick='smartLog(this, \"s=TO&amp;a=PMTO&amp;pg=1&amp;r=9&amp;rc=10&amp;p=2&amp;d=13055305760&amp;e1=PM&amp;dc=0PL\", event);' target=\"_blank\">www.coupang.com</a>,\n",
       " <a class=\"f_link\" href=\"http://keyword.ad.daum.net/short/clk?q=BXvj4.Oy.71XxAKkumIPxGtP6JrLZ79BFhpnnotL2MgD-wM6-gq6ITRGWjc_2umH2xuVrraeBTtDCRBZOHtLJHe8MZae3FG4RyI1SNOCUlFknNdMQH39p-LdUJ59St.ngVhxYW4KzOj61K6wh61ncH_iIUiq1uXVEHUopocfgyNRb4RQPzCSbp8fjVeM5MScnbNgsj76A2DrOURvdpiExCFBpQzLerix2S8lzo_DkwkY4634T-WdwwEDLKRRNWvfUtk0&amp;s=http%3A%2F%2Flanding.coupang.com%2Fmulti%3Fsid%3DRSA1%26src%3D1042002%26spec%3D10304941%26lptag%3D%25ED%258C%258C%25EC%259D%25B4%25EC%258D%25AC%26addtag%3D200%26ctag%3D%25ED%258C%258C%25EC%259D%25B4%25EC%258D%25AC%26query%3D%25ED%258C%258C%25EC%259D%25B4%25EC%258D%25AC%26forceBypass%3DY&amp;isExtCont=true\" onclick='smartLog(this, \"s=TO&amp;a=PMTO&amp;pg=1&amp;r=9&amp;rc=10&amp;p=30&amp;d=13055305760&amp;e1=PM&amp;dc=0PL\", event);' target=\"_blank\">쿠페이 최대 5% 캐시적립!</a>,\n",
       " <a class=\"f_eb link_txt\" href=\"http://keyword.ad.daum.net/short/clk?q=BXrj4.Oy.71XxAKkumIPxGtP6JrLZ79BFhpnnotL2MgD-wM6-gq6ITRGWjc_2umH2xuVrraeBTtDCRBZOHtLJHe8MZae3FG4RyI1SNOCUlFknNdMQH39p-LdUJ59St.ngVhxYW4KzOj61K6wh61ncH_iIUiq1uXVEHUopocfgyNRb4RQPzCSbp8fjVeM5MScnbNgsj76A2DrOURvdpiExCFBpQzLerix2S8lzo_DkwkY4634T-WdwwEDLKRRNWvfUtk0&amp;s=http%3A%2F%2Flanding.coupang.com%2Fmulti%3Fsid%3DRSA1%26src%3D1042002%26spec%3D10304941%26lptag%3D%25ED%258C%258C%25EC%259D%25B4%25EC%258D%25AC%26addtag%3D200%26ctag%3D%25ED%258C%258C%25EC%259D%25B4%25EC%258D%25AC%26query%3D%25ED%258C%258C%25EC%259D%25B4%25EC%258D%25AC%26forceBypass%3DY\" onclick='smartLog(this, \"s=TO&amp;a=PMTO&amp;pg=1&amp;r=9&amp;rc=10&amp;p=3&amp;d=13055305760&amp;e1=PM&amp;dc=0PL\", event);' target=\"_blank\"><b>파이썬</b> 특가! IT도서, 전문서적, 로켓와우 클럽은 무료배송!</a>,\n",
       " <a class=\"thumb\" href=\"http://keyword.ad.daum.net/short/clk?q=BX4yQ6LON5EtyuKf9pQ6mmiDnXS66XKFt8EzDjK7Nmd5h1ZUo2euE4mZQvN_UzZrd.DbrkPHnbz.MeRFfc7kX32O7MYYfhvlI7fUzp5yi6pcN-sV-YkPTHFkXZczLaY7T1dBTV9vIHpJ9fHFsAfYTAj3_usdV2B7HH1bH21S.ZFbTTI2EqkhBSUcpIJRl6SvLos0&amp;s=http%3A%2F%2Fit.ezenac.co.kr%2F%3FDMKW%3D%25ED%258C%258C%25EC%259D%25B4%25EC%258D%25AC%26DMSKW%3D%25ED%258C%258C%25EC%259D%25B4%25EC%258D%25AC%26DMCOL%3DPM&amp;isExtCont=true\" onclick='smartLog(this, \"s=TO&amp;a=PMTO&amp;pg=1&amp;r=10&amp;rc=10&amp;p=41&amp;d=13457959432&amp;e1=PM&amp;dc=0PL\", event);' target=\"_blank\"> <img alt=\"\" class=\"thumb_img\" height=\"64\" onerror=\"C.shoppingNColl.img_on_error(this);\" src=\"https://search1.daumcdn.net/thumb/R120x120.q70/?fname=http://t1.daumcdn.net/clix_image_library_public/img/62166608ac94b6f8eafcf7fd6fdaf80d38a8ed2f\" width=\"64\"/> </a>,\n",
       " <a class=\"f_link_bu\" href=\"http://keyword.ad.daum.net/short/clk?q=BXzyQ6LON5EtyuKf9pQ6mmiDnXS66XKFt8EzDjK7Nmd5h1ZUo2euE4mZQvN_UzZrd.DbrkPHnbz.MeRFfc7kX32O7MYYfhvlI7fUzp5yi6pcN-sV-YkPTHFkXZczLaY7T1dBTV9vIHpJ9fHFsAfYTAj3_usdV2B7HH1bH21S.ZFbTTI2EqkhBSUcpIJRl6SvLos0&amp;s=http%3A%2F%2Fit.ezenac.co.kr%2F%3FDMKW%3D%25ED%258C%258C%25EC%259D%25B4%25EC%258D%25AC%26DMSKW%3D%25ED%258C%258C%25EC%259D%25B4%25EC%258D%25AC%26DMCOL%3DPM\" onclick='smartLog(this, \"s=TO&amp;a=PMTO&amp;pg=1&amp;r=10&amp;rc=10&amp;p=1&amp;d=13457959432&amp;e1=PM&amp;dc=0PL\", event);' target=\"_blank\">이젠IT아카데미학원</a>,\n",
       " <a class=\"f_url url_fl\" href=\"http://keyword.ad.daum.net/short/clk?q=BXzyQ6LON5EtyuKf9pQ6mmiDnXS66XKFt8EzDjK7Nmd5h1ZUo2euE4mZQvN_UzZrd.DbrkPHnbz.MeRFfc7kX32O7MYYfhvlI7fUzp5yi6pcN-sV-YkPTHFkXZczLaY7T1dBTV9vIHpJ9fHFsAfYTAj3_usdV2B7HH1bH21S.ZFbTTI2EqkhBSUcpIJRl6SvLos0&amp;s=http%3A%2F%2Fit.ezenac.co.kr%2F%3FDMKW%3D%25ED%258C%258C%25EC%259D%25B4%25EC%258D%25AC%26DMSKW%3D%25ED%258C%258C%25EC%259D%25B4%25EC%258D%25AC%26DMCOL%3DPM\" onclick='smartLog(this, \"s=TO&amp;a=PMTO&amp;pg=1&amp;r=10&amp;rc=10&amp;p=2&amp;d=13457959432&amp;e1=PM&amp;dc=0PL\", event);' target=\"_blank\">it.ezenac.co.kr</a>,\n",
       " <a class=\"f_eb link_txt\" href=\"http://keyword.ad.daum.net/short/clk?q=BXzyQ6LON5EtyuKf9pQ6mmiDnXS66XKFt8EzDjK7Nmd5h1ZUo2euE4mZQvN_UzZrd.DbrkPHnbz.MeRFfc7kX32O7MYYfhvlI7fUzp5yi6pcN-sV-YkPTHFkXZczLaY7T1dBTV9vIHpJ9fHFsAfYTAj3_usdV2B7HH1bH21S.ZFbTTI2EqkhBSUcpIJRl6SvLos0&amp;s=http%3A%2F%2Fit.ezenac.co.kr%2F%3FDMKW%3D%25ED%258C%258C%25EC%259D%25B4%25EC%258D%25AC%26DMSKW%3D%25ED%258C%258C%25EC%259D%25B4%25EC%258D%25AC%26DMCOL%3DPM\" onclick='smartLog(this, \"s=TO&amp;a=PMTO&amp;pg=1&amp;r=10&amp;rc=10&amp;p=3&amp;d=13457959432&amp;e1=PM&amp;dc=0PL\", event);' target=\"_blank\">IT전문교육, 기초부터 실무까지 맞춤교육, 취업준비&amp;직장인 국비100%무료교육.</a>,\n",
       " <a class=\"f_nb\" href=\"http://adnetwork.ad.kakaocorp.com/\" onclick='smartLog(this, \"s=TO&amp;a=WDTO&amp;&amp;d=1&amp;pg=1&amp;e=1&amp;dc=0WD\", event);' target=\"_blank\">신청하기</a>,\n",
       " <a class=\"f_link_bu\" href=\"http://keyword.ad.daum.net/short/clk?q=.hMjIUGOQgZAp1qd4omBwQ32gYEbvKrrQJvl4IaMEtnpQ.MZdh1193GB_FlAXeL78.dDi8XKBs7ru8-HvVGA6vndzba83D_3dYAbNa-RS9ng_ZTxfi.iAMAJj-Cz85XyuJIIbfAYv67QWQ00&amp;s=http%3A%2F%2Fwww.ddazua.com%2F\" onclick='smartLog(this, \"s=TO&amp;a=WDTO&amp;pg=1&amp;r=1&amp;rc=5&amp;p=1&amp;d=13564551688&amp;e1=WIDELINK&amp;dc=0WD\", event);' target=\"_blank\">온라인 종합 교육포털 따즈아</a>,\n",
       " <a class=\"f_url url_fl\" href=\"http://keyword.ad.daum.net/short/clk?q=.hMjIUGOQgZAp1qd4omBwQ32gYEbvKrrQJvl4IaMEtnpQ.MZdh1193GB_FlAXeL78.dDi8XKBs7ru8-HvVGA6vndzba83D_3dYAbNa-RS9ng_ZTxfi.iAMAJj-Cz85XyuJIIbfAYv67QWQ00&amp;s=http%3A%2F%2Fwww.ddazua.com%2F\" onclick='smartLog(this, \"s=TO&amp;a=WDTO&amp;pg=1&amp;r=1&amp;rc=5&amp;p=2&amp;d=13564551688&amp;e1=WIDELINK&amp;dc=0WD\", event);' target=\"_blank\">www.ddazua.com</a>,\n",
       " <a class=\"f_eb link_txt\" href=\"http://keyword.ad.daum.net/short/clk?q=.hMjIUGOQgZAp1qd4omBwQ32gYEbvKrrQJvl4IaMEtnpQ.MZdh1193GB_FlAXeL78.dDi8XKBs7ru8-HvVGA6vndzba83D_3dYAbNa-RS9ng_ZTxfi.iAMAJj-Cz85XyuJIIbfAYv67QWQ00&amp;s=http%3A%2F%2Fwww.ddazua.com%2F\" onclick='smartLog(this, \"s=TO&amp;a=WDTO&amp;pg=1&amp;r=1&amp;rc=5&amp;p=3&amp;d=13564551688&amp;e1=WIDELINK&amp;dc=0WD\", event);' target=\"_blank\">최신강좌들이 한 곳에! 그래픽, 게임, 뷰티, 요리 등 자격증은 여기서 따즈아!</a>,\n",
       " <a class=\"f_link_bu\" href=\"http://keyword.ad.daum.net/short/clk?q=.hS2gyOHKPX8QOB5sWn_S8_1Z7pqPAC6EzUFWrCg.mgvxVW-H9287Y_jCvfSlbk.mQVUNGPA1mTQVQZ7BLMwJgQ-1s6z9Zexdud5I2.XZC5QQdHpUUR6NxlluigEBj4_7Z.MSPl4q1aOag00&amp;s=http%3A%2F%2Fdaegu.koreaisacademy.com\" onclick='smartLog(this, \"s=TO&amp;a=WDTO&amp;pg=1&amp;r=2&amp;rc=5&amp;p=1&amp;d=15209234464&amp;e1=WIDELINK&amp;dc=0WD\", event);' target=\"_blank\">코리아IT아카데미 대구점</a>,\n",
       " <a class=\"f_url url_fl\" href=\"http://keyword.ad.daum.net/short/clk?q=.hS2gyOHKPX8QOB5sWn_S8_1Z7pqPAC6EzUFWrCg.mgvxVW-H9287Y_jCvfSlbk.mQVUNGPA1mTQVQZ7BLMwJgQ-1s6z9Zexdud5I2.XZC5QQdHpUUR6NxlluigEBj4_7Z.MSPl4q1aOag00&amp;s=http%3A%2F%2Fdaegu.koreaisacademy.com\" onclick='smartLog(this, \"s=TO&amp;a=WDTO&amp;pg=1&amp;r=2&amp;rc=5&amp;p=2&amp;d=15209234464&amp;e1=WIDELINK&amp;dc=0WD\", event);' target=\"_blank\">daegu.koreaisacademy.com</a>,\n",
       " <a class=\"f_eb link_txt\" href=\"http://keyword.ad.daum.net/short/clk?q=.hS2gyOHKPX8QOB5sWn_S8_1Z7pqPAC6EzUFWrCg.mgvxVW-H9287Y_jCvfSlbk.mQVUNGPA1mTQVQZ7BLMwJgQ-1s6z9Zexdud5I2.XZC5QQdHpUUR6NxlluigEBj4_7Z.MSPl4q1aOag00&amp;s=http%3A%2F%2Fdaegu.koreaisacademy.com\" onclick='smartLog(this, \"s=TO&amp;a=WDTO&amp;pg=1&amp;r=2&amp;rc=5&amp;p=3&amp;d=15209234464&amp;e1=WIDELINK&amp;dc=0WD\", event);' target=\"_blank\"><b>파이썬</b>, IT우수기관, 국비전액무료, 브랜드대상4관왕, 수강료조회.</a>,\n",
       " <a class=\"f_link_bu\" href=\"http://keyword.ad.daum.net/short/clk?q=.hWl9WYvTjp.YCGnx2s86UhKEi79DYgXrf-.s2Loc3aWOinlW9obrXylhxbFF2GUrr3THoM9Mkw_Q6PqjpH3bXCF8j6wCrhKuU-w8JvcY9x2sg15pD5VT8miihjP.7vT-aqznqYlZBNcdZPGKI.21DCaCy6IdacI3MzO8aWlBWSzHxtFHyM76f6UzekbgR38j3Y0&amp;s=http%3A%2F%2FIT-BK.kr%2F%3FDMKW%3D%25ED%258C%258C%25EC%259D%25B4%25EC%258D%25AC%26DMSKW%3D%25ED%258C%258C%25EC%259D%25B4%25EC%258D%25AC%26DMCOL%3DWIDELINK\" onclick='smartLog(this, \"s=TO&amp;a=WDTO&amp;pg=1&amp;r=3&amp;rc=5&amp;p=1&amp;d=15032516616&amp;e1=WIDELINK&amp;dc=0WD\", event);' target=\"_blank\">KG아이티뱅크 수강문의 신규등록센터</a>,\n",
       " <a class=\"f_url url_fl\" href=\"http://keyword.ad.daum.net/short/clk?q=.hWl9WYvTjp.YCGnx2s86UhKEi79DYgXrf-.s2Loc3aWOinlW9obrXylhxbFF2GUrr3THoM9Mkw_Q6PqjpH3bXCF8j6wCrhKuU-w8JvcY9x2sg15pD5VT8miihjP.7vT-aqznqYlZBNcdZPGKI.21DCaCy6IdacI3MzO8aWlBWSzHxtFHyM76f6UzekbgR38j3Y0&amp;s=http%3A%2F%2FIT-BK.kr%2F%3FDMKW%3D%25ED%258C%258C%25EC%259D%25B4%25EC%258D%25AC%26DMSKW%3D%25ED%258C%258C%25EC%259D%25B4%25EC%258D%25AC%26DMCOL%3DWIDELINK\" onclick='smartLog(this, \"s=TO&amp;a=WDTO&amp;pg=1&amp;r=3&amp;rc=5&amp;p=2&amp;d=15032516616&amp;e1=WIDELINK&amp;dc=0WD\", event);' target=\"_blank\">IT-BK.kr</a>,\n",
       " <a class=\"f_eb link_txt\" href=\"http://keyword.ad.daum.net/short/clk?q=.hWl9WYvTjp.YCGnx2s86UhKEi79DYgXrf-.s2Loc3aWOinlW9obrXylhxbFF2GUrr3THoM9Mkw_Q6PqjpH3bXCF8j6wCrhKuU-w8JvcY9x2sg15pD5VT8miihjP.7vT-aqznqYlZBNcdZPGKI.21DCaCy6IdacI3MzO8aWlBWSzHxtFHyM76f6UzekbgR38j3Y0&amp;s=http%3A%2F%2FIT-BK.kr%2F%3FDMKW%3D%25ED%258C%258C%25EC%259D%25B4%25EC%258D%25AC%26DMSKW%3D%25ED%258C%258C%25EC%259D%25B4%25EC%258D%25AC%26DMCOL%3DWIDELINK\" onclick='smartLog(this, \"s=TO&amp;a=WDTO&amp;pg=1&amp;r=3&amp;rc=5&amp;p=3&amp;d=15032516616&amp;e1=WIDELINK&amp;dc=0WD\", event);' target=\"_blank\">IT전문학원 위치, 교육과정, 교육기간, 국비지원 및 수강료할인 혜택안내.</a>,\n",
       " <a class=\"f_link_bu\" href=\"http://keyword.ad.daum.net/short/clk?q=.hbGL6Ci1xTkSJlzYWo_ctk_nyh8ySCCfGTly5CHGqA.1QDZgBctyBEyYljAfk.M1li5K.yTMvAig6C6yjbChX7MPbEKoibQFJVvDoV.Wb7L5M8.6vEvmxgoZ_O71hRfEY7qwkcBIbdd7w00&amp;s=http%3A%2F%2Fhackerbank.co.kr\" onclick='smartLog(this, \"s=TO&amp;a=WDTO&amp;pg=1&amp;r=4&amp;rc=5&amp;p=1&amp;d=8732682368&amp;e1=WIDELINK&amp;dc=0WD\", event);' target=\"_blank\">KG아이티뱅크학원 임대섭</a>,\n",
       " <a class=\"f_url url_fl\" href=\"http://keyword.ad.daum.net/short/clk?q=.hbGL6Ci1xTkSJlzYWo_ctk_nyh8ySCCfGTly5CHGqA.1QDZgBctyBEyYljAfk.M1li5K.yTMvAig6C6yjbChX7MPbEKoibQFJVvDoV.Wb7L5M8.6vEvmxgoZ_O71hRfEY7qwkcBIbdd7w00&amp;s=http%3A%2F%2Fhackerbank.co.kr\" onclick='smartLog(this, \"s=TO&amp;a=WDTO&amp;pg=1&amp;r=4&amp;rc=5&amp;p=2&amp;d=8732682368&amp;e1=WIDELINK&amp;dc=0WD\", event);' target=\"_blank\">hackerbank.co.kr</a>,\n",
       " <a class=\"f_eb link_txt\" href=\"http://keyword.ad.daum.net/short/clk?q=.hbGL6Ci1xTkSJlzYWo_ctk_nyh8ySCCfGTly5CHGqA.1QDZgBctyBEyYljAfk.M1li5K.yTMvAig6C6yjbChX7MPbEKoibQFJVvDoV.Wb7L5M8.6vEvmxgoZ_O71hRfEY7qwkcBIbdd7w00&amp;s=http%3A%2F%2Fhackerbank.co.kr\" onclick='smartLog(this, \"s=TO&amp;a=WDTO&amp;pg=1&amp;r=4&amp;rc=5&amp;p=3&amp;d=8732682368&amp;e1=WIDELINK&amp;dc=0WD\", event);' target=\"_blank\"><b>파이썬</b>, 프로그래밍, 네트웤, 서버, 보안, DB 전문교육학원, 무료상담안내</a>,\n",
       " <a class=\"f_link_bu\" href=\"http://keyword.ad.daum.net/short/clk?q=.heDTKGNltZrX_YIrnjsVyMsO4PntPzsJsZ-f_Ja5I_E_uJt1d484MyJ8UFKsQudOrVmuuvhm_BbXRccE..C9_832zgHvlbMIwzoeoIgiJBczThyW3ME_RkDWNEKOE2sAgFnDDOak_ESLM7sevxJyt1eSyeTsHB-2oPrWt.EO7iMlY61pCiYxL2xT2jOFb7_PRlwa6dG1O_kAQ00&amp;s=http%3A%2F%2Fwww.11st.co.kr%2Fconnect%2FGateway.tmall%3Fmethod%3DXsite%26tid%3D1001342751%26uid%3D143655282%26code%3D1034\" onclick='smartLog(this, \"s=TO&amp;a=WDTO&amp;pg=1&amp;r=5&amp;rc=5&amp;p=1&amp;d=13598107656&amp;e1=WIDELINK&amp;dc=0WD\", event);' target=\"_blank\">11번가 특가</a>,\n",
       " <a class=\"f_url url_fl\" href=\"http://keyword.ad.daum.net/short/clk?q=.heDTKGNltZrX_YIrnjsVyMsO4PntPzsJsZ-f_Ja5I_E_uJt1d484MyJ8UFKsQudOrVmuuvhm_BbXRccE..C9_832zgHvlbMIwzoeoIgiJBczThyW3ME_RkDWNEKOE2sAgFnDDOak_ESLM7sevxJyt1eSyeTsHB-2oPrWt.EO7iMlY61pCiYxL2xT2jOFb7_PRlwa6dG1O_kAQ00&amp;s=http%3A%2F%2Fwww.11st.co.kr%2Fconnect%2FGateway.tmall%3Fmethod%3DXsite%26tid%3D1001342751%26uid%3D143655282%26code%3D1034\" onclick='smartLog(this, \"s=TO&amp;a=WDTO&amp;pg=1&amp;r=5&amp;rc=5&amp;p=2&amp;d=13598107656&amp;e1=WIDELINK&amp;dc=0WD\", event);' target=\"_blank\">www.11st.co.kr</a>,\n",
       " <a class=\"f_eb link_txt\" href=\"http://keyword.ad.daum.net/short/clk?q=.heDTKGNltZrX_YIrnjsVyMsO4PntPzsJsZ-f_Ja5I_E_uJt1d484MyJ8UFKsQudOrVmuuvhm_BbXRccE..C9_832zgHvlbMIwzoeoIgiJBczThyW3ME_RkDWNEKOE2sAgFnDDOak_ESLM7sevxJyt1eSyeTsHB-2oPrWt.EO7iMlY61pCiYxL2xT2jOFb7_PRlwa6dG1O_kAQ00&amp;s=http%3A%2F%2Fwww.11st.co.kr%2Fconnect%2FGateway.tmall%3Fmethod%3DXsite%26tid%3D1001342751%26uid%3D143655282%26code%3D1034\" onclick='smartLog(this, \"s=TO&amp;a=WDTO&amp;pg=1&amp;r=5&amp;rc=5&amp;p=3&amp;d=13598107656&amp;e1=WIDELINK&amp;dc=0WD\", event);' target=\"_blank\">Everytime 십일절! 전 고객 할인, SK pay point 최대 17%적립! <b>파이썬</b></a>,\n",
       " <a class=\"thumb\" href=\"http://100.daum.net/encyclopedia/view/24XXXXX90313\" onclick=\"smartLog(this, 'pg=1&amp;s=TO&amp;a=DITO&amp;dc=1DV&amp;e2=&amp;ext=encytype=NORM&amp;r=1&amp;rc=3&amp;d=2FqPtQMzh1h-i-EOiY&amp;at=link&amp;p=2', event, { });\" target=\"_blank\"> <img alt=\"백과사전 검색결과 썸네일\" class=\"thumb_img\" height=\"80\" src=\"https://search3.kakaocdn.net/argon/216x216_85_pr/5uvXsUedVLd\" width=\"80\"/> </a>,\n",
       " <a class=\"f_link_bu f_l\" href=\"http://100.daum.net/encyclopedia/view/24XXXXX90313\" onclick=\"smartLog(this, 'pg=1&amp;s=TO&amp;a=DITO&amp;dc=1DV&amp;e2=&amp;ext=encytype=NORM&amp;r=1&amp;rc=3&amp;d=2FqPtQMzh1h-i-EOiY&amp;at=link&amp;p=1', event, { });\" target=\"_blank\"> <b>파이썬</b></a>,\n",
       " <a class=\"f_link_bu f_l\" href=\"https://ko.wikipedia.org/wiki/%ED%8C%8C%EC%9D%B4%EC%8D%AC\" onclick=\"smartLog(this, 'pg=1&amp;s=TO&amp;a=DITO&amp;dc=1DV&amp;e2=&amp;ext=encytype=NORM&amp;r=2&amp;rc=3&amp;d=2FEflUQ3VT5nNnBjv_&amp;at=link&amp;p=1', event, { });\" target=\"_blank\"> <b>파이썬</b></a>,\n",
       " <a class=\"f_link_bu f_l\" href=\"https://en.wikipedia.org/wiki/Python%20%28programming%20language%29\" onclick=\"smartLog(this, 'pg=1&amp;s=TO&amp;a=DITO&amp;dc=1DV&amp;e2=&amp;ext=encytype=NORM&amp;r=3&amp;rc=3&amp;d=2F0rZiT6CxIl_hw_-9&amp;at=link&amp;p=1', event, { });\" target=\"_blank\"> <b>Python</b></a>,\n",
       " <a class=\"expender more\" href=\"http://100.daum.net/search/entry?q=%ED%8C%8C%EC%9D%B4%EC%8D%AC\" onclick=\"smartLog(this, 'pg=1&amp;s=TO&amp;a=DITO&amp;dc=1DV&amp;e2=&amp;ext=encytype=NORM&amp;at=more&amp;e=1&amp;rc=3', event, { });\" target=\"_blank\"> <span class=\"inner\">백과사전 더보기 <span class=\"ico_rwd ico_more\"></span> </span> </a>,\n",
       " <a class=\"f_nb\" href=\"http://tip.daum.net/ask?q=%ED%8C%8C%EC%9D%B4%EC%8D%AC\" onclick='smartLog(this, \"s=TO&amp;a=KOTO&amp;dc=NKS&amp;pg=1&amp;rc=4&amp;at=link&amp;d=111&amp;e=4\", event);' target=\"_blank\">질문하기</a>,\n",
       " <a class=\"f_link_b\" href=\"http://tip.daum.net/answer/103923979?q=%ED%8C%8C%EC%9D%B4%EC%8D%AC\" onclick='smartLog(this, \"s=TO&amp;a=KOTO&amp;dc=NKS&amp;d=27ukvzZDnDmaWItoLR&amp;pg=1&amp;r=1&amp;rc=4&amp;at=link&amp;p=1\", event);' target=\"_blank\"><b>파이썬</b> 어따 써먹는건가요? 제가 자바 html css javascript php db jsp... </a>,\n",
       " <a class=\"thumb\" href=\"http://tip.daum.net/answer/110830019?q=%ED%8C%8C%EC%9D%B4%EC%8D%AC\" onclick='smartLog(this, \"s=TO&amp;a=KOTO&amp;dc=NKS&amp;d=27OXcdVqUs_6kTOwt0&amp;pg=1&amp;r=2&amp;rc=4&amp;at=link&amp;p=3\", event);'> <img alt=\"\" class=\"thumb_img\" data-size=\"80x80\" height=\"80\" onclick=\"\" onerror=\"SF.errorImage(this);\" src=\"https://search2.kakaocdn.net/argon/130x130_85_c/1vElYq0GfWo\" width=\"80\"/> </a>,\n",
       " <a class=\"f_link_b\" href=\"http://tip.daum.net/answer/110830019?q=%ED%8C%8C%EC%9D%B4%EC%8D%AC\" onclick='smartLog(this, \"s=TO&amp;a=KOTO&amp;dc=NKS&amp;d=27OXcdVqUs_6kTOwt0&amp;pg=1&amp;r=2&amp;rc=4&amp;at=link&amp;p=1\", event);' target=\"_blank\"><b>파이썬</b> 요일 계산 프로그램 <b>파이썬</b>으로 위와 같은 사진같이 요일 계산... </a>,\n",
       " <a class=\"f_link_b\" href=\"http://tip.daum.net/answer/107927406?q=%ED%8C%8C%EC%9D%B4%EC%8D%AC\" onclick='smartLog(this, \"s=TO&amp;a=KOTO&amp;dc=NKS&amp;d=274XuzbBR8YKKxPg_U&amp;pg=1&amp;r=3&amp;rc=4&amp;at=link&amp;p=1\", event);' target=\"_blank\">C언어와 <b>파이썬</b> 중에서 둘 중 뭐가 더 해킹에 적합한 언어인가요? 검색... </a>,\n",
       " <a class=\"f_link_b\" href=\"http://tip.daum.net/answer/108215962?q=%ED%8C%8C%EC%9D%B4%EC%8D%AC\" onclick='smartLog(this, \"s=TO&amp;a=KOTO&amp;dc=NKS&amp;d=27LDPwEC8SAm5aPKjw&amp;pg=1&amp;r=4&amp;rc=4&amp;at=link&amp;p=1\", event);' target=\"_blank\"><b>파이썬</b>독학할 때 인강으로 해도 괜찮나요? 안녕하세요 ~ 프로그래밍언어... </a>,\n",
       " <a class=\"thumb\" href=\"https://cp.news.search.daum.net/p/80805341\" onclick='smartLog(this, \"s=TO&amp;a=LNTO&amp;dc=NNS&amp;d=26NAuvlFlmu8Jx0Pur&amp;pg=1&amp;r=1&amp;p=13&amp;rc=4&amp;e1=166BB8bF3RRS53yTrN&amp;e3=0&amp;ext=dsid=26NAuvlFlmu8Jx0Pur\", event);' target=\"_blank\"> <img alt=\"\" class=\"thumb_img\" data-size=\"80x80\" height=\"80\" onerror=\"SF.errorImage(this)\" src=\"https://search1.daumcdn.net/thumb/P80x80/?fname=https%3A%2F%2Fsearch4.kakaocdn.net%2Fargon%2F100x100_85_r%2FAhCZEnKbHno0\" width=\"80\"/> </a>,\n",
       " <a class=\"f_link_b\" href=\"https://cp.news.search.daum.net/p/80805341\" onclick='smartLog(this, \"s=TO&amp;a=LNTO&amp;dc=NNS&amp;d=26NAuvlFlmu8Jx0Pur&amp;pg=1&amp;r=1&amp;p=14&amp;rc=4&amp;e1=166BB8bF3RRS53yTrN&amp;e3=0&amp;ext=dsid=26NAuvlFlmu8Jx0Pur\", event);' target=\"_blank\">\"누구나 <b>파이썬</b>(<b>Python</b>)으로 데이터 분석할 수 있다\"</a>,\n",
       " <a class=\"thumb\" href=\"https://cp.news.search.daum.net/p/80673211\" onclick='smartLog(this, \"s=TO&amp;a=LNTO&amp;dc=NNS&amp;d=26gskzXB2REbxRKSkj&amp;pg=1&amp;r=2&amp;p=13&amp;rc=4&amp;e1=166BB8bF3RRS53yTrN&amp;e3=0&amp;ext=dsid=26gskzXB2REbxRKSkj\", event);' target=\"_blank\"> <img alt=\"\" class=\"thumb_img\" data-size=\"80x80\" height=\"80\" onerror=\"SF.errorImage(this)\" src=\"https://search2.daumcdn.net/thumb/P80x80/?fname=https%3A%2F%2Fsearch4.kakaocdn.net%2Fargon%2F100x100_85_r%2FHEa58A4LJ0C0\" width=\"80\"/> </a>,\n",
       " <a class=\"f_link_b\" href=\"https://cp.news.search.daum.net/p/80673211\" onclick='smartLog(this, \"s=TO&amp;a=LNTO&amp;dc=NNS&amp;d=26gskzXB2REbxRKSkj&amp;pg=1&amp;r=2&amp;p=14&amp;rc=4&amp;e1=166BB8bF3RRS53yTrN&amp;e3=0&amp;ext=dsid=26gskzXB2REbxRKSkj\", event);' target=\"_blank\">반드시 알아야 할 '<b>파이썬</b> 입문' A에서 Z까지</a>,\n",
       " <a class=\"thumb\" href=\"https://cp.news.search.daum.net/p/79793966\" onclick='smartLog(this, \"s=TO&amp;a=LNTO&amp;dc=NNS&amp;d=26lHFJJJ_8KzsnMlrW&amp;pg=1&amp;r=3&amp;p=13&amp;rc=4&amp;e1=166BB8bF3RRS53yTrN&amp;e3=0&amp;ext=dsid=26lHFJJJ_8KzsnMlrW\", event);' target=\"_blank\"> <img alt=\"\" class=\"thumb_img\" data-size=\"80x80\" height=\"80\" onerror=\"SF.errorImage(this)\" src=\"https://search3.daumcdn.net/thumb/P80x80/?fname=https%3A%2F%2Fsearch4.kakaocdn.net%2Fargon%2F100x100_85_r%2FDc5ckRytTq10\" width=\"80\"/> </a>,\n",
       " <a class=\"f_link_b\" href=\"https://cp.news.search.daum.net/p/79793966\" onclick='smartLog(this, \"s=TO&amp;a=LNTO&amp;dc=NNS&amp;d=26lHFJJJ_8KzsnMlrW&amp;pg=1&amp;r=3&amp;p=14&amp;rc=4&amp;e1=166BB8bF3RRS53yTrN&amp;e3=0&amp;ext=dsid=26lHFJJJ_8KzsnMlrW\", event);' target=\"_blank\">초등수학으로 배우는 <b>파이썬</b></a>,\n",
       " <a class=\"thumb\" href=\"http://v.media.daum.net/v/20190424110209578?f=o\" onclick='smartLog(this, \"s=TO&amp;a=LNTO&amp;dc=NNS&amp;d=26-kvsvl0I-k4Sz5wI&amp;pg=1&amp;r=4&amp;p=13&amp;rc=4&amp;e1=160SX4nGZtqyxBejQl&amp;e3=0&amp;ext=dsid=26-kvsvl0I-k4Sz5wI\", event);' target=\"_blank\"> <img alt=\"\" class=\"thumb_img\" data-size=\"80x80\" height=\"80\" onerror=\"SF.errorImage(this)\" src=\"https://search1.daumcdn.net/thumb/P80x80/?fname=https%3A%2F%2Fsearch1.kakaocdn.net%2Fargon%2F100x100_85_r%2F1lhQnzAeKsR0\" width=\"80\"/> </a>,\n",
       " <a class=\"f_link_b\" href=\"http://v.media.daum.net/v/20190424110209578?f=o\" onclick='smartLog(this, \"s=TO&amp;a=LNTO&amp;dc=NNS&amp;d=26-kvsvl0I-k4Sz5wI&amp;pg=1&amp;r=4&amp;p=14&amp;rc=4&amp;e1=160SX4nGZtqyxBejQl&amp;e3=0&amp;ext=dsid=26-kvsvl0I-k4Sz5wI\", event);' target=\"_blank\">스택오버플로 월별 '<b>파이썬</b>' 질문, 자바스크립트 앞질렀다</a>,\n",
       " <a class=\"f_nb\" href=\"http://v.media.daum.net/v/20190424110209578\" onclick='smartLog(this, \"s=TO&amp;a=LNTO&amp;dc=NNS&amp;d=26-kvsvl0I-k4Sz5wI&amp;pg=1&amp;r=4&amp;p=3&amp;rc=4&amp;e1=160SX4nGZtqyxBejQl&amp;e3=0&amp;ext=dsid=26-kvsvl0I-k4Sz5wI\", event);' target=\"_blank\">다음뉴스</a>,\n",
       " <a class=\"thumb\" href=\"http://qohjjang.tistory.com/2\" onclick='smartLog(this, \"s=TO&amp;a=BOTO&amp;dc=BR1&amp;d=22cEx3T-KpTdeU0eL3&amp;pg=1&amp;r=1&amp;e1=12mSAXAAp-XGtKFo2E&amp;e2=794570&amp;rc=4&amp;ext=&amp;at=link&amp;p=3\", event);' target=\"_blank\"> <img alt=\"\" class=\"thumb_img\" data-size=\"80x80\" height=\"80\" onerror=\"SF.errorImage(this)\" src=\"https://search2.kakaocdn.net/argon/130x130_85_c/1u43E2YQyr6\" width=\"80\"/> </a>,\n",
       " <a class=\"f_link_b\" href=\"http://qohjjang.tistory.com/2\" onclick='smartLog(this, \"s=TO&amp;a=BOTO&amp;dc=BR1&amp;d=22cEx3T-KpTdeU0eL3&amp;pg=1&amp;r=1&amp;e1=12mSAXAAp-XGtKFo2E&amp;e2=794570&amp;rc=4&amp;ext=&amp;at=link&amp;p=1\", event);' target=\"_blank\"><b>Python</b> Quest 1: <b>파이썬</b> 설치, Hello World</a>,\n",
       " <a class=\"f_url\" href=\"http://qohjjang.tistory.com/2\" onclick='smartLog(this, \"s=TO&amp;a=BOTO&amp;dc=BR1&amp;d=22cEx3T-KpTdeU0eL3&amp;pg=1&amp;r=1&amp;e1=12mSAXAAp-XGtKFo2E&amp;e2=794570&amp;rc=4&amp;ext=&amp;at=link&amp;p=4\", event);' target=\"_blank\">qohjjang.<b>tistory.com</b>/2</a>,\n",
       " <a class=\"f_nb\" href=\"http://qohjjang.tistory.com/\" onclick='smartLog(this, \"s=TO&amp;a=BOTO&amp;dc=BR1&amp;d=22cEx3T-KpTdeU0eL3&amp;pg=1&amp;r=1&amp;e1=12mSAXAAp-XGtKFo2E&amp;e2=794570&amp;rc=4&amp;ext=&amp;at=link&amp;p=2\", event);' target=\"_blank\">Hughble Log</a>,\n",
       " <a class=\"thumb\" href=\"http://treenamu.tistory.com/4\" onclick='smartLog(this, \"s=TO&amp;a=BOTO&amp;dc=BR1&amp;d=227nLQ0tR-Z_3sToFm&amp;pg=1&amp;r=2&amp;e1=12w6wIRxShabFy6g4E&amp;e2=794570&amp;rc=4&amp;ext=&amp;at=link&amp;p=3\", event);' target=\"_blank\"> <img alt=\"\" class=\"thumb_img\" data-size=\"80x80\" height=\"80\" onerror=\"SF.errorImage(this)\" src=\"https://search1.kakaocdn.net/argon/130x130_85_c/GLUJSHui3XC\" width=\"80\"/> </a>,\n",
       " <a class=\"f_link_b\" href=\"http://treenamu.tistory.com/4\" onclick='smartLog(this, \"s=TO&amp;a=BOTO&amp;dc=BR1&amp;d=227nLQ0tR-Z_3sToFm&amp;pg=1&amp;r=2&amp;e1=12w6wIRxShabFy6g4E&amp;e2=794570&amp;rc=4&amp;ext=&amp;at=link&amp;p=1\", event);' target=\"_blank\"><b>파이썬</b> 아나콘다 설치</a>,\n",
       " <a class=\"f_url\" href=\"http://treenamu.tistory.com/4\" onclick='smartLog(this, \"s=TO&amp;a=BOTO&amp;dc=BR1&amp;d=227nLQ0tR-Z_3sToFm&amp;pg=1&amp;r=2&amp;e1=12w6wIRxShabFy6g4E&amp;e2=794570&amp;rc=4&amp;ext=&amp;at=link&amp;p=4\", event);' target=\"_blank\">treenamu.<b>tistory.com</b>/4</a>,\n",
       " <a class=\"f_nb\" href=\"http://treenamu.tistory.com/\" onclick='smartLog(this, \"s=TO&amp;a=BOTO&amp;dc=BR1&amp;d=227nLQ0tR-Z_3sToFm&amp;pg=1&amp;r=2&amp;e1=12w6wIRxShabFy6g4E&amp;e2=794570&amp;rc=4&amp;ext=&amp;at=link&amp;p=2\", event);' target=\"_blank\">IT잔가지</a>,\n",
       " <a class=\"f_link_b\" href=\"http://greenartacademy.tistory.com/274\" onclick='smartLog(this, \"s=TO&amp;a=BOTO&amp;dc=BR1&amp;d=22jIMYwFikNiqA5cVx&amp;pg=1&amp;r=3&amp;e1=12ZJUdhlj9NCaWJNBu&amp;e2=794570&amp;rc=4&amp;ext=&amp;at=link&amp;p=1\", event);' target=\"_blank\">쉽게배우는 코딩 <b>파이썬</b>학원::그린컴퓨터</a>,\n",
       " <a class=\"f_url\" href=\"http://greenartacademy.tistory.com/274\" onclick='smartLog(this, \"s=TO&amp;a=BOTO&amp;dc=BR1&amp;d=22jIMYwFikNiqA5cVx&amp;pg=1&amp;r=3&amp;e1=12ZJUdhlj9NCaWJNBu&amp;e2=794570&amp;rc=4&amp;ext=&amp;at=link&amp;p=4\", event);' target=\"_blank\">greenartacademy.<b>tistory.com</b>/274</a>,\n",
       " <a class=\"f_nb\" href=\"http://greenartacademy.tistory.com/\" onclick='smartLog(this, \"s=TO&amp;a=BOTO&amp;dc=BR1&amp;d=22jIMYwFikNiqA5cVx&amp;pg=1&amp;r=3&amp;e1=12ZJUdhlj9NCaWJNBu&amp;e2=794570&amp;rc=4&amp;ext=&amp;at=link&amp;p=2\", event);' target=\"_blank\">Green Art</a>,\n",
       " <a class=\"thumb\" href=\"http://blog.naver.com/PostView.nhn?blogId=susfs152&amp;logNo=221561306547\" onclick='smartLog(this, \"s=TO&amp;a=BOTO&amp;dc=BR1&amp;d=22C4tL2WJ19AmaZ4m7&amp;pg=1&amp;r=4&amp;e1=12jTcuEuTYsr6Yx_OF&amp;e2=728111&amp;rc=4&amp;ext=&amp;at=link&amp;p=3\", event);' target=\"_blank\"> <img alt=\"\" class=\"thumb_img\" data-size=\"80x80\" height=\"80\" onerror=\"SF.errorImage(this)\" src=\"https://search4.kakaocdn.net/argon/130x130_85_c/EzlzZZETLcN\" width=\"80\"/> </a>,\n",
       " <a class=\"f_link_b\" href=\"http://blog.naver.com/PostView.nhn?blogId=susfs152&amp;logNo=221561306547\" onclick='smartLog(this, \"s=TO&amp;a=BOTO&amp;dc=BR1&amp;d=22C4tL2WJ19AmaZ4m7&amp;pg=1&amp;r=4&amp;e1=12jTcuEuTYsr6Yx_OF&amp;e2=728111&amp;rc=4&amp;ext=&amp;at=link&amp;p=1\", event);' target=\"_blank\"><b>파이썬</b> 설치 입문 인강</a>,\n",
       " <a class=\"f_url\" href=\"http://blog.naver.com/PostView.nhn?blogId=susfs152&amp;logNo=221561306547\" onclick='smartLog(this, \"s=TO&amp;a=BOTO&amp;dc=BR1&amp;d=22C4tL2WJ19AmaZ4m7&amp;pg=1&amp;r=4&amp;e1=12jTcuEuTYsr6Yx_OF&amp;e2=728111&amp;rc=4&amp;ext=&amp;at=link&amp;p=4\", event);' target=\"_blank\"><b>blog.naver.com</b>/susfs152/221561306547</a>,\n",
       " <a class=\"f_nb\" href=\"http://blog.naver.com/susfs152\" onclick='smartLog(this, \"s=TO&amp;a=BOTO&amp;dc=BR1&amp;d=22C4tL2WJ19AmaZ4m7&amp;pg=1&amp;r=4&amp;e1=12jTcuEuTYsr6Yx_OF&amp;e2=728111&amp;rc=4&amp;ext=&amp;at=link&amp;p=2\", event);' target=\"_blank\">it 대마왕</a>,\n",
       " <a class=\"thumb\" href=\"https://brunch.co.kr/@dimension-value/68\" onclick=\"smartLog(this, 'dc=BRC&amp;s=TO&amp;p=2&amp;r=1&amp;d=22J6hgDu7TGpNYo9R-&amp;at=link', event);\" target=\"_blank\"> <img alt=\"\" class=\"thumb_img\" height=\"116\" onerror=\"jQuery(this).parent().parent().hide();\" onload=\"jQuery(this).css('background-image','');\" src=\"https://search1.daumcdn.net/thumb/C116x116.fjpg/?fname=http%3A%2F%2Ft1.daumcdn.net%2Fbrunch%2Fservice%2Fuser%2F3aVq%2Fimage%2FgD9zTWkF9VIlJovLok0d9Qwfe78.png\" style=\"background-image:url('https://search1.daumcdn.net/thumb/R116x116.q85/?fname=http%3A%2F%2Fsearch1.daumcdn.net%2Fsearch%2Fstatics%2Fcommon%2Fpi%2Fbrc_loading_170914.png')\" width=\"116\"/> </a>,\n",
       " <a class=\"link_brunch\" href=\"https://brunch.co.kr/@dimension-value/68\" onclick=\"smartLog(this, 'dc=BRC&amp;s=TO&amp;p=1&amp;r=1&amp;d=22J6hgDu7TGpNYo9R-&amp;at=link', event);\" target=\"_blank\">데이터로 보는 나의 구독자 - <b>파이썬</b>(<b>Python</b>)을 활용한 데이터 수집 및 시각화 프로젝트 후기</a>,\n",
       " <a class=\"link_item\" href=\"https://brunch.co.kr/@dimension-value\" onclick=\"smartLog(this, 'dc=BRC&amp;s=TO&amp;p=3&amp;r=1&amp;d=22J6hgDu7TGpNYo9R-&amp;at=link', event);\" target=\"_blank\">강원양</a>,\n",
       " <a class=\"thumb\" href=\"https://brunch.co.kr/@kenshin1/8\" onclick=\"smartLog(this, 'dc=BRC&amp;s=TO&amp;p=2&amp;r=2&amp;d=22yA0YKtj_swipGPPm&amp;at=link', event);\" target=\"_blank\"> <img alt=\"\" class=\"thumb_img\" height=\"116\" onerror=\"jQuery(this).parent().parent().hide();\" onload=\"jQuery(this).css('background-image','');\" src=\"https://search2.daumcdn.net/thumb/C116x116.fjpg/?fname=http%3A%2F%2Ft1.daumcdn.net%2Fbrunch%2Fservice%2Fuser%2Fu4I%2Fimage%2F9j5D85ylxwApA1TqRg7jrsmdDfo.jpg\" style=\"background-image:url('https://search1.daumcdn.net/thumb/R116x116.q85/?fname=http%3A%2F%2Fsearch1.daumcdn.net%2Fsearch%2Fstatics%2Fcommon%2Fpi%2Fbrc_loading_170914.png')\" width=\"116\"/> </a>,\n",
       " <a class=\"link_brunch\" href=\"https://brunch.co.kr/@kenshin1/8\" onclick=\"smartLog(this, 'dc=BRC&amp;s=TO&amp;p=1&amp;r=2&amp;d=22yA0YKtj_swipGPPm&amp;at=link', event);\" target=\"_blank\">문과 출신 직장인은 어떻게 <b>파이썬</b> 공부할까? - 고교생 때 암기와 노트 테이킹 습관은 여전히 주효하다</a>,\n",
       " <a class=\"link_item\" href=\"https://brunch.co.kr/@kenshin1\" onclick=\"smartLog(this, 'dc=BRC&amp;s=TO&amp;p=3&amp;r=2&amp;d=22yA0YKtj_swipGPPm&amp;at=link', event);\" target=\"_blank\">에니시</a>,\n",
       " <a class=\"thumb\" href=\"https://brunch.co.kr/@baekdu/8\" onclick=\"smartLog(this, 'dc=BRC&amp;s=TO&amp;p=2&amp;r=3&amp;d=229O6ZW1FZxPWW0qpU&amp;at=link', event);\" target=\"_blank\"> <img alt=\"\" class=\"thumb_img\" height=\"116\" onerror=\"jQuery(this).parent().parent().hide();\" onload=\"jQuery(this).css('background-image','');\" src=\"https://search3.daumcdn.net/thumb/C116x116.fjpg/?fname=http%3A%2F%2Ft1.daumcdn.net%2Fbrunch%2Fservice%2Fuser%2F7TRI%2Fimage%2FmNLxmxFBCvaGrShnhHgK_nbI5A4.jpg\" style=\"background-image:url('https://search1.daumcdn.net/thumb/R116x116.q85/?fname=http%3A%2F%2Fsearch1.daumcdn.net%2Fsearch%2Fstatics%2Fcommon%2Fpi%2Fbrc_loading_170914.png')\" width=\"116\"/> </a>,\n",
       " <a class=\"link_brunch\" href=\"https://brunch.co.kr/@baekdu/8\" onclick=\"smartLog(this, 'dc=BRC&amp;s=TO&amp;p=1&amp;r=3&amp;d=229O6ZW1FZxPWW0qpU&amp;at=link', event);\" target=\"_blank\">#2 \"Hello <b>python</b>\" - <b>파이썬</b> 기초 문법</a>,\n",
       " <a class=\"link_item\" href=\"https://brunch.co.kr/@baekdu\" onclick=\"smartLog(this, 'dc=BRC&amp;s=TO&amp;p=3&amp;r=3&amp;d=229O6ZW1FZxPWW0qpU&amp;at=link', event);\" target=\"_blank\">BetheOne</a>,\n",
       " <a class=\"link_thumb\" href=\"https://brunch.co.kr/@timevoyage\" onclick=\"smartLog(this, 'dc=BRC&amp;s=TO&amp;p=5&amp;d=12TG0tnACwS7EatVBN&amp;r=1&amp;at=link', event);\" target=\"_blank\"> <div class=\"thumb thumb_round\"> <img alt=\"\" class=\"thumb_img\" height=\"62\" src=\"https://search1.daumcdn.net/thumb/C80x80.fjpg/?fname=http%3A%2F%2Ft1.daumcdn.net%2Fbrunch%2Fservice%2Fuser%2FRxq%2Fimage%2FhWvKb_ZcDks1W5flcgkOUhlUb78.jpeg\" width=\"62\"/> </div> </a>,\n",
       " <a href=\"https://brunch.co.kr/@timevoyage\" onclick=\"smartLog(this, 'dc=BRC&amp;s=TO&amp;p=4&amp;d=12TG0tnACwS7EatVBN&amp;r=1&amp;at=link', event);\" target=\"_blank\">TOMO</a>,\n",
       " <a class=\"link_thumb\" href=\"https://brunch.co.kr/@insuk\" onclick=\"smartLog(this, 'dc=BRC&amp;s=TO&amp;p=5&amp;d=12Dw193PEtiaSoa-Io&amp;r=2&amp;at=link', event);\" target=\"_blank\"> <div class=\"thumb thumb_round\"> <img alt=\"\" class=\"thumb_img\" height=\"62\" src=\"https://search1.daumcdn.net/thumb/C80x80.fjpg/?fname=http%3A%2F%2Ft1.daumcdn.net%2Fbrunch%2Fservice%2Fuser%2F102g%2Fimage%2FeUuAjm5uGOq_FS11liHNzUROIJ8.png\" width=\"62\"/> </div> </a>,\n",
       " <a href=\"https://brunch.co.kr/@insuk\" onclick=\"smartLog(this, 'dc=BRC&amp;s=TO&amp;p=4&amp;d=12Dw193PEtiaSoa-Io&amp;r=2&amp;at=link', event);\" target=\"_blank\">조인석 chris</a>,\n",
       " <a class=\"link_thumb\" href=\"https://brunch.co.kr/@jk-lab\" onclick=\"smartLog(this, 'dc=BRC&amp;s=TO&amp;p=5&amp;d=12TtVVSlNT3riqmivh&amp;r=3&amp;at=link', event);\" target=\"_blank\"> <div class=\"thumb thumb_round\"> <img alt=\"\" class=\"thumb_img\" height=\"62\" src=\"https://search1.daumcdn.net/thumb/C80x80.fjpg/?fname=http%3A%2F%2Ft1.daumcdn.net%2Fbrunch%2Fservice%2Fuser%2F301t%2Fimage%2FmkqTVt5xslfxdWEFCNv70Bt0cmw.jpg\" width=\"62\"/> </div> </a>,\n",
       " <a href=\"https://brunch.co.kr/@jk-lab\" onclick=\"smartLog(this, 'dc=BRC&amp;s=TO&amp;p=4&amp;d=12TtVVSlNT3riqmivh&amp;r=3&amp;at=link', event);\" target=\"_blank\">JK의 계단 밑 연구실</a>,\n",
       " <a class=\"link_thumb\" href=\"https://brunch.co.kr/@edte1020\" onclick=\"smartLog(this, 'dc=BRC&amp;s=TO&amp;p=5&amp;d=12AcEFNqGan3q3PVcs&amp;r=4&amp;at=link', event);\" target=\"_blank\"> <div class=\"thumb thumb_round\"> <img alt=\"\" class=\"thumb_img\" height=\"62\" src=\"https://search1.daumcdn.net/thumb/C80x80.fjpg/?fname=http%3A%2F%2Ft1.daumcdn.net%2Fbrunch%2Fservice%2Fuser%2F2Rsf%2Fimage%2F86wymqnz3TzCa1nNoiM-J0sT-cc.jpeg\" width=\"62\"/> </div> </a>,\n",
       " <a href=\"https://brunch.co.kr/@edte1020\" onclick=\"smartLog(this, 'dc=BRC&amp;s=TO&amp;p=4&amp;d=12AcEFNqGan3q3PVcs&amp;r=4&amp;at=link', event);\" target=\"_blank\">낯선</a>,\n",
       " <a class=\"link_thumb\" href=\"https://brunch.co.kr/@baekdu\" onclick=\"smartLog(this, 'dc=BRC&amp;s=TO&amp;p=5&amp;d=12D8qN17nd1RUKhvqe&amp;r=5&amp;at=link', event);\" target=\"_blank\"> <div class=\"thumb thumb_round\"> <img alt=\"\" class=\"thumb_img\" height=\"62\" src=\"https://search1.daumcdn.net/thumb/C80x80.fjpg/?fname=http%3A%2F%2Ft1.daumcdn.net%2Fbrunch%2Fservice%2Fguest%2Fimage%2F2AbK9VNqtejbmm7o98OrhdBt5i0.jpg\" width=\"62\"/> </div> </a>,\n",
       " <a href=\"https://brunch.co.kr/@baekdu\" onclick=\"smartLog(this, 'dc=BRC&amp;s=TO&amp;p=4&amp;d=12D8qN17nd1RUKhvqe&amp;r=5&amp;at=link', event);\" target=\"_blank\">BetheOne</a>,\n",
       " <a class=\"link_thumb\" href=\"https://brunch.co.kr/@hackpupu\" onclick=\"smartLog(this, 'dc=BRC&amp;s=TO&amp;p=5&amp;d=12QJbQLNFlF_dPZayf&amp;r=6&amp;at=link', event);\" target=\"_blank\"> <div class=\"thumb thumb_round\"> <img alt=\"\" class=\"thumb_img\" height=\"62\" src=\"https://search1.daumcdn.net/thumb/C80x80.fjpg/?fname=http%3A%2F%2Ft1.daumcdn.net%2Fbrunch%2Fservice%2Fguest%2Fimage%2F1SyhJ3YQgSeER_gtntzWFzfV0tY\" width=\"62\"/> </div> </a>,\n",
       " <a href=\"https://brunch.co.kr/@hackpupu\" onclick=\"smartLog(this, 'dc=BRC&amp;s=TO&amp;p=4&amp;d=12QJbQLNFlF_dPZayf&amp;r=6&amp;at=link', event);\" target=\"_blank\">hackpupu</a>,\n",
       " <a class=\"english f_link_b\" href=\"http://dic.daum.net/word/view.do?wordid=ekw000134523&amp;supid=eku001203087\" onclick=\"smartLog(this, 'dc=DIC&amp;p=1&amp;r=1&amp;rc=1&amp;pg=1&amp;at=link&amp;d=eku001203087', event);\" target=\"_blank\">python</a>,\n",
       " <a class=\"more_comm\" href=\"http://dic.daum.net/word/view.do?wordid=ekw000134523&amp;supid=eku001203087\" onclick=\"smartLog(this, 'dc=DIC&amp;p=4&amp;r=1&amp;rc=1&amp;pg=1&amp;at=link&amp;d=eku001203087', event);\" target=\"_blank\">더보기</a>,\n",
       " <a class=\"expender more\" href=\"http://dic.daum.net/search.do?q=%ED%8C%8C%EC%9D%B4%EC%8D%AC&amp;dic=all&amp;search_first=Y\" onclick=\"smartLog(this, 'dc=DIC&amp;e=3&amp;pg=1&amp;at=more', event);\" target=\"_blank\"> <span class=\"inner\">어학사전 더보기<span class=\"ico_rwd ico_more\"></span></span> </a>,\n",
       " <a class=\"btn_comp_m btn_emph2\" href=\"http://local.biz.daum.net/\" onclick='smartLog(this, \"a=LOTO&amp;dc=GG2&amp;pg=1&amp;s=TO&amp;rc=4&amp;e=89&amp;d=2137565213\", event);' target=\"_blank\"><span class=\"inner\">광고신청</span></a>,\n",
       " <a class=\"btn_comp_m btn_emph2\" href=\"https://register.search.daum.net/index.daum\" onclick='smartLog(this, \"a=LOTO&amp;dc=GG2&amp;pg=1&amp;s=TO&amp;rc=4&amp;e=84&amp;d=2137565213\", event);' target=\"_blank\"><span class=\"inner\">신규등록</span></a>,\n",
       " <a class=\"btn_tool btn_whole\" href=\"http://map.kakao.com/?map_type=DEFAULT&amp;map_hybrid=false&amp;q=%ED%8C%8C%EC%9D%B4%EC%8D%AC&amp;from=total\" onclick='smartLog(this, \"a=LOTO&amp;dc=GG2&amp;pg=1&amp;s=TO&amp;rc=4&amp;e=27&amp;at=link&amp;d=2137565213\", event);' target=\"_blank\" title=\"큰지도 보기\"><span class=\"ico_local\">전체보기</span></a>,\n",
       " <a class=\"fn_tit\" href=\"http://place.map.kakao.com/2137565213\" onclick='smartLog(this, \"dc=GG2&amp;pg=1&amp;s=TO&amp;rc=4&amp;d=2137565213&amp;r=1&amp;p=1\", event);' target=\"_blank\"> <b>파이썬</b>학원 </a>,\n",
       " <a class=\"link_home\" href=\"http://main.edu-it.kr\" onclick='smartLog(this, \"dc=GG2&amp;pg=1&amp;s=TO&amp;rc=4&amp;d=2137565213&amp;r=1&amp;p=5&amp;at=link\", event);' target=\"_blank\"><span class=\"ico_local ico_home\">홈페이지</span></a>,\n",
       " <a class=\"btn_place\" href=\"http://map.kakao.com/?q=%ED%8C%8C%EC%9D%B4%EC%8D%AC&amp;srcid=2137565213&amp;confirmid=2137565213&amp;rv=on&amp;from=total\" onclick='smartLog(this, \"dc=GG2&amp;pg=1&amp;s=TO&amp;rc=4&amp;d=2137565213&amp;r=1&amp;p=16&amp;at=link\", event);' target=\"_blank\"> <span class=\"ico_local ico_roadview\"></span> 로드뷰 </a>,\n",
       " <a class=\"btn_place\" href=\"http://map.kakao.com/?target=car&amp;eX=498347&amp;eY=1130954&amp;eName=%ED%8C%8C%EC%9D%B4%EC%8D%AC%ED%95%99%EC%9B%90&amp;from=total&amp;ids=,P2137565213\" onclick='smartLog(this, \"dc=GG2&amp;pg=1&amp;s=TO&amp;rc=4&amp;d=2137565213&amp;r=1&amp;p=54&amp;at=link\", event);' target=\"_blank\"> <span class=\"ico_local ico_way\"></span> 길찾기 </a>,\n",
       " <a class=\"fn_tit\" href=\"http://place.map.kakao.com/140074052\" onclick='smartLog(this, \"dc=GG2&amp;pg=1&amp;s=TO&amp;rc=4&amp;d=140074052&amp;r=2&amp;p=1\", event);' target=\"_blank\"> 대구<b>파이썬</b>학원 </a>,\n",
       " <a class=\"btn_place\" href=\"http://map.kakao.com/?q=%ED%8C%8C%EC%9D%B4%EC%8D%AC&amp;srcid=140074052&amp;confirmid=140074052&amp;rv=on&amp;from=total\" onclick='smartLog(this, \"dc=GG2&amp;pg=1&amp;s=TO&amp;rc=4&amp;d=140074052&amp;r=2&amp;p=16&amp;at=link\", event);' target=\"_blank\"> <span class=\"ico_local ico_roadview\"></span> 로드뷰 </a>,\n",
       " <a class=\"btn_place\" href=\"http://map.kakao.com/?target=car&amp;eX=849785&amp;eY=657432&amp;eName=%EB%8C%80%EA%B5%AC%ED%8C%8C%EC%9D%B4%EC%8D%AC%ED%95%99%EC%9B%90&amp;from=total&amp;ids=,P140074052\" onclick='smartLog(this, \"dc=GG2&amp;pg=1&amp;s=TO&amp;rc=4&amp;d=140074052&amp;r=2&amp;p=54&amp;at=link\", event);' target=\"_blank\"> <span class=\"ico_local ico_way\"></span> 길찾기 </a>,\n",
       " <a class=\"fn_tit\" href=\"http://place.map.kakao.com/518168733\" onclick='smartLog(this, \"dc=GG2&amp;pg=1&amp;s=TO&amp;rc=4&amp;d=518168733&amp;r=3&amp;p=1\", event);' target=\"_blank\"> KG아이티뱅크 강남점 </a>,\n",
       " <a class=\"link_home\" href=\"http://gangnam.kgitbank.com/\" onclick='smartLog(this, \"dc=GG2&amp;pg=1&amp;s=TO&amp;rc=4&amp;d=518168733&amp;r=3&amp;p=5&amp;at=link\", event);' target=\"_blank\"><span class=\"ico_local ico_home\">홈페이지</span></a>,\n",
       " <a class=\"btn_place\" href=\"http://map.kakao.com/?q=%ED%8C%8C%EC%9D%B4%EC%8D%AC&amp;srcid=518168733&amp;confirmid=518168733&amp;rv=on&amp;from=total\" onclick='smartLog(this, \"dc=GG2&amp;pg=1&amp;s=TO&amp;rc=4&amp;d=518168733&amp;r=3&amp;p=16&amp;at=link\", event);' target=\"_blank\"> <span class=\"ico_local ico_roadview\"></span> 로드뷰 </a>,\n",
       " <a class=\"btn_place\" href=\"http://map.kakao.com/?target=car&amp;eX=506638&amp;eY=1110343&amp;eName=KG%EC%95%84%EC%9D%B4%ED%8B%B0%EB%B1%85%ED%81%AC+%EA%B0%95%EB%82%A8%EC%A0%90&amp;from=total&amp;ids=,P518168733\" onclick='smartLog(this, \"dc=GG2&amp;pg=1&amp;s=TO&amp;rc=4&amp;d=518168733&amp;r=3&amp;p=54&amp;at=link\", event);' target=\"_blank\"> <span class=\"ico_local ico_way\"></span> 길찾기 </a>,\n",
       " <a class=\"fn_tit\" href=\"http://place.map.kakao.com/1886675095\" onclick='smartLog(this, \"dc=GG2&amp;pg=1&amp;s=TO&amp;rc=4&amp;d=1886675095&amp;r=4&amp;p=1\", event);' target=\"_blank\"> 다빈치코딩학원 </a>,\n",
       " <a class=\"link_home\" href=\"http://davinci.or.kr\" onclick='smartLog(this, \"dc=GG2&amp;pg=1&amp;s=TO&amp;rc=4&amp;d=1886675095&amp;r=4&amp;p=5&amp;at=link\", event);' target=\"_blank\"><span class=\"ico_local ico_home\">홈페이지</span></a>,\n",
       " <a class=\"btn_place\" href=\"http://map.kakao.com/?q=%ED%8C%8C%EC%9D%B4%EC%8D%AC&amp;srcid=1886675095&amp;confirmid=1886675095&amp;rv=on&amp;from=total\" onclick='smartLog(this, \"dc=GG2&amp;pg=1&amp;s=TO&amp;rc=4&amp;d=1886675095&amp;r=4&amp;p=16&amp;at=link\", event);' target=\"_blank\"> <span class=\"ico_local ico_roadview\"></span> 로드뷰 </a>,\n",
       " <a class=\"btn_place\" href=\"http://map.kakao.com/?target=car&amp;eX=509221&amp;eY=1045877&amp;eName=%EB%8B%A4%EB%B9%88%EC%B9%98%EC%BD%94%EB%94%A9%ED%95%99%EC%9B%90&amp;from=total&amp;ids=,P1886675095\" onclick='smartLog(this, \"dc=GG2&amp;pg=1&amp;s=TO&amp;rc=4&amp;d=1886675095&amp;r=4&amp;p=54&amp;at=link\", event);' target=\"_blank\"> <span class=\"ico_local ico_way\"></span> 길찾기 </a>,\n",
       " <a class=\"expender more\" href=\"http://map.kakao.com/?from=total&amp;nil_suggest=btn&amp;q=%ED%8C%8C%EC%9D%B4%EC%8D%AC&amp;tab=place\" onclick='smartLog(this, \"dc=GG2&amp;pg=1&amp;s=TO&amp;rc=4&amp;e=7&amp;at=more\", event);' target=\"_blank\"> <span class=\"inner\">장소 더보기<span class=\"ico_rwd ico_more\"></span></span> </a>,\n",
       " <a class=\"f_nb\" href=\"https://register.search.daum.net/\" onclick='smartLog(this, \"dc=IVR&amp;pg=1&amp;d=111&amp;e=3&amp;at=link\", event);' target=\"_blank\">신청하기</a>,\n",
       " <a class=\"f_link_b\" href=\"http://python.blog96.com/\" onclick='smartLog(this, \"pg=1&amp;r=1&amp;rc=4&amp;dc=IVR&amp;d=10CkmxYOD6lW8BJ3lp&amp;p=1&amp;at=link\", event, { \"cpid\" : { \"value\" : \"site\" } });' target=\"_blank\"><b>파이썬</b> 프로그래밍 언어 기초 강좌</a>,\n",
       " <a class=\"f_url\" href=\"http://python.blog96.com/\" onclick='smartLog(this, \"pg=1&amp;r=1&amp;rc=4&amp;dc=IVR&amp;d=10CkmxYOD6lW8BJ3lp&amp;p=2&amp;at=link\", event, { \"cpid\" : { \"value\" : \"site\" } });' target=\"_blank\">python.blog96.com/</a>,\n",
       " <a class=\"f_link_b\" href=\"http://cyan91.tistory.com/\" onclick='smartLog(this, \"pg=1&amp;r=2&amp;rc=4&amp;dc=IVR&amp;d=107LVxymOiAz0DS6Km&amp;p=1&amp;at=link\", event, { \"cpid\" : { \"value\" : \"site^blogname\" } });' target=\"_blank\"><b>파이썬</b> 으로 할 수 있는 일</a>,\n",
       " <a class=\"f_url\" href=\"http://cyan91.tistory.com/\" onclick='smartLog(this, \"pg=1&amp;r=2&amp;rc=4&amp;dc=IVR&amp;d=107LVxymOiAz0DS6Km&amp;p=2&amp;at=link\", event, { \"cpid\" : { \"value\" : \"site^blogname\" } });' target=\"_blank\">cyan91.tistory.com/</a>,\n",
       " <a class=\"f_link_b\" href=\"http://flyway3000km.tistory.com/\" onclick='smartLog(this, \"pg=1&amp;r=3&amp;rc=4&amp;dc=IVR&amp;d=10pBWhUw0SnpXLMpk_&amp;p=1&amp;at=link\", event, { \"cpid\" : { \"value\" : \"site^blogname\" } });' target=\"_blank\">레버리지</a>,\n",
       " <a class=\"f_url\" href=\"http://flyway3000km.tistory.com/\" onclick='smartLog(this, \"pg=1&amp;r=3&amp;rc=4&amp;dc=IVR&amp;d=10pBWhUw0SnpXLMpk_&amp;p=2&amp;at=link\", event, { \"cpid\" : { \"value\" : \"site^blogname\" } });' target=\"_blank\">flyway3000km.tistory.com/</a>,\n",
       " <a class=\"f_link_b\" href=\"http://python.flowdas.com/\" onclick='smartLog(this, \"pg=1&amp;r=4&amp;rc=4&amp;dc=IVR&amp;d=10jNphbWa8V9Ccibcd&amp;p=1&amp;at=link\", event, { \"cpid\" : { \"value\" : \"site\" } });' target=\"_blank\"><b>파이썬</b> 도큐멘테이션</a>,\n",
       " <a class=\"f_url\" href=\"http://python.flowdas.com/\" onclick='smartLog(this, \"pg=1&amp;r=4&amp;rc=4&amp;dc=IVR&amp;d=10jNphbWa8V9Ccibcd&amp;p=2&amp;at=link\", event, { \"cpid\" : { \"value\" : \"site\" } });' target=\"_blank\">python.flowdas.com/</a>,\n",
       " <a class=\"f_link\" href=\"http://shopping.daum.net/html/noticeOfLaw.html\" onclick=\"smartLog(this, 's=TO&amp;dc=SNP&amp;pg=1&amp;rc=8&amp;at=link&amp;e=16&amp;d=dummy&amp;sc=SNP', event)\">법적고지 및 안내</a>,\n",
       " <a class=\"info_item info_only\" href=\"http://shopping.daum.net/siso/p/product/C5085239948/&amp;q:%ED%8C%8C%EC%9D%B4%EC%8D%AC&amp;cateid:103111100104107&amp;srchhow:Cexpo\" onclick=\"smartLog(this, 's=TO&amp;dc=SNP&amp;pg=1&amp;rc=8&amp;r=1&amp;d=C5085239948&amp;e2=%7B%22c%22%3A%22103111100104107%22%2C%22m%22%3A%22%22%2C%22b%22%3A2877%7D&amp;at=link&amp;p=1&amp;sc=SNP', event)\" target=\"_blank\"> <div class=\"wrap_thumb\"><span class=\"thumb\"><img alt=\"\" class=\"thumb_img\" data-size=\"130x130\" height=\"130\" onerror=\"SF.errorImage(this)\" src=\"https://search2.daumcdn.net/thumb/R130x130/?fname=http%3A//shop1.daumcdn.net/shophow/p/C5085239948.jpg%3Fut%3D20190702195420\" width=\"130\"/></span> </div> <div class=\"wrap_cont\"> <div class=\"wrap_tit\"> <strong class=\"tit_item\">길벗 모두의 <b>파이썬</b> 알고리즘 누구나 쉽게 배우는 프로그래밍 기초 [9791160506631]</strong> </div> <div class=\"item_price\"> <em class=\"txt_price\">23,400</em>원 최저 </div> <dl class=\"dl_comm\"> <dt class=\"tit_base\">가격비교</dt> <dd class=\"cont\">17</dd> </dl><dl class=\"dl_comm\"> <dt class=\"tit_base\">상품평</dt> <dd class=\"cont\">0</dd> </dl> </div> </a>,\n",
       " <a class=\"info_item info_only\" href=\"http://shopping.daum.net/siso/p/product/E5085235878/&amp;q:%ED%8C%8C%EC%9D%B4%EC%8D%AC&amp;cateid:103111100104107&amp;srchhow:Cexpo\" onclick=\"smartLog(this, 's=TO&amp;dc=SNP&amp;pg=1&amp;rc=8&amp;r=2&amp;d=E5085235878&amp;e2=%7B%22c%22%3A%22103111100104107%22%2C%22m%22%3A%22%22%2C%22b%22%3A2877%7D&amp;at=link&amp;p=1&amp;sc=SNP', event)\" target=\"_blank\"> <div class=\"wrap_thumb\"><span class=\"thumb\"><img alt=\"\" class=\"thumb_img\" data-size=\"130x130\" height=\"130\" onerror=\"SF.errorImage(this)\" src=\"https://search1.daumcdn.net/thumb/R130x130/?fname=http%3A//shop1.daumcdn.net/shophow/p/E5085235878.jpg%3Fut%3D20190702195332\" width=\"130\"/></span> </div> <div class=\"wrap_cont\"> <div class=\"wrap_tit\"> <strong class=\"tit_item\">길벗 모두의 알고리즘 <b>파이썬</b> 컴퓨팅 사고를 위한 기초 [9791160501728]</strong> </div> <div class=\"item_price\"> <em class=\"txt_price\">14,400</em>원 최저 </div> <dl class=\"dl_comm\"> <dt class=\"tit_base\">가격비교</dt> <dd class=\"cont\">16</dd> </dl><dl class=\"dl_comm\"> <dt class=\"tit_base\">상품평</dt> <dd class=\"cont\">0</dd> </dl> </div> </a>,\n",
       " <a class=\"info_item\" href=\"http://shopping.daum.net/search/%ED%8C%8C%EC%9D%B4%EC%8D%AC/&amp;docid:R6919794869&amp;srchhow:Cexpo\" onclick=\"smartLog(this, 's=TO&amp;dc=SNP&amp;pg=1&amp;rc=8&amp;r=3&amp;d=R6919794869&amp;e2=%7B%22c%22%3A%22103111100104107%22%2C%22m%22%3A%22%22%2C%22b%22%3A0%7D&amp;at=link&amp;p=1&amp;sc=SNP', event)\" target=\"_blank\"> <div class=\"wrap_thumb\"><span class=\"thumb\"><img alt=\"\" class=\"thumb_img\" data-size=\"130x130\" height=\"130\" onerror=\"SF.errorImage(this)\" src=\"https://search2.daumcdn.net/thumb/R130x130/?fname=http%3A//shop2.daumcdn.net/shophow/p/R6919794869.jpg%3Fut%3D20190617183839\" width=\"130\"/></span> </div> <div class=\"wrap_cont\"> <div class=\"wrap_tit\"> <strong class=\"tit_item\"><b>파이썬</b> 머신러닝 판다스 데이터 분석</strong> </div> <div class=\"item_price\"> <em class=\"txt_price\">22,500</em>원 </div> <dl class=\"dl_comm\"><dt class=\"screen_out\">판매몰</dt><dd class=\"cont\">별밤서재</dd> </dl><dl class=\"dl_comm\"> <dt class=\"tit_base\">상품평</dt> <dd class=\"cont\">0</dd> </dl> </div> </a>,\n",
       " <a class=\"txt_item\" href=\"http://shopping.daum.net/search/%ED%8C%8C%EC%9D%B4%EC%8D%AC/&amp;cateid:103111100104107&amp;srchhow:Cexpo\" onclick=\"smartLog(this, 's=TO&amp;dc=SNP&amp;pg=1&amp;rc=8&amp;r=3&amp;d=R6919794869&amp;e2=%7B%22c%22%3A%22103111100104107%22%2C%22m%22%3A%22%22%2C%22b%22%3A0%7D&amp;at=link&amp;p=2&amp;sc=SNP', event)\" target=\"_blank\"> 컴퓨터/IT </a>,\n",
       " <a class=\"link_item\" href=\"http://shopping.daum.net/search/%ED%8C%8C%EC%9D%B4%EC%8D%AC/&amp;docid:R6919794869&amp;srchhow:Cexpo\" onclick=\"smartLog(this, 's=TO&amp;dc=SNP&amp;pg=1&amp;rc=8&amp;r=3&amp;d=R6919794869&amp;e2=%7B%22c%22%3A%22103111100104107%22%2C%22m%22%3A%22%22%2C%22b%22%3A0%7D&amp;at=link&amp;p=3&amp;sc=SNP', event)\" target=\"_blank\"> <span class=\"txt_info\"><span class=\"ico_shop ico_delivery\">배송비</span> 무료</span> </a>,\n",
       " <a class=\"info_item info_only\" href=\"http://shopping.daum.net/siso/p/product/C5085235792/&amp;q:%ED%8C%8C%EC%9D%B4%EC%8D%AC&amp;cateid:103111100104107&amp;srchhow:Cexpo\" onclick=\"smartLog(this, 's=TO&amp;dc=SNP&amp;pg=1&amp;rc=8&amp;r=4&amp;d=C5085235792&amp;e2=%7B%22c%22%3A%22103111100104107%22%2C%22m%22%3A%22%22%2C%22b%22%3A0%7D&amp;at=link&amp;p=1&amp;sc=SNP', event)\" target=\"_blank\"> <div class=\"wrap_thumb\"><span class=\"thumb\"><img alt=\"\" class=\"thumb_img\" data-size=\"130x130\" height=\"130\" onerror=\"SF.errorImage(this)\" src=\"https://search2.daumcdn.net/thumb/R130x130/?fname=http%3A//shop2.daumcdn.net/shophow/p/C5085235792.jpg%3Fut%3D20190702195213\" width=\"130\"/></span> </div> <div class=\"wrap_cont\"> <div class=\"wrap_tit\"> <strong class=\"tit_item\"><b>파이썬</b> 라이브러리로 배우는 딥러닝 입문과 응용 [9791188621354]</strong> </div> <div class=\"item_price\"> <em class=\"txt_price\">25,200</em>원 최저 </div> <dl class=\"dl_comm\"> <dt class=\"tit_base\">가격비교</dt> <dd class=\"cont\">14</dd> </dl><dl class=\"dl_comm\"> <dt class=\"tit_base\">상품평</dt> <dd class=\"cont\">0</dd> </dl> </div> </a>,\n",
       " <a class=\"info_item\" href=\"http://shopping.daum.net/search/%ED%8C%8C%EC%9D%B4%EC%8D%AC/&amp;docid:J6990774960&amp;srchhow:Cexpo\" onclick=\"smartLog(this, 's=TO&amp;dc=SNP&amp;pg=1&amp;rc=8&amp;r=5&amp;d=J6990774960&amp;e2=%7B%22c%22%3A%22103111100104107%22%2C%22m%22%3A%22%22%2C%22b%22%3A0%7D&amp;at=link&amp;p=1&amp;sc=SNP', event)\" target=\"_blank\"> <div class=\"wrap_thumb\"><span class=\"thumb\"><img alt=\"\" class=\"thumb_img\" data-size=\"130x130\" height=\"130\" onerror=\"SF.errorImage(this)\" src=\"https://search2.daumcdn.net/thumb/R130x130/?fname=http%3A//shop1.daumcdn.net/shophow/p/J6990774960.jpg%3Fut%3D20190701183232\" width=\"130\"/></span> </div> <div class=\"wrap_cont\"> <div class=\"wrap_tit\"> <strong class=\"tit_item\"><b>파이썬</b> 자료구조와 알고리즘</strong> </div> <div class=\"item_price\"> <em class=\"txt_price\">19,800</em>원 </div> <dl class=\"dl_comm\"><dt class=\"screen_out\">판매몰</dt><dd class=\"cont\">별밤서재</dd> </dl><dl class=\"dl_comm\"> <dt class=\"tit_base\">상품평</dt> <dd class=\"cont\">0</dd> </dl> </div> </a>,\n",
       " <a class=\"txt_item\" href=\"http://shopping.daum.net/search/%ED%8C%8C%EC%9D%B4%EC%8D%AC/&amp;cateid:103111100104107&amp;srchhow:Cexpo\" onclick=\"smartLog(this, 's=TO&amp;dc=SNP&amp;pg=1&amp;rc=8&amp;r=5&amp;d=J6990774960&amp;e2=%7B%22c%22%3A%22103111100104107%22%2C%22m%22%3A%22%22%2C%22b%22%3A0%7D&amp;at=link&amp;p=2&amp;sc=SNP', event)\" target=\"_blank\"> 컴퓨터/IT </a>,\n",
       " <a class=\"link_item\" href=\"http://shopping.daum.net/search/%ED%8C%8C%EC%9D%B4%EC%8D%AC/&amp;docid:J6990774960&amp;srchhow:Cexpo\" onclick=\"smartLog(this, 's=TO&amp;dc=SNP&amp;pg=1&amp;rc=8&amp;r=5&amp;d=J6990774960&amp;e2=%7B%22c%22%3A%22103111100104107%22%2C%22m%22%3A%22%22%2C%22b%22%3A0%7D&amp;at=link&amp;p=3&amp;sc=SNP', event)\" target=\"_blank\"> <span class=\"txt_info\"><span class=\"ico_shop ico_delivery\">배송비</span> 무료</span> </a>,\n",
       " <a class=\"info_item\" href=\"http://shopping.daum.net/search/%ED%8C%8C%EC%9D%B4%EC%8D%AC/&amp;docid:V6990775014&amp;srchhow:Cexpo\" onclick=\"smartLog(this, 's=TO&amp;dc=SNP&amp;pg=1&amp;rc=8&amp;r=6&amp;d=V6990775014&amp;e2=%7B%22c%22%3A%22103111100104107%22%2C%22m%22%3A%22%22%2C%22b%22%3A0%7D&amp;at=link&amp;p=1&amp;sc=SNP', event)\" target=\"_blank\"> <div class=\"wrap_thumb\"><span class=\"thumb\"><img alt=\"\" class=\"thumb_img\" data-size=\"130x130\" height=\"130\" onerror=\"SF.errorImage(this)\" src=\"https://search2.daumcdn.net/thumb/R130x130/?fname=http%3A//shop2.daumcdn.net/shophow/p/V6990775014.jpg%3Fut%3D20190701183257\" width=\"130\"/></span> </div> <div class=\"wrap_cont\"> <div class=\"wrap_tit\"> <strong class=\"tit_item\">단계별 구성으로 단단하게 배우는 코딩 강화 <b>파이썬</b></strong> </div> <div class=\"item_price\"> <em class=\"txt_price\">17,820</em>원 </div> <dl class=\"dl_comm\"><dt class=\"screen_out\">판매몰</dt><dd class=\"cont\">별밤서재</dd> </dl><dl class=\"dl_comm\"> <dt class=\"tit_base\">상품평</dt> <dd class=\"cont\">0</dd> </dl> </div> </a>,\n",
       " <a class=\"txt_item\" href=\"http://shopping.daum.net/search/%ED%8C%8C%EC%9D%B4%EC%8D%AC/&amp;cateid:103111100104107&amp;srchhow:Cexpo\" onclick=\"smartLog(this, 's=TO&amp;dc=SNP&amp;pg=1&amp;rc=8&amp;r=6&amp;d=V6990775014&amp;e2=%7B%22c%22%3A%22103111100104107%22%2C%22m%22%3A%22%22%2C%22b%22%3A0%7D&amp;at=link&amp;p=2&amp;sc=SNP', event)\" target=\"_blank\"> 컴퓨터/IT </a>,\n",
       " <a class=\"link_item\" href=\"http://shopping.daum.net/search/%ED%8C%8C%EC%9D%B4%EC%8D%AC/&amp;docid:V6990775014&amp;srchhow:Cexpo\" onclick=\"smartLog(this, 's=TO&amp;dc=SNP&amp;pg=1&amp;rc=8&amp;r=6&amp;d=V6990775014&amp;e2=%7B%22c%22%3A%22103111100104107%22%2C%22m%22%3A%22%22%2C%22b%22%3A0%7D&amp;at=link&amp;p=3&amp;sc=SNP', event)\" target=\"_blank\"> <span class=\"txt_info\"><span class=\"ico_shop ico_delivery\">배송비</span> 무료</span> </a>,\n",
       " <a class=\"info_item info_only\" href=\"http://shopping.daum.net/siso/p/product/A5085218921/&amp;q:%ED%8C%8C%EC%9D%B4%EC%8D%AC&amp;cateid:103111100104107&amp;srchhow:Cexpo\" onclick=\"smartLog(this, 's=TO&amp;dc=SNP&amp;pg=1&amp;rc=8&amp;r=7&amp;d=A5085218921&amp;e2=%7B%22c%22%3A%22103111100104107%22%2C%22m%22%3A%22%22%2C%22b%22%3A0%7D&amp;at=link&amp;p=1&amp;sc=SNP', event)\" target=\"_blank\"> <div class=\"wrap_thumb\"><span class=\"thumb\"><img alt=\"\" class=\"thumb_img\" data-size=\"130x130\" height=\"130\" onerror=\"SF.errorImage(this)\" src=\"https://search1.daumcdn.net/thumb/R130x130/?fname=http%3A//shop1.daumcdn.net/shophow/p/A5085218921.jpg%3Fut%3D20190702195059\" width=\"130\"/></span> </div> <div class=\"wrap_cont\"> <div class=\"wrap_tit\"> <strong class=\"tit_item\">윤성우의 열혈 <b>파이썬</b> 기초편 [9788996094081]</strong> </div> <div class=\"item_price\"> <em class=\"txt_price\">14,400</em>원 최저 </div> <dl class=\"dl_comm\"> <dt class=\"tit_base\">가격비교</dt> <dd class=\"cont\">10</dd> </dl><dl class=\"dl_comm\"> <dt class=\"tit_base\">상품평</dt> <dd class=\"cont\">0</dd> </dl> </div> </a>,\n",
       " <a class=\"info_item info_only\" href=\"http://shopping.daum.net/siso/p/product/A5085236223/&amp;q:%ED%8C%8C%EC%9D%B4%EC%8D%AC&amp;cateid:103111100104107&amp;srchhow:Cexpo\" onclick=\"smartLog(this, 's=TO&amp;dc=SNP&amp;pg=1&amp;rc=8&amp;r=8&amp;d=A5085236223&amp;e2=%7B%22c%22%3A%22103111100104107%22%2C%22m%22%3A%22%22%2C%22b%22%3A0%7D&amp;at=link&amp;p=1&amp;sc=SNP', event)\" target=\"_blank\"> <div class=\"wrap_thumb\"><span class=\"thumb\"><img alt=\"\" class=\"thumb_img\" data-size=\"130x130\" height=\"130\" onerror=\"SF.errorImage(this)\" src=\"https://search1.daumcdn.net/thumb/R130x130/?fname=http%3A//shop1.daumcdn.net/shophow/p/A5085236223.jpg%3Fut%3D20190702194543\" width=\"130\"/></span> </div> <div class=\"wrap_cont\"> <div class=\"wrap_tit\"> <strong class=\"tit_item\">그림으로 정리한 알고리즘과 자료구조 자바 <b>파이썬</b> [9788956747880]</strong> </div> <div class=\"item_price\"> <em class=\"txt_price\">13,500</em>원 최저 </div> <dl class=\"dl_comm\"> <dt class=\"tit_base\">가격비교</dt> <dd class=\"cont\">16</dd> </dl><dl class=\"dl_comm\"> <dt class=\"tit_base\">상품평</dt> <dd class=\"cont\">0</dd> </dl> </div> </a>,\n",
       " <a class=\"expender more\" href=\"http://shopping.daum.net/search/%ED%8C%8C%EC%9D%B4%EC%8D%AC/&amp;docid:&amp;srchhow:Cexpo\" onclick=\"smartLog(this, 's=TO&amp;dc=SNP&amp;pg=1&amp;rc=8&amp;at=more&amp;e=1', event)\" target=\"_blank\"><span class=\"inner\">쇼핑 더보기<span class=\"ico_rwd ico_more\"></span></span></a>,\n",
       " <a class=\"f_nb\" href=\"https://keywordshop.nate.com/\" onclick='smartLog(this, \"s=TO&amp;a=SLTO&amp;pg=1&amp;d=1&amp;e=1&amp;dc=0SC&amp;at=link\", event);' target=\"_blank\">신청하기</a>,\n",
       " <a class=\"thumb\" href=\"http://www.11st.co.kr/connect/Gateway.tmall?method=Xsite&amp;tid=1000111638&amp;uid=7653182&amp;code=1039\" onclick='send_nate_special_clickLog(\"https://dkwaduc.nate.com/all.html?q=%C6%C4%C0%CC%BD%E3&amp;p=d&amp;sa=&amp;c=1&amp;w=%C6%C4%C0%CC%BD%E3&amp;afc=&amp;sn=N^N20151105-341540&amp;qsrc=DPGQ&amp;ts=1562918522\"); smartLog(this, \"s=TO&amp;a=W77&amp;pg=1&amp;r=1&amp;rc=3&amp;p=1&amp;e1=K&amp;eu=U&amp;dc=W77&amp;d=64R8F5nt4eEz_-zUCz&amp;at=link\", event);;' target=\"_blank\"><img alt=\"\" class=\"thumb_img\" height=\"50\" src=\"https://img.nate.com/kwshop/ad_img/sbox/2015/11/C0/X20151105-634240-1.gif?1402051848\" width=\"70\"/></a>,\n",
       " <a class=\"f_link_bu\" href=\"http://www.11st.co.kr/connect/Gateway.tmall?method=Xsite&amp;tid=1000111638&amp;uid=7653182&amp;code=1039\" onclick='send_nate_special_clickLog(\"https://dkwaduc.nate.com/all.html?q=%C6%C4%C0%CC%BD%E3&amp;p=d&amp;sa=&amp;c=1&amp;w=%C6%C4%C0%CC%BD%E3&amp;afc=&amp;sn=N^N20151105-341540&amp;qsrc=DPGQ&amp;ts=1562918522\"); smartLog(this, \"s=TO&amp;a=W77&amp;pg=1&amp;r=1&amp;rc=3&amp;p=2&amp;e1=K&amp;eu=U&amp;dc=W77&amp;d=64R8F5nt4eEz_-zUCz&amp;at=link\", event);;' target=\"_blank\">11번가 <b>파이썬</b></a>,\n",
       " <a class=\"f_url url_fl\" href=\"http://www.11st.co.kr/connect/Gateway.tmall?method=Xsite&amp;tid=1000111638&amp;uid=7653182&amp;code=1039\" onclick='send_nate_special_clickLog(\"https://dkwaduc.nate.com/all.html?q=%C6%C4%C0%CC%BD%E3&amp;p=d&amp;sa=&amp;c=1&amp;w=%C6%C4%C0%CC%BD%E3&amp;afc=&amp;sn=N^N20151105-341540&amp;qsrc=DPGQ&amp;ts=1562918522\"); smartLog(this, \"s=TO&amp;a=W77&amp;pg=1&amp;r=1&amp;rc=3&amp;p=3&amp;e1=K&amp;eu=U&amp;dc=W77&amp;d=64R8F5nt4eEz_-zUCz&amp;at=link\", event);;' target=\"_blank\">www.11st.co.kr</a>,\n",
       " <a class=\"bl_stit_n\" href=\"http://www.11st.co.kr/connect/Gateway.tmall?method=Xsite&amp;tid=1000111638&amp;uid=7653182&amp;code=1039\" onclick='send_nate_special_clickLog(\"https://dkwaduc.nate.com/all.html?q=%C6%C4%C0%CC%BD%E3&amp;p=d&amp;sa=&amp;c=1&amp;w=%C6%C4%C0%CC%BD%E3&amp;afc=&amp;sn=N^N20151105-341540&amp;qsrc=DPGQ&amp;ts=1562918522\"); smartLog(this, \"s=TO&amp;a=W77&amp;pg=1&amp;r=1&amp;rc=3&amp;p=5&amp;e1=K&amp;eu=U&amp;dc=W77&amp;d=64R8F5nt4eEz_-zUCz&amp;at=link\", event);;' target=\"_blank\">매일 할인특가, T멤버십 할인, 최대 무이자 22개월 혜택! <b>파이썬</b>.</a>,\n",
       " <a class=\"thumb\" href=\"http://kd.auction.co.kr/kd_redirectse.asp?semagcd=SA20001&amp;CODE=362KD99999999&amp;lp=%2F%2Fsearch.auction.co.kr%2Fsearch%2Fsearch.aspx%3Fkeyword%3D%25C6%25C4%25C0%25CC%25BD%25E3&amp;cosemkid=ov15488152552203906\" onclick='send_nate_special_clickLog(\"https://dkwaduc.nate.com/all.html?q=%C6%C4%C0%CC%BD%E3&amp;p=d&amp;sa=&amp;c=2&amp;w=%C6%C4%C0%CC%BD%E3&amp;afc=&amp;sn=N^N20170422-068322&amp;qsrc=DPGQ&amp;ts=1562918522\"); smartLog(this, \"s=TO&amp;a=W77&amp;pg=1&amp;r=2&amp;rc=3&amp;p=1&amp;e1=K&amp;eu=U&amp;dc=W77&amp;d=641yhLaGt8e6vuXIFw&amp;at=link\", event);;' target=\"_blank\"><img alt=\"\" class=\"thumb_img\" height=\"50\" src=\"https://img.nate.com/kwshop/ad_img/nice/2016/12/0B/N20161209-231627-1.gif\" width=\"70\"/></a>,\n",
       " <a class=\"f_link_bu\" href=\"http://kd.auction.co.kr/kd_redirectse.asp?semagcd=SA20001&amp;CODE=362KD99999999&amp;lp=%2F%2Fsearch.auction.co.kr%2Fsearch%2Fsearch.aspx%3Fkeyword%3D%25C6%25C4%25C0%25CC%25BD%25E3&amp;cosemkid=ov15488152552203906\" onclick='send_nate_special_clickLog(\"https://dkwaduc.nate.com/all.html?q=%C6%C4%C0%CC%BD%E3&amp;p=d&amp;sa=&amp;c=2&amp;w=%C6%C4%C0%CC%BD%E3&amp;afc=&amp;sn=N^N20170422-068322&amp;qsrc=DPGQ&amp;ts=1562918522\"); smartLog(this, \"s=TO&amp;a=W77&amp;pg=1&amp;r=2&amp;rc=3&amp;p=2&amp;e1=K&amp;eu=U&amp;dc=W77&amp;d=641yhLaGt8e6vuXIFw&amp;at=link\", event);;' target=\"_blank\">쇼핑은 역시 옥션</a>,\n",
       " <a class=\"f_url url_fl\" href=\"http://kd.auction.co.kr/kd_redirectse.asp?semagcd=SA20001&amp;CODE=362KD99999999&amp;lp=%2F%2Fsearch.auction.co.kr%2Fsearch%2Fsearch.aspx%3Fkeyword%3D%25C6%25C4%25C0%25CC%25BD%25E3&amp;cosemkid=ov15488152552203906\" onclick='send_nate_special_clickLog(\"https://dkwaduc.nate.com/all.html?q=%C6%C4%C0%CC%BD%E3&amp;p=d&amp;sa=&amp;c=2&amp;w=%C6%C4%C0%CC%BD%E3&amp;afc=&amp;sn=N^N20170422-068322&amp;qsrc=DPGQ&amp;ts=1562918522\"); smartLog(this, \"s=TO&amp;a=W77&amp;pg=1&amp;r=2&amp;rc=3&amp;p=3&amp;e1=K&amp;eu=U&amp;dc=W77&amp;d=641yhLaGt8e6vuXIFw&amp;at=link\", event);;' target=\"_blank\">www.auction.co.kr</a>,\n",
       " <a class=\"bl_stit_n\" href=\"http://kd.auction.co.kr/kd_redirectse.asp?semagcd=SA20001&amp;CODE=362KD99999999&amp;lp=%2F%2Fsearch.auction.co.kr%2Fsearch%2Fsearch.aspx%3Fkeyword%3D%25C6%25C4%25C0%25CC%25BD%25E3&amp;cosemkid=ov15488152552203906\" onclick='send_nate_special_clickLog(\"https://dkwaduc.nate.com/all.html?q=%C6%C4%C0%CC%BD%E3&amp;p=d&amp;sa=&amp;c=2&amp;w=%C6%C4%C0%CC%BD%E3&amp;afc=&amp;sn=N^N20170422-068322&amp;qsrc=DPGQ&amp;ts=1562918522\"); smartLog(this, \"s=TO&amp;a=W77&amp;pg=1&amp;r=2&amp;rc=3&amp;p=5&amp;e1=K&amp;eu=U&amp;dc=W77&amp;d=641yhLaGt8e6vuXIFw&amp;at=link\", event);;' target=\"_blank\">신상 가전제품 총집합! 가전제품 옥션회원 10% 할인+제휴카드 추가할인</a>,\n",
       " <a class=\"thumb\" href=\"http://jump.emforce.co.kr/jumper52.jsp?1=1$$$&amp;EKAMS=daum.52.600.119.1244014070018.140381&amp;trackingDays=30$$$http://affiliate.gmarket.co.kr/?com=emforce&amp;media=nate&amp;ch=code31&amp;url=http://search.gmarket.co.kr/search.aspx?keyword=%C6%C4%C0%CC%BD%E3&amp;jaehuid=200003989\" onclick='send_nate_special_clickLog(\"https://dkwaduc.nate.com/all.html?q=%C6%C4%C0%CC%BD%E3&amp;p=d&amp;sa=&amp;c=3&amp;w=%C6%C4%C0%CC%BD%E3&amp;afc=&amp;sn=N^N20160624-127391&amp;qsrc=DPGQ&amp;ts=1562918522\"); smartLog(this, \"s=TO&amp;a=W77&amp;pg=1&amp;r=3&amp;rc=3&amp;p=1&amp;e1=K&amp;eu=U&amp;dc=W77&amp;d=64Orj2n7WF56HGvmsg&amp;at=link\", event);;' target=\"_blank\"><img alt=\"\" class=\"thumb_img\" height=\"50\" src=\"https://img.nate.com/kwshop/ad_img/nice/2016/06/9A/N20160624-000154-1.gif\" width=\"70\"/></a>,\n",
       " <a class=\"f_link_bu\" href=\"http://jump.emforce.co.kr/jumper52.jsp?1=1$$$&amp;EKAMS=daum.52.600.119.1244014070018.140381&amp;trackingDays=30$$$http://affiliate.gmarket.co.kr/?com=emforce&amp;media=nate&amp;ch=code31&amp;url=http://search.gmarket.co.kr/search.aspx?keyword=%C6%C4%C0%CC%BD%E3&amp;jaehuid=200003989\" onclick='send_nate_special_clickLog(\"https://dkwaduc.nate.com/all.html?q=%C6%C4%C0%CC%BD%E3&amp;p=d&amp;sa=&amp;c=3&amp;w=%C6%C4%C0%CC%BD%E3&amp;afc=&amp;sn=N^N20160624-127391&amp;qsrc=DPGQ&amp;ts=1562918522\"); smartLog(this, \"s=TO&amp;a=W77&amp;pg=1&amp;r=3&amp;rc=3&amp;p=2&amp;e1=K&amp;eu=U&amp;dc=W77&amp;d=64Orj2n7WF56HGvmsg&amp;at=link\", event);;' target=\"_blank\">G마켓 <b>파이썬</b></a>,\n",
       " <a class=\"f_url url_fl\" href=\"http://jump.emforce.co.kr/jumper52.jsp?1=1$$$&amp;EKAMS=daum.52.600.119.1244014070018.140381&amp;trackingDays=30$$$http://affiliate.gmarket.co.kr/?com=emforce&amp;media=nate&amp;ch=code31&amp;url=http://search.gmarket.co.kr/search.aspx?keyword=%C6%C4%C0%CC%BD%E3&amp;jaehuid=200003989\" onclick='send_nate_special_clickLog(\"https://dkwaduc.nate.com/all.html?q=%C6%C4%C0%CC%BD%E3&amp;p=d&amp;sa=&amp;c=3&amp;w=%C6%C4%C0%CC%BD%E3&amp;afc=&amp;sn=N^N20160624-127391&amp;qsrc=DPGQ&amp;ts=1562918522\"); smartLog(this, \"s=TO&amp;a=W77&amp;pg=1&amp;r=3&amp;rc=3&amp;p=3&amp;e1=K&amp;eu=U&amp;dc=W77&amp;d=64Orj2n7WF56HGvmsg&amp;at=link\", event);;' target=\"_blank\">www.gmarket.co.kr</a>,\n",
       " <a class=\"bl_stit_n\" href=\"http://jump.emforce.co.kr/jumper52.jsp?1=1$$$&amp;EKAMS=daum.52.600.119.1244014070018.140381&amp;trackingDays=30$$$http://affiliate.gmarket.co.kr/?com=emforce&amp;media=nate&amp;ch=code31&amp;url=http://search.gmarket.co.kr/search.aspx?keyword=%C6%C4%C0%CC%BD%E3&amp;jaehuid=200003989\" onclick='send_nate_special_clickLog(\"https://dkwaduc.nate.com/all.html?q=%C6%C4%C0%CC%BD%E3&amp;p=d&amp;sa=&amp;c=3&amp;w=%C6%C4%C0%CC%BD%E3&amp;afc=&amp;sn=N^N20160624-127391&amp;qsrc=DPGQ&amp;ts=1562918522\"); smartLog(this, \"s=TO&amp;a=W77&amp;pg=1&amp;r=3&amp;rc=3&amp;p=5&amp;e1=K&amp;eu=U&amp;dc=W77&amp;d=64Orj2n7WF56HGvmsg&amp;at=link\", event);;' target=\"_blank\"><b>파이썬</b> 특가 SALE, 핸드백, 지갑, 인기 악세사리, 시계, 빠른배송.</a>,\n",
       " <a class=\"btn_tip\" href=\"http://tip.daum.net/ask?q=%ED%8C%8C%EC%9D%B4%EC%8D%AC\" onclick=\"smartLog(this, 'e=1&amp;dc=TIP&amp;pg=1', event);\" target=\"_blank\">\n",
       " <span class=\"inner\">T!P<span class=\"screen_out\">팁</span>에 질문하기</span>\n",
       " </a>,\n",
       " <a class=\"link_info\" href=\"http://daumsearch.tistory.com\" onclick=\"smartLog(this, 'pg=1&amp;p=10&amp;dc=CCC&amp;r=1', event);\" target=\"_blank\">검색블로그</a>,\n",
       " <a class=\"link_info\" href=\"https://register.search.daum.net/\" onclick=\"smartLog(this, 'pg=1&amp;p=9&amp;dc=CCC&amp;r=1', event);\" target=\"_blank\">사이트ㆍ지역 등록신청</a>,\n",
       " <a class=\"link_info\" href=\"http://partner.search.daum.net/partner/index.daum\" onclick=\"smartLog(this, 'pg=1&amp;p=12&amp;dc=CCC&amp;r=1', event);\" target=\"_blank\">검색제휴</a>,\n",
       " <a class=\"link_info\" href=\"https://business.kakao.com/info/keywordad\" onclick=\"smartLog(this, 'pg=1&amp;p=2&amp;dc=CCC&amp;r=1', event);\" target=\"_blank\">키워드광고</a>,\n",
       " <a class=\"link_info\" href=\"http://local.biz.daum.net/\" onclick=\"smartLog(this, 'pg=1&amp;p=3&amp;dc=CCC&amp;r=1', event);\" target=\"_blank\">로컬광고</a>,\n",
       " <a class=\"link_info\" href=\"https://with.kakao.com/crossmedia\" onclick=\"smartLog(this, 'pg=1&amp;p=8&amp;dc=CCC&amp;r=1', event);\" target=\"_blank\">크로스미디어</a>,\n",
       " <a class=\"link_info\" href=\"http://cs.daum.net/faq/15.html\" onclick=\"smartLog(this, 'pg=1&amp;p=6&amp;dc=CCC&amp;r=1', event);\" target=\"_blank\">고객센터</a>,\n",
       " <a class=\"link_daum\" href=\"http://kakaocorp.com\" onclick=\"smartLog(this, 'pg=1&amp;p=11&amp;dc=CCC&amp;r=1', event);\" target=\"_blank\">Kakao Corp.</a>]"
      ]
     },
     "execution_count": 538,
     "metadata": {},
     "output_type": "execute_result"
    }
   ],
   "source": [
    "dom.select(\"a[href^=http]\")"
   ]
  },
  {
   "cell_type": "code",
   "execution_count": null,
   "metadata": {},
   "outputs": [],
   "source": []
  }
 ],
 "metadata": {
  "kernelspec": {
   "display_name": "Python 3",
   "language": "python",
   "name": "python3"
  },
  "language_info": {
   "codemirror_mode": {
    "name": "ipython",
    "version": 3
   },
   "file_extension": ".py",
   "mimetype": "text/x-python",
   "name": "python",
   "nbconvert_exporter": "python",
   "pygments_lexer": "ipython3",
   "version": "3.7.3"
  }
 },
 "nbformat": 4,
 "nbformat_minor": 2
}
