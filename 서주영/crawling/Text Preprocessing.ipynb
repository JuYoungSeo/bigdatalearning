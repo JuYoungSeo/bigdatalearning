{
 "cells": [
  {
   "cell_type": "markdown",
   "metadata": {},
   "source": [
    "## Text Preprocessing\n",
    "텍스트는 전처리가 매우 중요하다. -> 특징을 찾는 거 <br>\n",
    "NLP 기반, 딥러닝은 언제가 실패함..  <br>\n",
    "+ NLP : 텍스트 처리를 하면 검색 온라인 광고, 자동번역, 감정분석,음성인식, 맞춤법 검사\n",
    "    + 담화 분석이 제일 안됨. 대화가 매끄럽지가 않음\n",
    "    + 의미 분석을 대체해서 word 임베딩이 나온것.\n",
    "    + 형태소 분석을 통해 토큰 분리, 어간추출, 품사 부착, 색인, 벡터화\n",
    "    + 포털스 알고리즘"
   ]
  },
  {
   "cell_type": "markdown",
   "metadata": {},
   "source": [
    "lemmatization : 어근 추출 <br>\n",
    "Stemming : 어간 추출, 토큰 분리"
   ]
  },
  {
   "cell_type": "markdown",
   "metadata": {},
   "source": [
    "형태소 분석 -> 구문 분석 /문자의 생김->(응용) 의미 분석 ->(응용) 담론분석 : 문단과 문단 분석\n",
    "<br>\n",
    "backofword model ? 워낙vector <br>\n",
    "온톨로지 <br>\n",
    "워드 임베딩"
   ]
  },
  {
   "cell_type": "markdown",
   "metadata": {},
   "source": [
    "1. 문장 : 완결된 내용을 나타내는 최소 단위\n",
    "2. 문장은 구와 절로 이루어져있음.\n",
    "3. 문단 : 문장이 여러개\n",
    "4. 담화 : 문단이 여러개\n",
    "5. 어절 : 문장을 구성하는 단위 (띄어쓰기로 구분)\n",
    "6. 단어 : 어절을 구성하는 요소 = 방바닥을 -> 방바닥 + 을\n",
    "7. 형태소 : 의미를 가진 문법의 최소 단위 = 방(실질, 자립) + 바닥(실질, 자립) + 을(형식, 의존)\n",
    "8. 단일어, 복합어 (합성어(어근,어근), 파생어(접두사,어근))"
   ]
  },
  {
   "cell_type": "markdown",
   "metadata": {},
   "source": [
    "### KoNLPy, NLTK (파이썬 패키지)"
   ]
  },
  {
   "cell_type": "markdown",
   "metadata": {},
   "source": [
    "#### NLTK : NLP 관련 패키지 (한국어 지원 안함)"
   ]
  },
  {
   "cell_type": "code",
   "execution_count": 2,
   "metadata": {},
   "outputs": [],
   "source": [
    "import nltk"
   ]
  },
  {
   "cell_type": "markdown",
   "metadata": {},
   "source": [
    "비정형 데이터 input -> sentence splitting -> Tokenizing -> part of speech(pos) tagging"
   ]
  },
  {
   "cell_type": "markdown",
   "metadata": {},
   "source": [
    "##### sent_tokenize : sentence splitting 해줌"
   ]
  },
  {
   "cell_type": "code",
   "execution_count": 3,
   "metadata": {},
   "outputs": [
    {
     "name": "stderr",
     "output_type": "stream",
     "text": [
      "[nltk_data] Downloading package punkt to\n",
      "[nltk_data]     C:\\Users\\seo\\AppData\\Roaming\\nltk_data...\n",
      "[nltk_data]   Unzipping tokenizers\\punkt.zip.\n"
     ]
    },
    {
     "data": {
      "text/plain": [
       "True"
      ]
     },
     "execution_count": 3,
     "metadata": {},
     "output_type": "execute_result"
    }
   ],
   "source": [
    "from nltk.tokenize import sent_tokenize\n",
    "\n",
    "nltk.download('punkt')"
   ]
  },
  {
   "cell_type": "code",
   "execution_count": 111,
   "metadata": {},
   "outputs": [],
   "source": [
    "import sqlite3\n",
    "\n",
    "conn = sqlite3.connect(\"nnnn.db\")\n",
    "cur = conn.cursor()"
   ]
  },
  {
   "cell_type": "code",
   "execution_count": 113,
   "metadata": {},
   "outputs": [],
   "source": [
    "cur.execute(\"\"\"\n",
    "SELECT content FROM table2 ORDER BY id ASC \n",
    "\"\"\")\n",
    "corpus = [_[0] for _ in cur.fetchall()]"
   ]
  },
  {
   "cell_type": "code",
   "execution_count": 114,
   "metadata": {},
   "outputs": [
    {
     "data": {
      "text/plain": [
       "(1391, 310, 19)"
      ]
     },
     "execution_count": 114,
     "metadata": {},
     "output_type": "execute_result"
    }
   ],
   "source": [
    "len(corpus[0]), len(corpus[0].split()), len(corpus[0].splitlines())"
   ]
  },
  {
   "cell_type": "code",
   "execution_count": 28,
   "metadata": {},
   "outputs": [
    {
     "data": {
      "text/plain": [
       "1"
      ]
     },
     "execution_count": 28,
     "metadata": {},
     "output_type": "execute_result"
    }
   ],
   "source": [
    "from nltk.tokenize import sent_tokenize\n",
    "len(sent_tokenize(corpus[0]))"
   ]
  },
  {
   "cell_type": "code",
   "execution_count": 29,
   "metadata": {},
   "outputs": [
    {
     "ename": "AttributeError",
     "evalue": "'str' object has no attribute 'splitline'",
     "output_type": "error",
     "traceback": [
      "\u001b[1;31m---------------------------------------------------------------------------\u001b[0m",
      "\u001b[1;31mAttributeError\u001b[0m                            Traceback (most recent call last)",
      "\u001b[1;32m<ipython-input-29-e23a6a9399a0>\u001b[0m in \u001b[0;36m<module>\u001b[1;34m\u001b[0m\n\u001b[1;32m----> 1\u001b[1;33m \u001b[0mcorpus\u001b[0m\u001b[1;33m[\u001b[0m\u001b[1;36m0\u001b[0m\u001b[1;33m]\u001b[0m\u001b[1;33m.\u001b[0m\u001b[0msplitline\u001b[0m\u001b[1;33m(\u001b[0m\u001b[1;33m)\u001b[0m\u001b[1;33m[\u001b[0m\u001b[1;36m0\u001b[0m\u001b[1;33m]\u001b[0m\u001b[1;33m\u001b[0m\u001b[1;33m\u001b[0m\u001b[0m\n\u001b[0m",
      "\u001b[1;31mAttributeError\u001b[0m: 'str' object has no attribute 'splitline'"
     ]
    }
   ],
   "source": [
    "corpus[0].splitline()[0]"
   ]
  },
  {
   "cell_type": "code",
   "execution_count": 101,
   "metadata": {},
   "outputs": [
    {
     "ename": "IndexError",
     "evalue": "list index out of range",
     "output_type": "error",
     "traceback": [
      "\u001b[1;31m---------------------------------------------------------------------------\u001b[0m",
      "\u001b[1;31mIndexError\u001b[0m                                Traceback (most recent call last)",
      "\u001b[1;32m<ipython-input-101-69e210402ce7>\u001b[0m in \u001b[0;36m<module>\u001b[1;34m\u001b[0m\n\u001b[1;32m----> 1\u001b[1;33m \u001b[0msent_tokenize\u001b[0m\u001b[1;33m(\u001b[0m\u001b[0mcorpus\u001b[0m\u001b[1;33m[\u001b[0m\u001b[1;36m250\u001b[0m\u001b[1;33m]\u001b[0m\u001b[1;33m)\u001b[0m\u001b[1;33m\u001b[0m\u001b[1;33m\u001b[0m\u001b[0m\n\u001b[0m",
      "\u001b[1;31mIndexError\u001b[0m: list index out of range"
     ]
    }
   ],
   "source": [
    "sent_tokenize(corpus[250])"
   ]
  },
  {
   "cell_type": "code",
   "execution_count": 58,
   "metadata": {},
   "outputs": [],
   "source": [
    "text = \"\"\"정게에서 \"내용\"으로 검색해보니두 명이 눈에 띄네요.\\n\\n정치게시판으로 갈만한 '글'이 아님에도 계속 보내는데...\\n\\n이상하게 왜놈들 불리한 글들만 그쪽으로 보내는...흠.이런건 아무 징계가 없나보죠.\"\"\""
   ]
  },
  {
   "cell_type": "code",
   "execution_count": 36,
   "metadata": {},
   "outputs": [
    {
     "data": {
      "text/plain": [
       "(21, 5)"
      ]
     },
     "execution_count": 36,
     "metadata": {},
     "output_type": "execute_result"
    }
   ],
   "source": [
    "len(text.split()), len(text.splitlines())"
   ]
  },
  {
   "cell_type": "code",
   "execution_count": 37,
   "metadata": {},
   "outputs": [
    {
     "data": {
      "text/plain": [
       "['정게에서 내용으로 검색해보니두 명이 눈에 띄네요.',\n",
       " '정치게시판으로 갈만한 글이 아님에도 계속 보내는데...\\n\\n이상하게 왜놈들 불리한 글들만 그쪽으로 보내는...흠.이런건 아무 징계가 없나보죠.']"
      ]
     },
     "execution_count": 37,
     "metadata": {},
     "output_type": "execute_result"
    }
   ],
   "source": [
    "sent_tokenize(text)"
   ]
  },
  {
   "cell_type": "code",
   "execution_count": 49,
   "metadata": {},
   "outputs": [
    {
     "data": {
      "text/plain": [
       "['Life is too short?', 'Life is too short\\n                Life is too']"
      ]
     },
     "execution_count": 49,
     "metadata": {},
     "output_type": "execute_result"
    }
   ],
   "source": [
    "sent_tokenize(\"\"\"Life is too short? Life is too short\n",
    "                Life is too\n",
    "              \"\"\")"
   ]
  },
  {
   "cell_type": "code",
   "execution_count": 41,
   "metadata": {},
   "outputs": [
    {
     "data": {
      "text/plain": [
       "'!\"#$%&\\'()*+,-./:;<=>?@[\\\\]^_`{|}~'"
      ]
     },
     "execution_count": 41,
     "metadata": {},
     "output_type": "execute_result"
    }
   ],
   "source": [
    "from string import  punctuation\n",
    "punctuation # 구두점 모음.(기반)"
   ]
  },
  {
   "cell_type": "code",
   "execution_count": 52,
   "metadata": {},
   "outputs": [
    {
     "data": {
      "text/plain": [
       "['서주영?', '수업하기 싫다']"
      ]
     },
     "execution_count": 52,
     "metadata": {},
     "output_type": "execute_result"
    }
   ],
   "source": [
    "sent_tokenize(\"\"\"술\n",
    "              \"\"\")"
   ]
  },
  {
   "cell_type": "code",
   "execution_count": 61,
   "metadata": {},
   "outputs": [
    {
     "data": {
      "text/plain": [
       "['Life', 'is', 'too', 'short', ',', 'Life', 'is', 'too', 'short', '.']"
      ]
     },
     "execution_count": 61,
     "metadata": {},
     "output_type": "execute_result"
    }
   ],
   "source": [
    "from nltk.tokenize import word_tokenize # 어절 단위\n",
    "word_tokenize(\"Life is too short, Life is too short.\")"
   ]
  },
  {
   "cell_type": "code",
   "execution_count": 62,
   "metadata": {},
   "outputs": [
    {
     "data": {
      "text/plain": [
       "['정게에서',\n",
       " '``',\n",
       " '내용',\n",
       " \"''\",\n",
       " '으로',\n",
       " '검색해보니두',\n",
       " '명이',\n",
       " '눈에',\n",
       " '띄네요',\n",
       " '.',\n",
       " '정치게시판으로',\n",
       " '갈만한',\n",
       " \"'\",\n",
       " '글',\n",
       " \"'\",\n",
       " '이',\n",
       " '아님에도',\n",
       " '계속',\n",
       " '보내는데',\n",
       " '...',\n",
       " '이상하게',\n",
       " '왜놈들',\n",
       " '불리한',\n",
       " '글들만',\n",
       " '그쪽으로',\n",
       " '보내는',\n",
       " '...',\n",
       " '흠.이런건',\n",
       " '아무',\n",
       " '징계가',\n",
       " '없나보죠',\n",
       " '.']"
      ]
     },
     "execution_count": 62,
     "metadata": {},
     "output_type": "execute_result"
    }
   ],
   "source": [
    "word_tokenize(text)"
   ]
  },
  {
   "cell_type": "markdown",
   "metadata": {},
   "source": [
    "어근 : 단어에서 실질적인 의미, 중심의미를 나타내는 부분 <br>\n",
    "어간 : 용언 활용시 변하지 않는 부분 = 덧붙이다에서 덧붙이"
   ]
  },
  {
   "cell_type": "code",
   "execution_count": 64,
   "metadata": {},
   "outputs": [
    {
     "ename": "ModuleNotFoundError",
     "evalue": "No module named 'konlpy'",
     "output_type": "error",
     "traceback": [
      "\u001b[1;31m---------------------------------------------------------------------------\u001b[0m",
      "\u001b[1;31mModuleNotFoundError\u001b[0m                       Traceback (most recent call last)",
      "\u001b[1;32m<ipython-input-64-3e83a9a1d17d>\u001b[0m in \u001b[0;36m<module>\u001b[1;34m\u001b[0m\n\u001b[1;32m----> 1\u001b[1;33m \u001b[1;32mfrom\u001b[0m \u001b[0mkonlpy\u001b[0m\u001b[1;33m.\u001b[0m\u001b[0mtag\u001b[0m \u001b[1;32mimport\u001b[0m \u001b[0mKKma\u001b[0m\u001b[1;33m\u001b[0m\u001b[1;33m\u001b[0m\u001b[0m\n\u001b[0m",
      "\u001b[1;31mModuleNotFoundError\u001b[0m: No module named 'konlpy'"
     ]
    }
   ],
   "source": [
    "from konlpy.tag import KKma"
   ]
  },
  {
   "cell_type": "code",
   "execution_count": 73,
   "metadata": {},
   "outputs": [
    {
     "name": "stdout",
     "output_type": "stream",
     "text": [
      "Collecting konlpy\n",
      "  Using cached https://files.pythonhosted.org/packages/e5/3d/4e983cd98d87b50b2ab0387d73fa946f745aa8164e8888a714d5129f9765/konlpy-0.5.1-py2.py3-none-any.whl\n",
      "Collecting JPype1>=0.5.7 (from konlpy)\n",
      "  Using cached https://files.pythonhosted.org/packages/28/63/784834e8a24ec2e1ad7f703c3dc6c6fb372a77cc68a2fdff916e18a4449e/JPype1-0.7.0.tar.gz\n",
      "Building wheels for collected packages: JPype1\n",
      "  Building wheel for JPype1 (setup.py): started\n",
      "  Building wheel for JPype1 (setup.py): finished with status 'error'\n",
      "  Complete output from command C:\\Users\\seo\\AppData\\Local\\Continuum\\anaconda3\\python.exe -u -c \"import setuptools, tokenize;__file__='C:\\\\Users\\\\seo\\\\AppData\\\\Local\\\\Temp\\\\pip-install-36wvdgmd\\\\JPype1\\\\setup.py';f=getattr(tokenize, 'open', open)(__file__);code=f.read().replace('\\r\\n', '\\n');f.close();exec(compile(code, __file__, 'exec'))\" bdist_wheel -d C:\\Users\\seo\\AppData\\Local\\Temp\\pip-wheel-kkqrwyzr --python-tag cp37:\n",
      "  C:\\Users\\seo\\AppData\\Local\\Continuum\\anaconda3\\lib\\distutils\\dist.py:274: UserWarning: Unknown distribution option: 'use_scm_version'\n",
      "    warnings.warn(msg)\n",
      "  running bdist_wheel\n",
      "  running build\n",
      "  running build_py\n",
      "  creating build\n",
      "  creating build\\lib.win-amd64-3.7\n",
      "  creating build\\lib.win-amd64-3.7\\jpype\n",
      "  copying jpype\\beans.py -> build\\lib.win-amd64-3.7\\jpype\n",
      "  copying jpype\\imports.py -> build\\lib.win-amd64-3.7\\jpype\n",
      "  copying jpype\\nio.py -> build\\lib.win-amd64-3.7\\jpype\n",
      "  copying jpype\\reflect.py -> build\\lib.win-amd64-3.7\\jpype\n",
      "  copying jpype\\types.py -> build\\lib.win-amd64-3.7\\jpype\n",
      "  copying jpype\\_classpath.py -> build\\lib.win-amd64-3.7\\jpype\n",
      "  copying jpype\\_core.py -> build\\lib.win-amd64-3.7\\jpype\n",
      "  copying jpype\\_cygwin.py -> build\\lib.win-amd64-3.7\\jpype\n",
      "  copying jpype\\_darwin.py -> build\\lib.win-amd64-3.7\\jpype\n",
      "  copying jpype\\_gui.py -> build\\lib.win-amd64-3.7\\jpype\n",
      "  copying jpype\\_jarray.py -> build\\lib.win-amd64-3.7\\jpype\n",
      "  copying jpype\\_jboxed.py -> build\\lib.win-amd64-3.7\\jpype\n",
      "  copying jpype\\_jclass.py -> build\\lib.win-amd64-3.7\\jpype\n",
      "  copying jpype\\_jcollection.py -> build\\lib.win-amd64-3.7\\jpype\n",
      "  copying jpype\\_jcomparable.py -> build\\lib.win-amd64-3.7\\jpype\n",
      "  copying jpype\\_jcustomizer.py -> build\\lib.win-amd64-3.7\\jpype\n",
      "  copying jpype\\_jexception.py -> build\\lib.win-amd64-3.7\\jpype\n",
      "  copying jpype\\_jinit.py -> build\\lib.win-amd64-3.7\\jpype\n",
      "  copying jpype\\_jio.py -> build\\lib.win-amd64-3.7\\jpype\n",
      "  copying jpype\\_jobject.py -> build\\lib.win-amd64-3.7\\jpype\n",
      "  copying jpype\\_jpackage.py -> build\\lib.win-amd64-3.7\\jpype\n",
      "  copying jpype\\_jproxy.py -> build\\lib.win-amd64-3.7\\jpype\n",
      "  copying jpype\\_jstring.py -> build\\lib.win-amd64-3.7\\jpype\n",
      "  copying jpype\\_jtypes.py -> build\\lib.win-amd64-3.7\\jpype\n",
      "  copying jpype\\_jvmfinder.py -> build\\lib.win-amd64-3.7\\jpype\n",
      "  copying jpype\\_linux.py -> build\\lib.win-amd64-3.7\\jpype\n",
      "  copying jpype\\_pykeywords.py -> build\\lib.win-amd64-3.7\\jpype\n",
      "  copying jpype\\_windows.py -> build\\lib.win-amd64-3.7\\jpype\n",
      "  copying jpype\\__init__.py -> build\\lib.win-amd64-3.7\\jpype\n",
      "  running build_ext\n",
      "  running build_java\n",
      "  Using Jar cache\n",
      "  creating build\\lib\n",
      "  creating build\\lib\\org\n",
      "  creating build\\lib\\org\\jpype\n",
      "  creating build\\lib\\org\\jpype\\classloader\n",
      "  copying native\\jars\\org\\jpype\\classloader\\JPypeClassLoader.class -> build\\lib\\org\\jpype\\classloader\n",
      "  copying native\\jars\\org.jpype.jar -> build\\lib\n",
      "  running build_thunk\n",
      "  Building thunks\n",
      "  C:\\Users\\seo\\AppData\\Local\\Temp\\pip-install-36wvdgmd\\JPype1\\setupext\\build_ext.py:85: FeatureNotice: Turned ON Numpy support for fast Java array access\n",
      "    FeatureNotice)\n",
      "    including thunk build\\lib\\org\\jpype\\classloader\\JPypeClassLoader.class\n",
      "    including thunk build\\lib\\org.jpype.jar\n",
      "  building '_jpype' extension\n",
      "  error: Microsoft Visual C++ 14.0 is required. Get it with \"Microsoft Visual C++ Build Tools\": https://visualstudio.microsoft.com/downloads/\n",
      "  \n",
      "  ----------------------------------------\n",
      "  Running setup.py clean for JPype1\n",
      "Failed to build JPype1\n",
      "Installing collected packages: JPype1, konlpy\n",
      "  Running setup.py install for JPype1: started\n",
      "    Running setup.py install for JPype1: finished with status 'error'\n",
      "    Complete output from command C:\\Users\\seo\\AppData\\Local\\Continuum\\anaconda3\\python.exe -u -c \"import setuptools, tokenize;__file__='C:\\\\Users\\\\seo\\\\AppData\\\\Local\\\\Temp\\\\pip-install-36wvdgmd\\\\JPype1\\\\setup.py';f=getattr(tokenize, 'open', open)(__file__);code=f.read().replace('\\r\\n', '\\n');f.close();exec(compile(code, __file__, 'exec'))\" install --record C:\\Users\\seo\\AppData\\Local\\Temp\\pip-record-8xx04omg\\install-record.txt --single-version-externally-managed --compile:\n",
      "    C:\\Users\\seo\\AppData\\Local\\Continuum\\anaconda3\\lib\\distutils\\dist.py:274: UserWarning: Unknown distribution option: 'use_scm_version'\n",
      "      warnings.warn(msg)\n",
      "    running install\n",
      "    running build\n",
      "    running build_py\n",
      "    creating build\\lib.win-amd64-3.7\n",
      "    creating build\\lib.win-amd64-3.7\\jpype\n",
      "    copying jpype\\beans.py -> build\\lib.win-amd64-3.7\\jpype\n",
      "    copying jpype\\imports.py -> build\\lib.win-amd64-3.7\\jpype\n",
      "    copying jpype\\nio.py -> build\\lib.win-amd64-3.7\\jpype\n",
      "    copying jpype\\reflect.py -> build\\lib.win-amd64-3.7\\jpype\n",
      "    copying jpype\\types.py -> build\\lib.win-amd64-3.7\\jpype\n",
      "    copying jpype\\_classpath.py -> build\\lib.win-amd64-3.7\\jpype\n",
      "    copying jpype\\_core.py -> build\\lib.win-amd64-3.7\\jpype\n",
      "    copying jpype\\_cygwin.py -> build\\lib.win-amd64-3.7\\jpype\n",
      "    copying jpype\\_darwin.py -> build\\lib.win-amd64-3.7\\jpype\n",
      "    copying jpype\\_gui.py -> build\\lib.win-amd64-3.7\\jpype\n",
      "    copying jpype\\_jarray.py -> build\\lib.win-amd64-3.7\\jpype\n",
      "    copying jpype\\_jboxed.py -> build\\lib.win-amd64-3.7\\jpype\n",
      "    copying jpype\\_jclass.py -> build\\lib.win-amd64-3.7\\jpype\n",
      "    copying jpype\\_jcollection.py -> build\\lib.win-amd64-3.7\\jpype\n",
      "    copying jpype\\_jcomparable.py -> build\\lib.win-amd64-3.7\\jpype\n",
      "    copying jpype\\_jcustomizer.py -> build\\lib.win-amd64-3.7\\jpype\n",
      "    copying jpype\\_jexception.py -> build\\lib.win-amd64-3.7\\jpype\n",
      "    copying jpype\\_jinit.py -> build\\lib.win-amd64-3.7\\jpype\n",
      "    copying jpype\\_jio.py -> build\\lib.win-amd64-3.7\\jpype\n",
      "    copying jpype\\_jobject.py -> build\\lib.win-amd64-3.7\\jpype\n",
      "    copying jpype\\_jpackage.py -> build\\lib.win-amd64-3.7\\jpype\n",
      "    copying jpype\\_jproxy.py -> build\\lib.win-amd64-3.7\\jpype\n",
      "    copying jpype\\_jstring.py -> build\\lib.win-amd64-3.7\\jpype\n",
      "    copying jpype\\_jtypes.py -> build\\lib.win-amd64-3.7\\jpype\n",
      "    copying jpype\\_jvmfinder.py -> build\\lib.win-amd64-3.7\\jpype\n",
      "    copying jpype\\_linux.py -> build\\lib.win-amd64-3.7\\jpype\n",
      "    copying jpype\\_pykeywords.py -> build\\lib.win-amd64-3.7\\jpype\n",
      "    copying jpype\\_windows.py -> build\\lib.win-amd64-3.7\\jpype\n",
      "    copying jpype\\__init__.py -> build\\lib.win-amd64-3.7\\jpype\n",
      "    running build_ext\n",
      "    running build_java\n",
      "    Using Jar cache\n",
      "    copying native\\jars\\org\\jpype\\classloader\\JPypeClassLoader.class -> build\\lib\\org\\jpype\\classloader\n",
      "    copying native\\jars\\org.jpype.jar -> build\\lib\n",
      "    running build_thunk\n",
      "    Building thunks\n",
      "    Skip build thunks\n",
      "    C:\\Users\\seo\\AppData\\Local\\Temp\\pip-install-36wvdgmd\\JPype1\\setupext\\build_ext.py:85: FeatureNotice: Turned ON Numpy support for fast Java array access\n",
      "      FeatureNotice)\n",
      "    building '_jpype' extension\n",
      "    error: Microsoft Visual C++ 14.0 is required. Get it with \"Microsoft Visual C++ Build Tools\": https://visualstudio.microsoft.com/downloads/\n",
      "    \n",
      "    ----------------------------------------\n"
     ]
    },
    {
     "name": "stderr",
     "output_type": "stream",
     "text": [
      "  Failed building wheel for JPype1\n",
      "Command \"C:\\Users\\seo\\AppData\\Local\\Continuum\\anaconda3\\python.exe -u -c \"import setuptools, tokenize;__file__='C:\\\\Users\\\\seo\\\\AppData\\\\Local\\\\Temp\\\\pip-install-36wvdgmd\\\\JPype1\\\\setup.py';f=getattr(tokenize, 'open', open)(__file__);code=f.read().replace('\\r\\n', '\\n');f.close();exec(compile(code, __file__, 'exec'))\" install --record C:\\Users\\seo\\AppData\\Local\\Temp\\pip-record-8xx04omg\\install-record.txt --single-version-externally-managed --compile\" failed with error code 1 in C:\\Users\\seo\\AppData\\Local\\Temp\\pip-install-36wvdgmd\\JPype1\\\n"
     ]
    }
   ],
   "source": [
    "!pip install konlpy"
   ]
  },
  {
   "cell_type": "code",
   "execution_count": 66,
   "metadata": {},
   "outputs": [
    {
     "data": {
      "text/plain": [
       "['you', 'need', 'python', '=', ')']"
      ]
     },
     "execution_count": 66,
     "metadata": {},
     "output_type": "execute_result"
    }
   ],
   "source": [
    "from nltk.tokenize import TweetTokenizer # 우리나라는 잘 안씀, 이모티콘 분석할때 씀. 트위터에서 종종 사용\n",
    "word_tokenize(\"you need python =)\")\n"
   ]
  },
  {
   "cell_type": "code",
   "execution_count": 70,
   "metadata": {},
   "outputs": [
    {
     "data": {
      "text/plain": [
       "['you', 'need', 'python', '=)']"
      ]
     },
     "execution_count": 70,
     "metadata": {},
     "output_type": "execute_result"
    }
   ],
   "source": [
    "TweetTokenizer().tokenize(\"you need python =)\")"
   ]
  },
  {
   "cell_type": "code",
   "execution_count": 76,
   "metadata": {},
   "outputs": [
    {
     "data": {
      "text/plain": [
       "['you', 'need', 'python', '12', '한', '글']"
      ]
     },
     "execution_count": 76,
     "metadata": {},
     "output_type": "execute_result"
    }
   ],
   "source": [
    "import re\n",
    "from nltk.tokenize import regexp_tokenize\n",
    "pattern = re.compile(r\"\\b(\\w+)\\b\") # 영어와 숫자로반 이루어진 어절을 의미\n",
    "regexp_tokenize(\"you need python!!!!!! 12 한#@!글\", pattern)"
   ]
  },
  {
   "cell_type": "code",
   "execution_count": 78,
   "metadata": {},
   "outputs": [
    {
     "data": {
      "text/plain": [
       "['한', '글']"
      ]
     },
     "execution_count": 78,
     "metadata": {},
     "output_type": "execute_result"
    }
   ],
   "source": [
    "import re\n",
    "from nltk.tokenize import regexp_tokenize\n",
    "pattern = re.compile(r\"\\b([가-힣]+)\\b\") # 한글로만\n",
    "regexp_tokenize(\"you need python!!!!!! 12 한#@!글\", pattern)"
   ]
  },
  {
   "cell_type": "code",
   "execution_count": 79,
   "metadata": {},
   "outputs": [
    {
     "data": {
      "text/plain": [
       "['안녕하세여', '하이하이', '한', '글']"
      ]
     },
     "execution_count": 79,
     "metadata": {},
     "output_type": "execute_result"
    }
   ],
   "source": [
    "import re\n",
    "from nltk.tokenize import regexp_tokenize\n",
    "pattern = re.compile(r\"\\b([가-힣]+)\\b\") # 한글로만\n",
    "regexp_tokenize(\"안녕하세여 하이하이 한#@!글\", pattern)"
   ]
  },
  {
   "cell_type": "code",
   "execution_count": 85,
   "metadata": {},
   "outputs": [
    {
     "data": {
      "text/plain": [
       "'ㅠㅠ ㅜㅜ ㅋㅋ 한글'"
      ]
     },
     "execution_count": 85,
     "metadata": {},
     "output_type": "execute_result"
    }
   ],
   "source": [
    "#pattern = re.compile(r\"\\b([가-힣]+)\\b\") # 한글로만\n",
    "#regexp_tokenize(\"안녕하세여 하이하이 한#@!글\", pattern)\n",
    "re.sub(r\"[^ ㄱ-ㅎㅏ-ㅣ가-힣]\", \"\",\"ㅠㅠ ㅜㅜ ㅋㅋ 한#%@글\")"
   ]
  },
  {
   "cell_type": "code",
   "execution_count": 86,
   "metadata": {},
   "outputs": [],
   "source": [
    "from nltk import Text"
   ]
  },
  {
   "cell_type": "code",
   "execution_count": 118,
   "metadata": {},
   "outputs": [],
   "source": [
    "text = Text(word_tokenize())"
   ]
  },
  {
   "cell_type": "code",
   "execution_count": null,
   "metadata": {},
   "outputs": [],
   "source": [
    "text.vocab().B(), text.vocab().N()"
   ]
  },
  {
   "cell_type": "markdown",
   "metadata": {},
   "source": [
    "vocab : 카운터 객체와 거의 비슷, N은 개수, B는 유니크한 얘뜰"
   ]
  },
  {
   "cell_type": "code",
   "execution_count": 107,
   "metadata": {},
   "outputs": [
    {
     "data": {
      "text/plain": [
       "23"
      ]
     },
     "execution_count": 107,
     "metadata": {},
     "output_type": "execute_result"
    }
   ],
   "source": [
    "len(text.vocab().most_common(30))"
   ]
  },
  {
   "cell_type": "code",
   "execution_count": 95,
   "metadata": {},
   "outputs": [
    {
     "data": {
      "image/png": "[encoded data removed]",
      "text/plain": [
       "<Figure size 432x288 with 1 Axes>"
      ]
     },
     "metadata": {
      "needs_background": "light"
     },
     "output_type": "display_data"
    }
   ],
   "source": [
    "text.plot()"
   ]
  },
  {
   "cell_type": "markdown",
   "metadata": {},
   "source": [
    "Empirical Law"
   ]
  },
  {
   "cell_type": "markdown",
   "metadata": {},
   "source": [
    "Zipf's Law : 모든 단어에 대하여 조화평균이 들어가고, 자기의 순위에 반비례의 법칙, 밸런스가 맞고 편향적임을 검사할수 있음, 누가 중요한지에 대해 알려줄 수 있음, 어떤 feature을 할 건가 정해줌"
   ]
  },
  {
   "cell_type": "code",
   "execution_count": 116,
   "metadata": {},
   "outputs": [
    {
     "name": "stdout",
     "output_type": "stream",
     "text": [
      "0.08333333333333333\n",
      "0.041666666666666664\n",
      "0.041666666666666664\n",
      "0.16666666666666666\n"
     ]
    }
   ],
   "source": [
    "ratio = 0.0\n",
    "for _ in [_[0] for _ in text.vocab().most_common(3)]:\n",
    "    ratio += text.vocab().freq(_)\n",
    "    print(text.vocab().freq(_))\n",
    "print(ratio)"
   ]
  },
  {
   "cell_type": "code",
   "execution_count": 110,
   "metadata": {},
   "outputs": [
    {
     "ename": "SyntaxError",
     "evalue": "invalid syntax (<ipython-input-110-832f312c6a13>, line 2)",
     "output_type": "error",
     "traceback": [
      "\u001b[1;36m  File \u001b[1;32m\"<ipython-input-110-832f312c6a13>\"\u001b[1;36m, line \u001b[1;32m2\u001b[0m\n\u001b[1;33m    from math\u001b[0m\n\u001b[1;37m             ^\u001b[0m\n\u001b[1;31mSyntaxError\u001b[0m\u001b[1;31m:\u001b[0m invalid syntax\n"
     ]
    }
   ],
   "source": [
    "import matplotlib.pyplot"
   ]
  },
  {
   "cell_type": "code",
   "execution_count": 128,
   "metadata": {},
   "outputs": [
    {
     "data": {
      "text/plain": [
       "<Text: 제약·바이오업계 숙원인 ‘ 첨단 재생의료 및 첨단 바이오의약품의...>"
      ]
     },
     "execution_count": 128,
     "metadata": {},
     "output_type": "execute_result"
    }
   ],
   "source": [
    "text"
   ]
  },
  {
   "cell_type": "code",
   "execution_count": 142,
   "metadata": {},
   "outputs": [
    {
     "data": {
      "image/png": "[encoded data removed]",
      "text/plain": [
       "<Figure size 432x288 with 1 Axes>"
      ]
     },
     "metadata": {
      "needs_background": "light"
     },
     "output_type": "display_data"
    },
    {
     "data": {
      "image/png": "[encoded data removed]",
      "text/plain": [
       "<Figure size 432x288 with 1 Axes>"
      ]
     },
     "metadata": {
      "needs_background": "light"
     },
     "output_type": "display_data"
    }
   ],
   "source": [
    "import matplotlib.pyplot as plt\n",
    "from math import log\n",
    "token = [_[0] for _ in sorted(text.vocab().items(), key = lambda x:x[1], reverse=True)]\n",
    "freq = [_[1]/text.vocab().most_common(1)[0][1] for _ in sorted(text.vocab().items(), key = lambda x:x[1], reverse=True)]\n",
    "_freq = [log(_) for _ in freq]\n",
    "rank = [1/(_+1) for _ in range(len(token))]\n",
    "_rank = [log(_) for _ in rank]\n",
    "plt.plot([i for i in range(len(token))], freq, \"r-\")\n",
    "plt.plot([i for i in range(len(token))], rank, \"b-\")\n",
    "plt.show()\n",
    "\n",
    "plt.plot([i for i in range(len(token))], _freq, \"r-\")\n",
    "plt.plot([i for i in range(len(token))], _rank, \"b-\")\n",
    "plt.show()"
   ]
  },
  {
   "cell_type": "markdown",
   "metadata": {},
   "source": [
    "중요도 주변의 단어들이 굉장히 중요하다."
   ]
  },
  {
   "cell_type": "markdown",
   "metadata": {},
   "source": [
    "#### Heaps' Law \n",
    "- 실제로 feature로 삼아야하는 것은 몇개 안된다.(중복이 있기 때문에)"
   ]
  },
  {
   "cell_type": "code",
   "execution_count": null,
   "metadata": {},
   "outputs": [],
   "source": []
  },
  {
   "cell_type": "code",
   "execution_count": 143,
   "metadata": {},
   "outputs": [],
   "source": [
    "K = 10 # 10 - 100\n",
    "B = 0.4 # 0.4 - 0.6\n",
    "unique = list()\n",
    "total = list()\n",
    "heaps = list()\n",
    "largeText =\"\"\n",
    "for _ in corpus:\n",
    "    largeText += _\n",
    "    text = Text(largeText)\n",
    "    unique.append(text.vocab().B())\n",
    "    total.append(text.vocab().N())\n",
    "    heaps.append(K*text.vocab().N()**B)"
   ]
  },
  {
   "cell_type": "code",
   "execution_count": null,
   "metadata": {},
   "outputs": [],
   "source": []
  },
  {
   "cell_type": "code",
   "execution_count": 144,
   "metadata": {},
   "outputs": [
    {
     "data": {
      "image/png": "[encoded data removed]",
      "text/plain": [
       "<Figure size 432x288 with 1 Axes>"
      ]
     },
     "metadata": {
      "needs_background": "light"
     },
     "output_type": "display_data"
    }
   ],
   "source": [
    "plt.plot(total, unique, \"r-\")\n",
    "plt.plot(total, heaps, \"b-\")\n",
    "plt.show()"
   ]
  },
  {
   "cell_type": "markdown",
   "metadata": {},
   "source": [
    "### n-gram\n",
    "어간이라는 걸 찾기위해 좋은 모델 중 하나 <br>\n",
    "특정한 시퀀스를 가져서 하나의 문장, 구, 절을 생성할 것인데, 어케 생성하고 찾을 것인가에 대한 모델 <br>\n",
    "확률을 통해서 다음 글자가 뭘 지 확률 적으로 예측함. <br>\n",
    "corpus : 밸런스와 다양한 언어패턴이 있어야함. (편향되지 않도록 다양하게 수집해야함.) <br>\n"
   ]
  },
  {
   "cell_type": "code",
   "execution_count": 166,
   "metadata": {},
   "outputs": [
    {
     "data": {
      "text/plain": [
       "[('L', 'i'),\n",
       " ('i', 'f'),\n",
       " ('f', 'e'),\n",
       " ('e', ' '),\n",
       " (' ', 'i'),\n",
       " ('i', 's'),\n",
       " ('s', ' '),\n",
       " (' ', 't'),\n",
       " ('t', 'o'),\n",
       " ('o', 'o'),\n",
       " ('o', ' '),\n",
       " (' ', 's'),\n",
       " ('s', 'h'),\n",
       " ('h', 'o'),\n",
       " ('o', 'r'),\n",
       " ('r', 't'),\n",
       " ('t', ','),\n",
       " (',', ' '),\n",
       " (' ', 'Y'),\n",
       " ('Y', 'o'),\n",
       " ('o', 'u'),\n",
       " ('u', ' '),\n",
       " (' ', 'n'),\n",
       " ('n', 'e'),\n",
       " ('e', 'e'),\n",
       " ('e', 'd'),\n",
       " ('d', ' '),\n",
       " (' ', 'P'),\n",
       " ('P', 'y'),\n",
       " ('y', 't'),\n",
       " ('t', 'h'),\n",
       " ('h', 'o'),\n",
       " ('o', 'n')]"
      ]
     },
     "execution_count": 166,
     "metadata": {},
     "output_type": "execute_result"
    }
   ],
   "source": [
    "sentence = \"Life is too short, You need Python\"\n",
    "\n",
    "def eojeol(sentence, N=2):\n",
    "    tokens = word_tokenize(sentence)\n",
    "    ngram = list()\n",
    "    for i in range(len(tokens)-(N-1)):\n",
    "        #ngram.append(\" \".join(tokens[i:i+N]))\n",
    "        ngram.append(tuple(tokens[i:i+N]))\n",
    "    return ngram\n",
    "\n",
    "def umjeol(token, N=2):\n",
    "    tokens = list(token)\n",
    "    ngram = list()\n",
    "    for i in range(len(tokens)-(N-1)):\n",
    "        #ngram.append(\" \".join(tokens[i:i+N]))\n",
    "        ngram.append(tuple(tokens[i:i+N]))\n",
    "    return ngram\n",
    "eojeol(sentence,3)\n",
    "umjeol(sentence)"
   ]
  },
  {
   "cell_type": "code",
   "execution_count": 163,
   "metadata": {},
   "outputs": [
    {
     "name": "stdout",
     "output_type": "stream",
     "text": [
      "('17일', '“')\n",
      "('“', '자사고')\n",
      "('자사고', '유효기간')\n",
      "('유효기간', '끝나')\n",
      "('끝나', '”')\n",
      "('”', '재차')\n",
      "('재차', '비판')\n",
      "('비판', '국가교육회의가')\n",
      "('국가교육회의가', '‘')\n",
      "('‘', '일괄')\n",
      "('일괄', '폐지')\n",
      "('폐지', '’')\n",
      "('’', '공론화해야')\n",
      "('공론화해야', '제안')\n",
      "('제안', '조희연')\n",
      "('조희연', '서울시교육감이')\n",
      "('서울시교육감이', '17일')\n",
      "('17일', '교육청에서')\n",
      "('교육청에서', '기자간담회를')\n",
      "('기자간담회를', '열고')\n",
      "('열고', '‘')\n",
      "('‘', '일반고')\n",
      "('일반고', '전환')\n",
      "('전환', '자사고에')\n",
      "('자사고에', '대한')\n",
      "('대한', '동반성장')\n",
      "('동반성장', '지원')\n",
      "('지원', '방안을')\n",
      "('방안을', '포함한')\n",
      "('포함한', '일반고')\n",
      "('일반고', '종합')\n",
      "('종합', '지원')\n",
      "('지원', '계획')\n",
      "('계획', '’')\n",
      "('’', '을')\n",
      "('을', '발표하고')\n",
      "('발표하고', '있다')\n",
      "('있다', '.')\n",
      "('.', '홍윤기')\n",
      "('홍윤기', '인턴기자')\n",
      "('인턴기자', '최근')\n",
      "('최근', '서울')\n",
      "('서울', '시내')\n",
      "('시내', '8개')\n",
      "('8개', '자율형사립고')\n",
      "('자율형사립고', '(')\n",
      "('(', '자사고')\n",
      "('자사고', ')')\n",
      "(')', '에')\n",
      "('에', '대해')\n",
      "('대해', '재지정')\n",
      "('재지정', '취소를')\n",
      "('취소를', '결정한')\n",
      "('결정한', '조희연')\n",
      "('조희연', '서울시교육감이')\n",
      "('서울시교육감이', '“')\n",
      "('“', '폐쇄적인')\n",
      "('폐쇄적인', '교육과정의')\n",
      "('교육과정의', '자사고는')\n",
      "('자사고는', '유효기간이')\n",
      "('유효기간이', '끝났다')\n",
      "('끝났다', '”')\n",
      "('”', '며')\n",
      "('며', '기존의')\n",
      "('기존의', '‘')\n",
      "('‘', '자사고')\n",
      "('자사고', '폐지')\n",
      "('폐지', '’')\n",
      "('’', '입장을')\n",
      "('입장을', '거듭')\n",
      "('거듭', '강조했다')\n",
      "('강조했다', '.')\n",
      "('.', '앞서')\n",
      "('앞서', '재지정')\n",
      "('재지정', '평가를')\n",
      "('평가를', '앞두고는')\n",
      "('앞두고는', '“')\n",
      "('“', '평가에')\n",
      "('평가에', '영향을')\n",
      "('영향을', '줄')\n",
      "('줄', '수')\n",
      "('수', '있다')\n",
      "('있다', '”')\n",
      "('”', '며')\n",
      "('며', '비교적')\n",
      "('비교적', '말을')\n",
      "('말을', '아꼈던')\n",
      "('아꼈던', '것과')\n",
      "('것과', '달리')\n",
      "('달리', '“')\n",
      "('“', '(')\n",
      "('(', '자사고는')\n",
      "('자사고는', ')')\n",
      "(')', '입시기관')\n",
      "('입시기관', '역할에')\n",
      "('역할에', '매몰됐다')\n",
      "('매몰됐다', '”')\n",
      "('”', '며')\n",
      "('며', '작심한')\n",
      "('작심한', '듯')\n",
      "('듯', '강도')\n",
      "('강도', '높은')\n",
      "('높은', '비판을')\n",
      "('비판을', '쏟아내면서')\n",
      "('쏟아내면서', ',')\n",
      "(',', '내달')\n",
      "('내달', '초')\n",
      "('초', '교육부의')\n",
      "('교육부의', '최종')\n",
      "('최종', '취소')\n",
      "('취소', '여부에')\n",
      "('여부에', '또')\n",
      "('또', '한')\n",
      "('한', '번')\n",
      "('번', '관심이')\n",
      "('관심이', '모아지고')\n",
      "('모아지고', '있다')\n",
      "('있다', '.')\n",
      "('.', '조')\n",
      "('조', '교육감은')\n",
      "('교육감은', '17일')\n",
      "('17일', '서울시교육청에서')\n",
      "('서울시교육청에서', '기자간담회를')\n",
      "('기자간담회를', '열어')\n",
      "('열어', '‘')\n",
      "('‘', '일반고')\n",
      "('일반고', '전환')\n",
      "('전환', '자사고를')\n",
      "('자사고를', '포함한')\n",
      "('포함한', '일반고')\n",
      "('일반고', '종합')\n",
      "('종합', '지원')\n",
      "('지원', '계획')\n",
      "('계획', '’')\n",
      "('’', '을')\n",
      "('을', '발표하며')\n",
      "('발표하며', '이')\n",
      "('이', '같이')\n",
      "('같이', '밝혔다')\n",
      "('밝혔다', '.')\n",
      "('.', '그는')\n",
      "('그는', '“')\n",
      "('“', '시민들은')\n",
      "('시민들은', '굳이')\n",
      "('굳이', '일반고의')\n",
      "('일반고의', '세')\n",
      "('세', '배가')\n",
      "('배가', '넘는')\n",
      "('넘는', '학비를')\n",
      "('학비를', '내야')\n",
      "('내야', '하는')\n",
      "('하는', '자사고를')\n",
      "('자사고를', '유지해야')\n",
      "('유지해야', '하는지')\n",
      "('하는지', '의문을')\n",
      "('의문을', '품고')\n",
      "('품고', '있다')\n",
      "('있다', '”')\n",
      "('”', '며')\n",
      "('며', '“')\n",
      "('“', '학생들의')\n",
      "('학생들의', '진로가')\n",
      "('진로가', '다양해진')\n",
      "('다양해진', '만큼')\n",
      "('만큼', '일반고에서도')\n",
      "('일반고에서도', '다양한')\n",
      "('다양한', '과목이')\n",
      "('과목이', '개설되고')\n",
      "('개설되고', '이미')\n",
      "('이미', '학생들에게')\n",
      "('학생들에게', '선택권을')\n",
      "('선택권을', '주고')\n",
      "('주고', '있다')\n",
      "('있다', '”')\n",
      "('”', '고')\n",
      "('고', '설명했다')\n",
      "('설명했다', '.')\n",
      "('.', '그러면서')\n",
      "('그러면서', '“')\n",
      "('“', '자사고는')\n",
      "('자사고는', '전체')\n",
      "('전체', '고교를')\n",
      "('고교를', '‘')\n",
      "('‘', '우열반')\n",
      "('우열반', '’')\n",
      "('’', '으로')\n",
      "('으로', '편성한')\n",
      "('편성한', '분리교육을')\n",
      "('분리교육을', '하는')\n",
      "('하는', '것일')\n",
      "('것일', '뿐')\n",
      "('뿐', '진정한')\n",
      "('진정한', '수월성')\n",
      "('수월성', '교육기관이라고도')\n",
      "('교육기관이라고도', '볼')\n",
      "('볼', '수')\n",
      "('수', '없다')\n",
      "('없다', '”')\n",
      "('”', '고')\n",
      "('고', '비판했다')\n",
      "('비판했다', '.')\n",
      "('.', '대표적인')\n",
      "('대표적인', '‘')\n",
      "('‘', '자사고')\n",
      "('자사고', '폐지론자')\n",
      "('폐지론자', '’')\n",
      "('’', '로서')\n",
      "('로서', '일관되게')\n",
      "('일관되게', '밝혀')\n",
      "('밝혀', '온')\n",
      "('온', '입장을')\n",
      "('입장을', '이날')\n",
      "('이날', '다시')\n",
      "('다시', '한')\n",
      "('한', '번')\n",
      "('번', '강조한')\n",
      "('강조한', '것을')\n",
      "('것을', '두고')\n",
      "('두고', ',')\n",
      "(',', '이르면')\n",
      "('이르면', '이달')\n",
      "('이달', '말로')\n",
      "('말로', '예정된')\n",
      "('예정된', '교육부')\n",
      "('교육부', '동의를')\n",
      "('동의를', '보다')\n",
      "('보다', '수월하게')\n",
      "('수월하게', '이끌어내려는')\n",
      "('이끌어내려는', '전략')\n",
      "('전략', '아니겠냐는')\n",
      "('아니겠냐는', '시각도')\n",
      "('시각도', '나온다')\n",
      "('나온다', '.')\n",
      "('.', '현재')\n",
      "('현재', '찬반이')\n",
      "('찬반이', '분분한')\n",
      "('분분한', '‘')\n",
      "('‘', '자사고')\n",
      "('자사고', '폐지')\n",
      "('폐지', '’')\n",
      "('’', '가')\n",
      "('가', '결국')\n",
      "('결국', '여론의')\n",
      "('여론의', '지지를')\n",
      "('지지를', '얻을')\n",
      "('얻을', '것이란')\n",
      "('것이란', '확신도')\n",
      "('확신도', '내비쳤다')\n",
      "('내비쳤다', '.')\n",
      "('.', '조')\n",
      "('조', '교육감은')\n",
      "('교육감은', '자사고')\n",
      "('자사고', '설립근거인')\n",
      "('설립근거인', '초중등교육법')\n",
      "('초중등교육법', '시행령')\n",
      "('시행령', '(')\n",
      "('(', '제91조3')\n",
      "('제91조3', ')')\n",
      "(')', '을')\n",
      "('을', '없애')\n",
      "('없애', '자사고를')\n",
      "('자사고를', '일반고로')\n",
      "('일반고로', '일괄')\n",
      "('일괄', '전환해야')\n",
      "('전환해야', '한다는')\n",
      "('한다는', '기존')\n",
      "('기존', '입장을')\n",
      "('입장을', '재확인하면서')\n",
      "('재확인하면서', '“')\n",
      "('“', '교육부가')\n",
      "('교육부가', '법령')\n",
      "('법령', '개정의')\n",
      "('개정의', '의지가')\n",
      "('의지가', '없다면')\n",
      "('없다면', '차선책으로')\n",
      "('차선책으로', '(')\n",
      "('(', '대통령')\n",
      "('대통령', '직속')\n",
      "('직속', '자문기구인')\n",
      "('자문기구인', ')')\n",
      "(')', '국가교육회의가')\n",
      "('국가교육회의가', '자사고ㆍ외고의')\n",
      "('자사고ㆍ외고의', '제도적')\n",
      "('제도적', '폐지에')\n",
      "('폐지에', '대한')\n",
      "('대한', '국민적')\n",
      "('국민적', '공론화를')\n",
      "('공론화를', '진행했으면')\n",
      "('진행했으면', '한다')\n",
      "('한다', '”')\n",
      "('”', '고')\n",
      "('고', '제안했다')\n",
      "('제안했다', '.')\n",
      "('.', '그러면서')\n",
      "('그러면서', '“')\n",
      "('“', '(')\n",
      "('(', '자사고')\n",
      "('자사고', '폐지에')\n",
      "('폐지에', '대해')\n",
      "('대해', ')')\n",
      "(')', '국민적')\n",
      "('국민적', '합의에')\n",
      "('합의에', '이를')\n",
      "('이를', '수')\n",
      "('수', '있다는')\n",
      "('있다는', '자신감이')\n",
      "('자신감이', '있다')\n",
      "('있다', '”')\n",
      "('”', '고')\n",
      "('고', '말했다')\n",
      "('말했다', '.')\n",
      "('.', '이날')\n",
      "('이날', '조')\n",
      "('조', '교육감은')\n",
      "('교육감은', '자사고에서')\n",
      "('자사고에서', '일반고로')\n",
      "('일반고로', '전환될')\n",
      "('전환될', '학교에')\n",
      "('학교에', '학교')\n",
      "('학교', '당')\n",
      "('당', '5년간')\n",
      "('5년간', '총')\n",
      "('총', '20억원')\n",
      "('20억원', '(')\n",
      "('(', '교육부와')\n",
      "('교육부와', '각각')\n",
      "('각각', '10억씩')\n",
      "('10억씩', ')')\n",
      "(')', '을')\n",
      "('을', '지원할')\n",
      "('지원할', '계획도')\n",
      "('계획도', '밝혔다')\n",
      "('밝혔다', '.')\n",
      "('.', '일반고에는')\n",
      "('일반고에는', '학생들의')\n",
      "('학생들의', '수요가')\n",
      "('수요가', '적은')\n",
      "('적은', '과목에')\n",
      "('과목에', '대한')\n",
      "('대한', '강사비를')\n",
      "('강사비를', '학교')\n",
      "('학교', '별로')\n",
      "('별로', '2,000만원씩')\n",
      "('2,000만원씩', '지원하는')\n",
      "('지원하는', '방안을')\n",
      "('방안을', '포함해')\n",
      "('포함해', '예산을')\n",
      "('예산을', '전반적으로')\n",
      "('전반적으로', '확대할')\n",
      "('확대할', '방침이다')\n",
      "('방침이다', '.')\n",
      "('.', '또')\n",
      "('또', '‘')\n",
      "('‘', '일반고')\n",
      "('일반고', '권역')\n",
      "('권역', '별')\n",
      "('별', '공유')\n",
      "('공유', '캠퍼스')\n",
      "('캠퍼스', '’')\n",
      "('’', '를')\n",
      "('를', '만들어')\n",
      "('만들어', '학생들이')\n",
      "('학생들이', '특정')\n",
      "('특정', '권역')\n",
      "('권역', '내')\n",
      "('내', '각')\n",
      "('각', '학교마다')\n",
      "('학교마다', '특화된')\n",
      "('특화된', '교육과정을')\n",
      "('교육과정을', '서로')\n",
      "('서로', '공유할')\n",
      "('공유할', '수')\n",
      "('수', '있도록')\n",
      "('있도록', '하거나')\n",
      "('하거나', '온라인')\n",
      "('온라인', '교육과정')\n",
      "('교육과정', '(')\n",
      "('(', '화상수업')\n",
      "('화상수업', ')')\n",
      "(')', '도')\n",
      "('도', '확대하기로')\n",
      "('확대하기로', '했다')\n",
      "('했다', '.')\n",
      "('.', '조아름')\n",
      "('조아름', '기자')\n",
      "('기자', 'archo1206')\n",
      "('archo1206', '@')\n",
      "('@', 'hankookilbo.com')\n",
      "('hankookilbo.com', '▶')\n",
      "('▶', '[')\n",
      "('[', '한국일보')\n",
      "('한국일보', '페이스북')\n",
      "('페이스북', '친구맺기')\n",
      "('친구맺기', ']')\n",
      "(']', '[')\n",
      "('[', '한국일보')\n",
      "('한국일보', '홈')\n",
      "('홈', '바로가기')\n",
      "('바로가기', ']')\n",
      "(']', '▶네이버')\n",
      "('▶네이버', '채널에서')\n",
      "('채널에서', '한국일보를')\n",
      "('한국일보를', '구독하세요')\n",
      "('구독하세요', '!')\n"
     ]
    }
   ],
   "source": [
    "from collections import defaultdict\n",
    "\n",
    "freq = defaultdict(int)\n",
    "for _ in eojeol(corpus[0]):\n",
    "    print(_)\n",
    "    freq[_] += 1"
   ]
  },
  {
   "cell_type": "code",
   "execution_count": 164,
   "metadata": {},
   "outputs": [
    {
     "data": {
      "text/plain": [
       "[(('”', '며'), 4),\n",
       " (('있다', '”'), 4),\n",
       " (('”', '고'), 4),\n",
       " (('폐지', '’'), 3),\n",
       " (('‘', '일반고'), 3),\n",
       " (('‘', '자사고'), 3),\n",
       " (('조', '교육감은'), 3),\n",
       " (('조희연', '서울시교육감이'), 2),\n",
       " (('일반고', '전환'), 2),\n",
       " (('포함한', '일반고'), 2)]"
      ]
     },
     "execution_count": 164,
     "metadata": {},
     "output_type": "execute_result"
    }
   ],
   "source": [
    "sorted(freq.items(), key=lambda x:x[1], reverse=True)[:10]"
   ]
  },
  {
   "cell_type": "code",
   "execution_count": 165,
   "metadata": {},
   "outputs": [
    {
     "data": {
      "text/plain": [
       "0.0024752475247524753"
      ]
     },
     "execution_count": 165,
     "metadata": {},
     "output_type": "execute_result"
    }
   ],
   "source": [
    "freq[('채널에서', '한국일보를')]/sum(freq.values())*freq[('한국일보를','구독하세요')]/freq[('채널에서','한국일보를')]"
   ]
  },
  {
   "cell_type": "markdown",
   "metadata": {},
   "source": [
    "## WPM\n",
    "어간을 어떻게 추측할지에 대한 분리하는 모델, 구글에서 1억개 이상의 단어를 이를 통해 찾음"
   ]
  },
  {
   "cell_type": "markdown",
   "metadata": {},
   "source": [
    "BPE (Byte Pair Encoding)을 통해 만들어볼것 <br>\n",
    "생김새가 비슷한데 많이 나오는 얘들을 찾을 것."
   ]
  },
  {
   "cell_type": "markdown",
   "metadata": {},
   "source": [
    "### 불형어"
   ]
  },
  {
   "cell_type": "code",
   "execution_count": 167,
   "metadata": {},
   "outputs": [],
   "source": [
    "from nltk.corpus import stopwords"
   ]
  },
  {
   "cell_type": "code",
   "execution_count": 170,
   "metadata": {},
   "outputs": [
    {
     "name": "stdout",
     "output_type": "stream",
     "text": [
      "i\n",
      "me\n",
      "my\n",
      "myself\n",
      "we\n",
      "our\n",
      "ours\n",
      "ourselves\n",
      "you\n",
      "you're\n",
      "you've\n",
      "you'll\n",
      "you'd\n",
      "your\n",
      "yours\n",
      "yourself\n",
      "yourselves\n",
      "he\n",
      "him\n",
      "his\n",
      "himself\n",
      "she\n",
      "she's\n",
      "her\n",
      "hers\n",
      "herself\n",
      "it\n",
      "it's\n",
      "its\n",
      "itself\n",
      "they\n",
      "them\n",
      "their\n",
      "theirs\n",
      "themselves\n",
      "what\n",
      "which\n",
      "who\n",
      "whom\n",
      "this\n",
      "that\n",
      "that'll\n",
      "these\n",
      "those\n",
      "am\n",
      "is\n",
      "are\n",
      "was\n",
      "were\n",
      "be\n",
      "been\n",
      "being\n",
      "have\n",
      "has\n",
      "had\n",
      "having\n",
      "do\n",
      "does\n",
      "did\n",
      "doing\n",
      "a\n",
      "an\n",
      "the\n",
      "and\n",
      "but\n",
      "if\n",
      "or\n",
      "because\n",
      "as\n",
      "until\n",
      "while\n",
      "of\n",
      "at\n",
      "by\n",
      "for\n",
      "with\n",
      "about\n",
      "against\n",
      "between\n",
      "into\n",
      "through\n",
      "during\n",
      "before\n",
      "after\n",
      "above\n",
      "below\n",
      "to\n",
      "from\n",
      "up\n",
      "down\n",
      "in\n",
      "out\n",
      "on\n",
      "off\n",
      "over\n",
      "under\n",
      "again\n",
      "further\n",
      "then\n",
      "once\n",
      "here\n",
      "there\n",
      "when\n",
      "where\n",
      "why\n",
      "how\n",
      "all\n",
      "any\n",
      "both\n",
      "each\n",
      "few\n",
      "more\n",
      "most\n",
      "other\n",
      "some\n",
      "such\n",
      "no\n",
      "nor\n",
      "not\n",
      "only\n",
      "own\n",
      "same\n",
      "so\n",
      "than\n",
      "too\n",
      "very\n",
      "s\n",
      "t\n",
      "can\n",
      "will\n",
      "just\n",
      "don\n",
      "don't\n",
      "should\n",
      "should've\n",
      "now\n",
      "d\n",
      "ll\n",
      "m\n",
      "o\n",
      "re\n",
      "ve\n",
      "y\n",
      "ain\n",
      "aren\n",
      "aren't\n",
      "couldn\n",
      "couldn't\n",
      "didn\n",
      "didn't\n",
      "doesn\n",
      "doesn't\n",
      "hadn\n",
      "hadn't\n",
      "hasn\n",
      "hasn't\n",
      "haven\n",
      "haven't\n",
      "isn\n",
      "isn't\n",
      "ma\n",
      "mightn\n",
      "mightn't\n",
      "mustn\n",
      "mustn't\n",
      "needn\n",
      "needn't\n",
      "shan\n",
      "shan't\n",
      "shouldn\n",
      "shouldn't\n",
      "wasn\n",
      "wasn't\n",
      "weren\n",
      "weren't\n",
      "won\n",
      "won't\n",
      "wouldn\n",
      "wouldn't\n",
      "\n"
     ]
    }
   ],
   "source": [
    "print(stopwords.open(\"english\").read())"
   ]
  },
  {
   "cell_type": "code",
   "execution_count": 169,
   "metadata": {},
   "outputs": [
    {
     "name": "stderr",
     "output_type": "stream",
     "text": [
      "[nltk_data] Downloading package stopwords to\n",
      "[nltk_data]     C:\\Users\\seo\\AppData\\Roaming\\nltk_data...\n",
      "[nltk_data]   Unzipping corpora\\stopwords.zip.\n"
     ]
    },
    {
     "data": {
      "text/plain": [
       "True"
      ]
     },
     "execution_count": 169,
     "metadata": {},
     "output_type": "execute_result"
    }
   ],
   "source": [
    "nltk.download('stopwords')"
   ]
  },
  {
   "cell_type": "markdown",
   "metadata": {},
   "source": [
    "### BPE"
   ]
  },
  {
   "cell_type": "code",
   "execution_count": 201,
   "metadata": {},
   "outputs": [],
   "source": [
    "tokens = {\n",
    "    \"l o w </w>\":5,\n",
    "    \"l o w e s t </w>\":2,\n",
    "    \"n e w e r </w>\" : 6,\n",
    "    \"r i d e r </w>\" : 3\n",
    "}"
   ]
  },
  {
   "cell_type": "code",
   "execution_count": 212,
   "metadata": {},
   "outputs": [],
   "source": [
    "def findBigram(tokens):\n",
    "    ngram = defaultdict(int)\n",
    "    for token, freq in tokens.items():\n",
    "        syllables = token.split()\n",
    "        for i in range(len(syllables)-1):\n",
    "            ngram[tuple(syllables[i:i+2])] += freq\n",
    "    return ngram"
   ]
  },
  {
   "cell_type": "code",
   "execution_count": 248,
   "metadata": {},
   "outputs": [],
   "source": [
    "def retNewTokens(ngram, tokens, k):\n",
    "    maxkey = max(ngram, key=ngram.get)\n",
    "    maxValue = max(ngram.values())\n",
    "    newTokens = dict()\n",
    "    for token, freq in tokens.items():\n",
    "        newTokens[re.sub(\" \".join(maxkey), \"\".join(maxkey), token) if maxValue>k else token] = freq\n",
    "    #print(maxkey)\n",
    "    return newTokens    "
   ]
  },
  {
   "cell_type": "code",
   "execution_count": 199,
   "metadata": {},
   "outputs": [],
   "source": [
    "tokens = newTokens"
   ]
  },
  {
   "cell_type": "code",
   "execution_count": 200,
   "metadata": {},
   "outputs": [
    {
     "name": "stdout",
     "output_type": "stream",
     "text": [
      "{'low </w>': 5, 'low e s t </w>': 2, 'ne w er</w>': 6, 'r i d er</w>': 3}\n"
     ]
    }
   ],
   "source": [
    "print(newTokens)"
   ]
  },
  {
   "cell_type": "code",
   "execution_count": 203,
   "metadata": {},
   "outputs": [],
   "source": [
    "maxkey = max(ngram, key=ngram.get)"
   ]
  },
  {
   "cell_type": "code",
   "execution_count": 204,
   "metadata": {},
   "outputs": [
    {
     "data": {
      "text/plain": [
       "('e', 'r')"
      ]
     },
     "execution_count": 204,
     "metadata": {},
     "output_type": "execute_result"
    }
   ],
   "source": [
    "maxkey"
   ]
  },
  {
   "cell_type": "code",
   "execution_count": 254,
   "metadata": {},
   "outputs": [
    {
     "name": "stdout",
     "output_type": "stream",
     "text": [
      "{'아버지'}\n"
     ]
    }
   ],
   "source": [
    "tokens = {\n",
    "    \"l o w </w>\":5,\n",
    "    \"l o w e s t </w>\":2,\n",
    "    \"n e w e r </w>\" : 6,\n",
    "    \"r i d e r </w>\" : 3\n",
    "}\n",
    "tokens = {\n",
    "    \"아 버 지 가 </w>\":5,\n",
    "    \"아 버 지 께 서 </w>\":2,\n",
    "    \"아 버 지 를 </w>\" : 6,\n",
    "    \"아 버 지 에 게 </w>\" : 3\n",
    "}\n",
    "k = max(tokens.values())\n",
    "for _ in range(100):\n",
    "    maxkey = findBigram(tokens)\n",
    "    tokens = retNewTokens(maxkey, tokens, k)\n",
    "\n",
    "pattern = r\"[가-힣A-Za-z\\/\\<\\>]{2,}\"\n",
    "result = list()\n",
    "for _ in tokens:\n",
    "    result.extend([_ for _ in re.findall(pattern, _) if _ != \"</w>\"])\n",
    "    #print([_ for _ in re.findall(pattern, _) if _ != \"</w>\"])\n",
    "print(set(result))"
   ]
  },
  {
   "cell_type": "code",
   "execution_count": null,
   "metadata": {},
   "outputs": [],
   "source": []
  }
 ],
 "metadata": {
  "kernelspec": {
   "display_name": "Python 3",
   "language": "python",
   "name": "python3"
  },
  "language_info": {
   "codemirror_mode": {
    "name": "ipython",
    "version": 3
   },
   "file_extension": ".py",
   "mimetype": "text/x-python",
   "name": "python",
   "nbconvert_exporter": "python",
   "pygments_lexer": "ipython3",
   "version": "3.7.3"
  }
 },
 "nbformat": 4,
 "nbformat_minor": 2
}
