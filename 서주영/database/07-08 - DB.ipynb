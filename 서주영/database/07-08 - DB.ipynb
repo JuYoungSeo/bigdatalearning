{
 "cells": [
  {
   "cell_type": "code",
   "execution_count": 1,
   "metadata": {},
   "outputs": [],
   "source": [
    "import sqlite3"
   ]
  },
  {
   "cell_type": "code",
   "execution_count": 2,
   "metadata": {},
   "outputs": [],
   "source": [
    "conn = sqlite3.connect('create.db')"
   ]
  },
  {
   "cell_type": "code",
   "execution_count": 3,
   "metadata": {},
   "outputs": [],
   "source": [
    "cur = conn.cursor()"
   ]
  },
  {
   "cell_type": "code",
   "execution_count": 4,
   "metadata": {},
   "outputs": [
    {
     "data": {
      "text/plain": [
       "<sqlite3.Cursor at 0x1ecf96daea0>"
      ]
     },
     "execution_count": 4,
     "metadata": {},
     "output_type": "execute_result"
    }
   ],
   "source": [
    "cur.executescript('''\n",
    "    CREATE TABLE Artist(\n",
    "        id INTEGER NOT NULL PRIMARY KEY AUTOINCREMENT UNIQUE,\n",
    "        name TEXT NOT NULL\n",
    "    );\n",
    "    \n",
    "    CREATE TABLE Genre(\n",
    "        id INTEGER NOT NULL PRIMARY KEY AUTOINCREMENT UNIQUE,\n",
    "        name TEXT NOT NULL\n",
    "    );\n",
    "    \n",
    "    CREATE TABLE Album(\n",
    "        id INTEGER NOT NULL PRIMARY KEY AUTOINCREMENT UNIQUE,\n",
    "        title TEXT NOT NULL,\n",
    "        artist_id INTEGER\n",
    "    );\n",
    "''')"
   ]
  },
  {
   "cell_type": "code",
   "execution_count": 6,
   "metadata": {},
   "outputs": [
    {
     "data": {
      "text/plain": [
       "<sqlite3.Cursor at 0x1ecf96daea0>"
      ]
     },
     "execution_count": 6,
     "metadata": {},
     "output_type": "execute_result"
    }
   ],
   "source": [
    "cur.executescript('''\n",
    "    CREATE TABLE Track(\n",
    "        id INTEGER NOT NULL PRIMARY KEY AUTOINCREMENT UNIQUE,\n",
    "        title TEXT NOT NULL,\n",
    "        length INTEGER,\n",
    "        rating INTEGER,\n",
    "        count INTEGER,\n",
    "        album_id INTEGER,\n",
    "        genre_id INTEGER\n",
    "    );\n",
    "    \n",
    "    INSERT INTO Artist(name) values('Led Zepplin');\n",
    "    INSERT INTO Artist(name) values('AC/DC');\n",
    "    \n",
    "    INSERT INTO Genre(name) values('Rock');\n",
    "    INSERT INTO Genre(name) values('Metal')\n",
    "''')"
   ]
  },
  {
   "cell_type": "code",
   "execution_count": 7,
   "metadata": {},
   "outputs": [
    {
     "data": {
      "text/plain": [
       "<sqlite3.Cursor at 0x1ecf96daea0>"
      ]
     },
     "execution_count": 7,
     "metadata": {},
     "output_type": "execute_result"
    }
   ],
   "source": [
    "cur.execute('''\n",
    "    INSERT INTO Album (title, artist_id) \n",
    "    VALUES(:album ,(SELECT id FROM artist WHERE name =:artist))\n",
    "''', {\"album\": \"ABC\", \"artist\":\"Led Zepplin\"})"
   ]
  },
  {
   "cell_type": "code",
   "execution_count": 9,
   "metadata": {},
   "outputs": [],
   "source": [
    "conn.commit()"
   ]
  },
  {
   "cell_type": "code",
   "execution_count": 14,
   "metadata": {
    "scrolled": true
   },
   "outputs": [
    {
     "data": {
      "text/plain": [
       "<sqlite3.Cursor at 0x1ecf96daea0>"
      ]
     },
     "execution_count": 14,
     "metadata": {},
     "output_type": "execute_result"
    }
   ],
   "source": [
    "cur.executescript('''\n",
    "    INSERT INTO Track(title, rating, length, count, album_id, genre_id) values('Black Dog', 5,297,0,2,1);\n",
    "    INSERT INTO Track(title, rating, length, count, album_id, genre_id) values('Stairway', 5,482,0,2,1);\n",
    "    INSERT INTO Track(title, rating, length, count, album_id, genre_id) values('About to Rock', 5,313,0,1,2);\n",
    "    INSERT INTO Track(title, rating, length, count, album_id, genre_id) values('Who Made Who', 5,207,0,1,2);\n",
    "''')"
   ]
  },
  {
   "cell_type": "code",
   "execution_count": 17,
   "metadata": {},
   "outputs": [
    {
     "data": {
      "text/plain": [
       "<sqlite3.Cursor at 0x1ecf96daea0>"
      ]
     },
     "execution_count": 17,
     "metadata": {},
     "output_type": "execute_result"
    }
   ],
   "source": [
    "cur.execute(\"DELETE FROM Album WHERE id = 2\")\n"
   ]
  },
  {
   "cell_type": "code",
   "execution_count": 18,
   "metadata": {},
   "outputs": [],
   "source": [
    "conn.commit()"
   ]
  },
  {
   "cell_type": "code",
   "execution_count": 19,
   "metadata": {},
   "outputs": [],
   "source": [
    "cur.execute('''\n",
    "    INSERT INTO Album (title, artist_id) \n",
    "    VALUES(:album ,(SELECT id FROM artist WHERE name =:artist))\n",
    "''', {\"album\": \"Who Made Who\", \"artist\":\"AC/DC\"})\n",
    "conn.commit()"
   ]
  },
  {
   "cell_type": "code",
   "execution_count": 25,
   "metadata": {},
   "outputs": [
    {
     "data": {
      "text/plain": [
       "<sqlite3.Cursor at 0x1ecf96daea0>"
      ]
     },
     "execution_count": 25,
     "metadata": {},
     "output_type": "execute_result"
    }
   ],
   "source": [
    "cur.execute('''\n",
    "    SELECT Album.title, Artist.name\n",
    "    FROM Album\n",
    "    JOIN Artist on\n",
    "    Album.artist_id = Artist.id\n",
    "''')"
   ]
  },
  {
   "cell_type": "code",
   "execution_count": 26,
   "metadata": {},
   "outputs": [],
   "source": [
    "conn.commit()"
   ]
  },
  {
   "cell_type": "code",
   "execution_count": 27,
   "metadata": {},
   "outputs": [
    {
     "data": {
      "text/plain": [
       "[('ABC', 'Led Zepplin'), ('Who Made Who', 'AC/DC')]"
      ]
     },
     "execution_count": 27,
     "metadata": {},
     "output_type": "execute_result"
    }
   ],
   "source": [
    "cur.fetchall()"
   ]
  },
  {
   "cell_type": "code",
   "execution_count": 41,
   "metadata": {},
   "outputs": [
    {
     "data": {
      "text/plain": [
       "<sqlite3.Cursor at 0x1ecf96daea0>"
      ]
     },
     "execution_count": 41,
     "metadata": {},
     "output_type": "execute_result"
    }
   ],
   "source": [
    "cur.execute('''\n",
    "    SELECT Track.title, Genre.name\n",
    "    FROM Track\n",
    "    JOIN Genre on\n",
    "    Track.genre_id = Genre.id\n",
    "''')"
   ]
  },
  {
   "cell_type": "code",
   "execution_count": 42,
   "metadata": {},
   "outputs": [
    {
     "data": {
      "text/plain": [
       "[('Black Dog', 'Rock'),\n",
       " ('Stairway', 'Rock'),\n",
       " ('About to Rock', 'Metal'),\n",
       " ('Who Made Who', 'Metal')]"
      ]
     },
     "execution_count": 42,
     "metadata": {},
     "output_type": "execute_result"
    }
   ],
   "source": [
    "cur.fetchall()"
   ]
  },
  {
   "cell_type": "code",
   "execution_count": 37,
   "metadata": {},
   "outputs": [
    {
     "data": {
      "text/plain": [
       "<sqlite3.Cursor at 0x1ecf96daea0>"
      ]
     },
     "execution_count": 37,
     "metadata": {},
     "output_type": "execute_result"
    }
   ],
   "source": [
    "cur.execute('''\n",
    "    SELECT Track.title, Artist.name, Album.title, Genre.name\n",
    "    FROM Track\n",
    "    JOIN Genre join Album join Artist on\n",
    "    Track.genre_id = Genre.id and Track.album_id = Album.id and Album.artist_id = Artist.id\n",
    "''')"
   ]
  },
  {
   "cell_type": "code",
   "execution_count": 38,
   "metadata": {},
   "outputs": [
    {
     "data": {
      "text/plain": [
       "[('About to Rock', 'Led Zepplin', 'ABC', 'Metal'),\n",
       " ('Who Made Who', 'Led Zepplin', 'ABC', 'Metal')]"
      ]
     },
     "execution_count": 38,
     "metadata": {},
     "output_type": "execute_result"
    }
   ],
   "source": [
    "cur.fetchall()"
   ]
  },
  {
   "cell_type": "code",
   "execution_count": 39,
   "metadata": {},
   "outputs": [
    {
     "data": {
      "text/plain": [
       "<sqlite3.Cursor at 0x1ecf96daea0>"
      ]
     },
     "execution_count": 39,
     "metadata": {},
     "output_type": "execute_result"
    }
   ],
   "source": [
    "cur.execute('''\n",
    "    SELECT Track.title, Artist.name, Album.title, Genre.name\n",
    "    FROM Track\n",
    "    JOIN Artist join Album join Genre on\n",
    "    Track.album_id = Album.id and Track.genre_id = Genre.id and Album.artist_id = Artist.id\n",
    "''')"
   ]
  },
  {
   "cell_type": "code",
   "execution_count": 40,
   "metadata": {},
   "outputs": [
    {
     "data": {
      "text/plain": [
       "[('About to Rock', 'Led Zepplin', 'ABC', 'Metal'),\n",
       " ('Who Made Who', 'Led Zepplin', 'ABC', 'Metal')]"
      ]
     },
     "execution_count": 40,
     "metadata": {},
     "output_type": "execute_result"
    }
   ],
   "source": [
    "cur.fetchall()"
   ]
  },
  {
   "cell_type": "code",
   "execution_count": 46,
   "metadata": {},
   "outputs": [
    {
     "data": {
      "text/plain": [
       "[('About to Rock', 'ABC'), ('Who Made Who', 'ABC')]"
      ]
     },
     "execution_count": 46,
     "metadata": {},
     "output_type": "execute_result"
    }
   ],
   "source": [
    "cur.execute('''\n",
    "    SELECT Track.title, Album.title\n",
    "    FROM Track\n",
    "    JOIN Album on\n",
    "    Track.album_id = Album.id\n",
    "''')\n",
    "cur.fetchall()"
   ]
  },
  {
   "cell_type": "code",
   "execution_count": 47,
   "metadata": {},
   "outputs": [
    {
     "data": {
      "text/plain": [
       "[(1, 'Black Dog', 297, 5, 0, 2, 1),\n",
       " (2, 'Stairway', 482, 5, 0, 2, 1),\n",
       " (3, 'About to Rock', 313, 5, 0, 1, 2),\n",
       " (4, 'Who Made Who', 207, 5, 0, 1, 2)]"
      ]
     },
     "execution_count": 47,
     "metadata": {},
     "output_type": "execute_result"
    }
   ],
   "source": [
    "cur.execute('''\n",
    "    SELECT *\n",
    "    FROM Track\n",
    "    JOIN Album on\n",
    "    Track.album_id = Album.id\n",
    "''')\n",
    "cur.fetchall()"
   ]
  },
  {
   "cell_type": "code",
   "execution_count": null,
   "metadata": {},
   "outputs": [],
   "source": []
  }
 ],
 "metadata": {
  "kernelspec": {
   "display_name": "Python 3",
   "language": "python",
   "name": "python3"
  },
  "language_info": {
   "codemirror_mode": {
    "name": "ipython",
    "version": 3
   },
   "file_extension": ".py",
   "mimetype": "text/x-python",
   "name": "python",
   "nbconvert_exporter": "python",
   "pygments_lexer": "ipython3",
   "version": "3.7.3"
  }
 },
 "nbformat": 4,
 "nbformat_minor": 2
}
