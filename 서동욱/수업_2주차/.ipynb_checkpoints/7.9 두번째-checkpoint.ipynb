{
 "cells": [
  {
   "cell_type": "code",
   "execution_count": 34,
   "metadata": {},
   "outputs": [],
   "source": [
    "from sqlalchemy import create_engine"
   ]
  },
  {
   "cell_type": "code",
   "execution_count": 87,
   "metadata": {},
   "outputs": [],
   "source": [
    "engine = create_engine(\"sqlite:///test2.db\",echo=True)"
   ]
  },
  {
   "cell_type": "code",
   "execution_count": 36,
   "metadata": {},
   "outputs": [
    {
     "name": "stdout",
     "output_type": "stream",
     "text": [
      "Engine(sqlite:///test2.db)\n"
     ]
    }
   ],
   "source": [
    "print(engine)"
   ]
  },
  {
   "cell_type": "code",
   "execution_count": 88,
   "metadata": {},
   "outputs": [],
   "source": [
    "from sqlalchemy import Table,Column,Integer,String,MetaData,ForeignKey\n",
    "\n",
    "metadata = MetaData()\n",
    "artist = Table('Artist',metadata,\n",
    "             Column('id',Integer,primary_key=True),\n",
    "             Column('name',String,nullable=False),\n",
    "             extend_exisiting=True)\n"
   ]
  },
  {
   "cell_type": "code",
   "execution_count": 89,
   "metadata": {},
   "outputs": [],
   "source": [
    "album = Table('Album',metadata,\n",
    "             Column('id',Integer,primary_key=True),\n",
    "             Column('title',String,nullable=False),\n",
    "             Column('artist_id',Integer,ForeignKey(\"Artist.id\")),\n",
    "             extend_exisiting=True)"
   ]
  },
  {
   "cell_type": "code",
   "execution_count": 90,
   "metadata": {},
   "outputs": [],
   "source": [
    "genre = Table('Genre',metadata,\n",
    "             Column('id',Integer,primary_key=True),\n",
    "             Column('name',String,nullable=False),\n",
    "             extend_exisiting=True)"
   ]
  },
  {
   "cell_type": "code",
   "execution_count": 91,
   "metadata": {},
   "outputs": [
    {
     "ename": "InvalidRequestError",
     "evalue": "Table 'Genre' is already defined for this MetaData instance.  Specify 'extend_existing=True' to redefine options and columns on an existing Table object.",
     "output_type": "error",
     "traceback": [
      "\u001b[1;31m---------------------------------------------------------------------------\u001b[0m",
      "\u001b[1;31mInvalidRequestError\u001b[0m                       Traceback (most recent call last)",
      "\u001b[1;32m<ipython-input-91-f245d5a0c094>\u001b[0m in \u001b[0;36m<module>\u001b[1;34m\u001b[0m\n\u001b[0;32m      2\u001b[0m              \u001b[0mColumn\u001b[0m\u001b[1;33m(\u001b[0m\u001b[1;34m'id'\u001b[0m\u001b[1;33m,\u001b[0m\u001b[0mInteger\u001b[0m\u001b[1;33m,\u001b[0m\u001b[0mprimary_key\u001b[0m\u001b[1;33m=\u001b[0m\u001b[1;32mTrue\u001b[0m\u001b[1;33m)\u001b[0m\u001b[1;33m,\u001b[0m\u001b[1;33m\u001b[0m\u001b[1;33m\u001b[0m\u001b[0m\n\u001b[0;32m      3\u001b[0m              \u001b[0mColumn\u001b[0m\u001b[1;33m(\u001b[0m\u001b[1;34m'name'\u001b[0m\u001b[1;33m,\u001b[0m\u001b[0mString\u001b[0m\u001b[1;33m,\u001b[0m\u001b[0mnullable\u001b[0m\u001b[1;33m=\u001b[0m\u001b[1;32mFalse\u001b[0m\u001b[1;33m)\u001b[0m\u001b[1;33m,\u001b[0m\u001b[1;33m\u001b[0m\u001b[1;33m\u001b[0m\u001b[0m\n\u001b[1;32m----> 4\u001b[1;33m              extend_exisiting=True)\n\u001b[0m",
      "\u001b[1;32m<string>\u001b[0m in \u001b[0;36m__new__\u001b[1;34m(cls, *args, **kw)\u001b[0m\n",
      "\u001b[1;32m~\\Anaconda3\\lib\\site-packages\\sqlalchemy\\util\\deprecations.py\u001b[0m in \u001b[0;36mwarned\u001b[1;34m(fn, *args, **kwargs)\u001b[0m\n\u001b[0;32m    128\u001b[0m                     )\n\u001b[0;32m    129\u001b[0m \u001b[1;33m\u001b[0m\u001b[0m\n\u001b[1;32m--> 130\u001b[1;33m             \u001b[1;32mreturn\u001b[0m \u001b[0mfn\u001b[0m\u001b[1;33m(\u001b[0m\u001b[1;33m*\u001b[0m\u001b[0margs\u001b[0m\u001b[1;33m,\u001b[0m \u001b[1;33m**\u001b[0m\u001b[0mkwargs\u001b[0m\u001b[1;33m)\u001b[0m\u001b[1;33m\u001b[0m\u001b[1;33m\u001b[0m\u001b[0m\n\u001b[0m\u001b[0;32m    131\u001b[0m \u001b[1;33m\u001b[0m\u001b[0m\n\u001b[0;32m    132\u001b[0m         \u001b[0mdoc\u001b[0m \u001b[1;33m=\u001b[0m \u001b[0mfn\u001b[0m\u001b[1;33m.\u001b[0m\u001b[0m__doc__\u001b[0m \u001b[1;32mis\u001b[0m \u001b[1;32mnot\u001b[0m \u001b[1;32mNone\u001b[0m \u001b[1;32mand\u001b[0m \u001b[0mfn\u001b[0m\u001b[1;33m.\u001b[0m\u001b[0m__doc__\u001b[0m \u001b[1;32mor\u001b[0m \u001b[1;34m\"\"\u001b[0m\u001b[1;33m\u001b[0m\u001b[1;33m\u001b[0m\u001b[0m\n",
      "\u001b[1;32m~\\Anaconda3\\lib\\site-packages\\sqlalchemy\\sql\\schema.py\u001b[0m in \u001b[0;36m__new__\u001b[1;34m(cls, *args, **kw)\u001b[0m\n\u001b[0;32m    476\u001b[0m                     \u001b[1;34m\"to redefine \"\u001b[0m\u001b[1;33m\u001b[0m\u001b[1;33m\u001b[0m\u001b[0m\n\u001b[0;32m    477\u001b[0m                     \u001b[1;34m\"options and columns on an \"\u001b[0m\u001b[1;33m\u001b[0m\u001b[1;33m\u001b[0m\u001b[0m\n\u001b[1;32m--> 478\u001b[1;33m                     \u001b[1;34m\"existing Table object.\"\u001b[0m \u001b[1;33m%\u001b[0m \u001b[0mkey\u001b[0m\u001b[1;33m\u001b[0m\u001b[1;33m\u001b[0m\u001b[0m\n\u001b[0m\u001b[0;32m    479\u001b[0m                 )\n\u001b[0;32m    480\u001b[0m             \u001b[0mtable\u001b[0m \u001b[1;33m=\u001b[0m \u001b[0mmetadata\u001b[0m\u001b[1;33m.\u001b[0m\u001b[0mtables\u001b[0m\u001b[1;33m[\u001b[0m\u001b[0mkey\u001b[0m\u001b[1;33m]\u001b[0m\u001b[1;33m\u001b[0m\u001b[1;33m\u001b[0m\u001b[0m\n",
      "\u001b[1;31mInvalidRequestError\u001b[0m: Table 'Genre' is already defined for this MetaData instance.  Specify 'extend_existing=True' to redefine options and columns on an existing Table object."
     ]
    }
   ],
   "source": [
    "genre = Table('Genre',metadata,\n",
    "             Column('id',Integer,primary_key=True),\n",
    "             Column('name',String,nullable=False),\n",
    "             extend_exisiting=True)"
   ]
  },
  {
   "cell_type": "code",
   "execution_count": 41,
   "metadata": {},
   "outputs": [],
   "source": [
    "track = Table('Track',metadata,\n",
    "             Column('id',Integer,primary_key=True),\n",
    "             Column('title',String,nullable=False),\n",
    "              Column('length',Integer,nullable=False),\n",
    "              Column('rating',Integer,nullable=False),\n",
    "              Column('count',Integer,nullable=False),\n",
    "              Column('album_id',Integer,ForeignKey(\"Album.id\")),\n",
    "              Column('genre_id',Integer,ForeignKey(\"Genre.id\")),\n",
    "             extend_exisiting=True)"
   ]
  },
  {
   "cell_type": "code",
   "execution_count": 42,
   "metadata": {
    "scrolled": true
   },
   "outputs": [
    {
     "name": "stdout",
     "output_type": "stream",
     "text": [
      "2019-07-09 14:05:26,932 INFO sqlalchemy.engine.base.Engine SELECT CAST('test plain returns' AS VARCHAR(60)) AS anon_1\n",
      "2019-07-09 14:05:26,933 INFO sqlalchemy.engine.base.Engine ()\n",
      "2019-07-09 14:05:26,935 INFO sqlalchemy.engine.base.Engine SELECT CAST('test unicode returns' AS VARCHAR(60)) AS anon_1\n",
      "2019-07-09 14:05:26,936 INFO sqlalchemy.engine.base.Engine ()\n",
      "2019-07-09 14:05:26,937 INFO sqlalchemy.engine.base.Engine PRAGMA table_info(\"Artist\")\n",
      "2019-07-09 14:05:26,939 INFO sqlalchemy.engine.base.Engine ()\n",
      "2019-07-09 14:05:26,942 INFO sqlalchemy.engine.base.Engine PRAGMA table_info(\"Album\")\n",
      "2019-07-09 14:05:26,943 INFO sqlalchemy.engine.base.Engine ()\n",
      "2019-07-09 14:05:26,945 INFO sqlalchemy.engine.base.Engine PRAGMA table_info(\"Genre\")\n",
      "2019-07-09 14:05:26,946 INFO sqlalchemy.engine.base.Engine ()\n",
      "2019-07-09 14:05:26,947 INFO sqlalchemy.engine.base.Engine PRAGMA table_info(\"Track\")\n",
      "2019-07-09 14:05:26,949 INFO sqlalchemy.engine.base.Engine ()\n"
     ]
    }
   ],
   "source": [
    "metadata.create_all(engine)"
   ]
  },
  {
   "cell_type": "code",
   "execution_count": 19,
   "metadata": {},
   "outputs": [],
   "source": [
    "conn = engine.connect()"
   ]
  },
  {
   "cell_type": "code",
   "execution_count": 20,
   "metadata": {},
   "outputs": [
    {
     "data": {
      "text/plain": [
       "'INSERT INTO \"Artist\" (id, name) VALUES (?, ?)'"
      ]
     },
     "execution_count": 20,
     "metadata": {},
     "output_type": "execute_result"
    }
   ],
   "source": [
    "insert.bind = engine\n",
    "str(insert)"
   ]
  },
  {
   "cell_type": "code",
   "execution_count": 21,
   "metadata": {
    "scrolled": true
   },
   "outputs": [
    {
     "name": "stdout",
     "output_type": "stream",
     "text": [
      "2019-07-09 13:44:23,780 INFO sqlalchemy.engine.base.Engine INSERT INTO \"Artist\" (name) VALUES (?)\n",
      "2019-07-09 13:44:23,781 INFO sqlalchemy.engine.base.Engine (('Led Zepplin',), ('AC/DC',))\n",
      "2019-07-09 13:44:23,784 INFO sqlalchemy.engine.base.Engine COMMIT\n"
     ]
    }
   ],
   "source": [
    "result = conn.execute(artist.insert(),[\n",
    "    {\"name\":\"Led Zepplin\"},\n",
    "    {\"name\":\"AC/DC\"}\n",
    "])"
   ]
  },
  {
   "cell_type": "code",
   "execution_count": 26,
   "metadata": {
    "scrolled": true
   },
   "outputs": [
    {
     "name": "stdout",
     "output_type": "stream",
     "text": [
      "2019-07-09 13:47:02,506 INFO sqlalchemy.engine.base.Engine INSERT INTO \"Album\" (title, artist_id) VALUES (?, ?)\n",
      "2019-07-09 13:47:02,507 INFO sqlalchemy.engine.base.Engine (('IV', 1), ('Who Made Who', 2))\n",
      "2019-07-09 13:47:02,509 INFO sqlalchemy.engine.base.Engine COMMIT\n"
     ]
    }
   ],
   "source": [
    "result = conn.execute(album.insert(),[\n",
    "    {\"title\":\"IV\",\"artist_id\":1},\n",
    "    {\"title\":\"Who Made Who\",\"artist_id\":2}\n",
    "])"
   ]
  },
  {
   "cell_type": "code",
   "execution_count": 31,
   "metadata": {
    "scrolled": false
   },
   "outputs": [
    {
     "name": "stdout",
     "output_type": "stream",
     "text": [
      "2019-07-09 13:49:36,247 INFO sqlalchemy.engine.base.Engine INSERT INTO \"Genre\" (name) VALUES (?)\n",
      "2019-07-09 13:49:36,248 INFO sqlalchemy.engine.base.Engine (('Rock',), ('Metal',))\n",
      "2019-07-09 13:49:36,251 INFO sqlalchemy.engine.base.Engine COMMIT\n"
     ]
    }
   ],
   "source": [
    "result = conn.execute(genre.insert(),[\n",
    "    {\"name\":\"Rock\"},\n",
    "    {\"name\":\"Metal\"}\n",
    "])"
   ]
  },
  {
   "cell_type": "code",
   "execution_count": 32,
   "metadata": {
    "scrolled": false
   },
   "outputs": [
    {
     "name": "stdout",
     "output_type": "stream",
     "text": [
      "2019-07-09 13:51:30,132 INFO sqlalchemy.engine.base.Engine INSERT INTO \"Track\" (title, length, rating, count, album_id, genre_id) VALUES (?, ?, ?, ?, ?, ?)\n",
      "2019-07-09 13:51:30,134 INFO sqlalchemy.engine.base.Engine (('Black Dog', 297, 5, 0, 1, 1), ('Stairway', 482, 5, 0, 1, 1), ('About to rock', 313, 5, 0, 2, 2), ('Who Mad Who', 297, 5, 0, 2, 2))\n",
      "2019-07-09 13:51:30,137 INFO sqlalchemy.engine.base.Engine COMMIT\n"
     ]
    }
   ],
   "source": [
    "result = conn.execute(track.insert(),[\n",
    "    {\"title\":\"Black Dog\",\"rating\":5,\"length\":297,\"count\":0,\n",
    "    \"album_id\":1,\"genre_id\":1},\n",
    "    {\"title\":\"Stairway\",\"rating\":5,\"length\":482,\"count\":0,\n",
    "    \"album_id\":1,\"genre_id\":1},\n",
    "    {\"title\":\"About to rock\",\"rating\":5,\"length\":313,\"count\":0,\n",
    "    \"album_id\":2,\"genre_id\":2},\n",
    "    {\"title\":\"Who Mad Who\",\"rating\":5,\"length\":297,\"count\":0,\n",
    "    \"album_id\":2,\"genre_id\":2}\n",
    "    \n",
    "])"
   ]
  },
  {
   "cell_type": "code",
   "execution_count": 45,
   "metadata": {},
   "outputs": [],
   "source": [
    "tables = metadata.tables"
   ]
  },
  {
   "cell_type": "code",
   "execution_count": 46,
   "metadata": {},
   "outputs": [
    {
     "name": "stdout",
     "output_type": "stream",
     "text": [
      "Artist\n",
      "Album\n",
      "Genre\n",
      "Track\n"
     ]
    }
   ],
   "source": [
    "for table in tables:\n",
    "    print(table)"
   ]
  },
  {
   "cell_type": "code",
   "execution_count": 50,
   "metadata": {},
   "outputs": [
    {
     "name": "stdout",
     "output_type": "stream",
     "text": [
      "2019-07-09 14:08:21,174 INFO sqlalchemy.engine.base.Engine SELECT name FROM sqlite_master WHERE type='table' ORDER BY name\n",
      "2019-07-09 14:08:21,176 INFO sqlalchemy.engine.base.Engine ()\n",
      "Album\n",
      "Artist\n",
      "Genre\n",
      "Track\n"
     ]
    }
   ],
   "source": [
    "for table in engine.table_names():\n",
    "    print(table)"
   ]
  },
  {
   "cell_type": "code",
   "execution_count": 52,
   "metadata": {},
   "outputs": [],
   "source": [
    "from sqlalchemy import and_,or_,not_"
   ]
  },
  {
   "cell_type": "code",
   "execution_count": 53,
   "metadata": {},
   "outputs": [],
   "source": [
    "from sqlalchemy.sql import select"
   ]
  },
  {
   "cell_type": "code",
   "execution_count": 55,
   "metadata": {},
   "outputs": [
    {
     "name": "stdout",
     "output_type": "stream",
     "text": [
      "2019-07-09 14:08:45,472 INFO sqlalchemy.engine.base.Engine SELECT \"Track\".id, \"Track\".title, \"Track\".length, \"Track\".rating, \"Track\".count, \"Track\".album_id, \"Track\".genre_id \n",
      "FROM \"Track\" \n",
      "WHERE \"Track\".album_id = ? AND \"Track\".genre_id = ?\n",
      "2019-07-09 14:08:45,473 INFO sqlalchemy.engine.base.Engine (1, 1)\n",
      "(1, 'Black Dog', 297, 5, 0, 1, 1)\n",
      "(2, 'Stairway', 482, 5, 0, 1, 1)\n"
     ]
    }
   ],
   "source": [
    "trackResult = conn.execute(select([track])\n",
    "                          .where(\n",
    "                          and_(track.c.album_id == 1,track.c.genre_id == 1)\n",
    "                          )\n",
    "                          )\n",
    "for row in trackResult:\n",
    "    print(row)"
   ]
  },
  {
   "cell_type": "code",
   "execution_count": 56,
   "metadata": {},
   "outputs": [
    {
     "name": "stdout",
     "output_type": "stream",
     "text": [
      "2019-07-09 14:09:28,988 INFO sqlalchemy.engine.base.Engine UPDATE \"Track\" SET genre_id=? WHERE \"Track\".id = ?\n",
      "2019-07-09 14:09:28,990 INFO sqlalchemy.engine.base.Engine (2, 2)\n",
      "2019-07-09 14:09:28,993 INFO sqlalchemy.engine.base.Engine COMMIT\n",
      "2019-07-09 14:09:29,002 INFO sqlalchemy.engine.base.Engine UPDATE \"Track\" SET genre_id=? WHERE \"Track\".id = ?\n",
      "2019-07-09 14:09:29,004 INFO sqlalchemy.engine.base.Engine (1, 3)\n",
      "2019-07-09 14:09:29,006 INFO sqlalchemy.engine.base.Engine COMMIT\n"
     ]
    },
    {
     "data": {
      "text/plain": [
       "<sqlalchemy.engine.result.ResultProxy at 0x1bb034c8a58>"
      ]
     },
     "execution_count": 56,
     "metadata": {},
     "output_type": "execute_result"
    }
   ],
   "source": [
    "from sqlalchemy import update\n",
    "\n",
    "conn.execute(track.update().values(genre_id=2).where(track.c.id==2))\n",
    "conn.execute(track.update().values(genre_id=1).where(track.c.id==3))"
   ]
  },
  {
   "cell_type": "code",
   "execution_count": null,
   "metadata": {},
   "outputs": [],
   "source": [
    "trackResult = conn.execute"
   ]
  },
  {
   "cell_type": "code",
   "execution_count": 57,
   "metadata": {},
   "outputs": [
    {
     "name": "stdout",
     "output_type": "stream",
     "text": [
      "2019-07-09 14:11:39,148 INFO sqlalchemy.engine.base.Engine SELECT \"Track\".id, \"Track\".title, \"Track\".length, \"Track\".rating, \"Track\".count, \"Track\".album_id, \"Track\".genre_id \n",
      "FROM \"Track\" \n",
      "WHERE \"Track\".album_id = ? AND (\"Track\".genre_id = ? OR \"Track\".genre_id = ?)\n",
      "2019-07-09 14:11:39,149 INFO sqlalchemy.engine.base.Engine (1, 1, 2)\n",
      "(1, 'Black Dog', 297, 5, 0, 1, 1)\n",
      "(2, 'Stairway', 482, 5, 0, 1, 2)\n"
     ]
    }
   ],
   "source": [
    "trackResult = conn.execute(select([track])\n",
    "                          .where(\n",
    "                          and_(track.c.album_id == 1,\n",
    "                               or_(track.c.genre_id == 1,\n",
    "                                  track.c.genre_id==2)\n",
    "                              )\n",
    "                          )\n",
    "                          )\n",
    "for row in trackResult:\n",
    "    print(row)"
   ]
  },
  {
   "cell_type": "code",
   "execution_count": 58,
   "metadata": {},
   "outputs": [
    {
     "name": "stdout",
     "output_type": "stream",
     "text": [
      "\"Track\" JOIN \"Album\" ON \"Album\".id = \"Track\".album_id\n"
     ]
    }
   ],
   "source": [
    "print(track.join(album))"
   ]
  },
  {
   "cell_type": "code",
   "execution_count": 59,
   "metadata": {},
   "outputs": [
    {
     "name": "stdout",
     "output_type": "stream",
     "text": [
      "2019-07-09 14:12:23,557 INFO sqlalchemy.engine.base.Engine SELECT \"Track\".id, \"Track\".title, \"Track\".length, \"Track\".rating, \"Track\".count, \"Track\".album_id, \"Track\".genre_id \n",
      "FROM \"Track\" JOIN \"Album\" ON \"Album\".id = \"Track\".album_id\n",
      "2019-07-09 14:12:23,559 INFO sqlalchemy.engine.base.Engine ()\n"
     ]
    }
   ],
   "source": [
    "result = conn.execute(track.select()\n",
    "                     .select_from(track.join(album)))"
   ]
  },
  {
   "cell_type": "code",
   "execution_count": 60,
   "metadata": {},
   "outputs": [
    {
     "name": "stdout",
     "output_type": "stream",
     "text": [
      "(1, 'Black Dog', 297, 5, 0, 1, 1)\n",
      "(2, 'Stairway', 482, 5, 0, 1, 2)\n",
      "(3, 'About to rock', 313, 5, 0, 2, 1)\n",
      "(4, 'Who Mad Who', 297, 5, 0, 2, 2)\n"
     ]
    }
   ],
   "source": [
    "for row in result.fetchall():\n",
    "    print(row)"
   ]
  },
  {
   "cell_type": "code",
   "execution_count": 61,
   "metadata": {},
   "outputs": [
    {
     "name": "stdout",
     "output_type": "stream",
     "text": [
      "2019-07-09 14:13:00,325 INFO sqlalchemy.engine.base.Engine SELECT \"Track\".id, \"Track\".title, \"Track\".length, \"Track\".rating, \"Track\".count, \"Track\".album_id, \"Track\".genre_id \n",
      "FROM \"Track\" JOIN \"Album\" ON \"Album\".id = \"Track\".album_id \n",
      "WHERE \"Album\".id = ?\n",
      "2019-07-09 14:13:00,327 INFO sqlalchemy.engine.base.Engine (1,)\n"
     ]
    }
   ],
   "source": [
    "result = conn.execute(track\n",
    "                     .select()\n",
    "                     .select_from(track.join(album))\n",
    "                     .where(album.c.id == 1))"
   ]
  },
  {
   "cell_type": "code",
   "execution_count": 62,
   "metadata": {},
   "outputs": [
    {
     "name": "stdout",
     "output_type": "stream",
     "text": [
      "(1, 'Black Dog', 297, 5, 0, 1, 1)\n",
      "(2, 'Stairway', 482, 5, 0, 1, 2)\n"
     ]
    }
   ],
   "source": [
    "for row in result.fetchall():\n",
    "    print(row)"
   ]
  },
  {
   "cell_type": "code",
   "execution_count": 63,
   "metadata": {},
   "outputs": [
    {
     "name": "stdout",
     "output_type": "stream",
     "text": [
      "\"Track\" JOIN \"Album\" ON \"Album\".id = \"Track\".album_id JOIN \"Genre\" ON \"Genre\".id = \"Track\".genre_id\n"
     ]
    }
   ],
   "source": [
    "print(track.join(album).join(genre))"
   ]
  },
  {
   "cell_type": "code",
   "execution_count": 64,
   "metadata": {},
   "outputs": [
    {
     "name": "stdout",
     "output_type": "stream",
     "text": [
      "\"Track\" JOIN \"Album\" ON \"Album\".id = \"Track\".album_id JOIN \"Artist\" ON \"Artist\".id = \"Album\".artist_id\n"
     ]
    }
   ],
   "source": [
    "print(track.join(album).join(artist))"
   ]
  },
  {
   "cell_type": "code",
   "execution_count": 65,
   "metadata": {},
   "outputs": [
    {
     "name": "stdout",
     "output_type": "stream",
     "text": [
      "\"Track\" JOIN \"Album\" ON \"Album\".id = \"Track\".album_id JOIN \"Genre\" ON \"Genre\".id = \"Track\".genre_id JOIN \"Artist\" ON \"Artist\".id = \"Album\".artist_id\n"
     ]
    }
   ],
   "source": [
    "print(track.join(album).join(genre).join(artist))"
   ]
  },
  {
   "cell_type": "code",
   "execution_count": 66,
   "metadata": {},
   "outputs": [
    {
     "name": "stdout",
     "output_type": "stream",
     "text": [
      "2019-07-09 14:15:06,017 INFO sqlalchemy.engine.base.Engine SELECT \"Track\".title, \"Album\".title, \"Genre\".name, \"Artist\".name \n",
      "FROM \"Track\" JOIN \"Album\" ON \"Album\".id = \"Track\".album_id JOIN \"Genre\" ON \"Genre\".id = \"Track\".genre_id JOIN \"Artist\" ON \"Artist\".id = \"Album\".artist_id\n",
      "2019-07-09 14:15:06,018 INFO sqlalchemy.engine.base.Engine ()\n"
     ]
    }
   ],
   "source": [
    "result = conn.execute(select([track.c.title, album.c.title, genre.c.name, artist.c.name])\n",
    "                     .select_from(track.join(album).join(genre).join(artist)))"
   ]
  },
  {
   "cell_type": "code",
   "execution_count": 67,
   "metadata": {},
   "outputs": [
    {
     "name": "stdout",
     "output_type": "stream",
     "text": [
      "('Black Dog', 'IV', 'Rock', 'Led Zepplin')\n",
      "('Stairway', 'IV', 'Metal', 'Led Zepplin')\n",
      "('About to rock', 'Who Made Who', 'Rock', 'AC/DC')\n",
      "('Who Mad Who', 'Who Made Who', 'Metal', 'AC/DC')\n"
     ]
    }
   ],
   "source": [
    "for row in result.fetchall():\n",
    "    print(row)"
   ]
  },
  {
   "cell_type": "code",
   "execution_count": null,
   "metadata": {},
   "outputs": [],
   "source": []
  },
  {
   "cell_type": "code",
   "execution_count": 69,
   "metadata": {},
   "outputs": [
    {
     "name": "stdout",
     "output_type": "stream",
     "text": [
      "2019-07-09 14:17:52,093 INFO sqlalchemy.engine.base.Engine SELECT \"Track\".id, \"Track\".title, \"Track\".length, \"Track\".rating, \"Track\".count, \"Track\".album_id, \"Track\".genre_id \n",
      "FROM \"Track\" JOIN \"Album\" ON \"Album\".id = \"Track\".album_id JOIN \"Genre\" ON \"Genre\".id = \"Track\".genre_id JOIN \"Artist\" ON \"Artist\".id = \"Album\".artist_id \n",
      "WHERE \"Genre\".id = ? AND \"Artist\".id = ?\n",
      "2019-07-09 14:17:52,095 INFO sqlalchemy.engine.base.Engine (1, 2)\n",
      "(3, 'About to rock', 313, 5, 0, 2, 1)\n"
     ]
    }
   ],
   "source": [
    "result = conn.execute(track\n",
    "                     .select()\n",
    "                     .select_from(track.join(album).join(genre).join(artist))\n",
    "                     .where(\n",
    "                         and_(\n",
    "                             genre.c.id == 1,\n",
    "                             artist.c.id == 2\n",
    "                         )\n",
    "                     )\n",
    "                     )\n",
    "\n",
    "for row in result:\n",
    "    print(row)"
   ]
  },
  {
   "cell_type": "code",
   "execution_count": 77,
   "metadata": {},
   "outputs": [],
   "source": [
    "tables = metadata.tables\n",
    "for table in tables:\n",
    "    print(table)"
   ]
  },
  {
   "cell_type": "code",
   "execution_count": 78,
   "metadata": {},
   "outputs": [
    {
     "ename": "KeyError",
     "evalue": "'Track'",
     "output_type": "error",
     "traceback": [
      "\u001b[1;31m---------------------------------------------------------------------------\u001b[0m",
      "\u001b[1;31mKeyError\u001b[0m                                  Traceback (most recent call last)",
      "\u001b[1;32m<ipython-input-78-ff03a3076fd0>\u001b[0m in \u001b[0;36m<module>\u001b[1;34m\u001b[0m\n\u001b[1;32m----> 1\u001b[1;33m \u001b[0mtrack\u001b[0m \u001b[1;33m=\u001b[0m \u001b[0mmetadata\u001b[0m\u001b[1;33m.\u001b[0m\u001b[0mtables\u001b[0m\u001b[1;33m[\u001b[0m\u001b[1;34m\"Track\"\u001b[0m\u001b[1;33m]\u001b[0m\u001b[1;33m\u001b[0m\u001b[1;33m\u001b[0m\u001b[0m\n\u001b[0m",
      "\u001b[1;31mKeyError\u001b[0m: 'Track'"
     ]
    }
   ],
   "source": [
    "track = metadata.tables[\"Track\"]"
   ]
  },
  {
   "cell_type": "code",
   "execution_count": 73,
   "metadata": {},
   "outputs": [
    {
     "data": {
      "text/plain": [
       "Table('Track', MetaData(bind=None), Column('id', Integer(), table=<Track>, primary_key=True, nullable=False), Column('title', String(), table=<Track>, nullable=False), Column('length', Integer(), table=<Track>, nullable=False), Column('rating', Integer(), table=<Track>, nullable=False), Column('count', Integer(), table=<Track>, nullable=False), Column('album_id', Integer(), ForeignKey('Album.id'), table=<Track>), Column('genre_id', Integer(), ForeignKey('Genre.id'), table=<Track>), schema=None)"
      ]
     },
     "execution_count": 73,
     "metadata": {},
     "output_type": "execute_result"
    }
   ],
   "source": [
    "track"
   ]
  },
  {
   "cell_type": "code",
   "execution_count": 79,
   "metadata": {},
   "outputs": [
    {
     "ename": "StatementError",
     "evalue": "(sqlalchemy.exc.ResourceClosedError) This Connection is closed\n[SQL: SELECT \"Track\".id, \"Track\".title, \"Track\".length, \"Track\".rating, \"Track\".count, \"Track\".album_id, \"Track\".genre_id \nFROM \"Track\"]",
     "output_type": "error",
     "traceback": [
      "\u001b[1;31m---------------------------------------------------------------------------\u001b[0m",
      "\u001b[1;31mResourceClosedError\u001b[0m                       Traceback (most recent call last)",
      "\u001b[1;32m~\\Anaconda3\\lib\\site-packages\\sqlalchemy\\engine\\base.py\u001b[0m in \u001b[0;36m_execute_context\u001b[1;34m(self, dialect, constructor, statement, parameters, *args)\u001b[0m\n\u001b[0;32m   1176\u001b[0m             \u001b[1;32mif\u001b[0m \u001b[0mconn\u001b[0m \u001b[1;32mis\u001b[0m \u001b[1;32mNone\u001b[0m\u001b[1;33m:\u001b[0m\u001b[1;33m\u001b[0m\u001b[1;33m\u001b[0m\u001b[0m\n\u001b[1;32m-> 1177\u001b[1;33m                 \u001b[0mconn\u001b[0m \u001b[1;33m=\u001b[0m \u001b[0mself\u001b[0m\u001b[1;33m.\u001b[0m\u001b[0m_revalidate_connection\u001b[0m\u001b[1;33m(\u001b[0m\u001b[1;33m)\u001b[0m\u001b[1;33m\u001b[0m\u001b[1;33m\u001b[0m\u001b[0m\n\u001b[0m\u001b[0;32m   1178\u001b[0m \u001b[1;33m\u001b[0m\u001b[0m\n",
      "\u001b[1;32m~\\Anaconda3\\lib\\site-packages\\sqlalchemy\\engine\\base.py\u001b[0m in \u001b[0;36m_revalidate_connection\u001b[1;34m(self)\u001b[0m\n\u001b[0;32m    468\u001b[0m             \u001b[1;32mreturn\u001b[0m \u001b[0mself\u001b[0m\u001b[1;33m.\u001b[0m\u001b[0m__connection\u001b[0m\u001b[1;33m\u001b[0m\u001b[1;33m\u001b[0m\u001b[0m\n\u001b[1;32m--> 469\u001b[1;33m         \u001b[1;32mraise\u001b[0m \u001b[0mexc\u001b[0m\u001b[1;33m.\u001b[0m\u001b[0mResourceClosedError\u001b[0m\u001b[1;33m(\u001b[0m\u001b[1;34m\"This Connection is closed\"\u001b[0m\u001b[1;33m)\u001b[0m\u001b[1;33m\u001b[0m\u001b[1;33m\u001b[0m\u001b[0m\n\u001b[0m\u001b[0;32m    470\u001b[0m \u001b[1;33m\u001b[0m\u001b[0m\n",
      "\u001b[1;31mResourceClosedError\u001b[0m: This Connection is closed",
      "\nThe above exception was the direct cause of the following exception:\n",
      "\u001b[1;31mStatementError\u001b[0m                            Traceback (most recent call last)",
      "\u001b[1;32m<ipython-input-79-41a1feb4b06f>\u001b[0m in \u001b[0;36m<module>\u001b[1;34m\u001b[0m\n\u001b[1;32m----> 1\u001b[1;33m \u001b[1;32mfor\u001b[0m \u001b[0mrow\u001b[0m \u001b[1;32min\u001b[0m \u001b[0mconn\u001b[0m\u001b[1;33m.\u001b[0m\u001b[0mexecute\u001b[0m\u001b[1;33m(\u001b[0m\u001b[0mtrack\u001b[0m\u001b[1;33m.\u001b[0m\u001b[0mselect\u001b[0m\u001b[1;33m(\u001b[0m\u001b[1;33m)\u001b[0m\u001b[1;33m)\u001b[0m\u001b[1;33m.\u001b[0m\u001b[0mfetchall\u001b[0m\u001b[1;33m(\u001b[0m\u001b[1;33m)\u001b[0m\u001b[1;33m:\u001b[0m\u001b[1;33m\u001b[0m\u001b[1;33m\u001b[0m\u001b[0m\n\u001b[0m\u001b[0;32m      2\u001b[0m     \u001b[0mprint\u001b[0m\u001b[1;33m(\u001b[0m\u001b[0mrow\u001b[0m\u001b[1;33m)\u001b[0m\u001b[1;33m\u001b[0m\u001b[1;33m\u001b[0m\u001b[0m\n",
      "\u001b[1;32m~\\Anaconda3\\lib\\site-packages\\sqlalchemy\\engine\\base.py\u001b[0m in \u001b[0;36mexecute\u001b[1;34m(self, object_, *multiparams, **params)\u001b[0m\n\u001b[0;32m    986\u001b[0m             \u001b[1;32mraise\u001b[0m \u001b[0mexc\u001b[0m\u001b[1;33m.\u001b[0m\u001b[0mObjectNotExecutableError\u001b[0m\u001b[1;33m(\u001b[0m\u001b[0mobject_\u001b[0m\u001b[1;33m)\u001b[0m\u001b[1;33m\u001b[0m\u001b[1;33m\u001b[0m\u001b[0m\n\u001b[0;32m    987\u001b[0m         \u001b[1;32melse\u001b[0m\u001b[1;33m:\u001b[0m\u001b[1;33m\u001b[0m\u001b[1;33m\u001b[0m\u001b[0m\n\u001b[1;32m--> 988\u001b[1;33m             \u001b[1;32mreturn\u001b[0m \u001b[0mmeth\u001b[0m\u001b[1;33m(\u001b[0m\u001b[0mself\u001b[0m\u001b[1;33m,\u001b[0m \u001b[0mmultiparams\u001b[0m\u001b[1;33m,\u001b[0m \u001b[0mparams\u001b[0m\u001b[1;33m)\u001b[0m\u001b[1;33m\u001b[0m\u001b[1;33m\u001b[0m\u001b[0m\n\u001b[0m\u001b[0;32m    989\u001b[0m \u001b[1;33m\u001b[0m\u001b[0m\n\u001b[0;32m    990\u001b[0m     \u001b[1;32mdef\u001b[0m \u001b[0m_execute_function\u001b[0m\u001b[1;33m(\u001b[0m\u001b[0mself\u001b[0m\u001b[1;33m,\u001b[0m \u001b[0mfunc\u001b[0m\u001b[1;33m,\u001b[0m \u001b[0mmultiparams\u001b[0m\u001b[1;33m,\u001b[0m \u001b[0mparams\u001b[0m\u001b[1;33m)\u001b[0m\u001b[1;33m:\u001b[0m\u001b[1;33m\u001b[0m\u001b[1;33m\u001b[0m\u001b[0m\n",
      "\u001b[1;32m~\\Anaconda3\\lib\\site-packages\\sqlalchemy\\sql\\elements.py\u001b[0m in \u001b[0;36m_execute_on_connection\u001b[1;34m(self, connection, multiparams, params)\u001b[0m\n\u001b[0;32m    285\u001b[0m     \u001b[1;32mdef\u001b[0m \u001b[0m_execute_on_connection\u001b[0m\u001b[1;33m(\u001b[0m\u001b[0mself\u001b[0m\u001b[1;33m,\u001b[0m \u001b[0mconnection\u001b[0m\u001b[1;33m,\u001b[0m \u001b[0mmultiparams\u001b[0m\u001b[1;33m,\u001b[0m \u001b[0mparams\u001b[0m\u001b[1;33m)\u001b[0m\u001b[1;33m:\u001b[0m\u001b[1;33m\u001b[0m\u001b[1;33m\u001b[0m\u001b[0m\n\u001b[0;32m    286\u001b[0m         \u001b[1;32mif\u001b[0m \u001b[0mself\u001b[0m\u001b[1;33m.\u001b[0m\u001b[0msupports_execution\u001b[0m\u001b[1;33m:\u001b[0m\u001b[1;33m\u001b[0m\u001b[1;33m\u001b[0m\u001b[0m\n\u001b[1;32m--> 287\u001b[1;33m             \u001b[1;32mreturn\u001b[0m \u001b[0mconnection\u001b[0m\u001b[1;33m.\u001b[0m\u001b[0m_execute_clauseelement\u001b[0m\u001b[1;33m(\u001b[0m\u001b[0mself\u001b[0m\u001b[1;33m,\u001b[0m \u001b[0mmultiparams\u001b[0m\u001b[1;33m,\u001b[0m \u001b[0mparams\u001b[0m\u001b[1;33m)\u001b[0m\u001b[1;33m\u001b[0m\u001b[1;33m\u001b[0m\u001b[0m\n\u001b[0m\u001b[0;32m    288\u001b[0m         \u001b[1;32melse\u001b[0m\u001b[1;33m:\u001b[0m\u001b[1;33m\u001b[0m\u001b[1;33m\u001b[0m\u001b[0m\n\u001b[0;32m    289\u001b[0m             \u001b[1;32mraise\u001b[0m \u001b[0mexc\u001b[0m\u001b[1;33m.\u001b[0m\u001b[0mObjectNotExecutableError\u001b[0m\u001b[1;33m(\u001b[0m\u001b[0mself\u001b[0m\u001b[1;33m)\u001b[0m\u001b[1;33m\u001b[0m\u001b[1;33m\u001b[0m\u001b[0m\n",
      "\u001b[1;32m~\\Anaconda3\\lib\\site-packages\\sqlalchemy\\engine\\base.py\u001b[0m in \u001b[0;36m_execute_clauseelement\u001b[1;34m(self, elem, multiparams, params)\u001b[0m\n\u001b[0;32m   1105\u001b[0m             \u001b[0mdistilled_params\u001b[0m\u001b[1;33m,\u001b[0m\u001b[1;33m\u001b[0m\u001b[1;33m\u001b[0m\u001b[0m\n\u001b[0;32m   1106\u001b[0m             \u001b[0mcompiled_sql\u001b[0m\u001b[1;33m,\u001b[0m\u001b[1;33m\u001b[0m\u001b[1;33m\u001b[0m\u001b[0m\n\u001b[1;32m-> 1107\u001b[1;33m             \u001b[0mdistilled_params\u001b[0m\u001b[1;33m,\u001b[0m\u001b[1;33m\u001b[0m\u001b[1;33m\u001b[0m\u001b[0m\n\u001b[0m\u001b[0;32m   1108\u001b[0m         )\n\u001b[0;32m   1109\u001b[0m         \u001b[1;32mif\u001b[0m \u001b[0mself\u001b[0m\u001b[1;33m.\u001b[0m\u001b[0m_has_events\u001b[0m \u001b[1;32mor\u001b[0m \u001b[0mself\u001b[0m\u001b[1;33m.\u001b[0m\u001b[0mengine\u001b[0m\u001b[1;33m.\u001b[0m\u001b[0m_has_events\u001b[0m\u001b[1;33m:\u001b[0m\u001b[1;33m\u001b[0m\u001b[1;33m\u001b[0m\u001b[0m\n",
      "\u001b[1;32m~\\Anaconda3\\lib\\site-packages\\sqlalchemy\\engine\\base.py\u001b[0m in \u001b[0;36m_execute_context\u001b[1;34m(self, dialect, constructor, statement, parameters, *args)\u001b[0m\n\u001b[0;32m   1180\u001b[0m         \u001b[1;32mexcept\u001b[0m \u001b[0mBaseException\u001b[0m \u001b[1;32mas\u001b[0m \u001b[0me\u001b[0m\u001b[1;33m:\u001b[0m\u001b[1;33m\u001b[0m\u001b[1;33m\u001b[0m\u001b[0m\n\u001b[0;32m   1181\u001b[0m             self._handle_dbapi_exception(\n\u001b[1;32m-> 1182\u001b[1;33m                 \u001b[0me\u001b[0m\u001b[1;33m,\u001b[0m \u001b[0mutil\u001b[0m\u001b[1;33m.\u001b[0m\u001b[0mtext_type\u001b[0m\u001b[1;33m(\u001b[0m\u001b[0mstatement\u001b[0m\u001b[1;33m)\u001b[0m\u001b[1;33m,\u001b[0m \u001b[0mparameters\u001b[0m\u001b[1;33m,\u001b[0m \u001b[1;32mNone\u001b[0m\u001b[1;33m,\u001b[0m \u001b[1;32mNone\u001b[0m\u001b[1;33m\u001b[0m\u001b[1;33m\u001b[0m\u001b[0m\n\u001b[0m\u001b[0;32m   1183\u001b[0m             )\n\u001b[0;32m   1184\u001b[0m \u001b[1;33m\u001b[0m\u001b[0m\n",
      "\u001b[1;32m~\\Anaconda3\\lib\\site-packages\\sqlalchemy\\engine\\base.py\u001b[0m in \u001b[0;36m_handle_dbapi_exception\u001b[1;34m(self, e, statement, parameters, cursor, context)\u001b[0m\n\u001b[0;32m   1464\u001b[0m                 \u001b[0mutil\u001b[0m\u001b[1;33m.\u001b[0m\u001b[0mraise_from_cause\u001b[0m\u001b[1;33m(\u001b[0m\u001b[0mnewraise\u001b[0m\u001b[1;33m,\u001b[0m \u001b[0mexc_info\u001b[0m\u001b[1;33m)\u001b[0m\u001b[1;33m\u001b[0m\u001b[1;33m\u001b[0m\u001b[0m\n\u001b[0;32m   1465\u001b[0m             \u001b[1;32melif\u001b[0m \u001b[0mshould_wrap\u001b[0m\u001b[1;33m:\u001b[0m\u001b[1;33m\u001b[0m\u001b[1;33m\u001b[0m\u001b[0m\n\u001b[1;32m-> 1466\u001b[1;33m                 \u001b[0mutil\u001b[0m\u001b[1;33m.\u001b[0m\u001b[0mraise_from_cause\u001b[0m\u001b[1;33m(\u001b[0m\u001b[0msqlalchemy_exception\u001b[0m\u001b[1;33m,\u001b[0m \u001b[0mexc_info\u001b[0m\u001b[1;33m)\u001b[0m\u001b[1;33m\u001b[0m\u001b[1;33m\u001b[0m\u001b[0m\n\u001b[0m\u001b[0;32m   1467\u001b[0m             \u001b[1;32melse\u001b[0m\u001b[1;33m:\u001b[0m\u001b[1;33m\u001b[0m\u001b[1;33m\u001b[0m\u001b[0m\n\u001b[0;32m   1468\u001b[0m                 \u001b[0mutil\u001b[0m\u001b[1;33m.\u001b[0m\u001b[0mreraise\u001b[0m\u001b[1;33m(\u001b[0m\u001b[1;33m*\u001b[0m\u001b[0mexc_info\u001b[0m\u001b[1;33m)\u001b[0m\u001b[1;33m\u001b[0m\u001b[1;33m\u001b[0m\u001b[0m\n",
      "\u001b[1;32m~\\Anaconda3\\lib\\site-packages\\sqlalchemy\\util\\compat.py\u001b[0m in \u001b[0;36mraise_from_cause\u001b[1;34m(exception, exc_info)\u001b[0m\n\u001b[0;32m    381\u001b[0m     \u001b[0mexc_type\u001b[0m\u001b[1;33m,\u001b[0m \u001b[0mexc_value\u001b[0m\u001b[1;33m,\u001b[0m \u001b[0mexc_tb\u001b[0m \u001b[1;33m=\u001b[0m \u001b[0mexc_info\u001b[0m\u001b[1;33m\u001b[0m\u001b[1;33m\u001b[0m\u001b[0m\n\u001b[0;32m    382\u001b[0m     \u001b[0mcause\u001b[0m \u001b[1;33m=\u001b[0m \u001b[0mexc_value\u001b[0m \u001b[1;32mif\u001b[0m \u001b[0mexc_value\u001b[0m \u001b[1;32mis\u001b[0m \u001b[1;32mnot\u001b[0m \u001b[0mexception\u001b[0m \u001b[1;32melse\u001b[0m \u001b[1;32mNone\u001b[0m\u001b[1;33m\u001b[0m\u001b[1;33m\u001b[0m\u001b[0m\n\u001b[1;32m--> 383\u001b[1;33m     \u001b[0mreraise\u001b[0m\u001b[1;33m(\u001b[0m\u001b[0mtype\u001b[0m\u001b[1;33m(\u001b[0m\u001b[0mexception\u001b[0m\u001b[1;33m)\u001b[0m\u001b[1;33m,\u001b[0m \u001b[0mexception\u001b[0m\u001b[1;33m,\u001b[0m \u001b[0mtb\u001b[0m\u001b[1;33m=\u001b[0m\u001b[0mexc_tb\u001b[0m\u001b[1;33m,\u001b[0m \u001b[0mcause\u001b[0m\u001b[1;33m=\u001b[0m\u001b[0mcause\u001b[0m\u001b[1;33m)\u001b[0m\u001b[1;33m\u001b[0m\u001b[1;33m\u001b[0m\u001b[0m\n\u001b[0m\u001b[0;32m    384\u001b[0m \u001b[1;33m\u001b[0m\u001b[0m\n\u001b[0;32m    385\u001b[0m \u001b[1;33m\u001b[0m\u001b[0m\n",
      "\u001b[1;32m~\\Anaconda3\\lib\\site-packages\\sqlalchemy\\util\\compat.py\u001b[0m in \u001b[0;36mreraise\u001b[1;34m(tp, value, tb, cause)\u001b[0m\n\u001b[0;32m    126\u001b[0m             \u001b[0mvalue\u001b[0m\u001b[1;33m.\u001b[0m\u001b[0m__cause__\u001b[0m \u001b[1;33m=\u001b[0m \u001b[0mcause\u001b[0m\u001b[1;33m\u001b[0m\u001b[1;33m\u001b[0m\u001b[0m\n\u001b[0;32m    127\u001b[0m         \u001b[1;32mif\u001b[0m \u001b[0mvalue\u001b[0m\u001b[1;33m.\u001b[0m\u001b[0m__traceback__\u001b[0m \u001b[1;32mis\u001b[0m \u001b[1;32mnot\u001b[0m \u001b[0mtb\u001b[0m\u001b[1;33m:\u001b[0m\u001b[1;33m\u001b[0m\u001b[1;33m\u001b[0m\u001b[0m\n\u001b[1;32m--> 128\u001b[1;33m             \u001b[1;32mraise\u001b[0m \u001b[0mvalue\u001b[0m\u001b[1;33m.\u001b[0m\u001b[0mwith_traceback\u001b[0m\u001b[1;33m(\u001b[0m\u001b[0mtb\u001b[0m\u001b[1;33m)\u001b[0m\u001b[1;33m\u001b[0m\u001b[1;33m\u001b[0m\u001b[0m\n\u001b[0m\u001b[0;32m    129\u001b[0m         \u001b[1;32mraise\u001b[0m \u001b[0mvalue\u001b[0m\u001b[1;33m\u001b[0m\u001b[1;33m\u001b[0m\u001b[0m\n\u001b[0;32m    130\u001b[0m \u001b[1;33m\u001b[0m\u001b[0m\n",
      "\u001b[1;32m~\\Anaconda3\\lib\\site-packages\\sqlalchemy\\engine\\base.py\u001b[0m in \u001b[0;36m_execute_context\u001b[1;34m(self, dialect, constructor, statement, parameters, *args)\u001b[0m\n\u001b[0;32m   1175\u001b[0m                 \u001b[0mconn\u001b[0m \u001b[1;33m=\u001b[0m \u001b[1;32mNone\u001b[0m\u001b[1;33m\u001b[0m\u001b[1;33m\u001b[0m\u001b[0m\n\u001b[0;32m   1176\u001b[0m             \u001b[1;32mif\u001b[0m \u001b[0mconn\u001b[0m \u001b[1;32mis\u001b[0m \u001b[1;32mNone\u001b[0m\u001b[1;33m:\u001b[0m\u001b[1;33m\u001b[0m\u001b[1;33m\u001b[0m\u001b[0m\n\u001b[1;32m-> 1177\u001b[1;33m                 \u001b[0mconn\u001b[0m \u001b[1;33m=\u001b[0m \u001b[0mself\u001b[0m\u001b[1;33m.\u001b[0m\u001b[0m_revalidate_connection\u001b[0m\u001b[1;33m(\u001b[0m\u001b[1;33m)\u001b[0m\u001b[1;33m\u001b[0m\u001b[1;33m\u001b[0m\u001b[0m\n\u001b[0m\u001b[0;32m   1178\u001b[0m \u001b[1;33m\u001b[0m\u001b[0m\n\u001b[0;32m   1179\u001b[0m             \u001b[0mcontext\u001b[0m \u001b[1;33m=\u001b[0m \u001b[0mconstructor\u001b[0m\u001b[1;33m(\u001b[0m\u001b[0mdialect\u001b[0m\u001b[1;33m,\u001b[0m \u001b[0mself\u001b[0m\u001b[1;33m,\u001b[0m \u001b[0mconn\u001b[0m\u001b[1;33m,\u001b[0m \u001b[1;33m*\u001b[0m\u001b[0margs\u001b[0m\u001b[1;33m)\u001b[0m\u001b[1;33m\u001b[0m\u001b[1;33m\u001b[0m\u001b[0m\n",
      "\u001b[1;32m~\\Anaconda3\\lib\\site-packages\\sqlalchemy\\engine\\base.py\u001b[0m in \u001b[0;36m_revalidate_connection\u001b[1;34m(self)\u001b[0m\n\u001b[0;32m    467\u001b[0m             \u001b[0mself\u001b[0m\u001b[1;33m.\u001b[0m\u001b[0m__invalid\u001b[0m \u001b[1;33m=\u001b[0m \u001b[1;32mFalse\u001b[0m\u001b[1;33m\u001b[0m\u001b[1;33m\u001b[0m\u001b[0m\n\u001b[0;32m    468\u001b[0m             \u001b[1;32mreturn\u001b[0m \u001b[0mself\u001b[0m\u001b[1;33m.\u001b[0m\u001b[0m__connection\u001b[0m\u001b[1;33m\u001b[0m\u001b[1;33m\u001b[0m\u001b[0m\n\u001b[1;32m--> 469\u001b[1;33m         \u001b[1;32mraise\u001b[0m \u001b[0mexc\u001b[0m\u001b[1;33m.\u001b[0m\u001b[0mResourceClosedError\u001b[0m\u001b[1;33m(\u001b[0m\u001b[1;34m\"This Connection is closed\"\u001b[0m\u001b[1;33m)\u001b[0m\u001b[1;33m\u001b[0m\u001b[1;33m\u001b[0m\u001b[0m\n\u001b[0m\u001b[0;32m    470\u001b[0m \u001b[1;33m\u001b[0m\u001b[0m\n\u001b[0;32m    471\u001b[0m     \u001b[1;33m@\u001b[0m\u001b[0mproperty\u001b[0m\u001b[1;33m\u001b[0m\u001b[1;33m\u001b[0m\u001b[0m\n",
      "\u001b[1;31mStatementError\u001b[0m: (sqlalchemy.exc.ResourceClosedError) This Connection is closed\n[SQL: SELECT \"Track\".id, \"Track\".title, \"Track\".length, \"Track\".rating, \"Track\".count, \"Track\".album_id, \"Track\".genre_id \nFROM \"Track\"]"
     ]
    }
   ],
   "source": [
    "for row in conn.execute(track.select()).fetchall():\n",
    "    print(row)"
   ]
  },
  {
   "cell_type": "code",
   "execution_count": 80,
   "metadata": {},
   "outputs": [],
   "source": [
    "conn.close() # engine 끊음"
   ]
  },
  {
   "cell_type": "code",
   "execution_count": 81,
   "metadata": {},
   "outputs": [
    {
     "name": "stdout",
     "output_type": "stream",
     "text": [
      "2019-07-09 14:20:55,256 INFO sqlalchemy.engine.base.Engine SELECT name FROM sqlite_master WHERE type='table' ORDER BY name\n",
      "2019-07-09 14:20:55,257 INFO sqlalchemy.engine.base.Engine ()\n",
      "Album\n",
      "Artist\n",
      "Genre\n",
      "Track\n"
     ]
    }
   ],
   "source": [
    "for table in engine.table_names():\n",
    "    print(table) # 엔진(DBMS)에는 남아있음."
   ]
  },
  {
   "cell_type": "code",
   "execution_count": 76,
   "metadata": {},
   "outputs": [],
   "source": [
    "metadata.clear() # 메모리상에는 없음"
   ]
  },
  {
   "cell_type": "code",
   "execution_count": 82,
   "metadata": {},
   "outputs": [
    {
     "name": "stdout",
     "output_type": "stream",
     "text": [
      "2019-07-09 14:23:15,747 INFO sqlalchemy.engine.base.Engine SELECT CAST('test plain returns' AS VARCHAR(60)) AS anon_1\n",
      "2019-07-09 14:23:15,749 INFO sqlalchemy.engine.base.Engine ()\n",
      "2019-07-09 14:23:15,750 INFO sqlalchemy.engine.base.Engine SELECT CAST('test unicode returns' AS VARCHAR(60)) AS anon_1\n",
      "2019-07-09 14:23:15,751 INFO sqlalchemy.engine.base.Engine ()\n"
     ]
    }
   ],
   "source": [
    "engine = create_engine(\"sqlite:///alchemy_core.db\",echo=True)\n",
    "conn = engine.connect()"
   ]
  },
  {
   "cell_type": "code",
   "execution_count": 105,
   "metadata": {},
   "outputs": [
    {
     "name": "stdout",
     "output_type": "stream",
     "text": [
      "2019-07-09 14:25:36,078 INFO sqlalchemy.engine.base.Engine SELECT name FROM sqlite_master WHERE type='table' ORDER BY name\n",
      "2019-07-09 14:25:36,080 INFO sqlalchemy.engine.base.Engine ()\n",
      "2019-07-09 14:25:36,082 INFO sqlalchemy.engine.base.Engine PRAGMA table_info(\"Album\")\n",
      "2019-07-09 14:25:36,083 INFO sqlalchemy.engine.base.Engine ()\n",
      "2019-07-09 14:25:36,086 INFO sqlalchemy.engine.base.Engine SELECT sql FROM  (SELECT * FROM sqlite_master UNION ALL   SELECT * FROM sqlite_temp_master) WHERE name = 'Album' AND type = 'table'\n",
      "2019-07-09 14:25:36,087 INFO sqlalchemy.engine.base.Engine ()\n",
      "2019-07-09 14:25:36,089 INFO sqlalchemy.engine.base.Engine PRAGMA foreign_key_list(\"Album\")\n",
      "2019-07-09 14:25:36,090 INFO sqlalchemy.engine.base.Engine ()\n",
      "2019-07-09 14:25:36,092 INFO sqlalchemy.engine.base.Engine SELECT sql FROM  (SELECT * FROM sqlite_master UNION ALL   SELECT * FROM sqlite_temp_master) WHERE name = 'Album' AND type = 'table'\n",
      "2019-07-09 14:25:36,093 INFO sqlalchemy.engine.base.Engine ()\n",
      "2019-07-09 14:25:36,095 INFO sqlalchemy.engine.base.Engine PRAGMA table_info(\"Artist\")\n",
      "2019-07-09 14:25:36,095 INFO sqlalchemy.engine.base.Engine ()\n",
      "2019-07-09 14:25:36,098 INFO sqlalchemy.engine.base.Engine SELECT sql FROM  (SELECT * FROM sqlite_master UNION ALL   SELECT * FROM sqlite_temp_master) WHERE name = 'Artist' AND type = 'table'\n",
      "2019-07-09 14:25:36,099 INFO sqlalchemy.engine.base.Engine ()\n",
      "2019-07-09 14:25:36,101 INFO sqlalchemy.engine.base.Engine PRAGMA foreign_key_list(\"Artist\")\n",
      "2019-07-09 14:25:36,102 INFO sqlalchemy.engine.base.Engine ()\n",
      "2019-07-09 14:25:36,103 INFO sqlalchemy.engine.base.Engine SELECT sql FROM  (SELECT * FROM sqlite_master UNION ALL   SELECT * FROM sqlite_temp_master) WHERE name = 'Artist' AND type = 'table'\n",
      "2019-07-09 14:25:36,103 INFO sqlalchemy.engine.base.Engine ()\n",
      "2019-07-09 14:25:36,105 INFO sqlalchemy.engine.base.Engine PRAGMA index_list(\"Artist\")\n",
      "2019-07-09 14:25:36,106 INFO sqlalchemy.engine.base.Engine ()\n",
      "2019-07-09 14:25:36,108 INFO sqlalchemy.engine.base.Engine PRAGMA index_list(\"Artist\")\n",
      "2019-07-09 14:25:36,109 INFO sqlalchemy.engine.base.Engine ()\n",
      "2019-07-09 14:25:36,111 INFO sqlalchemy.engine.base.Engine SELECT sql FROM  (SELECT * FROM sqlite_master UNION ALL   SELECT * FROM sqlite_temp_master) WHERE name = 'Artist' AND type = 'table'\n",
      "2019-07-09 14:25:36,112 INFO sqlalchemy.engine.base.Engine ()\n",
      "2019-07-09 14:25:36,114 INFO sqlalchemy.engine.base.Engine PRAGMA index_list(\"Album\")\n",
      "2019-07-09 14:25:36,114 INFO sqlalchemy.engine.base.Engine ()\n",
      "2019-07-09 14:25:36,116 INFO sqlalchemy.engine.base.Engine PRAGMA index_list(\"Album\")\n",
      "2019-07-09 14:25:36,117 INFO sqlalchemy.engine.base.Engine ()\n",
      "2019-07-09 14:25:36,118 INFO sqlalchemy.engine.base.Engine SELECT sql FROM  (SELECT * FROM sqlite_master UNION ALL   SELECT * FROM sqlite_temp_master) WHERE name = 'Album' AND type = 'table'\n",
      "2019-07-09 14:25:36,119 INFO sqlalchemy.engine.base.Engine ()\n",
      "2019-07-09 14:25:36,121 INFO sqlalchemy.engine.base.Engine PRAGMA table_info(\"Genre\")\n",
      "2019-07-09 14:25:36,123 INFO sqlalchemy.engine.base.Engine ()\n",
      "2019-07-09 14:25:36,125 INFO sqlalchemy.engine.base.Engine SELECT sql FROM  (SELECT * FROM sqlite_master UNION ALL   SELECT * FROM sqlite_temp_master) WHERE name = 'Genre' AND type = 'table'\n",
      "2019-07-09 14:25:36,126 INFO sqlalchemy.engine.base.Engine ()\n",
      "2019-07-09 14:25:36,128 INFO sqlalchemy.engine.base.Engine PRAGMA foreign_key_list(\"Genre\")\n",
      "2019-07-09 14:25:36,129 INFO sqlalchemy.engine.base.Engine ()\n",
      "2019-07-09 14:25:36,130 INFO sqlalchemy.engine.base.Engine SELECT sql FROM  (SELECT * FROM sqlite_master UNION ALL   SELECT * FROM sqlite_temp_master) WHERE name = 'Genre' AND type = 'table'\n",
      "2019-07-09 14:25:36,131 INFO sqlalchemy.engine.base.Engine ()\n",
      "2019-07-09 14:25:36,133 INFO sqlalchemy.engine.base.Engine PRAGMA index_list(\"Genre\")\n",
      "2019-07-09 14:25:36,134 INFO sqlalchemy.engine.base.Engine ()\n",
      "2019-07-09 14:25:36,135 INFO sqlalchemy.engine.base.Engine PRAGMA index_list(\"Genre\")\n",
      "2019-07-09 14:25:36,136 INFO sqlalchemy.engine.base.Engine ()\n",
      "2019-07-09 14:25:36,138 INFO sqlalchemy.engine.base.Engine SELECT sql FROM  (SELECT * FROM sqlite_master UNION ALL   SELECT * FROM sqlite_temp_master) WHERE name = 'Genre' AND type = 'table'\n",
      "2019-07-09 14:25:36,139 INFO sqlalchemy.engine.base.Engine ()\n",
      "2019-07-09 14:25:36,140 INFO sqlalchemy.engine.base.Engine PRAGMA table_info(\"Track\")\n",
      "2019-07-09 14:25:36,141 INFO sqlalchemy.engine.base.Engine ()\n",
      "2019-07-09 14:25:36,144 INFO sqlalchemy.engine.base.Engine SELECT sql FROM  (SELECT * FROM sqlite_master UNION ALL   SELECT * FROM sqlite_temp_master) WHERE name = 'Track' AND type = 'table'\n",
      "2019-07-09 14:25:36,144 INFO sqlalchemy.engine.base.Engine ()\n",
      "2019-07-09 14:25:36,147 INFO sqlalchemy.engine.base.Engine PRAGMA foreign_key_list(\"Track\")\n",
      "2019-07-09 14:25:36,148 INFO sqlalchemy.engine.base.Engine ()\n",
      "2019-07-09 14:25:36,150 INFO sqlalchemy.engine.base.Engine SELECT sql FROM  (SELECT * FROM sqlite_master UNION ALL   SELECT * FROM sqlite_temp_master) WHERE name = 'Track' AND type = 'table'\n",
      "2019-07-09 14:25:36,151 INFO sqlalchemy.engine.base.Engine ()\n",
      "2019-07-09 14:25:36,153 INFO sqlalchemy.engine.base.Engine PRAGMA index_list(\"Track\")\n",
      "2019-07-09 14:25:36,155 INFO sqlalchemy.engine.base.Engine ()\n",
      "2019-07-09 14:25:36,157 INFO sqlalchemy.engine.base.Engine PRAGMA index_list(\"Track\")\n",
      "2019-07-09 14:25:36,158 INFO sqlalchemy.engine.base.Engine ()\n",
      "2019-07-09 14:25:36,160 INFO sqlalchemy.engine.base.Engine SELECT sql FROM  (SELECT * FROM sqlite_master UNION ALL   SELECT * FROM sqlite_temp_master) WHERE name = 'Track' AND type = 'table'\n",
      "2019-07-09 14:25:36,161 INFO sqlalchemy.engine.base.Engine ()\n"
     ]
    },
    {
     "name": "stderr",
     "output_type": "stream",
     "text": [
      "C:\\Users\\SeoDongUk\\Anaconda3\\lib\\site-packages\\ipykernel_launcher.py:1: SADeprecationWarning: The MetaData.reflect flag is deprecated and will be removed in a future release.   Please use the MetaData.reflect() method.\n",
      "  \"\"\"Entry point for launching an IPython kernel.\n"
     ]
    }
   ],
   "source": [
    "metadata = MetaData(bind = engine,reflect=True)"
   ]
  },
  {
   "cell_type": "code",
   "execution_count": 109,
   "metadata": {},
   "outputs": [
    {
     "name": "stdout",
     "output_type": "stream",
     "text": [
      "2019-07-09 14:25:53,511 INFO sqlalchemy.engine.base.Engine SELECT name FROM sqlite_master WHERE type='table' ORDER BY name\n",
      "2019-07-09 14:25:53,512 INFO sqlalchemy.engine.base.Engine ()\n",
      "2019-07-09 14:25:53,514 INFO sqlalchemy.engine.base.Engine PRAGMA table_info(\"Album\")\n",
      "2019-07-09 14:25:53,516 INFO sqlalchemy.engine.base.Engine ()\n",
      "2019-07-09 14:25:53,518 INFO sqlalchemy.engine.base.Engine SELECT sql FROM  (SELECT * FROM sqlite_master UNION ALL   SELECT * FROM sqlite_temp_master) WHERE name = 'Album' AND type = 'table'\n",
      "2019-07-09 14:25:53,519 INFO sqlalchemy.engine.base.Engine ()\n",
      "2019-07-09 14:25:53,521 INFO sqlalchemy.engine.base.Engine PRAGMA foreign_key_list(\"Album\")\n",
      "2019-07-09 14:25:53,522 INFO sqlalchemy.engine.base.Engine ()\n",
      "2019-07-09 14:25:53,524 INFO sqlalchemy.engine.base.Engine SELECT sql FROM  (SELECT * FROM sqlite_master UNION ALL   SELECT * FROM sqlite_temp_master) WHERE name = 'Album' AND type = 'table'\n",
      "2019-07-09 14:25:53,525 INFO sqlalchemy.engine.base.Engine ()\n",
      "2019-07-09 14:25:53,527 INFO sqlalchemy.engine.base.Engine PRAGMA table_info(\"Artist\")\n",
      "2019-07-09 14:25:53,529 INFO sqlalchemy.engine.base.Engine ()\n",
      "2019-07-09 14:25:53,530 INFO sqlalchemy.engine.base.Engine SELECT sql FROM  (SELECT * FROM sqlite_master UNION ALL   SELECT * FROM sqlite_temp_master) WHERE name = 'Artist' AND type = 'table'\n",
      "2019-07-09 14:25:53,531 INFO sqlalchemy.engine.base.Engine ()\n",
      "2019-07-09 14:25:53,534 INFO sqlalchemy.engine.base.Engine PRAGMA foreign_key_list(\"Artist\")\n",
      "2019-07-09 14:25:53,535 INFO sqlalchemy.engine.base.Engine ()\n",
      "2019-07-09 14:25:53,536 INFO sqlalchemy.engine.base.Engine SELECT sql FROM  (SELECT * FROM sqlite_master UNION ALL   SELECT * FROM sqlite_temp_master) WHERE name = 'Artist' AND type = 'table'\n",
      "2019-07-09 14:25:53,537 INFO sqlalchemy.engine.base.Engine ()\n",
      "2019-07-09 14:25:53,540 INFO sqlalchemy.engine.base.Engine PRAGMA index_list(\"Artist\")\n",
      "2019-07-09 14:25:53,541 INFO sqlalchemy.engine.base.Engine ()\n",
      "2019-07-09 14:25:53,543 INFO sqlalchemy.engine.base.Engine PRAGMA index_list(\"Artist\")\n",
      "2019-07-09 14:25:53,544 INFO sqlalchemy.engine.base.Engine ()\n",
      "2019-07-09 14:25:53,546 INFO sqlalchemy.engine.base.Engine SELECT sql FROM  (SELECT * FROM sqlite_master UNION ALL   SELECT * FROM sqlite_temp_master) WHERE name = 'Artist' AND type = 'table'\n",
      "2019-07-09 14:25:53,547 INFO sqlalchemy.engine.base.Engine ()\n",
      "2019-07-09 14:25:53,550 INFO sqlalchemy.engine.base.Engine PRAGMA index_list(\"Album\")\n",
      "2019-07-09 14:25:53,551 INFO sqlalchemy.engine.base.Engine ()\n",
      "2019-07-09 14:25:53,554 INFO sqlalchemy.engine.base.Engine PRAGMA index_list(\"Album\")\n",
      "2019-07-09 14:25:53,555 INFO sqlalchemy.engine.base.Engine ()\n",
      "2019-07-09 14:25:53,557 INFO sqlalchemy.engine.base.Engine SELECT sql FROM  (SELECT * FROM sqlite_master UNION ALL   SELECT * FROM sqlite_temp_master) WHERE name = 'Album' AND type = 'table'\n",
      "2019-07-09 14:25:53,558 INFO sqlalchemy.engine.base.Engine ()\n",
      "2019-07-09 14:25:53,561 INFO sqlalchemy.engine.base.Engine PRAGMA table_info(\"Genre\")\n",
      "2019-07-09 14:25:53,562 INFO sqlalchemy.engine.base.Engine ()\n",
      "2019-07-09 14:25:53,564 INFO sqlalchemy.engine.base.Engine SELECT sql FROM  (SELECT * FROM sqlite_master UNION ALL   SELECT * FROM sqlite_temp_master) WHERE name = 'Genre' AND type = 'table'\n",
      "2019-07-09 14:25:53,565 INFO sqlalchemy.engine.base.Engine ()\n",
      "2019-07-09 14:25:53,568 INFO sqlalchemy.engine.base.Engine PRAGMA foreign_key_list(\"Genre\")\n",
      "2019-07-09 14:25:53,569 INFO sqlalchemy.engine.base.Engine ()\n",
      "2019-07-09 14:25:53,571 INFO sqlalchemy.engine.base.Engine SELECT sql FROM  (SELECT * FROM sqlite_master UNION ALL   SELECT * FROM sqlite_temp_master) WHERE name = 'Genre' AND type = 'table'\n",
      "2019-07-09 14:25:53,572 INFO sqlalchemy.engine.base.Engine ()\n",
      "2019-07-09 14:25:53,574 INFO sqlalchemy.engine.base.Engine PRAGMA index_list(\"Genre\")\n",
      "2019-07-09 14:25:53,576 INFO sqlalchemy.engine.base.Engine ()\n",
      "2019-07-09 14:25:53,578 INFO sqlalchemy.engine.base.Engine PRAGMA index_list(\"Genre\")\n",
      "2019-07-09 14:25:53,579 INFO sqlalchemy.engine.base.Engine ()\n",
      "2019-07-09 14:25:53,581 INFO sqlalchemy.engine.base.Engine SELECT sql FROM  (SELECT * FROM sqlite_master UNION ALL   SELECT * FROM sqlite_temp_master) WHERE name = 'Genre' AND type = 'table'\n",
      "2019-07-09 14:25:53,582 INFO sqlalchemy.engine.base.Engine ()\n",
      "2019-07-09 14:25:53,585 INFO sqlalchemy.engine.base.Engine PRAGMA table_info(\"Track\")\n",
      "2019-07-09 14:25:53,586 INFO sqlalchemy.engine.base.Engine ()\n",
      "2019-07-09 14:25:53,589 INFO sqlalchemy.engine.base.Engine SELECT sql FROM  (SELECT * FROM sqlite_master UNION ALL   SELECT * FROM sqlite_temp_master) WHERE name = 'Track' AND type = 'table'\n",
      "2019-07-09 14:25:53,590 INFO sqlalchemy.engine.base.Engine ()\n",
      "2019-07-09 14:25:53,593 INFO sqlalchemy.engine.base.Engine PRAGMA foreign_key_list(\"Track\")\n",
      "2019-07-09 14:25:53,594 INFO sqlalchemy.engine.base.Engine ()\n",
      "2019-07-09 14:25:53,597 INFO sqlalchemy.engine.base.Engine SELECT sql FROM  (SELECT * FROM sqlite_master UNION ALL   SELECT * FROM sqlite_temp_master) WHERE name = 'Track' AND type = 'table'\n",
      "2019-07-09 14:25:53,599 INFO sqlalchemy.engine.base.Engine ()\n",
      "2019-07-09 14:25:53,602 INFO sqlalchemy.engine.base.Engine PRAGMA index_list(\"Track\")\n",
      "2019-07-09 14:25:53,604 INFO sqlalchemy.engine.base.Engine ()\n",
      "2019-07-09 14:25:53,607 INFO sqlalchemy.engine.base.Engine PRAGMA index_list(\"Track\")\n",
      "2019-07-09 14:25:53,609 INFO sqlalchemy.engine.base.Engine ()\n",
      "2019-07-09 14:25:53,611 INFO sqlalchemy.engine.base.Engine SELECT sql FROM  (SELECT * FROM sqlite_master UNION ALL   SELECT * FROM sqlite_temp_master) WHERE name = 'Track' AND type = 'table'\n",
      "2019-07-09 14:25:53,613 INFO sqlalchemy.engine.base.Engine ()\n"
     ]
    }
   ],
   "source": [
    "metadata.reflect(bind=engine)"
   ]
  },
  {
   "cell_type": "code",
   "execution_count": 110,
   "metadata": {},
   "outputs": [
    {
     "data": {
      "text/plain": [
       "immutabledict({'Album': Table('Album', MetaData(bind=Engine(sqlite:///test2.db)), Column('id', INTEGER(), table=<Album>, primary_key=True, nullable=False), Column('title', VARCHAR(), table=<Album>, nullable=False), Column('artist_id', INTEGER(), ForeignKey('Artist.id'), table=<Album>), schema=None), 'Artist': Table('Artist', MetaData(bind=Engine(sqlite:///test2.db)), Column('id', INTEGER(), table=<Artist>, primary_key=True, nullable=False), Column('name', VARCHAR(), table=<Artist>, nullable=False), schema=None), 'Genre': Table('Genre', MetaData(bind=Engine(sqlite:///test2.db)), Column('id', INTEGER(), table=<Genre>, primary_key=True, nullable=False), Column('name', VARCHAR(), table=<Genre>, nullable=False), schema=None), 'Track': Table('Track', MetaData(bind=Engine(sqlite:///test2.db)), Column('id', INTEGER(), table=<Track>, primary_key=True, nullable=False), Column('title', VARCHAR(), table=<Track>, nullable=False), Column('length', INTEGER(), table=<Track>, nullable=False), Column('rating', INTEGER(), table=<Track>, nullable=False), Column('count', INTEGER(), table=<Track>, nullable=False), Column('album_id', INTEGER(), ForeignKey('Album.id'), table=<Track>), Column('genre_id', INTEGER(), ForeignKey('Genre.id'), table=<Track>), schema=None)})"
      ]
     },
     "execution_count": 110,
     "metadata": {},
     "output_type": "execute_result"
    }
   ],
   "source": [
    "metadata.tables"
   ]
  },
  {
   "cell_type": "code",
   "execution_count": 146,
   "metadata": {},
   "outputs": [],
   "source": [
    "metadata.clear()"
   ]
  },
  {
   "cell_type": "code",
   "execution_count": 181,
   "metadata": {},
   "outputs": [],
   "source": [
    "from sqlalchemy import create_engine"
   ]
  },
  {
   "cell_type": "code",
   "execution_count": 223,
   "metadata": {},
   "outputs": [],
   "source": [
    "engine = create_engine(\"sqlite:///test5.db\",echo=True)"
   ]
  },
  {
   "cell_type": "code",
   "execution_count": 224,
   "metadata": {},
   "outputs": [],
   "source": [
    "from sqlalchemy.ext.declarative import declarative_base\n",
    "base = declarative_base()"
   ]
  },
  {
   "cell_type": "code",
   "execution_count": 150,
   "metadata": {},
   "outputs": [],
   "source": [
    "class User(base):\n",
    "    __tablename__ = \"users\"\n",
    "    \n",
    "    id = Column(Integer,primary_key = True)\n",
    "    name = Column(String)\n",
    "    fullname = Column(String)\n",
    "    password = Column(\"Passwd\",String)\n",
    "    \n",
    "    def __repr__(self):\n",
    "        return \"<T'User(name = '%s',fullname='%s', password = '%s')>\" \\\n",
    "    % (self.name,self.fullname, self.password)"
   ]
  },
  {
   "cell_type": "code",
   "execution_count": 186,
   "metadata": {
    "scrolled": true
   },
   "outputs": [
    {
     "data": {
      "text/plain": [
       "Table('Artist', MetaData(bind=None), Column('id', Integer(), table=<Artist>, primary_key=True, nullable=False), Column('name', String(), table=<Artist>), schema=None)"
      ]
     },
     "execution_count": 186,
     "metadata": {},
     "output_type": "execute_result"
    }
   ],
   "source": [
    "Artist.__table__"
   ]
  },
  {
   "cell_type": "code",
   "execution_count": 138,
   "metadata": {},
   "outputs": [
    {
     "data": {
      "text/plain": [
       "<Mapper at 0x1bb0392bba8; User>"
      ]
     },
     "execution_count": 138,
     "metadata": {},
     "output_type": "execute_result"
    }
   ],
   "source": [
    "User.__mapper__"
   ]
  },
  {
   "cell_type": "code",
   "execution_count": 226,
   "metadata": {},
   "outputs": [
    {
     "name": "stdout",
     "output_type": "stream",
     "text": [
      "2019-07-09 15:44:04,792 INFO sqlalchemy.engine.base.Engine SELECT CAST('test plain returns' AS VARCHAR(60)) AS anon_1\n",
      "2019-07-09 15:44:04,793 INFO sqlalchemy.engine.base.Engine ()\n",
      "2019-07-09 15:44:04,795 INFO sqlalchemy.engine.base.Engine SELECT CAST('test unicode returns' AS VARCHAR(60)) AS anon_1\n",
      "2019-07-09 15:44:04,796 INFO sqlalchemy.engine.base.Engine ()\n",
      "2019-07-09 15:44:04,798 INFO sqlalchemy.engine.base.Engine PRAGMA table_info(\"Artist\")\n",
      "2019-07-09 15:44:04,799 INFO sqlalchemy.engine.base.Engine ()\n",
      "2019-07-09 15:44:04,801 INFO sqlalchemy.engine.base.Engine PRAGMA table_info(\"Album\")\n",
      "2019-07-09 15:44:04,802 INFO sqlalchemy.engine.base.Engine ()\n",
      "2019-07-09 15:44:04,804 INFO sqlalchemy.engine.base.Engine PRAGMA table_info(\"Genre\")\n",
      "2019-07-09 15:44:04,805 INFO sqlalchemy.engine.base.Engine ()\n",
      "2019-07-09 15:44:04,807 INFO sqlalchemy.engine.base.Engine PRAGMA table_info(\"Track\")\n",
      "2019-07-09 15:44:04,808 INFO sqlalchemy.engine.base.Engine ()\n",
      "2019-07-09 15:44:04,811 INFO sqlalchemy.engine.base.Engine \n",
      "CREATE TABLE \"Artist\" (\n",
      "\tid INTEGER NOT NULL, \n",
      "\tname VARCHAR, \n",
      "\tPRIMARY KEY (id)\n",
      ")\n",
      "\n",
      "\n",
      "2019-07-09 15:44:04,812 INFO sqlalchemy.engine.base.Engine ()\n",
      "2019-07-09 15:44:04,824 INFO sqlalchemy.engine.base.Engine COMMIT\n",
      "2019-07-09 15:44:04,827 INFO sqlalchemy.engine.base.Engine \n",
      "CREATE TABLE \"Genre\" (\n",
      "\tid INTEGER NOT NULL, \n",
      "\tname VARCHAR, \n",
      "\tPRIMARY KEY (id)\n",
      ")\n",
      "\n",
      "\n",
      "2019-07-09 15:44:04,828 INFO sqlalchemy.engine.base.Engine ()\n",
      "2019-07-09 15:44:04,841 INFO sqlalchemy.engine.base.Engine COMMIT\n",
      "2019-07-09 15:44:04,847 INFO sqlalchemy.engine.base.Engine \n",
      "CREATE TABLE \"Album\" (\n",
      "\tid INTEGER NOT NULL, \n",
      "\ttitle VARCHAR, \n",
      "\tartist_id INTEGER, \n",
      "\tPRIMARY KEY (id), \n",
      "\tFOREIGN KEY(artist_id) REFERENCES \"Artist\" (id)\n",
      ")\n",
      "\n",
      "\n",
      "2019-07-09 15:44:04,848 INFO sqlalchemy.engine.base.Engine ()\n",
      "2019-07-09 15:44:04,859 INFO sqlalchemy.engine.base.Engine COMMIT\n",
      "2019-07-09 15:44:04,861 INFO sqlalchemy.engine.base.Engine \n",
      "CREATE TABLE \"Track\" (\n",
      "\tid INTEGER NOT NULL, \n",
      "\ttitle VARCHAR, \n",
      "\tlength INTEGER, \n",
      "\trating INTEGER, \n",
      "\tcount INTEGER, \n",
      "\talbum_id INTEGER, \n",
      "\tgenre_id INTEGER, \n",
      "\tPRIMARY KEY (id), \n",
      "\tFOREIGN KEY(album_id) REFERENCES \"Album\" (id), \n",
      "\tFOREIGN KEY(genre_id) REFERENCES \"Genre\" (id)\n",
      ")\n",
      "\n",
      "\n",
      "2019-07-09 15:44:04,863 INFO sqlalchemy.engine.base.Engine ()\n",
      "2019-07-09 15:44:04,876 INFO sqlalchemy.engine.base.Engine COMMIT\n"
     ]
    }
   ],
   "source": [
    "base.metadata.create_all(engine)"
   ]
  },
  {
   "cell_type": "code",
   "execution_count": 140,
   "metadata": {},
   "outputs": [],
   "source": [
    "Kim = User(name = \"kim\")"
   ]
  },
  {
   "cell_type": "code",
   "execution_count": 141,
   "metadata": {},
   "outputs": [
    {
     "name": "stdout",
     "output_type": "stream",
     "text": [
      "2019-07-09 14:36:35,320 INFO sqlalchemy.engine.base.Engine SELECT CAST('test plain returns' AS VARCHAR(60)) AS anon_1\n",
      "2019-07-09 14:36:35,321 INFO sqlalchemy.engine.base.Engine ()\n",
      "2019-07-09 14:36:35,322 INFO sqlalchemy.engine.base.Engine SELECT CAST('test unicode returns' AS VARCHAR(60)) AS anon_1\n",
      "2019-07-09 14:36:35,323 INFO sqlalchemy.engine.base.Engine ()\n",
      "2019-07-09 14:36:35,325 INFO sqlalchemy.engine.base.Engine PRAGMA table_info(\"users\")\n",
      "2019-07-09 14:36:35,326 INFO sqlalchemy.engine.base.Engine ()\n"
     ]
    }
   ],
   "source": [
    "base.metadata.create_all(engine)"
   ]
  },
  {
   "cell_type": "code",
   "execution_count": 142,
   "metadata": {},
   "outputs": [],
   "source": [
    "kim = User(name = \"kim\",fullname = 'anonymmous,Kim',password = \"kimbap heaven\")"
   ]
  },
  {
   "cell_type": "code",
   "execution_count": 143,
   "metadata": {},
   "outputs": [
    {
     "name": "stdout",
     "output_type": "stream",
     "text": [
      "<T'User(name = 'kim',fullname=anonymmous,Kim,password = 'kimbap heaven')>\n"
     ]
    }
   ],
   "source": [
    "print(kim)"
   ]
  },
  {
   "cell_type": "code",
   "execution_count": 170,
   "metadata": {},
   "outputs": [
    {
     "name": "stdout",
     "output_type": "stream",
     "text": [
      "2019-07-09 14:55:42,362 INFO sqlalchemy.engine.base.Engine BEGIN (implicit)\n",
      "2019-07-09 14:55:42,364 INFO sqlalchemy.engine.base.Engine SELECT users.\"Passwd\" AS \"users_Passwd\", users.id AS users_id, users.name AS users_name, users.fullname AS users_fullname \n",
      "FROM users \n",
      "WHERE users.id = ?\n",
      "2019-07-09 14:55:42,365 INFO sqlalchemy.engine.base.Engine (1,)\n",
      "1\n"
     ]
    }
   ],
   "source": [
    "print(kim.id)"
   ]
  },
  {
   "cell_type": "code",
   "execution_count": 153,
   "metadata": {},
   "outputs": [
    {
     "ename": "SyntaxError",
     "evalue": "invalid syntax (<ipython-input-153-f1eafe9c2a21>, line 2)",
     "output_type": "error",
     "traceback": [
      "\u001b[1;36m  File \u001b[1;32m\"<ipython-input-153-f1eafe9c2a21>\"\u001b[1;36m, line \u001b[1;32m2\u001b[0m\n\u001b[1;33m    class sqlalchemy.orm.session.Session\u001b[0m\n\u001b[1;37m                    ^\u001b[0m\n\u001b[1;31mSyntaxError\u001b[0m\u001b[1;31m:\u001b[0m invalid syntax\n"
     ]
    }
   ],
   "source": [
    "# Session\n",
    "class sqlalchemy.orm.session.Session\n",
    "# session maker"
   ]
  },
  {
   "cell_type": "code",
   "execution_count": 227,
   "metadata": {},
   "outputs": [],
   "source": [
    "from sqlalchemy.orm import sessionmaker\n",
    "Session = sessionmaker(bind=engine)\n",
    "session = Session()"
   ]
  },
  {
   "cell_type": "code",
   "execution_count": 157,
   "metadata": {},
   "outputs": [],
   "source": [
    "session.add(kim)"
   ]
  },
  {
   "cell_type": "code",
   "execution_count": 158,
   "metadata": {},
   "outputs": [],
   "source": [
    "session.add_all([\n",
    "    User(name=\"lee\",fullname=\"unknow,Lee\",password=\"123456789a\"),\n",
    "    User(name=\"park\",fullname=\"nobody,Park\",password=\"Parking in Park\"),\n",
    "])"
   ]
  },
  {
   "cell_type": "code",
   "execution_count": 160,
   "metadata": {},
   "outputs": [
    {
     "name": "stdout",
     "output_type": "stream",
     "text": [
      "2019-07-09 14:45:27,864 INFO sqlalchemy.engine.base.Engine SELECT CAST('test plain returns' AS VARCHAR(60)) AS anon_1\n",
      "2019-07-09 14:45:27,865 INFO sqlalchemy.engine.base.Engine ()\n",
      "2019-07-09 14:45:27,867 INFO sqlalchemy.engine.base.Engine SELECT CAST('test unicode returns' AS VARCHAR(60)) AS anon_1\n",
      "2019-07-09 14:45:27,868 INFO sqlalchemy.engine.base.Engine ()\n",
      "2019-07-09 14:45:27,870 INFO sqlalchemy.engine.base.Engine BEGIN (implicit)\n",
      "2019-07-09 14:45:27,873 INFO sqlalchemy.engine.base.Engine INSERT INTO users (name, fullname, \"Passwd\") VALUES (?, ?, ?)\n",
      "2019-07-09 14:45:27,874 INFO sqlalchemy.engine.base.Engine ('kim', 'anonymmous,Kim', 'kimbap heaven')\n",
      "2019-07-09 14:45:27,879 INFO sqlalchemy.engine.base.Engine INSERT INTO users (name, fullname, \"Passwd\") VALUES (?, ?, ?)\n",
      "2019-07-09 14:45:27,880 INFO sqlalchemy.engine.base.Engine ('lee', 'unknow,Lee', '123456789a')\n",
      "2019-07-09 14:45:27,881 INFO sqlalchemy.engine.base.Engine INSERT INTO users (name, fullname, \"Passwd\") VALUES (?, ?, ?)\n",
      "2019-07-09 14:45:27,882 INFO sqlalchemy.engine.base.Engine ('park', 'nobody,Park', 'Parking in Park')\n",
      "2019-07-09 14:45:27,884 INFO sqlalchemy.engine.base.Engine COMMIT\n"
     ]
    }
   ],
   "source": [
    "session.commit()"
   ]
  },
  {
   "cell_type": "code",
   "execution_count": 165,
   "metadata": {},
   "outputs": [
    {
     "data": {
      "text/plain": [
       "IdentitySet([<T'User(name = 'kim',fullname=anonymmous,Kim,password = 'password')>])"
      ]
     },
     "execution_count": 165,
     "metadata": {},
     "output_type": "execute_result"
    }
   ],
   "source": [
    "# 세션은 뭐하는 애\n",
    "kim.password = \"password\"\n",
    "session.dirty"
   ]
  },
  {
   "cell_type": "code",
   "execution_count": 168,
   "metadata": {},
   "outputs": [
    {
     "data": {
      "text/plain": [
       "True"
      ]
     },
     "execution_count": 168,
     "metadata": {},
     "output_type": "execute_result"
    }
   ],
   "source": [
    "session.is_modified(kim)"
   ]
  },
  {
   "cell_type": "code",
   "execution_count": 169,
   "metadata": {},
   "outputs": [
    {
     "name": "stdout",
     "output_type": "stream",
     "text": [
      "2019-07-09 14:52:20,883 INFO sqlalchemy.engine.base.Engine UPDATE users SET \"Passwd\"=? WHERE users.id = ?\n",
      "2019-07-09 14:52:20,884 INFO sqlalchemy.engine.base.Engine ('password', 1)\n",
      "2019-07-09 14:52:20,889 INFO sqlalchemy.engine.base.Engine COMMIT\n"
     ]
    }
   ],
   "source": [
    "session.commit()"
   ]
  },
  {
   "cell_type": "code",
   "execution_count": 171,
   "metadata": {},
   "outputs": [
    {
     "name": "stdout",
     "output_type": "stream",
     "text": [
      "2019-07-09 15:10:24,955 INFO sqlalchemy.engine.base.Engine SELECT users.\"Passwd\" AS \"users_Passwd\", users.id AS users_id, users.name AS users_name, users.fullname AS users_fullname \n",
      "FROM users\n",
      "2019-07-09 15:10:24,956 INFO sqlalchemy.engine.base.Engine ()\n",
      "<class '__main__.User'>\n",
      "1 kim anonymmous,Kim password\n",
      "<class '__main__.User'>\n",
      "2 lee unknow,Lee 123456789a\n",
      "<class '__main__.User'>\n",
      "3 park nobody,Park Parking in Park\n"
     ]
    }
   ],
   "source": [
    "for row in session.query(User):\n",
    "    print(type(row))\n",
    "    print(row.id,row.name,row.fullname,row.password) # 클래스여서 가능"
   ]
  },
  {
   "cell_type": "code",
   "execution_count": 174,
   "metadata": {},
   "outputs": [
    {
     "name": "stdout",
     "output_type": "stream",
     "text": [
      "2019-07-09 15:12:43,783 INFO sqlalchemy.engine.base.Engine SELECT users.id AS users_id, users.fullname AS users_fullname \n",
      "FROM users \n",
      "WHERE users.name = ?\n",
      "2019-07-09 15:12:43,784 INFO sqlalchemy.engine.base.Engine ('lee',)\n",
      "<class 'sqlalchemy.util._collections.result'>\n",
      "2 unknow,Lee\n"
     ]
    }
   ],
   "source": [
    "for row in session.query(User.id, User.fullname).filter(User.name == \"lee\"):\n",
    "    print(type(row))\n",
    "    print(row.id,row.fullname) # 클래스여서 가능"
   ]
  },
  {
   "cell_type": "code",
   "execution_count": 177,
   "metadata": {},
   "outputs": [
    {
     "name": "stdout",
     "output_type": "stream",
     "text": [
      "2019-07-09 15:15:20,790 INFO sqlalchemy.engine.base.Engine SELECT users.id AS users_id, users.fullname AS users_fullname \n",
      "FROM users \n",
      "WHERE users.name = ?\n",
      "2019-07-09 15:15:20,791 INFO sqlalchemy.engine.base.Engine ('lee',)\n",
      "<class 'sqlalchemy.util._collections.result'>\n",
      "2 unknow,Lee\n"
     ]
    }
   ],
   "source": [
    "for row in session.query(User.id, User.fullname).filter_by(name = \"lee\"):\n",
    "    print(type(row))\n",
    "    print(row.id,row.fullname) # 클래스여서 가능"
   ]
  },
  {
   "cell_type": "code",
   "execution_count": 184,
   "metadata": {},
   "outputs": [],
   "source": [
    "class Artist(base):\n",
    "    __tablename__ = \"Artist\"\n",
    "    id = Column(Integer,primary_key=True)\n",
    "    name = Column(String)\n",
    "    \n",
    "class Album(base):\n",
    "    __tablename__ = \"Album\"\n",
    "    id = Column(Integer,primary_key=True)\n",
    "    title = Column(String)\n",
    "    artist_id = Column(Integer,ForeignKey(\"Artist.id\"))\n",
    "    \n",
    "class Genre(base):\n",
    "    __tablename__ = \"Genre\"\n",
    "    id = Column(Integer,primary_key=True)\n",
    "    name = Column(String)\n",
    "    \n",
    "class Track(base):\n",
    "    __tablename__ = \"Track\"\n",
    "    id = Column(Integer,primary_key=True)\n",
    "    title = Column(String)\n",
    "    length = Column(Integer)\n",
    "    rating = Column(Integer)\n",
    "    count = Column(Integer)\n",
    "    album_id = Column(Integer,ForeignKey(\"Album.id\"))\n",
    "    genre_id = Column(Integer,ForeignKey(\"Genre.id\"))"
   ]
  },
  {
   "cell_type": "code",
   "execution_count": 188,
   "metadata": {},
   "outputs": [],
   "source": [
    "artist1 = Artist(name=\"Led Zepplin\")\n",
    "artist2 = Artist(name = \"AC/DC\")"
   ]
  },
  {
   "cell_type": "code",
   "execution_count": 193,
   "metadata": {},
   "outputs": [],
   "source": [
    "session.add_all([artist1,artist2])"
   ]
  },
  {
   "cell_type": "code",
   "execution_count": 194,
   "metadata": {},
   "outputs": [
    {
     "name": "stdout",
     "output_type": "stream",
     "text": [
      "2019-07-09 15:20:52,313 INFO sqlalchemy.engine.base.Engine BEGIN (implicit)\n",
      "2019-07-09 15:20:52,315 INFO sqlalchemy.engine.base.Engine INSERT INTO \"Artist\" (name) VALUES (?)\n",
      "2019-07-09 15:20:52,316 INFO sqlalchemy.engine.base.Engine ('Led Zepplin',)\n",
      "2019-07-09 15:20:52,319 INFO sqlalchemy.engine.base.Engine INSERT INTO \"Artist\" (name) VALUES (?)\n",
      "2019-07-09 15:20:52,320 INFO sqlalchemy.engine.base.Engine ('AC/DC',)\n",
      "2019-07-09 15:20:52,322 INFO sqlalchemy.engine.base.Engine COMMIT\n"
     ]
    }
   ],
   "source": [
    "session.commit()"
   ]
  },
  {
   "cell_type": "code",
   "execution_count": 195,
   "metadata": {},
   "outputs": [
    {
     "name": "stdout",
     "output_type": "stream",
     "text": [
      "2019-07-09 15:21:33,585 INFO sqlalchemy.engine.base.Engine BEGIN (implicit)\n",
      "2019-07-09 15:21:33,588 INFO sqlalchemy.engine.base.Engine SELECT \"Artist\".id AS \"Artist_id\", \"Artist\".name AS \"Artist_name\" \n",
      "FROM \"Artist\" \n",
      "WHERE \"Artist\".id = ?\n",
      "2019-07-09 15:21:33,589 INFO sqlalchemy.engine.base.Engine (1,)\n",
      "2019-07-09 15:21:33,593 INFO sqlalchemy.engine.base.Engine SELECT \"Artist\".id AS \"Artist_id\", \"Artist\".name AS \"Artist_name\" \n",
      "FROM \"Artist\" \n",
      "WHERE \"Artist\".id = ?\n",
      "2019-07-09 15:21:33,594 INFO sqlalchemy.engine.base.Engine (2,)\n"
     ]
    }
   ],
   "source": [
    "album = [Album(title=\"IV\",artist_id = artist1.id),\n",
    "        Album(title=\"Who Made Who\",artist_id=artist2.id)]"
   ]
  },
  {
   "cell_type": "code",
   "execution_count": 196,
   "metadata": {},
   "outputs": [],
   "source": [
    "session.add_all(album)"
   ]
  },
  {
   "cell_type": "code",
   "execution_count": 197,
   "metadata": {},
   "outputs": [
    {
     "name": "stdout",
     "output_type": "stream",
     "text": [
      "2019-07-09 15:21:44,401 INFO sqlalchemy.engine.base.Engine INSERT INTO \"Album\" (title, artist_id) VALUES (?, ?)\n",
      "2019-07-09 15:21:44,402 INFO sqlalchemy.engine.base.Engine ('IV', 1)\n",
      "2019-07-09 15:21:44,405 INFO sqlalchemy.engine.base.Engine INSERT INTO \"Album\" (title, artist_id) VALUES (?, ?)\n",
      "2019-07-09 15:21:44,406 INFO sqlalchemy.engine.base.Engine ('Who Made Who', 2)\n",
      "2019-07-09 15:21:44,408 INFO sqlalchemy.engine.base.Engine COMMIT\n"
     ]
    }
   ],
   "source": [
    "session.commit()"
   ]
  },
  {
   "cell_type": "code",
   "execution_count": 198,
   "metadata": {},
   "outputs": [
    {
     "name": "stdout",
     "output_type": "stream",
     "text": [
      "2019-07-09 15:22:30,989 INFO sqlalchemy.engine.base.Engine BEGIN (implicit)\n",
      "2019-07-09 15:22:30,992 INFO sqlalchemy.engine.base.Engine SELECT \"Artist\".id AS \"Artist_id\", \"Artist\".name AS \"Artist_name\" \n",
      "FROM \"Artist\" \n",
      "WHERE \"Artist\".id = ?\n",
      "2019-07-09 15:22:30,993 INFO sqlalchemy.engine.base.Engine (1,)\n",
      "2019-07-09 15:22:30,997 INFO sqlalchemy.engine.base.Engine SELECT \"Album\".id AS \"Album_id\", \"Album\".title AS \"Album_title\", \"Album\".artist_id AS \"Album_artist_id\" \n",
      "FROM \"Album\" \n",
      "WHERE \"Album\".artist_id = ?\n",
      "2019-07-09 15:22:30,998 INFO sqlalchemy.engine.base.Engine (1,)\n",
      "2019-07-09 15:22:31,000 INFO sqlalchemy.engine.base.Engine SELECT \"Artist\".id AS \"Artist_id\", \"Artist\".name AS \"Artist_name\" \n",
      "FROM \"Artist\" \n",
      "WHERE \"Artist\".id = ?\n",
      "2019-07-09 15:22:31,002 INFO sqlalchemy.engine.base.Engine (2,)\n",
      "2019-07-09 15:22:31,005 INFO sqlalchemy.engine.base.Engine SELECT \"Album\".id AS \"Album_id\", \"Album\".title AS \"Album_title\", \"Album\".artist_id AS \"Album_artist_id\" \n",
      "FROM \"Album\" \n",
      "WHERE \"Album\".artist_id = ?\n",
      "2019-07-09 15:22:31,006 INFO sqlalchemy.engine.base.Engine (2,)\n"
     ]
    }
   ],
   "source": [
    "album1 = session.query(Album).filter(Album.artist_id == artist1.id).one()\n",
    "album2 = session.query(Album).filter(Album.artist_id == artist2.id).one()"
   ]
  },
  {
   "cell_type": "code",
   "execution_count": 210,
   "metadata": {},
   "outputs": [
    {
     "name": "stdout",
     "output_type": "stream",
     "text": [
      "2019-07-09 15:36:50,873 INFO sqlalchemy.engine.base.Engine BEGIN (implicit)\n",
      "2019-07-09 15:36:50,875 INFO sqlalchemy.engine.base.Engine SELECT \"Genre\".id AS \"Genre_id\", \"Genre\".name AS \"Genre_name\" \n",
      "FROM \"Genre\" \n",
      "WHERE \"Genre\".name = ? AND \"Genre\".id = ?\n",
      "2019-07-09 15:36:50,877 INFO sqlalchemy.engine.base.Engine ('Rock', 1)\n",
      "2019-07-09 15:36:50,880 INFO sqlalchemy.engine.base.Engine SELECT \"Genre\".id AS \"Genre_id\", \"Genre\".name AS \"Genre_name\" \n",
      "FROM \"Genre\" \n",
      "WHERE \"Genre\".name = ? AND \"Genre\".id = ?\n",
      "2019-07-09 15:36:50,881 INFO sqlalchemy.engine.base.Engine ('Metal', 2)\n"
     ]
    }
   ],
   "source": [
    "genre1 = session.query(Genre).filter(Genre.name == \"Rock\").filter(Genre.id==1).one()\n",
    "genre2 = session.query(Genre).filter(Genre.name == \"Metal\").filter(Genre.id==2).one()"
   ]
  },
  {
   "cell_type": "code",
   "execution_count": 211,
   "metadata": {},
   "outputs": [
    {
     "name": "stdout",
     "output_type": "stream",
     "text": [
      "2019-07-09 15:36:53,332 INFO sqlalchemy.engine.base.Engine SELECT \"Album\".id AS \"Album_id\", \"Album\".title AS \"Album_title\", \"Album\".artist_id AS \"Album_artist_id\" \n",
      "FROM \"Album\" \n",
      "WHERE \"Album\".id = ?\n",
      "2019-07-09 15:36:53,333 INFO sqlalchemy.engine.base.Engine (1,)\n",
      "2019-07-09 15:36:53,335 INFO sqlalchemy.engine.base.Engine SELECT \"Album\".id AS \"Album_id\", \"Album\".title AS \"Album_title\", \"Album\".artist_id AS \"Album_artist_id\" \n",
      "FROM \"Album\" \n",
      "WHERE \"Album\".id = ?\n",
      "2019-07-09 15:36:53,336 INFO sqlalchemy.engine.base.Engine (2,)\n"
     ]
    }
   ],
   "source": [
    "track = [Track(title=\"Black Dog\",rating=5,length=297,count=0,album_id=album1.id,\n",
    "              genre_id=genre1.id),\n",
    "        Track(title=\"Stariway\",rating=5,length=482,count=0,album_id=album1.id,\n",
    "              genre_id=genre2.id),\n",
    "        Track(title=\"About to rock\",rating=5,length=313,count=0,album_id=album2.id,\n",
    "              genre_id=genre1.id),\n",
    "        Track(title=\"Who Made Who\",rating=5,length=297,count=0,album_id=album2.id,\n",
    "              genre_id=genre2.id)]"
   ]
  },
  {
   "cell_type": "code",
   "execution_count": 208,
   "metadata": {},
   "outputs": [],
   "source": [
    "session.add_all([Genre(name=\"Rock\"),Genre(name=\"Metal\")])"
   ]
  },
  {
   "cell_type": "code",
   "execution_count": 209,
   "metadata": {},
   "outputs": [
    {
     "name": "stdout",
     "output_type": "stream",
     "text": [
      "2019-07-09 15:36:29,054 INFO sqlalchemy.engine.base.Engine INSERT INTO \"Genre\" (name) VALUES (?)\n",
      "2019-07-09 15:36:29,055 INFO sqlalchemy.engine.base.Engine ('Rock',)\n",
      "2019-07-09 15:36:29,058 INFO sqlalchemy.engine.base.Engine INSERT INTO \"Genre\" (name) VALUES (?)\n",
      "2019-07-09 15:36:29,059 INFO sqlalchemy.engine.base.Engine ('Metal',)\n",
      "2019-07-09 15:36:29,061 INFO sqlalchemy.engine.base.Engine COMMIT\n"
     ]
    }
   ],
   "source": [
    "session.commit()"
   ]
  },
  {
   "cell_type": "code",
   "execution_count": 212,
   "metadata": {},
   "outputs": [],
   "source": [
    "session.add_all(track)"
   ]
  },
  {
   "cell_type": "code",
   "execution_count": 213,
   "metadata": {},
   "outputs": [
    {
     "name": "stdout",
     "output_type": "stream",
     "text": [
      "2019-07-09 15:37:11,797 INFO sqlalchemy.engine.base.Engine INSERT INTO \"Track\" (title, length, rating, count, album_id, genre_id) VALUES (?, ?, ?, ?, ?, ?)\n",
      "2019-07-09 15:37:11,799 INFO sqlalchemy.engine.base.Engine ('Black Dog', 297, 5, 0, 1, 1)\n",
      "2019-07-09 15:37:11,804 INFO sqlalchemy.engine.base.Engine INSERT INTO \"Track\" (title, length, rating, count, album_id, genre_id) VALUES (?, ?, ?, ?, ?, ?)\n",
      "2019-07-09 15:37:11,805 INFO sqlalchemy.engine.base.Engine ('Stariway', 482, 5, 0, 1, 2)\n",
      "2019-07-09 15:37:11,807 INFO sqlalchemy.engine.base.Engine INSERT INTO \"Track\" (title, length, rating, count, album_id, genre_id) VALUES (?, ?, ?, ?, ?, ?)\n",
      "2019-07-09 15:37:11,809 INFO sqlalchemy.engine.base.Engine ('About to rock', 313, 5, 0, 2, 1)\n",
      "2019-07-09 15:37:11,811 INFO sqlalchemy.engine.base.Engine INSERT INTO \"Track\" (title, length, rating, count, album_id, genre_id) VALUES (?, ?, ?, ?, ?, ?)\n",
      "2019-07-09 15:37:11,813 INFO sqlalchemy.engine.base.Engine ('Who Made Who', 297, 5, 0, 2, 2)\n",
      "2019-07-09 15:37:11,816 INFO sqlalchemy.engine.base.Engine COMMIT\n"
     ]
    }
   ],
   "source": [
    "session.commit()"
   ]
  },
  {
   "cell_type": "code",
   "execution_count": 215,
   "metadata": {},
   "outputs": [
    {
     "name": "stdout",
     "output_type": "stream",
     "text": [
      "2019-07-09 15:38:17,018 INFO sqlalchemy.engine.base.Engine BEGIN (implicit)\n",
      "2019-07-09 15:38:17,020 INFO sqlalchemy.engine.base.Engine SELECT \"Track\".title AS \"Track_title\", \"Album\".title AS \"Album_title\", \"Genre\".name AS \"Genre_name\", \"Artist\".name AS \"Artist_name\" \n",
      "FROM \"Track\" JOIN \"Album\" ON \"Album\".id = \"Track\".album_id JOIN \"Genre\" ON \"Genre\".id = \"Track\".genre_id JOIN \"Artist\" ON \"Artist\".id = \"Album\".artist_id\n",
      "2019-07-09 15:38:17,021 INFO sqlalchemy.engine.base.Engine ()\n"
     ]
    }
   ],
   "source": [
    "result = session.query(Track.title,Album.title,Genre.name,Artist.name)\\\n",
    "    .select_from(Track)\\\n",
    "    .join(Album)\\\n",
    "    .join(Genre)\\\n",
    "    .join(Artist).all()"
   ]
  },
  {
   "cell_type": "code",
   "execution_count": 216,
   "metadata": {},
   "outputs": [
    {
     "name": "stdout",
     "output_type": "stream",
     "text": [
      "('Black Dog', 'IV', 'Rock', 'Led Zepplin')\n",
      "('Stariway', 'IV', 'Metal', 'Led Zepplin')\n",
      "('About to rock', 'Who Made Who', 'Rock', 'AC/DC')\n",
      "('Who Made Who', 'Who Made Who', 'Metal', 'AC/DC')\n"
     ]
    }
   ],
   "source": [
    "for row in result:\n",
    "    print(row)"
   ]
  },
  {
   "cell_type": "code",
   "execution_count": 217,
   "metadata": {},
   "outputs": [],
   "source": [
    "songList = [dict(Track=row[0],Album=row[1],Artist=row[3])for row in result]"
   ]
  },
  {
   "cell_type": "code",
   "execution_count": 218,
   "metadata": {},
   "outputs": [
    {
     "data": {
      "text/plain": [
       "[{'Track': 'Black Dog', 'Album': 'IV', 'Artist': 'Led Zepplin'},\n",
       " {'Track': 'Stariway', 'Album': 'IV', 'Artist': 'Led Zepplin'},\n",
       " {'Track': 'About to rock', 'Album': 'Who Made Who', 'Artist': 'AC/DC'},\n",
       " {'Track': 'Who Made Who', 'Album': 'Who Made Who', 'Artist': 'AC/DC'}]"
      ]
     },
     "execution_count": 218,
     "metadata": {},
     "output_type": "execute_result"
    }
   ],
   "source": [
    "songList"
   ]
  },
  {
   "cell_type": "code",
   "execution_count": 225,
   "metadata": {},
   "outputs": [],
   "source": [
    "class Artist(base):\n",
    "    __tablename__ = \"Artist\"\n",
    "    id = Column(Integer,primary_key=True)\n",
    "    name = Column(String)\n",
    "    \n",
    "    albumList = relationship(\"Album\",back_populates=\"artist\")\n",
    "    \n",
    "class Album(base):\n",
    "    __tablename__ = \"Album\"\n",
    "    id = Column(Integer,primary_key=True)\n",
    "    title = Column(String)\n",
    "    artist_id = Column(Integer,ForeignKey(\"Artist.id\"))\n",
    "    \n",
    "    artist = relationship(\"Artist\",back_populates=\"albumList\",uselist=False)\n",
    "    trackList = relationship(\"Track\",back_populates=\"album\")\n",
    "    \n",
    "class Genre(base):\n",
    "    __tablename__ = \"Genre\"\n",
    "    id = Column(Integer,primary_key=True)\n",
    "    name = Column(String)\n",
    "    \n",
    "    trackList = relationship(\"Track\",back_populates=\"genre\")\n",
    "    \n",
    "class Track(base):\n",
    "    __tablename__ = \"Track\"\n",
    "    id = Column(Integer,primary_key=True)\n",
    "    title = Column(String)\n",
    "    length = Column(Integer)\n",
    "    rating = Column(Integer)\n",
    "    count = Column(Integer)\n",
    "    album_id = Column(Integer,ForeignKey(\"Album.id\"))\n",
    "    genre_id = Column(Integer,ForeignKey(\"Genre.id\"))\n",
    "    \n",
    "    album = relationship(\"Album\",back_populates=\"trackList\",uselist=False)\n",
    "    genre = relationship(\"Genre\",back_populates=\"trackList\",uselist=False)"
   ]
  },
  {
   "cell_type": "code",
   "execution_count": 221,
   "metadata": {},
   "outputs": [],
   "source": [
    "from sqlalchemy.orm import relationship"
   ]
  },
  {
   "cell_type": "code",
   "execution_count": 228,
   "metadata": {},
   "outputs": [],
   "source": [
    "track1 = Track(title=\"Black Dog\",rating=5,length=297,count=0)\n",
    "track2 = Track(title=\"Stairway\",rating=5,length=482,count=0)\n",
    "track3 = Track(title=\"About to rock\",rating=5,length=313,count=0)\n",
    "track4 = Track(title=\"Who Made Who\",rating=5,length=297,count=0)\n"
   ]
  },
  {
   "cell_type": "code",
   "execution_count": 229,
   "metadata": {},
   "outputs": [],
   "source": [
    "track1.album = track2.album = Album(title=\"IV\")\n",
    "track3.album = track4.album = Album(title=\"Who Made Who\")"
   ]
  },
  {
   "cell_type": "code",
   "execution_count": 230,
   "metadata": {},
   "outputs": [],
   "source": [
    "track1.genre = track3.genre = Genre(name = \"Rock\")\n",
    "track2.genre = track4.genre = Genre(name = \"Metal\")"
   ]
  },
  {
   "cell_type": "code",
   "execution_count": 231,
   "metadata": {},
   "outputs": [],
   "source": [
    "track1.album.artist = track2.album.artist = Artist(name=\"Led Zepplin\")"
   ]
  },
  {
   "cell_type": "code",
   "execution_count": 232,
   "metadata": {},
   "outputs": [],
   "source": [
    "track3.album.artist = track4.album.artist = Artist(name = \"AC/DC\")"
   ]
  },
  {
   "cell_type": "code",
   "execution_count": 237,
   "metadata": {},
   "outputs": [
    {
     "name": "stdout",
     "output_type": "stream",
     "text": [
      "2019-07-09 15:49:48,260 INFO sqlalchemy.engine.base.Engine BEGIN (implicit)\n",
      "2019-07-09 15:49:48,263 INFO sqlalchemy.engine.base.Engine SELECT \"Track\".id AS \"Track_id\", \"Track\".title AS \"Track_title\", \"Track\".length AS \"Track_length\", \"Track\".rating AS \"Track_rating\", \"Track\".count AS \"Track_count\", \"Track\".album_id AS \"Track_album_id\", \"Track\".genre_id AS \"Track_genre_id\" \n",
      "FROM \"Track\" \n",
      "WHERE \"Track\".id = ?\n",
      "2019-07-09 15:49:48,263 INFO sqlalchemy.engine.base.Engine (1,)\n",
      "2019-07-09 15:49:48,267 INFO sqlalchemy.engine.base.Engine SELECT \"Album\".id AS \"Album_id\", \"Album\".title AS \"Album_title\", \"Album\".artist_id AS \"Album_artist_id\" \n",
      "FROM \"Album\" \n",
      "WHERE \"Album\".id = ?\n",
      "2019-07-09 15:49:48,269 INFO sqlalchemy.engine.base.Engine (1,)\n",
      "2019-07-09 15:49:48,273 INFO sqlalchemy.engine.base.Engine SELECT \"Genre\".id AS \"Genre_id\", \"Genre\".name AS \"Genre_name\" \n",
      "FROM \"Genre\" \n",
      "WHERE \"Genre\".id = ?\n",
      "2019-07-09 15:49:48,275 INFO sqlalchemy.engine.base.Engine (2,)\n",
      "2019-07-09 15:49:48,279 INFO sqlalchemy.engine.base.Engine SELECT \"Artist\".id AS \"Artist_id\", \"Artist\".name AS \"Artist_name\" \n",
      "FROM \"Artist\" \n",
      "WHERE \"Artist\".id = ?\n",
      "2019-07-09 15:49:48,280 INFO sqlalchemy.engine.base.Engine (1,)\n",
      "Title :Black Dog, Album :IV, Genre :Rock, Artist :Led Zepplin\n"
     ]
    }
   ],
   "source": [
    "print(\"Title :%s, Album :%s, Genre :%s, Artist :%s\"%\n",
    "     (track1.title,track1.album.title,track1.genre.name,track1.album.artist.name))"
   ]
  },
  {
   "cell_type": "code",
   "execution_count": 235,
   "metadata": {},
   "outputs": [],
   "source": [
    "session.add_all([track1,track2,track3,track4])"
   ]
  },
  {
   "cell_type": "code",
   "execution_count": 236,
   "metadata": {},
   "outputs": [
    {
     "name": "stdout",
     "output_type": "stream",
     "text": [
      "2019-07-09 15:48:58,908 INFO sqlalchemy.engine.base.Engine BEGIN (implicit)\n",
      "2019-07-09 15:48:58,910 INFO sqlalchemy.engine.base.Engine INSERT INTO \"Genre\" (name) VALUES (?)\n",
      "2019-07-09 15:48:58,910 INFO sqlalchemy.engine.base.Engine ('Metal',)\n",
      "2019-07-09 15:48:58,914 INFO sqlalchemy.engine.base.Engine INSERT INTO \"Genre\" (name) VALUES (?)\n",
      "2019-07-09 15:48:58,915 INFO sqlalchemy.engine.base.Engine ('Rock',)\n",
      "2019-07-09 15:48:58,917 INFO sqlalchemy.engine.base.Engine INSERT INTO \"Artist\" (name) VALUES (?)\n",
      "2019-07-09 15:48:58,918 INFO sqlalchemy.engine.base.Engine ('Led Zepplin',)\n",
      "2019-07-09 15:48:58,920 INFO sqlalchemy.engine.base.Engine INSERT INTO \"Artist\" (name) VALUES (?)\n",
      "2019-07-09 15:48:58,921 INFO sqlalchemy.engine.base.Engine ('AC/DC',)\n",
      "2019-07-09 15:48:58,923 INFO sqlalchemy.engine.base.Engine INSERT INTO \"Album\" (title, artist_id) VALUES (?, ?)\n",
      "2019-07-09 15:48:58,925 INFO sqlalchemy.engine.base.Engine ('IV', 1)\n",
      "2019-07-09 15:48:58,927 INFO sqlalchemy.engine.base.Engine INSERT INTO \"Album\" (title, artist_id) VALUES (?, ?)\n",
      "2019-07-09 15:48:58,928 INFO sqlalchemy.engine.base.Engine ('Who Made Who', 2)\n",
      "2019-07-09 15:48:58,932 INFO sqlalchemy.engine.base.Engine INSERT INTO \"Track\" (title, length, rating, count, album_id, genre_id) VALUES (?, ?, ?, ?, ?, ?)\n",
      "2019-07-09 15:48:58,933 INFO sqlalchemy.engine.base.Engine ('Black Dog', 297, 5, 0, 1, 2)\n",
      "2019-07-09 15:48:58,936 INFO sqlalchemy.engine.base.Engine INSERT INTO \"Track\" (title, length, rating, count, album_id, genre_id) VALUES (?, ?, ?, ?, ?, ?)\n",
      "2019-07-09 15:48:58,937 INFO sqlalchemy.engine.base.Engine ('Stairway', 482, 5, 0, 1, 1)\n",
      "2019-07-09 15:48:58,939 INFO sqlalchemy.engine.base.Engine INSERT INTO \"Track\" (title, length, rating, count, album_id, genre_id) VALUES (?, ?, ?, ?, ?, ?)\n",
      "2019-07-09 15:48:58,940 INFO sqlalchemy.engine.base.Engine ('Who Made Who', 297, 5, 0, 2, 1)\n",
      "2019-07-09 15:48:58,942 INFO sqlalchemy.engine.base.Engine INSERT INTO \"Track\" (title, length, rating, count, album_id, genre_id) VALUES (?, ?, ?, ?, ?, ?)\n",
      "2019-07-09 15:48:58,944 INFO sqlalchemy.engine.base.Engine ('About to rock', 313, 5, 0, 2, 2)\n",
      "2019-07-09 15:48:58,947 INFO sqlalchemy.engine.base.Engine COMMIT\n"
     ]
    }
   ],
   "source": [
    "session.commit()"
   ]
  },
  {
   "cell_type": "code",
   "execution_count": 253,
   "metadata": {},
   "outputs": [],
   "source": [
    "a = dict(Hs=1,aga=2)"
   ]
  },
  {
   "cell_type": "code",
   "execution_count": 254,
   "metadata": {},
   "outputs": [
    {
     "data": {
      "text/plain": [
       "{'Hs': 1, 'aga': 2}"
      ]
     },
     "execution_count": 254,
     "metadata": {},
     "output_type": "execute_result"
    }
   ],
   "source": [
    "a"
   ]
  },
  {
   "cell_type": "code",
   "execution_count": 255,
   "metadata": {},
   "outputs": [
    {
     "data": {
      "text/plain": [
       "dict"
      ]
     },
     "execution_count": 255,
     "metadata": {},
     "output_type": "execute_result"
    }
   ],
   "source": [
    "dict"
   ]
  },
  {
   "cell_type": "markdown",
   "metadata": {},
   "source": [
    "R"
   ]
  },
  {
   "cell_type": "code",
   "execution_count": null,
   "metadata": {},
   "outputs": [],
   "source": []
  }
 ],
 "metadata": {
  "kernelspec": {
   "display_name": "Python 3",
   "language": "python",
   "name": "python3"
  },
  "language_info": {
   "codemirror_mode": {
    "name": "ipython",
    "version": 3
   },
   "file_extension": ".py",
   "mimetype": "text/x-python",
   "name": "python",
   "nbconvert_exporter": "python",
   "pygments_lexer": "ipython3",
   "version": "3.7.3"
  }
 },
 "nbformat": 4,
 "nbformat_minor": 2
}
