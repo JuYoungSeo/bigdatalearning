{
 "cells": [
  {
   "cell_type": "code",
   "execution_count": 2,
   "metadata": {},
   "outputs": [],
   "source": [
    "import re"
   ]
  },
  {
   "cell_type": "code",
   "execution_count": 3,
   "metadata": {},
   "outputs": [],
   "source": [
    "p = re.compile(\"[a-z]+\")"
   ]
  },
  {
   "cell_type": "code",
   "execution_count": 4,
   "metadata": {},
   "outputs": [],
   "source": [
    "m = p.search(\"5 python\")"
   ]
  },
  {
   "cell_type": "code",
   "execution_count": 7,
   "metadata": {},
   "outputs": [
    {
     "data": {
      "text/plain": [
       "10"
      ]
     },
     "execution_count": 7,
     "metadata": {},
     "output_type": "execute_result"
    }
   ],
   "source": [
    "m.start() + m.end()"
   ]
  },
  {
   "cell_type": "code",
   "execution_count": 22,
   "metadata": {},
   "outputs": [],
   "source": [
    "data = \"\"\"\n",
    "park 010-9999-9988\n",
    "kim 010-9909-7789\n",
    "lee 010-8789-7768\n",
    "\"\"\""
   ]
  },
  {
   "cell_type": "code",
   "execution_count": 24,
   "metadata": {},
   "outputs": [],
   "source": [
    "pat = re.compile(\"(\\d{3})[-](\\d{4})[-](\\d{4})\")"
   ]
  },
  {
   "cell_type": "code",
   "execution_count": 26,
   "metadata": {},
   "outputs": [
    {
     "name": "stdout",
     "output_type": "stream",
     "text": [
      "\n",
      "park 010 - 9999 - ****\n",
      "kim 010 - 9909 - ****\n",
      "lee 010 - 8789 - ****\n",
      "\n"
     ]
    }
   ],
   "source": [
    "print(pat.sub(\"\\g<1> - \\g<2> - ****\",data))"
   ]
  },
  {
   "cell_type": "markdown",
   "metadata": {},
   "source": [
    "메모장 코딩 할 것\n",
    "# JSON"
   ]
  },
  {
   "cell_type": "markdown",
   "metadata": {},
   "source": [
    "- 사람이 읽기 편한 web \n",
    "- 바이트 타입 데이터가 아닌 구조적엔 데이터를 네트워크 통신으로 전달하기 위해"
   ]
  },
  {
   "cell_type": "markdown",
   "metadata": {},
   "source": [
    "장점"
   ]
  },
  {
   "cell_type": "markdown",
   "metadata": {},
   "source": [
    "- 읽고 쓰기가 쉽다\n",
    "-language independent\n",
    "- text based interchange format\n",
    "- Server 쪽에 client 정보를 심으면 안된다"
   ]
  },
  {
   "cell_type": "markdown",
   "metadata": {},
   "source": [
    "Javascript  \n",
    "var car = {\"Make\" : Volkswagen\"};  \n",
    "console.log(car.Make);  \n",
    "\n",
    "car.Year = 2003;  \n",
    "console.log(car);  \n",
    "// Output: {\"Make\" : \"Volkswagen\", "
   ]
  },
  {
   "cell_type": "markdown",
   "metadata": {},
   "source": [
    "- XML보다 JSON 훨씬 가볍고 구조는 다 포함하고 있다.\n",
    "- Stringify하면 object가 아니라 string으로 바뀌어서 .이 안된다."
   ]
  },
  {
   "cell_type": "markdown",
   "metadata": {},
   "source": []
  },
  {
   "cell_type": "markdown",
   "metadata": {},
   "source": []
  },
  {
   "cell_type": "markdown",
   "metadata": {},
   "source": []
  },
  {
   "cell_type": "markdown",
   "metadata": {},
   "source": []
  },
  {
   "cell_type": "markdown",
   "metadata": {},
   "source": []
  },
  {
   "cell_type": "code",
   "execution_count": 29,
   "metadata": {},
   "outputs": [],
   "source": [
    "import json"
   ]
  },
  {
   "cell_type": "code",
   "execution_count": 32,
   "metadata": {},
   "outputs": [],
   "source": [
    "name = (\"kim\",\"Lee\",\"Park\")\n",
    "age = [30,28,31]\n",
    "person = {\"name\":\"kim\",\"age\":30,\"car\":False}"
   ]
  },
  {
   "cell_type": "code",
   "execution_count": 33,
   "metadata": {},
   "outputs": [],
   "source": [
    "nameStr = json.dumps(name)"
   ]
  },
  {
   "cell_type": "code",
   "execution_count": 34,
   "metadata": {},
   "outputs": [],
   "source": [
    "ageStr = json.dumps(age)\n",
    "personStr = json.dumps(person,indent = \"   \") \n",
    "# indent 웬만하면 쓰지마라(data크기 증가함)"
   ]
  },
  {
   "cell_type": "code",
   "execution_count": 35,
   "metadata": {},
   "outputs": [
    {
     "data": {
      "text/plain": [
       "'[30, 28, 31]'"
      ]
     },
     "execution_count": 35,
     "metadata": {},
     "output_type": "execute_result"
    }
   ],
   "source": [
    "ageStr"
   ]
  },
  {
   "cell_type": "code",
   "execution_count": 55,
   "metadata": {},
   "outputs": [],
   "source": [
    "personStr = '{\\n   \"name\": \"kim\",\\n   \"age\": 30,\\n   \"car\": false\\n}'"
   ]
  },
  {
   "cell_type": "code",
   "execution_count": 37,
   "metadata": {},
   "outputs": [
    {
     "name": "stdout",
     "output_type": "stream",
     "text": [
      "{\n",
      "   \"name\": \"kim\",\n",
      "   \"age\": 30,\n",
      "   \"car\": false\n",
      "}\n"
     ]
    }
   ],
   "source": [
    "print(personStr)"
   ]
  },
  {
   "cell_type": "code",
   "execution_count": 38,
   "metadata": {},
   "outputs": [],
   "source": [
    "kname = (\"김\",\"이\",\"박\")"
   ]
  },
  {
   "cell_type": "code",
   "execution_count": 46,
   "metadata": {},
   "outputs": [],
   "source": [
    "knameStr = json.dumps(kname)"
   ]
  },
  {
   "cell_type": "code",
   "execution_count": 47,
   "metadata": {},
   "outputs": [
    {
     "name": "stdout",
     "output_type": "stream",
     "text": [
      "[\"\\uae40\", \"\\uc774\", \"\\ubc15\"]\n"
     ]
    }
   ],
   "source": [
    "print(knameStr)"
   ]
  },
  {
   "cell_type": "code",
   "execution_count": 48,
   "metadata": {},
   "outputs": [
    {
     "data": {
      "text/plain": [
       "'[\"\\\\uae40\", \"\\\\uc774\", \"\\\\ubc15\"]'"
      ]
     },
     "execution_count": 48,
     "metadata": {},
     "output_type": "execute_result"
    }
   ],
   "source": [
    "knameStr"
   ]
  },
  {
   "cell_type": "code",
   "execution_count": 42,
   "metadata": {},
   "outputs": [],
   "source": [
    "knameStr = json.dumps(kname,ensure_ascii=False)"
   ]
  },
  {
   "cell_type": "code",
   "execution_count": 44,
   "metadata": {},
   "outputs": [],
   "source": [
    "# dump는 파일에 저장돼 있는 것\n",
    "# dumps는 메모리에 저장돼 있는 것"
   ]
  },
  {
   "cell_type": "code",
   "execution_count": 56,
   "metadata": {},
   "outputs": [],
   "source": [
    "personObj = json.loads(personStr)"
   ]
  },
  {
   "cell_type": "code",
   "execution_count": 57,
   "metadata": {},
   "outputs": [
    {
     "data": {
      "text/plain": [
       "{'name': 'kim', 'age': 30, 'car': False}"
      ]
     },
     "execution_count": 57,
     "metadata": {},
     "output_type": "execute_result"
    }
   ],
   "source": [
    "personObj"
   ]
  },
  {
   "cell_type": "code",
   "execution_count": 59,
   "metadata": {},
   "outputs": [
    {
     "data": {
      "text/plain": [
       "dict"
      ]
     },
     "execution_count": 59,
     "metadata": {},
     "output_type": "execute_result"
    }
   ],
   "source": [
    "type(personObj)"
   ]
  },
  {
   "cell_type": "code",
   "execution_count": 60,
   "metadata": {},
   "outputs": [
    {
     "data": {
      "text/plain": [
       "True"
      ]
     },
     "execution_count": 60,
     "metadata": {},
     "output_type": "execute_result"
    }
   ],
   "source": [
    "person == personObj"
   ]
  },
  {
   "cell_type": "code",
   "execution_count": 61,
   "metadata": {},
   "outputs": [],
   "source": [
    "person[\"car\"] = [\"레이\",\"모닝\"]"
   ]
  },
  {
   "cell_type": "code",
   "execution_count": 62,
   "metadata": {},
   "outputs": [
    {
     "data": {
      "text/plain": [
       "{'name': 'kim', 'age': 30, 'car': ['레이', '모닝']}"
      ]
     },
     "execution_count": 62,
     "metadata": {},
     "output_type": "execute_result"
    }
   ],
   "source": [
    "person"
   ]
  },
  {
   "cell_type": "code",
   "execution_count": 63,
   "metadata": {},
   "outputs": [],
   "source": [
    "with open('person.json','w') as f:\n",
    "    json.dump(person,f)"
   ]
  },
  {
   "cell_type": "code",
   "execution_count": 64,
   "metadata": {},
   "outputs": [],
   "source": [
    "with open('person.json','r') as f:\n",
    "    personObj = json.load(f)"
   ]
  },
  {
   "cell_type": "code",
   "execution_count": 65,
   "metadata": {},
   "outputs": [
    {
     "data": {
      "text/plain": [
       "{'name': 'kim', 'age': 30, 'car': ['레이', '모닝']}"
      ]
     },
     "execution_count": 65,
     "metadata": {},
     "output_type": "execute_result"
    }
   ],
   "source": [
    "personObj"
   ]
  },
  {
   "cell_type": "code",
   "execution_count": 66,
   "metadata": {},
   "outputs": [
    {
     "data": {
      "text/plain": [
       "{'name': 'kim', 'age': 30, 'car': ['레이', '모닝']}"
      ]
     },
     "execution_count": 66,
     "metadata": {},
     "output_type": "execute_result"
    }
   ],
   "source": [
    "person"
   ]
  },
  {
   "cell_type": "code",
   "execution_count": 67,
   "metadata": {},
   "outputs": [],
   "source": [
    "import urllib.request"
   ]
  },
  {
   "cell_type": "code",
   "execution_count": 68,
   "metadata": {},
   "outputs": [],
   "source": [
    "url = \"http://ip.jsontest.com\""
   ]
  },
  {
   "cell_type": "code",
   "execution_count": 69,
   "metadata": {},
   "outputs": [],
   "source": [
    "obj = {\"name\":\"김이박\",\"age\":30}"
   ]
  },
  {
   "cell_type": "code",
   "execution_count": 70,
   "metadata": {},
   "outputs": [],
   "source": [
    "objStr = json.dumps(obj)"
   ]
  },
  {
   "cell_type": "code",
   "execution_count": 71,
   "metadata": {
    "scrolled": true
   },
   "outputs": [
    {
     "data": {
      "text/plain": [
       "'{\"name\": \"\\\\uae40\\\\uc774\\\\ubc15\", \"age\": 30}'"
      ]
     },
     "execution_count": 71,
     "metadata": {},
     "output_type": "execute_result"
    }
   ],
   "source": [
    "objStr"
   ]
  },
  {
   "cell_type": "code",
   "execution_count": 73,
   "metadata": {},
   "outputs": [],
   "source": [
    "objByte = objStr.encode(\"utf-8\")"
   ]
  },
  {
   "cell_type": "code",
   "execution_count": 76,
   "metadata": {},
   "outputs": [
    {
     "data": {
      "text/plain": [
       "b'{\"name\": \"\\\\uae40\\\\uc774\\\\ubc15\", \"age\": 30}'"
      ]
     },
     "execution_count": 76,
     "metadata": {},
     "output_type": "execute_result"
    }
   ],
   "source": [
    "objByte # 사이트가 안뻗었을 때 해보기"
   ]
  },
  {
   "cell_type": "code",
   "execution_count": 474,
   "metadata": {},
   "outputs": [],
   "source": [
    "req = urllib.request.Request(url,data=objByte,\n",
    "                             headers={'content-type':'application/json'})\n",
    "res = urllib.request.urlopen(req)"
   ]
  },
  {
   "cell_type": "code",
   "execution_count": 739,
   "metadata": {},
   "outputs": [],
   "source": [
    "import urllib\n",
    "url = \"http://openapi.airkorea.or.kr/openapi/services/rest/ArpltnInforInqireSvc/getCtprvnMesureSidoLIst\"\n",
    "\n",
    "params = {\n",
    "    \"ServiceKey\" : '%2BWJxaSeTX%2B6T8HKBqdWlnFfsS3ySR5r5fpnZyYPFLNxh2k4L7jldR7d4PevkAcQ5BAVyFmQkEietj6Xz7gxDCw%3D%3D',\n",
    "    \"numOfRows\": 10,\n",
    "    \"pageNo\" : 1,\n",
    "    \"sidoName\" : \"서울\",\n",
    "    \"searchCondition\" : \"DAILY\"\n",
    "#    \"stationName\" : '성북구',\n",
    "#    \"dataTerm\" : 'DAILY',\n",
    "#    \"ver\" : 1.3,\n",
    "    #\"_returnType\" : \"JSON\"\n",
    "}\n",
    "\n",
    "params[\"ServiceKey\"] = urllib.parse.unquote(params[\"ServiceKey\"])\n",
    "    \n",
    "    \n"
   ]
  },
  {
   "cell_type": "code",
   "execution_count": 740,
   "metadata": {},
   "outputs": [],
   "source": [
    "params = urllib.parse.urlencode(params)"
   ]
  },
  {
   "cell_type": "code",
   "execution_count": 741,
   "metadata": {},
   "outputs": [
    {
     "data": {
      "text/plain": [
       "str"
      ]
     },
     "execution_count": 741,
     "metadata": {},
     "output_type": "execute_result"
    }
   ],
   "source": [
    "type(params)"
   ]
  },
  {
   "cell_type": "code",
   "execution_count": 742,
   "metadata": {},
   "outputs": [],
   "source": [
    "params = params.encode(\"utf-8\")"
   ]
  },
  {
   "cell_type": "code",
   "execution_count": 743,
   "metadata": {},
   "outputs": [
    {
     "data": {
      "text/plain": [
       "bytes"
      ]
     },
     "execution_count": 743,
     "metadata": {},
     "output_type": "execute_result"
    }
   ],
   "source": [
    "type(params)"
   ]
  },
  {
   "cell_type": "code",
   "execution_count": 744,
   "metadata": {},
   "outputs": [],
   "source": [
    "req = urllib.request.Request(url,data=params)"
   ]
  },
  {
   "cell_type": "code",
   "execution_count": 745,
   "metadata": {},
   "outputs": [],
   "source": [
    "res = urllib.request.urlopen(req)"
   ]
  },
  {
   "cell_type": "code",
   "execution_count": 746,
   "metadata": {},
   "outputs": [],
   "source": [
    "resStr = res.read()"
   ]
  },
  {
   "cell_type": "code",
   "execution_count": 733,
   "metadata": {},
   "outputs": [],
   "source": [
    "resStr = resStr.decode(\"utf-8\")"
   ]
  },
  {
   "cell_type": "code",
   "execution_count": 747,
   "metadata": {
    "scrolled": false
   },
   "outputs": [
    {
     "data": {
      "text/plain": [
       "b'<?xml version=\"1.0\" encoding=\"UTF-8\"?>\\r\\n\\r\\n\\r\\n\\r\\n\\r\\n<response>\\r\\n\\t<header>\\r\\n\\t\\t<resultCode>00</resultCode>\\r\\n\\t\\t<resultMsg>NORMAL SERVICE.</resultMsg>\\r\\n\\t</header>\\r\\n\\t<body>\\r\\n\\t\\t<items>\\r\\n\\t\\t\\t\\r\\n\\t\\t\\t\\t<item>\\r\\n\\t\\t\\t\\t    <dataTime>2019-07-10 16:00</dataTime>\\r\\n\\t\\t\\t\\t    <cityName>\\xea\\xb0\\x95\\xeb\\x82\\xa8\\xea\\xb5\\xac</cityName>\\r\\n\\t\\t\\t\\t    <so2Value>0.005</so2Value>\\r\\n\\t\\t\\t\\t    <coValue>0.2</coValue>\\r\\n\\t\\t\\t\\t    <o3Value>0.024</o3Value>\\r\\n\\t\\t\\t\\t    <no2Value>0.013</no2Value>\\r\\n\\t\\t\\t\\t    <pm10Value>14</pm10Value>\\r\\n\\t\\t\\t\\t    <pm25Value>7</pm25Value>\\r\\n\\t\\t\\t\\t</item>\\r\\n\\t\\t\\t\\r\\n\\t\\t\\t\\t<item>\\r\\n\\t\\t\\t\\t    <dataTime>2019-07-10 16:00</dataTime>\\r\\n\\t\\t\\t\\t    <cityName>\\xea\\xb0\\x95\\xeb\\x8f\\x99\\xea\\xb5\\xac</cityName>\\r\\n\\t\\t\\t\\t    <so2Value>0.003</so2Value>\\r\\n\\t\\t\\t\\t    <coValue>0.2</coValue>\\r\\n\\t\\t\\t\\t    <o3Value>0.029</o3Value>\\r\\n\\t\\t\\t\\t    <no2Value>0.009</no2Value>\\r\\n\\t\\t\\t\\t    <pm10Value>15</pm10Value>\\r\\n\\t\\t\\t\\t    <pm25Value>8</pm25Value>\\r\\n\\t\\t\\t\\t</item>\\r\\n\\t\\t\\t\\r\\n\\t\\t\\t\\t<item>\\r\\n\\t\\t\\t\\t    <dataTime>2019-07-10 16:00</dataTime>\\r\\n\\t\\t\\t\\t    <cityName>\\xea\\xb0\\x95\\xeb\\xb6\\x81\\xea\\xb5\\xac</cityName>\\r\\n\\t\\t\\t\\t    <so2Value>-</so2Value>\\r\\n\\t\\t\\t\\t    <coValue>0.2</coValue>\\r\\n\\t\\t\\t\\t    <o3Value>0.032</o3Value>\\r\\n\\t\\t\\t\\t    <no2Value>0.008</no2Value>\\r\\n\\t\\t\\t\\t    <pm10Value>13</pm10Value>\\r\\n\\t\\t\\t\\t    <pm25Value>6</pm25Value>\\r\\n\\t\\t\\t\\t</item>\\r\\n\\t\\t\\t\\r\\n\\t\\t\\t\\t<item>\\r\\n\\t\\t\\t\\t    <dataTime>2019-07-10 16:00</dataTime>\\r\\n\\t\\t\\t\\t    <cityName>\\xea\\xb0\\x95\\xec\\x84\\x9c\\xea\\xb5\\xac</cityName>\\r\\n\\t\\t\\t\\t    <so2Value>0.004</so2Value>\\r\\n\\t\\t\\t\\t    <coValue>0.3</coValue>\\r\\n\\t\\t\\t\\t    <o3Value>0.032</o3Value>\\r\\n\\t\\t\\t\\t    <no2Value>0.016</no2Value>\\r\\n\\t\\t\\t\\t    <pm10Value>12</pm10Value>\\r\\n\\t\\t\\t\\t    <pm25Value>7</pm25Value>\\r\\n\\t\\t\\t\\t</item>\\r\\n\\t\\t\\t\\r\\n\\t\\t\\t\\t<item>\\r\\n\\t\\t\\t\\t    <dataTime>2019-07-10 16:00</dataTime>\\r\\n\\t\\t\\t\\t    <cityName>\\xea\\xb4\\x80\\xec\\x95\\x85\\xea\\xb5\\xac</cityName>\\r\\n\\t\\t\\t\\t    <so2Value>0.003</so2Value>\\r\\n\\t\\t\\t\\t    <coValue>0.1</coValue>\\r\\n\\t\\t\\t\\t    <o3Value>0.035</o3Value>\\r\\n\\t\\t\\t\\t    <no2Value>0.013</no2Value>\\r\\n\\t\\t\\t\\t    <pm10Value>16</pm10Value>\\r\\n\\t\\t\\t\\t    <pm25Value>4</pm25Value>\\r\\n\\t\\t\\t\\t</item>\\r\\n\\t\\t\\t\\r\\n\\t\\t\\t\\t<item>\\r\\n\\t\\t\\t\\t    <dataTime>2019-07-10 16:00</dataTime>\\r\\n\\t\\t\\t\\t    <cityName>\\xea\\xb4\\x91\\xec\\xa7\\x84\\xea\\xb5\\xac</cityName>\\r\\n\\t\\t\\t\\t    <so2Value>0.003</so2Value>\\r\\n\\t\\t\\t\\t    <coValue>0.4</coValue>\\r\\n\\t\\t\\t\\t    <o3Value>0.026</o3Value>\\r\\n\\t\\t\\t\\t    <no2Value>0.012</no2Value>\\r\\n\\t\\t\\t\\t    <pm10Value>9</pm10Value>\\r\\n\\t\\t\\t\\t    <pm25Value>-</pm25Value>\\r\\n\\t\\t\\t\\t</item>\\r\\n\\t\\t\\t\\r\\n\\t\\t\\t\\t<item>\\r\\n\\t\\t\\t\\t    <dataTime>2019-07-10 16:00</dataTime>\\r\\n\\t\\t\\t\\t    <cityName>\\xea\\xb5\\xac\\xeb\\xa1\\x9c\\xea\\xb5\\xac</cityName>\\r\\n\\t\\t\\t\\t    <so2Value>0.004</so2Value>\\r\\n\\t\\t\\t\\t    <coValue>-</coValue>\\r\\n\\t\\t\\t\\t    <o3Value>0.035</o3Value>\\r\\n\\t\\t\\t\\t    <no2Value>0.011</no2Value>\\r\\n\\t\\t\\t\\t    <pm10Value>15</pm10Value>\\r\\n\\t\\t\\t\\t    <pm25Value>6</pm25Value>\\r\\n\\t\\t\\t\\t</item>\\r\\n\\t\\t\\t\\r\\n\\t\\t\\t\\t<item>\\r\\n\\t\\t\\t\\t    <dataTime>2019-07-10 16:00</dataTime>\\r\\n\\t\\t\\t\\t    <cityName>\\xea\\xb8\\x88\\xec\\xb2\\x9c\\xea\\xb5\\xac</cityName>\\r\\n\\t\\t\\t\\t    <so2Value>0.003</so2Value>\\r\\n\\t\\t\\t\\t    <coValue>0.2</coValue>\\r\\n\\t\\t\\t\\t    <o3Value>0.028</o3Value>\\r\\n\\t\\t\\t\\t    <no2Value>0.013</no2Value>\\r\\n\\t\\t\\t\\t    <pm10Value>17</pm10Value>\\r\\n\\t\\t\\t\\t    <pm25Value>7</pm25Value>\\r\\n\\t\\t\\t\\t</item>\\r\\n\\t\\t\\t\\r\\n\\t\\t\\t\\t<item>\\r\\n\\t\\t\\t\\t    <dataTime>2019-07-10 16:00</dataTime>\\r\\n\\t\\t\\t\\t    <cityName>\\xeb\\x85\\xb8\\xec\\x9b\\x90\\xea\\xb5\\xac</cityName>\\r\\n\\t\\t\\t\\t    <so2Value>-</so2Value>\\r\\n\\t\\t\\t\\t    <coValue>0.2</coValue>\\r\\n\\t\\t\\t\\t    <o3Value>0.028</o3Value>\\r\\n\\t\\t\\t\\t    <no2Value>0.009</no2Value>\\r\\n\\t\\t\\t\\t    <pm10Value>11</pm10Value>\\r\\n\\t\\t\\t\\t    <pm25Value>7</pm25Value>\\r\\n\\t\\t\\t\\t</item>\\r\\n\\t\\t\\t\\r\\n\\t\\t\\t\\t<item>\\r\\n\\t\\t\\t\\t    <dataTime>2019-07-10 16:00</dataTime>\\r\\n\\t\\t\\t\\t    <cityName>\\xeb\\x8f\\x84\\xeb\\xb4\\x89\\xea\\xb5\\xac</cityName>\\r\\n\\t\\t\\t\\t    <so2Value>0.003</so2Value>\\r\\n\\t\\t\\t\\t    <coValue>0.3</coValue>\\r\\n\\t\\t\\t\\t    <o3Value>0.035</o3Value>\\r\\n\\t\\t\\t\\t    <no2Value>0.005</no2Value>\\r\\n\\t\\t\\t\\t    <pm10Value>11</pm10Value>\\r\\n\\t\\t\\t\\t    <pm25Value>4</pm25Value>\\r\\n\\t\\t\\t\\t</item>\\r\\n\\t\\t\\t\\r\\n\\t\\t</items>\\r\\n\\t\\t<numOfRows>10</numOfRows>\\r\\n        <pageNo>1</pageNo>\\r\\n        <totalCount>625</totalCount>\\r\\n\\t</body>\\r\\n</response>\\r\\n'"
      ]
     },
     "execution_count": 747,
     "metadata": {},
     "output_type": "execute_result"
    }
   ],
   "source": [
    "resStr"
   ]
  },
  {
   "cell_type": "code",
   "execution_count": 469,
   "metadata": {
    "scrolled": true
   },
   "outputs": [],
   "source": [
    "reqObj = json.loads(resStr)"
   ]
  },
  {
   "cell_type": "code",
   "execution_count": 470,
   "metadata": {},
   "outputs": [],
   "source": [
    "resJSON = json.dumps(reqObj,ensure_ascii=False,indent = \"  \")"
   ]
  },
  {
   "cell_type": "code",
   "execution_count": 471,
   "metadata": {},
   "outputs": [
    {
     "name": "stdout",
     "output_type": "stream",
     "text": [
      "{\n",
      "  \"list\": [\n",
      "    {\n",
      "      \"_returnType\": \"json\",\n",
      "      \"cityName\": \"강남구\",\n",
      "      \"cityNameEng\": \"Gangnam-gu\",\n",
      "      \"coValue\": \"0.3\",\n",
      "      \"dataGubun\": \"\",\n",
      "      \"dataTime\": \"2019-07-10 14:00\",\n",
      "      \"districtCode\": \"02\",\n",
      "      \"districtNumSeq\": \"001\",\n",
      "      \"itemCode\": \"\",\n",
      "      \"khaiValue\": \"\",\n",
      "      \"no2Value\": \"0.011\",\n",
      "      \"numOfRows\": \"10\",\n",
      "      \"o3Value\": \"0.028\",\n",
      "      \"pageNo\": \"1\",\n",
      "      \"pm10Value\": \"14\",\n",
      "      \"pm25Value\": \"7\",\n",
      "      \"resultCode\": \"\",\n",
      "      \"resultMsg\": \"\",\n",
      "      \"searchCondition\": \"\",\n",
      "      \"serviceKey\": \"\",\n",
      "      \"sidoName\": \"서울\",\n",
      "      \"so2Value\": \"0.004\",\n",
      "      \"totalCount\": \"\"\n",
      "    },\n",
      "    {\n",
      "      \"_returnType\": \"json\",\n",
      "      \"cityName\": \"강동구\",\n",
      "      \"cityNameEng\": \"Gangdong-gu\",\n",
      "      \"coValue\": \"0.3\",\n",
      "      \"dataGubun\": \"\",\n",
      "      \"dataTime\": \"2019-07-10 14:00\",\n",
      "      \"districtCode\": \"02\",\n",
      "      \"districtNumSeq\": \"002\",\n",
      "      \"itemCode\": \"\",\n",
      "      \"khaiValue\": \"\",\n",
      "      \"no2Value\": \"0.009\",\n",
      "      \"numOfRows\": \"10\",\n",
      "      \"o3Value\": \"0.031\",\n",
      "      \"pageNo\": \"1\",\n",
      "      \"pm10Value\": \"14\",\n",
      "      \"pm25Value\": \"9\",\n",
      "      \"resultCode\": \"\",\n",
      "      \"resultMsg\": \"\",\n",
      "      \"searchCondition\": \"\",\n",
      "      \"serviceKey\": \"\",\n",
      "      \"sidoName\": \"서울\",\n",
      "      \"so2Value\": \"0.003\",\n",
      "      \"totalCount\": \"\"\n",
      "    },\n",
      "    {\n",
      "      \"_returnType\": \"json\",\n",
      "      \"cityName\": \"강북구\",\n",
      "      \"cityNameEng\": \"Gangbuk-gu\",\n",
      "      \"coValue\": \"0.2\",\n",
      "      \"dataGubun\": \"\",\n",
      "      \"dataTime\": \"2019-07-10 14:00\",\n",
      "      \"districtCode\": \"02\",\n",
      "      \"districtNumSeq\": \"003\",\n",
      "      \"itemCode\": \"\",\n",
      "      \"khaiValue\": \"\",\n",
      "      \"no2Value\": \"0.009\",\n",
      "      \"numOfRows\": \"10\",\n",
      "      \"o3Value\": \"0.034\",\n",
      "      \"pageNo\": \"1\",\n",
      "      \"pm10Value\": \"14\",\n",
      "      \"pm25Value\": \"7\",\n",
      "      \"resultCode\": \"\",\n",
      "      \"resultMsg\": \"\",\n",
      "      \"searchCondition\": \"\",\n",
      "      \"serviceKey\": \"\",\n",
      "      \"sidoName\": \"서울\",\n",
      "      \"so2Value\": \"\",\n",
      "      \"totalCount\": \"\"\n",
      "    },\n",
      "    {\n",
      "      \"_returnType\": \"json\",\n",
      "      \"cityName\": \"강서구\",\n",
      "      \"cityNameEng\": \"Gangseo-gu\",\n",
      "      \"coValue\": \"0.3\",\n",
      "      \"dataGubun\": \"\",\n",
      "      \"dataTime\": \"2019-07-10 14:00\",\n",
      "      \"districtCode\": \"02\",\n",
      "      \"districtNumSeq\": \"004\",\n",
      "      \"itemCode\": \"\",\n",
      "      \"khaiValue\": \"\",\n",
      "      \"no2Value\": \"0.013\",\n",
      "      \"numOfRows\": \"10\",\n",
      "      \"o3Value\": \"0.039\",\n",
      "      \"pageNo\": \"1\",\n",
      "      \"pm10Value\": \"11\",\n",
      "      \"pm25Value\": \"7\",\n",
      "      \"resultCode\": \"\",\n",
      "      \"resultMsg\": \"\",\n",
      "      \"searchCondition\": \"\",\n",
      "      \"serviceKey\": \"\",\n",
      "      \"sidoName\": \"서울\",\n",
      "      \"so2Value\": \"0.005\",\n",
      "      \"totalCount\": \"\"\n",
      "    },\n",
      "    {\n",
      "      \"_returnType\": \"json\",\n",
      "      \"cityName\": \"관악구\",\n",
      "      \"cityNameEng\": \"Gwanak-gu\",\n",
      "      \"coValue\": \"0.1\",\n",
      "      \"dataGubun\": \"\",\n",
      "      \"dataTime\": \"2019-07-10 14:00\",\n",
      "      \"districtCode\": \"02\",\n",
      "      \"districtNumSeq\": \"005\",\n",
      "      \"itemCode\": \"\",\n",
      "      \"khaiValue\": \"\",\n",
      "      \"no2Value\": \"0.013\",\n",
      "      \"numOfRows\": \"10\",\n",
      "      \"o3Value\": \"0.041\",\n",
      "      \"pageNo\": \"1\",\n",
      "      \"pm10Value\": \"17\",\n",
      "      \"pm25Value\": \"4\",\n",
      "      \"resultCode\": \"\",\n",
      "      \"resultMsg\": \"\",\n",
      "      \"searchCondition\": \"\",\n",
      "      \"serviceKey\": \"\",\n",
      "      \"sidoName\": \"서울\",\n",
      "      \"so2Value\": \"0.003\",\n",
      "      \"totalCount\": \"\"\n",
      "    },\n",
      "    {\n",
      "      \"_returnType\": \"json\",\n",
      "      \"cityName\": \"광진구\",\n",
      "      \"cityNameEng\": \"Gwangjin-gu\",\n",
      "      \"coValue\": \"0.4\",\n",
      "      \"dataGubun\": \"\",\n",
      "      \"dataTime\": \"2019-07-10 14:00\",\n",
      "      \"districtCode\": \"02\",\n",
      "      \"districtNumSeq\": \"006\",\n",
      "      \"itemCode\": \"\",\n",
      "      \"khaiValue\": \"\",\n",
      "      \"no2Value\": \"0.011\",\n",
      "      \"numOfRows\": \"10\",\n",
      "      \"o3Value\": \"0.030\",\n",
      "      \"pageNo\": \"1\",\n",
      "      \"pm10Value\": \"12\",\n",
      "      \"pm25Value\": \"4\",\n",
      "      \"resultCode\": \"\",\n",
      "      \"resultMsg\": \"\",\n",
      "      \"searchCondition\": \"\",\n",
      "      \"serviceKey\": \"\",\n",
      "      \"sidoName\": \"서울\",\n",
      "      \"so2Value\": \"0.003\",\n",
      "      \"totalCount\": \"\"\n",
      "    },\n",
      "    {\n",
      "      \"_returnType\": \"json\",\n",
      "      \"cityName\": \"구로구\",\n",
      "      \"cityNameEng\": \"Guro-gu\",\n",
      "      \"coValue\": \"\",\n",
      "      \"dataGubun\": \"\",\n",
      "      \"dataTime\": \"2019-07-10 14:00\",\n",
      "      \"districtCode\": \"02\",\n",
      "      \"districtNumSeq\": \"007\",\n",
      "      \"itemCode\": \"\",\n",
      "      \"khaiValue\": \"\",\n",
      "      \"no2Value\": \"0.011\",\n",
      "      \"numOfRows\": \"10\",\n",
      "      \"o3Value\": \"0.040\",\n",
      "      \"pageNo\": \"1\",\n",
      "      \"pm10Value\": \"12\",\n",
      "      \"pm25Value\": \"6\",\n",
      "      \"resultCode\": \"\",\n",
      "      \"resultMsg\": \"\",\n",
      "      \"searchCondition\": \"\",\n",
      "      \"serviceKey\": \"\",\n",
      "      \"sidoName\": \"서울\",\n",
      "      \"so2Value\": \"0.003\",\n",
      "      \"totalCount\": \"\"\n",
      "    },\n",
      "    {\n",
      "      \"_returnType\": \"json\",\n",
      "      \"cityName\": \"금천구\",\n",
      "      \"cityNameEng\": \"Geumcheon-gu\",\n",
      "      \"coValue\": \"0.3\",\n",
      "      \"dataGubun\": \"\",\n",
      "      \"dataTime\": \"2019-07-10 14:00\",\n",
      "      \"districtCode\": \"02\",\n",
      "      \"districtNumSeq\": \"008\",\n",
      "      \"itemCode\": \"\",\n",
      "      \"khaiValue\": \"\",\n",
      "      \"no2Value\": \"0.013\",\n",
      "      \"numOfRows\": \"10\",\n",
      "      \"o3Value\": \"0.032\",\n",
      "      \"pageNo\": \"1\",\n",
      "      \"pm10Value\": \"13\",\n",
      "      \"pm25Value\": \"7\",\n",
      "      \"resultCode\": \"\",\n",
      "      \"resultMsg\": \"\",\n",
      "      \"searchCondition\": \"\",\n",
      "      \"serviceKey\": \"\",\n",
      "      \"sidoName\": \"서울\",\n",
      "      \"so2Value\": \"0.003\",\n",
      "      \"totalCount\": \"\"\n",
      "    },\n",
      "    {\n",
      "      \"_returnType\": \"json\",\n",
      "      \"cityName\": \"노원구\",\n",
      "      \"cityNameEng\": \"Nowon-gu\",\n",
      "      \"coValue\": \"0.2\",\n",
      "      \"dataGubun\": \"\",\n",
      "      \"dataTime\": \"2019-07-10 14:00\",\n",
      "      \"districtCode\": \"02\",\n",
      "      \"districtNumSeq\": \"009\",\n",
      "      \"itemCode\": \"\",\n",
      "      \"khaiValue\": \"\",\n",
      "      \"no2Value\": \"0.006\",\n",
      "      \"numOfRows\": \"10\",\n",
      "      \"o3Value\": \"0.032\",\n",
      "      \"pageNo\": \"1\",\n",
      "      \"pm10Value\": \"12\",\n",
      "      \"pm25Value\": \"7\",\n",
      "      \"resultCode\": \"\",\n",
      "      \"resultMsg\": \"\",\n",
      "      \"searchCondition\": \"\",\n",
      "      \"serviceKey\": \"\",\n",
      "      \"sidoName\": \"서울\",\n",
      "      \"so2Value\": \"\",\n",
      "      \"totalCount\": \"\"\n",
      "    },\n",
      "    {\n",
      "      \"_returnType\": \"json\",\n",
      "      \"cityName\": \"도봉구\",\n",
      "      \"cityNameEng\": \"Dobong-gu\",\n",
      "      \"coValue\": \"0.3\",\n",
      "      \"dataGubun\": \"\",\n",
      "      \"dataTime\": \"2019-07-10 14:00\",\n",
      "      \"districtCode\": \"02\",\n",
      "      \"districtNumSeq\": \"010\",\n",
      "      \"itemCode\": \"\",\n",
      "      \"khaiValue\": \"\",\n",
      "      \"no2Value\": \"0.004\",\n",
      "      \"numOfRows\": \"10\",\n",
      "      \"o3Value\": \"0.038\",\n",
      "      \"pageNo\": \"1\",\n",
      "      \"pm10Value\": \"14\",\n",
      "      \"pm25Value\": \"3\",\n",
      "      \"resultCode\": \"\",\n",
      "      \"resultMsg\": \"\",\n",
      "      \"searchCondition\": \"\",\n",
      "      \"serviceKey\": \"\",\n",
      "      \"sidoName\": \"서울\",\n",
      "      \"so2Value\": \"\",\n",
      "      \"totalCount\": \"\"\n",
      "    }\n",
      "  ],\n",
      "  \"parm\": {\n",
      "    \"_returnType\": \"json\",\n",
      "    \"cityName\": \"\",\n",
      "    \"cityNameEng\": \"\",\n",
      "    \"coValue\": \"\",\n",
      "    \"dataGubun\": \"\",\n",
      "    \"dataTime\": \"\",\n",
      "    \"districtCode\": \"\",\n",
      "    \"districtNumSeq\": \"\",\n",
      "    \"itemCode\": \"\",\n",
      "    \"khaiValue\": \"\",\n",
      "    \"no2Value\": \"\",\n",
      "    \"numOfRows\": \"10\",\n",
      "    \"o3Value\": \"\",\n",
      "    \"pageNo\": \"1\",\n",
      "    \"pm10Value\": \"\",\n",
      "    \"pm25Value\": \"\",\n",
      "    \"resultCode\": \"\",\n",
      "    \"resultMsg\": \"\",\n",
      "    \"searchCondition\": \"DAILY\",\n",
      "    \"serviceKey\": \"+WJxaSeTX+6T8HKBqdWlnFfsS3ySR5r5fpnZyYPFLNxh2k4L7jldR7d4PevkAcQ5BAVyFmQkEietj6Xz7gxDCw==\",\n",
      "    \"sidoName\": \"서울\",\n",
      "    \"so2Value\": \"\",\n",
      "    \"totalCount\": \"\"\n",
      "  },\n",
      "  \"CtprvnMesureLIstVo2\": {\n",
      "    \"_returnType\": \"json\",\n",
      "    \"cityName\": \"\",\n",
      "    \"cityNameEng\": \"\",\n",
      "    \"coValue\": \"\",\n",
      "    \"dataGubun\": \"\",\n",
      "    \"dataTime\": \"\",\n",
      "    \"districtCode\": \"\",\n",
      "    \"districtNumSeq\": \"\",\n",
      "    \"itemCode\": \"\",\n",
      "    \"khaiValue\": \"\",\n",
      "    \"no2Value\": \"\",\n",
      "    \"numOfRows\": \"10\",\n",
      "    \"o3Value\": \"\",\n",
      "    \"pageNo\": \"1\",\n",
      "    \"pm10Value\": \"\",\n",
      "    \"pm25Value\": \"\",\n",
      "    \"resultCode\": \"\",\n",
      "    \"resultMsg\": \"\",\n",
      "    \"searchCondition\": \"DAILY\",\n",
      "    \"serviceKey\": \"+WJxaSeTX+6T8HKBqdWlnFfsS3ySR5r5fpnZyYPFLNxh2k4L7jldR7d4PevkAcQ5BAVyFmQkEietj6Xz7gxDCw==\",\n",
      "    \"sidoName\": \"서울\",\n",
      "    \"so2Value\": \"\",\n",
      "    \"totalCount\": \"\"\n",
      "  },\n",
      "  \"totalCount\": 625\n",
      "}\n"
     ]
    }
   ],
   "source": [
    "print(resJSON)"
   ]
  },
  {
   "cell_type": "code",
   "execution_count": 400,
   "metadata": {},
   "outputs": [
    {
     "data": {
      "text/plain": [
       "str"
      ]
     },
     "execution_count": 400,
     "metadata": {},
     "output_type": "execute_result"
    }
   ],
   "source": [
    "type(resJSON)"
   ]
  },
  {
   "cell_type": "code",
   "execution_count": 473,
   "metadata": {
    "scrolled": false
   },
   "outputs": [
    {
     "data": {
      "text/plain": [
       "[{'강남구': '7'},\n",
       " {'강동구': '9'},\n",
       " {'강북구': '7'},\n",
       " {'강서구': '7'},\n",
       " {'관악구': '4'},\n",
       " {'광진구': '4'},\n",
       " {'구로구': '6'},\n",
       " {'금천구': '7'},\n",
       " {'노원구': '7'},\n",
       " {'도봉구': '3'}]"
      ]
     },
     "execution_count": 473,
     "metadata": {},
     "output_type": "execute_result"
    }
   ],
   "source": [
    "[{row['cityName']:row['pm25Value']}for row in reqObj[\"list\"]]"
   ]
  },
  {
   "cell_type": "markdown",
   "metadata": {},
   "source": [
    "# XML"
   ]
  },
  {
   "cell_type": "markdown",
   "metadata": {},
   "source": [
    "HTML보다 엄격해서 오류가 날 확률이 없다.  \n",
    "규약을 지키면 well-formed  \n",
    "XML이 왜생겼는지? 사람과 machine이 읽기 쉬운  \n",
    "- 데이터를 전달하기 위한 도구  : 계층형 도구 > 사람이 해석가능  \n",
    "- 태그가 무한히 확장가능\n",
    "\n",
    "\n",
    "HTML은 비교하면 알아듣기 힘듦  \n",
    "- 화면에 어떻게 이쁘게 보여질까를 위해 만들어짐.  \n",
    "- Tag가 고정되어 있음.\n",
    "- Validation 없음"
   ]
  },
  {
   "cell_type": "markdown",
   "metadata": {},
   "source": [
    "JSON은 빠르고, 가볍다, 변수가 적다.  \n",
    "XML은 명세를 명확하게 만들거나, 설명을 할때, 데이터를 설명할때 좋은 경우 있다."
   ]
  },
  {
   "cell_type": "code",
   "execution_count": 642,
   "metadata": {},
   "outputs": [],
   "source": [
    "import xml.etree.ElementTree as et"
   ]
  },
  {
   "cell_type": "code",
   "execution_count": 643,
   "metadata": {},
   "outputs": [],
   "source": [
    "from lxml import etree"
   ]
  },
  {
   "cell_type": "code",
   "execution_count": 644,
   "metadata": {},
   "outputs": [],
   "source": [
    "bookstore = et.Element(\"bookstore\")\n",
    "book1 = et.Element(\"book\",category = \"cooking\")\n",
    "bookstore.insert(0,book1)"
   ]
  },
  {
   "cell_type": "code",
   "execution_count": 645,
   "metadata": {},
   "outputs": [],
   "source": [
    "title1 = et.Element('title')\n",
    "title1.attrib[\"lang\"] = \"en\"\n",
    "title1.text = \"Everyday Italian\"\n",
    "\n",
    "book1.append(title1)"
   ]
  },
  {
   "cell_type": "code",
   "execution_count": 646,
   "metadata": {},
   "outputs": [],
   "source": [
    "et.SubElement(book1,\"author\").text = 'Giada De Laurentiis'\n",
    "et.SubElement(book1,\"year\").text = '2005'\n",
    "et.SubElement(book1,\"price\").text = '30.00'"
   ]
  },
  {
   "cell_type": "code",
   "execution_count": 647,
   "metadata": {},
   "outputs": [],
   "source": [
    "book2 = et.Element(\"book\",category = \"children\")\n",
    "bookstore.append(book2)"
   ]
  },
  {
   "cell_type": "code",
   "execution_count": 648,
   "metadata": {},
   "outputs": [],
   "source": [
    "title2 = et.Element('title')\n",
    "title2.attrib[\"lang\"] = title1.get(\"lang\")\n",
    "title2.text = \"Harry Potter\""
   ]
  },
  {
   "cell_type": "code",
   "execution_count": 649,
   "metadata": {},
   "outputs": [],
   "source": [
    "book2.append(title2)"
   ]
  },
  {
   "cell_type": "code",
   "execution_count": 650,
   "metadata": {},
   "outputs": [],
   "source": [
    "et.SubElement(book2,\"author\").text = 'Giada De Laurentiis'\n",
    "et.SubElement(book2,\"year\").text = '2005'\n",
    "et.SubElement(book2,\"price\").text = '30.00'"
   ]
  },
  {
   "cell_type": "code",
   "execution_count": 656,
   "metadata": {
    "scrolled": true
   },
   "outputs": [
    {
     "name": "stdout",
     "output_type": "stream",
     "text": [
      "<bookstore><book category=\"cooking\"><title lang=\"en\">Everyday Italian</title><author>Giada De Laurentiis</author><year>2005</year><price>30.00</price></book><book category=\"children\"><title lang=\"en\">Harry Potter</title><author>Giada De Laurentiis</author><year>2005</year><price>30.00</price></book></bookstore>\n"
     ]
    }
   ],
   "source": [
    "a = et.dump(bookstore) # debugging용도로만 사용"
   ]
  },
  {
   "cell_type": "code",
   "execution_count": 617,
   "metadata": {},
   "outputs": [],
   "source": [
    "a"
   ]
  },
  {
   "cell_type": "code",
   "execution_count": 653,
   "metadata": {},
   "outputs": [
    {
     "ename": "TypeError",
     "evalue": "'ElementTree' object is not iterable",
     "output_type": "error",
     "traceback": [
      "\u001b[1;31m---------------------------------------------------------------------------\u001b[0m",
      "\u001b[1;31mTypeError\u001b[0m                                 Traceback (most recent call last)",
      "\u001b[1;32m<ipython-input-653-07ecbc79f19e>\u001b[0m in \u001b[0;36m<module>\u001b[1;34m\u001b[0m\n\u001b[0;32m      1\u001b[0m \u001b[0ma\u001b[0m\u001b[1;33m=\u001b[0m\u001b[0met\u001b[0m\u001b[1;33m.\u001b[0m\u001b[0mparse\u001b[0m\u001b[1;33m(\u001b[0m\u001b[1;34m'JSON.txt'\u001b[0m\u001b[1;33m)\u001b[0m\u001b[1;33m\u001b[0m\u001b[1;33m\u001b[0m\u001b[0m\n\u001b[1;32m----> 2\u001b[1;33m \u001b[0mprint\u001b[0m\u001b[1;33m(\u001b[0m\u001b[1;33m[\u001b[0m\u001b[0mb\u001b[0m\u001b[1;33m]\u001b[0m \u001b[1;32mfor\u001b[0m \u001b[0mb\u001b[0m \u001b[1;32min\u001b[0m \u001b[0ma\u001b[0m\u001b[1;33m)\u001b[0m\u001b[1;33m\u001b[0m\u001b[1;33m\u001b[0m\u001b[0m\n\u001b[0m",
      "\u001b[1;31mTypeError\u001b[0m: 'ElementTree' object is not iterable"
     ]
    }
   ],
   "source": [
    "a=et.parse('JSON.txt')\n",
    "print([b] for b in a)"
   ]
  },
  {
   "cell_type": "code",
   "execution_count": 585,
   "metadata": {},
   "outputs": [],
   "source": [
    "root = et.XML(et.tostring(bookstore))"
   ]
  },
  {
   "cell_type": "code",
   "execution_count": 586,
   "metadata": {},
   "outputs": [
    {
     "name": "stdout",
     "output_type": "stream",
     "text": [
      "2\n"
     ]
    }
   ],
   "source": [
    "print(len(root))"
   ]
  },
  {
   "cell_type": "code",
   "execution_count": 587,
   "metadata": {
    "scrolled": true
   },
   "outputs": [
    {
     "name": "stdout",
     "output_type": "stream",
     "text": [
      "book {'category': 'cooking'}\n",
      "book {'category': 'children'}\n"
     ]
    }
   ],
   "source": [
    "for childNode in root :\n",
    "    print(childNode.tag,childNode.attrib)"
   ]
  },
  {
   "cell_type": "code",
   "execution_count": 588,
   "metadata": {},
   "outputs": [],
   "source": [
    "root.clear()"
   ]
  },
  {
   "cell_type": "code",
   "execution_count": 589,
   "metadata": {},
   "outputs": [],
   "source": [
    "root = et.fromstring(et.tostring(bookstore))"
   ]
  },
  {
   "cell_type": "code",
   "execution_count": 590,
   "metadata": {},
   "outputs": [
    {
     "name": "stderr",
     "output_type": "stream",
     "text": [
      "C:\\Users\\SeoDongUk\\Anaconda3\\lib\\site-packages\\ipykernel_launcher.py:1: DeprecationWarning: This method will be removed in future versions.  Use 'list(elem)' or iteration over elem instead.\n",
      "  \"\"\"Entry point for launching an IPython kernel.\n"
     ]
    }
   ],
   "source": [
    "childNodes = root.getchildren()"
   ]
  },
  {
   "cell_type": "code",
   "execution_count": 591,
   "metadata": {},
   "outputs": [
    {
     "name": "stdout",
     "output_type": "stream",
     "text": [
      "2\n"
     ]
    }
   ],
   "source": [
    "print(len(childNodes))"
   ]
  },
  {
   "cell_type": "code",
   "execution_count": 592,
   "metadata": {},
   "outputs": [
    {
     "name": "stdout",
     "output_type": "stream",
     "text": [
      "book [('category', 'cooking')]\n",
      "book [('category', 'children')]\n"
     ]
    }
   ],
   "source": [
    "for childNode in childNodes:\n",
    "    print(childNode.tag,childNode.items())"
   ]
  },
  {
   "cell_type": "code",
   "execution_count": 593,
   "metadata": {},
   "outputs": [
    {
     "name": "stdout",
     "output_type": "stream",
     "text": [
      "title ['lang']\n",
      "['en']\n",
      "author []\n",
      "year []\n",
      "price []\n"
     ]
    }
   ],
   "source": [
    "for childNode in childNodes[0]:\n",
    "    print(childNode.tag,childNode.keys())\n",
    "    if childNode.keys() != []:\n",
    "        print([childNode.get(k) for k in childNode.keys()])"
   ]
  },
  {
   "cell_type": "code",
   "execution_count": 598,
   "metadata": {},
   "outputs": [
    {
     "name": "stdout",
     "output_type": "stream",
     "text": [
      "book cooking\n"
     ]
    }
   ],
   "source": [
    "book = root.find('book')\n",
    "print(book.tag,book.get(\"category\"))"
   ]
  },
  {
   "cell_type": "code",
   "execution_count": 601,
   "metadata": {},
   "outputs": [
    {
     "name": "stdout",
     "output_type": "stream",
     "text": [
      "book cooking\n",
      "book children\n"
     ]
    }
   ],
   "source": [
    "bookList = root.findall('book')\n",
    "for book in bookList:\n",
    "    print(book.tag,book.get(\"category\"))"
   ]
  },
  {
   "cell_type": "code",
   "execution_count": 603,
   "metadata": {},
   "outputs": [
    {
     "name": "stdout",
     "output_type": "stream",
     "text": [
      "<class 'xml.etree.ElementTree.Element'> Everyday Italian\n"
     ]
    }
   ],
   "source": [
    "title = root.find(\".//title\")\n",
    "print(type(title),title.text)"
   ]
  },
  {
   "cell_type": "code",
   "execution_count": 604,
   "metadata": {},
   "outputs": [
    {
     "name": "stdout",
     "output_type": "stream",
     "text": [
      "['Everyday Italian', 'Harry Potter']\n"
     ]
    }
   ],
   "source": [
    "titleList = root.findall(\".//title\")\n",
    "print([title.text for title in titleList])"
   ]
  },
  {
   "cell_type": "code",
   "execution_count": 606,
   "metadata": {},
   "outputs": [
    {
     "name": "stdout",
     "output_type": "stream",
     "text": [
      "<class 'str'> Everyday Italian\n"
     ]
    }
   ],
   "source": [
    "title = root.findtext(\".//title\")\n",
    "print(type(title),title)"
   ]
  },
  {
   "cell_type": "code",
   "execution_count": 607,
   "metadata": {},
   "outputs": [
    {
     "name": "stdout",
     "output_type": "stream",
     "text": [
      "<Element 'book' at 0x0000022FD64C6D18> book\n"
     ]
    }
   ],
   "source": [
    "book = root.find(\".//book[@category='children']\")\n",
    "print(book,book.tag)"
   ]
  },
  {
   "cell_type": "code",
   "execution_count": 634,
   "metadata": {},
   "outputs": [],
   "source": [
    "from xml.etree.ElementTree import ElementTree"
   ]
  },
  {
   "cell_type": "code",
   "execution_count": 636,
   "metadata": {},
   "outputs": [],
   "source": [
    "tree = ElementTree(root)\n",
    "tree.write(\"book_xml.xml\",encoding=\"utf-8\",xml_declaration=\"utf-8\")"
   ]
  },
  {
   "cell_type": "code",
   "execution_count": 637,
   "metadata": {},
   "outputs": [],
   "source": [
    "from xml.etree.ElementTree import parse"
   ]
  },
  {
   "cell_type": "code",
   "execution_count": 639,
   "metadata": {},
   "outputs": [],
   "source": [
    "tree = parse(\"book_xml.xml\")\n",
    "root = tree.getroot()"
   ]
  },
  {
   "cell_type": "code",
   "execution_count": 641,
   "metadata": {
    "scrolled": true
   },
   "outputs": [
    {
     "name": "stdout",
     "output_type": "stream",
     "text": [
      "bookstore None\n",
      "book None\n",
      "title Everyday Italian\n",
      "author Giada De Laurentiis\n",
      "year 2005\n",
      "price 30.00\n",
      "book None\n",
      "title Harry Potter\n",
      "author Giada De Laurentiis\n",
      "year 2005\n",
      "price 30.00\n"
     ]
    }
   ],
   "source": [
    "for node in root.iter():\n",
    "    print(node.tag,node.text)"
   ]
  },
  {
   "cell_type": "code",
   "execution_count": 654,
   "metadata": {},
   "outputs": [
    {
     "name": "stdout",
     "output_type": "stream",
     "text": [
      "bookstore None\n",
      "book None\n",
      "title Everyday Italian\n",
      "author Giada De Laurentiis\n",
      "year 2005\n",
      "price 30.00\n",
      "book None\n",
      "title Harry Potter\n",
      "author Giada De Laurentiis\n",
      "year 2005\n",
      "price 30.00\n"
     ]
    }
   ],
   "source": [
    "tree = ElementTree(file=\"book_xml.xml\")\n",
    "root = tree.getroot()\n",
    "\n",
    "for node in root.iter():\n",
    "    print(node.tag,node.text)"
   ]
  },
  {
   "cell_type": "code",
   "execution_count": 660,
   "metadata": {},
   "outputs": [],
   "source": [
    "bookStore = etree.Element(\"bookstore\")"
   ]
  },
  {
   "cell_type": "code",
   "execution_count": 661,
   "metadata": {},
   "outputs": [],
   "source": [
    "book1 = etree.SubElement(bookStore,\"book\")\n",
    "book2 = etree.SubElement(bookStore,\"book\",attrib={\"category\":\"children\"})"
   ]
  },
  {
   "cell_type": "code",
   "execution_count": 662,
   "metadata": {},
   "outputs": [],
   "source": [
    "book1.attrib[\"category\"] = \"cooking\""
   ]
  },
  {
   "cell_type": "code",
   "execution_count": 663,
   "metadata": {},
   "outputs": [],
   "source": [
    "title1 = etree.Element(\"title\",lang = \"en\")\n",
    "title1.text = \"Everydat Italian\"\n",
    "book1.append(title1)"
   ]
  },
  {
   "cell_type": "code",
   "execution_count": 664,
   "metadata": {},
   "outputs": [],
   "source": [
    "etree.SubElement(book1,\"author\").text = \"Giada De Laurentiis\"\n",
    "etree.SubElement(book1,\"year\").text = \"2005\"\n",
    "etree.SubElement(book1,\"price\").text = \"30.00\""
   ]
  },
  {
   "cell_type": "code",
   "execution_count": 665,
   "metadata": {},
   "outputs": [],
   "source": [
    "title2 = etree.Element(\"title\")\n",
    "title2.set(\"lang\",title1.get(\"lang\"))\n",
    "title2.text = \"Harry Potter\"\n",
    "book2.append(title2)"
   ]
  },
  {
   "cell_type": "code",
   "execution_count": 666,
   "metadata": {},
   "outputs": [],
   "source": [
    "etree.SubElement(book2,\"author\").text = \"Giada De Laurentiis\"\n",
    "etree.SubElement(book2,\"year\").text = \"2005\"\n",
    "book2.insert(3,etree.Element(\"price\"))"
   ]
  },
  {
   "cell_type": "code",
   "execution_count": 667,
   "metadata": {},
   "outputs": [
    {
     "name": "stdout",
     "output_type": "stream",
     "text": [
      "4\n"
     ]
    }
   ],
   "source": [
    "print(len(book2))"
   ]
  },
  {
   "cell_type": "code",
   "execution_count": 675,
   "metadata": {},
   "outputs": [],
   "source": [
    "book2[-1].text = \"30.00\""
   ]
  },
  {
   "cell_type": "code",
   "execution_count": 679,
   "metadata": {},
   "outputs": [],
   "source": [
    "xmlBytes = etree.tostring(bookStore,encoding=\"utf-8\",pretty_print=True,xml_declaration=True)"
   ]
  },
  {
   "cell_type": "code",
   "execution_count": 680,
   "metadata": {},
   "outputs": [],
   "source": [
    "xmlStr = etree.tounicode(bookStore,pretty_print=True)"
   ]
  },
  {
   "cell_type": "code",
   "execution_count": 681,
   "metadata": {},
   "outputs": [
    {
     "name": "stdout",
     "output_type": "stream",
     "text": [
      "<class 'bytes'> <class 'str'>\n"
     ]
    }
   ],
   "source": [
    "print(type(xmlBytes),type(xmlStr))"
   ]
  },
  {
   "cell_type": "code",
   "execution_count": 682,
   "metadata": {},
   "outputs": [
    {
     "name": "stdout",
     "output_type": "stream",
     "text": [
      "<bookstore>\n",
      "  <book category=\"cooking\">\n",
      "    <title lang=\"en\">Everydat Italian</title>\n",
      "    <author>Giada De Laurentiis</author>\n",
      "    <year>2005</year>\n",
      "    <price>30.00</price>\n",
      "  </book>\n",
      "  <book category=\"children\">\n",
      "    <title lang=\"en\">Harry Potter</title>\n",
      "    <author>Giada De Laurentiis</author>\n",
      "    <year>2005</year>\n",
      "    <price>30.00</price>\n",
      "  </book>\n",
      "</bookstore>\n"
     ]
    }
   ],
   "source": [
    "etree.dump(bookStore)"
   ]
  },
  {
   "cell_type": "code",
   "execution_count": 685,
   "metadata": {},
   "outputs": [
    {
     "name": "stdout",
     "output_type": "stream",
     "text": [
      "1.0\n",
      "UTF-8\n",
      "\n",
      "bookstore\n",
      "2\n",
      "book {'category': 'cooking'}\n",
      "book {'category': 'children'}\n"
     ]
    }
   ],
   "source": [
    "xml = etree.XML(etree.tostring(bookStore))\n",
    "xmlTree = etree.ElementTree(xml)\n",
    "xmlRoot = xmlTree.getroot()\n",
    "\n",
    "print(xmlTree.docinfo.xml_version)\n",
    "print(xmlTree.docinfo.encoding)\n",
    "print(xmlTree.docinfo.doctype)\n",
    "print(xmlTree.docinfo.root_name)\n",
    "\n",
    "print(len(xmlRoot))\n",
    "for childNode in xmlRoot:\n",
    "    print(childNode.tag,childNode.attrib)"
   ]
  },
  {
   "cell_type": "code",
   "execution_count": 686,
   "metadata": {},
   "outputs": [
    {
     "data": {
      "text/plain": [
       "b'<bookstore><book category=\"cooking\"><title lang=\"en\">Everydat Italian</title><author>Giada De Laurentiis</author><year>2005</year><price>30.00</price></book><book category=\"children\"><title lang=\"en\">Harry Potter</title><author>Giada De Laurentiis</author><year>2005</year><price>30.00</price></book></bookstore>'"
      ]
     },
     "execution_count": 686,
     "metadata": {},
     "output_type": "execute_result"
    }
   ],
   "source": [
    "etree.tostring(bookStore)"
   ]
  },
  {
   "cell_type": "code",
   "execution_count": 687,
   "metadata": {},
   "outputs": [],
   "source": [
    "xml = etree.fromstring(etree.tostring(bookStore))\n",
    "xmlTree = etree.ElementTree(xml)\n",
    "xmlRoot = xmlTree.getroot()"
   ]
  },
  {
   "cell_type": "code",
   "execution_count": 688,
   "metadata": {},
   "outputs": [
    {
     "data": {
      "text/plain": [
       "<Element bookstore at 0x22fd7c65548>"
      ]
     },
     "execution_count": 688,
     "metadata": {},
     "output_type": "execute_result"
    }
   ],
   "source": [
    "xmlRoot"
   ]
  },
  {
   "cell_type": "code",
   "execution_count": 689,
   "metadata": {},
   "outputs": [],
   "source": [
    "childNodes = xmlRoot.getchildren()"
   ]
  },
  {
   "cell_type": "code",
   "execution_count": 690,
   "metadata": {},
   "outputs": [
    {
     "name": "stdout",
     "output_type": "stream",
     "text": [
      "2\n",
      "book [('category', 'cooking')]\n",
      "book [('category', 'children')]\n"
     ]
    }
   ],
   "source": [
    "print(len(childNodes))\n",
    "for childNode in childNodes:\n",
    "    print(childNode.tag,childNode.items())"
   ]
  },
  {
   "cell_type": "code",
   "execution_count": 696,
   "metadata": {},
   "outputs": [
    {
     "name": "stdout",
     "output_type": "stream",
     "text": [
      "title ['lang']\n",
      "['en']\n",
      "author []\n",
      "year []\n",
      "price []\n"
     ]
    }
   ],
   "source": [
    "for childNode in childNodes[0]:\n",
    "    print(childNode.tag,childNode.keys())\n",
    "    if childNode.keys() != []:\n",
    "        print([childNode.get(k) for k in childNode.keys()])"
   ]
  },
  {
   "cell_type": "code",
   "execution_count": 699,
   "metadata": {},
   "outputs": [
    {
     "name": "stdout",
     "output_type": "stream",
     "text": [
      "book cooking\n"
     ]
    }
   ],
   "source": [
    "book = xmlRoot.find(\"book\")\n",
    "print(book.tag,book.get(\"category\"))"
   ]
  },
  {
   "cell_type": "code",
   "execution_count": 700,
   "metadata": {},
   "outputs": [
    {
     "name": "stdout",
     "output_type": "stream",
     "text": [
      "book cooking\n",
      "book children\n"
     ]
    }
   ],
   "source": [
    "bookList = xmlRoot.findall(\"book\")\n",
    "for book in bookList:\n",
    "    print(book.tag,book.get(\"category\"))"
   ]
  },
  {
   "cell_type": "code",
   "execution_count": 702,
   "metadata": {},
   "outputs": [
    {
     "name": "stdout",
     "output_type": "stream",
     "text": [
      "['Everyday Italian', 'Harry Potter']\n"
     ]
    }
   ],
   "source": [
    "title = xmlRoot.findall(\".//title\")\n",
    "print([title.text for title in titleList])"
   ]
  },
  {
   "cell_type": "code",
   "execution_count": 703,
   "metadata": {},
   "outputs": [
    {
     "name": "stdout",
     "output_type": "stream",
     "text": [
      "<class 'lxml.etree._Element'> Everydat Italian\n"
     ]
    }
   ],
   "source": [
    "title = xmlRoot.find(\".//title\")\n",
    "print(type(title),title.text)"
   ]
  },
  {
   "cell_type": "code",
   "execution_count": 705,
   "metadata": {},
   "outputs": [
    {
     "name": "stdout",
     "output_type": "stream",
     "text": [
      "<Element book at 0x22fd7513c08> book\n"
     ]
    }
   ],
   "source": [
    "book = xmlRoot.find(\".//book[@category='children']\")\n",
    "print(book,book.tag)"
   ]
  },
  {
   "cell_type": "code",
   "execution_count": 706,
   "metadata": {},
   "outputs": [
    {
     "name": "stdout",
     "output_type": "stream",
     "text": [
      "bookstore None\n",
      "book None\n",
      "title Everydat Italian\n",
      "author Giada De Laurentiis\n",
      "year 2005\n",
      "price 30.00\n",
      "book None\n",
      "title Harry Potter\n",
      "author Giada De Laurentiis\n",
      "year 2005\n",
      "price 30.00\n"
     ]
    }
   ],
   "source": [
    "for childNode in xmlRoot.iter():\n",
    "    print(childNode.tag,childNode.text)"
   ]
  },
  {
   "cell_type": "code",
   "execution_count": 710,
   "metadata": {},
   "outputs": [
    {
     "name": "stdout",
     "output_type": "stream",
     "text": [
      "year 2005\n",
      "year 2005\n"
     ]
    }
   ],
   "source": [
    "for childNode in xmlRoot.iter(\"year\"):\n",
    "    print(childNode.tag,childNode.text)"
   ]
  },
  {
   "cell_type": "code",
   "execution_count": 748,
   "metadata": {},
   "outputs": [],
   "source": [
    "xmlObj = etree.fromstring(resStr)"
   ]
  },
  {
   "cell_type": "code",
   "execution_count": 749,
   "metadata": {},
   "outputs": [],
   "source": [
    "xmlRoot = etree.ElementTree(xmlObj).getroot()"
   ]
  },
  {
   "cell_type": "code",
   "execution_count": 752,
   "metadata": {},
   "outputs": [
    {
     "name": "stdout",
     "output_type": "stream",
     "text": [
      "<response>\n",
      "\t<header>\n",
      "\t\t<resultCode>00</resultCode>\n",
      "\t\t<resultMsg>NORMAL SERVICE.</resultMsg>\n",
      "\t</header>\n",
      "\t<body>\n",
      "\t\t<items>\n",
      "\t\t\t\n",
      "\t\t\t\t<item>\n",
      "\t\t\t\t    <dataTime>2019-07-10 16:00</dataTime>\n",
      "\t\t\t\t    <cityName>강남구</cityName>\n",
      "\t\t\t\t    <so2Value>0.005</so2Value>\n",
      "\t\t\t\t    <coValue>0.2</coValue>\n",
      "\t\t\t\t    <o3Value>0.024</o3Value>\n",
      "\t\t\t\t    <no2Value>0.013</no2Value>\n",
      "\t\t\t\t    <pm10Value>14</pm10Value>\n",
      "\t\t\t\t    <pm25Value>7</pm25Value>\n",
      "\t\t\t\t</item>\n",
      "\t\t\t\n",
      "\t\t\t\t<item>\n",
      "\t\t\t\t    <dataTime>2019-07-10 16:00</dataTime>\n",
      "\t\t\t\t    <cityName>강동구</cityName>\n",
      "\t\t\t\t    <so2Value>0.003</so2Value>\n",
      "\t\t\t\t    <coValue>0.2</coValue>\n",
      "\t\t\t\t    <o3Value>0.029</o3Value>\n",
      "\t\t\t\t    <no2Value>0.009</no2Value>\n",
      "\t\t\t\t    <pm10Value>15</pm10Value>\n",
      "\t\t\t\t    <pm25Value>8</pm25Value>\n",
      "\t\t\t\t</item>\n",
      "\t\t\t\n",
      "\t\t\t\t<item>\n",
      "\t\t\t\t    <dataTime>2019-07-10 16:00</dataTime>\n",
      "\t\t\t\t    <cityName>강북구</cityName>\n",
      "\t\t\t\t    <so2Value>-</so2Value>\n",
      "\t\t\t\t    <coValue>0.2</coValue>\n",
      "\t\t\t\t    <o3Value>0.032</o3Value>\n",
      "\t\t\t\t    <no2Value>0.008</no2Value>\n",
      "\t\t\t\t    <pm10Value>13</pm10Value>\n",
      "\t\t\t\t    <pm25Value>6</pm25Value>\n",
      "\t\t\t\t</item>\n",
      "\t\t\t\n",
      "\t\t\t\t<item>\n",
      "\t\t\t\t    <dataTime>2019-07-10 16:00</dataTime>\n",
      "\t\t\t\t    <cityName>강서구</cityName>\n",
      "\t\t\t\t    <so2Value>0.004</so2Value>\n",
      "\t\t\t\t    <coValue>0.3</coValue>\n",
      "\t\t\t\t    <o3Value>0.032</o3Value>\n",
      "\t\t\t\t    <no2Value>0.016</no2Value>\n",
      "\t\t\t\t    <pm10Value>12</pm10Value>\n",
      "\t\t\t\t    <pm25Value>7</pm25Value>\n",
      "\t\t\t\t</item>\n",
      "\t\t\t\n",
      "\t\t\t\t<item>\n",
      "\t\t\t\t    <dataTime>2019-07-10 16:00</dataTime>\n",
      "\t\t\t\t    <cityName>관악구</cityName>\n",
      "\t\t\t\t    <so2Value>0.003</so2Value>\n",
      "\t\t\t\t    <coValue>0.1</coValue>\n",
      "\t\t\t\t    <o3Value>0.035</o3Value>\n",
      "\t\t\t\t    <no2Value>0.013</no2Value>\n",
      "\t\t\t\t    <pm10Value>16</pm10Value>\n",
      "\t\t\t\t    <pm25Value>4</pm25Value>\n",
      "\t\t\t\t</item>\n",
      "\t\t\t\n",
      "\t\t\t\t<item>\n",
      "\t\t\t\t    <dataTime>2019-07-10 16:00</dataTime>\n",
      "\t\t\t\t    <cityName>광진구</cityName>\n",
      "\t\t\t\t    <so2Value>0.003</so2Value>\n",
      "\t\t\t\t    <coValue>0.4</coValue>\n",
      "\t\t\t\t    <o3Value>0.026</o3Value>\n",
      "\t\t\t\t    <no2Value>0.012</no2Value>\n",
      "\t\t\t\t    <pm10Value>9</pm10Value>\n",
      "\t\t\t\t    <pm25Value>-</pm25Value>\n",
      "\t\t\t\t</item>\n",
      "\t\t\t\n",
      "\t\t\t\t<item>\n",
      "\t\t\t\t    <dataTime>2019-07-10 16:00</dataTime>\n",
      "\t\t\t\t    <cityName>구로구</cityName>\n",
      "\t\t\t\t    <so2Value>0.004</so2Value>\n",
      "\t\t\t\t    <coValue>-</coValue>\n",
      "\t\t\t\t    <o3Value>0.035</o3Value>\n",
      "\t\t\t\t    <no2Value>0.011</no2Value>\n",
      "\t\t\t\t    <pm10Value>15</pm10Value>\n",
      "\t\t\t\t    <pm25Value>6</pm25Value>\n",
      "\t\t\t\t</item>\n",
      "\t\t\t\n",
      "\t\t\t\t<item>\n",
      "\t\t\t\t    <dataTime>2019-07-10 16:00</dataTime>\n",
      "\t\t\t\t    <cityName>금천구</cityName>\n",
      "\t\t\t\t    <so2Value>0.003</so2Value>\n",
      "\t\t\t\t    <coValue>0.2</coValue>\n",
      "\t\t\t\t    <o3Value>0.028</o3Value>\n",
      "\t\t\t\t    <no2Value>0.013</no2Value>\n",
      "\t\t\t\t    <pm10Value>17</pm10Value>\n",
      "\t\t\t\t    <pm25Value>7</pm25Value>\n",
      "\t\t\t\t</item>\n",
      "\t\t\t\n",
      "\t\t\t\t<item>\n",
      "\t\t\t\t    <dataTime>2019-07-10 16:00</dataTime>\n",
      "\t\t\t\t    <cityName>노원구</cityName>\n",
      "\t\t\t\t    <so2Value>-</so2Value>\n",
      "\t\t\t\t    <coValue>0.2</coValue>\n",
      "\t\t\t\t    <o3Value>0.028</o3Value>\n",
      "\t\t\t\t    <no2Value>0.009</no2Value>\n",
      "\t\t\t\t    <pm10Value>11</pm10Value>\n",
      "\t\t\t\t    <pm25Value>7</pm25Value>\n",
      "\t\t\t\t</item>\n",
      "\t\t\t\n",
      "\t\t\t\t<item>\n",
      "\t\t\t\t    <dataTime>2019-07-10 16:00</dataTime>\n",
      "\t\t\t\t    <cityName>도봉구</cityName>\n",
      "\t\t\t\t    <so2Value>0.003</so2Value>\n",
      "\t\t\t\t    <coValue>0.3</coValue>\n",
      "\t\t\t\t    <o3Value>0.035</o3Value>\n",
      "\t\t\t\t    <no2Value>0.005</no2Value>\n",
      "\t\t\t\t    <pm10Value>11</pm10Value>\n",
      "\t\t\t\t    <pm25Value>4</pm25Value>\n",
      "\t\t\t\t</item>\n",
      "\t\t\t\n",
      "\t\t</items>\n",
      "\t\t<numOfRows>10</numOfRows>\n",
      "        <pageNo>1</pageNo>\n",
      "        <totalCount>625</totalCount>\n",
      "\t</body>\n",
      "</response>\n"
     ]
    }
   ],
   "source": [
    "etree.dump(xmlRoot)"
   ]
  },
  {
   "cell_type": "code",
   "execution_count": 753,
   "metadata": {
    "collapsed": true
   },
   "outputs": [
    {
     "name": "stdout",
     "output_type": "stream",
     "text": [
      "response \n",
      "\t\n",
      "header \n",
      "\t\t\n",
      "resultCode 00\n",
      "resultMsg NORMAL SERVICE.\n",
      "body \n",
      "\t\t\n",
      "items \n",
      "\t\t\t\n",
      "\t\t\t\t\n",
      "item \n",
      "\t\t\t\t    \n",
      "dataTime 2019-07-10 16:00\n",
      "cityName 강남구\n",
      "so2Value 0.005\n",
      "coValue 0.2\n",
      "o3Value 0.024\n",
      "no2Value 0.013\n",
      "pm10Value 14\n",
      "pm25Value 7\n",
      "item \n",
      "\t\t\t\t    \n",
      "dataTime 2019-07-10 16:00\n",
      "cityName 강동구\n",
      "so2Value 0.003\n",
      "coValue 0.2\n",
      "o3Value 0.029\n",
      "no2Value 0.009\n",
      "pm10Value 15\n",
      "pm25Value 8\n",
      "item \n",
      "\t\t\t\t    \n",
      "dataTime 2019-07-10 16:00\n",
      "cityName 강북구\n",
      "so2Value -\n",
      "coValue 0.2\n",
      "o3Value 0.032\n",
      "no2Value 0.008\n",
      "pm10Value 13\n",
      "pm25Value 6\n",
      "item \n",
      "\t\t\t\t    \n",
      "dataTime 2019-07-10 16:00\n",
      "cityName 강서구\n",
      "so2Value 0.004\n",
      "coValue 0.3\n",
      "o3Value 0.032\n",
      "no2Value 0.016\n",
      "pm10Value 12\n",
      "pm25Value 7\n",
      "item \n",
      "\t\t\t\t    \n",
      "dataTime 2019-07-10 16:00\n",
      "cityName 관악구\n",
      "so2Value 0.003\n",
      "coValue 0.1\n",
      "o3Value 0.035\n",
      "no2Value 0.013\n",
      "pm10Value 16\n",
      "pm25Value 4\n",
      "item \n",
      "\t\t\t\t    \n",
      "dataTime 2019-07-10 16:00\n",
      "cityName 광진구\n",
      "so2Value 0.003\n",
      "coValue 0.4\n",
      "o3Value 0.026\n",
      "no2Value 0.012\n",
      "pm10Value 9\n",
      "pm25Value -\n",
      "item \n",
      "\t\t\t\t    \n",
      "dataTime 2019-07-10 16:00\n",
      "cityName 구로구\n",
      "so2Value 0.004\n",
      "coValue -\n",
      "o3Value 0.035\n",
      "no2Value 0.011\n",
      "pm10Value 15\n",
      "pm25Value 6\n",
      "item \n",
      "\t\t\t\t    \n",
      "dataTime 2019-07-10 16:00\n",
      "cityName 금천구\n",
      "so2Value 0.003\n",
      "coValue 0.2\n",
      "o3Value 0.028\n",
      "no2Value 0.013\n",
      "pm10Value 17\n",
      "pm25Value 7\n",
      "item \n",
      "\t\t\t\t    \n",
      "dataTime 2019-07-10 16:00\n",
      "cityName 노원구\n",
      "so2Value -\n",
      "coValue 0.2\n",
      "o3Value 0.028\n",
      "no2Value 0.009\n",
      "pm10Value 11\n",
      "pm25Value 7\n",
      "item \n",
      "\t\t\t\t    \n",
      "dataTime 2019-07-10 16:00\n",
      "cityName 도봉구\n",
      "so2Value 0.003\n",
      "coValue 0.3\n",
      "o3Value 0.035\n",
      "no2Value 0.005\n",
      "pm10Value 11\n",
      "pm25Value 4\n",
      "numOfRows 10\n",
      "pageNo 1\n",
      "totalCount 625\n"
     ]
    }
   ],
   "source": [
    "for node in xmlRoot.iter():\n",
    "    print(node.tag,node.text)dd"
   ]
  },
  {
   "cell_type": "code",
   "execution_count": 779,
   "metadata": {},
   "outputs": [],
   "source": [
    "itemList = xmlRoot.findall(\".//item\")"
   ]
  },
  {
   "cell_type": "code",
   "execution_count": 780,
   "metadata": {},
   "outputs": [
    {
     "name": "stdout",
     "output_type": "stream",
     "text": [
      "10\n"
     ]
    }
   ],
   "source": [
    "print(len(itemList))"
   ]
  },
  {
   "cell_type": "code",
   "execution_count": 756,
   "metadata": {},
   "outputs": [
    {
     "name": "stdout",
     "output_type": "stream",
     "text": [
      "dataTime 2019-07-10 16:00\n",
      "cityName 강남구\n",
      "so2Value 0.005\n",
      "coValue 0.2\n",
      "o3Value 0.024\n",
      "no2Value 0.013\n",
      "pm10Value 14\n",
      "pm25Value 7\n",
      "dataTime 2019-07-10 16:00\n",
      "cityName 강동구\n",
      "so2Value 0.003\n",
      "coValue 0.2\n",
      "o3Value 0.029\n",
      "no2Value 0.009\n",
      "pm10Value 15\n",
      "pm25Value 8\n",
      "dataTime 2019-07-10 16:00\n",
      "cityName 강북구\n",
      "so2Value -\n",
      "coValue 0.2\n",
      "o3Value 0.032\n",
      "no2Value 0.008\n",
      "pm10Value 13\n",
      "pm25Value 6\n",
      "dataTime 2019-07-10 16:00\n",
      "cityName 강서구\n",
      "so2Value 0.004\n",
      "coValue 0.3\n",
      "o3Value 0.032\n",
      "no2Value 0.016\n",
      "pm10Value 12\n",
      "pm25Value 7\n",
      "dataTime 2019-07-10 16:00\n",
      "cityName 관악구\n",
      "so2Value 0.003\n",
      "coValue 0.1\n",
      "o3Value 0.035\n",
      "no2Value 0.013\n",
      "pm10Value 16\n",
      "pm25Value 4\n",
      "dataTime 2019-07-10 16:00\n",
      "cityName 광진구\n",
      "so2Value 0.003\n",
      "coValue 0.4\n",
      "o3Value 0.026\n",
      "no2Value 0.012\n",
      "pm10Value 9\n",
      "pm25Value -\n",
      "dataTime 2019-07-10 16:00\n",
      "cityName 구로구\n",
      "so2Value 0.004\n",
      "coValue -\n",
      "o3Value 0.035\n",
      "no2Value 0.011\n",
      "pm10Value 15\n",
      "pm25Value 6\n",
      "dataTime 2019-07-10 16:00\n",
      "cityName 금천구\n",
      "so2Value 0.003\n",
      "coValue 0.2\n",
      "o3Value 0.028\n",
      "no2Value 0.013\n",
      "pm10Value 17\n",
      "pm25Value 7\n",
      "dataTime 2019-07-10 16:00\n",
      "cityName 노원구\n",
      "so2Value -\n",
      "coValue 0.2\n",
      "o3Value 0.028\n",
      "no2Value 0.009\n",
      "pm10Value 11\n",
      "pm25Value 7\n",
      "dataTime 2019-07-10 16:00\n",
      "cityName 도봉구\n",
      "so2Value 0.003\n",
      "coValue 0.3\n",
      "o3Value 0.035\n",
      "no2Value 0.005\n",
      "pm10Value 11\n",
      "pm25Value 4\n"
     ]
    }
   ],
   "source": [
    "for item in itemList:\n",
    "    for i in range(len(item)):\n",
    "        print(item[i].tag,item[i].text)"
   ]
  },
  {
   "cell_type": "code",
   "execution_count": 797,
   "metadata": {},
   "outputs": [
    {
     "name": "stdout",
     "output_type": "stream",
     "text": [
      "pm25Value 7 cityName 강남구\n",
      "pm25Value 8 cityName 강동구\n",
      "pm25Value 6 cityName 강북구\n",
      "pm25Value 7 cityName 강서구\n",
      "pm25Value 4 cityName 관악구\n",
      "pm25Value - cityName 광진구\n",
      "pm25Value 6 cityName 구로구\n",
      "pm25Value 7 cityName 금천구\n",
      "pm25Value 7 cityName 노원구\n",
      "pm25Value 4 cityName 도봉구\n"
     ]
    }
   ],
   "source": [
    "for item in itemList:\n",
    "    pm25List = item.find(\"./pm25Value\")\n",
    "    cityList = item.find(\"./cityName\")\n",
    "    print(pm25List.tag,pm25List.text,cityList.tag,cityList.text)"
   ]
  },
  {
   "cell_type": "code",
   "execution_count": null,
   "metadata": {},
   "outputs": [],
   "source": []
  }
 ],
 "metadata": {
  "kernelspec": {
   "display_name": "Python 3",
   "language": "python",
   "name": "python3"
  },
  "language_info": {
   "codemirror_mode": {
    "name": "ipython",
    "version": 3
   },
   "file_extension": ".py",
   "mimetype": "text/x-python",
   "name": "python",
   "nbconvert_exporter": "python",
   "pygments_lexer": "ipython3",
   "version": "3.7.3"
  }
 },
 "nbformat": 4,
 "nbformat_minor": 2
}
