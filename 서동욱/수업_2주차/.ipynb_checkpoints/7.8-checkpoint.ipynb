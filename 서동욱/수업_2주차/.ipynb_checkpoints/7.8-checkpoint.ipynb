{
 "cells": [
  {
   "cell_type": "markdown",
   "metadata": {},
   "source": [
    "전에는 Spark가지고 했었는데 이제 안함  \n",
    "고려대는 빅데이터를 머신러닝과 어떻게 활용할건지  \n",
    "\n",
    "빅데이터 다루는 회사는 거의 없다. (분산처리, Hadoop)  \n",
    "비정형 데이터는 다루기 어렵다\n",
    "\n",
    "정규식 : semi-structure, 데이터 잘 정제하려고 이용  \n",
    "파싱하는 것 해볼거임.  \n",
    "\n",
    "비정형데이터 웹에서 어떻게 수집할 지"
   ]
  },
  {
   "cell_type": "markdown",
   "metadata": {},
   "source": [
    "# DBMS"
   ]
  },
  {
   "cell_type": "markdown",
   "metadata": {},
   "source": [
    "- Structed Data는 이미 잘하고 있음\n",
    "- Unstructed Data > 인공지능\n",
    "- Data vs information  \n",
    "있는 것(Data)을 가지고 가치있는 것을 찾으면 그게 information\n",
    "- Structed Database : 특정 column에서는 고정 된 것을 가진다.  \n",
    "데이터 간의 관계를 표현"
   ]
  },
  {
   "cell_type": "markdown",
   "metadata": {},
   "source": [
    "데이터베이스 조건  \n",
    "- 통합 : 중복x 혹은 최소한의 중복만 가지도록\n",
    "- 저장 : 컴퓨터 저장\n",
    "- 공유 : 공동 소유\n",
    "- 운영 : 존재 목적이나 기능수행에 꼭 필요한 데이터 집합"
   ]
  },
  {
   "cell_type": "markdown",
   "metadata": {},
   "source": [
    "데이터베이스 특징\n",
    "- 실시간 접근성\n",
    "- 계속적인 변화\n",
    "- 동시 공유 가능\n",
    "- 내용에 의한 참조 가능 (사용자가 요구하는 내용/값에 따라 참조)  \n",
    "서로 다른 무언가를 구별해주는 것이 있어야 한다."
   ]
  },
  {
   "cell_type": "markdown",
   "metadata": {},
   "source": [
    "Database가 하는 일들을 잘 할 수 있게 도와주는 것 : DBMS  \n",
    "Duplicate data, Missng Data, Inaccurate data, Incorrect Data 있으면 안됨"
   ]
  },
  {
   "cell_type": "markdown",
   "metadata": {},
   "source": [
    "- 관계 데이터 모델, 테이블 ( 아직 제일 많이 쓰임 )\n",
    "- 객체 관계 모델, Object ( 안할거지만 ORM에서 잠깐 봄 )"
   ]
  },
  {
   "cell_type": "markdown",
   "metadata": {},
   "source": [
    "### RDBMS"
   ]
  },
  {
   "cell_type": "markdown",
   "metadata": {},
   "source": [
    "Row : Record, tuple  \n",
    "Cardinality  \n",
    "Primary Key / Unique identifier"
   ]
  },
  {
   "cell_type": "markdown",
   "metadata": {},
   "source": [
    "- Relationship Model  \n",
    "Entity : 직사각형 (Attribute)  \n",
    "DB를 스키마에 맞춰서 할 것이라 필요  \n"
   ]
  },
  {
   "cell_type": "markdown",
   "metadata": {},
   "source": [
    "두개의 Entity 사이에는 Relationship이 있다."
   ]
  },
  {
   "cell_type": "markdown",
   "metadata": {},
   "source": [
    "- Mappling Cardinality"
   ]
  },
  {
   "cell_type": "code",
   "execution_count": null,
   "metadata": {},
   "outputs": [],
   "source": []
  },
  {
   "cell_type": "markdown",
   "metadata": {},
   "source": []
  },
  {
   "cell_type": "markdown",
   "metadata": {},
   "source": []
  },
  {
   "cell_type": "markdown",
   "metadata": {},
   "source": [
    "SELLS has attributes: part(PNO) and supplier (SNO), SELLS connects SUPPLIER and PART"
   ]
  },
  {
   "cell_type": "markdown",
   "metadata": {},
   "source": []
  },
  {
   "cell_type": "markdown",
   "metadata": {},
   "source": [
    "- ER 모델\n",
    "- "
   ]
  },
  {
   "cell_type": "markdown",
   "metadata": {},
   "source": [
    "PK를 이름을 쓰지마라 hash화 불가능"
   ]
  },
  {
   "cell_type": "markdown",
   "metadata": {},
   "source": [
    "SQL 명령\n",
    "- 데이터 정의 언어\n",
    "- 데이터 조작 언어\n",
    "- 데이터 제어 언어"
   ]
  },
  {
   "cell_type": "markdown",
   "metadata": {},
   "source": [
    "서버사용 ㄴㄴ SQL Liter쓸 것  \n",
    "만약 회사에서 하면 update, del, drop 같은 명령어 사용불가  \n",
    "update나 drop같은거 기존 데이터 날려야해서 너무 위험하다"
   ]
  },
  {
   "cell_type": "markdown",
   "metadata": {},
   "source": [
    "- Statement"
   ]
  },
  {
   "cell_type": "markdown",
   "metadata": {},
   "source": [
    "세미콜론 있어야함  \n",
    "UPDATE country  \n",
    "SET population = p/opulation +1   \n",
    "WHERE name = 'USA'  "
   ]
  },
  {
   "cell_type": "markdown",
   "metadata": {},
   "source": [
    "LOB data는 무거워서 안쓰는게 낫다\n"
   ]
  },
  {
   "cell_type": "markdown",
   "metadata": {},
   "source": [
    "왓다갔다(글자수가 바뀌는 것) 하는 것 VARCHAR"
   ]
  },
  {
   "cell_type": "markdown",
   "metadata": {},
   "source": [
    "CHAR : 고정된 길이를 갖는 type  \n",
    "Size 실제로 작으면 공백으로 패딩\n"
   ]
  },
  {
   "cell_type": "markdown",
   "metadata": {},
   "source": [
    "Date / Time"
   ]
  },
  {
   "cell_type": "markdown",
   "metadata": {},
   "source": [
    "CREATE TABLE [table name] ( [column definitions ) [table parameters]"
   ]
  },
  {
   "cell_type": "markdown",
   "metadata": {},
   "source": [
    "CREATE TABLE employees (  \n",
    "id INTERGER PRIMARY KEY,  \n",
    "first name VARCHAR(50) not null,  \n",
    "last_name VARCHAR(75) not null,  \n",
    "fname VARCHAR(50) not null  \n",
    "dateofbirt DATE not null  \n",
    ");"
   ]
  },
  {
   "cell_type": "markdown",
   "metadata": {},
   "source": [
    "Not null이 없으면 중간 중간 데이터 빠져도 된다."
   ]
  },
  {
   "cell_type": "markdown",
   "metadata": {},
   "source": [
    "- DROP objecttype objectname : 데이터베이스를 날려버리는 것, 쓰지마라 웬만하면"
   ]
  },
  {
   "cell_type": "markdown",
   "metadata": {},
   "source": [
    "- DROP TABLE employees"
   ]
  },
  {
   "cell_type": "markdown",
   "metadata": {},
   "source": [
    "- TRUNCATE : 싹다 인덱스까지 초기화\n",
    "- delete는 index는 남아있음"
   ]
  },
  {
   "cell_type": "markdown",
   "metadata": {},
   "source": [
    "ALTER objecttype objectname parameters"
   ]
  },
  {
   "cell_type": "markdown",
   "metadata": {},
   "source": [
    "INSERT INTO phone_book (name, number) VALUES ('John Doe','555-1212')"
   ]
  },
  {
   "cell_type": "code",
   "execution_count": null,
   "metadata": {},
   "outputs": [],
   "source": [
    "SELECT CustomerName, City From Customers;\n",
    "SELECT * FROM Customers\n",
    "# 테이블을 여러개 쓰면 좋지않다. 필요한 것만 가져와라"
   ]
  },
  {
   "cell_type": "code",
   "execution_count": 15,
   "metadata": {},
   "outputs": [
    {
     "ename": "SyntaxError",
     "evalue": "invalid character in identifier (<ipython-input-15-f72262704db9>, line 1)",
     "output_type": "error",
     "traceback": [
      "\u001b[1;36m  File \u001b[1;32m\"<ipython-input-15-f72262704db9>\"\u001b[1;36m, line \u001b[1;32m1\u001b[0m\n\u001b[1;33m    ★★★ 기본식 ★★★\u001b[0m\n\u001b[1;37m      ^\u001b[0m\n\u001b[1;31mSyntaxError\u001b[0m\u001b[1;31m:\u001b[0m invalid character in identifier\n"
     ]
    }
   ],
   "source": [
    "★★★ 기본식 ★★★\n",
    "SELECT [ALL | DISTINCE] 컬럼명 [,컬럼명...]\n",
    "FROM 테이블명 [,테이블명...]\n",
    "[WHERE 조건식]\n",
    "[GROUP BY 컬럼명 [ HAVING 조건식]] # 그룹으로 묶어서 보는 것\n",
    "[ORDER BY 컬럼명] DESC \n",
    "GROUP BY 컬럼명 [,컬럼명...]\n",
    "ORDER BY 컬럼명 [,컬럼명...]"
   ]
  },
  {
   "cell_type": "markdown",
   "metadata": {},
   "source": [
    "연산자"
   ]
  },
  {
   "cell_type": "code",
   "execution_count": 16,
   "metadata": {},
   "outputs": [
    {
     "ename": "SyntaxError",
     "evalue": "invalid syntax (<ipython-input-16-9d00f05aec61>, line 1)",
     "output_type": "error",
     "traceback": [
      "\u001b[1;36m  File \u001b[1;32m\"<ipython-input-16-9d00f05aec61>\"\u001b[1;36m, line \u001b[1;32m1\u001b[0m\n\u001b[1;33m    = Equal\u001b[0m\n\u001b[1;37m    ^\u001b[0m\n\u001b[1;31mSyntaxError\u001b[0m\u001b[1;31m:\u001b[0m invalid syntax\n"
     ]
    }
   ],
   "source": [
    "= Equal\n",
    "<> Not equal\n",
    "LIKE 유사한 pattern\n",
    "BETWEEN 특정 범위\n"
   ]
  },
  {
   "cell_type": "markdown",
   "metadata": {},
   "source": [
    "DELTE"
   ]
  },
  {
   "cell_type": "markdown",
   "metadata": {},
   "source": [
    "DELETE FROM mytable WHERE mycol > 100 AND item = 'Hammer'"
   ]
  },
  {
   "cell_type": "markdown",
   "metadata": {},
   "source": [
    "'a%' : a로 시작\n",
    "'%a' : a로 끝남\n",
    "'%or%' : or가 들어있으면 됨\n",
    "'_r%' : 한글자 아무거나 있고 r 뒤에 아무거나\n",
    "'a%o' : a와 o사이에 아무거나"
   ]
  },
  {
   "cell_type": "markdown",
   "metadata": {},
   "source": [
    "UPDATE : 데이터의 값을 바꾸는 것  \n",
    "기존의 데이터를 잃어버릴 가능성이 큼"
   ]
  },
  {
   "cell_type": "code",
   "execution_count": null,
   "metadata": {},
   "outputs": [],
   "source": [
    "DELETE FROM table_name\n",
    "WHERE "
   ]
  },
  {
   "cell_type": "code",
   "execution_count": null,
   "metadata": {},
   "outputs": [],
   "source": [
    "DELETE FROM Customers\n",
    "WHERE CustomerName = 'Alfreds Futterkiste';"
   ]
  },
  {
   "cell_type": "markdown",
   "metadata": {},
   "source": [
    "JOINS"
   ]
  },
  {
   "cell_type": "code",
   "execution_count": null,
   "metadata": {},
   "outputs": [],
   "source": [
    "INNER JOIN\n",
    "LEFT JOIN\n",
    "RIGHT JOIN\n",
    "FULL OUTER JOIN"
   ]
  },
  {
   "cell_type": "code",
   "execution_count": null,
   "metadata": {},
   "outputs": [],
   "source": [
    "SELECT Order.OrderID, Customers.CustomerName, Orders.OrderDate\n",
    "From Orders\n",
    "Inner Join Customers On"
   ]
  },
  {
   "cell_type": "code",
   "execution_count": null,
   "metadata": {},
   "outputs": [],
   "source": [
    "CREATE TABLE department\n",
    "(\n",
    "    DepartmentId INT Primary key,\n",
    "    DepartmentName VARCHAR(20)\n",
    ")\n",
    "\n",
    "CREATE TABLE employee\n",
    "(\n",
    "    LastName VARCHAR(20),\n",
    "    DepartmentID INT references department(DepartmentID)\n",
    ");\n",
    "\n",
    "INSERT INTO department VALUES(31,'Sales');\n",
    "INSERT INTO department VALUES(31,'Sales');\n",
    "..."
   ]
  },
  {
   "cell_type": "code",
   "execution_count": 18,
   "metadata": {},
   "outputs": [
    {
     "ename": "SyntaxError",
     "evalue": "invalid syntax (<ipython-input-18-ac576b1759b0>, line 1)",
     "output_type": "error",
     "traceback": [
      "\u001b[1;36m  File \u001b[1;32m\"<ipython-input-18-ac576b1759b0>\"\u001b[1;36m, line \u001b[1;32m1\u001b[0m\n\u001b[1;33m    SELECT *\u001b[0m\n\u001b[1;37m             ^\u001b[0m\n\u001b[1;31mSyntaxError\u001b[0m\u001b[1;31m:\u001b[0m invalid syntax\n"
     ]
    }
   ],
   "source": [
    "SELECT * \n",
    "From employee CROSS JOIN department\n",
    "각쌍을 다만들어냄 : 속도가 매우 느림 -> 비추천"
   ]
  },
  {
   "cell_type": "code",
   "execution_count": 19,
   "metadata": {},
   "outputs": [
    {
     "ename": "SyntaxError",
     "evalue": "invalid syntax (<ipython-input-19-711629c63b04>, line 1)",
     "output_type": "error",
     "traceback": [
      "\u001b[1;36m  File \u001b[1;32m\"<ipython-input-19-711629c63b04>\"\u001b[1;36m, line \u001b[1;32m1\u001b[0m\n\u001b[1;33m    SELECT employee.LastName, employee.DepartmentID, department.DepartmentName\u001b[0m\n\u001b[1;37m                  ^\u001b[0m\n\u001b[1;31mSyntaxError\u001b[0m\u001b[1;31m:\u001b[0m invalid syntax\n"
     ]
    }
   ],
   "source": [
    "SELECT employee.LastName, employee.DepartmentID, department.DepartmentName\n",
    "From employee\n",
    "INNER JOIN department ON\n",
    "employee.DepartmentID = department.DepartmentID"
   ]
  },
  {
   "cell_type": "code",
   "execution_count": 20,
   "metadata": {},
   "outputs": [
    {
     "ename": "SyntaxError",
     "evalue": "invalid syntax (<ipython-input-20-8fb5b6821b7b>, line 1)",
     "output_type": "error",
     "traceback": [
      "\u001b[1;36m  File \u001b[1;32m\"<ipython-input-20-8fb5b6821b7b>\"\u001b[1;36m, line \u001b[1;32m1\u001b[0m\n\u001b[1;33m    LEFT OUTER JOIN\u001b[0m\n\u001b[1;37m             ^\u001b[0m\n\u001b[1;31mSyntaxError\u001b[0m\u001b[1;31m:\u001b[0m invalid syntax\n"
     ]
    }
   ],
   "source": [
    "LEFT OUTER JOIN\n",
    "RIGHT OUTER JOIN"
   ]
  },
  {
   "cell_type": "code",
   "execution_count": null,
   "metadata": {},
   "outputs": [],
   "source": [
    "SELECT * \n",
    "FROM employee RIGHT OUTER JOIN department\n",
    "ON employee.DepartmentID = department.DepartmentID;"
   ]
  },
  {
   "cell_type": "code",
   "execution_count": 21,
   "metadata": {},
   "outputs": [
    {
     "ename": "SyntaxError",
     "evalue": "invalid syntax (<ipython-input-21-26c8798ae253>, line 1)",
     "output_type": "error",
     "traceback": [
      "\u001b[1;36m  File \u001b[1;32m\"<ipython-input-21-26c8798ae253>\"\u001b[1;36m, line \u001b[1;32m1\u001b[0m\n\u001b[1;33m    SELECT * FROM PART; : 절이 2개\u001b[0m\n\u001b[1;37m                     ^\u001b[0m\n\u001b[1;31mSyntaxError\u001b[0m\u001b[1;31m:\u001b[0m invalid syntax\n"
     ]
    }
   ],
   "source": [
    "SELECT * FROM PART; : 절이 2개\n",
    "SELECT * FROM SELLS WHERE PRICE > 11; : 절이 3개\n",
    "SELECT SNO,PRICE FROM SELLS WHERE PRICE > 11;\n",
    "SELECT PNO,PRICE FROM SELLS WHERE PNO = 1 AND PRICE <= 10;\n",
    "\n",
    "SELECT * FROM SUPPLIER, PART; (CROSS JOIN - 4*4)\n",
    "SELECT S.SNAME, C.CNAME FROM SUPPLIER AS S, CITY AS C WHERE S.CNO = C.CNO;\n",
    "SELECT SNAME AS LondonSuppliers FROM SUPPLIER, CITY (CROSS JOIN - 4*4)\n",
    "SELECT SNAME AS LondonSuppliers FROM SUPPLIER, CITY (CROSS JOIN - 4*4)\n",
    "..."
   ]
  },
  {
   "cell_type": "markdown",
   "metadata": {},
   "source": [
    "# SQLite"
   ]
  },
  {
   "cell_type": "code",
   "execution_count": 22,
   "metadata": {},
   "outputs": [
    {
     "ename": "SyntaxError",
     "evalue": "invalid syntax (<ipython-input-22-69c618b46bba>, line 3)",
     "output_type": "error",
     "traceback": [
      "\u001b[1;36m  File \u001b[1;32m\"<ipython-input-22-69c618b46bba>\"\u001b[1;36m, line \u001b[1;32m3\u001b[0m\n\u001b[1;33m    파일로 존재\u001b[0m\n\u001b[1;37m         ^\u001b[0m\n\u001b[1;31mSyntaxError\u001b[0m\u001b[1;31m:\u001b[0m invalid syntax\n"
     ]
    }
   ],
   "source": [
    "오픈소스(개인)\n",
    "서버없음\n",
    "파일로 존재\n",
    "설정 필요 x\n",
    "RDBMS 지원\n",
    "많이쓰이고 가벼움"
   ]
  },
  {
   "cell_type": "code",
   "execution_count": 26,
   "metadata": {},
   "outputs": [
    {
     "data": {
      "text/plain": [
       "'2.6.0'"
      ]
     },
     "execution_count": 26,
     "metadata": {},
     "output_type": "execute_result"
    }
   ],
   "source": [
    "sql3.version"
   ]
  },
  {
   "cell_type": "code",
   "execution_count": 29,
   "metadata": {},
   "outputs": [
    {
     "data": {
      "text/plain": [
       "'3.27.2'"
      ]
     },
     "execution_count": 29,
     "metadata": {},
     "output_type": "execute_result"
    }
   ],
   "source": [
    "sql3.sqlite_version"
   ]
  },
  {
   "cell_type": "code",
   "execution_count": 33,
   "metadata": {},
   "outputs": [],
   "source": [
    "conn = sql3.connect('sqlite3') # 내마음대로 이름. disk에저장"
   ]
  },
  {
   "cell_type": "code",
   "execution_count": 37,
   "metadata": {},
   "outputs": [],
   "source": [
    "conn = sql3.connect(':memory:') # ram에 저장"
   ]
  },
  {
   "cell_type": "code",
   "execution_count": 36,
   "metadata": {},
   "outputs": [],
   "source": [
    "cur = conn.cursor() # sql문을 통해서 주고받음"
   ]
  },
  {
   "cell_type": "code",
   "execution_count": 39,
   "metadata": {},
   "outputs": [
    {
     "data": {
      "text/plain": [
       "['__class__',\n",
       " '__delattr__',\n",
       " '__dir__',\n",
       " '__doc__',\n",
       " '__eq__',\n",
       " '__format__',\n",
       " '__ge__',\n",
       " '__getattribute__',\n",
       " '__gt__',\n",
       " '__hash__',\n",
       " '__init__',\n",
       " '__init_subclass__',\n",
       " '__iter__',\n",
       " '__le__',\n",
       " '__lt__',\n",
       " '__ne__',\n",
       " '__new__',\n",
       " '__next__',\n",
       " '__reduce__',\n",
       " '__reduce_ex__',\n",
       " '__repr__',\n",
       " '__setattr__',\n",
       " '__sizeof__',\n",
       " '__str__',\n",
       " '__subclasshook__',\n",
       " 'arraysize',\n",
       " 'close',\n",
       " 'connection',\n",
       " 'description',\n",
       " 'execute',\n",
       " 'executemany',\n",
       " 'executescript',\n",
       " 'fetchall',\n",
       " 'fetchmany',\n",
       " 'fetchone',\n",
       " 'lastrowid',\n",
       " 'row_factory',\n",
       " 'rowcount',\n",
       " 'setinputsizes',\n",
       " 'setoutputsize']"
      ]
     },
     "execution_count": 39,
     "metadata": {},
     "output_type": "execute_result"
    }
   ],
   "source": [
    "dir(cur) # execute  ~ fetchone\n",
    "# fetchone 가져온 데이터를 파싱\n",
    "# execute는 sql문을 실행하는 것\n",
    "# connection은 쓰지 말기 (별로 안좋음) : database 접속\n",
    "# cursor를 통해 sql문 주고받기 : database connection으로부터 생성된 instance"
   ]
  },
  {
   "cell_type": "code",
   "execution_count": 43,
   "metadata": {},
   "outputs": [],
   "source": [
    "# executemany : sequential한 데이터를 같은 쿼리가지고 여러번 실행함.\n",
    "# executescript : 한가지 제대로 하려고 할 때\n",
    "# fetchall : 다가져옴\n",
    "# fetchMany : 지정한 갯수만큼 가지고 온다.\n",
    "# fetchone "
   ]
  },
  {
   "cell_type": "code",
   "execution_count": 45,
   "metadata": {},
   "outputs": [
    {
     "data": {
      "text/plain": [
       "<sqlite3.Cursor at 0x1ecd1239490>"
      ]
     },
     "execution_count": 45,
     "metadata": {},
     "output_type": "execute_result"
    }
   ],
   "source": [
    "cur.execute(\"select sqlite_version();\") # 백단에서 돌아가는 것"
   ]
  },
  {
   "cell_type": "code",
   "execution_count": 46,
   "metadata": {},
   "outputs": [
    {
     "data": {
      "text/plain": [
       "[('3.27.2',)]"
      ]
     },
     "execution_count": 46,
     "metadata": {},
     "output_type": "execute_result"
    }
   ],
   "source": [
    "cur.fetchall()"
   ]
  },
  {
   "cell_type": "code",
   "execution_count": 49,
   "metadata": {},
   "outputs": [
    {
     "data": {
      "text/plain": [
       "True"
      ]
     },
     "execution_count": 49,
     "metadata": {},
     "output_type": "execute_result"
    }
   ],
   "source": [
    "sql3.complete_statement(\"select sqlite_version();\") # sql문이 문법에 맞는지 체크해줌. 제대로 끝났는지\n",
    "# 세미콜론이 반드시 있어야함 (없으면 false)\n",
    "# sql문이 여러개가 있으면 계속넘어감\n",
    "# 한문장일때는 에러안날지 몰라도 여러개면 에러 날 것이다."
   ]
  },
  {
   "cell_type": "code",
   "execution_count": 84,
   "metadata": {},
   "outputs": [
    {
     "ename": "OperationalError",
     "evalue": "table people already exists",
     "output_type": "error",
     "traceback": [
      "\u001b[1;31m---------------------------------------------------------------------------\u001b[0m",
      "\u001b[1;31mOperationalError\u001b[0m                          Traceback (most recent call last)",
      "\u001b[1;32m<ipython-input-84-baaadfeab3e3>\u001b[0m in \u001b[0;36m<module>\u001b[1;34m\u001b[0m\n\u001b[1;32m----> 1\u001b[1;33m \u001b[0mcur\u001b[0m\u001b[1;33m.\u001b[0m\u001b[0mexecute\u001b[0m\u001b[1;33m(\u001b[0m\u001b[1;34m\"create table people (name_last,age)\"\u001b[0m\u001b[1;33m)\u001b[0m\u001b[1;33m\u001b[0m\u001b[1;33m\u001b[0m\u001b[0m\n\u001b[0m\u001b[0;32m      2\u001b[0m \u001b[0mwho\u001b[0m \u001b[1;33m=\u001b[0m \u001b[1;34m\"YLETsin\"\u001b[0m\u001b[1;33m\u001b[0m\u001b[1;33m\u001b[0m\u001b[0m\n\u001b[0;32m      3\u001b[0m \u001b[0mage\u001b[0m \u001b[1;33m=\u001b[0m \u001b[1;36m72\u001b[0m\u001b[1;33m\u001b[0m\u001b[1;33m\u001b[0m\u001b[0m\n\u001b[0;32m      4\u001b[0m \u001b[1;33m\u001b[0m\u001b[0m\n\u001b[0;32m      5\u001b[0m \u001b[0mcur\u001b[0m\u001b[1;33m.\u001b[0m\u001b[0mexecute\u001b[0m\u001b[1;33m(\u001b[0m\u001b[1;34m\"insert into people values (?,?)\"\u001b[0m\u001b[1;33m,\u001b[0m\u001b[1;33m(\u001b[0m\u001b[0mwho\u001b[0m\u001b[1;33m,\u001b[0m\u001b[0mage\u001b[0m\u001b[1;33m)\u001b[0m\u001b[1;33m)\u001b[0m \u001b[1;31m# 컬럼명 어차피 2개여서 생략함.\u001b[0m\u001b[1;33m\u001b[0m\u001b[1;33m\u001b[0m\u001b[0m\n",
      "\u001b[1;31mOperationalError\u001b[0m: table people already exists"
     ]
    }
   ],
   "source": [
    "cur.execute(\"create table people (name_last,age)\")\n",
    "who = \"YLETsin\"\n",
    "age = 72\n",
    "\n",
    "cur.execute(\"insert into people values (?,?)\",(who,age)) # 컬럼명 어차피 2개여서 생략함.\n",
    "\n",
    "# qmark는 복잡해지거나 변수 많아지면 나중에 힘들다."
   ]
  },
  {
   "cell_type": "code",
   "execution_count": 85,
   "metadata": {},
   "outputs": [
    {
     "data": {
      "text/plain": [
       "<sqlite3.Cursor at 0x1ecd1239490>"
      ]
     },
     "execution_count": 85,
     "metadata": {},
     "output_type": "execute_result"
    }
   ],
   "source": [
    "cur.execute(\"select * from people where name_last = :who and age = :age\",\n",
    "           {\"who\":who,\"age\":age})"
   ]
  },
  {
   "cell_type": "code",
   "execution_count": 101,
   "metadata": {},
   "outputs": [
    {
     "name": "stdout",
     "output_type": "stream",
     "text": [
      "None\n"
     ]
    }
   ],
   "source": [
    "print(cur.fetchone())"
   ]
  },
  {
   "cell_type": "code",
   "execution_count": 95,
   "metadata": {},
   "outputs": [
    {
     "data": {
      "text/plain": [
       "<sqlite3.Cursor at 0x1ecd1239490>"
      ]
     },
     "execution_count": 95,
     "metadata": {},
     "output_type": "execute_result"
    }
   ],
   "source": [
    "data = {('A',1),('B',1),('C',1)}\n",
    "cur.executemany(\"INSERT INTO people VALUES(?,?)\",data)"
   ]
  },
  {
   "cell_type": "code",
   "execution_count": 98,
   "metadata": {},
   "outputs": [],
   "source": [
    "datadict = [{'who':'E','age':1},{'who':'F','age':1}]"
   ]
  },
  {
   "cell_type": "code",
   "execution_count": 100,
   "metadata": {},
   "outputs": [
    {
     "data": {
      "text/plain": [
       "<sqlite3.Cursor at 0x1ecd1239490>"
      ]
     },
     "execution_count": 100,
     "metadata": {},
     "output_type": "execute_result"
    }
   ],
   "source": [
    "cur.executemany(\"INSERT INTO people VALUES(:who,:age)\",datadict)"
   ]
  },
  {
   "cell_type": "markdown",
   "metadata": {},
   "source": [
    "executescript"
   ]
  },
  {
   "cell_type": "code",
   "execution_count": 105,
   "metadata": {},
   "outputs": [
    {
     "ename": "OperationalError",
     "evalue": "table person already exists",
     "output_type": "error",
     "traceback": [
      "\u001b[1;31m---------------------------------------------------------------------------\u001b[0m",
      "\u001b[1;31mOperationalError\u001b[0m                          Traceback (most recent call last)",
      "\u001b[1;32m<ipython-input-105-17d6828192a1>\u001b[0m in \u001b[0;36m<module>\u001b[1;34m\u001b[0m\n\u001b[0;32m      6\u001b[0m  \u001b[0minsert\u001b[0m \u001b[0minto\u001b[0m \u001b[0mperson\u001b[0m \u001b[0mvalues\u001b[0m\u001b[1;33m(\u001b[0m\u001b[1;34m'name'\u001b[0m\u001b[1;33m,\u001b[0m\u001b[1;34m'kim'\u001b[0m\u001b[1;33m)\u001b[0m\u001b[1;33m;\u001b[0m\u001b[1;33m\u001b[0m\u001b[1;33m\u001b[0m\u001b[0m\n\u001b[0;32m      7\u001b[0m  \u001b[0minsert\u001b[0m \u001b[0minto\u001b[0m \u001b[0mperson\u001b[0m \u001b[0mvalues\u001b[0m\u001b[1;33m(\u001b[0m\u001b[1;34m'name'\u001b[0m\u001b[1;33m,\u001b[0m\u001b[1;34m'seo'\u001b[0m\u001b[1;33m)\u001b[0m\u001b[1;33m;\u001b[0m\u001b[1;33m\u001b[0m\u001b[1;33m\u001b[0m\u001b[0m\n\u001b[1;32m----> 8\u001b[1;33m \"\"\")\n\u001b[0m",
      "\u001b[1;31mOperationalError\u001b[0m: table person already exists"
     ]
    }
   ],
   "source": [
    "cur.executescript(\"\"\"\n",
    " create table person(\n",
    " first_name text primary key,\n",
    " last_name text not null);\n",
    " \n",
    " insert into person values('name','kim'); \n",
    "\"\"\")"
   ]
  },
  {
   "cell_type": "code",
   "execution_count": 106,
   "metadata": {},
   "outputs": [
    {
     "data": {
      "text/plain": [
       "<sqlite3.Cursor at 0x1ecd1239490>"
      ]
     },
     "execution_count": 106,
     "metadata": {},
     "output_type": "execute_result"
    }
   ],
   "source": [
    "cur.execute('select * from person') # select는 별도로 써줘야한다."
   ]
  },
  {
   "cell_type": "code",
   "execution_count": 110,
   "metadata": {},
   "outputs": [
    {
     "name": "stdout",
     "output_type": "stream",
     "text": [
      "[]\n"
     ]
    }
   ],
   "source": [
    "print(cur.fetchall())"
   ]
  },
  {
   "cell_type": "code",
   "execution_count": 112,
   "metadata": {},
   "outputs": [],
   "source": [
    "cur.fetchone()"
   ]
  },
  {
   "cell_type": "code",
   "execution_count": 113,
   "metadata": {},
   "outputs": [
    {
     "data": {
      "text/plain": [
       "[]"
      ]
     },
     "execution_count": 113,
     "metadata": {},
     "output_type": "execute_result"
    }
   ],
   "source": [
    "cur.fetchmany(size=3)"
   ]
  },
  {
   "cell_type": "code",
   "execution_count": 120,
   "metadata": {},
   "outputs": [],
   "source": [
    "conn.close()"
   ]
  },
  {
   "cell_type": "code",
   "execution_count": 119,
   "metadata": {},
   "outputs": [
    {
     "data": {
      "text/plain": [
       "<sqlite3.Connection at 0x1ecd1185650>"
      ]
     },
     "execution_count": 119,
     "metadata": {},
     "output_type": "execute_result"
    }
   ],
   "source": [
    "conn"
   ]
  },
  {
   "cell_type": "code",
   "execution_count": 123,
   "metadata": {},
   "outputs": [],
   "source": [
    "cur.close()"
   ]
  },
  {
   "cell_type": "code",
   "execution_count": 1,
   "metadata": {},
   "outputs": [],
   "source": [
    "import sqlite3 as sql3"
   ]
  },
  {
   "cell_type": "code",
   "execution_count": 2,
   "metadata": {},
   "outputs": [
    {
     "name": "stdout",
     "output_type": "stream",
     "text": [
      "Opened database successfully\n",
      "Table created successfully\n"
     ]
    }
   ],
   "source": [
    "conn = sql3.connect('create.db')\n",
    "print(\"Opened database successfully\")\n",
    "cur = conn.cursor()\n",
    "cur.execute('''\n",
    "    CREATE TABLE COMPANY(\n",
    "    ID INT PRIMARY KEY NOT NULL,\n",
    "    NAME TEXT NOT NULL,\n",
    "    AGE INT NOT NULL,\n",
    "    ADDRESS CHAR(50),\n",
    "    SALARY REAL);\n",
    "''')\n",
    "print(\"Table created successfully\")"
   ]
  },
  {
   "cell_type": "code",
   "execution_count": 162,
   "metadata": {
    "scrolled": false
   },
   "outputs": [
    {
     "ename": "OperationalError",
     "evalue": "database is locked",
     "output_type": "error",
     "traceback": [
      "\u001b[1;31m---------------------------------------------------------------------------\u001b[0m",
      "\u001b[1;31mOperationalError\u001b[0m                          Traceback (most recent call last)",
      "\u001b[1;32m<ipython-input-162-49963d2d467e>\u001b[0m in \u001b[0;36m<module>\u001b[1;34m\u001b[0m\n\u001b[1;32m----> 1\u001b[1;33m \u001b[0mcur\u001b[0m\u001b[1;33m.\u001b[0m\u001b[0mexecute\u001b[0m\u001b[1;33m(\u001b[0m\u001b[1;34m'drop table COMPANY'\u001b[0m\u001b[1;33m)\u001b[0m\u001b[1;33m\u001b[0m\u001b[1;33m\u001b[0m\u001b[0m\n\u001b[0m",
      "\u001b[1;31mOperationalError\u001b[0m: database is locked"
     ]
    }
   ],
   "source": [
    "cur.execute('drop table COMPANY')"
   ]
  },
  {
   "cell_type": "code",
   "execution_count": null,
   "metadata": {},
   "outputs": [],
   "source": [
    "# 커서객체의 last low ID 쳐보기"
   ]
  },
  {
   "cell_type": "code",
   "execution_count": 3,
   "metadata": {},
   "outputs": [
    {
     "data": {
      "text/plain": [
       "(1, 1)"
      ]
     },
     "execution_count": 3,
     "metadata": {},
     "output_type": "execute_result"
    }
   ],
   "source": [
    "cur.execute(\"INSERT INTO COMPANY (ID,NAME,AGE,ADDRESS,SALARY) \\\n",
    "VALUES(1,'paul',32,'California',20000.00)\");\n",
    "cur.lastrowid, conn.total_changes"
   ]
  },
  {
   "cell_type": "code",
   "execution_count": 4,
   "metadata": {},
   "outputs": [],
   "source": [
    "cur.execute(\"INSERT INTO COMPANY (ID,NAME,AGE,ADDRESS,SALARY) \\\n",
    "VALUES(:id,:name,:age,:address,:salary)\",{'id':2,'name':'Allen','age':25,'address':'Texas','salary':15000.00});"
   ]
  },
  {
   "cell_type": "code",
   "execution_count": 8,
   "metadata": {},
   "outputs": [],
   "source": [
    "data = [(3,'Teddy',23,'Norway',200000.00),\n",
    "       (4,'Mark',25,'Rich-Mond',65000.00)]"
   ]
  },
  {
   "cell_type": "code",
   "execution_count": 9,
   "metadata": {},
   "outputs": [],
   "source": [
    "cur.executemany(\"INSERT INTO COMPANY (ID,NAME,AGE,ADDRESS,SALARY)\\\n",
    "VALUES(?,?,?,?,?)\",data);"
   ]
  },
  {
   "cell_type": "code",
   "execution_count": 17,
   "metadata": {},
   "outputs": [
    {
     "data": {
      "text/plain": [
       "<sqlite3.Cursor at 0x206b8df1110>"
      ]
     },
     "execution_count": 17,
     "metadata": {},
     "output_type": "execute_result"
    }
   ],
   "source": [
    "cur.executescript(\"\"\" \n",
    "INSERT INTO COMPANY (ID,NAME,AGE,ADDRESS,SALARY)\n",
    "VALUES (9,'Mark1',25,'Rich-Mond',65000.00);\n",
    "\n",
    "INSERT INTO COMPANY (ID,NAME,AGE,ADDRESS,SALARY)\n",
    "VALUES (10,'Mark2',25,'Rich-Mond',65000.00);\n",
    "\"\"\") # executescript는 commit을 자동으로 실행함"
   ]
  },
  {
   "cell_type": "code",
   "execution_count": 15,
   "metadata": {
    "scrolled": true
   },
   "outputs": [
    {
     "name": "stdout",
     "output_type": "stream",
     "text": [
      "RECORDS created successfully\n"
     ]
    }
   ],
   "source": [
    "conn.commit() # transaction 하는 것 (database에 반영됨.) 오류나면 롤백을 위해서 commit이 필요함\n",
    "print(\"RECORDS created successfully\")"
   ]
  },
  {
   "cell_type": "code",
   "execution_count": 13,
   "metadata": {
    "scrolled": false
   },
   "outputs": [
    {
     "data": {
      "text/plain": [
       "2"
      ]
     },
     "execution_count": 13,
     "metadata": {},
     "output_type": "execute_result"
    }
   ],
   "source": [
    "cur.lastrowid"
   ]
  },
  {
   "cell_type": "code",
   "execution_count": 14,
   "metadata": {},
   "outputs": [],
   "source": [
    "data = [(7,'Teddy',23,'Norway',200000.00),\n",
    "       (8,'Mark',25,'Rich-Mond',65000.00)]\n",
    "cur.executemany(\"INSERT INTO COMPANY (ID,NAME,AGE,ADDRESS,SALARY)\\\n",
    "VALUES(?,?,?,?,?)\",data);"
   ]
  },
  {
   "cell_type": "code",
   "execution_count": 14,
   "metadata": {},
   "outputs": [
    {
     "name": "stdout",
     "output_type": "stream",
     "text": [
      "ID =  1\n",
      "NAME =  paul\n",
      "ADDRESS =  California\n",
      "SALARY =  20000.0\n",
      "<class 'int'> <class 'str'> <class 'str'> <class 'float'>\n",
      "\n",
      "ID =  2\n",
      "NAME =  Allen\n",
      "ADDRESS =  Texas\n",
      "SALARY =  15000.0\n",
      "<class 'int'> <class 'str'> <class 'str'> <class 'float'>\n",
      "\n",
      "ID =  3\n",
      "NAME =  Teddy\n",
      "ADDRESS =  Norway\n",
      "SALARY =  200000.0\n",
      "<class 'int'> <class 'str'> <class 'str'> <class 'float'>\n",
      "\n",
      "ID =  4\n",
      "NAME =  Mark\n",
      "ADDRESS =  Rich-Mond\n",
      "SALARY =  65000.0\n",
      "<class 'int'> <class 'str'> <class 'str'> <class 'float'>\n",
      "\n",
      "Operation done successfully\n"
     ]
    }
   ],
   "source": [
    "cursor = cur.execute(\"SELECT id,name,address,salary from COMPANY\")\n",
    "for row in cursor:\n",
    "    print(\"ID = \",row[0])\n",
    "    print(\"NAME = \",row[1])\n",
    "    print(\"ADDRESS = \",row[2])\n",
    "    print(\"SALARY = \",row[3])\n",
    "    \n",
    "    print(type(row[0]),type(row[1]),type(row[2]),type(row[3]),end='\\n\\n')\n",
    "    \n",
    "print(\"Operation done successfully\")"
   ]
  },
  {
   "cell_type": "code",
   "execution_count": 21,
   "metadata": {},
   "outputs": [
    {
     "data": {
      "text/plain": [
       "<sqlite3.Cursor at 0x206b8df1110>"
      ]
     },
     "execution_count": 21,
     "metadata": {},
     "output_type": "execute_result"
    }
   ],
   "source": [
    "cur.execute('select * from company')"
   ]
  },
  {
   "cell_type": "code",
   "execution_count": 22,
   "metadata": {},
   "outputs": [
    {
     "name": "stdout",
     "output_type": "stream",
     "text": [
      "(1, 'paul', 32, 'California', 20000.0)\n",
      "(2, 'Allen', 25, 'Texas', 15000.0)\n",
      "(3, 'Teddy', 23, 'Norway', 200000.0)\n",
      "(4, 'Mark', 25, 'Rich-Mond', 65000.0)\n",
      "(5, 'Mark1', 25, 'Rich-Mond', 65000.0)\n",
      "(6, 'Mark2', 25, 'Rich-Mond', 65000.0)\n",
      "(7, 'Teddy', 23, 'Norway', 200000.0)\n",
      "(8, 'Mark', 25, 'Rich-Mond', 65000.0)\n",
      "(9, 'Mark1', 25, 'Rich-Mond', 65000.0)\n",
      "(10, 'Mark2', 25, 'Rich-Mond', 65000.0)\n"
     ]
    }
   ],
   "source": [
    "for row in cur:\n",
    "    print(row)"
   ]
  },
  {
   "cell_type": "markdown",
   "metadata": {},
   "source": [
    "UPDATE"
   ]
  },
  {
   "cell_type": "code",
   "execution_count": 24,
   "metadata": {},
   "outputs": [],
   "source": [
    "cid = 1"
   ]
  },
  {
   "cell_type": "code",
   "execution_count": 25,
   "metadata": {},
   "outputs": [
    {
     "data": {
      "text/plain": [
       "<sqlite3.Cursor at 0x206b8df1110>"
      ]
     },
     "execution_count": 25,
     "metadata": {},
     "output_type": "execute_result"
    }
   ],
   "source": [
    "cur.execute(\"UPDATE COMPANY set SALARY = 25000.00 where ID = :id\",{'id':cid})"
   ]
  },
  {
   "cell_type": "code",
   "execution_count": 27,
   "metadata": {},
   "outputs": [],
   "source": [
    "conn.commit() # 그래서 메모리에서 하는 것보다는 파일에서 하라"
   ]
  },
  {
   "cell_type": "code",
   "execution_count": 29,
   "metadata": {},
   "outputs": [
    {
     "name": "stdout",
     "output_type": "stream",
     "text": [
      "Total numer of rows updated :  11\n"
     ]
    }
   ],
   "source": [
    "print(\"Total numer of rows updated : \",conn.total_changes)"
   ]
  },
  {
   "cell_type": "code",
   "execution_count": null,
   "metadata": {},
   "outputs": [],
   "source": []
  },
  {
   "cell_type": "code",
   "execution_count": null,
   "metadata": {},
   "outputs": [],
   "source": []
  },
  {
   "cell_type": "code",
   "execution_count": null,
   "metadata": {},
   "outputs": [],
   "source": []
  }
 ],
 "metadata": {
  "kernelspec": {
   "display_name": "Python 3",
   "language": "python",
   "name": "python3"
  },
  "language_info": {
   "codemirror_mode": {
    "name": "ipython",
    "version": 3
   },
   "file_extension": ".py",
   "mimetype": "text/x-python",
   "name": "python",
   "nbconvert_exporter": "python",
   "pygments_lexer": "ipython3",
   "version": "3.7.3"
  }
 },
 "nbformat": 4,
 "nbformat_minor": 2
}
