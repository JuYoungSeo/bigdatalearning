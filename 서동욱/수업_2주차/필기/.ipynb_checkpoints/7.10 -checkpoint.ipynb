{
 "cells": [
  {
   "cell_type": "code",
   "execution_count": 1,
   "metadata": {},
   "outputs": [],
   "source": [
    "import re"
   ]
  },
  {
   "cell_type": "code",
   "execution_count": 2,
   "metadata": {},
   "outputs": [],
   "source": [
    "p = re.compile(\"[a-z]+\")"
   ]
  },
  {
   "cell_type": "code",
   "execution_count": 7,
   "metadata": {},
   "outputs": [],
   "source": [
    "m = p.search(\"5 python\")"
   ]
  },
  {
   "cell_type": "code",
   "execution_count": 9,
   "metadata": {
    "scrolled": false
   },
   "outputs": [
    {
     "data": {
      "text/plain": [
       "10"
      ]
     },
     "execution_count": 9,
     "metadata": {},
     "output_type": "execute_result"
    }
   ],
   "source": [
    "m.start() + m.end()"
   ]
  },
  {
   "cell_type": "code",
   "execution_count": 22,
   "metadata": {},
   "outputs": [],
   "source": [
    "data = \"\"\"\n",
    "park 010-9999-9988\n",
    "kim 010-9909-7789\n",
    "lee 010-8789-7768\n",
    "\"\"\""
   ]
  },
  {
   "cell_type": "code",
   "execution_count": 24,
   "metadata": {},
   "outputs": [],
   "source": [
    "pat = re.compile(\"(\\d{3})[-](\\d{4})[-](\\d{4})\")"
   ]
  },
  {
   "cell_type": "code",
   "execution_count": 26,
   "metadata": {
    "scrolled": false
   },
   "outputs": [
    {
     "name": "stdout",
     "output_type": "stream",
     "text": [
      "\n",
      "park 010 - 9999 - ****\n",
      "kim 010 - 9909 - ****\n",
      "lee 010 - 8789 - ****\n",
      "\n"
     ]
    }
   ],
   "source": [
    "print(pat.sub(\"\\g<1> - \\g<2> - ****\",data))"
   ]
  },
  {
   "cell_type": "markdown",
   "metadata": {},
   "source": [
    "메모장 코딩 할 것\n",
    "# JSON"
   ]
  },
  {
   "cell_type": "markdown",
   "metadata": {},
   "source": [
    "- 사람이 읽기 편한 web \n",
    "- 바이트 타입 데이터가 아닌 구조적엔 데이터를 네트워크 통신으로 전달하기 위해"
   ]
  },
  {
   "cell_type": "markdown",
   "metadata": {},
   "source": [
    "장점"
   ]
  },
  {
   "cell_type": "markdown",
   "metadata": {},
   "source": [
    "- 읽고 쓰기가 쉽다\n",
    "-language independent\n",
    "- text based interchange format\n",
    "- Server 쪽에 client 정보를 심으면 안된다"
   ]
  },
  {
   "cell_type": "markdown",
   "metadata": {},
   "source": [
    "Javascript  \n",
    "var car = {\"Make\" : Volkswagen\"};  \n",
    "console.log(car.Make);  \n",
    "\n",
    "car.Year = 2003;  \n",
    "console.log(car);  \n",
    "// Output: {\"Make\" : \"Volkswagen\", "
   ]
  },
  {
   "cell_type": "markdown",
   "metadata": {},
   "source": [
    "- XML보다 JSON 훨씬 가볍고 구조는 다 포함하고 있다.\n",
    "- Stringify하면 object가 아니라 string으로 바뀌어서 .이 안된다."
   ]
  },
  {
   "cell_type": "code",
   "execution_count": 2,
   "metadata": {},
   "outputs": [],
   "source": [
    "import json"
   ]
  },
  {
   "cell_type": "code",
   "execution_count": 1,
   "metadata": {},
   "outputs": [],
   "source": [
    "name = (\"kim\",\"Lee\",\"Park\")\n",
    "age = [30,28,31]\n",
    "person = {\"name\":\"kim\",\"age\":30,\"car\":False}"
   ]
  },
  {
   "cell_type": "code",
   "execution_count": 4,
   "metadata": {},
   "outputs": [
    {
     "data": {
      "text/plain": [
       "'[\"kim\", \"Lee\", \"Park\"]'"
      ]
     },
     "execution_count": 4,
     "metadata": {},
     "output_type": "execute_result"
    }
   ],
   "source": [
    "nameStr = json.dumps(name)\n",
    "nameStr # JSON Array로 바뀐다."
   ]
  },
  {
   "cell_type": "code",
   "execution_count": 7,
   "metadata": {},
   "outputs": [],
   "source": [
    "ageStr = json.dumps(age)\n",
    "personStr = json.dumps(person,indent = \"   \") \n",
    "# indent 웬만하면 쓰지마라(data크기 증가함)"
   ]
  },
  {
   "cell_type": "code",
   "execution_count": 8,
   "metadata": {},
   "outputs": [
    {
     "data": {
      "text/plain": [
       "'[30, 28, 31]'"
      ]
     },
     "execution_count": 8,
     "metadata": {},
     "output_type": "execute_result"
    }
   ],
   "source": [
    "ageStr"
   ]
  },
  {
   "cell_type": "code",
   "execution_count": 55,
   "metadata": {},
   "outputs": [],
   "source": [
    "personStr = '{\\n   \"name\": \"kim\",\\n   \"age\": 30,\\n   \"car\": false\\n}'"
   ]
  },
  {
   "cell_type": "code",
   "execution_count": 37,
   "metadata": {
    "scrolled": true
   },
   "outputs": [
    {
     "name": "stdout",
     "output_type": "stream",
     "text": [
      "{\n",
      "   \"name\": \"kim\",\n",
      "   \"age\": 30,\n",
      "   \"car\": false\n",
      "}\n"
     ]
    }
   ],
   "source": [
    "print(personStr)"
   ]
  },
  {
   "cell_type": "code",
   "execution_count": 9,
   "metadata": {},
   "outputs": [],
   "source": [
    "kname = (\"김\",\"이\",\"박\")"
   ]
  },
  {
   "cell_type": "code",
   "execution_count": 10,
   "metadata": {},
   "outputs": [],
   "source": [
    "knameStr = json.dumps(kname)"
   ]
  },
  {
   "cell_type": "code",
   "execution_count": 12,
   "metadata": {},
   "outputs": [
    {
     "data": {
      "text/plain": [
       "'[\"\\\\uae40\", \"\\\\uc774\", \"\\\\ubc15\"]'"
      ]
     },
     "execution_count": 12,
     "metadata": {},
     "output_type": "execute_result"
    }
   ],
   "source": [
    "knameStr"
   ]
  },
  {
   "cell_type": "code",
   "execution_count": 13,
   "metadata": {},
   "outputs": [
    {
     "data": {
      "text/plain": [
       "'[\"김\", \"이\", \"박\"]'"
      ]
     },
     "execution_count": 13,
     "metadata": {},
     "output_type": "execute_result"
    }
   ],
   "source": [
    "knameStr = json.dumps(kname,ensure_ascii=False)\n",
    "knameStr"
   ]
  },
  {
   "cell_type": "code",
   "execution_count": 14,
   "metadata": {},
   "outputs": [],
   "source": [
    "# dump는 파일에 저장돼 있는 것\n",
    "# dumps는 메모리에 저장돼 있는 것"
   ]
  },
  {
   "cell_type": "code",
   "execution_count": 15,
   "metadata": {},
   "outputs": [],
   "source": [
    "personObj = json.loads(personStr)"
   ]
  },
  {
   "cell_type": "code",
   "execution_count": 16,
   "metadata": {},
   "outputs": [
    {
     "data": {
      "text/plain": [
       "{'name': 'kim', 'age': 30, 'car': False}"
      ]
     },
     "execution_count": 16,
     "metadata": {},
     "output_type": "execute_result"
    }
   ],
   "source": [
    "personObj"
   ]
  },
  {
   "cell_type": "code",
   "execution_count": 17,
   "metadata": {},
   "outputs": [
    {
     "data": {
      "text/plain": [
       "dict"
      ]
     },
     "execution_count": 17,
     "metadata": {},
     "output_type": "execute_result"
    }
   ],
   "source": [
    "type(personObj)"
   ]
  },
  {
   "cell_type": "code",
   "execution_count": 60,
   "metadata": {},
   "outputs": [
    {
     "data": {
      "text/plain": [
       "True"
      ]
     },
     "execution_count": 60,
     "metadata": {},
     "output_type": "execute_result"
    }
   ],
   "source": [
    "person == personObj"
   ]
  },
  {
   "cell_type": "code",
   "execution_count": 18,
   "metadata": {},
   "outputs": [],
   "source": [
    "person[\"car\"] = [\"레이\",\"모닝\"]"
   ]
  },
  {
   "cell_type": "code",
   "execution_count": 19,
   "metadata": {},
   "outputs": [
    {
     "data": {
      "text/plain": [
       "{'name': 'kim', 'age': 30, 'car': ['레이', '모닝']}"
      ]
     },
     "execution_count": 19,
     "metadata": {},
     "output_type": "execute_result"
    }
   ],
   "source": [
    "person"
   ]
  },
  {
   "cell_type": "code",
   "execution_count": 20,
   "metadata": {},
   "outputs": [],
   "source": [
    "with open('person.json','w') as f:\n",
    "    json.dump(person,f)"
   ]
  },
  {
   "cell_type": "code",
   "execution_count": 21,
   "metadata": {},
   "outputs": [],
   "source": [
    "with open('person.json','r') as f:\n",
    "    personObj = json.load(f)"
   ]
  },
  {
   "cell_type": "code",
   "execution_count": 23,
   "metadata": {},
   "outputs": [
    {
     "data": {
      "text/plain": [
       "True"
      ]
     },
     "execution_count": 23,
     "metadata": {},
     "output_type": "execute_result"
    }
   ],
   "source": [
    "personObj == person"
   ]
  },
  {
   "cell_type": "code",
   "execution_count": 24,
   "metadata": {},
   "outputs": [],
   "source": [
    "import urllib.request"
   ]
  },
  {
   "cell_type": "code",
   "execution_count": 25,
   "metadata": {},
   "outputs": [],
   "source": [
    "url = \"http://ip.jsontest.com\""
   ]
  },
  {
   "cell_type": "code",
   "execution_count": 35,
   "metadata": {},
   "outputs": [],
   "source": [
    "obj = {\"name\":\"김이박\",\"age\":30}"
   ]
  },
  {
   "cell_type": "code",
   "execution_count": 47,
   "metadata": {},
   "outputs": [],
   "source": [
    "objStr = json.dumps(obj)"
   ]
  },
  {
   "cell_type": "code",
   "execution_count": 48,
   "metadata": {
    "scrolled": true
   },
   "outputs": [
    {
     "data": {
      "text/plain": [
       "'{\"name\": \"\\\\uae40\\\\uc774\\\\ubc15\", \"age\": 30}'"
      ]
     },
     "execution_count": 48,
     "metadata": {},
     "output_type": "execute_result"
    }
   ],
   "source": [
    "objStr"
   ]
  },
  {
   "cell_type": "code",
   "execution_count": 49,
   "metadata": {},
   "outputs": [],
   "source": [
    "objByte = objStr.encode(\"utf-8\")"
   ]
  },
  {
   "cell_type": "code",
   "execution_count": 50,
   "metadata": {},
   "outputs": [
    {
     "data": {
      "text/plain": [
       "b'{\"name\": \"\\\\uae40\\\\uc774\\\\ubc15\", \"age\": 30}'"
      ]
     },
     "execution_count": 50,
     "metadata": {},
     "output_type": "execute_result"
    }
   ],
   "source": [
    "objByte # 사이트가 안뻗었을 때 해보기"
   ]
  },
  {
   "cell_type": "code",
   "execution_count": 57,
   "metadata": {},
   "outputs": [],
   "source": [
    "req = urllib.request.Request(url,data=objByte,\n",
    "                             headers={'content-type':'application/json'})\n",
    "res = urllib.request.urlopen(req)"
   ]
  },
  {
   "cell_type": "code",
   "execution_count": 58,
   "metadata": {},
   "outputs": [
    {
     "data": {
      "text/plain": [
       "{'ip': '1.225.69.154'}"
      ]
     },
     "execution_count": 58,
     "metadata": {},
     "output_type": "execute_result"
    }
   ],
   "source": [
    "resByte = res.read()\n",
    "resStr = resByte.decode(\"utf-8\")\n",
    "resObj = json.loads(resStr)\n",
    "resObj"
   ]
  },
  {
   "cell_type": "code",
   "execution_count": 88,
   "metadata": {},
   "outputs": [],
   "source": [
    "import requests"
   ]
  },
  {
   "cell_type": "code",
   "execution_count": 359,
   "metadata": {},
   "outputs": [],
   "source": [
    "import urllib\n",
    "url = \"http://openapi.airkorea.or.kr/openapi/services/rest/ArpltnInforInqireSvc/getMsrstnAcctoRltmMesureDnsty\"\n",
    "\n",
    "params = {\n",
    "    \"ServiceKey\" : '%2BWJxaSeTX%2B6T8HKBqdWlnFfsS3ySR5r5fpnZyYPFLNxh2k4L7jldR7d4PevkAcQ5BAVyFmQkEietj6Xz7gxDCw%3D%3D',\n",
    "    \"numOfRows\": 10,\n",
    "    \"pageNo\" : 1,\n",
    "    \"stationName\" : '종로구',\n",
    "    \"dataTerm\" : 'DAILY',\n",
    "    \"ver\" : 1.0,\n",
    "    #\"_returnType\" : \"JSON\"\n",
    "}\n",
    "\n",
    "params[\"ServiceKey\"] = urllib.parse.unquote(params[\"ServiceKey\"])\n",
    "#params[\"ServiceKey\"] =requests.compat.unquote(params)"
   ]
  },
  {
   "cell_type": "code",
   "execution_count": 360,
   "metadata": {},
   "outputs": [
    {
     "data": {
      "text/plain": [
       "'ServiceKey=%2BWJxaSeTX%2B6T8HKBqdWlnFfsS3ySR5r5fpnZyYPFLNxh2k4L7jldR7d4PevkAcQ5BAVyFmQkEietj6Xz7gxDCw%3D%3D&numOfRows=10&pageNo=1&stationName=%EC%A2%85%EB%A1%9C%EA%B5%AC&dataTerm=DAILY&ver=1.0'"
      ]
     },
     "execution_count": 360,
     "metadata": {},
     "output_type": "execute_result"
    }
   ],
   "source": [
    "params = urllib.parse.urlencode(params)\n",
    "params"
   ]
  },
  {
   "cell_type": "code",
   "execution_count": 361,
   "metadata": {},
   "outputs": [],
   "source": [
    "params = params.encode(\"utf-8\")"
   ]
  },
  {
   "cell_type": "code",
   "execution_count": 362,
   "metadata": {},
   "outputs": [
    {
     "data": {
      "text/plain": [
       "b'ServiceKey=%2BWJxaSeTX%2B6T8HKBqdWlnFfsS3ySR5r5fpnZyYPFLNxh2k4L7jldR7d4PevkAcQ5BAVyFmQkEietj6Xz7gxDCw%3D%3D&numOfRows=10&pageNo=1&stationName=%EC%A2%85%EB%A1%9C%EA%B5%AC&dataTerm=DAILY&ver=1.0'"
      ]
     },
     "execution_count": 362,
     "metadata": {},
     "output_type": "execute_result"
    }
   ],
   "source": [
    "type(params)\n",
    "params"
   ]
  },
  {
   "cell_type": "code",
   "execution_count": 374,
   "metadata": {},
   "outputs": [],
   "source": [
    "req = urllib.request.Request(url,data=params)"
   ]
  },
  {
   "cell_type": "code",
   "execution_count": 375,
   "metadata": {},
   "outputs": [],
   "source": [
    "res = urllib.request.urlopen(req)"
   ]
  },
  {
   "cell_type": "code",
   "execution_count": 376,
   "metadata": {},
   "outputs": [],
   "source": [
    "resStr = res.read()"
   ]
  },
  {
   "cell_type": "code",
   "execution_count": 366,
   "metadata": {},
   "outputs": [],
   "source": [
    "resStr = resStr.decode(\"utf-8\")"
   ]
  },
  {
   "cell_type": "code",
   "execution_count": 371,
   "metadata": {},
   "outputs": [
    {
     "data": {
      "text/plain": [
       "bytes"
      ]
     },
     "execution_count": 371,
     "metadata": {},
     "output_type": "execute_result"
    }
   ],
   "source": [
    "type(resStr)"
   ]
  },
  {
   "cell_type": "code",
   "execution_count": 157,
   "metadata": {
    "scrolled": true
   },
   "outputs": [
    {
     "data": {
      "text/plain": [
       "{'list': [{'_returnType': 'json',\n",
       "   'coGrade': '1',\n",
       "   'coValue': '0.6',\n",
       "   'dataTerm': '',\n",
       "   'dataTime': '2019-07-15 23:00',\n",
       "   'khaiGrade': '2',\n",
       "   'khaiValue': '64',\n",
       "   'mangName': '도시대기',\n",
       "   'no2Grade': '2',\n",
       "   'no2Value': '0.036',\n",
       "   'numOfRows': '10',\n",
       "   'o3Grade': '1',\n",
       "   'o3Value': '0.013',\n",
       "   'pageNo': '1',\n",
       "   'pm10Grade': '2',\n",
       "   'pm10Grade1h': '2',\n",
       "   'pm10Value': '35',\n",
       "   'pm10Value24': '31',\n",
       "   'pm25Grade': '2',\n",
       "   'pm25Grade1h': '2',\n",
       "   'pm25Value': '24',\n",
       "   'pm25Value24': '21',\n",
       "   'resultCode': '',\n",
       "   'resultMsg': '',\n",
       "   'rnum': 0,\n",
       "   'serviceKey': '',\n",
       "   'sidoName': '',\n",
       "   'so2Grade': '1',\n",
       "   'so2Value': '0.003',\n",
       "   'stationCode': '',\n",
       "   'stationName': '',\n",
       "   'totalCount': '',\n",
       "   'ver': ''},\n",
       "  {'_returnType': 'json',\n",
       "   'coGrade': '1',\n",
       "   'coValue': '0.6',\n",
       "   'dataTerm': '',\n",
       "   'dataTime': '2019-07-15 22:00',\n",
       "   'khaiGrade': '2',\n",
       "   'khaiValue': '68',\n",
       "   'mangName': '도시대기',\n",
       "   'no2Grade': '2',\n",
       "   'no2Value': '0.041',\n",
       "   'numOfRows': '10',\n",
       "   'o3Grade': '1',\n",
       "   'o3Value': '0.013',\n",
       "   'pageNo': '1',\n",
       "   'pm10Grade': '1',\n",
       "   'pm10Grade1h': '2',\n",
       "   'pm10Value': '31',\n",
       "   'pm10Value24': '29',\n",
       "   'pm25Grade': '2',\n",
       "   'pm25Grade1h': '2',\n",
       "   'pm25Value': '23',\n",
       "   'pm25Value24': '20',\n",
       "   'resultCode': '',\n",
       "   'resultMsg': '',\n",
       "   'rnum': 0,\n",
       "   'serviceKey': '',\n",
       "   'sidoName': '',\n",
       "   'so2Grade': '1',\n",
       "   'so2Value': '0.003',\n",
       "   'stationCode': '',\n",
       "   'stationName': '',\n",
       "   'totalCount': '',\n",
       "   'ver': ''},\n",
       "  {'_returnType': 'json',\n",
       "   'coGrade': '1',\n",
       "   'coValue': '0.7',\n",
       "   'dataTerm': '',\n",
       "   'dataTime': '2019-07-15 21:00',\n",
       "   'khaiGrade': '2',\n",
       "   'khaiValue': '75',\n",
       "   'mangName': '도시대기',\n",
       "   'no2Grade': '2',\n",
       "   'no2Value': '0.045',\n",
       "   'numOfRows': '10',\n",
       "   'o3Grade': '1',\n",
       "   'o3Value': '0.015',\n",
       "   'pageNo': '1',\n",
       "   'pm10Grade': '1',\n",
       "   'pm10Grade1h': '1',\n",
       "   'pm10Value': '28',\n",
       "   'pm10Value24': '29',\n",
       "   'pm25Grade': '2',\n",
       "   'pm25Grade1h': '2',\n",
       "   'pm25Value': '18',\n",
       "   'pm25Value24': '20',\n",
       "   'resultCode': '',\n",
       "   'resultMsg': '',\n",
       "   'rnum': 0,\n",
       "   'serviceKey': '',\n",
       "   'sidoName': '',\n",
       "   'so2Grade': '1',\n",
       "   'so2Value': '0.003',\n",
       "   'stationCode': '',\n",
       "   'stationName': '',\n",
       "   'totalCount': '',\n",
       "   'ver': ''},\n",
       "  {'_returnType': 'json',\n",
       "   'coGrade': '1',\n",
       "   'coValue': '0.7',\n",
       "   'dataTerm': '',\n",
       "   'dataTime': '2019-07-15 20:00',\n",
       "   'khaiGrade': '2',\n",
       "   'khaiValue': '63',\n",
       "   'mangName': '도시대기',\n",
       "   'no2Grade': '2',\n",
       "   'no2Value': '0.038',\n",
       "   'numOfRows': '10',\n",
       "   'o3Grade': '1',\n",
       "   'o3Value': '0.024',\n",
       "   'pageNo': '1',\n",
       "   'pm10Grade': '1',\n",
       "   'pm10Grade1h': '1',\n",
       "   'pm10Value': '24',\n",
       "   'pm10Value24': '29',\n",
       "   'pm25Grade': '2',\n",
       "   'pm25Grade1h': '2',\n",
       "   'pm25Value': '19',\n",
       "   'pm25Value24': '20',\n",
       "   'resultCode': '',\n",
       "   'resultMsg': '',\n",
       "   'rnum': 0,\n",
       "   'serviceKey': '',\n",
       "   'sidoName': '',\n",
       "   'so2Grade': '1',\n",
       "   'so2Value': '0.003',\n",
       "   'stationCode': '',\n",
       "   'stationName': '',\n",
       "   'totalCount': '',\n",
       "   'ver': ''},\n",
       "  {'_returnType': 'json',\n",
       "   'coGrade': '1',\n",
       "   'coValue': '0.7',\n",
       "   'dataTerm': '',\n",
       "   'dataTime': '2019-07-15 19:00',\n",
       "   'khaiGrade': '2',\n",
       "   'khaiValue': '66',\n",
       "   'mangName': '도시대기',\n",
       "   'no2Grade': '2',\n",
       "   'no2Value': '0.040',\n",
       "   'numOfRows': '10',\n",
       "   'o3Grade': '1',\n",
       "   'o3Value': '0.024',\n",
       "   'pageNo': '1',\n",
       "   'pm10Grade': '1',\n",
       "   'pm10Grade1h': '1',\n",
       "   'pm10Value': '21',\n",
       "   'pm10Value24': '30',\n",
       "   'pm25Grade': '2',\n",
       "   'pm25Grade1h': '2',\n",
       "   'pm25Value': '17',\n",
       "   'pm25Value24': '20',\n",
       "   'resultCode': '',\n",
       "   'resultMsg': '',\n",
       "   'rnum': 0,\n",
       "   'serviceKey': '',\n",
       "   'sidoName': '',\n",
       "   'so2Grade': '1',\n",
       "   'so2Value': '0.003',\n",
       "   'stationCode': '',\n",
       "   'stationName': '',\n",
       "   'totalCount': '',\n",
       "   'ver': ''},\n",
       "  {'_returnType': 'json',\n",
       "   'coGrade': '1',\n",
       "   'coValue': '0.8',\n",
       "   'dataTerm': '',\n",
       "   'dataTime': '2019-07-15 18:00',\n",
       "   'khaiGrade': '2',\n",
       "   'khaiValue': '61',\n",
       "   'mangName': '도시대기',\n",
       "   'no2Grade': '2',\n",
       "   'no2Value': '0.033',\n",
       "   'numOfRows': '10',\n",
       "   'o3Grade': '1',\n",
       "   'o3Value': '0.029',\n",
       "   'pageNo': '1',\n",
       "   'pm10Grade': '2',\n",
       "   'pm10Grade1h': '1',\n",
       "   'pm10Value': '26',\n",
       "   'pm10Value24': '34',\n",
       "   'pm25Grade': '2',\n",
       "   'pm25Grade1h': '2',\n",
       "   'pm25Value': '22',\n",
       "   'pm25Value24': '20',\n",
       "   'resultCode': '',\n",
       "   'resultMsg': '',\n",
       "   'rnum': 0,\n",
       "   'serviceKey': '',\n",
       "   'sidoName': '',\n",
       "   'so2Grade': '1',\n",
       "   'so2Value': '0.003',\n",
       "   'stationCode': '',\n",
       "   'stationName': '',\n",
       "   'totalCount': '',\n",
       "   'ver': ''},\n",
       "  {'_returnType': 'json',\n",
       "   'coGrade': '1',\n",
       "   'coValue': '0.6',\n",
       "   'dataTerm': '',\n",
       "   'dataTime': '2019-07-15 17:00',\n",
       "   'khaiGrade': '',\n",
       "   'khaiValue': '-',\n",
       "   'mangName': '도시대기',\n",
       "   'no2Grade': '1',\n",
       "   'no2Value': '0.028',\n",
       "   'numOfRows': '10',\n",
       "   'o3Grade': '2',\n",
       "   'o3Value': '0.034',\n",
       "   'pageNo': '1',\n",
       "   'pm10Grade': '2',\n",
       "   'pm10Grade1h': '1',\n",
       "   'pm10Value': '27',\n",
       "   'pm10Value24': '35',\n",
       "   'pm25Grade': '',\n",
       "   'pm25Grade1h': '2',\n",
       "   'pm25Value': '18',\n",
       "   'pm25Value24': '-',\n",
       "   'resultCode': '',\n",
       "   'resultMsg': '',\n",
       "   'rnum': 0,\n",
       "   'serviceKey': '',\n",
       "   'sidoName': '',\n",
       "   'so2Grade': '1',\n",
       "   'so2Value': '0.003',\n",
       "   'stationCode': '',\n",
       "   'stationName': '',\n",
       "   'totalCount': '',\n",
       "   'ver': ''},\n",
       "  {'_returnType': 'json',\n",
       "   'coGrade': '1',\n",
       "   'coValue': '0.8',\n",
       "   'dataTerm': '',\n",
       "   'dataTime': '2019-07-15 16:00',\n",
       "   'khaiGrade': '',\n",
       "   'khaiValue': '-',\n",
       "   'mangName': '도시대기',\n",
       "   'no2Grade': '1',\n",
       "   'no2Value': '0.023',\n",
       "   'numOfRows': '10',\n",
       "   'o3Grade': '2',\n",
       "   'o3Value': '0.037',\n",
       "   'pageNo': '1',\n",
       "   'pm10Grade': '',\n",
       "   'pm10Grade1h': '2',\n",
       "   'pm10Value': '32',\n",
       "   'pm10Value24': '-',\n",
       "   'pm25Grade': '',\n",
       "   'pm25Grade1h': '1',\n",
       "   'pm25Value': '11',\n",
       "   'pm25Value24': '-',\n",
       "   'resultCode': '',\n",
       "   'resultMsg': '',\n",
       "   'rnum': 0,\n",
       "   'serviceKey': '',\n",
       "   'sidoName': '',\n",
       "   'so2Grade': '1',\n",
       "   'so2Value': '0.003',\n",
       "   'stationCode': '',\n",
       "   'stationName': '',\n",
       "   'totalCount': '',\n",
       "   'ver': ''},\n",
       "  {'_returnType': 'json',\n",
       "   'coGrade': '1',\n",
       "   'coValue': '0.6',\n",
       "   'dataTerm': '',\n",
       "   'dataTime': '2019-07-15 15:00',\n",
       "   'khaiGrade': '',\n",
       "   'khaiValue': '-',\n",
       "   'mangName': '도시대기',\n",
       "   'no2Grade': '1',\n",
       "   'no2Value': '0.022',\n",
       "   'numOfRows': '10',\n",
       "   'o3Grade': '2',\n",
       "   'o3Value': '0.037',\n",
       "   'pageNo': '1',\n",
       "   'pm10Grade': '',\n",
       "   'pm10Grade1h': '2',\n",
       "   'pm10Value': '45',\n",
       "   'pm10Value24': '-',\n",
       "   'pm25Grade': '',\n",
       "   'pm25Grade1h': '',\n",
       "   'pm25Value': '-',\n",
       "   'pm25Value24': '-',\n",
       "   'resultCode': '',\n",
       "   'resultMsg': '',\n",
       "   'rnum': 0,\n",
       "   'serviceKey': '',\n",
       "   'sidoName': '',\n",
       "   'so2Grade': '1',\n",
       "   'so2Value': '0.003',\n",
       "   'stationCode': '',\n",
       "   'stationName': '',\n",
       "   'totalCount': '',\n",
       "   'ver': ''},\n",
       "  {'_returnType': 'json',\n",
       "   'coGrade': '',\n",
       "   'coValue': '-',\n",
       "   'dataTerm': '',\n",
       "   'dataTime': '2019-07-15 14:00',\n",
       "   'khaiGrade': '',\n",
       "   'khaiValue': '-',\n",
       "   'mangName': '도시대기',\n",
       "   'no2Grade': '',\n",
       "   'no2Value': '-',\n",
       "   'numOfRows': '10',\n",
       "   'o3Grade': '',\n",
       "   'o3Value': '-',\n",
       "   'pageNo': '1',\n",
       "   'pm10Grade': '',\n",
       "   'pm10Grade1h': '',\n",
       "   'pm10Value': '-',\n",
       "   'pm10Value24': '-',\n",
       "   'pm25Grade': '',\n",
       "   'pm25Grade1h': '',\n",
       "   'pm25Value': '-',\n",
       "   'pm25Value24': '-',\n",
       "   'resultCode': '',\n",
       "   'resultMsg': '',\n",
       "   'rnum': 0,\n",
       "   'serviceKey': '',\n",
       "   'sidoName': '',\n",
       "   'so2Grade': '',\n",
       "   'so2Value': '-',\n",
       "   'stationCode': '',\n",
       "   'stationName': '',\n",
       "   'totalCount': '',\n",
       "   'ver': ''}],\n",
       " 'parm': {'_returnType': 'json',\n",
       "  'coGrade': '',\n",
       "  'coValue': '',\n",
       "  'dataTerm': 'DAILY',\n",
       "  'dataTime': '',\n",
       "  'khaiGrade': '',\n",
       "  'khaiValue': '',\n",
       "  'mangName': '',\n",
       "  'no2Grade': '',\n",
       "  'no2Value': '',\n",
       "  'numOfRows': '10',\n",
       "  'o3Grade': '',\n",
       "  'o3Value': '',\n",
       "  'pageNo': '1',\n",
       "  'pm10Grade': '',\n",
       "  'pm10Grade1h': '',\n",
       "  'pm10Value': '',\n",
       "  'pm10Value24': '',\n",
       "  'pm25Grade': '',\n",
       "  'pm25Grade1h': '',\n",
       "  'pm25Value': '',\n",
       "  'pm25Value24': '',\n",
       "  'resultCode': '',\n",
       "  'resultMsg': '',\n",
       "  'rnum': 0,\n",
       "  'serviceKey': '+WJxaSeTX+6T8HKBqdWlnFfsS3ySR5r5fpnZyYPFLNxh2k4L7jldR7d4PevkAcQ5BAVyFmQkEietj6Xz7gxDCw==',\n",
       "  'sidoName': '',\n",
       "  'so2Grade': '',\n",
       "  'so2Value': '',\n",
       "  'stationCode': '',\n",
       "  'stationName': '종로구',\n",
       "  'totalCount': '',\n",
       "  'ver': '1.0'},\n",
       " 'ArpltnInforInqireSvcVo': {'_returnType': 'json',\n",
       "  'coGrade': '',\n",
       "  'coValue': '',\n",
       "  'dataTerm': 'DAILY',\n",
       "  'dataTime': '',\n",
       "  'khaiGrade': '',\n",
       "  'khaiValue': '',\n",
       "  'mangName': '',\n",
       "  'no2Grade': '',\n",
       "  'no2Value': '',\n",
       "  'numOfRows': '10',\n",
       "  'o3Grade': '',\n",
       "  'o3Value': '',\n",
       "  'pageNo': '1',\n",
       "  'pm10Grade': '',\n",
       "  'pm10Grade1h': '',\n",
       "  'pm10Value': '',\n",
       "  'pm10Value24': '',\n",
       "  'pm25Grade': '',\n",
       "  'pm25Grade1h': '',\n",
       "  'pm25Value': '',\n",
       "  'pm25Value24': '',\n",
       "  'resultCode': '',\n",
       "  'resultMsg': '',\n",
       "  'rnum': 0,\n",
       "  'serviceKey': '+WJxaSeTX+6T8HKBqdWlnFfsS3ySR5r5fpnZyYPFLNxh2k4L7jldR7d4PevkAcQ5BAVyFmQkEietj6Xz7gxDCw==',\n",
       "  'sidoName': '',\n",
       "  'so2Grade': '',\n",
       "  'so2Value': '',\n",
       "  'stationCode': '',\n",
       "  'stationName': '종로구',\n",
       "  'totalCount': '',\n",
       "  'ver': '1.0'},\n",
       " 'totalCount': 23}"
      ]
     },
     "execution_count": 157,
     "metadata": {},
     "output_type": "execute_result"
    }
   ],
   "source": [
    "reqObj = json.loads(resStr)\n",
    "reqObj"
   ]
  },
  {
   "cell_type": "code",
   "execution_count": 129,
   "metadata": {},
   "outputs": [],
   "source": [
    "resJSON = json.dumps(reqObj,ensure_ascii=False,indent = \"  \")"
   ]
  },
  {
   "cell_type": "code",
   "execution_count": 133,
   "metadata": {},
   "outputs": [
    {
     "name": "stdout",
     "output_type": "stream",
     "text": [
      "{\n",
      "  \"list\": [\n",
      "    {\n",
      "      \"_returnType\": \"json\",\n",
      "      \"coGrade\": \"1\",\n",
      "      \"coValue\": \"0.6\",\n",
      "      \"dataTerm\": \"\",\n",
      "      \"dataTime\": \"2019-07-15 23:00\",\n",
      "      \"khaiGrade\": \"2\",\n",
      "      \"khaiValue\": \"64\",\n",
      "      \"mangName\": \"도시대기\",\n",
      "      \"no2Grade\": \"2\",\n",
      "      \"no2Value\": \"0.036\",\n",
      "      \"numOfRows\": \"10\",\n",
      "      \"o3Grade\": \"1\",\n",
      "      \"o3Value\": \"0.013\",\n",
      "      \"pageNo\": \"1\",\n",
      "      \"pm10Grade\": \"2\",\n",
      "      \"pm10Grade1h\": \"2\",\n",
      "      \"pm10Value\": \"35\",\n",
      "      \"pm10Value24\": \"31\",\n",
      "      \"pm25Grade\": \"2\",\n",
      "      \"pm25Grade1h\": \"2\",\n",
      "      \"pm25Value\": \"24\",\n",
      "      \"pm25Value24\": \"21\",\n",
      "      \"resultCode\": \"\",\n",
      "      \"resultMsg\": \"\",\n",
      "      \"rnum\": 0,\n",
      "      \"serviceKey\": \"\",\n",
      "      \"sidoName\": \"\",\n",
      "      \"so2Grade\": \"1\",\n",
      "      \"so2Value\": \"0.003\",\n",
      "      \"stationCode\": \"\",\n",
      "      \"stationName\": \"\",\n",
      "      \"totalCount\": \"\",\n",
      "      \"ver\": \"\"\n",
      "    },\n",
      "    {\n",
      "      \"_returnType\": \"json\",\n",
      "      \"coGrade\": \"1\",\n",
      "      \"coValue\": \"0.6\",\n",
      "      \"dataTerm\": \"\",\n",
      "      \"dataTime\": \"2019-07-15 22:00\",\n",
      "      \"khaiGrade\": \"2\",\n",
      "      \"khaiValue\": \"68\",\n",
      "      \"mangName\": \"도시대기\",\n",
      "      \"no2Grade\": \"2\",\n",
      "      \"no2Value\": \"0.041\",\n",
      "      \"numOfRows\": \"10\",\n",
      "      \"o3Grade\": \"1\",\n",
      "      \"o3Value\": \"0.013\",\n",
      "      \"pageNo\": \"1\",\n",
      "      \"pm10Grade\": \"1\",\n",
      "      \"pm10Grade1h\": \"2\",\n",
      "      \"pm10Value\": \"31\",\n",
      "      \"pm10Value24\": \"29\",\n",
      "      \"pm25Grade\": \"2\",\n",
      "      \"pm25Grade1h\": \"2\",\n",
      "      \"pm25Value\": \"23\",\n",
      "      \"pm25Value24\": \"20\",\n",
      "      \"resultCode\": \"\",\n",
      "      \"resultMsg\": \"\",\n",
      "      \"rnum\": 0,\n",
      "      \"serviceKey\": \"\",\n",
      "      \"sidoName\": \"\",\n",
      "      \"so2Grade\": \"1\",\n",
      "      \"so2Value\": \"0.003\",\n",
      "      \"stationCode\": \"\",\n",
      "      \"stationName\": \"\",\n",
      "      \"totalCount\": \"\",\n",
      "      \"ver\": \"\"\n",
      "    },\n",
      "    {\n",
      "      \"_returnType\": \"json\",\n",
      "      \"coGrade\": \"1\",\n",
      "      \"coValue\": \"0.7\",\n",
      "      \"dataTerm\": \"\",\n",
      "      \"dataTime\": \"2019-07-15 21:00\",\n",
      "      \"khaiGrade\": \"2\",\n",
      "      \"khaiValue\": \"75\",\n",
      "      \"mangName\": \"도시대기\",\n",
      "      \"no2Grade\": \"2\",\n",
      "      \"no2Value\": \"0.045\",\n",
      "      \"numOfRows\": \"10\",\n",
      "      \"o3Grade\": \"1\",\n",
      "      \"o3Value\": \"0.015\",\n",
      "      \"pageNo\": \"1\",\n",
      "      \"pm10Grade\": \"1\",\n",
      "      \"pm10Grade1h\": \"1\",\n",
      "      \"pm10Value\": \"28\",\n",
      "      \"pm10Value24\": \"29\",\n",
      "      \"pm25Grade\": \"2\",\n",
      "      \"pm25Grade1h\": \"2\",\n",
      "      \"pm25Value\": \"18\",\n",
      "      \"pm25Value24\": \"20\",\n",
      "      \"resultCode\": \"\",\n",
      "      \"resultMsg\": \"\",\n",
      "      \"rnum\": 0,\n",
      "      \"serviceKey\": \"\",\n",
      "      \"sidoName\": \"\",\n",
      "      \"so2Grade\": \"1\",\n",
      "      \"so2Value\": \"0.003\",\n",
      "      \"stationCode\": \"\",\n",
      "      \"stationName\": \"\",\n",
      "      \"totalCount\": \"\",\n",
      "      \"ver\": \"\"\n",
      "    },\n",
      "    {\n",
      "      \"_returnType\": \"json\",\n",
      "      \"coGrade\": \"1\",\n",
      "      \"coValue\": \"0.7\",\n",
      "      \"dataTerm\": \"\",\n",
      "      \"dataTime\": \"2019-07-15 20:00\",\n",
      "      \"khaiGrade\": \"2\",\n",
      "      \"khaiValue\": \"63\",\n",
      "      \"mangName\": \"도시대기\",\n",
      "      \"no2Grade\": \"2\",\n",
      "      \"no2Value\": \"0.038\",\n",
      "      \"numOfRows\": \"10\",\n",
      "      \"o3Grade\": \"1\",\n",
      "      \"o3Value\": \"0.024\",\n",
      "      \"pageNo\": \"1\",\n",
      "      \"pm10Grade\": \"1\",\n",
      "      \"pm10Grade1h\": \"1\",\n",
      "      \"pm10Value\": \"24\",\n",
      "      \"pm10Value24\": \"29\",\n",
      "      \"pm25Grade\": \"2\",\n",
      "      \"pm25Grade1h\": \"2\",\n",
      "      \"pm25Value\": \"19\",\n",
      "      \"pm25Value24\": \"20\",\n",
      "      \"resultCode\": \"\",\n",
      "      \"resultMsg\": \"\",\n",
      "      \"rnum\": 0,\n",
      "      \"serviceKey\": \"\",\n",
      "      \"sidoName\": \"\",\n",
      "      \"so2Grade\": \"1\",\n",
      "      \"so2Value\": \"0.003\",\n",
      "      \"stationCode\": \"\",\n",
      "      \"stationName\": \"\",\n",
      "      \"totalCount\": \"\",\n",
      "      \"ver\": \"\"\n",
      "    },\n",
      "    {\n",
      "      \"_returnType\": \"json\",\n",
      "      \"coGrade\": \"1\",\n",
      "      \"coValue\": \"0.7\",\n",
      "      \"dataTerm\": \"\",\n",
      "      \"dataTime\": \"2019-07-15 19:00\",\n",
      "      \"khaiGrade\": \"2\",\n",
      "      \"khaiValue\": \"66\",\n",
      "      \"mangName\": \"도시대기\",\n",
      "      \"no2Grade\": \"2\",\n",
      "      \"no2Value\": \"0.040\",\n",
      "      \"numOfRows\": \"10\",\n",
      "      \"o3Grade\": \"1\",\n",
      "      \"o3Value\": \"0.024\",\n",
      "      \"pageNo\": \"1\",\n",
      "      \"pm10Grade\": \"1\",\n",
      "      \"pm10Grade1h\": \"1\",\n",
      "      \"pm10Value\": \"21\",\n",
      "      \"pm10Value24\": \"30\",\n",
      "      \"pm25Grade\": \"2\",\n",
      "      \"pm25Grade1h\": \"2\",\n",
      "      \"pm25Value\": \"17\",\n",
      "      \"pm25Value24\": \"20\",\n",
      "      \"resultCode\": \"\",\n",
      "      \"resultMsg\": \"\",\n",
      "      \"rnum\": 0,\n",
      "      \"serviceKey\": \"\",\n",
      "      \"sidoName\": \"\",\n",
      "      \"so2Grade\": \"1\",\n",
      "      \"so2Value\": \"0.003\",\n",
      "      \"stationCode\": \"\",\n",
      "      \"stationName\": \"\",\n",
      "      \"totalCount\": \"\",\n",
      "      \"ver\": \"\"\n",
      "    },\n",
      "    {\n",
      "      \"_returnType\": \"json\",\n",
      "      \"coGrade\": \"1\",\n",
      "      \"coValue\": \"0.8\",\n",
      "      \"dataTerm\": \"\",\n",
      "      \"dataTime\": \"2019-07-15 18:00\",\n",
      "      \"khaiGrade\": \"2\",\n",
      "      \"khaiValue\": \"61\",\n",
      "      \"mangName\": \"도시대기\",\n",
      "      \"no2Grade\": \"2\",\n",
      "      \"no2Value\": \"0.033\",\n",
      "      \"numOfRows\": \"10\",\n",
      "      \"o3Grade\": \"1\",\n",
      "      \"o3Value\": \"0.029\",\n",
      "      \"pageNo\": \"1\",\n",
      "      \"pm10Grade\": \"2\",\n",
      "      \"pm10Grade1h\": \"1\",\n",
      "      \"pm10Value\": \"26\",\n",
      "      \"pm10Value24\": \"34\",\n",
      "      \"pm25Grade\": \"2\",\n",
      "      \"pm25Grade1h\": \"2\",\n",
      "      \"pm25Value\": \"22\",\n",
      "      \"pm25Value24\": \"20\",\n",
      "      \"resultCode\": \"\",\n",
      "      \"resultMsg\": \"\",\n",
      "      \"rnum\": 0,\n",
      "      \"serviceKey\": \"\",\n",
      "      \"sidoName\": \"\",\n",
      "      \"so2Grade\": \"1\",\n",
      "      \"so2Value\": \"0.003\",\n",
      "      \"stationCode\": \"\",\n",
      "      \"stationName\": \"\",\n",
      "      \"totalCount\": \"\",\n",
      "      \"ver\": \"\"\n",
      "    },\n",
      "    {\n",
      "      \"_returnType\": \"json\",\n",
      "      \"coGrade\": \"1\",\n",
      "      \"coValue\": \"0.6\",\n",
      "      \"dataTerm\": \"\",\n",
      "      \"dataTime\": \"2019-07-15 17:00\",\n",
      "      \"khaiGrade\": \"\",\n",
      "      \"khaiValue\": \"-\",\n",
      "      \"mangName\": \"도시대기\",\n",
      "      \"no2Grade\": \"1\",\n",
      "      \"no2Value\": \"0.028\",\n",
      "      \"numOfRows\": \"10\",\n",
      "      \"o3Grade\": \"2\",\n",
      "      \"o3Value\": \"0.034\",\n",
      "      \"pageNo\": \"1\",\n",
      "      \"pm10Grade\": \"2\",\n",
      "      \"pm10Grade1h\": \"1\",\n",
      "      \"pm10Value\": \"27\",\n",
      "      \"pm10Value24\": \"35\",\n",
      "      \"pm25Grade\": \"\",\n",
      "      \"pm25Grade1h\": \"2\",\n",
      "      \"pm25Value\": \"18\",\n",
      "      \"pm25Value24\": \"-\",\n",
      "      \"resultCode\": \"\",\n",
      "      \"resultMsg\": \"\",\n",
      "      \"rnum\": 0,\n",
      "      \"serviceKey\": \"\",\n",
      "      \"sidoName\": \"\",\n",
      "      \"so2Grade\": \"1\",\n",
      "      \"so2Value\": \"0.003\",\n",
      "      \"stationCode\": \"\",\n",
      "      \"stationName\": \"\",\n",
      "      \"totalCount\": \"\",\n",
      "      \"ver\": \"\"\n",
      "    },\n",
      "    {\n",
      "      \"_returnType\": \"json\",\n",
      "      \"coGrade\": \"1\",\n",
      "      \"coValue\": \"0.8\",\n",
      "      \"dataTerm\": \"\",\n",
      "      \"dataTime\": \"2019-07-15 16:00\",\n",
      "      \"khaiGrade\": \"\",\n",
      "      \"khaiValue\": \"-\",\n",
      "      \"mangName\": \"도시대기\",\n",
      "      \"no2Grade\": \"1\",\n",
      "      \"no2Value\": \"0.023\",\n",
      "      \"numOfRows\": \"10\",\n",
      "      \"o3Grade\": \"2\",\n",
      "      \"o3Value\": \"0.037\",\n",
      "      \"pageNo\": \"1\",\n",
      "      \"pm10Grade\": \"\",\n",
      "      \"pm10Grade1h\": \"2\",\n",
      "      \"pm10Value\": \"32\",\n",
      "      \"pm10Value24\": \"-\",\n",
      "      \"pm25Grade\": \"\",\n",
      "      \"pm25Grade1h\": \"1\",\n",
      "      \"pm25Value\": \"11\",\n",
      "      \"pm25Value24\": \"-\",\n",
      "      \"resultCode\": \"\",\n",
      "      \"resultMsg\": \"\",\n",
      "      \"rnum\": 0,\n",
      "      \"serviceKey\": \"\",\n",
      "      \"sidoName\": \"\",\n",
      "      \"so2Grade\": \"1\",\n",
      "      \"so2Value\": \"0.003\",\n",
      "      \"stationCode\": \"\",\n",
      "      \"stationName\": \"\",\n",
      "      \"totalCount\": \"\",\n",
      "      \"ver\": \"\"\n",
      "    },\n",
      "    {\n",
      "      \"_returnType\": \"json\",\n",
      "      \"coGrade\": \"1\",\n",
      "      \"coValue\": \"0.6\",\n",
      "      \"dataTerm\": \"\",\n",
      "      \"dataTime\": \"2019-07-15 15:00\",\n",
      "      \"khaiGrade\": \"\",\n",
      "      \"khaiValue\": \"-\",\n",
      "      \"mangName\": \"도시대기\",\n",
      "      \"no2Grade\": \"1\",\n",
      "      \"no2Value\": \"0.022\",\n",
      "      \"numOfRows\": \"10\",\n",
      "      \"o3Grade\": \"2\",\n",
      "      \"o3Value\": \"0.037\",\n",
      "      \"pageNo\": \"1\",\n",
      "      \"pm10Grade\": \"\",\n",
      "      \"pm10Grade1h\": \"2\",\n",
      "      \"pm10Value\": \"45\",\n",
      "      \"pm10Value24\": \"-\",\n",
      "      \"pm25Grade\": \"\",\n",
      "      \"pm25Grade1h\": \"\",\n",
      "      \"pm25Value\": \"-\",\n",
      "      \"pm25Value24\": \"-\",\n",
      "      \"resultCode\": \"\",\n",
      "      \"resultMsg\": \"\",\n",
      "      \"rnum\": 0,\n",
      "      \"serviceKey\": \"\",\n",
      "      \"sidoName\": \"\",\n",
      "      \"so2Grade\": \"1\",\n",
      "      \"so2Value\": \"0.003\",\n",
      "      \"stationCode\": \"\",\n",
      "      \"stationName\": \"\",\n",
      "      \"totalCount\": \"\",\n",
      "      \"ver\": \"\"\n",
      "    },\n",
      "    {\n",
      "      \"_returnType\": \"json\",\n",
      "      \"coGrade\": \"\",\n",
      "      \"coValue\": \"-\",\n",
      "      \"dataTerm\": \"\",\n",
      "      \"dataTime\": \"2019-07-15 14:00\",\n",
      "      \"khaiGrade\": \"\",\n",
      "      \"khaiValue\": \"-\",\n",
      "      \"mangName\": \"도시대기\",\n",
      "      \"no2Grade\": \"\",\n",
      "      \"no2Value\": \"-\",\n",
      "      \"numOfRows\": \"10\",\n",
      "      \"o3Grade\": \"\",\n",
      "      \"o3Value\": \"-\",\n",
      "      \"pageNo\": \"1\",\n",
      "      \"pm10Grade\": \"\",\n",
      "      \"pm10Grade1h\": \"\",\n",
      "      \"pm10Value\": \"-\",\n",
      "      \"pm10Value24\": \"-\",\n",
      "      \"pm25Grade\": \"\",\n",
      "      \"pm25Grade1h\": \"\",\n",
      "      \"pm25Value\": \"-\",\n",
      "      \"pm25Value24\": \"-\",\n",
      "      \"resultCode\": \"\",\n",
      "      \"resultMsg\": \"\",\n",
      "      \"rnum\": 0,\n",
      "      \"serviceKey\": \"\",\n",
      "      \"sidoName\": \"\",\n",
      "      \"so2Grade\": \"\",\n",
      "      \"so2Value\": \"-\",\n",
      "      \"stationCode\": \"\",\n",
      "      \"stationName\": \"\",\n",
      "      \"totalCount\": \"\",\n",
      "      \"ver\": \"\"\n",
      "    }\n",
      "  ],\n",
      "  \"parm\": {\n",
      "    \"_returnType\": \"json\",\n",
      "    \"coGrade\": \"\",\n",
      "    \"coValue\": \"\",\n",
      "    \"dataTerm\": \"DAILY\",\n",
      "    \"dataTime\": \"\",\n",
      "    \"khaiGrade\": \"\",\n",
      "    \"khaiValue\": \"\",\n",
      "    \"mangName\": \"\",\n",
      "    \"no2Grade\": \"\",\n",
      "    \"no2Value\": \"\",\n",
      "    \"numOfRows\": \"10\",\n",
      "    \"o3Grade\": \"\",\n",
      "    \"o3Value\": \"\",\n",
      "    \"pageNo\": \"1\",\n",
      "    \"pm10Grade\": \"\",\n",
      "    \"pm10Grade1h\": \"\",\n",
      "    \"pm10Value\": \"\",\n",
      "    \"pm10Value24\": \"\",\n",
      "    \"pm25Grade\": \"\",\n",
      "    \"pm25Grade1h\": \"\",\n",
      "    \"pm25Value\": \"\",\n",
      "    \"pm25Value24\": \"\",\n",
      "    \"resultCode\": \"\",\n",
      "    \"resultMsg\": \"\",\n",
      "    \"rnum\": 0,\n",
      "    \"serviceKey\": \"+WJxaSeTX+6T8HKBqdWlnFfsS3ySR5r5fpnZyYPFLNxh2k4L7jldR7d4PevkAcQ5BAVyFmQkEietj6Xz7gxDCw==\",\n",
      "    \"sidoName\": \"\",\n",
      "    \"so2Grade\": \"\",\n",
      "    \"so2Value\": \"\",\n",
      "    \"stationCode\": \"\",\n",
      "    \"stationName\": \"종로구\",\n",
      "    \"totalCount\": \"\",\n",
      "    \"ver\": \"1.0\"\n",
      "  },\n",
      "  \"ArpltnInforInqireSvcVo\": {\n",
      "    \"_returnType\": \"json\",\n",
      "    \"coGrade\": \"\",\n",
      "    \"coValue\": \"\",\n",
      "    \"dataTerm\": \"DAILY\",\n",
      "    \"dataTime\": \"\",\n",
      "    \"khaiGrade\": \"\",\n",
      "    \"khaiValue\": \"\",\n",
      "    \"mangName\": \"\",\n",
      "    \"no2Grade\": \"\",\n",
      "    \"no2Value\": \"\",\n",
      "    \"numOfRows\": \"10\",\n",
      "    \"o3Grade\": \"\",\n",
      "    \"o3Value\": \"\",\n",
      "    \"pageNo\": \"1\",\n",
      "    \"pm10Grade\": \"\",\n",
      "    \"pm10Grade1h\": \"\",\n",
      "    \"pm10Value\": \"\",\n",
      "    \"pm10Value24\": \"\",\n",
      "    \"pm25Grade\": \"\",\n",
      "    \"pm25Grade1h\": \"\",\n",
      "    \"pm25Value\": \"\",\n",
      "    \"pm25Value24\": \"\",\n",
      "    \"resultCode\": \"\",\n",
      "    \"resultMsg\": \"\",\n",
      "    \"rnum\": 0,\n",
      "    \"serviceKey\": \"+WJxaSeTX+6T8HKBqdWlnFfsS3ySR5r5fpnZyYPFLNxh2k4L7jldR7d4PevkAcQ5BAVyFmQkEietj6Xz7gxDCw==\",\n",
      "    \"sidoName\": \"\",\n",
      "    \"so2Grade\": \"\",\n",
      "    \"so2Value\": \"\",\n",
      "    \"stationCode\": \"\",\n",
      "    \"stationName\": \"종로구\",\n",
      "    \"totalCount\": \"\",\n",
      "    \"ver\": \"1.0\"\n",
      "  },\n",
      "  \"totalCount\": 23\n",
      "}\n"
     ]
    }
   ],
   "source": [
    "print(resJSON)"
   ]
  },
  {
   "cell_type": "code",
   "execution_count": 131,
   "metadata": {},
   "outputs": [
    {
     "data": {
      "text/plain": [
       "str"
      ]
     },
     "execution_count": 131,
     "metadata": {},
     "output_type": "execute_result"
    }
   ],
   "source": [
    "type(resJSON)"
   ]
  },
  {
   "cell_type": "code",
   "execution_count": 136,
   "metadata": {
    "scrolled": false
   },
   "outputs": [
    {
     "ename": "KeyError",
     "evalue": "'cityName'",
     "output_type": "error",
     "traceback": [
      "\u001b[1;31m---------------------------------------------------------------------------\u001b[0m",
      "\u001b[1;31mKeyError\u001b[0m                                  Traceback (most recent call last)",
      "\u001b[1;32m<ipython-input-136-929cb6c66a24>\u001b[0m in \u001b[0;36m<module>\u001b[1;34m\u001b[0m\n\u001b[1;32m----> 1\u001b[1;33m \u001b[1;33m[\u001b[0m\u001b[1;33m{\u001b[0m\u001b[0mrow\u001b[0m\u001b[1;33m[\u001b[0m\u001b[1;34m'cityName'\u001b[0m\u001b[1;33m]\u001b[0m\u001b[1;33m:\u001b[0m\u001b[0mrow\u001b[0m\u001b[1;33m[\u001b[0m\u001b[1;34m'pm25Value'\u001b[0m\u001b[1;33m]\u001b[0m\u001b[1;33m}\u001b[0m\u001b[1;32mfor\u001b[0m \u001b[0mrow\u001b[0m \u001b[1;32min\u001b[0m \u001b[0mreqObj\u001b[0m\u001b[1;33m[\u001b[0m\u001b[1;34m\"list\"\u001b[0m\u001b[1;33m]\u001b[0m\u001b[1;33m]\u001b[0m\u001b[1;33m\u001b[0m\u001b[1;33m\u001b[0m\u001b[0m\n\u001b[0m",
      "\u001b[1;32m<ipython-input-136-929cb6c66a24>\u001b[0m in \u001b[0;36m<listcomp>\u001b[1;34m(.0)\u001b[0m\n\u001b[1;32m----> 1\u001b[1;33m \u001b[1;33m[\u001b[0m\u001b[1;33m{\u001b[0m\u001b[0mrow\u001b[0m\u001b[1;33m[\u001b[0m\u001b[1;34m'cityName'\u001b[0m\u001b[1;33m]\u001b[0m\u001b[1;33m:\u001b[0m\u001b[0mrow\u001b[0m\u001b[1;33m[\u001b[0m\u001b[1;34m'pm25Value'\u001b[0m\u001b[1;33m]\u001b[0m\u001b[1;33m}\u001b[0m\u001b[1;32mfor\u001b[0m \u001b[0mrow\u001b[0m \u001b[1;32min\u001b[0m \u001b[0mreqObj\u001b[0m\u001b[1;33m[\u001b[0m\u001b[1;34m\"list\"\u001b[0m\u001b[1;33m]\u001b[0m\u001b[1;33m]\u001b[0m\u001b[1;33m\u001b[0m\u001b[1;33m\u001b[0m\u001b[0m\n\u001b[0m",
      "\u001b[1;31mKeyError\u001b[0m: 'cityName'"
     ]
    }
   ],
   "source": [
    "[{row['cityName']:row['pm25Value']}for row in reqObj[\"list\"]]"
   ]
  },
  {
   "cell_type": "markdown",
   "metadata": {},
   "source": [
    "# XML"
   ]
  },
  {
   "cell_type": "markdown",
   "metadata": {},
   "source": [
    "HTML보다 엄격해서 오류가 날 확률이 없다.  \n",
    "규약을 지키면 well-formed  \n",
    "XML이 왜생겼는지? 사람과 machine이 읽기 쉬운  \n",
    "- 데이터를 전달하기 위한 도구  : 계층형 도구 > 사람이 해석가능  \n",
    "- 태그가 무한히 확장가능\n",
    "\n",
    "\n",
    "HTML은 비교하면 알아듣기 힘듦  \n",
    "- 화면에 어떻게 이쁘게 보여질까를 위해 만들어짐.  \n",
    "- Tag가 고정되어 있음.\n",
    "- Validation 없음"
   ]
  },
  {
   "cell_type": "markdown",
   "metadata": {},
   "source": [
    "JSON은 빠르고, 가볍다, 변수가 적다.  \n",
    "XML은 명세를 명확하게 만들거나, 설명을 할때, 데이터를 설명할때 좋은 경우 있다."
   ]
  },
  {
   "cell_type": "code",
   "execution_count": 158,
   "metadata": {},
   "outputs": [],
   "source": [
    "import xml.etree.ElementTree as et"
   ]
  },
  {
   "cell_type": "code",
   "execution_count": 643,
   "metadata": {},
   "outputs": [],
   "source": [
    "from lxml import etree"
   ]
  },
  {
   "cell_type": "code",
   "execution_count": 159,
   "metadata": {},
   "outputs": [],
   "source": [
    "bookstore = et.Element(\"bookstore\")\n",
    "book1 = et.Element(\"book\",category = \"cooking\")\n",
    "bookstore.insert(0,book1)"
   ]
  },
  {
   "cell_type": "code",
   "execution_count": 160,
   "metadata": {},
   "outputs": [],
   "source": [
    "title1 = et.Element('title')\n",
    "title1.attrib[\"lang\"] = \"en\"\n",
    "title1.text = \"Everyday Italian\"\n",
    "\n",
    "book1.append(title1)"
   ]
  },
  {
   "cell_type": "code",
   "execution_count": 163,
   "metadata": {},
   "outputs": [],
   "source": [
    "et.SubElement(book1,\"author\").text = 'Giada De Laurentiis'\n",
    "et.SubElement(book1,\"year\").text = '2005'\n",
    "et.SubElement(book1,\"price\").text = '30.00'"
   ]
  },
  {
   "cell_type": "code",
   "execution_count": 165,
   "metadata": {},
   "outputs": [],
   "source": [
    "book2 = et.Element(\"book\",category = \"children\")\n",
    "bookstore.append(book2)"
   ]
  },
  {
   "cell_type": "code",
   "execution_count": 166,
   "metadata": {},
   "outputs": [],
   "source": [
    "title2 = et.Element('title')\n",
    "title2.attrib[\"lang\"] = title1.get(\"lang\")\n",
    "title2.text = \"Harry Potter\""
   ]
  },
  {
   "cell_type": "code",
   "execution_count": 167,
   "metadata": {},
   "outputs": [],
   "source": [
    "book2.append(title2)"
   ]
  },
  {
   "cell_type": "code",
   "execution_count": 168,
   "metadata": {},
   "outputs": [],
   "source": [
    "et.SubElement(book2,\"author\").text = 'Giada De Laurentiis'\n",
    "et.SubElement(book2,\"year\").text = '2005'\n",
    "et.SubElement(book2,\"price\").text = '30.00'"
   ]
  },
  {
   "cell_type": "code",
   "execution_count": 174,
   "metadata": {
    "scrolled": true
   },
   "outputs": [
    {
     "name": "stdout",
     "output_type": "stream",
     "text": [
      "<bookstore><book category=\"cooking\"><title lang=\"en\">Everyday Italian</title><author>Giada De Laurentiis</author><year>2005</year><price>30.00</price></book><book category=\"children\" /><book category=\"children\"><title lang=\"en\">Harry Potter</title><author>Giada De Laurentiis</author><year>2005</year><price>30.00</price></book></bookstore>\n"
     ]
    }
   ],
   "source": [
    "et.dump(bookstore) # debugging용도로만 사용"
   ]
  },
  {
   "cell_type": "code",
   "execution_count": 229,
   "metadata": {},
   "outputs": [],
   "source": [
    "a=et.parse('JSON.txt')"
   ]
  },
  {
   "cell_type": "code",
   "execution_count": 254,
   "metadata": {},
   "outputs": [
    {
     "data": {
      "text/plain": [
       "'bookstore'"
      ]
     },
     "execution_count": 254,
     "metadata": {},
     "output_type": "execute_result"
    }
   ],
   "source": [
    "a.getroot().get('category')\n",
    "a.getroot().tag"
   ]
  },
  {
   "cell_type": "code",
   "execution_count": 223,
   "metadata": {},
   "outputs": [],
   "source": [
    "root = et.XML(et.tostring(bookstore))"
   ]
  },
  {
   "cell_type": "code",
   "execution_count": 224,
   "metadata": {},
   "outputs": [
    {
     "name": "stdout",
     "output_type": "stream",
     "text": [
      "3\n"
     ]
    }
   ],
   "source": [
    "print(len(root))"
   ]
  },
  {
   "cell_type": "code",
   "execution_count": 225,
   "metadata": {
    "scrolled": true
   },
   "outputs": [
    {
     "name": "stdout",
     "output_type": "stream",
     "text": [
      "book {'category': 'cooking'}\n",
      "book {'category': 'children'}\n",
      "book {'category': 'children'}\n"
     ]
    }
   ],
   "source": [
    "for childNode in root :\n",
    "    print(childNode.tag,childNode.attrib)"
   ]
  },
  {
   "cell_type": "code",
   "execution_count": 226,
   "metadata": {},
   "outputs": [],
   "source": [
    "root.clear()"
   ]
  },
  {
   "cell_type": "code",
   "execution_count": 227,
   "metadata": {},
   "outputs": [],
   "source": [
    "root = et.fromstring(et.tostring(bookstore))"
   ]
  },
  {
   "cell_type": "code",
   "execution_count": 231,
   "metadata": {},
   "outputs": [
    {
     "name": "stderr",
     "output_type": "stream",
     "text": [
      "C:\\Users\\SeoDongUk\\Anaconda3\\lib\\site-packages\\ipykernel_launcher.py:1: DeprecationWarning: This method will be removed in future versions.  Use 'list(elem)' or iteration over elem instead.\n",
      "  \"\"\"Entry point for launching an IPython kernel.\n"
     ]
    }
   ],
   "source": [
    "childNodes = root.getchildren()"
   ]
  },
  {
   "cell_type": "code",
   "execution_count": 240,
   "metadata": {},
   "outputs": [
    {
     "name": "stdout",
     "output_type": "stream",
     "text": [
      "3\n"
     ]
    }
   ],
   "source": [
    "print(len(childNodes))"
   ]
  },
  {
   "cell_type": "code",
   "execution_count": 241,
   "metadata": {},
   "outputs": [
    {
     "name": "stdout",
     "output_type": "stream",
     "text": [
      "book [('category', 'cooking')]\n",
      "book [('category', 'children')]\n",
      "book [('category', 'children')]\n"
     ]
    }
   ],
   "source": [
    "for childNode in childNodes:\n",
    "    print(childNode.tag,childNode.items())"
   ]
  },
  {
   "cell_type": "code",
   "execution_count": 242,
   "metadata": {},
   "outputs": [
    {
     "name": "stdout",
     "output_type": "stream",
     "text": [
      "title ['lang']\n",
      "['en']\n",
      "author []\n",
      "year []\n",
      "price []\n"
     ]
    }
   ],
   "source": [
    "for childNode in childNodes[0]:\n",
    "    print(childNode.tag,childNode.keys())\n",
    "    if childNode.keys() != []:\n",
    "        print([childNode.get(k) for k in childNode.keys()])"
   ]
  },
  {
   "cell_type": "code",
   "execution_count": 245,
   "metadata": {},
   "outputs": [
    {
     "name": "stdout",
     "output_type": "stream",
     "text": [
      "<class 'xml.etree.ElementTree.Element'>\n",
      "book cooking\n"
     ]
    }
   ],
   "source": [
    "book = root.find('book')\n",
    "print(book.tag,book.get(\"category\"))"
   ]
  },
  {
   "cell_type": "code",
   "execution_count": 601,
   "metadata": {},
   "outputs": [
    {
     "name": "stdout",
     "output_type": "stream",
     "text": [
      "book cooking\n",
      "book children\n"
     ]
    }
   ],
   "source": [
    "bookList = root.findall('book')\n",
    "for book in bookList:\n",
    "    print(book.tag,book.get(\"category\"))"
   ]
  },
  {
   "cell_type": "code",
   "execution_count": 256,
   "metadata": {},
   "outputs": [
    {
     "name": "stdout",
     "output_type": "stream",
     "text": [
      "<class 'xml.etree.ElementTree.Element'> Everyday Italian\n"
     ]
    }
   ],
   "source": [
    "title = root.find(\".//title\")\n",
    "print(type(title),title.text)"
   ]
  },
  {
   "cell_type": "code",
   "execution_count": 257,
   "metadata": {},
   "outputs": [
    {
     "name": "stdout",
     "output_type": "stream",
     "text": [
      "['Everyday Italian', 'Harry Potter']\n"
     ]
    }
   ],
   "source": [
    "titleList = root.findall(\".//title\")\n",
    "print([title.text for title in titleList])"
   ]
  },
  {
   "cell_type": "code",
   "execution_count": 258,
   "metadata": {},
   "outputs": [
    {
     "name": "stdout",
     "output_type": "stream",
     "text": [
      "<class 'str'> Everyday Italian\n"
     ]
    }
   ],
   "source": [
    "title = root.findtext(\".//title\")\n",
    "print(type(title),title)"
   ]
  },
  {
   "cell_type": "code",
   "execution_count": 259,
   "metadata": {},
   "outputs": [
    {
     "name": "stdout",
     "output_type": "stream",
     "text": [
      "<Element 'book' at 0x000001CE810B2278> book\n"
     ]
    }
   ],
   "source": [
    "book = root.find(\".//book[@category='children']\")\n",
    "print(book,book.tag)"
   ]
  },
  {
   "cell_type": "code",
   "execution_count": 260,
   "metadata": {},
   "outputs": [],
   "source": [
    "from xml.etree.ElementTree import ElementTree"
   ]
  },
  {
   "cell_type": "code",
   "execution_count": 261,
   "metadata": {},
   "outputs": [],
   "source": [
    "tree = ElementTree(root)\n",
    "tree.write(\"book_xml.xml\",encoding=\"utf-8\",xml_declaration=\"utf-8\")"
   ]
  },
  {
   "cell_type": "code",
   "execution_count": 262,
   "metadata": {},
   "outputs": [],
   "source": [
    "from xml.etree.ElementTree import parse"
   ]
  },
  {
   "cell_type": "code",
   "execution_count": 264,
   "metadata": {},
   "outputs": [
    {
     "data": {
      "text/plain": [
       "<Element 'bookstore' at 0x000001CE811E6F48>"
      ]
     },
     "execution_count": 264,
     "metadata": {},
     "output_type": "execute_result"
    }
   ],
   "source": [
    "tree = parse(\"book_xml.xml\")\n",
    "root = tree.getroot()"
   ]
  },
  {
   "cell_type": "code",
   "execution_count": 275,
   "metadata": {
    "scrolled": true
   },
   "outputs": [
    {
     "name": "stdout",
     "output_type": "stream",
     "text": [
      "bookstore None\n",
      "book None\n",
      "title Everyday Italian\n",
      "author Giada De Laurentiis\n",
      "year 2005\n",
      "price 30.00\n",
      "book None\n",
      "book None\n",
      "title Harry Potter\n",
      "author Giada De Laurentiis\n",
      "year 2005\n",
      "price 30.00\n"
     ]
    }
   ],
   "source": [
    "for node in root.iter():\n",
    "    print(node.tag,node.text)"
   ]
  },
  {
   "cell_type": "code",
   "execution_count": 276,
   "metadata": {
    "scrolled": true
   },
   "outputs": [
    {
     "name": "stdout",
     "output_type": "stream",
     "text": [
      "bookstore None\n",
      "book None\n",
      "title Everyday Italian\n",
      "author Giada De Laurentiis\n",
      "year 2005\n",
      "price 30.00\n",
      "book None\n",
      "book None\n",
      "title Harry Potter\n",
      "author Giada De Laurentiis\n",
      "year 2005\n",
      "price 30.00\n"
     ]
    }
   ],
   "source": [
    "tree = ElementTree(file=\"book_xml.xml\")\n",
    "root = tree.getroot()\n",
    "\n",
    "for node in root.iter():\n",
    "    print(node.tag,node.text)"
   ]
  },
  {
   "cell_type": "code",
   "execution_count": 299,
   "metadata": {},
   "outputs": [],
   "source": [
    "import lxml.etree as etree"
   ]
  },
  {
   "cell_type": "code",
   "execution_count": 300,
   "metadata": {},
   "outputs": [],
   "source": [
    "bookStore = etree.Element(\"bookstore\")"
   ]
  },
  {
   "cell_type": "code",
   "execution_count": 301,
   "metadata": {},
   "outputs": [],
   "source": [
    "book1 = etree.SubElement(bookStore,\"book\")\n",
    "book2 = etree.SubElement(bookStore,\"book\",attrib={\"category\":\"children\"})"
   ]
  },
  {
   "cell_type": "code",
   "execution_count": 302,
   "metadata": {},
   "outputs": [],
   "source": [
    "book1.attrib[\"category\"] = \"cooking\""
   ]
  },
  {
   "cell_type": "code",
   "execution_count": 303,
   "metadata": {},
   "outputs": [],
   "source": [
    "title1 = etree.Element(\"title\",lang = \"en\")\n",
    "title1.text = \"Everydat Italian\"\n",
    "book1.append(title1)"
   ]
  },
  {
   "cell_type": "code",
   "execution_count": 304,
   "metadata": {},
   "outputs": [],
   "source": [
    "etree.SubElement(book1,\"author\").text = \"Giada De Laurentiis\"\n",
    "etree.SubElement(book1,\"year\").text = \"2005\"\n",
    "etree.SubElement(book1,\"price\").text = \"30.00\""
   ]
  },
  {
   "cell_type": "code",
   "execution_count": 305,
   "metadata": {},
   "outputs": [],
   "source": [
    "title2 = etree.Element(\"title\")\n",
    "title2.set(\"lang\",title1.get(\"lang\"))\n",
    "title2.text = \"Harry Potter\"\n",
    "book2.append(title2)"
   ]
  },
  {
   "cell_type": "code",
   "execution_count": 306,
   "metadata": {},
   "outputs": [],
   "source": [
    "etree.SubElement(book2,\"author\").text = \"Giada De Laurentiis\"\n",
    "etree.SubElement(book2,\"year\").text = \"2005\"\n",
    "book2.insert(3,etree.Element(\"price\"))"
   ]
  },
  {
   "cell_type": "code",
   "execution_count": 307,
   "metadata": {},
   "outputs": [
    {
     "name": "stdout",
     "output_type": "stream",
     "text": [
      "4\n"
     ]
    }
   ],
   "source": [
    "print(len(book2))"
   ]
  },
  {
   "cell_type": "code",
   "execution_count": 308,
   "metadata": {},
   "outputs": [],
   "source": [
    "book2[-1].text = \"30.00\""
   ]
  },
  {
   "cell_type": "code",
   "execution_count": 309,
   "metadata": {},
   "outputs": [],
   "source": [
    "xmlBytes = etree.tostring(bookStore,encoding=\"utf-8\",pretty_print=True,xml_declaration=True)"
   ]
  },
  {
   "cell_type": "code",
   "execution_count": 312,
   "metadata": {},
   "outputs": [],
   "source": [
    "xmlStr = etree.tounicode(bookStore,pretty_print=True)"
   ]
  },
  {
   "cell_type": "code",
   "execution_count": 681,
   "metadata": {},
   "outputs": [
    {
     "name": "stdout",
     "output_type": "stream",
     "text": [
      "<class 'bytes'> <class 'str'>\n"
     ]
    }
   ],
   "source": [
    "print(type(xmlBytes),type(xmlStr))"
   ]
  },
  {
   "cell_type": "code",
   "execution_count": 315,
   "metadata": {},
   "outputs": [
    {
     "name": "stdout",
     "output_type": "stream",
     "text": [
      "<bookstore>\n",
      "  <book category=\"cooking\">\n",
      "    <title lang=\"en\">Everydat Italian</title>\n",
      "    <author>Giada De Laurentiis</author>\n",
      "    <year>2005</year>\n",
      "    <price>30.00</price>\n",
      "  </book>\n",
      "  <book category=\"children\">\n",
      "    <title lang=\"en\">Harry Potter</title>\n",
      "    <author>Giada De Laurentiis</author>\n",
      "    <year>2005</year>\n",
      "    <price>30.00</price>\n",
      "  </book>\n",
      "</bookstore>\n"
     ]
    }
   ],
   "source": [
    "etree.dump(bookStore)"
   ]
  },
  {
   "cell_type": "code",
   "execution_count": 316,
   "metadata": {},
   "outputs": [
    {
     "name": "stdout",
     "output_type": "stream",
     "text": [
      "1.0\n",
      "UTF-8\n",
      "\n",
      "bookstore\n",
      "<Element bookstore at 0x1ce817fb608>\n",
      "2\n",
      "book {'category': 'cooking'}\n",
      "book {'category': 'children'}\n"
     ]
    }
   ],
   "source": [
    "xml = etree.XML(etree.tostring(bookStore))\n",
    "xmlTree = etree.ElementTree(xml)\n",
    "xmlRoot = xmlTree.getroot()\n",
    "\n",
    "print(xmlTree.docinfo.xml_version)\n",
    "print(xmlTree.docinfo.encoding)\n",
    "print(xmlTree.docinfo.doctype)\n",
    "print(xmlTree.docinfo.root_name)\n",
    "\n",
    "print(xmlRoot)\n",
    "print(len(xmlRoot))\n",
    "for childNode in xmlRoot:\n",
    "    print(childNode.tag,childNode.attrib)"
   ]
  },
  {
   "cell_type": "code",
   "execution_count": 317,
   "metadata": {},
   "outputs": [
    {
     "data": {
      "text/plain": [
       "b'<bookstore><book category=\"cooking\"><title lang=\"en\">Everydat Italian</title><author>Giada De Laurentiis</author><year>2005</year><price>30.00</price></book><book category=\"children\"><title lang=\"en\">Harry Potter</title><author>Giada De Laurentiis</author><year>2005</year><price>30.00</price></book></bookstore>'"
      ]
     },
     "execution_count": 317,
     "metadata": {},
     "output_type": "execute_result"
    }
   ],
   "source": [
    "etree.tostring(bookStore)"
   ]
  },
  {
   "cell_type": "code",
   "execution_count": 318,
   "metadata": {},
   "outputs": [],
   "source": [
    "xml = etree.fromstring(etree.tostring(bookStore))\n",
    "xmlTree = etree.ElementTree(xml)\n",
    "xmlRoot = xmlTree.getroot()"
   ]
  },
  {
   "cell_type": "code",
   "execution_count": 319,
   "metadata": {},
   "outputs": [
    {
     "data": {
      "text/plain": [
       "<Element bookstore at 0x1ce8148b3c8>"
      ]
     },
     "execution_count": 319,
     "metadata": {},
     "output_type": "execute_result"
    }
   ],
   "source": [
    "xmlRoot"
   ]
  },
  {
   "cell_type": "code",
   "execution_count": 322,
   "metadata": {},
   "outputs": [
    {
     "data": {
      "text/plain": [
       "[<Element book at 0x1cefff063c8>, <Element book at 0x1ce814f1348>]"
      ]
     },
     "execution_count": 322,
     "metadata": {},
     "output_type": "execute_result"
    }
   ],
   "source": [
    "childNodes = xmlRoot.getchildren()\n",
    "childNodes"
   ]
  },
  {
   "cell_type": "code",
   "execution_count": 323,
   "metadata": {},
   "outputs": [
    {
     "name": "stdout",
     "output_type": "stream",
     "text": [
      "2\n",
      "book [('category', 'cooking')]\n",
      "book [('category', 'children')]\n"
     ]
    }
   ],
   "source": [
    "print(len(childNodes))\n",
    "for childNode in childNodes:\n",
    "    print(childNode.tag,childNode.items())"
   ]
  },
  {
   "cell_type": "code",
   "execution_count": 324,
   "metadata": {},
   "outputs": [
    {
     "name": "stdout",
     "output_type": "stream",
     "text": [
      "title ['lang']\n",
      "['en']\n",
      "author []\n",
      "year []\n",
      "price []\n"
     ]
    }
   ],
   "source": [
    "for childNode in childNodes[0]:\n",
    "    print(childNode.tag,childNode.keys())\n",
    "    if childNode.keys() != []:\n",
    "        print([childNode.get(k) for k in childNode.keys()])"
   ]
  },
  {
   "cell_type": "code",
   "execution_count": 325,
   "metadata": {},
   "outputs": [
    {
     "name": "stdout",
     "output_type": "stream",
     "text": [
      "book cooking\n"
     ]
    }
   ],
   "source": [
    "book = xmlRoot.find(\"book\")\n",
    "print(book.tag,book.get(\"category\"))"
   ]
  },
  {
   "cell_type": "code",
   "execution_count": 345,
   "metadata": {},
   "outputs": [
    {
     "name": "stdout",
     "output_type": "stream",
     "text": [
      "book cooking\n",
      "book children\n"
     ]
    }
   ],
   "source": [
    "bookList = xmlRoot.findall(\"book\")\n",
    "for book in bookList:\n",
    "    print(book.tag,book.get(\"category\"))"
   ]
  },
  {
   "cell_type": "code",
   "execution_count": 343,
   "metadata": {},
   "outputs": [
    {
     "name": "stdout",
     "output_type": "stream",
     "text": [
      "['Everydat Italian', 'Harry Potter']\n"
     ]
    }
   ],
   "source": [
    "titleList = xmlRoot.findall(\".//title\")\n",
    "print([title.text for title in titleList])"
   ]
  },
  {
   "cell_type": "code",
   "execution_count": 356,
   "metadata": {},
   "outputs": [
    {
     "name": "stdout",
     "output_type": "stream",
     "text": [
      "<class 'lxml.etree._Element'> Everydat Italian\n"
     ]
    }
   ],
   "source": [
    "title = xmlRoot.find(\".//title\") # .//를 붙이면 tree 어디든 찾는다.\n",
    "print(type(title),title.text)"
   ]
  },
  {
   "cell_type": "code",
   "execution_count": 349,
   "metadata": {},
   "outputs": [
    {
     "name": "stdout",
     "output_type": "stream",
     "text": [
      "<Element book at 0x1ce814f1348> book\n"
     ]
    }
   ],
   "source": [
    "book = xmlRoot.find(\".//book[@category='children']\")\n",
    "print(book,book.tag)"
   ]
  },
  {
   "cell_type": "code",
   "execution_count": 332,
   "metadata": {},
   "outputs": [
    {
     "name": "stdout",
     "output_type": "stream",
     "text": [
      "bookstore None\n",
      "book None\n",
      "title Everydat Italian\n",
      "author Giada De Laurentiis\n",
      "year 2005\n",
      "price 30.00\n",
      "book None\n",
      "title Harry Potter\n",
      "author Giada De Laurentiis\n",
      "year 2005\n",
      "price 30.00\n"
     ]
    }
   ],
   "source": [
    "for childNode in xmlRoot.iter():\n",
    "    print(childNode.tag,childNode.text)"
   ]
  },
  {
   "cell_type": "code",
   "execution_count": 357,
   "metadata": {},
   "outputs": [
    {
     "name": "stdout",
     "output_type": "stream",
     "text": [
      "year 2005\n",
      "year 2005\n"
     ]
    }
   ],
   "source": [
    "for childNode in xmlRoot.iter(\"year\"):\n",
    "    print(childNode.tag,childNode.text)"
   ]
  },
  {
   "cell_type": "code",
   "execution_count": 377,
   "metadata": {
    "collapsed": true
   },
   "outputs": [
    {
     "data": {
      "text/plain": [
       "b'<?xml version=\"1.0\" encoding=\"UTF-8\"?>\\r\\n\\r\\n\\r\\n\\r\\n\\r\\n<response>\\r\\n\\t<header>\\r\\n\\t\\t<resultCode>00</resultCode>\\r\\n\\t\\t<resultMsg>NORMAL SERVICE.</resultMsg>\\r\\n\\t</header>\\r\\n\\t<body>\\r\\n\\t\\t<items>\\r\\n\\t\\t\\t\\r\\n\\t\\t\\t\\t<item>\\r\\n\\t\\t\\t\\t\\t<dataTime>2019-07-15 24:00</dataTime>\\r\\n\\t\\t\\t\\t\\t\\r\\n\\t\\t\\t\\t\\t<so2Value>0.003</so2Value>\\r\\n\\t\\t\\t\\t\\t<coValue>0.6</coValue>\\r\\n\\t\\t\\t\\t\\t<o3Value>0.016</o3Value>\\r\\n\\t\\t\\t\\t\\t<no2Value>0.030</no2Value>\\r\\n\\t\\t\\t\\t\\t<pm10Value>27</pm10Value>\\r\\n\\t\\t\\t\\t\\t\\r\\n\\t\\t\\t\\t\\t\\r\\n                        <pm25Value>19</pm25Value>\\r\\n                    \\r\\n                    \\r\\n\\t\\t\\t\\t\\t<khaiValue>61</khaiValue>\\r\\n\\t\\t\\t\\t\\t<khaiGrade>2</khaiGrade>\\r\\n\\t\\t\\t\\t\\t<so2Grade>1</so2Grade>\\r\\n\\t\\t\\t\\t\\t<coGrade>1</coGrade>\\r\\n\\t\\t\\t\\t\\t<o3Grade>1</o3Grade>\\r\\n\\t\\t\\t\\t\\t<no2Grade>1</no2Grade>\\r\\n\\t\\t\\t\\t\\t<pm10Grade>1</pm10Grade>\\r\\n\\t\\t\\t\\t\\t\\r\\n                        <pm25Grade>2</pm25Grade>\\r\\n                    \\r\\n                    \\r\\n\\t\\t\\t\\t</item>\\r\\n\\t\\t\\t\\r\\n\\t\\t\\t\\t<item>\\r\\n\\t\\t\\t\\t\\t<dataTime>2019-07-15 23:00</dataTime>\\r\\n\\t\\t\\t\\t\\t\\r\\n\\t\\t\\t\\t\\t<so2Value>0.003</so2Value>\\r\\n\\t\\t\\t\\t\\t<coValue>0.6</coValue>\\r\\n\\t\\t\\t\\t\\t<o3Value>0.013</o3Value>\\r\\n\\t\\t\\t\\t\\t<no2Value>0.036</no2Value>\\r\\n\\t\\t\\t\\t\\t<pm10Value>35</pm10Value>\\r\\n\\t\\t\\t\\t\\t\\r\\n\\t\\t\\t\\t\\t\\r\\n                        <pm25Value>24</pm25Value>\\r\\n                    \\r\\n                    \\r\\n\\t\\t\\t\\t\\t<khaiValue>64</khaiValue>\\r\\n\\t\\t\\t\\t\\t<khaiGrade>2</khaiGrade>\\r\\n\\t\\t\\t\\t\\t<so2Grade>1</so2Grade>\\r\\n\\t\\t\\t\\t\\t<coGrade>1</coGrade>\\r\\n\\t\\t\\t\\t\\t<o3Grade>1</o3Grade>\\r\\n\\t\\t\\t\\t\\t<no2Grade>2</no2Grade>\\r\\n\\t\\t\\t\\t\\t<pm10Grade>2</pm10Grade>\\r\\n\\t\\t\\t\\t\\t\\r\\n                        <pm25Grade>2</pm25Grade>\\r\\n                    \\r\\n                    \\r\\n\\t\\t\\t\\t</item>\\r\\n\\t\\t\\t\\r\\n\\t\\t\\t\\t<item>\\r\\n\\t\\t\\t\\t\\t<dataTime>2019-07-15 22:00</dataTime>\\r\\n\\t\\t\\t\\t\\t\\r\\n\\t\\t\\t\\t\\t<so2Value>0.003</so2Value>\\r\\n\\t\\t\\t\\t\\t<coValue>0.6</coValue>\\r\\n\\t\\t\\t\\t\\t<o3Value>0.013</o3Value>\\r\\n\\t\\t\\t\\t\\t<no2Value>0.041</no2Value>\\r\\n\\t\\t\\t\\t\\t<pm10Value>31</pm10Value>\\r\\n\\t\\t\\t\\t\\t\\r\\n\\t\\t\\t\\t\\t\\r\\n                        <pm25Value>23</pm25Value>\\r\\n                    \\r\\n                    \\r\\n\\t\\t\\t\\t\\t<khaiValue>68</khaiValue>\\r\\n\\t\\t\\t\\t\\t<khaiGrade>2</khaiGrade>\\r\\n\\t\\t\\t\\t\\t<so2Grade>1</so2Grade>\\r\\n\\t\\t\\t\\t\\t<coGrade>1</coGrade>\\r\\n\\t\\t\\t\\t\\t<o3Grade>1</o3Grade>\\r\\n\\t\\t\\t\\t\\t<no2Grade>2</no2Grade>\\r\\n\\t\\t\\t\\t\\t<pm10Grade>1</pm10Grade>\\r\\n\\t\\t\\t\\t\\t\\r\\n                        <pm25Grade>2</pm25Grade>\\r\\n                    \\r\\n                    \\r\\n\\t\\t\\t\\t</item>\\r\\n\\t\\t\\t\\r\\n\\t\\t\\t\\t<item>\\r\\n\\t\\t\\t\\t\\t<dataTime>2019-07-15 21:00</dataTime>\\r\\n\\t\\t\\t\\t\\t\\r\\n\\t\\t\\t\\t\\t<so2Value>0.003</so2Value>\\r\\n\\t\\t\\t\\t\\t<coValue>0.7</coValue>\\r\\n\\t\\t\\t\\t\\t<o3Value>0.015</o3Value>\\r\\n\\t\\t\\t\\t\\t<no2Value>0.045</no2Value>\\r\\n\\t\\t\\t\\t\\t<pm10Value>28</pm10Value>\\r\\n\\t\\t\\t\\t\\t\\r\\n\\t\\t\\t\\t\\t\\r\\n                        <pm25Value>18</pm25Value>\\r\\n                    \\r\\n                    \\r\\n\\t\\t\\t\\t\\t<khaiValue>75</khaiValue>\\r\\n\\t\\t\\t\\t\\t<khaiGrade>2</khaiGrade>\\r\\n\\t\\t\\t\\t\\t<so2Grade>1</so2Grade>\\r\\n\\t\\t\\t\\t\\t<coGrade>1</coGrade>\\r\\n\\t\\t\\t\\t\\t<o3Grade>1</o3Grade>\\r\\n\\t\\t\\t\\t\\t<no2Grade>2</no2Grade>\\r\\n\\t\\t\\t\\t\\t<pm10Grade>1</pm10Grade>\\r\\n\\t\\t\\t\\t\\t\\r\\n                        <pm25Grade>2</pm25Grade>\\r\\n                    \\r\\n                    \\r\\n\\t\\t\\t\\t</item>\\r\\n\\t\\t\\t\\r\\n\\t\\t\\t\\t<item>\\r\\n\\t\\t\\t\\t\\t<dataTime>2019-07-15 20:00</dataTime>\\r\\n\\t\\t\\t\\t\\t\\r\\n\\t\\t\\t\\t\\t<so2Value>0.003</so2Value>\\r\\n\\t\\t\\t\\t\\t<coValue>0.7</coValue>\\r\\n\\t\\t\\t\\t\\t<o3Value>0.024</o3Value>\\r\\n\\t\\t\\t\\t\\t<no2Value>0.038</no2Value>\\r\\n\\t\\t\\t\\t\\t<pm10Value>24</pm10Value>\\r\\n\\t\\t\\t\\t\\t\\r\\n\\t\\t\\t\\t\\t\\r\\n                        <pm25Value>19</pm25Value>\\r\\n                    \\r\\n                    \\r\\n\\t\\t\\t\\t\\t<khaiValue>63</khaiValue>\\r\\n\\t\\t\\t\\t\\t<khaiGrade>2</khaiGrade>\\r\\n\\t\\t\\t\\t\\t<so2Grade>1</so2Grade>\\r\\n\\t\\t\\t\\t\\t<coGrade>1</coGrade>\\r\\n\\t\\t\\t\\t\\t<o3Grade>1</o3Grade>\\r\\n\\t\\t\\t\\t\\t<no2Grade>2</no2Grade>\\r\\n\\t\\t\\t\\t\\t<pm10Grade>1</pm10Grade>\\r\\n\\t\\t\\t\\t\\t\\r\\n                        <pm25Grade>2</pm25Grade>\\r\\n                    \\r\\n                    \\r\\n\\t\\t\\t\\t</item>\\r\\n\\t\\t\\t\\r\\n\\t\\t\\t\\t<item>\\r\\n\\t\\t\\t\\t\\t<dataTime>2019-07-15 19:00</dataTime>\\r\\n\\t\\t\\t\\t\\t\\r\\n\\t\\t\\t\\t\\t<so2Value>0.003</so2Value>\\r\\n\\t\\t\\t\\t\\t<coValue>0.7</coValue>\\r\\n\\t\\t\\t\\t\\t<o3Value>0.024</o3Value>\\r\\n\\t\\t\\t\\t\\t<no2Value>0.040</no2Value>\\r\\n\\t\\t\\t\\t\\t<pm10Value>21</pm10Value>\\r\\n\\t\\t\\t\\t\\t\\r\\n\\t\\t\\t\\t\\t\\r\\n                        <pm25Value>17</pm25Value>\\r\\n                    \\r\\n                    \\r\\n\\t\\t\\t\\t\\t<khaiValue>66</khaiValue>\\r\\n\\t\\t\\t\\t\\t<khaiGrade>2</khaiGrade>\\r\\n\\t\\t\\t\\t\\t<so2Grade>1</so2Grade>\\r\\n\\t\\t\\t\\t\\t<coGrade>1</coGrade>\\r\\n\\t\\t\\t\\t\\t<o3Grade>1</o3Grade>\\r\\n\\t\\t\\t\\t\\t<no2Grade>2</no2Grade>\\r\\n\\t\\t\\t\\t\\t<pm10Grade>1</pm10Grade>\\r\\n\\t\\t\\t\\t\\t\\r\\n                        <pm25Grade>2</pm25Grade>\\r\\n                    \\r\\n                    \\r\\n\\t\\t\\t\\t</item>\\r\\n\\t\\t\\t\\r\\n\\t\\t\\t\\t<item>\\r\\n\\t\\t\\t\\t\\t<dataTime>2019-07-15 18:00</dataTime>\\r\\n\\t\\t\\t\\t\\t\\r\\n\\t\\t\\t\\t\\t<so2Value>0.003</so2Value>\\r\\n\\t\\t\\t\\t\\t<coValue>0.8</coValue>\\r\\n\\t\\t\\t\\t\\t<o3Value>0.029</o3Value>\\r\\n\\t\\t\\t\\t\\t<no2Value>0.033</no2Value>\\r\\n\\t\\t\\t\\t\\t<pm10Value>26</pm10Value>\\r\\n\\t\\t\\t\\t\\t\\r\\n\\t\\t\\t\\t\\t\\r\\n                        <pm25Value>22</pm25Value>\\r\\n                    \\r\\n                    \\r\\n\\t\\t\\t\\t\\t<khaiValue>61</khaiValue>\\r\\n\\t\\t\\t\\t\\t<khaiGrade>2</khaiGrade>\\r\\n\\t\\t\\t\\t\\t<so2Grade>1</so2Grade>\\r\\n\\t\\t\\t\\t\\t<coGrade>1</coGrade>\\r\\n\\t\\t\\t\\t\\t<o3Grade>1</o3Grade>\\r\\n\\t\\t\\t\\t\\t<no2Grade>2</no2Grade>\\r\\n\\t\\t\\t\\t\\t<pm10Grade>2</pm10Grade>\\r\\n\\t\\t\\t\\t\\t\\r\\n                        <pm25Grade>2</pm25Grade>\\r\\n                    \\r\\n                    \\r\\n\\t\\t\\t\\t</item>\\r\\n\\t\\t\\t\\r\\n\\t\\t\\t\\t<item>\\r\\n\\t\\t\\t\\t\\t<dataTime>2019-07-15 17:00</dataTime>\\r\\n\\t\\t\\t\\t\\t\\r\\n\\t\\t\\t\\t\\t<so2Value>0.003</so2Value>\\r\\n\\t\\t\\t\\t\\t<coValue>0.6</coValue>\\r\\n\\t\\t\\t\\t\\t<o3Value>0.034</o3Value>\\r\\n\\t\\t\\t\\t\\t<no2Value>0.028</no2Value>\\r\\n\\t\\t\\t\\t\\t<pm10Value>27</pm10Value>\\r\\n\\t\\t\\t\\t\\t\\r\\n\\t\\t\\t\\t\\t\\r\\n                        <pm25Value>18</pm25Value>\\r\\n                    \\r\\n                    \\r\\n\\t\\t\\t\\t\\t<khaiValue>-</khaiValue>\\r\\n\\t\\t\\t\\t\\t<khaiGrade></khaiGrade>\\r\\n\\t\\t\\t\\t\\t<so2Grade>1</so2Grade>\\r\\n\\t\\t\\t\\t\\t<coGrade>1</coGrade>\\r\\n\\t\\t\\t\\t\\t<o3Grade>2</o3Grade>\\r\\n\\t\\t\\t\\t\\t<no2Grade>1</no2Grade>\\r\\n\\t\\t\\t\\t\\t<pm10Grade>2</pm10Grade>\\r\\n\\t\\t\\t\\t\\t\\r\\n                        <pm25Grade></pm25Grade>\\r\\n                    \\r\\n                    \\r\\n\\t\\t\\t\\t</item>\\r\\n\\t\\t\\t\\r\\n\\t\\t\\t\\t<item>\\r\\n\\t\\t\\t\\t\\t<dataTime>2019-07-15 16:00</dataTime>\\r\\n\\t\\t\\t\\t\\t\\r\\n\\t\\t\\t\\t\\t<so2Value>0.003</so2Value>\\r\\n\\t\\t\\t\\t\\t<coValue>0.8</coValue>\\r\\n\\t\\t\\t\\t\\t<o3Value>0.037</o3Value>\\r\\n\\t\\t\\t\\t\\t<no2Value>0.023</no2Value>\\r\\n\\t\\t\\t\\t\\t<pm10Value>32</pm10Value>\\r\\n\\t\\t\\t\\t\\t\\r\\n\\t\\t\\t\\t\\t\\r\\n                        <pm25Value>11</pm25Value>\\r\\n                    \\r\\n                    \\r\\n\\t\\t\\t\\t\\t<khaiValue>-</khaiValue>\\r\\n\\t\\t\\t\\t\\t<khaiGrade></khaiGrade>\\r\\n\\t\\t\\t\\t\\t<so2Grade>1</so2Grade>\\r\\n\\t\\t\\t\\t\\t<coGrade>1</coGrade>\\r\\n\\t\\t\\t\\t\\t<o3Grade>2</o3Grade>\\r\\n\\t\\t\\t\\t\\t<no2Grade>1</no2Grade>\\r\\n\\t\\t\\t\\t\\t<pm10Grade></pm10Grade>\\r\\n\\t\\t\\t\\t\\t\\r\\n                        <pm25Grade></pm25Grade>\\r\\n                    \\r\\n                    \\r\\n\\t\\t\\t\\t</item>\\r\\n\\t\\t\\t\\r\\n\\t\\t\\t\\t<item>\\r\\n\\t\\t\\t\\t\\t<dataTime>2019-07-15 15:00</dataTime>\\r\\n\\t\\t\\t\\t\\t\\r\\n\\t\\t\\t\\t\\t<so2Value>0.003</so2Value>\\r\\n\\t\\t\\t\\t\\t<coValue>0.6</coValue>\\r\\n\\t\\t\\t\\t\\t<o3Value>0.037</o3Value>\\r\\n\\t\\t\\t\\t\\t<no2Value>0.022</no2Value>\\r\\n\\t\\t\\t\\t\\t<pm10Value>45</pm10Value>\\r\\n\\t\\t\\t\\t\\t\\r\\n\\t\\t\\t\\t\\t\\r\\n                        <pm25Value>-</pm25Value>\\r\\n                    \\r\\n                    \\r\\n\\t\\t\\t\\t\\t<khaiValue>-</khaiValue>\\r\\n\\t\\t\\t\\t\\t<khaiGrade></khaiGrade>\\r\\n\\t\\t\\t\\t\\t<so2Grade>1</so2Grade>\\r\\n\\t\\t\\t\\t\\t<coGrade>1</coGrade>\\r\\n\\t\\t\\t\\t\\t<o3Grade>2</o3Grade>\\r\\n\\t\\t\\t\\t\\t<no2Grade>1</no2Grade>\\r\\n\\t\\t\\t\\t\\t<pm10Grade></pm10Grade>\\r\\n\\t\\t\\t\\t\\t\\r\\n                        <pm25Grade></pm25Grade>\\r\\n                    \\r\\n                    \\r\\n\\t\\t\\t\\t</item>\\r\\n\\t\\t\\t\\r\\n\\t\\t</items>\\r\\n\\t\\t\\t<numOfRows>10</numOfRows>\\r\\n\\t\\t\\t<pageNo>1</pageNo>\\r\\n\\t\\t\\t<totalCount>23</totalCount>\\r\\n\\t</body>\\r\\n</response>\\r\\n'"
      ]
     },
     "execution_count": 377,
     "metadata": {},
     "output_type": "execute_result"
    }
   ],
   "source": [
    "resStr"
   ]
  },
  {
   "cell_type": "code",
   "execution_count": 378,
   "metadata": {},
   "outputs": [],
   "source": [
    "xmlObj = etree.fromstring(resStr)"
   ]
  },
  {
   "cell_type": "code",
   "execution_count": 379,
   "metadata": {},
   "outputs": [],
   "source": [
    "xmlRoot = etree.ElementTree(xmlObj).getroot()"
   ]
  },
  {
   "cell_type": "code",
   "execution_count": 380,
   "metadata": {},
   "outputs": [
    {
     "name": "stdout",
     "output_type": "stream",
     "text": [
      "<response>\n",
      "\t<header>\n",
      "\t\t<resultCode>00</resultCode>\n",
      "\t\t<resultMsg>NORMAL SERVICE.</resultMsg>\n",
      "\t</header>\n",
      "\t<body>\n",
      "\t\t<items>\n",
      "\t\t\t\n",
      "\t\t\t\t<item>\n",
      "\t\t\t\t\t<dataTime>2019-07-15 24:00</dataTime>\n",
      "\t\t\t\t\t\n",
      "\t\t\t\t\t<so2Value>0.003</so2Value>\n",
      "\t\t\t\t\t<coValue>0.6</coValue>\n",
      "\t\t\t\t\t<o3Value>0.016</o3Value>\n",
      "\t\t\t\t\t<no2Value>0.030</no2Value>\n",
      "\t\t\t\t\t<pm10Value>27</pm10Value>\n",
      "\t\t\t\t\t\n",
      "\t\t\t\t\t\n",
      "                        <pm25Value>19</pm25Value>\n",
      "                    \n",
      "                    \n",
      "\t\t\t\t\t<khaiValue>61</khaiValue>\n",
      "\t\t\t\t\t<khaiGrade>2</khaiGrade>\n",
      "\t\t\t\t\t<so2Grade>1</so2Grade>\n",
      "\t\t\t\t\t<coGrade>1</coGrade>\n",
      "\t\t\t\t\t<o3Grade>1</o3Grade>\n",
      "\t\t\t\t\t<no2Grade>1</no2Grade>\n",
      "\t\t\t\t\t<pm10Grade>1</pm10Grade>\n",
      "\t\t\t\t\t\n",
      "                        <pm25Grade>2</pm25Grade>\n",
      "                    \n",
      "                    \n",
      "\t\t\t\t</item>\n",
      "\t\t\t\n",
      "\t\t\t\t<item>\n",
      "\t\t\t\t\t<dataTime>2019-07-15 23:00</dataTime>\n",
      "\t\t\t\t\t\n",
      "\t\t\t\t\t<so2Value>0.003</so2Value>\n",
      "\t\t\t\t\t<coValue>0.6</coValue>\n",
      "\t\t\t\t\t<o3Value>0.013</o3Value>\n",
      "\t\t\t\t\t<no2Value>0.036</no2Value>\n",
      "\t\t\t\t\t<pm10Value>35</pm10Value>\n",
      "\t\t\t\t\t\n",
      "\t\t\t\t\t\n",
      "                        <pm25Value>24</pm25Value>\n",
      "                    \n",
      "                    \n",
      "\t\t\t\t\t<khaiValue>64</khaiValue>\n",
      "\t\t\t\t\t<khaiGrade>2</khaiGrade>\n",
      "\t\t\t\t\t<so2Grade>1</so2Grade>\n",
      "\t\t\t\t\t<coGrade>1</coGrade>\n",
      "\t\t\t\t\t<o3Grade>1</o3Grade>\n",
      "\t\t\t\t\t<no2Grade>2</no2Grade>\n",
      "\t\t\t\t\t<pm10Grade>2</pm10Grade>\n",
      "\t\t\t\t\t\n",
      "                        <pm25Grade>2</pm25Grade>\n",
      "                    \n",
      "                    \n",
      "\t\t\t\t</item>\n",
      "\t\t\t\n",
      "\t\t\t\t<item>\n",
      "\t\t\t\t\t<dataTime>2019-07-15 22:00</dataTime>\n",
      "\t\t\t\t\t\n",
      "\t\t\t\t\t<so2Value>0.003</so2Value>\n",
      "\t\t\t\t\t<coValue>0.6</coValue>\n",
      "\t\t\t\t\t<o3Value>0.013</o3Value>\n",
      "\t\t\t\t\t<no2Value>0.041</no2Value>\n",
      "\t\t\t\t\t<pm10Value>31</pm10Value>\n",
      "\t\t\t\t\t\n",
      "\t\t\t\t\t\n",
      "                        <pm25Value>23</pm25Value>\n",
      "                    \n",
      "                    \n",
      "\t\t\t\t\t<khaiValue>68</khaiValue>\n",
      "\t\t\t\t\t<khaiGrade>2</khaiGrade>\n",
      "\t\t\t\t\t<so2Grade>1</so2Grade>\n",
      "\t\t\t\t\t<coGrade>1</coGrade>\n",
      "\t\t\t\t\t<o3Grade>1</o3Grade>\n",
      "\t\t\t\t\t<no2Grade>2</no2Grade>\n",
      "\t\t\t\t\t<pm10Grade>1</pm10Grade>\n",
      "\t\t\t\t\t\n",
      "                        <pm25Grade>2</pm25Grade>\n",
      "                    \n",
      "                    \n",
      "\t\t\t\t</item>\n",
      "\t\t\t\n",
      "\t\t\t\t<item>\n",
      "\t\t\t\t\t<dataTime>2019-07-15 21:00</dataTime>\n",
      "\t\t\t\t\t\n",
      "\t\t\t\t\t<so2Value>0.003</so2Value>\n",
      "\t\t\t\t\t<coValue>0.7</coValue>\n",
      "\t\t\t\t\t<o3Value>0.015</o3Value>\n",
      "\t\t\t\t\t<no2Value>0.045</no2Value>\n",
      "\t\t\t\t\t<pm10Value>28</pm10Value>\n",
      "\t\t\t\t\t\n",
      "\t\t\t\t\t\n",
      "                        <pm25Value>18</pm25Value>\n",
      "                    \n",
      "                    \n",
      "\t\t\t\t\t<khaiValue>75</khaiValue>\n",
      "\t\t\t\t\t<khaiGrade>2</khaiGrade>\n",
      "\t\t\t\t\t<so2Grade>1</so2Grade>\n",
      "\t\t\t\t\t<coGrade>1</coGrade>\n",
      "\t\t\t\t\t<o3Grade>1</o3Grade>\n",
      "\t\t\t\t\t<no2Grade>2</no2Grade>\n",
      "\t\t\t\t\t<pm10Grade>1</pm10Grade>\n",
      "\t\t\t\t\t\n",
      "                        <pm25Grade>2</pm25Grade>\n",
      "                    \n",
      "                    \n",
      "\t\t\t\t</item>\n",
      "\t\t\t\n",
      "\t\t\t\t<item>\n",
      "\t\t\t\t\t<dataTime>2019-07-15 20:00</dataTime>\n",
      "\t\t\t\t\t\n",
      "\t\t\t\t\t<so2Value>0.003</so2Value>\n",
      "\t\t\t\t\t<coValue>0.7</coValue>\n",
      "\t\t\t\t\t<o3Value>0.024</o3Value>\n",
      "\t\t\t\t\t<no2Value>0.038</no2Value>\n",
      "\t\t\t\t\t<pm10Value>24</pm10Value>\n",
      "\t\t\t\t\t\n",
      "\t\t\t\t\t\n",
      "                        <pm25Value>19</pm25Value>\n",
      "                    \n",
      "                    \n",
      "\t\t\t\t\t<khaiValue>63</khaiValue>\n",
      "\t\t\t\t\t<khaiGrade>2</khaiGrade>\n",
      "\t\t\t\t\t<so2Grade>1</so2Grade>\n",
      "\t\t\t\t\t<coGrade>1</coGrade>\n",
      "\t\t\t\t\t<o3Grade>1</o3Grade>\n",
      "\t\t\t\t\t<no2Grade>2</no2Grade>\n",
      "\t\t\t\t\t<pm10Grade>1</pm10Grade>\n",
      "\t\t\t\t\t\n",
      "                        <pm25Grade>2</pm25Grade>\n",
      "                    \n",
      "                    \n",
      "\t\t\t\t</item>\n",
      "\t\t\t\n",
      "\t\t\t\t<item>\n",
      "\t\t\t\t\t<dataTime>2019-07-15 19:00</dataTime>\n",
      "\t\t\t\t\t\n",
      "\t\t\t\t\t<so2Value>0.003</so2Value>\n",
      "\t\t\t\t\t<coValue>0.7</coValue>\n",
      "\t\t\t\t\t<o3Value>0.024</o3Value>\n",
      "\t\t\t\t\t<no2Value>0.040</no2Value>\n",
      "\t\t\t\t\t<pm10Value>21</pm10Value>\n",
      "\t\t\t\t\t\n",
      "\t\t\t\t\t\n",
      "                        <pm25Value>17</pm25Value>\n",
      "                    \n",
      "                    \n",
      "\t\t\t\t\t<khaiValue>66</khaiValue>\n",
      "\t\t\t\t\t<khaiGrade>2</khaiGrade>\n",
      "\t\t\t\t\t<so2Grade>1</so2Grade>\n",
      "\t\t\t\t\t<coGrade>1</coGrade>\n",
      "\t\t\t\t\t<o3Grade>1</o3Grade>\n",
      "\t\t\t\t\t<no2Grade>2</no2Grade>\n",
      "\t\t\t\t\t<pm10Grade>1</pm10Grade>\n",
      "\t\t\t\t\t\n",
      "                        <pm25Grade>2</pm25Grade>\n",
      "                    \n",
      "                    \n",
      "\t\t\t\t</item>\n",
      "\t\t\t\n",
      "\t\t\t\t<item>\n",
      "\t\t\t\t\t<dataTime>2019-07-15 18:00</dataTime>\n",
      "\t\t\t\t\t\n",
      "\t\t\t\t\t<so2Value>0.003</so2Value>\n",
      "\t\t\t\t\t<coValue>0.8</coValue>\n",
      "\t\t\t\t\t<o3Value>0.029</o3Value>\n",
      "\t\t\t\t\t<no2Value>0.033</no2Value>\n",
      "\t\t\t\t\t<pm10Value>26</pm10Value>\n",
      "\t\t\t\t\t\n",
      "\t\t\t\t\t\n",
      "                        <pm25Value>22</pm25Value>\n",
      "                    \n",
      "                    \n",
      "\t\t\t\t\t<khaiValue>61</khaiValue>\n",
      "\t\t\t\t\t<khaiGrade>2</khaiGrade>\n",
      "\t\t\t\t\t<so2Grade>1</so2Grade>\n",
      "\t\t\t\t\t<coGrade>1</coGrade>\n",
      "\t\t\t\t\t<o3Grade>1</o3Grade>\n",
      "\t\t\t\t\t<no2Grade>2</no2Grade>\n",
      "\t\t\t\t\t<pm10Grade>2</pm10Grade>\n",
      "\t\t\t\t\t\n",
      "                        <pm25Grade>2</pm25Grade>\n",
      "                    \n",
      "                    \n",
      "\t\t\t\t</item>\n",
      "\t\t\t\n",
      "\t\t\t\t<item>\n",
      "\t\t\t\t\t<dataTime>2019-07-15 17:00</dataTime>\n",
      "\t\t\t\t\t\n",
      "\t\t\t\t\t<so2Value>0.003</so2Value>\n",
      "\t\t\t\t\t<coValue>0.6</coValue>\n",
      "\t\t\t\t\t<o3Value>0.034</o3Value>\n",
      "\t\t\t\t\t<no2Value>0.028</no2Value>\n",
      "\t\t\t\t\t<pm10Value>27</pm10Value>\n",
      "\t\t\t\t\t\n",
      "\t\t\t\t\t\n",
      "                        <pm25Value>18</pm25Value>\n",
      "                    \n",
      "                    \n",
      "\t\t\t\t\t<khaiValue>-</khaiValue>\n",
      "\t\t\t\t\t<khaiGrade/>\n",
      "\t\t\t\t\t<so2Grade>1</so2Grade>\n",
      "\t\t\t\t\t<coGrade>1</coGrade>\n",
      "\t\t\t\t\t<o3Grade>2</o3Grade>\n",
      "\t\t\t\t\t<no2Grade>1</no2Grade>\n",
      "\t\t\t\t\t<pm10Grade>2</pm10Grade>\n",
      "\t\t\t\t\t\n",
      "                        <pm25Grade/>\n",
      "                    \n",
      "                    \n",
      "\t\t\t\t</item>\n",
      "\t\t\t\n",
      "\t\t\t\t<item>\n",
      "\t\t\t\t\t<dataTime>2019-07-15 16:00</dataTime>\n",
      "\t\t\t\t\t\n",
      "\t\t\t\t\t<so2Value>0.003</so2Value>\n",
      "\t\t\t\t\t<coValue>0.8</coValue>\n",
      "\t\t\t\t\t<o3Value>0.037</o3Value>\n",
      "\t\t\t\t\t<no2Value>0.023</no2Value>\n",
      "\t\t\t\t\t<pm10Value>32</pm10Value>\n",
      "\t\t\t\t\t\n",
      "\t\t\t\t\t\n",
      "                        <pm25Value>11</pm25Value>\n",
      "                    \n",
      "                    \n",
      "\t\t\t\t\t<khaiValue>-</khaiValue>\n",
      "\t\t\t\t\t<khaiGrade/>\n",
      "\t\t\t\t\t<so2Grade>1</so2Grade>\n",
      "\t\t\t\t\t<coGrade>1</coGrade>\n",
      "\t\t\t\t\t<o3Grade>2</o3Grade>\n",
      "\t\t\t\t\t<no2Grade>1</no2Grade>\n",
      "\t\t\t\t\t<pm10Grade/>\n",
      "\t\t\t\t\t\n",
      "                        <pm25Grade/>\n",
      "                    \n",
      "                    \n",
      "\t\t\t\t</item>\n",
      "\t\t\t\n",
      "\t\t\t\t<item>\n",
      "\t\t\t\t\t<dataTime>2019-07-15 15:00</dataTime>\n",
      "\t\t\t\t\t\n",
      "\t\t\t\t\t<so2Value>0.003</so2Value>\n",
      "\t\t\t\t\t<coValue>0.6</coValue>\n",
      "\t\t\t\t\t<o3Value>0.037</o3Value>\n",
      "\t\t\t\t\t<no2Value>0.022</no2Value>\n",
      "\t\t\t\t\t<pm10Value>45</pm10Value>\n",
      "\t\t\t\t\t\n",
      "\t\t\t\t\t\n",
      "                        <pm25Value>-</pm25Value>\n",
      "                    \n",
      "                    \n",
      "\t\t\t\t\t<khaiValue>-</khaiValue>\n",
      "\t\t\t\t\t<khaiGrade/>\n",
      "\t\t\t\t\t<so2Grade>1</so2Grade>\n",
      "\t\t\t\t\t<coGrade>1</coGrade>\n",
      "\t\t\t\t\t<o3Grade>2</o3Grade>\n",
      "\t\t\t\t\t<no2Grade>1</no2Grade>\n",
      "\t\t\t\t\t<pm10Grade/>\n",
      "\t\t\t\t\t\n",
      "                        <pm25Grade/>\n",
      "                    \n",
      "                    \n",
      "\t\t\t\t</item>\n",
      "\t\t\t\n",
      "\t\t</items>\n",
      "\t\t\t<numOfRows>10</numOfRows>\n",
      "\t\t\t<pageNo>1</pageNo>\n",
      "\t\t\t<totalCount>23</totalCount>\n",
      "\t</body>\n",
      "</response>\n"
     ]
    }
   ],
   "source": [
    "etree.dump(xmlRoot)"
   ]
  },
  {
   "cell_type": "code",
   "execution_count": 382,
   "metadata": {},
   "outputs": [
    {
     "name": "stdout",
     "output_type": "stream",
     "text": [
      "response \n",
      "\t\n",
      "header \n",
      "\t\t\n",
      "resultCode 00\n",
      "resultMsg NORMAL SERVICE.\n",
      "body \n",
      "\t\t\n",
      "items \n",
      "\t\t\t\n",
      "\t\t\t\t\n",
      "item \n",
      "\t\t\t\t\t\n",
      "dataTime 2019-07-15 24:00\n",
      "so2Value 0.003\n",
      "coValue 0.6\n",
      "o3Value 0.016\n",
      "no2Value 0.030\n",
      "pm10Value 27\n",
      "pm25Value 19\n",
      "khaiValue 61\n",
      "khaiGrade 2\n",
      "so2Grade 1\n",
      "coGrade 1\n",
      "o3Grade 1\n",
      "no2Grade 1\n",
      "pm10Grade 1\n",
      "pm25Grade 2\n",
      "item \n",
      "\t\t\t\t\t\n",
      "dataTime 2019-07-15 23:00\n",
      "so2Value 0.003\n",
      "coValue 0.6\n",
      "o3Value 0.013\n",
      "no2Value 0.036\n",
      "pm10Value 35\n",
      "pm25Value 24\n",
      "khaiValue 64\n",
      "khaiGrade 2\n",
      "so2Grade 1\n",
      "coGrade 1\n",
      "o3Grade 1\n",
      "no2Grade 2\n",
      "pm10Grade 2\n",
      "pm25Grade 2\n",
      "item \n",
      "\t\t\t\t\t\n",
      "dataTime 2019-07-15 22:00\n",
      "so2Value 0.003\n",
      "coValue 0.6\n",
      "o3Value 0.013\n",
      "no2Value 0.041\n",
      "pm10Value 31\n",
      "pm25Value 23\n",
      "khaiValue 68\n",
      "khaiGrade 2\n",
      "so2Grade 1\n",
      "coGrade 1\n",
      "o3Grade 1\n",
      "no2Grade 2\n",
      "pm10Grade 1\n",
      "pm25Grade 2\n",
      "item \n",
      "\t\t\t\t\t\n",
      "dataTime 2019-07-15 21:00\n",
      "so2Value 0.003\n",
      "coValue 0.7\n",
      "o3Value 0.015\n",
      "no2Value 0.045\n",
      "pm10Value 28\n",
      "pm25Value 18\n",
      "khaiValue 75\n",
      "khaiGrade 2\n",
      "so2Grade 1\n",
      "coGrade 1\n",
      "o3Grade 1\n",
      "no2Grade 2\n",
      "pm10Grade 1\n",
      "pm25Grade 2\n",
      "item \n",
      "\t\t\t\t\t\n",
      "dataTime 2019-07-15 20:00\n",
      "so2Value 0.003\n",
      "coValue 0.7\n",
      "o3Value 0.024\n",
      "no2Value 0.038\n",
      "pm10Value 24\n",
      "pm25Value 19\n",
      "khaiValue 63\n",
      "khaiGrade 2\n",
      "so2Grade 1\n",
      "coGrade 1\n",
      "o3Grade 1\n",
      "no2Grade 2\n",
      "pm10Grade 1\n",
      "pm25Grade 2\n",
      "item \n",
      "\t\t\t\t\t\n",
      "dataTime 2019-07-15 19:00\n",
      "so2Value 0.003\n",
      "coValue 0.7\n",
      "o3Value 0.024\n",
      "no2Value 0.040\n",
      "pm10Value 21\n",
      "pm25Value 17\n",
      "khaiValue 66\n",
      "khaiGrade 2\n",
      "so2Grade 1\n",
      "coGrade 1\n",
      "o3Grade 1\n",
      "no2Grade 2\n",
      "pm10Grade 1\n",
      "pm25Grade 2\n",
      "item \n",
      "\t\t\t\t\t\n",
      "dataTime 2019-07-15 18:00\n",
      "so2Value 0.003\n",
      "coValue 0.8\n",
      "o3Value 0.029\n",
      "no2Value 0.033\n",
      "pm10Value 26\n",
      "pm25Value 22\n",
      "khaiValue 61\n",
      "khaiGrade 2\n",
      "so2Grade 1\n",
      "coGrade 1\n",
      "o3Grade 1\n",
      "no2Grade 2\n",
      "pm10Grade 2\n",
      "pm25Grade 2\n",
      "item \n",
      "\t\t\t\t\t\n",
      "dataTime 2019-07-15 17:00\n",
      "so2Value 0.003\n",
      "coValue 0.6\n",
      "o3Value 0.034\n",
      "no2Value 0.028\n",
      "pm10Value 27\n",
      "pm25Value 18\n",
      "khaiValue -\n",
      "khaiGrade None\n",
      "so2Grade 1\n",
      "coGrade 1\n",
      "o3Grade 2\n",
      "no2Grade 1\n",
      "pm10Grade 2\n",
      "pm25Grade None\n",
      "item \n",
      "\t\t\t\t\t\n",
      "dataTime 2019-07-15 16:00\n",
      "so2Value 0.003\n",
      "coValue 0.8\n",
      "o3Value 0.037\n",
      "no2Value 0.023\n",
      "pm10Value 32\n",
      "pm25Value 11\n",
      "khaiValue -\n",
      "khaiGrade None\n",
      "so2Grade 1\n",
      "coGrade 1\n",
      "o3Grade 2\n",
      "no2Grade 1\n",
      "pm10Grade None\n",
      "pm25Grade None\n",
      "item \n",
      "\t\t\t\t\t\n",
      "dataTime 2019-07-15 15:00\n",
      "so2Value 0.003\n",
      "coValue 0.6\n",
      "o3Value 0.037\n",
      "no2Value 0.022\n",
      "pm10Value 45\n",
      "pm25Value -\n",
      "khaiValue -\n",
      "khaiGrade None\n",
      "so2Grade 1\n",
      "coGrade 1\n",
      "o3Grade 2\n",
      "no2Grade 1\n",
      "pm10Grade None\n",
      "pm25Grade None\n",
      "numOfRows 10\n",
      "pageNo 1\n",
      "totalCount 23\n"
     ]
    }
   ],
   "source": [
    "for node in xmlRoot.iter():\n",
    "    print(node.tag,node.text)"
   ]
  },
  {
   "cell_type": "code",
   "execution_count": 383,
   "metadata": {},
   "outputs": [],
   "source": [
    "itemList = xmlRoot.findall(\".//item\")"
   ]
  },
  {
   "cell_type": "code",
   "execution_count": 384,
   "metadata": {},
   "outputs": [
    {
     "name": "stdout",
     "output_type": "stream",
     "text": [
      "10\n"
     ]
    }
   ],
   "source": [
    "print(len(itemList))"
   ]
  },
  {
   "cell_type": "code",
   "execution_count": 385,
   "metadata": {},
   "outputs": [
    {
     "name": "stdout",
     "output_type": "stream",
     "text": [
      "dataTime 2019-07-15 24:00\n",
      "so2Value 0.003\n",
      "coValue 0.6\n",
      "o3Value 0.016\n",
      "no2Value 0.030\n",
      "pm10Value 27\n",
      "pm25Value 19\n",
      "khaiValue 61\n",
      "khaiGrade 2\n",
      "so2Grade 1\n",
      "coGrade 1\n",
      "o3Grade 1\n",
      "no2Grade 1\n",
      "pm10Grade 1\n",
      "pm25Grade 2\n",
      "dataTime 2019-07-15 23:00\n",
      "so2Value 0.003\n",
      "coValue 0.6\n",
      "o3Value 0.013\n",
      "no2Value 0.036\n",
      "pm10Value 35\n",
      "pm25Value 24\n",
      "khaiValue 64\n",
      "khaiGrade 2\n",
      "so2Grade 1\n",
      "coGrade 1\n",
      "o3Grade 1\n",
      "no2Grade 2\n",
      "pm10Grade 2\n",
      "pm25Grade 2\n",
      "dataTime 2019-07-15 22:00\n",
      "so2Value 0.003\n",
      "coValue 0.6\n",
      "o3Value 0.013\n",
      "no2Value 0.041\n",
      "pm10Value 31\n",
      "pm25Value 23\n",
      "khaiValue 68\n",
      "khaiGrade 2\n",
      "so2Grade 1\n",
      "coGrade 1\n",
      "o3Grade 1\n",
      "no2Grade 2\n",
      "pm10Grade 1\n",
      "pm25Grade 2\n",
      "dataTime 2019-07-15 21:00\n",
      "so2Value 0.003\n",
      "coValue 0.7\n",
      "o3Value 0.015\n",
      "no2Value 0.045\n",
      "pm10Value 28\n",
      "pm25Value 18\n",
      "khaiValue 75\n",
      "khaiGrade 2\n",
      "so2Grade 1\n",
      "coGrade 1\n",
      "o3Grade 1\n",
      "no2Grade 2\n",
      "pm10Grade 1\n",
      "pm25Grade 2\n",
      "dataTime 2019-07-15 20:00\n",
      "so2Value 0.003\n",
      "coValue 0.7\n",
      "o3Value 0.024\n",
      "no2Value 0.038\n",
      "pm10Value 24\n",
      "pm25Value 19\n",
      "khaiValue 63\n",
      "khaiGrade 2\n",
      "so2Grade 1\n",
      "coGrade 1\n",
      "o3Grade 1\n",
      "no2Grade 2\n",
      "pm10Grade 1\n",
      "pm25Grade 2\n",
      "dataTime 2019-07-15 19:00\n",
      "so2Value 0.003\n",
      "coValue 0.7\n",
      "o3Value 0.024\n",
      "no2Value 0.040\n",
      "pm10Value 21\n",
      "pm25Value 17\n",
      "khaiValue 66\n",
      "khaiGrade 2\n",
      "so2Grade 1\n",
      "coGrade 1\n",
      "o3Grade 1\n",
      "no2Grade 2\n",
      "pm10Grade 1\n",
      "pm25Grade 2\n",
      "dataTime 2019-07-15 18:00\n",
      "so2Value 0.003\n",
      "coValue 0.8\n",
      "o3Value 0.029\n",
      "no2Value 0.033\n",
      "pm10Value 26\n",
      "pm25Value 22\n",
      "khaiValue 61\n",
      "khaiGrade 2\n",
      "so2Grade 1\n",
      "coGrade 1\n",
      "o3Grade 1\n",
      "no2Grade 2\n",
      "pm10Grade 2\n",
      "pm25Grade 2\n",
      "dataTime 2019-07-15 17:00\n",
      "so2Value 0.003\n",
      "coValue 0.6\n",
      "o3Value 0.034\n",
      "no2Value 0.028\n",
      "pm10Value 27\n",
      "pm25Value 18\n",
      "khaiValue -\n",
      "khaiGrade None\n",
      "so2Grade 1\n",
      "coGrade 1\n",
      "o3Grade 2\n",
      "no2Grade 1\n",
      "pm10Grade 2\n",
      "pm25Grade None\n",
      "dataTime 2019-07-15 16:00\n",
      "so2Value 0.003\n",
      "coValue 0.8\n",
      "o3Value 0.037\n",
      "no2Value 0.023\n",
      "pm10Value 32\n",
      "pm25Value 11\n",
      "khaiValue -\n",
      "khaiGrade None\n",
      "so2Grade 1\n",
      "coGrade 1\n",
      "o3Grade 2\n",
      "no2Grade 1\n",
      "pm10Grade None\n",
      "pm25Grade None\n",
      "dataTime 2019-07-15 15:00\n",
      "so2Value 0.003\n",
      "coValue 0.6\n",
      "o3Value 0.037\n",
      "no2Value 0.022\n",
      "pm10Value 45\n",
      "pm25Value -\n",
      "khaiValue -\n",
      "khaiGrade None\n",
      "so2Grade 1\n",
      "coGrade 1\n",
      "o3Grade 2\n",
      "no2Grade 1\n",
      "pm10Grade None\n",
      "pm25Grade None\n"
     ]
    }
   ],
   "source": [
    "for item in itemList:\n",
    "    for i in range(len(item)):\n",
    "        print(item[i].tag,item[i].text)"
   ]
  },
  {
   "cell_type": "code",
   "execution_count": 387,
   "metadata": {},
   "outputs": [
    {
     "name": "stdout",
     "output_type": "stream",
     "text": [
      "dataTime 2019-07-15 24:00 pm25Value 19\n",
      "dataTime 2019-07-15 23:00 pm25Value 24\n",
      "dataTime 2019-07-15 22:00 pm25Value 23\n",
      "dataTime 2019-07-15 21:00 pm25Value 18\n",
      "dataTime 2019-07-15 20:00 pm25Value 19\n",
      "dataTime 2019-07-15 19:00 pm25Value 17\n",
      "dataTime 2019-07-15 18:00 pm25Value 22\n",
      "dataTime 2019-07-15 17:00 pm25Value 18\n",
      "dataTime 2019-07-15 16:00 pm25Value 11\n",
      "dataTime 2019-07-15 15:00 pm25Value -\n"
     ]
    }
   ],
   "source": [
    "for item in itemList:\n",
    "    dataList = item.find(\"./dataTime\")\n",
    "    pm25List = item.find(\"./pm25Value\")\n",
    "    print(dataList.tag, dataList.text, pm25List.tag, pm25List.text)"
   ]
  }
 ],
 "metadata": {
  "kernelspec": {
   "display_name": "Python 3",
   "language": "python",
   "name": "python3"
  },
  "language_info": {
   "codemirror_mode": {
    "name": "ipython",
    "version": 3
   },
   "file_extension": ".py",
   "mimetype": "text/x-python",
   "name": "python",
   "nbconvert_exporter": "python",
   "pygments_lexer": "ipython3",
   "version": "3.7.3"
  }
 },
 "nbformat": 4,
 "nbformat_minor": 2
}
