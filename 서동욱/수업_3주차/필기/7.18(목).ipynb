{
 "cells": [
  {
   "cell_type": "code",
   "execution_count": 1,
   "metadata": {},
   "outputs": [],
   "source": [
    "from selenium import webdriver"
   ]
  },
  {
   "cell_type": "code",
   "execution_count": 2,
   "metadata": {},
   "outputs": [],
   "source": [
    "driver = webdriver.Chrome()"
   ]
  },
  {
   "cell_type": "markdown",
   "metadata": {},
   "source": [
    "# 인터파크"
   ]
  },
  {
   "cell_type": "code",
   "execution_count": 3,
   "metadata": {},
   "outputs": [],
   "source": [
    "driver.get(\"http://ticket.interpark.com/\")"
   ]
  },
  {
   "cell_type": "code",
   "execution_count": 8,
   "metadata": {},
   "outputs": [
    {
     "data": {
      "text/plain": [
       "['_gid',\n",
       " '_ga',\n",
       " '_trs_sid',\n",
       " '_fbp',\n",
       " 'OAX',\n",
       " '_trs_flow',\n",
       " '_trs_id',\n",
       " 'pcid',\n",
       " 'ASPSESSIONIDSCBSASRQ',\n",
       " 'cto_lwid',\n",
       " 'ASPSESSIONIDACBRARSS']"
      ]
     },
     "execution_count": 8,
     "metadata": {},
     "output_type": "execute_result"
    }
   ],
   "source": [
    "[_[\"name\"] for _ in driver.get_cookies()]"
   ]
  },
  {
   "cell_type": "code",
   "execution_count": 4,
   "metadata": {},
   "outputs": [],
   "source": [
    "import json"
   ]
  },
  {
   "cell_type": "code",
   "execution_count": 5,
   "metadata": {},
   "outputs": [],
   "source": [
    "with open('interP.json') as fp:\n",
    "    account = json.load(fp)"
   ]
  },
  {
   "cell_type": "code",
   "execution_count": 6,
   "metadata": {},
   "outputs": [
    {
     "data": {
      "text/plain": [
       "'http94'"
      ]
     },
     "execution_count": 6,
     "metadata": {},
     "output_type": "execute_result"
    }
   ],
   "source": [
    "account['id']"
   ]
  },
  {
   "cell_type": "code",
   "execution_count": 111,
   "metadata": {},
   "outputs": [
    {
     "name": "stdout",
     "output_type": "stream",
     "text": [
      "hi\n",
      "hi\n"
     ]
    },
    {
     "data": {
      "text/plain": [
       "False"
      ]
     },
     "execution_count": 111,
     "metadata": {},
     "output_type": "execute_result"
    }
   ],
   "source": [
    "login(account,\"logout\")"
   ]
  },
  {
   "cell_type": "code",
   "execution_count": 7,
   "metadata": {},
   "outputs": [],
   "source": [
    "def login(account,method = \"login\"):\n",
    "    try:\n",
    "        login2 = driver.find_element_by_css_selector(\"#logstatus > a\")\n",
    "        if method == \"login\":\n",
    "            if login2 and login2.get_attribute(\"id\") == \"aLogin\":\n",
    "                driver.get(login2.get_attribute(\"href\"))\n",
    "                driver.find_element_by_css_selector(\"#UID\").send_keys(account[\"id\"])\n",
    "                driver.find_element_by_css_selector(\"#PWD\").send_keys(account[\"pw\"])\n",
    "                driver.find_element_by_css_selector(\"div.loginBtn > button\").click()\n",
    "        else:\n",
    "            login2.click()\n",
    "    except:\n",
    "        return False\n",
    "    return True"
   ]
  },
  {
   "cell_type": "code",
   "execution_count": 87,
   "metadata": {
    "collapsed": true
   },
   "outputs": [
    {
     "ename": "NoSuchElementException",
     "evalue": "Message: no such element: Unable to locate element: {\"method\":\"css selector\",\"selector\":\"#logstatus #imgLogin\"}\n  (Session info: chrome=75.0.3770.142)\n",
     "output_type": "error",
     "traceback": [
      "\u001b[1;31m---------------------------------------------------------------------------\u001b[0m",
      "\u001b[1;31mNoSuchElementException\u001b[0m                    Traceback (most recent call last)",
      "\u001b[1;32m<ipython-input-87-a3cf64cb2aaf>\u001b[0m in \u001b[0;36m<module>\u001b[1;34m\u001b[0m\n\u001b[1;32m----> 1\u001b[1;33m \u001b[0mlogin\u001b[0m \u001b[1;33m=\u001b[0m \u001b[0mdriver\u001b[0m\u001b[1;33m.\u001b[0m\u001b[0mfind_element_by_css_selector\u001b[0m\u001b[1;33m(\u001b[0m\u001b[1;34m\"#logstatus #imgLogin\"\u001b[0m\u001b[1;33m)\u001b[0m\u001b[1;33m\u001b[0m\u001b[1;33m\u001b[0m\u001b[0m\n\u001b[0m\u001b[0;32m      2\u001b[0m \u001b[0mlogin\u001b[0m\u001b[1;33m.\u001b[0m\u001b[0mget_attribute\u001b[0m\u001b[1;33m[\u001b[0m\u001b[1;34m\"href\"\u001b[0m\u001b[1;33m]\u001b[0m\u001b[1;33m\u001b[0m\u001b[1;33m\u001b[0m\u001b[0m\n",
      "\u001b[1;32m~\\Anaconda3\\lib\\site-packages\\selenium\\webdriver\\remote\\webdriver.py\u001b[0m in \u001b[0;36mfind_element_by_css_selector\u001b[1;34m(self, css_selector)\u001b[0m\n\u001b[0;32m    596\u001b[0m             \u001b[0melement\u001b[0m \u001b[1;33m=\u001b[0m \u001b[0mdriver\u001b[0m\u001b[1;33m.\u001b[0m\u001b[0mfind_element_by_css_selector\u001b[0m\u001b[1;33m(\u001b[0m\u001b[1;34m'#foo'\u001b[0m\u001b[1;33m)\u001b[0m\u001b[1;33m\u001b[0m\u001b[1;33m\u001b[0m\u001b[0m\n\u001b[0;32m    597\u001b[0m         \"\"\"\n\u001b[1;32m--> 598\u001b[1;33m         \u001b[1;32mreturn\u001b[0m \u001b[0mself\u001b[0m\u001b[1;33m.\u001b[0m\u001b[0mfind_element\u001b[0m\u001b[1;33m(\u001b[0m\u001b[0mby\u001b[0m\u001b[1;33m=\u001b[0m\u001b[0mBy\u001b[0m\u001b[1;33m.\u001b[0m\u001b[0mCSS_SELECTOR\u001b[0m\u001b[1;33m,\u001b[0m \u001b[0mvalue\u001b[0m\u001b[1;33m=\u001b[0m\u001b[0mcss_selector\u001b[0m\u001b[1;33m)\u001b[0m\u001b[1;33m\u001b[0m\u001b[1;33m\u001b[0m\u001b[0m\n\u001b[0m\u001b[0;32m    599\u001b[0m \u001b[1;33m\u001b[0m\u001b[0m\n\u001b[0;32m    600\u001b[0m     \u001b[1;32mdef\u001b[0m \u001b[0mfind_elements_by_css_selector\u001b[0m\u001b[1;33m(\u001b[0m\u001b[0mself\u001b[0m\u001b[1;33m,\u001b[0m \u001b[0mcss_selector\u001b[0m\u001b[1;33m)\u001b[0m\u001b[1;33m:\u001b[0m\u001b[1;33m\u001b[0m\u001b[1;33m\u001b[0m\u001b[0m\n",
      "\u001b[1;32m~\\Anaconda3\\lib\\site-packages\\selenium\\webdriver\\remote\\webdriver.py\u001b[0m in \u001b[0;36mfind_element\u001b[1;34m(self, by, value)\u001b[0m\n\u001b[0;32m    976\u001b[0m         return self.execute(Command.FIND_ELEMENT, {\n\u001b[0;32m    977\u001b[0m             \u001b[1;34m'using'\u001b[0m\u001b[1;33m:\u001b[0m \u001b[0mby\u001b[0m\u001b[1;33m,\u001b[0m\u001b[1;33m\u001b[0m\u001b[1;33m\u001b[0m\u001b[0m\n\u001b[1;32m--> 978\u001b[1;33m             'value': value})['value']\n\u001b[0m\u001b[0;32m    979\u001b[0m \u001b[1;33m\u001b[0m\u001b[0m\n\u001b[0;32m    980\u001b[0m     \u001b[1;32mdef\u001b[0m \u001b[0mfind_elements\u001b[0m\u001b[1;33m(\u001b[0m\u001b[0mself\u001b[0m\u001b[1;33m,\u001b[0m \u001b[0mby\u001b[0m\u001b[1;33m=\u001b[0m\u001b[0mBy\u001b[0m\u001b[1;33m.\u001b[0m\u001b[0mID\u001b[0m\u001b[1;33m,\u001b[0m \u001b[0mvalue\u001b[0m\u001b[1;33m=\u001b[0m\u001b[1;32mNone\u001b[0m\u001b[1;33m)\u001b[0m\u001b[1;33m:\u001b[0m\u001b[1;33m\u001b[0m\u001b[1;33m\u001b[0m\u001b[0m\n",
      "\u001b[1;32m~\\Anaconda3\\lib\\site-packages\\selenium\\webdriver\\remote\\webdriver.py\u001b[0m in \u001b[0;36mexecute\u001b[1;34m(self, driver_command, params)\u001b[0m\n\u001b[0;32m    319\u001b[0m         \u001b[0mresponse\u001b[0m \u001b[1;33m=\u001b[0m \u001b[0mself\u001b[0m\u001b[1;33m.\u001b[0m\u001b[0mcommand_executor\u001b[0m\u001b[1;33m.\u001b[0m\u001b[0mexecute\u001b[0m\u001b[1;33m(\u001b[0m\u001b[0mdriver_command\u001b[0m\u001b[1;33m,\u001b[0m \u001b[0mparams\u001b[0m\u001b[1;33m)\u001b[0m\u001b[1;33m\u001b[0m\u001b[1;33m\u001b[0m\u001b[0m\n\u001b[0;32m    320\u001b[0m         \u001b[1;32mif\u001b[0m \u001b[0mresponse\u001b[0m\u001b[1;33m:\u001b[0m\u001b[1;33m\u001b[0m\u001b[1;33m\u001b[0m\u001b[0m\n\u001b[1;32m--> 321\u001b[1;33m             \u001b[0mself\u001b[0m\u001b[1;33m.\u001b[0m\u001b[0merror_handler\u001b[0m\u001b[1;33m.\u001b[0m\u001b[0mcheck_response\u001b[0m\u001b[1;33m(\u001b[0m\u001b[0mresponse\u001b[0m\u001b[1;33m)\u001b[0m\u001b[1;33m\u001b[0m\u001b[1;33m\u001b[0m\u001b[0m\n\u001b[0m\u001b[0;32m    322\u001b[0m             response['value'] = self._unwrap_value(\n\u001b[0;32m    323\u001b[0m                 response.get('value', None))\n",
      "\u001b[1;32m~\\Anaconda3\\lib\\site-packages\\selenium\\webdriver\\remote\\errorhandler.py\u001b[0m in \u001b[0;36mcheck_response\u001b[1;34m(self, response)\u001b[0m\n\u001b[0;32m    240\u001b[0m                 \u001b[0malert_text\u001b[0m \u001b[1;33m=\u001b[0m \u001b[0mvalue\u001b[0m\u001b[1;33m[\u001b[0m\u001b[1;34m'alert'\u001b[0m\u001b[1;33m]\u001b[0m\u001b[1;33m.\u001b[0m\u001b[0mget\u001b[0m\u001b[1;33m(\u001b[0m\u001b[1;34m'text'\u001b[0m\u001b[1;33m)\u001b[0m\u001b[1;33m\u001b[0m\u001b[1;33m\u001b[0m\u001b[0m\n\u001b[0;32m    241\u001b[0m             \u001b[1;32mraise\u001b[0m \u001b[0mexception_class\u001b[0m\u001b[1;33m(\u001b[0m\u001b[0mmessage\u001b[0m\u001b[1;33m,\u001b[0m \u001b[0mscreen\u001b[0m\u001b[1;33m,\u001b[0m \u001b[0mstacktrace\u001b[0m\u001b[1;33m,\u001b[0m \u001b[0malert_text\u001b[0m\u001b[1;33m)\u001b[0m\u001b[1;33m\u001b[0m\u001b[1;33m\u001b[0m\u001b[0m\n\u001b[1;32m--> 242\u001b[1;33m         \u001b[1;32mraise\u001b[0m \u001b[0mexception_class\u001b[0m\u001b[1;33m(\u001b[0m\u001b[0mmessage\u001b[0m\u001b[1;33m,\u001b[0m \u001b[0mscreen\u001b[0m\u001b[1;33m,\u001b[0m \u001b[0mstacktrace\u001b[0m\u001b[1;33m)\u001b[0m\u001b[1;33m\u001b[0m\u001b[1;33m\u001b[0m\u001b[0m\n\u001b[0m\u001b[0;32m    243\u001b[0m \u001b[1;33m\u001b[0m\u001b[0m\n\u001b[0;32m    244\u001b[0m     \u001b[1;32mdef\u001b[0m \u001b[0m_value_or_default\u001b[0m\u001b[1;33m(\u001b[0m\u001b[0mself\u001b[0m\u001b[1;33m,\u001b[0m \u001b[0mobj\u001b[0m\u001b[1;33m,\u001b[0m \u001b[0mkey\u001b[0m\u001b[1;33m,\u001b[0m \u001b[0mdefault\u001b[0m\u001b[1;33m)\u001b[0m\u001b[1;33m:\u001b[0m\u001b[1;33m\u001b[0m\u001b[1;33m\u001b[0m\u001b[0m\n",
      "\u001b[1;31mNoSuchElementException\u001b[0m: Message: no such element: Unable to locate element: {\"method\":\"css selector\",\"selector\":\"#logstatus #imgLogin\"}\n  (Session info: chrome=75.0.3770.142)\n"
     ]
    }
   ],
   "source": [
    "login = driver.find_element_by_css_selector(\"#logstatus #imgLogin\")\n"
   ]
  },
  {
   "cell_type": "code",
   "execution_count": 84,
   "metadata": {},
   "outputs": [],
   "source": [
    "_logout = [_[\"name\"] for _ in driver.get_cookies()]"
   ]
  },
  {
   "cell_type": "code",
   "execution_count": 86,
   "metadata": {
    "collapsed": true
   },
   "outputs": [
    {
     "data": {
      "text/plain": [
       "['criteo_write_test',\n",
       " 'ASPSESSIONIDQAARARTQ',\n",
       " 'MemHash',\n",
       " 'alMemNm',\n",
       " 'TMem%5FNO',\n",
       " 'TSecLogin',\n",
       " 'TSession%5FID',\n",
       " 'TPartner',\n",
       " 'ASPSESSIONIDQCDSDRRQ',\n",
       " 'IMem%5FNO',\n",
       " 'interparkID',\n",
       " 'ASPSESSIONIDSCBSASRQ',\n",
       " 'ISession%5FID',\n",
       " '__utmz',\n",
       " 'iaf',\n",
       " 'TKLogin',\n",
       " '_gat_UA-93889457-1',\n",
       " 'GNBBookCnt',\n",
       " 'IEGS%5FGUIF',\n",
       " 'SnsState',\n",
       " 'authRtnUrl',\n",
       " 'pwdChgYn',\n",
       " 'crn',\n",
       " 'interparkstamp',\n",
       " 'sellerTp',\n",
       " 'GoodsCntInWishAndCart',\n",
       " '__utmb',\n",
       " 'ASPSESSIONIDSCCTDSRQ',\n",
       " 'ASPSESSIONIDACBRARSS',\n",
       " '__utma',\n",
       " 'reqSite',\n",
       " 'pcid',\n",
       " 'loginRetUrl',\n",
       " 'loginTp',\n",
       " 'tp',\n",
       " 'cpth',\n",
       " '_gid',\n",
       " 'captcha_text',\n",
       " '__utmc',\n",
       " 'HMem%5FNO',\n",
       " '_trs_flow',\n",
       " 'SAVEID',\n",
       " '_ga',\n",
       " 'PrivacyCertify',\n",
       " '_trs_sid',\n",
       " '_fbp',\n",
       " 'idt_iss',\n",
       " 'tempinterparkGUEST',\n",
       " 'OAX',\n",
       " 'memRealName',\n",
       " 'interparkSNO',\n",
       " 'egsTp',\n",
       " 'cto_lwid',\n",
       " 'siteAgree',\n",
       " '_trs_id']"
      ]
     },
     "execution_count": 86,
     "metadata": {},
     "output_type": "execute_result"
    }
   ],
   "source": [
    "_login"
   ]
  },
  {
   "cell_type": "code",
   "execution_count": 67,
   "metadata": {},
   "outputs": [],
   "source": [
    "_login = [_[\"name\"] for _ in driver.get_cookies()]"
   ]
  },
  {
   "cell_type": "code",
   "execution_count": 68,
   "metadata": {},
   "outputs": [
    {
     "data": {
      "text/plain": [
       "{'ASPSESSIONIDQAARARTQ',\n",
       " 'HMem%5FNO',\n",
       " 'IMem%5FNO',\n",
       " 'ISession%5FID',\n",
       " 'MemHash',\n",
       " 'PrivacyCertify',\n",
       " 'TKLogin',\n",
       " 'TMem%5FNO',\n",
       " 'TPartner',\n",
       " 'TSecLogin',\n",
       " 'alMemNm',\n",
       " 'criteo_write_test',\n",
       " 'iaf',\n",
       " 'interparkID',\n",
       " 'interparkSNO',\n",
       " 'interparkstamp',\n",
       " 'memRealName',\n",
       " 'siteAgree',\n",
       " 'tempinterparkGUEST'}"
      ]
     },
     "execution_count": 68,
     "metadata": {},
     "output_type": "execute_result"
    }
   ],
   "source": [
    "set(_login) - set(_logout)"
   ]
  },
  {
   "cell_type": "code",
   "execution_count": 693,
   "metadata": {},
   "outputs": [
    {
     "name": "stderr",
     "output_type": "stream",
     "text": [
      "C:\\Users\\SeoDongUk\\Anaconda3\\lib\\site-packages\\ipykernel_launcher.py:1: DeprecationWarning: use driver.switch_to.window instead\n",
      "  \"\"\"Entry point for launching an IPython kernel.\n"
     ]
    }
   ],
   "source": [
    "driver.switch_to_window(driver.window_handles[0])\n",
    "# 로그인 / 로그아웃\n",
    "if \"ISession%5FID\" not in [_[\"name\"] for _ in driver.get_cookies()]:\n",
    "    login(account)\n",
    "else:\n",
    "    login(None,\"logout\")"
   ]
  },
  {
   "cell_type": "code",
   "execution_count": 8,
   "metadata": {},
   "outputs": [],
   "source": [
    "def gnbbtns(category=\"콘서트\"):\n",
    "    links = [_ for _ in driver.find_elements_by_css_selector\n",
    "            (\"ul.gnbBtns a[class^=btn]\")]\n",
    "    titles = [_.find_element_by_css_selector(\"img\")\\\n",
    "             .get_attribute(\"alt\") for _ in links]\n",
    "    \n",
    "    if category in titles:\n",
    "        return links[titles.index(category)].get_attribute(\"href\")\n",
    "    return False"
   ]
  },
  {
   "cell_type": "code",
   "execution_count": 694,
   "metadata": {},
   "outputs": [],
   "source": [
    "# 분야 들어가기\n",
    "url = gnbbtns(\"콘서트\")\n",
    "if url:\n",
    "    driver.get(url)"
   ]
  },
  {
   "cell_type": "code",
   "execution_count": 9,
   "metadata": {},
   "outputs": [],
   "source": [
    "def hotissue(issue = \"\"):\n",
    "    issues = [_ for _ in driver.find_elements_by_css_selector(\n",
    "                  \".wrap_issue dl.list > dt.issue_obj > a\")]\n",
    "    \n",
    "    title = [_.find_element_by_css_selector(\n",
    "    \"span.txt1\").text for _ in issues]\n",
    "    \n",
    "    place = [_.find_element_by_css_selector(\n",
    "    \"span.txt2\").text for _ in issues]\n",
    "    \n",
    "    if issue in title:\n",
    "        return (issues[title.index(issue)].get_attribute(\"href\"))\n",
    "        \n",
    "    else:\n",
    "        return issues[0].get_attribute(\"href\")"
   ]
  },
  {
   "cell_type": "code",
   "execution_count": 695,
   "metadata": {},
   "outputs": [],
   "source": [
    "# 콘서트 이름으로 들어가기\n",
    "driver.get(hotissue(\"박정현\"))"
   ]
  },
  {
   "cell_type": "code",
   "execution_count": 375,
   "metadata": {},
   "outputs": [
    {
     "name": "stderr",
     "output_type": "stream",
     "text": [
      "C:\\Users\\SeoDongUk\\Anaconda3\\lib\\site-packages\\ipykernel_launcher.py:5: DeprecationWarning: use driver.switch_to.window instead\n",
      "  \"\"\"\n",
      "C:\\Users\\SeoDongUk\\Anaconda3\\lib\\site-packages\\ipykernel_launcher.py:11: DeprecationWarning: use driver.switch_to.frame instead\n",
      "  # This is added back by InteractiveShellApp.init_path()\n",
      "C:\\Users\\SeoDongUk\\Anaconda3\\lib\\site-packages\\ipykernel_launcher.py:18: DeprecationWarning: use driver.switch_to.default_content instead\n"
     ]
    }
   ],
   "source": [
    "bookWindow(3)"
   ]
  },
  {
   "cell_type": "code",
   "execution_count": 696,
   "metadata": {
    "scrolled": false
   },
   "outputs": [
    {
     "name": "stderr",
     "output_type": "stream",
     "text": [
      "C:\\Users\\SeoDongUk\\Anaconda3\\lib\\site-packages\\ipykernel_launcher.py:4: DeprecationWarning: use driver.switch_to.frame instead\n",
      "  after removing the cwd from sys.path.\n",
      "C:\\Users\\SeoDongUk\\Anaconda3\\lib\\site-packages\\ipykernel_launcher.py:9: DeprecationWarning: use driver.switch_to.default_content instead\n",
      "  if __name__ == '__main__':\n",
      "C:\\Users\\SeoDongUk\\Anaconda3\\lib\\site-packages\\ipykernel_launcher.py:5: DeprecationWarning: use driver.switch_to.window instead\n",
      "  \"\"\"\n"
     ]
    }
   ],
   "source": [
    "clickAndBook(9)"
   ]
  },
  {
   "cell_type": "code",
   "execution_count": 377,
   "metadata": {},
   "outputs": [],
   "source": [
    "driver.find_element_by_css_selector(\"div.buy_info p.btn\").click()"
   ]
  },
  {
   "cell_type": "code",
   "execution_count": 423,
   "metadata": {},
   "outputs": [
    {
     "name": "stderr",
     "output_type": "stream",
     "text": [
      "C:\\Users\\SeoDongUk\\Anaconda3\\lib\\site-packages\\ipykernel_launcher.py:1: DeprecationWarning: use driver.switch_to.default_content instead\n",
      "  \"\"\"Entry point for launching an IPython kernel.\n"
     ]
    }
   ],
   "source": [
    "driver.switch_to_default_content()"
   ]
  },
  {
   "cell_type": "code",
   "execution_count": 409,
   "metadata": {},
   "outputs": [
    {
     "data": {
      "text/plain": [
       "'10'"
      ]
     },
     "execution_count": 409,
     "metadata": {},
     "output_type": "execute_result"
    }
   ],
   "source": [
    "\"A구역 10열\".split(\"구역\")[1].split(\"열\")[0].strip()"
   ]
  },
  {
   "cell_type": "code",
   "execution_count": 10,
   "metadata": {},
   "outputs": [],
   "source": [
    "import random"
   ]
  },
  {
   "cell_type": "code",
   "execution_count": 11,
   "metadata": {},
   "outputs": [],
   "source": [
    "import re"
   ]
  },
  {
   "cell_type": "code",
   "execution_count": 133,
   "metadata": {},
   "outputs": [
    {
     "name": "stderr",
     "output_type": "stream",
     "text": [
      "C:\\Users\\SeoDongUk\\Anaconda3\\lib\\site-packages\\ipykernel_launcher.py:2: DeprecationWarning: use driver.switch_to.frame instead\n",
      "  \n",
      "C:\\Users\\SeoDongUk\\Anaconda3\\lib\\site-packages\\ipykernel_launcher.py:5: DeprecationWarning: use driver.switch_to.frame instead\n",
      "  \"\"\"\n",
      "C:\\Users\\SeoDongUk\\Anaconda3\\lib\\site-packages\\ipykernel_launcher.py:10: DeprecationWarning: use driver.switch_to.default_content instead\n",
      "  # Remove the CWD from sys.path while we load stuff.\n"
     ]
    }
   ],
   "source": [
    "iframe = driver.find_element_by_name(\"ifrmSeat\")\n",
    "driver.switch_to_frame(iframe)\n",
    "driver.find_element_by_css_selector(\"div.seatL\")\n",
    "iframe2 = driver.find_element_by_name(\"ifrmSeatDetail\")\n",
    "driver.switch_to_frame(iframe2)\n",
    "s = driver.find_elements_by_css_selector(\"img.stySeat\")[10].get_attribute('onclick')\n",
    "p = re.search(\n",
    "        r\"\\s'([A-Z]).+?[ ](.+?).',[ ]'(.+?)',\", s)\n",
    "#print(driver.find_elements_by_css_selector(\"img.stySeat\")[10].get_attribute('title'))\n",
    "driver.switch_to_default_content()"
   ]
  },
  {
   "cell_type": "code",
   "execution_count": 134,
   "metadata": {},
   "outputs": [
    {
     "data": {
      "text/plain": [
       "\"javascript: SelectSeat('SID10', '1', '객석1층', 'A구역 11열', '1', '001')\""
      ]
     },
     "execution_count": 134,
     "metadata": {},
     "output_type": "execute_result"
    }
   ],
   "source": [
    "s"
   ]
  },
  {
   "cell_type": "code",
   "execution_count": 135,
   "metadata": {
    "scrolled": true
   },
   "outputs": [
    {
     "data": {
      "text/plain": [
       "('A', '11', '1')"
      ]
     },
     "execution_count": 135,
     "metadata": {},
     "output_type": "execute_result"
    }
   ],
   "source": [
    "p.groups()"
   ]
  },
  {
   "cell_type": "code",
   "execution_count": 43,
   "metadata": {
    "collapsed": true
   },
   "outputs": [
    {
     "name": "stderr",
     "output_type": "stream",
     "text": [
      "C:\\Users\\SeoDongUk\\Anaconda3\\lib\\site-packages\\ipykernel_launcher.py:2: DeprecationWarning: use driver.switch_to.frame instead\n",
      "  \n",
      "C:\\Users\\SeoDongUk\\Anaconda3\\lib\\site-packages\\ipykernel_launcher.py:5: DeprecationWarning: use driver.switch_to.frame instead\n",
      "  \"\"\"\n"
     ]
    },
    {
     "data": {
      "text/plain": [
       "[<selenium.webdriver.remote.webelement.WebElement (session=\"fea66b8d719d6ce52e0129e891e3a7ca\", element=\"3c4861c6-ac07-4df8-bab0-058e9c65451d\")>,\n",
       " <selenium.webdriver.remote.webelement.WebElement (session=\"fea66b8d719d6ce52e0129e891e3a7ca\", element=\"26c5e1b1-7849-4729-b9c8-a886d0506301\")>,\n",
       " <selenium.webdriver.remote.webelement.WebElement (session=\"fea66b8d719d6ce52e0129e891e3a7ca\", element=\"a4f0ea12-4416-4339-ab08-6910ea0c5197\")>,\n",
       " <selenium.webdriver.remote.webelement.WebElement (session=\"fea66b8d719d6ce52e0129e891e3a7ca\", element=\"e6761fb4-d560-47f2-9124-c969760374ff\")>,\n",
       " <selenium.webdriver.remote.webelement.WebElement (session=\"fea66b8d719d6ce52e0129e891e3a7ca\", element=\"e8a26f76-4d3a-4b99-9250-2461fe0d0178\")>,\n",
       " <selenium.webdriver.remote.webelement.WebElement (session=\"fea66b8d719d6ce52e0129e891e3a7ca\", element=\"2440facb-9f3b-4335-b374-03946ca9fb71\")>,\n",
       " <selenium.webdriver.remote.webelement.WebElement (session=\"fea66b8d719d6ce52e0129e891e3a7ca\", element=\"475d8126-18e7-4040-beec-fd2504c8e3d0\")>,\n",
       " <selenium.webdriver.remote.webelement.WebElement (session=\"fea66b8d719d6ce52e0129e891e3a7ca\", element=\"352568d3-172f-419a-87d8-f41cde1ae2d0\")>,\n",
       " <selenium.webdriver.remote.webelement.WebElement (session=\"fea66b8d719d6ce52e0129e891e3a7ca\", element=\"88ca3110-9a85-4f5c-a5fe-1ef3d98d8216\")>,\n",
       " <selenium.webdriver.remote.webelement.WebElement (session=\"fea66b8d719d6ce52e0129e891e3a7ca\", element=\"d75e7448-1543-4b76-a14e-69885ea0e45e\")>,\n",
       " <selenium.webdriver.remote.webelement.WebElement (session=\"fea66b8d719d6ce52e0129e891e3a7ca\", element=\"0090f6bf-3bed-409d-b7e5-ea6424784e35\")>,\n",
       " <selenium.webdriver.remote.webelement.WebElement (session=\"fea66b8d719d6ce52e0129e891e3a7ca\", element=\"31bb61f2-876c-47c0-abf3-24cfc20d6713\")>,\n",
       " <selenium.webdriver.remote.webelement.WebElement (session=\"fea66b8d719d6ce52e0129e891e3a7ca\", element=\"72231c4b-520a-4146-bb94-e8be2f6c4921\")>,\n",
       " <selenium.webdriver.remote.webelement.WebElement (session=\"fea66b8d719d6ce52e0129e891e3a7ca\", element=\"818aedea-57a9-496b-86ec-b2a3c89be2f3\")>,\n",
       " <selenium.webdriver.remote.webelement.WebElement (session=\"fea66b8d719d6ce52e0129e891e3a7ca\", element=\"da621919-513f-4804-a608-4366b6b72c14\")>,\n",
       " <selenium.webdriver.remote.webelement.WebElement (session=\"fea66b8d719d6ce52e0129e891e3a7ca\", element=\"6bf66143-923a-499b-a0a0-a00c9b7ad96b\")>,\n",
       " <selenium.webdriver.remote.webelement.WebElement (session=\"fea66b8d719d6ce52e0129e891e3a7ca\", element=\"865d7927-1350-4f94-9267-db384316fd55\")>,\n",
       " <selenium.webdriver.remote.webelement.WebElement (session=\"fea66b8d719d6ce52e0129e891e3a7ca\", element=\"83cce205-dd8a-41dd-b9dc-841c74b7f855\")>,\n",
       " <selenium.webdriver.remote.webelement.WebElement (session=\"fea66b8d719d6ce52e0129e891e3a7ca\", element=\"8a82e2d8-afef-4d43-8e4e-b21252af6081\")>,\n",
       " <selenium.webdriver.remote.webelement.WebElement (session=\"fea66b8d719d6ce52e0129e891e3a7ca\", element=\"0a8ec948-097b-4556-9cb8-18e8377a9098\")>,\n",
       " <selenium.webdriver.remote.webelement.WebElement (session=\"fea66b8d719d6ce52e0129e891e3a7ca\", element=\"d12e9bcb-9a61-4238-b462-316dd41f88db\")>,\n",
       " <selenium.webdriver.remote.webelement.WebElement (session=\"fea66b8d719d6ce52e0129e891e3a7ca\", element=\"b65c11fc-87e4-4588-94a8-8f44e4c52ef3\")>,\n",
       " <selenium.webdriver.remote.webelement.WebElement (session=\"fea66b8d719d6ce52e0129e891e3a7ca\", element=\"317b5f45-de1e-47f8-8df4-b0345bc6b947\")>,\n",
       " <selenium.webdriver.remote.webelement.WebElement (session=\"fea66b8d719d6ce52e0129e891e3a7ca\", element=\"24a3bee6-42c6-4f60-9e16-a8fb2d9fbc34\")>,\n",
       " <selenium.webdriver.remote.webelement.WebElement (session=\"fea66b8d719d6ce52e0129e891e3a7ca\", element=\"9c7fcda4-cae4-4679-b12e-5603769e4cdf\")>,\n",
       " <selenium.webdriver.remote.webelement.WebElement (session=\"fea66b8d719d6ce52e0129e891e3a7ca\", element=\"73dfc2c2-c760-4bae-b3f2-ae27b626ccd0\")>,\n",
       " <selenium.webdriver.remote.webelement.WebElement (session=\"fea66b8d719d6ce52e0129e891e3a7ca\", element=\"e6091778-20ca-4fc5-b27c-97addaf72d59\")>,\n",
       " <selenium.webdriver.remote.webelement.WebElement (session=\"fea66b8d719d6ce52e0129e891e3a7ca\", element=\"fb375c64-9de8-47a8-b2e1-6adfd706b71c\")>,\n",
       " <selenium.webdriver.remote.webelement.WebElement (session=\"fea66b8d719d6ce52e0129e891e3a7ca\", element=\"b5234a3c-030a-41c5-88c2-9e437bf918ea\")>,\n",
       " <selenium.webdriver.remote.webelement.WebElement (session=\"fea66b8d719d6ce52e0129e891e3a7ca\", element=\"16ab670b-7ead-47b7-9974-140efb3ad0d1\")>,\n",
       " <selenium.webdriver.remote.webelement.WebElement (session=\"fea66b8d719d6ce52e0129e891e3a7ca\", element=\"fe857f39-7e91-4209-94e3-d9ed5917d1f4\")>,\n",
       " <selenium.webdriver.remote.webelement.WebElement (session=\"fea66b8d719d6ce52e0129e891e3a7ca\", element=\"6665ea37-0d16-4302-97ee-a3d325d56db4\")>,\n",
       " <selenium.webdriver.remote.webelement.WebElement (session=\"fea66b8d719d6ce52e0129e891e3a7ca\", element=\"fab588da-1ed1-483c-8dc3-67b764d86eed\")>,\n",
       " <selenium.webdriver.remote.webelement.WebElement (session=\"fea66b8d719d6ce52e0129e891e3a7ca\", element=\"ae0f04aa-f69f-431c-8838-d3b9c08bda6a\")>,\n",
       " <selenium.webdriver.remote.webelement.WebElement (session=\"fea66b8d719d6ce52e0129e891e3a7ca\", element=\"b143c92e-2f44-4262-a93d-8efb7185432e\")>,\n",
       " <selenium.webdriver.remote.webelement.WebElement (session=\"fea66b8d719d6ce52e0129e891e3a7ca\", element=\"40d55ebe-e59c-4e3d-bd2c-a04d046ebcaf\")>,\n",
       " <selenium.webdriver.remote.webelement.WebElement (session=\"fea66b8d719d6ce52e0129e891e3a7ca\", element=\"344035f9-9550-4b92-a825-2eca229bd755\")>,\n",
       " <selenium.webdriver.remote.webelement.WebElement (session=\"fea66b8d719d6ce52e0129e891e3a7ca\", element=\"49763ad4-8a39-4a54-999a-7b824772a006\")>,\n",
       " <selenium.webdriver.remote.webelement.WebElement (session=\"fea66b8d719d6ce52e0129e891e3a7ca\", element=\"c4badd58-848a-418a-9ad2-3c8270ea4cda\")>,\n",
       " <selenium.webdriver.remote.webelement.WebElement (session=\"fea66b8d719d6ce52e0129e891e3a7ca\", element=\"37d3d7c6-be60-45cb-8d09-c98c6f9163c0\")>,\n",
       " <selenium.webdriver.remote.webelement.WebElement (session=\"fea66b8d719d6ce52e0129e891e3a7ca\", element=\"2735a480-5d07-4016-bb8a-dc126e66a91b\")>,\n",
       " <selenium.webdriver.remote.webelement.WebElement (session=\"fea66b8d719d6ce52e0129e891e3a7ca\", element=\"d297591e-877c-40c8-a7d6-01a3329c08d4\")>,\n",
       " <selenium.webdriver.remote.webelement.WebElement (session=\"fea66b8d719d6ce52e0129e891e3a7ca\", element=\"29090daa-1185-41d0-b26c-2b7c4082edf4\")>,\n",
       " <selenium.webdriver.remote.webelement.WebElement (session=\"fea66b8d719d6ce52e0129e891e3a7ca\", element=\"2a0bdff9-0a71-47ed-a64f-a5215b70d678\")>,\n",
       " <selenium.webdriver.remote.webelement.WebElement (session=\"fea66b8d719d6ce52e0129e891e3a7ca\", element=\"f650d724-c35f-4c33-9d9f-174c75d2c939\")>,\n",
       " <selenium.webdriver.remote.webelement.WebElement (session=\"fea66b8d719d6ce52e0129e891e3a7ca\", element=\"1833f1c1-28ba-42d6-a23b-27fdfe2bca92\")>,\n",
       " <selenium.webdriver.remote.webelement.WebElement (session=\"fea66b8d719d6ce52e0129e891e3a7ca\", element=\"8a3ec56f-2f0d-4325-b6fb-95769bea686f\")>,\n",
       " <selenium.webdriver.remote.webelement.WebElement (session=\"fea66b8d719d6ce52e0129e891e3a7ca\", element=\"ebb26efc-7e25-4da7-be9d-19cc9daead7d\")>,\n",
       " <selenium.webdriver.remote.webelement.WebElement (session=\"fea66b8d719d6ce52e0129e891e3a7ca\", element=\"8078da1b-8461-48c7-bf3f-193402a60037\")>,\n",
       " <selenium.webdriver.remote.webelement.WebElement (session=\"fea66b8d719d6ce52e0129e891e3a7ca\", element=\"d55edad6-8bd5-408f-af8b-f5cc8a2a6cf9\")>,\n",
       " <selenium.webdriver.remote.webelement.WebElement (session=\"fea66b8d719d6ce52e0129e891e3a7ca\", element=\"25ee7dab-1c71-4fac-8df5-f02f41a5ac48\")>,\n",
       " <selenium.webdriver.remote.webelement.WebElement (session=\"fea66b8d719d6ce52e0129e891e3a7ca\", element=\"c83d2230-31f7-488b-97cd-fa681601d269\")>,\n",
       " <selenium.webdriver.remote.webelement.WebElement (session=\"fea66b8d719d6ce52e0129e891e3a7ca\", element=\"69f20f63-05d8-4f84-abc8-3cd6342c7f76\")>,\n",
       " <selenium.webdriver.remote.webelement.WebElement (session=\"fea66b8d719d6ce52e0129e891e3a7ca\", element=\"d6f47807-2038-49b6-acf8-bc0180de172d\")>,\n",
       " <selenium.webdriver.remote.webelement.WebElement (session=\"fea66b8d719d6ce52e0129e891e3a7ca\", element=\"7df178e4-7fdd-44f4-b20e-997a5f18c6e3\")>,\n",
       " <selenium.webdriver.remote.webelement.WebElement (session=\"fea66b8d719d6ce52e0129e891e3a7ca\", element=\"50465018-0195-4c9e-aa8b-71e750a592fb\")>,\n",
       " <selenium.webdriver.remote.webelement.WebElement (session=\"fea66b8d719d6ce52e0129e891e3a7ca\", element=\"ee3cf75e-88c7-40c6-94c7-23c8a79d63c2\")>,\n",
       " <selenium.webdriver.remote.webelement.WebElement (session=\"fea66b8d719d6ce52e0129e891e3a7ca\", element=\"98c681f6-397d-4c8b-a27f-6a80cf58d649\")>,\n",
       " <selenium.webdriver.remote.webelement.WebElement (session=\"fea66b8d719d6ce52e0129e891e3a7ca\", element=\"18ce3f72-b33d-4f26-96f2-f52f855785b8\")>,\n",
       " <selenium.webdriver.remote.webelement.WebElement (session=\"fea66b8d719d6ce52e0129e891e3a7ca\", element=\"29e81d79-f1bc-4c44-9023-f816c6eecabc\")>,\n",
       " <selenium.webdriver.remote.webelement.WebElement (session=\"fea66b8d719d6ce52e0129e891e3a7ca\", element=\"61fa29e1-9be6-4f6b-a842-9738b5b7b10f\")>,\n",
       " <selenium.webdriver.remote.webelement.WebElement (session=\"fea66b8d719d6ce52e0129e891e3a7ca\", element=\"146e8de8-9864-49d2-8d6b-f33e20f10397\")>,\n",
       " <selenium.webdriver.remote.webelement.WebElement (session=\"fea66b8d719d6ce52e0129e891e3a7ca\", element=\"a33c6b2c-0128-4f31-8c5b-957e4b30031b\")>,\n",
       " <selenium.webdriver.remote.webelement.WebElement (session=\"fea66b8d719d6ce52e0129e891e3a7ca\", element=\"276aa9a2-b835-4e5b-bd11-cef5e05e3b4f\")>,\n",
       " <selenium.webdriver.remote.webelement.WebElement (session=\"fea66b8d719d6ce52e0129e891e3a7ca\", element=\"267f9022-1c6f-4b89-9e0d-a4c78bb2b626\")>,\n",
       " <selenium.webdriver.remote.webelement.WebElement (session=\"fea66b8d719d6ce52e0129e891e3a7ca\", element=\"4998b41d-5eae-4ff5-b3c9-7c11c6ca6aa8\")>,\n",
       " <selenium.webdriver.remote.webelement.WebElement (session=\"fea66b8d719d6ce52e0129e891e3a7ca\", element=\"91259a3e-1504-45c4-accb-5a06be1fec55\")>,\n",
       " <selenium.webdriver.remote.webelement.WebElement (session=\"fea66b8d719d6ce52e0129e891e3a7ca\", element=\"6c89caae-8d24-4100-80a9-53e16b75ec5e\")>,\n",
       " <selenium.webdriver.remote.webelement.WebElement (session=\"fea66b8d719d6ce52e0129e891e3a7ca\", element=\"b21b34e7-f285-4bc9-93de-f338077364ea\")>,\n",
       " <selenium.webdriver.remote.webelement.WebElement (session=\"fea66b8d719d6ce52e0129e891e3a7ca\", element=\"71bb4844-fa14-45cc-b46e-0fbb53949343\")>,\n",
       " <selenium.webdriver.remote.webelement.WebElement (session=\"fea66b8d719d6ce52e0129e891e3a7ca\", element=\"b40e3914-d30b-4191-a3a9-6ae33592a7ee\")>,\n",
       " <selenium.webdriver.remote.webelement.WebElement (session=\"fea66b8d719d6ce52e0129e891e3a7ca\", element=\"b3de1be2-8b46-4dbc-89f2-35fbdc17f1bf\")>,\n",
       " <selenium.webdriver.remote.webelement.WebElement (session=\"fea66b8d719d6ce52e0129e891e3a7ca\", element=\"a8335215-849a-477d-b561-5d6e2bad806c\")>,\n",
       " <selenium.webdriver.remote.webelement.WebElement (session=\"fea66b8d719d6ce52e0129e891e3a7ca\", element=\"1c19fda0-6b53-440e-ad6c-8d995e7f10b1\")>,\n",
       " <selenium.webdriver.remote.webelement.WebElement (session=\"fea66b8d719d6ce52e0129e891e3a7ca\", element=\"adc93dad-1872-4dbf-bb81-7e8467a772c1\")>,\n",
       " <selenium.webdriver.remote.webelement.WebElement (session=\"fea66b8d719d6ce52e0129e891e3a7ca\", element=\"61710a0d-720c-4aee-af59-34f47a3d10fe\")>,\n",
       " <selenium.webdriver.remote.webelement.WebElement (session=\"fea66b8d719d6ce52e0129e891e3a7ca\", element=\"02159269-763b-4027-883e-6e0f7be59625\")>,\n",
       " <selenium.webdriver.remote.webelement.WebElement (session=\"fea66b8d719d6ce52e0129e891e3a7ca\", element=\"72951732-e3d7-4bdf-8b11-fb9323f860db\")>,\n",
       " <selenium.webdriver.remote.webelement.WebElement (session=\"fea66b8d719d6ce52e0129e891e3a7ca\", element=\"0e706d1f-dfa9-49ef-a283-9d510febf9e1\")>,\n",
       " <selenium.webdriver.remote.webelement.WebElement (session=\"fea66b8d719d6ce52e0129e891e3a7ca\", element=\"b7a21fc7-0f48-4c1e-b865-4f7db668c6c4\")>,\n",
       " <selenium.webdriver.remote.webelement.WebElement (session=\"fea66b8d719d6ce52e0129e891e3a7ca\", element=\"ef4828ee-434b-4a68-ae19-7c6ede5c5924\")>,\n",
       " <selenium.webdriver.remote.webelement.WebElement (session=\"fea66b8d719d6ce52e0129e891e3a7ca\", element=\"038fdbf5-9a6e-4b1b-8648-6c088f1606e7\")>,\n",
       " <selenium.webdriver.remote.webelement.WebElement (session=\"fea66b8d719d6ce52e0129e891e3a7ca\", element=\"41fda918-a103-484f-a448-4f5102c84c25\")>,\n",
       " <selenium.webdriver.remote.webelement.WebElement (session=\"fea66b8d719d6ce52e0129e891e3a7ca\", element=\"dc37136c-ee7c-417e-9640-d90d2ea9676d\")>,\n",
       " <selenium.webdriver.remote.webelement.WebElement (session=\"fea66b8d719d6ce52e0129e891e3a7ca\", element=\"3c842493-5e0a-4538-8d0e-d7df25d83f0e\")>,\n",
       " <selenium.webdriver.remote.webelement.WebElement (session=\"fea66b8d719d6ce52e0129e891e3a7ca\", element=\"f776e198-4a91-4e65-b286-6cdc62cf752b\")>,\n",
       " <selenium.webdriver.remote.webelement.WebElement (session=\"fea66b8d719d6ce52e0129e891e3a7ca\", element=\"00d2cc60-9f32-4791-ad86-f01ac9d5fb3c\")>,\n",
       " <selenium.webdriver.remote.webelement.WebElement (session=\"fea66b8d719d6ce52e0129e891e3a7ca\", element=\"1435075a-f30b-4716-aae4-584858e01b5f\")>,\n",
       " <selenium.webdriver.remote.webelement.WebElement (session=\"fea66b8d719d6ce52e0129e891e3a7ca\", element=\"0df435a4-b115-40d3-8a05-3ab3bac40126\")>,\n",
       " <selenium.webdriver.remote.webelement.WebElement (session=\"fea66b8d719d6ce52e0129e891e3a7ca\", element=\"1991128a-0fc7-4573-931b-7189820225e7\")>,\n",
       " <selenium.webdriver.remote.webelement.WebElement (session=\"fea66b8d719d6ce52e0129e891e3a7ca\", element=\"54add407-1f51-4ef0-a7f3-69bb027b8c1e\")>,\n",
       " <selenium.webdriver.remote.webelement.WebElement (session=\"fea66b8d719d6ce52e0129e891e3a7ca\", element=\"ebcb211d-e436-4b0f-9cc9-200b8a49df52\")>,\n",
       " <selenium.webdriver.remote.webelement.WebElement (session=\"fea66b8d719d6ce52e0129e891e3a7ca\", element=\"71397ba4-49fe-47ab-91d3-20e98b45548e\")>,\n",
       " <selenium.webdriver.remote.webelement.WebElement (session=\"fea66b8d719d6ce52e0129e891e3a7ca\", element=\"fbe4d68f-2312-4326-a088-15d10858dd0d\")>,\n",
       " <selenium.webdriver.remote.webelement.WebElement (session=\"fea66b8d719d6ce52e0129e891e3a7ca\", element=\"04d8c64f-c0af-449f-8c0b-6e59555a1471\")>,\n",
       " <selenium.webdriver.remote.webelement.WebElement (session=\"fea66b8d719d6ce52e0129e891e3a7ca\", element=\"ebd87bf2-40f3-4462-845f-c5171e4e3052\")>,\n",
       " <selenium.webdriver.remote.webelement.WebElement (session=\"fea66b8d719d6ce52e0129e891e3a7ca\", element=\"a0786c56-6cbb-48dd-b538-6117712b4fd1\")>,\n",
       " <selenium.webdriver.remote.webelement.WebElement (session=\"fea66b8d719d6ce52e0129e891e3a7ca\", element=\"ee8d822e-4d07-4ca3-9316-8f3b50c5b1e7\")>,\n",
       " <selenium.webdriver.remote.webelement.WebElement (session=\"fea66b8d719d6ce52e0129e891e3a7ca\", element=\"8fc3d4bb-23ff-4b70-aaf0-9dac3a091a55\")>,\n",
       " <selenium.webdriver.remote.webelement.WebElement (session=\"fea66b8d719d6ce52e0129e891e3a7ca\", element=\"a9066db6-1cf6-4c0a-92e7-e84d4602f364\")>,\n",
       " <selenium.webdriver.remote.webelement.WebElement (session=\"fea66b8d719d6ce52e0129e891e3a7ca\", element=\"29bcf1ab-cd90-487b-95bc-eafc6c049862\")>,\n",
       " <selenium.webdriver.remote.webelement.WebElement (session=\"fea66b8d719d6ce52e0129e891e3a7ca\", element=\"2a6715f6-14b7-4b9b-bec3-b108ea40d269\")>,\n",
       " <selenium.webdriver.remote.webelement.WebElement (session=\"fea66b8d719d6ce52e0129e891e3a7ca\", element=\"df5afee1-bd71-4c5f-bf9b-d6d57c03a9a3\")>,\n",
       " <selenium.webdriver.remote.webelement.WebElement (session=\"fea66b8d719d6ce52e0129e891e3a7ca\", element=\"a1a56fa9-b936-4958-bab3-faef5200a055\")>,\n",
       " <selenium.webdriver.remote.webelement.WebElement (session=\"fea66b8d719d6ce52e0129e891e3a7ca\", element=\"bdd1a6b3-59d0-4178-8423-95db27810c28\")>,\n",
       " <selenium.webdriver.remote.webelement.WebElement (session=\"fea66b8d719d6ce52e0129e891e3a7ca\", element=\"9cc7f230-ac88-4cc5-9795-eac4b6e76da7\")>,\n",
       " <selenium.webdriver.remote.webelement.WebElement (session=\"fea66b8d719d6ce52e0129e891e3a7ca\", element=\"9302b319-fce7-4c1b-85dc-7db2ac92a423\")>,\n",
       " <selenium.webdriver.remote.webelement.WebElement (session=\"fea66b8d719d6ce52e0129e891e3a7ca\", element=\"047a0d64-3215-49a5-8624-6f2eadea1e31\")>,\n",
       " <selenium.webdriver.remote.webelement.WebElement (session=\"fea66b8d719d6ce52e0129e891e3a7ca\", element=\"c0033ec8-5fa1-432d-836a-79850c71a927\")>,\n",
       " <selenium.webdriver.remote.webelement.WebElement (session=\"fea66b8d719d6ce52e0129e891e3a7ca\", element=\"488b6937-a2c8-473c-bc53-c5223016be29\")>,\n",
       " <selenium.webdriver.remote.webelement.WebElement (session=\"fea66b8d719d6ce52e0129e891e3a7ca\", element=\"2e9ec801-2b40-4c60-9c6a-2814a5d3b2c9\")>,\n",
       " <selenium.webdriver.remote.webelement.WebElement (session=\"fea66b8d719d6ce52e0129e891e3a7ca\", element=\"e8b2b6e0-5a9d-4dd3-9dba-181be9ab6c40\")>,\n",
       " <selenium.webdriver.remote.webelement.WebElement (session=\"fea66b8d719d6ce52e0129e891e3a7ca\", element=\"54615b8b-efaa-49d7-9712-e432201f54fe\")>,\n",
       " <selenium.webdriver.remote.webelement.WebElement (session=\"fea66b8d719d6ce52e0129e891e3a7ca\", element=\"ce41e3e6-7109-4c82-93e6-9373ec8d6e31\")>,\n",
       " <selenium.webdriver.remote.webelement.WebElement (session=\"fea66b8d719d6ce52e0129e891e3a7ca\", element=\"4163280f-63d3-4dcc-8148-c76ea734aba4\")>,\n",
       " <selenium.webdriver.remote.webelement.WebElement (session=\"fea66b8d719d6ce52e0129e891e3a7ca\", element=\"0f512771-e50e-430a-81ab-56c6cf63ed21\")>,\n",
       " <selenium.webdriver.remote.webelement.WebElement (session=\"fea66b8d719d6ce52e0129e891e3a7ca\", element=\"cb1377d9-b0f4-4a1d-87cb-a4c6bb14cf88\")>,\n",
       " <selenium.webdriver.remote.webelement.WebElement (session=\"fea66b8d719d6ce52e0129e891e3a7ca\", element=\"5bb56017-c551-4f48-a966-c0f550c84267\")>,\n",
       " <selenium.webdriver.remote.webelement.WebElement (session=\"fea66b8d719d6ce52e0129e891e3a7ca\", element=\"e352265a-94f9-4120-8a7e-0225cdb6669c\")>,\n",
       " <selenium.webdriver.remote.webelement.WebElement (session=\"fea66b8d719d6ce52e0129e891e3a7ca\", element=\"046110af-f4a5-434f-a440-ee6c24b0e701\")>,\n",
       " <selenium.webdriver.remote.webelement.WebElement (session=\"fea66b8d719d6ce52e0129e891e3a7ca\", element=\"5f140b4f-38ab-4e20-b26f-69500ef02c8e\")>,\n",
       " <selenium.webdriver.remote.webelement.WebElement (session=\"fea66b8d719d6ce52e0129e891e3a7ca\", element=\"07062f04-08a9-4247-b2c3-9c8e891713cd\")>,\n",
       " <selenium.webdriver.remote.webelement.WebElement (session=\"fea66b8d719d6ce52e0129e891e3a7ca\", element=\"50879128-ba3a-4e59-90b9-e7257b669151\")>,\n",
       " <selenium.webdriver.remote.webelement.WebElement (session=\"fea66b8d719d6ce52e0129e891e3a7ca\", element=\"2b648079-3cc9-49b5-a4e7-cb7e204574b9\")>,\n",
       " <selenium.webdriver.remote.webelement.WebElement (session=\"fea66b8d719d6ce52e0129e891e3a7ca\", element=\"a8d1eccc-1926-46a3-942e-8e918e7d9191\")>,\n",
       " <selenium.webdriver.remote.webelement.WebElement (session=\"fea66b8d719d6ce52e0129e891e3a7ca\", element=\"10542b14-da01-4b73-99ed-09419d215222\")>,\n",
       " <selenium.webdriver.remote.webelement.WebElement (session=\"fea66b8d719d6ce52e0129e891e3a7ca\", element=\"1b92559c-04cd-4a46-bb26-bc2f1f867e7e\")>,\n",
       " <selenium.webdriver.remote.webelement.WebElement (session=\"fea66b8d719d6ce52e0129e891e3a7ca\", element=\"33c83aad-de6b-4d34-bb7b-f4733323f727\")>,\n",
       " <selenium.webdriver.remote.webelement.WebElement (session=\"fea66b8d719d6ce52e0129e891e3a7ca\", element=\"c59e9f5a-e368-4e1f-9cb6-94dfb9049eb3\")>,\n",
       " <selenium.webdriver.remote.webelement.WebElement (session=\"fea66b8d719d6ce52e0129e891e3a7ca\", element=\"052770ab-4610-4582-8e1e-ef572922f43c\")>,\n",
       " <selenium.webdriver.remote.webelement.WebElement (session=\"fea66b8d719d6ce52e0129e891e3a7ca\", element=\"68a8820d-8ac4-4544-8424-8a118aca3d43\")>,\n",
       " <selenium.webdriver.remote.webelement.WebElement (session=\"fea66b8d719d6ce52e0129e891e3a7ca\", element=\"8b5f8bcf-8285-416b-997b-73cc41b36d75\")>,\n",
       " <selenium.webdriver.remote.webelement.WebElement (session=\"fea66b8d719d6ce52e0129e891e3a7ca\", element=\"29989404-ff72-4c0f-bc3c-1d230287a331\")>,\n",
       " <selenium.webdriver.remote.webelement.WebElement (session=\"fea66b8d719d6ce52e0129e891e3a7ca\", element=\"ce40c15c-fcd9-42b0-8cd4-b825775fb1b7\")>,\n",
       " <selenium.webdriver.remote.webelement.WebElement (session=\"fea66b8d719d6ce52e0129e891e3a7ca\", element=\"df7d1a2b-107d-404f-8408-a3b1e6f05438\")>,\n",
       " <selenium.webdriver.remote.webelement.WebElement (session=\"fea66b8d719d6ce52e0129e891e3a7ca\", element=\"755ae267-26b5-49d6-9214-19ec2f815bbf\")>,\n",
       " <selenium.webdriver.remote.webelement.WebElement (session=\"fea66b8d719d6ce52e0129e891e3a7ca\", element=\"4b0ebff5-1247-4b9a-bf63-23912f7b0857\")>,\n",
       " <selenium.webdriver.remote.webelement.WebElement (session=\"fea66b8d719d6ce52e0129e891e3a7ca\", element=\"d8d53773-9693-47f0-b714-0bb09d7c8c4f\")>,\n",
       " <selenium.webdriver.remote.webelement.WebElement (session=\"fea66b8d719d6ce52e0129e891e3a7ca\", element=\"9403ed9a-305c-4e7f-a4e0-7d2b43b00d4d\")>,\n",
       " <selenium.webdriver.remote.webelement.WebElement (session=\"fea66b8d719d6ce52e0129e891e3a7ca\", element=\"5e3d063d-3d67-4a6a-9865-dddbf269fcf2\")>,\n",
       " <selenium.webdriver.remote.webelement.WebElement (session=\"fea66b8d719d6ce52e0129e891e3a7ca\", element=\"be66514e-aec5-4b46-8260-fff01672e9c7\")>,\n",
       " <selenium.webdriver.remote.webelement.WebElement (session=\"fea66b8d719d6ce52e0129e891e3a7ca\", element=\"56bffc0b-a920-4bbf-9be9-834c534d87e3\")>,\n",
       " <selenium.webdriver.remote.webelement.WebElement (session=\"fea66b8d719d6ce52e0129e891e3a7ca\", element=\"a1734e8a-f570-43a0-b8a4-1ea9c5b1db8d\")>,\n",
       " <selenium.webdriver.remote.webelement.WebElement (session=\"fea66b8d719d6ce52e0129e891e3a7ca\", element=\"1a4f373d-871d-47fe-9a37-31b99aa71980\")>,\n",
       " <selenium.webdriver.remote.webelement.WebElement (session=\"fea66b8d719d6ce52e0129e891e3a7ca\", element=\"acdd899f-8d50-4855-8ba5-d3e229016633\")>,\n",
       " <selenium.webdriver.remote.webelement.WebElement (session=\"fea66b8d719d6ce52e0129e891e3a7ca\", element=\"5d884203-6316-46a3-81e1-c413bf7a53c7\")>,\n",
       " <selenium.webdriver.remote.webelement.WebElement (session=\"fea66b8d719d6ce52e0129e891e3a7ca\", element=\"fb717c7f-41e5-4220-b51f-ede4645e3ccc\")>,\n",
       " <selenium.webdriver.remote.webelement.WebElement (session=\"fea66b8d719d6ce52e0129e891e3a7ca\", element=\"526e10ee-1756-47d9-8ac0-672b45b6c77f\")>,\n",
       " <selenium.webdriver.remote.webelement.WebElement (session=\"fea66b8d719d6ce52e0129e891e3a7ca\", element=\"212350e9-0586-461d-8897-451bf56afade\")>,\n",
       " <selenium.webdriver.remote.webelement.WebElement (session=\"fea66b8d719d6ce52e0129e891e3a7ca\", element=\"91245937-a9f5-4a9d-abb4-fa3f7d3e0306\")>,\n",
       " <selenium.webdriver.remote.webelement.WebElement (session=\"fea66b8d719d6ce52e0129e891e3a7ca\", element=\"f64a4505-b65f-4cd5-9b91-2a81ea51bb84\")>,\n",
       " <selenium.webdriver.remote.webelement.WebElement (session=\"fea66b8d719d6ce52e0129e891e3a7ca\", element=\"c916a289-6d8e-444d-8a52-dded08abc8c6\")>,\n",
       " <selenium.webdriver.remote.webelement.WebElement (session=\"fea66b8d719d6ce52e0129e891e3a7ca\", element=\"67007a8c-789d-468c-a598-cdcdd6bb40e7\")>,\n",
       " <selenium.webdriver.remote.webelement.WebElement (session=\"fea66b8d719d6ce52e0129e891e3a7ca\", element=\"1af04f7f-36a1-4bfa-b359-71e8fa8c2999\")>,\n",
       " <selenium.webdriver.remote.webelement.WebElement (session=\"fea66b8d719d6ce52e0129e891e3a7ca\", element=\"e1bd71fa-0a04-47bf-a829-f0598c7a1ed7\")>,\n",
       " <selenium.webdriver.remote.webelement.WebElement (session=\"fea66b8d719d6ce52e0129e891e3a7ca\", element=\"978c02ec-d953-4032-bb78-d3ad9d39823c\")>,\n",
       " <selenium.webdriver.remote.webelement.WebElement (session=\"fea66b8d719d6ce52e0129e891e3a7ca\", element=\"6d386956-8d2f-418a-83fe-b57e062e8bca\")>,\n",
       " <selenium.webdriver.remote.webelement.WebElement (session=\"fea66b8d719d6ce52e0129e891e3a7ca\", element=\"ec1854fc-9383-4afe-b1dd-cb230a373d20\")>,\n",
       " <selenium.webdriver.remote.webelement.WebElement (session=\"fea66b8d719d6ce52e0129e891e3a7ca\", element=\"91274728-e1aa-478d-9ed3-2e624f8c6675\")>,\n",
       " <selenium.webdriver.remote.webelement.WebElement (session=\"fea66b8d719d6ce52e0129e891e3a7ca\", element=\"3ac6643e-b4f5-4086-939f-1cce0975df9a\")>,\n",
       " <selenium.webdriver.remote.webelement.WebElement (session=\"fea66b8d719d6ce52e0129e891e3a7ca\", element=\"051b5e8c-5d29-4eb6-8ad9-316d486ed276\")>,\n",
       " <selenium.webdriver.remote.webelement.WebElement (session=\"fea66b8d719d6ce52e0129e891e3a7ca\", element=\"117495af-c4de-4a9e-ac87-fcb26099464f\")>,\n",
       " <selenium.webdriver.remote.webelement.WebElement (session=\"fea66b8d719d6ce52e0129e891e3a7ca\", element=\"f07e030a-23b2-42f7-ac6a-67add6a4be2d\")>,\n",
       " <selenium.webdriver.remote.webelement.WebElement (session=\"fea66b8d719d6ce52e0129e891e3a7ca\", element=\"4016ca41-27c1-49ca-a1e6-ab8710338146\")>,\n",
       " <selenium.webdriver.remote.webelement.WebElement (session=\"fea66b8d719d6ce52e0129e891e3a7ca\", element=\"5e6c2c63-bcbf-491a-b6ca-777801ba49c0\")>,\n",
       " <selenium.webdriver.remote.webelement.WebElement (session=\"fea66b8d719d6ce52e0129e891e3a7ca\", element=\"6682884b-de80-4175-8408-2971b9702a4a\")>,\n",
       " <selenium.webdriver.remote.webelement.WebElement (session=\"fea66b8d719d6ce52e0129e891e3a7ca\", element=\"99546c86-422d-4a39-918e-5c9b28bc59f9\")>,\n",
       " <selenium.webdriver.remote.webelement.WebElement (session=\"fea66b8d719d6ce52e0129e891e3a7ca\", element=\"3bb4e4e3-2041-4747-8ec0-af8ef8d2463a\")>,\n",
       " <selenium.webdriver.remote.webelement.WebElement (session=\"fea66b8d719d6ce52e0129e891e3a7ca\", element=\"c064f53e-90e7-4aaa-a770-b0846b78bb29\")>,\n",
       " <selenium.webdriver.remote.webelement.WebElement (session=\"fea66b8d719d6ce52e0129e891e3a7ca\", element=\"d6e22f49-662b-45da-b21a-09b0d0fb5d25\")>,\n",
       " <selenium.webdriver.remote.webelement.WebElement (session=\"fea66b8d719d6ce52e0129e891e3a7ca\", element=\"ba721e9c-abd9-44e5-bcad-5bd95906f4e4\")>,\n",
       " <selenium.webdriver.remote.webelement.WebElement (session=\"fea66b8d719d6ce52e0129e891e3a7ca\", element=\"abfbc41f-c343-49d7-bdac-90b21d2b7fd3\")>,\n",
       " <selenium.webdriver.remote.webelement.WebElement (session=\"fea66b8d719d6ce52e0129e891e3a7ca\", element=\"64418b06-4cdf-4402-b4ec-ec688ca162b2\")>,\n",
       " <selenium.webdriver.remote.webelement.WebElement (session=\"fea66b8d719d6ce52e0129e891e3a7ca\", element=\"ea5839a2-c214-4f82-a0e4-5a0b17207016\")>,\n",
       " <selenium.webdriver.remote.webelement.WebElement (session=\"fea66b8d719d6ce52e0129e891e3a7ca\", element=\"81a56b4f-6b0c-4e06-bbc0-0af4f7cc1320\")>,\n",
       " <selenium.webdriver.remote.webelement.WebElement (session=\"fea66b8d719d6ce52e0129e891e3a7ca\", element=\"ed27b5d9-dfc0-4656-bce4-4560aa34b532\")>,\n",
       " <selenium.webdriver.remote.webelement.WebElement (session=\"fea66b8d719d6ce52e0129e891e3a7ca\", element=\"9ebec154-ffb6-409e-86b8-e3bfa78490d0\")>,\n",
       " <selenium.webdriver.remote.webelement.WebElement (session=\"fea66b8d719d6ce52e0129e891e3a7ca\", element=\"3b7c8aec-6948-46dc-a367-d5f9a4c3fe68\")>,\n",
       " <selenium.webdriver.remote.webelement.WebElement (session=\"fea66b8d719d6ce52e0129e891e3a7ca\", element=\"bcb65a2a-1dc2-49a0-846b-ec0564c83420\")>,\n",
       " <selenium.webdriver.remote.webelement.WebElement (session=\"fea66b8d719d6ce52e0129e891e3a7ca\", element=\"d054e6b0-01ba-48f0-a46f-b041dc3ebd8c\")>,\n",
       " <selenium.webdriver.remote.webelement.WebElement (session=\"fea66b8d719d6ce52e0129e891e3a7ca\", element=\"052d6b87-36df-47a1-a688-77a223988c43\")>,\n",
       " <selenium.webdriver.remote.webelement.WebElement (session=\"fea66b8d719d6ce52e0129e891e3a7ca\", element=\"4171d81d-f047-47c3-b71e-e42ee934578e\")>,\n",
       " <selenium.webdriver.remote.webelement.WebElement (session=\"fea66b8d719d6ce52e0129e891e3a7ca\", element=\"80050db3-f0a9-4119-8b82-102febe1e869\")>,\n",
       " <selenium.webdriver.remote.webelement.WebElement (session=\"fea66b8d719d6ce52e0129e891e3a7ca\", element=\"7b61a292-d657-4017-8278-e141257f24f6\")>,\n",
       " <selenium.webdriver.remote.webelement.WebElement (session=\"fea66b8d719d6ce52e0129e891e3a7ca\", element=\"b191a2b0-fa64-475d-acac-8d6684e9450c\")>,\n",
       " <selenium.webdriver.remote.webelement.WebElement (session=\"fea66b8d719d6ce52e0129e891e3a7ca\", element=\"66f16c99-46b9-4225-b6d2-776502ae22a1\")>,\n",
       " <selenium.webdriver.remote.webelement.WebElement (session=\"fea66b8d719d6ce52e0129e891e3a7ca\", element=\"cb55c882-4c2a-4496-be41-cde76e753500\")>,\n",
       " <selenium.webdriver.remote.webelement.WebElement (session=\"fea66b8d719d6ce52e0129e891e3a7ca\", element=\"30298c7d-d5ab-41ae-bd31-5941cbf34dfc\")>,\n",
       " <selenium.webdriver.remote.webelement.WebElement (session=\"fea66b8d719d6ce52e0129e891e3a7ca\", element=\"34a0761e-2967-4703-9609-5681051764ec\")>,\n",
       " <selenium.webdriver.remote.webelement.WebElement (session=\"fea66b8d719d6ce52e0129e891e3a7ca\", element=\"3e24f56e-9fa3-46bc-ba81-2356b69edc0d\")>,\n",
       " <selenium.webdriver.remote.webelement.WebElement (session=\"fea66b8d719d6ce52e0129e891e3a7ca\", element=\"d3b51905-ea2d-46eb-84ab-a19b95eec8c4\")>,\n",
       " <selenium.webdriver.remote.webelement.WebElement (session=\"fea66b8d719d6ce52e0129e891e3a7ca\", element=\"b26d3273-c183-4b57-af18-416d34e59930\")>,\n",
       " <selenium.webdriver.remote.webelement.WebElement (session=\"fea66b8d719d6ce52e0129e891e3a7ca\", element=\"305a23bb-e456-40bb-a8d9-55b0f78fe502\")>,\n",
       " <selenium.webdriver.remote.webelement.WebElement (session=\"fea66b8d719d6ce52e0129e891e3a7ca\", element=\"45ac4ff9-3b65-4f7d-a319-da5226072b19\")>,\n",
       " <selenium.webdriver.remote.webelement.WebElement (session=\"fea66b8d719d6ce52e0129e891e3a7ca\", element=\"e9ee2885-c809-46ca-8ec7-3c9ff0e946e2\")>,\n",
       " <selenium.webdriver.remote.webelement.WebElement (session=\"fea66b8d719d6ce52e0129e891e3a7ca\", element=\"70fce623-8a44-4752-802e-04a2ca2a2547\")>,\n",
       " <selenium.webdriver.remote.webelement.WebElement (session=\"fea66b8d719d6ce52e0129e891e3a7ca\", element=\"3a39498b-b6bd-41c4-afbf-2d6106f8ac5b\")>,\n",
       " <selenium.webdriver.remote.webelement.WebElement (session=\"fea66b8d719d6ce52e0129e891e3a7ca\", element=\"da36cced-352d-4d57-9d30-56e440ed180b\")>,\n",
       " <selenium.webdriver.remote.webelement.WebElement (session=\"fea66b8d719d6ce52e0129e891e3a7ca\", element=\"04b1eed2-c8aa-49ed-9667-1a8034fe4a9a\")>,\n",
       " <selenium.webdriver.remote.webelement.WebElement (session=\"fea66b8d719d6ce52e0129e891e3a7ca\", element=\"ba5f4e21-0709-44ff-9623-d97b4a475974\")>,\n",
       " <selenium.webdriver.remote.webelement.WebElement (session=\"fea66b8d719d6ce52e0129e891e3a7ca\", element=\"21ab6133-6c87-4a9d-9ccb-e29c494617ce\")>,\n",
       " <selenium.webdriver.remote.webelement.WebElement (session=\"fea66b8d719d6ce52e0129e891e3a7ca\", element=\"2ba0e20b-aaeb-4b2b-88db-9ae4f34e31ec\")>,\n",
       " <selenium.webdriver.remote.webelement.WebElement (session=\"fea66b8d719d6ce52e0129e891e3a7ca\", element=\"0702692a-8870-4e9f-887b-4ad1209584c3\")>,\n",
       " <selenium.webdriver.remote.webelement.WebElement (session=\"fea66b8d719d6ce52e0129e891e3a7ca\", element=\"ff3831f8-627f-4dc8-9e9c-d5d0096777f4\")>,\n",
       " <selenium.webdriver.remote.webelement.WebElement (session=\"fea66b8d719d6ce52e0129e891e3a7ca\", element=\"f55d3b94-4757-4155-9496-74994faed2f5\")>,\n",
       " <selenium.webdriver.remote.webelement.WebElement (session=\"fea66b8d719d6ce52e0129e891e3a7ca\", element=\"0ae5f871-346d-4565-901b-c2ce53262406\")>,\n",
       " <selenium.webdriver.remote.webelement.WebElement (session=\"fea66b8d719d6ce52e0129e891e3a7ca\", element=\"6c9cbf68-7efb-48c6-b9e7-d0cdec8bc8c5\")>,\n",
       " <selenium.webdriver.remote.webelement.WebElement (session=\"fea66b8d719d6ce52e0129e891e3a7ca\", element=\"cddeb661-eb69-45fe-b879-69e804b5da79\")>,\n",
       " <selenium.webdriver.remote.webelement.WebElement (session=\"fea66b8d719d6ce52e0129e891e3a7ca\", element=\"be6e2ebe-f448-4033-b10d-35b7ff12387c\")>,\n",
       " <selenium.webdriver.remote.webelement.WebElement (session=\"fea66b8d719d6ce52e0129e891e3a7ca\", element=\"fa647efd-5549-4270-ad92-857e378df111\")>,\n",
       " <selenium.webdriver.remote.webelement.WebElement (session=\"fea66b8d719d6ce52e0129e891e3a7ca\", element=\"b269d5fc-5dcd-4cc3-b17d-c44061827cb8\")>,\n",
       " <selenium.webdriver.remote.webelement.WebElement (session=\"fea66b8d719d6ce52e0129e891e3a7ca\", element=\"2b8340ed-4dec-4e30-9bd5-341fb2bafafd\")>,\n",
       " <selenium.webdriver.remote.webelement.WebElement (session=\"fea66b8d719d6ce52e0129e891e3a7ca\", element=\"053c04b4-c2db-4518-b140-72663d8e30b1\")>,\n",
       " <selenium.webdriver.remote.webelement.WebElement (session=\"fea66b8d719d6ce52e0129e891e3a7ca\", element=\"50069773-92ea-4335-affd-3480f4d5fd3f\")>,\n",
       " <selenium.webdriver.remote.webelement.WebElement (session=\"fea66b8d719d6ce52e0129e891e3a7ca\", element=\"198c794f-81a7-42bc-8155-7732a226e9e5\")>,\n",
       " <selenium.webdriver.remote.webelement.WebElement (session=\"fea66b8d719d6ce52e0129e891e3a7ca\", element=\"9b175c9d-a263-475e-aabd-29320284eb6f\")>,\n",
       " <selenium.webdriver.remote.webelement.WebElement (session=\"fea66b8d719d6ce52e0129e891e3a7ca\", element=\"7cf06460-cae2-4dee-8665-2d6d80c47c0b\")>,\n",
       " <selenium.webdriver.remote.webelement.WebElement (session=\"fea66b8d719d6ce52e0129e891e3a7ca\", element=\"2fc485d2-fe89-4bd7-a769-a72562c6dc8a\")>,\n",
       " <selenium.webdriver.remote.webelement.WebElement (session=\"fea66b8d719d6ce52e0129e891e3a7ca\", element=\"a7ce1425-131b-493a-909f-c859947f7889\")>,\n",
       " <selenium.webdriver.remote.webelement.WebElement (session=\"fea66b8d719d6ce52e0129e891e3a7ca\", element=\"072a0d9d-e7e6-4a46-b493-07099a1ccba4\")>,\n",
       " <selenium.webdriver.remote.webelement.WebElement (session=\"fea66b8d719d6ce52e0129e891e3a7ca\", element=\"ae53ccba-0f47-4f73-a232-4d95a0b6a853\")>,\n",
       " <selenium.webdriver.remote.webelement.WebElement (session=\"fea66b8d719d6ce52e0129e891e3a7ca\", element=\"e995a958-93e2-43c7-b12b-4c29c8b65320\")>,\n",
       " <selenium.webdriver.remote.webelement.WebElement (session=\"fea66b8d719d6ce52e0129e891e3a7ca\", element=\"32f4f1da-8370-4615-90ce-d030515c578e\")>,\n",
       " <selenium.webdriver.remote.webelement.WebElement (session=\"fea66b8d719d6ce52e0129e891e3a7ca\", element=\"cb118927-f471-4958-a4c1-73f4523c1fa9\")>,\n",
       " <selenium.webdriver.remote.webelement.WebElement (session=\"fea66b8d719d6ce52e0129e891e3a7ca\", element=\"311d80ec-a25e-4546-ba37-5f9e465fb8c6\")>,\n",
       " <selenium.webdriver.remote.webelement.WebElement (session=\"fea66b8d719d6ce52e0129e891e3a7ca\", element=\"b78fbd7d-39e4-4be9-a211-6ba2e98539cb\")>,\n",
       " <selenium.webdriver.remote.webelement.WebElement (session=\"fea66b8d719d6ce52e0129e891e3a7ca\", element=\"e9e7298b-c695-4711-98e8-2c8f56d2adf1\")>,\n",
       " <selenium.webdriver.remote.webelement.WebElement (session=\"fea66b8d719d6ce52e0129e891e3a7ca\", element=\"158240ef-904d-410b-90eb-72de149ef3bb\")>,\n",
       " <selenium.webdriver.remote.webelement.WebElement (session=\"fea66b8d719d6ce52e0129e891e3a7ca\", element=\"a2abceed-8402-436c-9063-cd74fecb8065\")>,\n",
       " <selenium.webdriver.remote.webelement.WebElement (session=\"fea66b8d719d6ce52e0129e891e3a7ca\", element=\"24df5689-78b6-452a-a889-ea70f708b4c5\")>,\n",
       " <selenium.webdriver.remote.webelement.WebElement (session=\"fea66b8d719d6ce52e0129e891e3a7ca\", element=\"9dc38a13-75e2-458e-81ad-e05e17122a0f\")>,\n",
       " <selenium.webdriver.remote.webelement.WebElement (session=\"fea66b8d719d6ce52e0129e891e3a7ca\", element=\"73c20618-c4fc-4011-9c6b-d504dc541882\")>,\n",
       " <selenium.webdriver.remote.webelement.WebElement (session=\"fea66b8d719d6ce52e0129e891e3a7ca\", element=\"1115156e-b7b3-4000-ae47-1a061a082e14\")>,\n",
       " <selenium.webdriver.remote.webelement.WebElement (session=\"fea66b8d719d6ce52e0129e891e3a7ca\", element=\"53ce2ac3-b159-4617-9a8e-16fae28e48e5\")>,\n",
       " <selenium.webdriver.remote.webelement.WebElement (session=\"fea66b8d719d6ce52e0129e891e3a7ca\", element=\"e8a71c13-1501-423d-9a04-7dd8714575ac\")>,\n",
       " <selenium.webdriver.remote.webelement.WebElement (session=\"fea66b8d719d6ce52e0129e891e3a7ca\", element=\"e61fca88-07ab-483f-a901-3c2dcaf311ff\")>,\n",
       " <selenium.webdriver.remote.webelement.WebElement (session=\"fea66b8d719d6ce52e0129e891e3a7ca\", element=\"1b0da6cd-2f9b-4f53-8501-1d3e6b62049e\")>,\n",
       " <selenium.webdriver.remote.webelement.WebElement (session=\"fea66b8d719d6ce52e0129e891e3a7ca\", element=\"c79b8885-89bb-4206-bbc0-468e391ca7f2\")>,\n",
       " <selenium.webdriver.remote.webelement.WebElement (session=\"fea66b8d719d6ce52e0129e891e3a7ca\", element=\"6f919e92-1adb-455b-8746-2c97ef8f6d33\")>,\n",
       " <selenium.webdriver.remote.webelement.WebElement (session=\"fea66b8d719d6ce52e0129e891e3a7ca\", element=\"7b05d210-ca1b-4ec6-aa45-b4ef6866d5d3\")>,\n",
       " <selenium.webdriver.remote.webelement.WebElement (session=\"fea66b8d719d6ce52e0129e891e3a7ca\", element=\"5999d497-da01-4837-9e3d-cad23c38ffc4\")>,\n",
       " <selenium.webdriver.remote.webelement.WebElement (session=\"fea66b8d719d6ce52e0129e891e3a7ca\", element=\"fa97412a-0e0a-4aff-ac3d-d64cc4c76666\")>,\n",
       " <selenium.webdriver.remote.webelement.WebElement (session=\"fea66b8d719d6ce52e0129e891e3a7ca\", element=\"b23ad3e3-1dfc-4104-b59a-609b053aef42\")>,\n",
       " <selenium.webdriver.remote.webelement.WebElement (session=\"fea66b8d719d6ce52e0129e891e3a7ca\", element=\"254dba9b-b768-49f0-a382-da32273b6e38\")>,\n",
       " <selenium.webdriver.remote.webelement.WebElement (session=\"fea66b8d719d6ce52e0129e891e3a7ca\", element=\"00e9d24d-0049-4f18-9fdb-af93f99708b3\")>,\n",
       " <selenium.webdriver.remote.webelement.WebElement (session=\"fea66b8d719d6ce52e0129e891e3a7ca\", element=\"2b291fe3-276f-45aa-b7e4-03e290267423\")>,\n",
       " <selenium.webdriver.remote.webelement.WebElement (session=\"fea66b8d719d6ce52e0129e891e3a7ca\", element=\"32286dff-82a5-498b-8614-fff94e398a8d\")>,\n",
       " <selenium.webdriver.remote.webelement.WebElement (session=\"fea66b8d719d6ce52e0129e891e3a7ca\", element=\"678e136d-45a3-4e7e-a29f-98bb7ac577df\")>,\n",
       " <selenium.webdriver.remote.webelement.WebElement (session=\"fea66b8d719d6ce52e0129e891e3a7ca\", element=\"ea637d03-8887-423a-a774-ee42970f8fd4\")>,\n",
       " <selenium.webdriver.remote.webelement.WebElement (session=\"fea66b8d719d6ce52e0129e891e3a7ca\", element=\"93328888-aaba-4ae6-9aae-178902e3008e\")>,\n",
       " <selenium.webdriver.remote.webelement.WebElement (session=\"fea66b8d719d6ce52e0129e891e3a7ca\", element=\"c700f38e-af9b-4349-9f70-1cba76fcd97c\")>,\n",
       " <selenium.webdriver.remote.webelement.WebElement (session=\"fea66b8d719d6ce52e0129e891e3a7ca\", element=\"5b944707-bf84-430e-ab78-5aadf9b8db90\")>,\n",
       " <selenium.webdriver.remote.webelement.WebElement (session=\"fea66b8d719d6ce52e0129e891e3a7ca\", element=\"131e9a70-826b-45d3-af49-db9228f8d8dd\")>,\n",
       " <selenium.webdriver.remote.webelement.WebElement (session=\"fea66b8d719d6ce52e0129e891e3a7ca\", element=\"b15c0379-d904-442d-a670-4fd1797d6ac5\")>,\n",
       " <selenium.webdriver.remote.webelement.WebElement (session=\"fea66b8d719d6ce52e0129e891e3a7ca\", element=\"9b622ed1-c2eb-403f-b291-ad8a83954ac8\")>,\n",
       " <selenium.webdriver.remote.webelement.WebElement (session=\"fea66b8d719d6ce52e0129e891e3a7ca\", element=\"0fa89864-3090-42ea-b26a-9c2fd4f9ef78\")>,\n",
       " <selenium.webdriver.remote.webelement.WebElement (session=\"fea66b8d719d6ce52e0129e891e3a7ca\", element=\"8ebb2c30-987b-4ac5-9053-a54ad66d3095\")>,\n",
       " <selenium.webdriver.remote.webelement.WebElement (session=\"fea66b8d719d6ce52e0129e891e3a7ca\", element=\"e2cdb6db-017a-43f5-aef3-bed3ab6861d3\")>,\n",
       " <selenium.webdriver.remote.webelement.WebElement (session=\"fea66b8d719d6ce52e0129e891e3a7ca\", element=\"4c853ea3-e7d7-4f1d-9803-0dcc9deb875a\")>,\n",
       " <selenium.webdriver.remote.webelement.WebElement (session=\"fea66b8d719d6ce52e0129e891e3a7ca\", element=\"57ee3375-5381-4ea9-8388-f82ab13ac88c\")>,\n",
       " <selenium.webdriver.remote.webelement.WebElement (session=\"fea66b8d719d6ce52e0129e891e3a7ca\", element=\"6b5ebeb3-5622-43a3-9ff5-e875832481d6\")>,\n",
       " <selenium.webdriver.remote.webelement.WebElement (session=\"fea66b8d719d6ce52e0129e891e3a7ca\", element=\"4242539c-234e-408f-8726-212703acd868\")>,\n",
       " <selenium.webdriver.remote.webelement.WebElement (session=\"fea66b8d719d6ce52e0129e891e3a7ca\", element=\"45a5b159-5cdb-419b-8a83-f125809527d5\")>,\n",
       " <selenium.webdriver.remote.webelement.WebElement (session=\"fea66b8d719d6ce52e0129e891e3a7ca\", element=\"fd12fbd1-0b20-4209-be97-fb70894191c3\")>,\n",
       " <selenium.webdriver.remote.webelement.WebElement (session=\"fea66b8d719d6ce52e0129e891e3a7ca\", element=\"93bd3a36-cbce-4a47-8d11-1f805d9d1160\")>,\n",
       " <selenium.webdriver.remote.webelement.WebElement (session=\"fea66b8d719d6ce52e0129e891e3a7ca\", element=\"983f2de5-1e65-4889-8888-67a6b5fcdbb2\")>,\n",
       " <selenium.webdriver.remote.webelement.WebElement (session=\"fea66b8d719d6ce52e0129e891e3a7ca\", element=\"d3367f74-f510-41ce-bd58-4f18e56ff83b\")>,\n",
       " <selenium.webdriver.remote.webelement.WebElement (session=\"fea66b8d719d6ce52e0129e891e3a7ca\", element=\"e05fbdc8-3f05-4bbf-8215-f30c6f6ade47\")>,\n",
       " <selenium.webdriver.remote.webelement.WebElement (session=\"fea66b8d719d6ce52e0129e891e3a7ca\", element=\"fad04ae0-df1c-4899-8fc2-910a7071da1b\")>,\n",
       " <selenium.webdriver.remote.webelement.WebElement (session=\"fea66b8d719d6ce52e0129e891e3a7ca\", element=\"da64f433-0110-4902-b43b-692afd12fe3d\")>,\n",
       " <selenium.webdriver.remote.webelement.WebElement (session=\"fea66b8d719d6ce52e0129e891e3a7ca\", element=\"2e7ae17d-adf1-4ffc-ae10-3917879294f7\")>,\n",
       " <selenium.webdriver.remote.webelement.WebElement (session=\"fea66b8d719d6ce52e0129e891e3a7ca\", element=\"531d72ab-1b6b-49c3-a821-00d363d2c37d\")>,\n",
       " <selenium.webdriver.remote.webelement.WebElement (session=\"fea66b8d719d6ce52e0129e891e3a7ca\", element=\"82ab1a9c-19eb-4c35-81cb-dc05c63042de\")>,\n",
       " <selenium.webdriver.remote.webelement.WebElement (session=\"fea66b8d719d6ce52e0129e891e3a7ca\", element=\"42740ff9-1bc8-43ed-bb1c-30c226f26a52\")>,\n",
       " <selenium.webdriver.remote.webelement.WebElement (session=\"fea66b8d719d6ce52e0129e891e3a7ca\", element=\"9fab83e5-32a1-46e1-8351-848e6b2f1c63\")>,\n",
       " <selenium.webdriver.remote.webelement.WebElement (session=\"fea66b8d719d6ce52e0129e891e3a7ca\", element=\"fc6b4d4f-c5d0-475d-b77c-bb49a5f39287\")>,\n",
       " <selenium.webdriver.remote.webelement.WebElement (session=\"fea66b8d719d6ce52e0129e891e3a7ca\", element=\"1d01811d-95b6-43bb-b35b-4a74262fffd6\")>,\n",
       " <selenium.webdriver.remote.webelement.WebElement (session=\"fea66b8d719d6ce52e0129e891e3a7ca\", element=\"ebcdd10b-1c78-4c5a-bc66-1bfaf732607a\")>,\n",
       " <selenium.webdriver.remote.webelement.WebElement (session=\"fea66b8d719d6ce52e0129e891e3a7ca\", element=\"e0be144b-28b7-4866-86ae-678efe56daed\")>,\n",
       " <selenium.webdriver.remote.webelement.WebElement (session=\"fea66b8d719d6ce52e0129e891e3a7ca\", element=\"bddeb19a-87d0-497e-80e9-2785c5d8a089\")>,\n",
       " <selenium.webdriver.remote.webelement.WebElement (session=\"fea66b8d719d6ce52e0129e891e3a7ca\", element=\"ccbe76a9-b1ea-425a-b122-c4a2d8e9f7d8\")>,\n",
       " <selenium.webdriver.remote.webelement.WebElement (session=\"fea66b8d719d6ce52e0129e891e3a7ca\", element=\"55ed4ec0-6098-4880-a07d-9e2e04cd6aee\")>,\n",
       " <selenium.webdriver.remote.webelement.WebElement (session=\"fea66b8d719d6ce52e0129e891e3a7ca\", element=\"10da7a10-a79d-4eb6-af2d-fc79aa392043\")>,\n",
       " <selenium.webdriver.remote.webelement.WebElement (session=\"fea66b8d719d6ce52e0129e891e3a7ca\", element=\"0d363ab0-eebb-4d4d-8361-b99e965e7007\")>,\n",
       " <selenium.webdriver.remote.webelement.WebElement (session=\"fea66b8d719d6ce52e0129e891e3a7ca\", element=\"0969ceb3-60a7-4dc1-b495-fcee633a0891\")>,\n",
       " <selenium.webdriver.remote.webelement.WebElement (session=\"fea66b8d719d6ce52e0129e891e3a7ca\", element=\"508b21dc-65d2-4911-94ee-fb79df2344ef\")>,\n",
       " <selenium.webdriver.remote.webelement.WebElement (session=\"fea66b8d719d6ce52e0129e891e3a7ca\", element=\"7adc3cc1-bab0-4636-9c51-63b95e0ed538\")>,\n",
       " <selenium.webdriver.remote.webelement.WebElement (session=\"fea66b8d719d6ce52e0129e891e3a7ca\", element=\"e399b66c-64b4-490d-8afe-221d898051e2\")>,\n",
       " <selenium.webdriver.remote.webelement.WebElement (session=\"fea66b8d719d6ce52e0129e891e3a7ca\", element=\"6c7874bb-8be6-4477-886a-92694d687811\")>,\n",
       " <selenium.webdriver.remote.webelement.WebElement (session=\"fea66b8d719d6ce52e0129e891e3a7ca\", element=\"68075056-0d4f-4295-95a5-ae8d2573cb69\")>,\n",
       " <selenium.webdriver.remote.webelement.WebElement (session=\"fea66b8d719d6ce52e0129e891e3a7ca\", element=\"e1c1a92b-dd96-4457-9275-595cf1ea139d\")>,\n",
       " <selenium.webdriver.remote.webelement.WebElement (session=\"fea66b8d719d6ce52e0129e891e3a7ca\", element=\"fa7f70fe-8748-432e-a16a-47aaab974fbb\")>,\n",
       " <selenium.webdriver.remote.webelement.WebElement (session=\"fea66b8d719d6ce52e0129e891e3a7ca\", element=\"2ec55767-08f9-4f2b-affb-9bc546ddf861\")>,\n",
       " <selenium.webdriver.remote.webelement.WebElement (session=\"fea66b8d719d6ce52e0129e891e3a7ca\", element=\"8e1c12eb-c050-4949-af00-ca8df8748c96\")>,\n",
       " <selenium.webdriver.remote.webelement.WebElement (session=\"fea66b8d719d6ce52e0129e891e3a7ca\", element=\"01826262-b3ac-49d1-8e66-ac90e0bfe6f7\")>,\n",
       " <selenium.webdriver.remote.webelement.WebElement (session=\"fea66b8d719d6ce52e0129e891e3a7ca\", element=\"f1357dfc-8ce0-4cf7-b6a9-0a1f3084217c\")>,\n",
       " <selenium.webdriver.remote.webelement.WebElement (session=\"fea66b8d719d6ce52e0129e891e3a7ca\", element=\"06037c7d-a091-4a71-88c2-cb620b74aa2d\")>,\n",
       " <selenium.webdriver.remote.webelement.WebElement (session=\"fea66b8d719d6ce52e0129e891e3a7ca\", element=\"4dc53eb2-923e-495f-b8cb-a9d7c0d901e4\")>,\n",
       " <selenium.webdriver.remote.webelement.WebElement (session=\"fea66b8d719d6ce52e0129e891e3a7ca\", element=\"fc0c0036-fa0e-424d-8d80-0eb6868a2791\")>,\n",
       " <selenium.webdriver.remote.webelement.WebElement (session=\"fea66b8d719d6ce52e0129e891e3a7ca\", element=\"516eb088-1d02-42c5-be45-c3c0a98a7d5e\")>,\n",
       " <selenium.webdriver.remote.webelement.WebElement (session=\"fea66b8d719d6ce52e0129e891e3a7ca\", element=\"4a4a45b0-b11f-47f6-b5d4-3afe1e1aa942\")>,\n",
       " <selenium.webdriver.remote.webelement.WebElement (session=\"fea66b8d719d6ce52e0129e891e3a7ca\", element=\"516db3e6-a2a2-4bf5-8a89-30dd16efd777\")>,\n",
       " <selenium.webdriver.remote.webelement.WebElement (session=\"fea66b8d719d6ce52e0129e891e3a7ca\", element=\"d50c6087-d914-423e-99ba-2fab008b04c2\")>,\n",
       " <selenium.webdriver.remote.webelement.WebElement (session=\"fea66b8d719d6ce52e0129e891e3a7ca\", element=\"0afc6266-11f2-454d-8353-4d8f04f90321\")>,\n",
       " <selenium.webdriver.remote.webelement.WebElement (session=\"fea66b8d719d6ce52e0129e891e3a7ca\", element=\"3b1ae673-e564-4641-83ea-35698dd88e26\")>,\n",
       " <selenium.webdriver.remote.webelement.WebElement (session=\"fea66b8d719d6ce52e0129e891e3a7ca\", element=\"1e73c845-d57a-40ba-9ef6-c20b93bb3f24\")>,\n",
       " <selenium.webdriver.remote.webelement.WebElement (session=\"fea66b8d719d6ce52e0129e891e3a7ca\", element=\"3d9d5232-a1cb-447f-b546-01c45123d590\")>,\n",
       " <selenium.webdriver.remote.webelement.WebElement (session=\"fea66b8d719d6ce52e0129e891e3a7ca\", element=\"2d3f01fa-22dd-4c7a-8ca1-fbfea9fa5fed\")>,\n",
       " <selenium.webdriver.remote.webelement.WebElement (session=\"fea66b8d719d6ce52e0129e891e3a7ca\", element=\"0ef2a45b-fa40-4599-85af-d891f1959d8d\")>,\n",
       " <selenium.webdriver.remote.webelement.WebElement (session=\"fea66b8d719d6ce52e0129e891e3a7ca\", element=\"6247cdf8-7238-4fca-b662-8fb5b3af636a\")>,\n",
       " <selenium.webdriver.remote.webelement.WebElement (session=\"fea66b8d719d6ce52e0129e891e3a7ca\", element=\"ac259ee9-68d6-4c41-9ee7-15a97ea2cafe\")>,\n",
       " <selenium.webdriver.remote.webelement.WebElement (session=\"fea66b8d719d6ce52e0129e891e3a7ca\", element=\"89bd262c-b832-4fb2-a938-644e34a141b0\")>,\n",
       " <selenium.webdriver.remote.webelement.WebElement (session=\"fea66b8d719d6ce52e0129e891e3a7ca\", element=\"eeb3443e-5fcd-4ae8-ba7f-7399c687f735\")>,\n",
       " <selenium.webdriver.remote.webelement.WebElement (session=\"fea66b8d719d6ce52e0129e891e3a7ca\", element=\"ab37abc2-ee8c-46d8-acb3-bbaddb3679e1\")>,\n",
       " <selenium.webdriver.remote.webelement.WebElement (session=\"fea66b8d719d6ce52e0129e891e3a7ca\", element=\"a1747e4b-e88d-43a6-abad-e4ad674bf088\")>,\n",
       " <selenium.webdriver.remote.webelement.WebElement (session=\"fea66b8d719d6ce52e0129e891e3a7ca\", element=\"8b9ed2bd-2653-4e56-9344-33fe290dcbe5\")>,\n",
       " <selenium.webdriver.remote.webelement.WebElement (session=\"fea66b8d719d6ce52e0129e891e3a7ca\", element=\"b7daf82e-f40d-448f-93b6-36da2db5309c\")>,\n",
       " <selenium.webdriver.remote.webelement.WebElement (session=\"fea66b8d719d6ce52e0129e891e3a7ca\", element=\"3719306a-0bb5-4d8e-9919-dc7f8bc42eb6\")>,\n",
       " <selenium.webdriver.remote.webelement.WebElement (session=\"fea66b8d719d6ce52e0129e891e3a7ca\", element=\"5dc63f80-576e-412c-8340-aaba3d523bb8\")>,\n",
       " <selenium.webdriver.remote.webelement.WebElement (session=\"fea66b8d719d6ce52e0129e891e3a7ca\", element=\"9f48e62b-af15-4457-bbbb-1462db409cf4\")>,\n",
       " <selenium.webdriver.remote.webelement.WebElement (session=\"fea66b8d719d6ce52e0129e891e3a7ca\", element=\"6518bb0e-dc5e-4258-9f8b-1faab50444e6\")>,\n",
       " <selenium.webdriver.remote.webelement.WebElement (session=\"fea66b8d719d6ce52e0129e891e3a7ca\", element=\"be693aae-6b86-4e9a-ba4a-abd3755c700b\")>,\n",
       " <selenium.webdriver.remote.webelement.WebElement (session=\"fea66b8d719d6ce52e0129e891e3a7ca\", element=\"72d6e531-5132-496c-ba37-45ea7c5ec3c2\")>,\n",
       " <selenium.webdriver.remote.webelement.WebElement (session=\"fea66b8d719d6ce52e0129e891e3a7ca\", element=\"b391a9b2-7d15-42eb-8410-2b5198b34b4a\")>,\n",
       " <selenium.webdriver.remote.webelement.WebElement (session=\"fea66b8d719d6ce52e0129e891e3a7ca\", element=\"f042f393-005f-4138-8543-23f24c474b38\")>,\n",
       " <selenium.webdriver.remote.webelement.WebElement (session=\"fea66b8d719d6ce52e0129e891e3a7ca\", element=\"75659e96-2cd7-4c77-a1e4-61ea808b5d36\")>,\n",
       " <selenium.webdriver.remote.webelement.WebElement (session=\"fea66b8d719d6ce52e0129e891e3a7ca\", element=\"1aa56ce3-5ded-4df1-9689-83f6a6d48899\")>,\n",
       " <selenium.webdriver.remote.webelement.WebElement (session=\"fea66b8d719d6ce52e0129e891e3a7ca\", element=\"b07984a5-9def-4f9f-95f1-f1530ecbf127\")>,\n",
       " <selenium.webdriver.remote.webelement.WebElement (session=\"fea66b8d719d6ce52e0129e891e3a7ca\", element=\"f9f6f13a-ba94-481d-9ec2-6c38ee2d17d8\")>,\n",
       " <selenium.webdriver.remote.webelement.WebElement (session=\"fea66b8d719d6ce52e0129e891e3a7ca\", element=\"2a3a6ca1-897d-4e2e-9dd3-d58524e26897\")>,\n",
       " <selenium.webdriver.remote.webelement.WebElement (session=\"fea66b8d719d6ce52e0129e891e3a7ca\", element=\"4c1edfe2-5e78-482d-9c56-513dd024d67c\")>,\n",
       " <selenium.webdriver.remote.webelement.WebElement (session=\"fea66b8d719d6ce52e0129e891e3a7ca\", element=\"5475e88d-7b48-4f9e-b339-41e10b68eee4\")>,\n",
       " <selenium.webdriver.remote.webelement.WebElement (session=\"fea66b8d719d6ce52e0129e891e3a7ca\", element=\"f5b18b42-7a2b-4ded-9387-6d3d68b27e1b\")>,\n",
       " <selenium.webdriver.remote.webelement.WebElement (session=\"fea66b8d719d6ce52e0129e891e3a7ca\", element=\"54c7ddad-57cd-4cf4-be38-4b055e477ee8\")>,\n",
       " <selenium.webdriver.remote.webelement.WebElement (session=\"fea66b8d719d6ce52e0129e891e3a7ca\", element=\"a64cbc7b-9f14-449e-a629-852d8b45eeb1\")>,\n",
       " <selenium.webdriver.remote.webelement.WebElement (session=\"fea66b8d719d6ce52e0129e891e3a7ca\", element=\"aff45790-a18f-4fc3-97e1-66a73c6b595d\")>,\n",
       " <selenium.webdriver.remote.webelement.WebElement (session=\"fea66b8d719d6ce52e0129e891e3a7ca\", element=\"192840a8-deef-4427-8f3a-92a533825724\")>,\n",
       " <selenium.webdriver.remote.webelement.WebElement (session=\"fea66b8d719d6ce52e0129e891e3a7ca\", element=\"66416670-db2f-42c4-9f43-0073ddafcb7e\")>,\n",
       " <selenium.webdriver.remote.webelement.WebElement (session=\"fea66b8d719d6ce52e0129e891e3a7ca\", element=\"7e1673a7-e48d-40b3-a405-9c4ed3df0c9f\")>,\n",
       " <selenium.webdriver.remote.webelement.WebElement (session=\"fea66b8d719d6ce52e0129e891e3a7ca\", element=\"e09a1ec3-f07b-4c2e-9906-0c4352fcaf5c\")>,\n",
       " <selenium.webdriver.remote.webelement.WebElement (session=\"fea66b8d719d6ce52e0129e891e3a7ca\", element=\"aa82bbea-568e-4103-8e32-d374328779b1\")>,\n",
       " <selenium.webdriver.remote.webelement.WebElement (session=\"fea66b8d719d6ce52e0129e891e3a7ca\", element=\"6dd58cdf-32fc-4040-ba89-f74a6535f2c2\")>,\n",
       " <selenium.webdriver.remote.webelement.WebElement (session=\"fea66b8d719d6ce52e0129e891e3a7ca\", element=\"a1131e88-ecbe-4e1b-a097-a62468f07135\")>,\n",
       " <selenium.webdriver.remote.webelement.WebElement (session=\"fea66b8d719d6ce52e0129e891e3a7ca\", element=\"e718ace7-2a34-42e5-a33a-ab0648e4fc18\")>,\n",
       " <selenium.webdriver.remote.webelement.WebElement (session=\"fea66b8d719d6ce52e0129e891e3a7ca\", element=\"9a488ba3-3c39-41c8-994a-899006014888\")>,\n",
       " <selenium.webdriver.remote.webelement.WebElement (session=\"fea66b8d719d6ce52e0129e891e3a7ca\", element=\"20b08cef-9fff-4267-a367-6c09213df31f\")>,\n",
       " <selenium.webdriver.remote.webelement.WebElement (session=\"fea66b8d719d6ce52e0129e891e3a7ca\", element=\"c976707d-6ab3-4bfd-8530-3f49ce6c002d\")>,\n",
       " <selenium.webdriver.remote.webelement.WebElement (session=\"fea66b8d719d6ce52e0129e891e3a7ca\", element=\"d0e33125-f2c2-4f6e-99be-761ee6e2de24\")>,\n",
       " <selenium.webdriver.remote.webelement.WebElement (session=\"fea66b8d719d6ce52e0129e891e3a7ca\", element=\"ce4e22bd-7f0b-43f4-a6f3-cd94bccba036\")>,\n",
       " <selenium.webdriver.remote.webelement.WebElement (session=\"fea66b8d719d6ce52e0129e891e3a7ca\", element=\"dcdcc92b-a428-4895-8565-d4390f7b7c7a\")>,\n",
       " <selenium.webdriver.remote.webelement.WebElement (session=\"fea66b8d719d6ce52e0129e891e3a7ca\", element=\"244ed305-c8bf-42ba-80dc-4993eeec4afb\")>,\n",
       " <selenium.webdriver.remote.webelement.WebElement (session=\"fea66b8d719d6ce52e0129e891e3a7ca\", element=\"50a5b144-dde9-47d8-ba79-807da8a3744f\")>,\n",
       " <selenium.webdriver.remote.webelement.WebElement (session=\"fea66b8d719d6ce52e0129e891e3a7ca\", element=\"29a65054-89d1-4707-9936-bd95faf25253\")>,\n",
       " <selenium.webdriver.remote.webelement.WebElement (session=\"fea66b8d719d6ce52e0129e891e3a7ca\", element=\"50401875-c867-4fb5-92f1-d75b682b689a\")>,\n",
       " <selenium.webdriver.remote.webelement.WebElement (session=\"fea66b8d719d6ce52e0129e891e3a7ca\", element=\"31fccc80-db46-4e8a-9e0c-f68c40d98e47\")>,\n",
       " <selenium.webdriver.remote.webelement.WebElement (session=\"fea66b8d719d6ce52e0129e891e3a7ca\", element=\"8c9aa3fb-0388-47b2-8643-d09f8548bbf6\")>,\n",
       " <selenium.webdriver.remote.webelement.WebElement (session=\"fea66b8d719d6ce52e0129e891e3a7ca\", element=\"7dd898e0-bc49-407e-af78-718fa024b2b3\")>,\n",
       " <selenium.webdriver.remote.webelement.WebElement (session=\"fea66b8d719d6ce52e0129e891e3a7ca\", element=\"26de8335-b82f-4eaa-bae5-81e73f09e588\")>,\n",
       " <selenium.webdriver.remote.webelement.WebElement (session=\"fea66b8d719d6ce52e0129e891e3a7ca\", element=\"21bec02b-12ca-4eb6-886a-c06ec1b34003\")>,\n",
       " <selenium.webdriver.remote.webelement.WebElement (session=\"fea66b8d719d6ce52e0129e891e3a7ca\", element=\"72e72f98-fdee-4edb-8add-fb0394941a28\")>,\n",
       " <selenium.webdriver.remote.webelement.WebElement (session=\"fea66b8d719d6ce52e0129e891e3a7ca\", element=\"4bc51689-4eab-4823-bd35-88a2d9d605a9\")>,\n",
       " <selenium.webdriver.remote.webelement.WebElement (session=\"fea66b8d719d6ce52e0129e891e3a7ca\", element=\"4d98c6f6-a715-45f3-932a-46931db39fcb\")>,\n",
       " <selenium.webdriver.remote.webelement.WebElement (session=\"fea66b8d719d6ce52e0129e891e3a7ca\", element=\"8f30be6f-751c-4b70-bccd-562548668c35\")>,\n",
       " <selenium.webdriver.remote.webelement.WebElement (session=\"fea66b8d719d6ce52e0129e891e3a7ca\", element=\"4f36a6e9-5d0e-4d3d-8989-8ef1a8ed7043\")>,\n",
       " <selenium.webdriver.remote.webelement.WebElement (session=\"fea66b8d719d6ce52e0129e891e3a7ca\", element=\"1dcb4523-19a6-4440-b227-daf59a4d9482\")>,\n",
       " <selenium.webdriver.remote.webelement.WebElement (session=\"fea66b8d719d6ce52e0129e891e3a7ca\", element=\"05973f06-4880-4b51-bc86-50914d8cdebd\")>,\n",
       " <selenium.webdriver.remote.webelement.WebElement (session=\"fea66b8d719d6ce52e0129e891e3a7ca\", element=\"969f3448-c308-47b1-a534-30824a534c94\")>,\n",
       " <selenium.webdriver.remote.webelement.WebElement (session=\"fea66b8d719d6ce52e0129e891e3a7ca\", element=\"e7b4564b-0d75-4064-8753-e63cdfb60885\")>,\n",
       " <selenium.webdriver.remote.webelement.WebElement (session=\"fea66b8d719d6ce52e0129e891e3a7ca\", element=\"f112425c-65b1-40e3-ac2e-ec0fac4cc98e\")>,\n",
       " <selenium.webdriver.remote.webelement.WebElement (session=\"fea66b8d719d6ce52e0129e891e3a7ca\", element=\"9a18afb8-2f67-4a8c-be2f-14e2eb512457\")>,\n",
       " <selenium.webdriver.remote.webelement.WebElement (session=\"fea66b8d719d6ce52e0129e891e3a7ca\", element=\"fe40a6ee-2f2b-4c5e-a743-561f94494a65\")>,\n",
       " <selenium.webdriver.remote.webelement.WebElement (session=\"fea66b8d719d6ce52e0129e891e3a7ca\", element=\"f32a46eb-f21a-49b9-b6e0-20e5c36b4fbd\")>,\n",
       " <selenium.webdriver.remote.webelement.WebElement (session=\"fea66b8d719d6ce52e0129e891e3a7ca\", element=\"57d900be-6fd5-44ca-93f5-4235c39e9364\")>,\n",
       " <selenium.webdriver.remote.webelement.WebElement (session=\"fea66b8d719d6ce52e0129e891e3a7ca\", element=\"a14b7212-2535-43ff-8bf2-2edb8377db77\")>,\n",
       " <selenium.webdriver.remote.webelement.WebElement (session=\"fea66b8d719d6ce52e0129e891e3a7ca\", element=\"6b43f805-e9ed-481d-8023-8389872a3b2a\")>,\n",
       " <selenium.webdriver.remote.webelement.WebElement (session=\"fea66b8d719d6ce52e0129e891e3a7ca\", element=\"558e8db4-b0d8-4ac9-ad85-413baccc032a\")>,\n",
       " <selenium.webdriver.remote.webelement.WebElement (session=\"fea66b8d719d6ce52e0129e891e3a7ca\", element=\"ef34fcdb-b831-4ed7-be72-2ccbefc3b452\")>,\n",
       " <selenium.webdriver.remote.webelement.WebElement (session=\"fea66b8d719d6ce52e0129e891e3a7ca\", element=\"08554ddc-3c72-4624-82b1-302593d0c179\")>,\n",
       " <selenium.webdriver.remote.webelement.WebElement (session=\"fea66b8d719d6ce52e0129e891e3a7ca\", element=\"09e901bc-47cc-44d9-b93e-a1c9a5a5735c\")>,\n",
       " <selenium.webdriver.remote.webelement.WebElement (session=\"fea66b8d719d6ce52e0129e891e3a7ca\", element=\"bcd07f57-cdcd-4a90-af41-e8d7727dae5c\")>,\n",
       " <selenium.webdriver.remote.webelement.WebElement (session=\"fea66b8d719d6ce52e0129e891e3a7ca\", element=\"a7a2df3f-9895-4060-8028-7fdb4de0d8c6\")>,\n",
       " <selenium.webdriver.remote.webelement.WebElement (session=\"fea66b8d719d6ce52e0129e891e3a7ca\", element=\"f968fad5-3b98-4966-8080-b26bec891d45\")>,\n",
       " <selenium.webdriver.remote.webelement.WebElement (session=\"fea66b8d719d6ce52e0129e891e3a7ca\", element=\"bb335ce8-ff78-46da-bcc5-5ec2319bf885\")>,\n",
       " <selenium.webdriver.remote.webelement.WebElement (session=\"fea66b8d719d6ce52e0129e891e3a7ca\", element=\"c76b0bfb-63c5-4233-b25b-4f268a5e7964\")>,\n",
       " <selenium.webdriver.remote.webelement.WebElement (session=\"fea66b8d719d6ce52e0129e891e3a7ca\", element=\"a2835acb-8469-49c4-8c3b-c97637338460\")>,\n",
       " <selenium.webdriver.remote.webelement.WebElement (session=\"fea66b8d719d6ce52e0129e891e3a7ca\", element=\"51d7fc63-e437-4bde-998f-cca720cef7f1\")>,\n",
       " <selenium.webdriver.remote.webelement.WebElement (session=\"fea66b8d719d6ce52e0129e891e3a7ca\", element=\"5d2423d6-4b7a-4882-98d0-3952b69bae10\")>,\n",
       " <selenium.webdriver.remote.webelement.WebElement (session=\"fea66b8d719d6ce52e0129e891e3a7ca\", element=\"f08172c5-c415-4487-ac6c-753d2709a0ad\")>,\n",
       " <selenium.webdriver.remote.webelement.WebElement (session=\"fea66b8d719d6ce52e0129e891e3a7ca\", element=\"b176d18d-d6c5-4171-8922-248507d265f1\")>,\n",
       " <selenium.webdriver.remote.webelement.WebElement (session=\"fea66b8d719d6ce52e0129e891e3a7ca\", element=\"4eb26110-7767-491a-b5c9-cdd0e98d2678\")>,\n",
       " <selenium.webdriver.remote.webelement.WebElement (session=\"fea66b8d719d6ce52e0129e891e3a7ca\", element=\"0947c552-0e68-4cf5-81d9-ea93dbd22555\")>,\n",
       " <selenium.webdriver.remote.webelement.WebElement (session=\"fea66b8d719d6ce52e0129e891e3a7ca\", element=\"75573769-dc8e-432b-90e0-95e6798b72b2\")>,\n",
       " <selenium.webdriver.remote.webelement.WebElement (session=\"fea66b8d719d6ce52e0129e891e3a7ca\", element=\"f5df89c4-447e-4c9a-a49b-f5915661cb97\")>,\n",
       " <selenium.webdriver.remote.webelement.WebElement (session=\"fea66b8d719d6ce52e0129e891e3a7ca\", element=\"7db2241a-252c-469d-84e5-fa157d3d6304\")>,\n",
       " <selenium.webdriver.remote.webelement.WebElement (session=\"fea66b8d719d6ce52e0129e891e3a7ca\", element=\"bd5a1fcd-39ee-45eb-a33a-5424f3013570\")>,\n",
       " <selenium.webdriver.remote.webelement.WebElement (session=\"fea66b8d719d6ce52e0129e891e3a7ca\", element=\"77f79f2d-3536-4704-a05d-097443599aaf\")>,\n",
       " <selenium.webdriver.remote.webelement.WebElement (session=\"fea66b8d719d6ce52e0129e891e3a7ca\", element=\"3b411682-0148-4394-bb2c-ddb3e932e6c0\")>,\n",
       " <selenium.webdriver.remote.webelement.WebElement (session=\"fea66b8d719d6ce52e0129e891e3a7ca\", element=\"c0b46d27-6a75-46a4-ac5a-3d9e9b6b8bd1\")>,\n",
       " <selenium.webdriver.remote.webelement.WebElement (session=\"fea66b8d719d6ce52e0129e891e3a7ca\", element=\"3ea8d04f-183b-432c-8ef7-879bc4959311\")>,\n",
       " <selenium.webdriver.remote.webelement.WebElement (session=\"fea66b8d719d6ce52e0129e891e3a7ca\", element=\"1567e34f-1c4a-4f39-bb37-2a5d49911af4\")>,\n",
       " <selenium.webdriver.remote.webelement.WebElement (session=\"fea66b8d719d6ce52e0129e891e3a7ca\", element=\"5970d012-6dab-46e2-93c3-7805e015da1b\")>]"
      ]
     },
     "execution_count": 43,
     "metadata": {},
     "output_type": "execute_result"
    }
   ],
   "source": [
    "iframe = driver.find_element_by_name(\"ifrmSeat\")\n",
    "driver.switch_to_frame(iframe)\n",
    "driver.find_element_by_css_selector(\"div.seatL\")\n",
    "iframe2 = driver.find_element_by_name(\"ifrmSeatDetail\")\n",
    "driver.switch_to_frame(iframe2)\n",
    "driver.find_elements_by_css_selector(\"#TmgsTable img.stySeat\")"
   ]
  },
  {
   "cell_type": "code",
   "execution_count": 143,
   "metadata": {
    "collapsed": true
   },
   "outputs": [
    {
     "name": "stdout",
     "output_type": "stream",
     "text": [
      "__class__\n",
      "__delattr__\n",
      "__dict__\n",
      "__dir__\n",
      "__doc__\n",
      "__eq__\n",
      "__format__\n",
      "__ge__\n",
      "__getattribute__\n",
      "__gt__\n",
      "__hash__\n",
      "__init__\n",
      "__init_subclass__\n",
      "__le__\n",
      "__lt__\n",
      "__module__\n",
      "__ne__\n",
      "__new__\n",
      "__reduce__\n",
      "__reduce_ex__\n",
      "__repr__\n",
      "__setattr__\n",
      "__sizeof__\n",
      "__str__\n",
      "__subclasshook__\n",
      "__weakref__\n",
      "_execute\n",
      "_id\n",
      "_parent\n",
      "_upload\n",
      "_w3c\n",
      "clear\n",
      "click\n",
      "find_element\n",
      "find_element_by_class_name\n",
      "find_element_by_css_selector\n",
      "find_element_by_id\n",
      "find_element_by_link_text\n",
      "find_element_by_name\n",
      "find_element_by_partial_link_text\n",
      "find_element_by_tag_name\n",
      "find_element_by_xpath\n",
      "find_elements\n",
      "find_elements_by_class_name\n",
      "find_elements_by_css_selector\n",
      "find_elements_by_id\n",
      "find_elements_by_link_text\n",
      "find_elements_by_name\n",
      "find_elements_by_partial_link_text\n",
      "find_elements_by_tag_name\n",
      "find_elements_by_xpath\n",
      "get_attribute\n",
      "get_property\n",
      "id\n",
      "is_displayed\n",
      "is_enabled\n",
      "is_selected\n",
      "location\n",
      "location_once_scrolled_into_view\n",
      "parent\n",
      "rect\n",
      "screenshot\n",
      "screenshot_as_base64\n",
      "screenshot_as_png\n",
      "send_keys\n",
      "size\n",
      "submit\n",
      "tag_name\n",
      "text\n",
      "value_of_css_property\n"
     ]
    },
    {
     "name": "stderr",
     "output_type": "stream",
     "text": [
      "C:\\Users\\SeoDongUk\\Anaconda3\\lib\\site-packages\\ipykernel_launcher.py:2: DeprecationWarning: use driver.switch_to.frame instead\n",
      "  \n",
      "C:\\Users\\SeoDongUk\\Anaconda3\\lib\\site-packages\\ipykernel_launcher.py:5: DeprecationWarning: use driver.switch_to.frame instead\n",
      "  \"\"\"\n",
      "C:\\Users\\SeoDongUk\\Anaconda3\\lib\\site-packages\\ipykernel_launcher.py:14: DeprecationWarning: use driver.switch_to.default_content instead\n",
      "  \n"
     ]
    }
   ],
   "source": [
    "iframe = driver.find_element_by_name(\"ifrmSeat\")\n",
    "driver.switch_to_frame(iframe)\n",
    "driver.find_element_by_css_selector(\"div.seatL\")\n",
    "iframe2 = driver.find_element_by_name(\"ifrmSeatDetail\")\n",
    "driver.switch_to_frame(iframe2)\n",
    "a = driver.f find_element_by_css_selector(\"body > #TmgsTable img.stySeat\")\n",
    "for _ in dir(a):\n",
    "    print(_)\n",
    "# seatList = []\n",
    "# for i,_ in enumerate(driver.find_elements_by_css_selector(\"body > #TmgsTable img.stySeat\")):\n",
    "#     seatinfo = re.search(\n",
    "#         r\"\\s'([A-Z]).+?[ ](.+?).',[ ]'(.+?)',\", _.get_attribute('onclick')\n",
    "#         ).groups()\n",
    "driver.switch_to_default_content()"
   ]
  },
  {
   "cell_type": "code",
   "execution_count": 144,
   "metadata": {},
   "outputs": [],
   "source": [
    "def BestSeat(AREA = None,num = 1):    \n",
    "    iframe = driver.find_element_by_name(\"ifrmSeat\")\n",
    "    driver.switch_to_frame(iframe)\n",
    "    driver.find_element_by_css_selector(\"div.seatL\")\n",
    "    iframe2 = driver.find_element_by_name(\"ifrmSeatDetail\")\n",
    "    driver.switch_to_frame(iframe2)\n",
    "\n",
    "    seatDict = {'A':{},'B':{},'C':{},'D':{},'E':{}}\n",
    "    seatList = []\n",
    "    print(\"start\")\n",
    "    for i,_ in enumerate(driver.find_elements_by_css_selector(\"body > #TmgsTable img.stySeat\")):\n",
    "        seatinfo = re.search(\n",
    "        r\"\\s'([A-Z]).+?[ ](.+?).',[ ]'(.+?)',\", _.get_attribute('onclick')\n",
    "        ).groups()\n",
    "        seatList.append(_)\n",
    "        try:\n",
    "            seatDict[seatinfo[0]][int(seatinfo[1])].append((seatinfo[2],i))\n",
    "        except:\n",
    "            seatDict[seatinfo[0]][int(seatinfo[1])] = [(seatinfo[2],i)]\n",
    "    print(\"end\")\n",
    "    if not AREA:\n",
    "        area = random.sample(sorted(seatDict.keys())[:3],1)\n",
    "    else:\n",
    "        area = AREA\n",
    "        \n",
    "    for _ in range(num):\n",
    "        row = sorted(seatDict[area[0]].keys())[0]\n",
    "        sel = random.choice(seatDict[area[0]][row])\n",
    "        selected = sel[1]\n",
    "        seatDict[area[0]][row].remove(sel)\n",
    "        if seatDict[area[0]][row]==[]:\n",
    "            del seatDict[area[0]][row]\n",
    "        driver.execute_script(seatList[selected].get_attribute(\"onclick\"))\n",
    "    driver.switch_to_default_content()"
   ]
  },
  {
   "cell_type": "code",
   "execution_count": 76,
   "metadata": {},
   "outputs": [
    {
     "data": {
      "text/plain": [
       "{'A': {'b': 2}, 'B': 2}"
      ]
     },
     "execution_count": 76,
     "metadata": {},
     "output_type": "execute_result"
    }
   ],
   "source": [
    "dic = {\"A\":{'a':1,'b':2},\"B\":2}\n",
    "del dic[\"A\"]['a']\n",
    "dic"
   ]
  },
  {
   "cell_type": "code",
   "execution_count": 66,
   "metadata": {},
   "outputs": [
    {
     "data": {
      "text/plain": [
       "[1, 2]"
      ]
     },
     "execution_count": 66,
     "metadata": {},
     "output_type": "execute_result"
    }
   ],
   "source": [
    "random.sample([1,2],2)"
   ]
  },
  {
   "cell_type": "code",
   "execution_count": 81,
   "metadata": {
    "scrolled": false
   },
   "outputs": [
    {
     "name": "stderr",
     "output_type": "stream",
     "text": [
      "C:\\Users\\SeoDongUk\\Anaconda3\\lib\\site-packages\\ipykernel_launcher.py:2: DeprecationWarning: use driver.switch_to.window instead\n",
      "  \n"
     ]
    }
   ],
   "source": [
    "#driver.close()\n",
    "driver.switch_to_window(driver.window_handles[-2])"
   ]
  },
  {
   "cell_type": "code",
   "execution_count": 515,
   "metadata": {},
   "outputs": [
    {
     "name": "stderr",
     "output_type": "stream",
     "text": [
      "C:\\Users\\SeoDongUk\\Anaconda3\\lib\\site-packages\\ipykernel_launcher.py:4: DeprecationWarning: use driver.switch_to.frame instead\n",
      "  after removing the cwd from sys.path.\n",
      "C:\\Users\\SeoDongUk\\Anaconda3\\lib\\site-packages\\ipykernel_launcher.py:9: DeprecationWarning: use driver.switch_to.default_content instead\n",
      "  if __name__ == '__main__':\n",
      "C:\\Users\\SeoDongUk\\Anaconda3\\lib\\site-packages\\ipykernel_launcher.py:5: DeprecationWarning: use driver.switch_to.window instead\n",
      "  \"\"\"\n"
     ]
    }
   ],
   "source": [
    "clickAndBook(9)"
   ]
  },
  {
   "cell_type": "code",
   "execution_count": 536,
   "metadata": {},
   "outputs": [],
   "source": [
    "import re"
   ]
  },
  {
   "cell_type": "code",
   "execution_count": 91,
   "metadata": {},
   "outputs": [
    {
     "name": "stderr",
     "output_type": "stream",
     "text": [
      "C:\\Users\\SeoDongUk\\Anaconda3\\lib\\site-packages\\ipykernel_launcher.py:1: DeprecationWarning: use driver.switch_to.default_content instead\n",
      "  \"\"\"Entry point for launching an IPython kernel.\n"
     ]
    },
    {
     "ename": "NameError",
     "evalue": "name 'seatDict' is not defined",
     "output_type": "error",
     "traceback": [
      "\u001b[1;31m---------------------------------------------------------------------------\u001b[0m",
      "\u001b[1;31mNameError\u001b[0m                                 Traceback (most recent call last)",
      "\u001b[1;32m<ipython-input-91-36e05ebcc58d>\u001b[0m in \u001b[0;36m<module>\u001b[1;34m\u001b[0m\n\u001b[0;32m      1\u001b[0m \u001b[0mdriver\u001b[0m\u001b[1;33m.\u001b[0m\u001b[0mswitch_to_default_content\u001b[0m\u001b[1;33m(\u001b[0m\u001b[1;33m)\u001b[0m\u001b[1;33m\u001b[0m\u001b[1;33m\u001b[0m\u001b[0m\n\u001b[1;32m----> 2\u001b[1;33m \u001b[0msorted\u001b[0m\u001b[1;33m(\u001b[0m\u001b[0mseatDict\u001b[0m\u001b[1;33m[\u001b[0m\u001b[1;34m'A'\u001b[0m\u001b[1;33m]\u001b[0m\u001b[1;33m.\u001b[0m\u001b[0mkeys\u001b[0m\u001b[1;33m(\u001b[0m\u001b[1;33m)\u001b[0m\u001b[1;33m)\u001b[0m\u001b[1;33m\u001b[0m\u001b[1;33m\u001b[0m\u001b[0m\n\u001b[0m",
      "\u001b[1;31mNameError\u001b[0m: name 'seatDict' is not defined"
     ]
    }
   ],
   "source": [
    "sorted(seatDict['A'].keys())"
   ]
  },
  {
   "cell_type": "code",
   "execution_count": 146,
   "metadata": {},
   "outputs": [
    {
     "name": "stderr",
     "output_type": "stream",
     "text": [
      "C:\\Users\\SeoDongUk\\Anaconda3\\lib\\site-packages\\ipykernel_launcher.py:1: DeprecationWarning: use driver.switch_to.default_content instead\n",
      "  \"\"\"Entry point for launching an IPython kernel.\n",
      "C:\\Users\\SeoDongUk\\Anaconda3\\lib\\site-packages\\ipykernel_launcher.py:3: DeprecationWarning: use driver.switch_to.frame instead\n",
      "  This is separate from the ipykernel package so we can avoid doing imports until\n",
      "C:\\Users\\SeoDongUk\\Anaconda3\\lib\\site-packages\\ipykernel_launcher.py:6: DeprecationWarning: use driver.switch_to.frame instead\n",
      "  \n"
     ]
    },
    {
     "name": "stdout",
     "output_type": "stream",
     "text": [
      "start\n",
      "end\n"
     ]
    },
    {
     "name": "stderr",
     "output_type": "stream",
     "text": [
      "C:\\Users\\SeoDongUk\\Anaconda3\\lib\\site-packages\\ipykernel_launcher.py:34: DeprecationWarning: use driver.switch_to.default_content instead\n"
     ]
    }
   ],
   "source": [
    "driver.switch_to_default_content()\n",
    "BestSeat('A')"
   ]
  },
  {
   "cell_type": "code",
   "execution_count": 651,
   "metadata": {},
   "outputs": [
    {
     "data": {
      "text/plain": [
       "['A', 'B', 'C']"
      ]
     },
     "execution_count": 651,
     "metadata": {},
     "output_type": "execute_result"
    }
   ],
   "source": [
    "sorted(seatDict.keys())[:3]"
   ]
  },
  {
   "cell_type": "code",
   "execution_count": 633,
   "metadata": {},
   "outputs": [
    {
     "data": {
      "text/plain": [
       "['1', '2', '2', '3', '5', '6']"
      ]
     },
     "execution_count": 633,
     "metadata": {},
     "output_type": "execute_result"
    }
   ],
   "source": [
    "sorted(['1','5','2','6','2','3',])"
   ]
  },
  {
   "cell_type": "code",
   "execution_count": 677,
   "metadata": {},
   "outputs": [
    {
     "data": {
      "text/plain": [
       "3"
      ]
     },
     "execution_count": 677,
     "metadata": {},
     "output_type": "execute_result"
    }
   ],
   "source": [
    "row"
   ]
  },
  {
   "cell_type": "code",
   "execution_count": 697,
   "metadata": {},
   "outputs": [
    {
     "name": "stderr",
     "output_type": "stream",
     "text": [
      "C:\\Users\\SeoDongUk\\Anaconda3\\lib\\site-packages\\ipykernel_launcher.py:2: DeprecationWarning: use driver.switch_to.frame instead\n",
      "  \n",
      "C:\\Users\\SeoDongUk\\Anaconda3\\lib\\site-packages\\ipykernel_launcher.py:5: DeprecationWarning: use driver.switch_to.frame instead\n",
      "  \"\"\"\n",
      "C:\\Users\\SeoDongUk\\Anaconda3\\lib\\site-packages\\ipykernel_launcher.py:24: DeprecationWarning: use driver.switch_to.default_content instead\n"
     ]
    }
   ],
   "source": [
    "iframe = driver.find_element_by_name(\"ifrmSeat\")\n",
    "driver.switch_to_frame(iframe)\n",
    "driver.find_element_by_css_selector(\"div.seatL\")\n",
    "iframe2 = driver.find_element_by_name(\"ifrmSeatDetail\")\n",
    "driver.switch_to_frame(iframe2)\n",
    "\n",
    "seatDict = {'A':{},'B':{},'C':{},'D':{},'E':{}}\n",
    "seatList = []\n",
    "for i,_ in enumerate(driver.find_elements_by_css_selector(\"img.stySeat\")):\n",
    "    seatinfo = re.match(\n",
    "        r\".+?[(].+?,.+?,.+?,[ ]'(.+?)구역[ ](.+?)열',[ ]'(.+?)',.+?[)]\", _.get_attribute('onclick')\n",
    "    ).groups()\n",
    "    seatList.append(_)\n",
    "    try:\n",
    "        seatDict[seatinfo[0]][int(seatinfo[1].strip())].append((seatinfo[2],i))\n",
    "    except:\n",
    "        seatDict[seatinfo[0]][int(seatinfo[1].strip())] = [(seatinfo[2],i)]\n",
    "\n",
    "area = random.sample(sorted(seatDict.keys())[:3],1)\n",
    "row = sorted(seatDict[area[0]].keys())[0]\n",
    "selected = random.sample(seatDict[area[0]][row],1)[0][1]\n",
    "driver.execute_script(seatList[selected].get_attribute(\"onclick\"))\n",
    "#print(seatList[selected].get_attribute(\"onclick\"))\n",
    "driver.switch_to_default_content()"
   ]
  },
  {
   "cell_type": "code",
   "execution_count": 700,
   "metadata": {},
   "outputs": [],
   "source": [
    "driver.switch_to_window(driver.window_handles[0])\n",
    "# 로그인 / 로그아웃\n",
    "if \"ISession%5FID\" not in [_[\"name\"] for _ in driver.get_cookies()]:\n",
    "    login(account)\n",
    "else:\n",
    "    login(None,\"logout\")\n"
   ]
  },
  {
   "cell_type": "code",
   "execution_count": 110,
   "metadata": {},
   "outputs": [
    {
     "name": "stderr",
     "output_type": "stream",
     "text": [
      "C:\\Users\\SeoDongUk\\Anaconda3\\lib\\site-packages\\ipykernel_launcher.py:4: DeprecationWarning: use driver.switch_to.frame instead\n",
      "  after removing the cwd from sys.path.\n",
      "C:\\Users\\SeoDongUk\\Anaconda3\\lib\\site-packages\\ipykernel_launcher.py:9: DeprecationWarning: use driver.switch_to.default_content instead\n",
      "  if __name__ == '__main__':\n",
      "C:\\Users\\SeoDongUk\\Anaconda3\\lib\\site-packages\\ipykernel_launcher.py:5: DeprecationWarning: use driver.switch_to.window instead\n",
      "  \"\"\"\n"
     ]
    }
   ],
   "source": [
    "clickAndBook(9)"
   ]
  },
  {
   "cell_type": "code",
   "execution_count": 112,
   "metadata": {
    "scrolled": true
   },
   "outputs": [
    {
     "name": "stderr",
     "output_type": "stream",
     "text": [
      "C:\\Users\\SeoDongUk\\Anaconda3\\lib\\site-packages\\ipykernel_launcher.py:4: DeprecationWarning: use driver.switch_to.frame instead\n",
      "  after removing the cwd from sys.path.\n",
      "C:\\Users\\SeoDongUk\\Anaconda3\\lib\\site-packages\\ipykernel_launcher.py:9: DeprecationWarning: use driver.switch_to.default_content instead\n",
      "  if __name__ == '__main__':\n",
      "C:\\Users\\SeoDongUk\\Anaconda3\\lib\\site-packages\\ipykernel_launcher.py:5: DeprecationWarning: use driver.switch_to.window instead\n",
      "  \"\"\"\n",
      "C:\\Users\\SeoDongUk\\Anaconda3\\lib\\site-packages\\ipykernel_launcher.py:3: DeprecationWarning: use driver.switch_to.frame instead\n",
      "  This is separate from the ipykernel package so we can avoid doing imports until\n",
      "C:\\Users\\SeoDongUk\\Anaconda3\\lib\\site-packages\\ipykernel_launcher.py:6: DeprecationWarning: use driver.switch_to.frame instead\n",
      "  \n",
      "C:\\Users\\SeoDongUk\\Anaconda3\\lib\\site-packages\\ipykernel_launcher.py:32: DeprecationWarning: use driver.switch_to.default_content instead\n",
      "C:\\Users\\SeoDongUk\\Anaconda3\\lib\\site-packages\\ipykernel_launcher.py:19: DeprecationWarning: use driver.switch_to.frame instead\n",
      "C:\\Users\\SeoDongUk\\Anaconda3\\lib\\site-packages\\ipykernel_launcher.py:21: DeprecationWarning: use driver.switch_to.default_content instead\n",
      "C:\\Users\\SeoDongUk\\Anaconda3\\lib\\site-packages\\ipykernel_launcher.py:25: DeprecationWarning: use driver.switch_to.frame instead\n",
      "C:\\Users\\SeoDongUk\\Anaconda3\\lib\\site-packages\\ipykernel_launcher.py:27: DeprecationWarning: use driver.switch_to.default_content instead\n",
      "C:\\Users\\SeoDongUk\\Anaconda3\\lib\\site-packages\\ipykernel_launcher.py:34: DeprecationWarning: use driver.switch_to.frame instead\n",
      "C:\\Users\\SeoDongUk\\Anaconda3\\lib\\site-packages\\ipykernel_launcher.py:36: DeprecationWarning: use driver.switch_to.default_content instead\n"
     ]
    }
   ],
   "source": [
    "ticketnum = 4\n",
    "\n",
    "# 분야 들어가기\n",
    "url = gnbbtns(\"콘서트\")\n",
    "if url:\n",
    "    driver.get(url)\n",
    "\n",
    "# 콘서트 이름으로 들어가기\n",
    "driver.get(hotissue(\"박정현\"))\n",
    "    \n",
    "# 날짜 선택\n",
    "clickAndBook(9)\n",
    "# 좌석 선택\n",
    "BestSeat('C',ticketnum)\n",
    "\n",
    "\n",
    "# 다음단계 \n",
    "iframe = driver.find_element_by_name(\"ifrmSeat\")\n",
    "driver.switch_to_frame(iframe)\n",
    "driver.find_element_by_css_selector(\"div.seatR #NextStepImage\").click()\n",
    "driver.switch_to_default_content()\n",
    "\n",
    "# 1매 클릭\n",
    "iframe = driver.find_element_by_name(\"ifrmBookStep\")\n",
    "driver.switch_to_frame(iframe)\n",
    "driver.find_elements_by_css_selector(\"td.taL > select > option\")[ticketnum].click()\n",
    "driver.switch_to_default_content()\n",
    "\n",
    "# 다음단계\n",
    "driver.find_element_by_css_selector(\"#SmallNextBtnImage\").click()\n",
    "\n",
    "# 생년월일입력\n",
    "iframe = driver.find_element_by_name(\"ifrmBookStep\")\n",
    "driver.switch_to_frame(iframe)\n",
    "driver.find_element_by_css_selector(\".deliveryR tbody td.form input\").send_keys(\"940425\")\n",
    "driver.switch_to_default_content()\n",
    "driver.find_element_by_css_selector(\"#SmallNextBtnImage\").click()\n",
    "\n",
    "# "
   ]
  },
  {
   "cell_type": "code",
   "execution_count": 482,
   "metadata": {},
   "outputs": [],
   "source": [
    "driver.find_element_by_css_selector(\"#SmallNextBtnImage\").click()"
   ]
  },
  {
   "cell_type": "code",
   "execution_count": 480,
   "metadata": {},
   "outputs": [
    {
     "name": "stderr",
     "output_type": "stream",
     "text": [
      "C:\\Users\\SeoDongUk\\Anaconda3\\lib\\site-packages\\ipykernel_launcher.py:1: DeprecationWarning: use driver.switch_to.default_content instead\n",
      "  \"\"\"Entry point for launching an IPython kernel.\n"
     ]
    }
   ],
   "source": [
    "driver.switch_to_default_content()"
   ]
  },
  {
   "cell_type": "code",
   "execution_count": 481,
   "metadata": {},
   "outputs": [
    {
     "name": "stderr",
     "output_type": "stream",
     "text": [
      "C:\\Users\\SeoDongUk\\Anaconda3\\lib\\site-packages\\ipykernel_launcher.py:2: DeprecationWarning: use driver.switch_to.frame instead\n",
      "  \n",
      "C:\\Users\\SeoDongUk\\Anaconda3\\lib\\site-packages\\ipykernel_launcher.py:4: DeprecationWarning: use driver.switch_to.default_content instead\n",
      "  after removing the cwd from sys.path.\n"
     ]
    }
   ],
   "source": [
    "iframe = driver.find_element_by_name(\"ifrmBookStep\")\n",
    "driver.switch_to_frame(iframe)\n",
    "driver.find_element_by_css_selector(\".deliveryR tbody td.form input\").send_keys(\"940425\")\n",
    "driver.switch_to_default_content()"
   ]
  },
  {
   "cell_type": "code",
   "execution_count": 13,
   "metadata": {},
   "outputs": [],
   "source": [
    "def bookWindow(options = None):\n",
    "    \n",
    "    tmp = driver.find_element_by_css_selector(\"div.tk_dt_btn_TArea > a\").get_attribute('onclick')\n",
    "    driver.execute_script(tmp)\n",
    "    driver.switch_to_window(driver.window_handles[-1])\n",
    "    if options:\n",
    "        iframe = driver.find_element_by_name(\"ifrmBookStep\")\n",
    "        driver.switch_to_frame(iframe)\n",
    "        for _ in driver.find_elements_by_css_selector(\"div.calCont a\"):\n",
    "            if _.text == str(options):\n",
    "                _.click()\n",
    "                break\n",
    "        else:\n",
    "            print(\"해당 날짜는 가능하지 않습니다.\")\n",
    "        driver.switch_to_default_content()\n",
    "        \n",
    "    driver.find_element_by_css_selector(\"div.buy_info p.btn\").click()\n",
    "    "
   ]
  },
  {
   "cell_type": "code",
   "execution_count": 498,
   "metadata": {},
   "outputs": [],
   "source": [
    "driver.find_element_by_css_selector(\"div.buy_info p.btn\").click()"
   ]
  },
  {
   "cell_type": "code",
   "execution_count": 14,
   "metadata": {},
   "outputs": [],
   "source": [
    "# 클릭 가능한 날짜 클릭\n",
    "def clickAndBook(date):\n",
    "    iframe = driver.find_element_by_name(\"ifrCalendar\")\n",
    "    driver.switch_to_frame(iframe)\n",
    "    options = [_ for _ in driver.find_elements_by_css_selector(\"div.cal_table a\")]\n",
    "    for _ in options:\n",
    "        if _.text == str(date):\n",
    "            _.click()\n",
    "            driver.switch_to_default_content()\n",
    "            bookWindow()\n",
    "            break\n",
    "    else:\n",
    "        print(\"가능한 날짜가 아닙니다.\")\n",
    "        driver.switch_to_default_content()"
   ]
  },
  {
   "cell_type": "code",
   "execution_count": 367,
   "metadata": {
    "collapsed": true
   },
   "outputs": [],
   "source": [
    "# 내부에서 option날짜 클릭하기\n",
    "def clickIn(options):\n",
    "    bookWindow()\n",
    "    iframe = driver.find_element_by_name(\"ifrmBookStep\")\n",
    "    driver.switch_to_frame(iframe)\n",
    "    for _ in driver.find_elements_by_css_selector(\"div.calCont a\"):\n",
    "        if _.text == str(options):\n",
    "            _.click()\n",
    "    driver.switch_to_default_content()"
   ]
  },
  {
   "cell_type": "code",
   "execution_count": 370,
   "metadata": {},
   "outputs": [
    {
     "name": "stderr",
     "output_type": "stream",
     "text": [
      "C:\\Users\\SeoDongUk\\Anaconda3\\lib\\site-packages\\ipykernel_launcher.py:5: DeprecationWarning: use driver.switch_to.window instead\n",
      "  \"\"\"\n",
      "C:\\Users\\SeoDongUk\\Anaconda3\\lib\\site-packages\\ipykernel_launcher.py:5: DeprecationWarning: use driver.switch_to.frame instead\n",
      "  \"\"\"\n",
      "C:\\Users\\SeoDongUk\\Anaconda3\\lib\\site-packages\\ipykernel_launcher.py:9: DeprecationWarning: use driver.switch_to.default_content instead\n",
      "  if __name__ == '__main__':\n"
     ]
    }
   ],
   "source": [
    "clickIn(3)"
   ]
  },
  {
   "cell_type": "code",
   "execution_count": 271,
   "metadata": {},
   "outputs": [
    {
     "data": {
      "text/plain": [
       "['2', '3', '4', '9', '10', '11']"
      ]
     },
     "execution_count": 271,
     "metadata": {},
     "output_type": "execute_result"
    }
   ],
   "source": [
    "options"
   ]
  },
  {
   "cell_type": "code",
   "execution_count": 46,
   "metadata": {},
   "outputs": [
    {
     "name": "stderr",
     "output_type": "stream",
     "text": [
      "C:\\Users\\SeoDongUk\\Anaconda3\\lib\\site-packages\\ipykernel_launcher.py:1: DeprecationWarning: use driver.switch_to.default_content instead\n",
      "  \"\"\"Entry point for launching an IPython kernel.\n"
     ]
    }
   ],
   "source": [
    "driver.switch_to_default_content()"
   ]
  },
  {
   "cell_type": "code",
   "execution_count": 279,
   "metadata": {},
   "outputs": [
    {
     "name": "stderr",
     "output_type": "stream",
     "text": [
      "C:\\Users\\SeoDongUk\\Anaconda3\\lib\\site-packages\\ipykernel_launcher.py:16: DeprecationWarning: use driver.switch_to.window instead\n",
      "  app.launch_new_instance()\n"
     ]
    }
   ],
   "source": [
    "bookWindow()"
   ]
  },
  {
   "cell_type": "code",
   "execution_count": 111,
   "metadata": {
    "scrolled": true
   },
   "outputs": [
    {
     "name": "stderr",
     "output_type": "stream",
     "text": [
      "C:\\Users\\SeoDongUk\\Anaconda3\\lib\\site-packages\\ipykernel_launcher.py:2: DeprecationWarning: use driver.switch_to.window instead\n",
      "  \n"
     ]
    }
   ],
   "source": [
    "driver.close()\n",
    "driver.switch_to_window(driver.window_handles[0])"
   ]
  },
  {
   "cell_type": "code",
   "execution_count": 692,
   "metadata": {},
   "outputs": [
    {
     "name": "stderr",
     "output_type": "stream",
     "text": [
      "C:\\Users\\SeoDongUk\\Anaconda3\\lib\\site-packages\\ipykernel_launcher.py:1: DeprecationWarning: use driver.switch_to.window instead\n",
      "  \"\"\"Entry point for launching an IPython kernel.\n"
     ]
    }
   ],
   "source": [
    "driver.switch_to_window(driver.window_handles[0])"
   ]
  },
  {
   "cell_type": "code",
   "execution_count": 344,
   "metadata": {},
   "outputs": [],
   "source": [
    "def safeClose():\n",
    "    if len(driver.window_handles) > 1:\n",
    "        for _ in driver.window_handles[1:]:\n",
    "            driver.switch_to_window(_)\n",
    "            driver.close()\n",
    "    driver.switch_to_window(driver.window_handles[0])\n",
    "    driver.switch_to_default_content()"
   ]
  },
  {
   "cell_type": "code",
   "execution_count": null,
   "metadata": {},
   "outputs": [],
   "source": []
  }
 ],
 "metadata": {
  "kernelspec": {
   "display_name": "Python 3",
   "language": "python",
   "name": "python3"
  },
  "language_info": {
   "codemirror_mode": {
    "name": "ipython",
    "version": 3
   },
   "file_extension": ".py",
   "mimetype": "text/x-python",
   "name": "python",
   "nbconvert_exporter": "python",
   "pygments_lexer": "ipython3",
   "version": "3.7.3"
  }
 },
 "nbformat": 4,
 "nbformat_minor": 2
}
