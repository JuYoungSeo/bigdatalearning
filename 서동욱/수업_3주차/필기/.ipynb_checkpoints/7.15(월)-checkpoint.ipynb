{
 "cells": [
  {
   "cell_type": "code",
   "execution_count": 432,
   "metadata": {},
   "outputs": [],
   "source": [
    "# 돔트리\n",
    "# CSS selector 한줄이라도 짧음."
   ]
  },
  {
   "cell_type": "markdown",
   "metadata": {},
   "source": [
    "# Crawling\n",
    "- 텍스트 마이닝, 데이터 마이닝\n",
    "- NLP 포커스 말뭉치 : 언어습관\n",
    "- 실 데이터를 누적함.\n",
    "- 세종21기반으로 형태소 분석기 만든게 카카오의 카이\n",
    "- Systematically browses\n",
    "- 구글 검색엔진의 시발점\n",
    "- Focused Crawling을 할것 (원하는 범위까지만 정해진 방식으로 가져오기)"
   ]
  },
  {
   "cell_type": "markdown",
   "metadata": {},
   "source": [
    "- 링크를 가져와서 재귀적으로 돌릴것임.\n",
    "- URL List를 어떻게 관리 할것인지\n",
    "- MultiThread, 분산처리가 필요함.\n",
    "- 이미 Scrapy라는 패키지로 만들어져있기는 함. (이미 봇임).\n",
    "- BeautifulSoup을 통해서 Dom객체 만들어서 parsing할 것임.\n",
    "- 같은 내용인데 다른 url인지, 들어갔던건지, 걸러내기.\n",
    "- 내부 저장부분은 html.text 저장하면 된다."
   ]
  },
  {
   "cell_type": "markdown",
   "metadata": {},
   "source": [
    "시드 주소 : http://example.webscraping.com/places/default/index"
   ]
  },
  {
   "cell_type": "markdown",
   "metadata": {},
   "source": [
    "a tag에서 href가 항상 하이퍼링크 predefined 형식"
   ]
  },
  {
   "cell_type": "code",
   "execution_count": 1,
   "metadata": {},
   "outputs": [],
   "source": [
    "import requests\n",
    "import time\n",
    "\n",
    "def download(method, url, \n",
    "             param = None, data = None, \n",
    "            timeout = 1,maxretries = 3):\n",
    "    \n",
    "    headers = {'user-agent': 'Mozilla/5.0 (Windows NT 10.0; Win64; x64) AppleWebKit/537.36 (KHTML, like Gecko) Chrome/75.0.3770.100 Safari/537.36'}\n",
    "    #headers = None\n",
    "    \n",
    "    try:\n",
    "        resp = requests.request(method, url,\n",
    "                                params= param,\n",
    "                                data=data, headers=headers)\n",
    "        resp.raise_for_status()\n",
    "        \n",
    "    except requests.exceptions.HTTPError as e:\n",
    "        if 500 <= e.response.status_code < 600 and maxretries > 0: \n",
    "            time.sleep(timeout) # param에따라 몇초 기다릴지 결정 할 수가 있다.\n",
    "            print(maxretries) # 재귀적으로 자기 자신을 부르게 코드를 짜면 된다.\n",
    "            resp = download(method,\n",
    "                            url, param = param, data=data,\n",
    "                            timeout=timeout,\n",
    "                            maxretries = maxretries - 1)\n",
    "        else:\n",
    "            print(e.response.status_code)\n",
    "            print(e.response.reason)\n",
    "    return resp"
   ]
  },
  {
   "cell_type": "code",
   "execution_count": 2,
   "metadata": {},
   "outputs": [],
   "source": [
    "from bs4 import BeautifulSoup\n",
    "from requests import compat"
   ]
  },
  {
   "cell_type": "markdown",
   "metadata": {},
   "source": [
    "# ------------------------------------------------------------"
   ]
  },
  {
   "cell_type": "code",
   "execution_count": 5,
   "metadata": {},
   "outputs": [
    {
     "data": {
      "text/plain": [
       "[]"
      ]
     },
     "execution_count": 5,
     "metadata": {},
     "output_type": "execute_result"
    }
   ],
   "source": [
    "url = 'http://example.webscraping.com/places/default/index'\n",
    "html = download(\"get\",url)\n",
    "dom = BeautifulSoup(html.text,\"lxml\")\n",
    "dom.select(\"#mainFrame\")"
   ]
  },
  {
   "cell_type": "code",
   "execution_count": 14,
   "metadata": {},
   "outputs": [],
   "source": [
    "def parseURL(seed):\n",
    "    html = download(\"get\",seed)\n",
    "    dom = BeautifulSoup(html.text,\"lxml\")\n",
    "    \n",
    "    if len(dom.select(\"#mainFrame\")) < 1:\n",
    "        return []\n",
    "    \n",
    "    seed = compat.urljoin(seed,dom.select('#mainFrame')[0]['src'])\n",
    "    html = download(\"get\",seed)\n",
    "    dom = BeautifulSoup(html.text,\"lxml\")\n",
    "    \n",
    "    return [compat.urljoin(html.url,_[\"href\"])\n",
    "                 for _ in dom.find_all(\"a\") \n",
    "            if _.has_attr(\"href\") and len(_[\"href\"]) > 3\n",
    "           and checkBlog(compat.urljoin(seed,_[\"href\"]))]"
   ]
  },
  {
   "cell_type": "code",
   "execution_count": 15,
   "metadata": {},
   "outputs": [
    {
     "name": "stdout",
     "output_type": "stream",
     "text": [
      "Queue: 0, Seen: 1\n"
     ]
    },
    {
     "ename": "IndexError",
     "evalue": "pop from empty list",
     "output_type": "error",
     "traceback": [
      "\u001b[1;31m---------------------------------------------------------------------------\u001b[0m",
      "\u001b[1;31mIndexError\u001b[0m                                Traceback (most recent call last)",
      "\u001b[1;32m<ipython-input-15-2aa0e882c081>\u001b[0m in \u001b[0;36m<module>\u001b[1;34m\u001b[0m\n\u001b[0;32m      5\u001b[0m \u001b[1;33m\u001b[0m\u001b[0m\n\u001b[0;32m      6\u001b[0m \u001b[1;32mwhile\u001b[0m \u001b[1;32mTrue\u001b[0m\u001b[1;33m:\u001b[0m\u001b[1;33m\u001b[0m\u001b[1;33m\u001b[0m\u001b[0m\n\u001b[1;32m----> 7\u001b[1;33m     \u001b[0mbaseURL\u001b[0m \u001b[1;33m=\u001b[0m \u001b[0mqueue\u001b[0m\u001b[1;33m.\u001b[0m\u001b[0mpop\u001b[0m\u001b[1;33m(\u001b[0m\u001b[1;36m0\u001b[0m\u001b[1;33m)\u001b[0m \u001b[1;31m# FIFO\u001b[0m\u001b[1;33m\u001b[0m\u001b[1;33m\u001b[0m\u001b[0m\n\u001b[0m\u001b[0;32m      8\u001b[0m     \u001b[0mseen\u001b[0m\u001b[1;33m.\u001b[0m\u001b[0mappend\u001b[0m\u001b[1;33m(\u001b[0m\u001b[0mbaseURL\u001b[0m\u001b[1;33m)\u001b[0m\u001b[1;33m\u001b[0m\u001b[1;33m\u001b[0m\u001b[0m\n\u001b[0;32m      9\u001b[0m \u001b[1;33m\u001b[0m\u001b[0m\n",
      "\u001b[1;31mIndexError\u001b[0m: pop from empty list"
     ]
    }
   ],
   "source": [
    "queue = list()\n",
    "queue.append('http://example.webscraping.com/places/default/index')\n",
    "\n",
    "seen = list()\n",
    "\n",
    "while True:\n",
    "    baseURL = queue.pop(0) # FIFO\n",
    "    seen.append(baseURL)\n",
    "    \n",
    "    time.sleep(0.2) # 너무 빠르면 안된다.\n",
    "    \n",
    "    linkList = parseURL(baseURL)\n",
    "    for link in linkList:  # 중복되는 url은 빼주어야 한다. (Home 같은 것)\n",
    "        if link not in queue and link not in seen:\n",
    "            queue.append(link)\n",
    "    print(\"Queue: {0}, Seen: {1}\".format(len(queue),len(seen)))\n",
    "    # URL Seen : BaseURL에 쓰인 것을 다른 table에서 관리하다가 있으면 피한다."
   ]
  },
  {
   "cell_type": "code",
   "execution_count": 25,
   "metadata": {},
   "outputs": [],
   "source": [
    "def parseURL(seed):\n",
    "    html = download(\"get\",geturl(seed),getparams(seed))\n",
    "    dom = BeautifulSoup(html.text,\"lxml\")\n",
    "\n",
    "    if len(dom.select(\"#mainFrame\")) < 1:\n",
    "        return []\n",
    "    \n",
    "    seed = compat.urljoin(seed,dom.select('#mainFrame')[0]['src'])\n",
    "\n",
    "    html = download(\"get\",geturl(seed),getparams(seed))\n",
    "    dom = BeautifulSoup(html.text,\"lxml\")\n",
    "\n",
    "    return [compat.urljoin(html.url,_[\"href\"])\n",
    "                 for _ in dom.find_all(\"a\") \n",
    "            if _.has_attr(\"href\") and len(_[\"href\"]) > 3\n",
    "           and checkBlog(compat.urljoin(seed,_[\"href\"]))]"
   ]
  },
  {
   "cell_type": "code",
   "execution_count": 26,
   "metadata": {},
   "outputs": [],
   "source": [
    "def geturl(urlsrc):\n",
    "    if '?' in urlsrc:\n",
    "        return urlsrc.split('?')[0]+'?'\n",
    "    else:\n",
    "        return urlsrc\n",
    "\n",
    "def getparams(urlsrc):\n",
    "    if '?' in  urlsrc:\n",
    "        try:\n",
    "            paramList = urlsrc.split('?')[1].split('&')\n",
    "            params = {_.split('=')[0]:compat.unquote(_.split('=')[1]) for _ in paramList}\n",
    "            return params\n",
    "        except:\n",
    "            print(_)\n",
    "    else:\n",
    "        return None"
   ]
  },
  {
   "cell_type": "code",
   "execution_count": 27,
   "metadata": {},
   "outputs": [
    {
     "ename": "IndexError",
     "evalue": "pop from empty list",
     "output_type": "error",
     "traceback": [
      "\u001b[1;31m---------------------------------------------------------------------------\u001b[0m",
      "\u001b[1;31mIndexError\u001b[0m                                Traceback (most recent call last)",
      "\u001b[1;32m<ipython-input-27-d251e94a352e>\u001b[0m in \u001b[0;36m<module>\u001b[1;34m\u001b[0m\n\u001b[0;32m      8\u001b[0m \u001b[1;31m# BFS Search (너비 우선 탐색)\u001b[0m\u001b[1;33m\u001b[0m\u001b[1;33m\u001b[0m\u001b[1;33m\u001b[0m\u001b[0m\n\u001b[0;32m      9\u001b[0m \u001b[1;32mwhile\u001b[0m \u001b[1;32mTrue\u001b[0m\u001b[1;33m:\u001b[0m\u001b[1;33m\u001b[0m\u001b[1;33m\u001b[0m\u001b[0m\n\u001b[1;32m---> 10\u001b[1;33m     \u001b[0mbaseURL\u001b[0m \u001b[1;33m=\u001b[0m \u001b[0mqueue\u001b[0m\u001b[1;33m.\u001b[0m\u001b[0mpop\u001b[0m\u001b[1;33m(\u001b[0m\u001b[1;36m0\u001b[0m\u001b[1;33m)\u001b[0m \u001b[1;31m# FIFO\u001b[0m\u001b[1;33m\u001b[0m\u001b[1;33m\u001b[0m\u001b[0m\n\u001b[0m\u001b[0;32m     11\u001b[0m     \u001b[1;31m#baseURL = queue.pop(-1) # Stack으로 해서 깊이우선 탐색\u001b[0m\u001b[1;33m\u001b[0m\u001b[1;33m\u001b[0m\u001b[1;33m\u001b[0m\u001b[0m\n\u001b[0;32m     12\u001b[0m     \u001b[0mseen\u001b[0m\u001b[1;33m.\u001b[0m\u001b[0mappend\u001b[0m\u001b[1;33m(\u001b[0m\u001b[0mbaseURL\u001b[0m\u001b[1;33m)\u001b[0m\u001b[1;33m\u001b[0m\u001b[1;33m\u001b[0m\u001b[0m\n",
      "\u001b[1;31mIndexError\u001b[0m: pop from empty list"
     ]
    }
   ],
   "source": [
    "queue = list()\n",
    "queue.extend([_[\"href\"] \n",
    "  for _ in dom2.select(\"a.sh_blog_title._sp_each_url._sp_each_title\")\n",
    " if checkBlog(_[\"href\"])])\n",
    "\n",
    "seen = list()\n",
    "\n",
    "# BFS Search (너비 우선 탐색)\n",
    "while True:\n",
    "    baseURL = queue.pop(0) # FIFO\n",
    "    #baseURL = queue.pop(-1) # Stack으로 해서 깊이우선 탐색\n",
    "    seen.append(baseURL)\n",
    "    # URL Seen : BaseURL에 쓰인 것을 다른 table에서 관리하다가 있으면 피한다.\n",
    "    \n",
    "    time.sleep(0.5) # 너무 빠르면 안된다.\n",
    "    \n",
    "    linkList = parseURL(baseURL)\n",
    "    for link in linkList:  # 중복되는 url은 빼주어야 한다. (Home 같은 것)\n",
    "        if link not in queue and link not in seen:\n",
    "            queue.append(link)\n",
    "    print(\"Queue: {0}, Seen: {1}\".format(len(queue),len(seen)))\n",
    "\n",
    "# Back of Add Model을 만들 수 있다.\n",
    "# Or not vector(?) \n",
    "# 저차원으로 가면 Word Embedding\n"
   ]
  },
  {
   "cell_type": "code",
   "execution_count": 28,
   "metadata": {},
   "outputs": [
    {
     "data": {
      "text/plain": [
       "[]"
      ]
     },
     "execution_count": 28,
     "metadata": {},
     "output_type": "execute_result"
    }
   ],
   "source": [
    "seen"
   ]
  },
  {
   "cell_type": "code",
   "execution_count": 37,
   "metadata": {},
   "outputs": [
    {
     "data": {
      "text/plain": [
       "['https://blog.naver.com/cheawhi?Redirect=Log&logNo=221588720464',\n",
       " 'https://blog.naver.com/imagetech1?Redirect=Log&logNo=221530358950']"
      ]
     },
     "execution_count": 37,
     "metadata": {},
     "output_type": "execute_result"
    }
   ],
   "source": [
    "# NAVER\n",
    "url = \"https://search.naver.com/search.naver?sm=top_hty&fbm=0&ie=utf8&query=%EB%B0%95%EB%B3%B4%EC%98%81\"\n",
    "param = getparams(url)\n",
    "urlsrc = geturl(url)\n",
    "\n",
    "html = download('get',urlsrc,param)\n",
    "dom2 = BeautifulSoup(html.text,\"lxml\")\n",
    "\n",
    "([_[\"href\"] \n",
    "  for _ in dom2.select(\"a.sh_blog_title._sp_each_url._sp_each_title\")\n",
    " if checkBlog(_[\"href\"])]) # 네이버 블로그만 가져오기."
   ]
  },
  {
   "cell_type": "code",
   "execution_count": 42,
   "metadata": {},
   "outputs": [
    {
     "data": {
      "text/plain": [
       "['http://adam24eve.tistory.com/858',\n",
       " 'http://bfh188.tistory.com/5',\n",
       " 'http://clickplease.tistory.com/18',\n",
       " 'http://listup.tistory.com/248']"
      ]
     },
     "execution_count": 42,
     "metadata": {},
     "output_type": "execute_result"
    }
   ],
   "source": [
    "# DAUM\n",
    "url = \"https://search.daum.net/search?w=tot&DA=YZR&t__nil_searchbox=btn&sug=&sugo=&q=%EB%B0%95%EB%B3%B4%EC%98%81\"\n",
    "param = getparams(url)\n",
    "urlsrc = geturl(url)\n",
    "\n",
    "html = download('get',urlsrc,param)\n",
    "dom2 = BeautifulSoup(html.text,\"lxml\")\n",
    "\n",
    "([_[\"href\"] \n",
    "  for _ in dom2.select(\"#blogColl a.f_link_b\")\n",
    " if checktistory(_[\"href\"])]) # 다음 블로그만 가져오기."
   ]
  },
  {
   "cell_type": "code",
   "execution_count": 39,
   "metadata": {},
   "outputs": [],
   "source": [
    "def parseURL(seed):\n",
    "    html = download(\"get\",seed[0])\n",
    "    dom = BeautifulSoup(html.text,\"lxml\")\n",
    "    \n",
    "    return [(compat.urljoin(seed[0],_[\"href\"]),seed[1]+1) # 특정 depth까지만\n",
    "                 for _ in dom.find_all(\"a\") \n",
    "            if seed[1] < 2 and _.has_attr(\"href\") and len(_[\"href\"]) > 3\n",
    "           and checktistory(compat.urljoin(seed[0],_[\"href\"]))]"
   ]
  },
  {
   "cell_type": "code",
   "execution_count": 31,
   "metadata": {},
   "outputs": [
    {
     "ename": "NameError",
     "evalue": "name 'checkBlog2' is not defined",
     "output_type": "error",
     "traceback": [
      "\u001b[1;31m---------------------------------------------------------------------------\u001b[0m",
      "\u001b[1;31mNameError\u001b[0m                                 Traceback (most recent call last)",
      "\u001b[1;32m<ipython-input-31-decc13acf4a4>\u001b[0m in \u001b[0;36m<module>\u001b[1;34m\u001b[0m\n\u001b[0;32m      1\u001b[0m \u001b[0mqueue\u001b[0m \u001b[1;33m=\u001b[0m \u001b[0mlist\u001b[0m\u001b[1;33m(\u001b[0m\u001b[1;33m)\u001b[0m\u001b[1;33m\u001b[0m\u001b[1;33m\u001b[0m\u001b[0m\n\u001b[0;32m      2\u001b[0m queue.extend([(_[\"href\"] ,1) # url and depth\n\u001b[1;32m----> 3\u001b[1;33m   \u001b[1;32mfor\u001b[0m \u001b[0m_\u001b[0m \u001b[1;32min\u001b[0m \u001b[0mdom2\u001b[0m\u001b[1;33m.\u001b[0m\u001b[0mselect\u001b[0m\u001b[1;33m(\u001b[0m\u001b[1;34m\"#blogColl a.f_link_b\"\u001b[0m\u001b[1;33m)\u001b[0m\u001b[1;33m\u001b[0m\u001b[1;33m\u001b[0m\u001b[0m\n\u001b[0m\u001b[0;32m      4\u001b[0m  if checkBlog2(_[\"href\"])])\n\u001b[0;32m      5\u001b[0m \u001b[1;33m\u001b[0m\u001b[0m\n",
      "\u001b[1;32m<ipython-input-31-decc13acf4a4>\u001b[0m in \u001b[0;36m<listcomp>\u001b[1;34m(.0)\u001b[0m\n\u001b[0;32m      2\u001b[0m queue.extend([(_[\"href\"] ,1) # url and depth\n\u001b[0;32m      3\u001b[0m   \u001b[1;32mfor\u001b[0m \u001b[0m_\u001b[0m \u001b[1;32min\u001b[0m \u001b[0mdom2\u001b[0m\u001b[1;33m.\u001b[0m\u001b[0mselect\u001b[0m\u001b[1;33m(\u001b[0m\u001b[1;34m\"#blogColl a.f_link_b\"\u001b[0m\u001b[1;33m)\u001b[0m\u001b[1;33m\u001b[0m\u001b[1;33m\u001b[0m\u001b[0m\n\u001b[1;32m----> 4\u001b[1;33m  if checkBlog2(_[\"href\"])])\n\u001b[0m\u001b[0;32m      5\u001b[0m \u001b[1;33m\u001b[0m\u001b[0m\n\u001b[0;32m      6\u001b[0m \u001b[0mseen\u001b[0m \u001b[1;33m=\u001b[0m \u001b[0mlist\u001b[0m\u001b[1;33m(\u001b[0m\u001b[1;33m)\u001b[0m\u001b[1;33m\u001b[0m\u001b[1;33m\u001b[0m\u001b[0m\n",
      "\u001b[1;31mNameError\u001b[0m: name 'checkBlog2' is not defined"
     ]
    }
   ],
   "source": [
    "queue = list()\n",
    "queue.extend([(_[\"href\"] ,1) # url and depth\n",
    "  for _ in dom2.select(\"#blogColl a.f_link_b\")\n",
    " if checktistory(_[\"href\"])])\n",
    "\n",
    "seen = list()\n",
    "\n",
    "while queue:\n",
    "    \n",
    "    baseURL = queue.pop(0) \n",
    "    seen.append(baseURL)\n",
    "    \n",
    "    time.sleep(0.1) # 너무 빠르면 안된다.\n",
    "    \n",
    "    linkList = parseURL(baseURL)\n",
    "    for link in linkList:  # 중복되는 url은 빼주어야 한다. (Home 같은 것)\n",
    "        if link not in queue and link not in seen:\n",
    "            queue.append(link)\n",
    "    print(\"Queue: {0}, Seen: {1}\".format(len(queue),len(seen)))\n",
    "\n",
    "    \n",
    "# Focused crawling은 얼마나 레퍼런스됬는지 볼때사용됨."
   ]
  },
  {
   "cell_type": "code",
   "execution_count": 41,
   "metadata": {},
   "outputs": [],
   "source": [
    "def checktistory(url):\n",
    "    return compat.urlparse(url)[1].find('tistory.com') != -1"
   ]
  },
  {
   "cell_type": "code",
   "execution_count": 301,
   "metadata": {},
   "outputs": [
    {
     "data": {
      "text/plain": [
       "[]"
      ]
     },
     "execution_count": 301,
     "metadata": {},
     "output_type": "execute_result"
    }
   ],
   "source": [
    "queue"
   ]
  },
  {
   "cell_type": "code",
   "execution_count": 283,
   "metadata": {},
   "outputs": [
    {
     "name": "stdout",
     "output_type": "stream",
     "text": [
      "https://cscs0717.tistory.com/10\n",
      "https://cscs0717.tistory.com/11\n",
      "https://cscs0717.tistory.com/18\n",
      "https://cscs0717.tistory.com/19\n",
      "https://cscs0717.tistory.com/17\n",
      "https://cscs0717.tistory.com/14\n",
      "https://cscs0717.tistory.com/29?category=713249\n",
      "https://cscs0717.tistory.com/28?category=713249\n",
      "https://cscs0717.tistory.com/27?category=713249\n",
      "https://cscs0717.tistory.com/26?category=713249\n",
      "https://cscs0717.tistory.com/24?category=713249\n",
      "https://cscs0717.tistory.com/23?category=713249\n",
      "https://cscs0717.tistory.com/tag/%EB%B0%95%EB%B3%B4%EC%98%81\n",
      "https://cscs0717.tistory.com/tag/%EB%B0%95%EB%B3%B4%EC%98%81%20%EB%AA%B8%EB%A7%A4\n",
      "https://cscs0717.tistory.com/tag/%EB%B0%95%EB%B3%B4%EC%98%81%20%ED%82%A4\n",
      "https://listup.tistory.com/248#dkBody\n",
      "https://listup.tistory.com/248#dkGnb\n",
      "https://listup.tistory.com/manage/entry/post\n",
      "https://listup.tistory.com/manage\n",
      "https://listup.tistory.com/tag\n",
      "https://listup.tistory.com/guestbook\n",
      "https://listup.tistory.com/rss\n",
      "https://listup.tistory.com/category\n",
      "https://listup.tistory.com/248\n",
      "https://listup.tistory.com/248#none\n",
      "https://listup.tistory.com/tag/%EB%B0%95%EB%B3%B4%EC%98%81\n",
      "https://listup.tistory.com/tag/%EB%B0%95%EB%B3%B4%EC%98%81%20%EB%82%98%EC%9D%B4\n",
      "https://listup.tistory.com/tag/%EB%B0%95%EB%B3%B4%EC%98%81%20%EB%93%9C%EB%9D%BC%EB%A7%88\n",
      "https://listup.tistory.com/tag/%EB%B0%95%EB%B3%B4%EC%98%81%20%EC%96%B4%EB%B9%84%EC%8A%A4\n",
      "https://listup.tistory.com/tag/%EB%B0%95%EB%B3%B4%EC%98%81%20%EC%9D%B8%EC%8A%A4%ED%83%80%EA%B7%B8%EB%9E%A8\n",
      "https://listup.tistory.com/tag/%EB%B0%95%EB%B3%B4%EC%98%81%20%ED%82%A4\n",
      "https://listup.tistory.com/249\n",
      "https://listup.tistory.com/321\n",
      "https://listup.tistory.com/253\n",
      "https://listup.tistory.com/251\n",
      "https://listup.tistory.com/250\n",
      "https://listup.tistory.com/247\n",
      "https://listup.tistory.com/246\n",
      "https://listup.tistory.com/245\n",
      "https://listup.tistory.com/244\n",
      "https://34344541.tistory.com/43#content\n",
      "https://34344541.tistory.com/tag\n",
      "https://34344541.tistory.com/guestbook\n",
      "https://34344541.tistory.com/45?category=0\n",
      "https://34344541.tistory.com/44?category=0\n",
      "https://34344541.tistory.com/42?category=0\n",
      "https://34344541.tistory.com/41?category=0\n",
      "https://34344541.tistory.com/manage\n",
      "https://adam24eve.tistory.com/983?category=820301\n",
      "https://adam24eve.tistory.com/982?category=820301\n",
      "https://adam24eve.tistory.com/981?category=820301\n",
      "https://adam24eve.tistory.com/category/?page=2\n",
      "https://adam24eve.tistory.com/category/?page=3\n",
      "https://adam24eve.tistory.com/category/?page=4\n",
      "https://adam24eve.tistory.com/category/?page=251\n",
      "https://adam24eve.tistory.com/839?category=769942\n",
      "https://adam24eve.tistory.com/498?category=769942\n",
      "https://adam24eve.tistory.com/497?category=769942\n",
      "https://adam24eve.tistory.com/category/Cosmos?page=2\n",
      "https://adam24eve.tistory.com/category/Cosmos?page=3\n",
      "https://adam24eve.tistory.com/category/Cosmos?page=4\n",
      "https://adam24eve.tistory.com/category/Cosmos?page=32\n",
      "https://adam24eve.tistory.com/495?category=769944\n",
      "https://adam24eve.tistory.com/346?category=769944\n",
      "https://adam24eve.tistory.com/329?category=769944\n",
      "https://adam24eve.tistory.com/category/Mystery%20world?page=2\n",
      "https://adam24eve.tistory.com/category/Mystery%20world?page=3\n",
      "https://adam24eve.tistory.com/category/Mystery%20world?page=4\n",
      "https://adam24eve.tistory.com/category/Mystery%20world?page=44\n",
      "https://adam24eve.tistory.com/category/Star?page=2\n",
      "https://adam24eve.tistory.com/category/Star?page=3\n",
      "https://adam24eve.tistory.com/category/Star?page=4\n",
      "https://adam24eve.tistory.com/category/Star?page=153\n",
      "https://adam24eve.tistory.com/962?category=820302\n",
      "https://adam24eve.tistory.com/category/Political\n",
      "https://adam24eve.tistory.com/957?category=820302\n",
      "https://adam24eve.tistory.com/940?category=820302\n",
      "https://adam24eve.tistory.com/category/Political%20?page=2\n",
      "https://adam24eve.tistory.com/category/Political%20?page=3\n",
      "https://adam24eve.tistory.com/category/Political%20?page=4\n",
      "https://adam24eve.tistory.com/category/Political%20?page=22\n",
      "https://adam24eve.tistory.com/840?category=820343\n",
      "https://adam24eve.tistory.com/645?category=820343\n",
      "https://adam24eve.tistory.com/500?category=820343\n",
      "https://adam24eve.tistory.com/category/It-game?page=2\n",
      "https://adam24eve.tistory.com/821\n",
      "https://adam24eve.tistory.com/tag/미우새?page=2\n",
      "https://adam24eve.tistory.com/tag/%EB%B0%B1%EC%9D%BC%EC%84%AD\n",
      "https://adam24eve.tistory.com/tag/%EC%8B%A0%EC%84%B1%EC%9D%BC\n",
      "https://adam24eve.tistory.com/tag/%EC%9D%B4%EC%99%B8%EC%88%98\n",
      "https://adam24eve.tistory.com/tag/%EC%9D%B4%EC%99%B8%EC%88%98%EB%B6%80%EC%9D%B8\n",
      "https://adam24eve.tistory.com/tag/%EC%9D%B4%EC%99%B8%EC%88%98%EC%95%84%EB%82%B4\n",
      "https://adam24eve.tistory.com/tag/%EC%9D%B4%EC%99%B8%EC%88%98%EC%9E%91%EA%B0%80\n",
      "https://adam24eve.tistory.com/tag/%EC%9D%B4%EC%99%B8%EC%88%98%EC%A1%B8%ED%98%BC\n",
      "https://adam24eve.tistory.com/tag/%EC%9D%B4%EC%99%B8%EC%88%98%EC%A1%B8%ED%98%BC%EC%9D%B4%EC%9C%A0\n",
      "https://adam24eve.tistory.com/tag/%EC%9D%B4%ED%98%BC\n",
      "https://adam24eve.tistory.com/tag/%EC%A1%B8%EC%98%A8\n",
      "https://adam24eve.tistory.com/862?category=820301\n",
      "https://adam24eve.tistory.com/861?category=820301\n",
      "https://adam24eve.tistory.com/858?category=820301\n",
      "https://adam24eve.tistory.com/865?category=820301\n",
      "https://adam24eve.tistory.com/864?category=820301\n",
      "https://adam24eve.tistory.com/239?category=820301\n",
      "https://adam24eve.tistory.com/tag/%EB%B0%95%EC%A7%80%EC%9C%A4\n",
      "https://adam24eve.tistory.com/tag/%EB%B0%95%EC%A7%80%EC%9C%A4%20%EA%B2%B0%ED%98%BC\n",
      "https://adam24eve.tistory.com/tag/%EB%B0%95%EC%A7%80%EC%9C%A4%20%EC%A1%B0%EC%88%98%EC%9A%A9%20%EA%B2%B0%ED%98%BC\n",
      "https://adam24eve.tistory.com/tag/%EC%95%84%EB%82%B4\n",
      "https://adam24eve.tistory.com/tag/%EC%A1%B0%EC%88%98%EC%9A%A9\n",
      "https://adam24eve.tistory.com/tag/%EC%A1%B0%EC%88%98%EC%9A%A9%20%EB%B0%95%EC%A7%80%EC%9C%A4%20%EA%B2%B0%ED%98%BC\n",
      "https://adam24eve.tistory.com/tag/%EC%A1%B0%EC%88%98%EC%9A%A9%20%EC%9D%B4%ED%98%BC\n",
      "https://adam24eve.tistory.com/tag/%EC%A1%B0%EC%88%98%EC%9A%A9%20%EC%9D%B4%ED%98%BC%20%EC%9D%B4%EC%9C%A0\n",
      "https://adam24eve.tistory.com/tag/%EC%A1%B0%EC%88%98%EC%9A%A9%20%EC%9E%AC%ED%98%BC\n",
      "https://adam24eve.tistory.com/tag/%EC%A1%B0%EC%88%98%EC%9A%A9%20%EC%A0%84%EB%B6%80%EC%9D%B8\n",
      "https://fullofbeans.tistory.com\n",
      "https://adam24eve.tistory.com/toolbar/popup/abuseReport/?entryId=859&commentId=15468752\n",
      "https://adam24eve.tistory.com/854?category=820301\n",
      "https://adam24eve.tistory.com/tag/%EA%B5%AC%EB%B3%B8%EC%9E%84\n",
      "https://adam24eve.tistory.com/tag/%EA%B5%AC%EB%B3%B8%EC%9E%84%20%EB%B3%84%EC%84%B8\n",
      "https://adam24eve.tistory.com/tag/%EA%B5%AC%EB%B3%B8%EC%9E%84%20%EB%B9%84%EC%9D%B8%EB%91%90%EC%95%94\n",
      "https://adam24eve.tistory.com/tag/%EA%B5%AC%EB%B3%B8%EC%9E%84%20%EC%82%AC%EB%A7%9D\n",
      "https://adam24eve.tistory.com/tag/%EA%B9%80%EC%9A%B0%EB%B9%88\n",
      "https://adam24eve.tistory.com/tag/%EA%B9%80%EC%9A%B0%EB%B9%88%20%EB%B9%84%EC%9D%B8%EB%91%90%EC%95%94%204%EA%B8%B0\n",
      "https://adam24eve.tistory.com/tag/%EB%B9%84%EC%9D%B8%EB%91%90%EC%95%94\n",
      "https://adam24eve.tistory.com/853?category=820301\n",
      "https://adam24eve.tistory.com/852?category=820301\n",
      "https://adam24eve.tistory.com/tag/%EC%97%90%EC%9D%B4%EB%AF%B8\n",
      "https://adam24eve.tistory.com/tag/%ED%9C%98%EC%84%B1%EB%85%B9%EC%B7%A8%EB%A1%9D\n",
      "https://adam24eve.tistory.com/851?category=820301\n",
      "https://adam24eve.tistory.com/863\n",
      "https://adam24eve.tistory.com/tag/%EC%98%88%EC%A7%80%EC%9B%90\n",
      "https://adam24eve.tistory.com/tag/%EC%98%88%EC%A7%80%EC%9B%90%EA%B2%B0%ED%98%BC\n",
      "https://adam24eve.tistory.com/tag/%EC%98%88%EC%A7%80%EC%9B%90%EA%B9%80%EC%A2%85%EA%B5%AD\n",
      "https://adam24eve.tistory.com/tag/%EC%98%88%EC%A7%80%EC%9B%90%EB%82%98%EC%9D%B4\n",
      "https://adam24eve.tistory.com/tag/%EC%98%88%EC%A7%80%EC%9B%90%EB%82%A8%ED%8E%B8\n",
      "https://adam24eve.tistory.com/tag/%EC%98%88%EC%A7%80%EC%9B%90%EC%83%B9%EC%86%A1\n",
      "https://adam24eve.tistory.com/980?category=820301\n",
      "https://adam24eve.tistory.com/979?category=820301\n",
      "https://adam24eve.tistory.com/tag/%EB%AF%B8%EC%8A%A4%EC%BD%94%EB%A6%AC%EC%95%84%20%EC%98%A4%ED%98%84%EA%B2%BD%20%EB%82%A8%ED%8E%B8\n",
      "https://adam24eve.tistory.com/tag/%EC%98%A4%ED%98%84%EA%B2%BD\n",
      "https://adam24eve.tistory.com/tag/%EC%98%A4%ED%98%84%EA%B2%BD%20%EA%B9%80%EA%B5%AC%EB%9D%BC\n",
      "https://adam24eve.tistory.com/tag/%EC%98%A4%ED%98%84%EA%B2%BD%20%EB%82%98%EC%9D%B4\n",
      "https://adam24eve.tistory.com/tag/%EC%98%A4%ED%98%84%EA%B2%BD%20%EB%94%B8%20%EC%B1%84%EB%A0%B9\n",
      "https://adam24eve.tistory.com/tag/%EC%98%A4%ED%98%84%EA%B2%BD%20%EB%A6%AC%EC%A6%88%EC%8B%9C%EC%A0%88\n",
      "https://adam24eve.tistory.com/tag/%EC%98%A4%ED%98%84%EA%B2%BD%20%EC%9D%B4%ED%98%BC\n",
      "https://adam24eve.tistory.com/866\n",
      "https://adam24eve.tistory.com/865\n",
      "https://adam24eve.tistory.com/864\n",
      "https://adam24eve.tistory.com/tag/%EC%97%B0%EC%95%A0%EC%9D%98%20%EB%A7%9B%20%EC%A1%B0%EC%95%88\n",
      "https://adam24eve.tistory.com/tag/%EC%A1%B0%EC%95%88\n",
      "https://adam24eve.tistory.com/tag/%EC%A1%B0%EC%95%88%20%EB%82%A8%ED%8E%B8\n",
      "https://adam24eve.tistory.com/tag/%EC%A1%B0%EC%95%88%20%EB%82%A8%ED%8E%B8%20%EA%B9%80%EA%B1%B4%EC%9A%B0\n",
      "https://adam24eve.tistory.com/tag/%EC%A1%B0%EC%95%88%20%EB%82%A8%ED%8E%B8%20%EC%A7%81%EC%97%85\n",
      "https://adam24eve.tistory.com/tag/%EC%A1%B0%EC%95%88%EB%82%98%EC%9D%B4\n",
      "https://adam24eve.tistory.com/853\n",
      "https://adam24eve.tistory.com/tag/%EA%B9%80%EB%8C%80%EC%A4%91\n",
      "https://adam24eve.tistory.com/tag/%EA%B9%80%EB%8C%80%EC%A4%91%20%EC%95%84%EB%93%A4%20%EA%B9%80%ED%99%8D%EC%9D%BC\n",
      "https://adam24eve.tistory.com/tag/%EA%B9%80%ED%99%8D%EC%9D%BC\n",
      "https://adam24eve.tistory.com/tag/%EA%B9%80%ED%99%8D%EC%9D%BC%20%EB%B3%84%EC%84%B8\n",
      "https://adam24eve.tistory.com/tag/%EA%B9%80%ED%99%8D%EC%9D%BC%20%EC%82%AC%EB%A7%9D%EC%9B%90%EC%9D%B8\n",
      "https://adam24eve.tistory.com/tag/%ED%8C%8C%ED%82%A8%EC%8A%A8%EB%B3%91\n",
      "https://adam24eve.tistory.com/873?category=820302\n",
      "https://adam24eve.tistory.com/863?category=820302\n",
      "https://adam24eve.tistory.com/846?category=820302\n",
      "https://adam24eve.tistory.com/843?category=820302\n",
      "https://adam24eve.tistory.com/852\n",
      "https://adam24eve.tistory.com/851\n",
      "https://adam24eve.tistory.com/tag/%EA%B9%80%EA%B7%B8%EB%A6%BC\n",
      "https://adam24eve.tistory.com/tag/%EA%B9%80%EA%B7%B8%EB%A6%BC%EA%B2%B0%ED%98%BC\n",
      "https://adam24eve.tistory.com/tag/%EA%B9%80%EA%B7%B8%EB%A6%BC%EB%82%98%EC%9D%B4\n",
      "https://adam24eve.tistory.com/tag/%EA%B9%80%EA%B7%B8%EB%A6%BC%EB%82%A8%ED%8E%B8\n",
      "https://adam24eve.tistory.com/tag/%EA%B9%80%EA%B7%B8%EB%A6%BC%EC%98%88%EB%B9%84%EC%8B%A0%EB%9E%91\n",
      "https://adam24eve.tistory.com/850\n",
      "https://adam24eve.tistory.com/notice\n",
      "https://adam24eve.tistory.com/tag/TV%EB%8A%94%EC%82%AC%EB%9E%91%EC%9D%84%EC%8B%A3%EA%B3%A0\n",
      "https://adam24eve.tistory.com/tag/%EA%B9%80%EC%95%84%EB%A6%B0\n",
      "https://adam24eve.tistory.com/tag/%ED%99%8D%EB%A1%9D%EA%B8%B0\n",
      "https://adam24eve.tistory.com/tag/%ED%99%8D%EB%A1%9D%EA%B8%B0%EB%B6%80%EC%9D%B8\n",
      "https://adam24eve.tistory.com/tag/%ED%99%8D%EB%A1%9D%EA%B8%B0%EC%82%AC%EC%97%85\n",
      "https://adam24eve.tistory.com/tag/%ED%99%8D%EB%A1%9D%EA%B8%B0%EC%95%84%EB%82%B4\n",
      "https://adam24eve.tistory.com/tag/%ED%99%8D%EB%A1%9D%EA%B8%B0%EC%9B%A8%EB%94%A9%EC%82%AC%EC%97%85\n",
      "https://adam24eve.tistory.com/tag/%ED%99%8D%EB%A1%9D%EA%B8%B0%ED%8C%8C%ED%8B%B0%ED%95%98%EC%9A%B0%EC%8A%A4\n",
      "https://adam24eve.tistory.com/976\n",
      "https://adam24eve.tistory.com/tag/2019%EB%AF%B8%EC%8A%A4%EC%BD%94%EB%A6%AC%EC%95%84\n",
      "https://adam24eve.tistory.com/tag/%EA%B9%80%EC%84%B8%EC%97%B0\n",
      "https://adam24eve.tistory.com/tag/%EB%AF%B8%EC%8A%A4%EC%BD%94%EB%A6%AC%EC%95%84\n",
      "https://adam24eve.tistory.com/tag/%EB%AF%B8%EC%8A%A4%EC%BD%94%EB%A6%AC%EC%95%84%EC%A7%84\n",
      "https://adam24eve.tistory.com/tag/%EB%AF%B8%EC%8A%A4%EC%BD%94%EB%A6%AC%EC%A7%84%EC%84%A0%EB%AF%B8\n",
      "https://adam24eve.tistory.com/tag/%EC%8B%A0%EC%9C%A4%EC%95%84\n",
      "https://adam24eve.tistory.com/tag/%EC%9A%B0%ED%9D%AC%EC%A4%80\n",
      "https://adam24eve.tistory.com/tag/%EC%9D%B4%EB%8B%A4%ED%98%84\n",
      "https://adam24eve.tistory.com/tag/%EC%9D%B4%ED%95%98%EB%8A%AC\n",
      "https://adam24eve.tistory.com/tag/%EC%9D%B4%ED%98%9C%EC%A3%BC\n",
      "https://adam24eve.tistory.com/975\n",
      "https://adam24eve.tistory.com/tag/%EB%AA%A8%EB%8D%B8%EC%9C%A4%EC%84%A0%EC%98%81\n",
      "https://adam24eve.tistory.com/tag/%EC%98%A4%EC%8A%B9%EC%9C%A4\n",
      "https://adam24eve.tistory.com/tag/%EC%98%A4%EC%8A%B9%EC%9C%A4%EC%97%AC%EC%9E%90%EC%B9%9C%EA%B5%AC\n",
      "https://adam24eve.tistory.com/tag/%EC%9C%A4%EC%84%A0%EC%98%81\n",
      "https://adam24eve.tistory.com/tag/%ED%98%B8%EA%B5%AC%EC%9D%98%EC%97%B0%EC%95%A0\n",
      "https://adam24eve.tistory.com/976?category=820301\n",
      "https://adam24eve.tistory.com/974\n",
      "https://adam24eve.tistory.com/tag/%EA%B0%95%EC%A7%80%ED%99%98\n",
      "https://adam24eve.tistory.com/tag/%EA%B0%95%EC%A7%80%ED%99%98%EC%86%8C%EC%86%8D%EC%82%AC\n",
      "https://adam24eve.tistory.com/tag/%EC%A1%B0%EC%84%A0%EC%83%9D%EC%A1%B4%EA%B8%B0\n",
      "https://adam24eve.tistory.com/975?category=820301\n",
      "https://adam24eve.tistory.com/973\n",
      "https://adam24eve.tistory.com/957\n",
      "https://adam24eve.tistory.com/tag/%EC%9C%A4%EC%84%9D%EC%97%B4\n",
      "https://adam24eve.tistory.com/tag/%EC%9C%A4%EC%84%9D%EC%97%B4%20%EA%B2%80%EC%82%AC\n",
      "https://adam24eve.tistory.com/tag/%EC%9C%A4%EC%84%9D%EC%97%B4%20%EA%B2%80%EC%B0%B0%EC%B4%9D%EC%9E%A5\n",
      "https://adam24eve.tistory.com/tag/%EC%9C%A4%EC%84%9D%EC%97%B4%20%EB%B6%80%EC%9D%B8\n",
      "https://adam24eve.tistory.com/tag/%EC%9C%A4%EC%84%9D%EC%97%B4%20%EC%9D%B4%ED%98%BC\n",
      "https://adam24eve.tistory.com/tag/%EC%9C%A4%EC%84%9D%EC%97%B4%20%EC%9E%AC%EC%82%B0\n",
      "https://adam24eve.tistory.com/tag/%EC%9C%A4%EC%84%9D%EC%97%B4%20%EC%9E%AC%ED%98%BC\n",
      "https://adam24eve.tistory.com/tag/%EC%9D%B4%EA%B1%B4%ED%9D%AC\n",
      "https://adam24eve.tistory.com/937?category=820302\n",
      "https://adam24eve.tistory.com/934?category=820302\n",
      "https://cgh0708.tistory.com\n",
      "https://adam24eve.tistory.com/toolbar/popup/abuseReport/?entryId=957&commentId=15494479\n",
      "https://adam24eve.tistory.com/958\n",
      "https://adam24eve.tistory.com/962\n",
      "https://adam24eve.tistory.com/961\n",
      "https://adam24eve.tistory.com/959\n",
      "https://adam24eve.tistory.com/956\n",
      "https://adam24eve.tistory.com/955\n",
      "https://adam24eve.tistory.com/952\n",
      "https://adam24eve.tistory.com/950\n",
      "https://adam24eve.tistory.com/810\n",
      "https://adam24eve.tistory.com/tag/%EB%AF%B8%EC%8A%A4%ED%8A%B8%EB%A1%AF\n",
      "https://adam24eve.tistory.com/tag/%EC%86%A1%EA%B0%80%EC%9D%B8\n",
      "https://adam24eve.tistory.com/tag/%ED%99%8D%EC%9E%90\n",
      "https://adam24eve.tistory.com/815?category=820301\n",
      "https://adam24eve.tistory.com/811?category=820301\n",
      "https://adam24eve.tistory.com/809?category=820301\n",
      "https://adam24eve.tistory.com/805?category=820301\n",
      "https://adam24eve.tistory.com/811\n",
      "https://adam24eve.tistory.com/818\n",
      "https://adam24eve.tistory.com/816\n",
      "https://adam24eve.tistory.com/815\n",
      "https://adam24eve.tistory.com/809\n",
      "https://adam24eve.tistory.com/806\n",
      "https://adam24eve.tistory.com/805\n",
      "https://adam24eve.tistory.com/804\n",
      "https://adam24eve.tistory.com/934\n",
      "https://adam24eve.tistory.com/tag/%EA%B9%80%ED%9D%AC%EC%98%81\n",
      "https://adam24eve.tistory.com/tag/%EA%B9%80%ED%9D%AC%EC%98%81%20%EC%9D%B4%EC%82%AC%EC%9E%A5\n",
      "https://adam24eve.tistory.com/tag/%EA%B9%80%ED%9D%AC%EC%98%81%20%ED%8B%B0%EC%95%A4%EC%94%A8%20%EC%9E%AC%EB%8B%A8%20%EC%9D%B4%EC%82%AC%EC%9E%A5\n",
      "https://adam24eve.tistory.com/tag/%EB%85%B8%EC%86%8C%EC%98%81%20%EA%B4%80%EC%9E%A5\n",
      "https://adam24eve.tistory.com/tag/%EC%B5%9C%ED%83%9C%EC%9B%90\n",
      "https://adam24eve.tistory.com/tag/%EC%B5%9C%ED%83%9C%EC%9B%90%20%EB%85%B8%EC%86%8C%EC%98%81\n",
      "https://adam24eve.tistory.com/tag/%EC%B5%9C%ED%83%9C%EC%9B%90%20%ED%9A%8C%EC%9E%A5\n",
      "https://adam24eve.tistory.com/933?category=820302\n",
      "https://adam24eve.tistory.com/901?category=820302\n",
      "https://adam24eve.tistory.com/935\n",
      "https://adam24eve.tistory.com/938\n",
      "https://adam24eve.tistory.com/937\n",
      "https://adam24eve.tistory.com/936\n",
      "https://adam24eve.tistory.com/933\n",
      "https://adam24eve.tistory.com/932\n",
      "https://adam24eve.tistory.com/931\n",
      "https://adam24eve.tistory.com/930\n",
      "https://adam24eve.tistory.com/114\n",
      "https://adam24eve.tistory.com/131?category=769944\n",
      "https://adam24eve.tistory.com/126?category=769944\n",
      "https://adam24eve.tistory.com/129?category=769944\n",
      "https://adam24eve.tistory.com/124?category=769944\n",
      "https://adam24eve.tistory.com/126\n",
      "https://adam24eve.tistory.com/137\n",
      "https://adam24eve.tistory.com/125\n",
      "https://adam24eve.tistory.com/131\n",
      "https://adam24eve.tistory.com/128\n",
      "https://adam24eve.tistory.com/129\n",
      "https://adam24eve.tistory.com/124\n",
      "https://adam24eve.tistory.com/820\n",
      "https://adam24eve.tistory.com/tag/%EA%B8%B0%EC%95%8884\n",
      "https://adam24eve.tistory.com/tag/%EB%82%98%ED%98%BC%EC%9E%90%EC%82%B0%EB%8B%A4\n",
      "https://adam24eve.tistory.com/tag/%EB%B0%95%EB%82%98%EB%9E%98\n",
      "https://adam24eve.tistory.com/tag/%EC%84%9C%EC%9A%B8%ED%8C%A8%EC%85%98%EC%9C%84%ED%81%AC\n",
      "https://adam24eve.tistory.com/tag/%EC%84%B1%ED%9B%88\n",
      "https://adam24eve.tistory.com/tag/%EC%9D%B4%EC%8B%9C%EC%96%B8\n",
      "https://adam24eve.tistory.com/tag/%ED%8C%A8%EC%85%98%EC%87%BC\n",
      "https://adam24eve.tistory.com/822?category=820301\n",
      "https://adam24eve.tistory.com/821?category=820301\n",
      "https://adam24eve.tistory.com/818?category=820301\n",
      "https://adam24eve.tistory.com/824\n",
      "https://adam24eve.tistory.com/823\n",
      "https://adam24eve.tistory.com/822\n",
      "https://adam24eve.tistory.com/819\n",
      "https://www.tistory.com/auth/login/?redirectUrl=https%3A%2F%2Fadam24eve.tistory.com%2Fmanage#kakaoBody\n",
      "https://www.tistory.com/auth/login/?redirectUrl=https%3A%2F%2Fadam24eve.tistory.com%2Fmanage#kakaoLnb\n",
      "https://www.tistory.com/member/join\n",
      "https://www.tistory.com/member/find/loginId\n",
      "https://www.tistory.com/member/find/password\n",
      "https://www.tistory.com/auth/login/?redirectUrl=https%3A%2F%2Fadam24eve.tistory.com%2Fmanage%2Fentry%2Fpost#kakaoBody\n",
      "https://www.tistory.com/auth/login/?redirectUrl=https%3A%2F%2Fadam24eve.tistory.com%2Fmanage%2Fentry%2Fpost#kakaoLnb\n"
     ]
    }
   ],
   "source": [
    "for i in queue:\n",
    "    print(i)"
   ]
  },
  {
   "cell_type": "code",
   "execution_count": 265,
   "metadata": {},
   "outputs": [],
   "source": [
    "url = dom2.select(\"#blogColl a.f_link_b\")[0]['href']"
   ]
  },
  {
   "cell_type": "code",
   "execution_count": 249,
   "metadata": {},
   "outputs": [
    {
     "data": {
      "text/plain": [
       "10"
      ]
     },
     "execution_count": 249,
     "metadata": {},
     "output_type": "execute_result"
    }
   ],
   "source": [
    "compat.urlparse(url)[1].find('tistory.com')"
   ]
  },
  {
   "cell_type": "code",
   "execution_count": 255,
   "metadata": {},
   "outputs": [
    {
     "data": {
      "text/plain": [
       "True"
      ]
     },
     "execution_count": 255,
     "metadata": {},
     "output_type": "execute_result"
    }
   ],
   "source": [
    "checkBlog2(url)"
   ]
  },
  {
   "cell_type": "markdown",
   "metadata": {},
   "source": [
    "정규식으로 할거면 (.+?)[.]tistory.com"
   ]
  },
  {
   "cell_type": "code",
   "execution_count": 36,
   "metadata": {},
   "outputs": [
    {
     "ename": "IndexError",
     "evalue": "list index out of range",
     "output_type": "error",
     "traceback": [
      "\u001b[1;31m---------------------------------------------------------------------------\u001b[0m",
      "\u001b[1;31mIndexError\u001b[0m                                Traceback (most recent call last)",
      "\u001b[1;32m<ipython-input-36-cb1e7ef8e165>\u001b[0m in \u001b[0;36m<module>\u001b[1;34m\u001b[0m\n\u001b[0;32m      1\u001b[0m seed = ([_[\"href\"] \n\u001b[0;32m      2\u001b[0m   \u001b[1;32mfor\u001b[0m \u001b[0m_\u001b[0m \u001b[1;32min\u001b[0m \u001b[0mdom2\u001b[0m\u001b[1;33m.\u001b[0m\u001b[0mselect\u001b[0m\u001b[1;33m(\u001b[0m\u001b[1;34m\"a.sh_blog_title._sp_each_url._sp_each_title\"\u001b[0m\u001b[1;33m)\u001b[0m\u001b[1;33m\u001b[0m\u001b[1;33m\u001b[0m\u001b[0m\n\u001b[1;32m----> 3\u001b[1;33m  if checkBlog(_[\"href\"])])[0]\n\u001b[0m\u001b[0;32m      4\u001b[0m \u001b[0mhtml\u001b[0m \u001b[1;33m=\u001b[0m \u001b[0mdownload\u001b[0m\u001b[1;33m(\u001b[0m\u001b[1;34m\"get\"\u001b[0m\u001b[1;33m,\u001b[0m\u001b[0mgeturl\u001b[0m\u001b[1;33m(\u001b[0m\u001b[0mseed\u001b[0m\u001b[1;33m)\u001b[0m\u001b[1;33m,\u001b[0m\u001b[0mparam\u001b[0m\u001b[1;33m=\u001b[0m\u001b[0mgetparams\u001b[0m\u001b[1;33m(\u001b[0m\u001b[0mseed\u001b[0m\u001b[1;33m)\u001b[0m\u001b[1;33m)\u001b[0m\u001b[1;33m\u001b[0m\u001b[1;33m\u001b[0m\u001b[0m\n\u001b[0;32m      5\u001b[0m \u001b[0mdom\u001b[0m \u001b[1;33m=\u001b[0m \u001b[0mBeautifulSoup\u001b[0m\u001b[1;33m(\u001b[0m\u001b[0mhtml\u001b[0m\u001b[1;33m.\u001b[0m\u001b[0mtext\u001b[0m\u001b[1;33m,\u001b[0m\u001b[1;34m\"lxml\"\u001b[0m\u001b[1;33m)\u001b[0m\u001b[1;33m\u001b[0m\u001b[1;33m\u001b[0m\u001b[0m\n",
      "\u001b[1;31mIndexError\u001b[0m: list index out of range"
     ]
    }
   ],
   "source": [
    "seed = ([_[\"href\"] \n",
    "  for _ in dom2.select(\"a.sh_blog_title._sp_each_url._sp_each_title\")\n",
    " if checkBlog(_[\"href\"])])[0]\n",
    "html = download(\"get\",geturl(seed),param=getparams(seed))\n",
    "dom = BeautifulSoup(html.text,\"lxml\")"
   ]
  },
  {
   "cell_type": "code",
   "execution_count": 156,
   "metadata": {},
   "outputs": [
    {
     "data": {
      "text/plain": [
       "'/PostView.nhn?blogId=imagetech1&logNo=221530358950&from=search&redirect=Log&widgetTypeCall=true&directAccess=false'"
      ]
     },
     "execution_count": 156,
     "metadata": {},
     "output_type": "execute_result"
    }
   ],
   "source": [
    "dom.select('#mainFrame')[0]['src']"
   ]
  },
  {
   "cell_type": "code",
   "execution_count": 35,
   "metadata": {},
   "outputs": [
    {
     "ename": "NameError",
     "evalue": "name 'seed' is not defined",
     "output_type": "error",
     "traceback": [
      "\u001b[1;31m---------------------------------------------------------------------------\u001b[0m",
      "\u001b[1;31mNameError\u001b[0m                                 Traceback (most recent call last)",
      "\u001b[1;32m<ipython-input-35-cf2d1042628b>\u001b[0m in \u001b[0;36m<module>\u001b[1;34m\u001b[0m\n\u001b[1;32m----> 1\u001b[1;33m \u001b[0mseed\u001b[0m \u001b[1;33m=\u001b[0m \u001b[0mcompat\u001b[0m\u001b[1;33m.\u001b[0m\u001b[0murljoin\u001b[0m\u001b[1;33m(\u001b[0m\u001b[0mgeturl\u001b[0m\u001b[1;33m(\u001b[0m\u001b[0mseed\u001b[0m\u001b[1;33m)\u001b[0m\u001b[1;33m,\u001b[0m\u001b[0mdom\u001b[0m\u001b[1;33m.\u001b[0m\u001b[0mselect\u001b[0m\u001b[1;33m(\u001b[0m\u001b[1;34m'#mainFrame'\u001b[0m\u001b[1;33m)\u001b[0m\u001b[1;33m[\u001b[0m\u001b[1;36m0\u001b[0m\u001b[1;33m]\u001b[0m\u001b[1;33m[\u001b[0m\u001b[1;34m'src'\u001b[0m\u001b[1;33m]\u001b[0m\u001b[1;33m)\u001b[0m\u001b[1;33m\u001b[0m\u001b[1;33m\u001b[0m\u001b[0m\n\u001b[0m",
      "\u001b[1;31mNameError\u001b[0m: name 'seed' is not defined"
     ]
    }
   ],
   "source": [
    "seed = compat.urljoin(geturl(seed),dom.select('#mainFrame')[0]['src'])"
   ]
  },
  {
   "cell_type": "code",
   "execution_count": 138,
   "metadata": {
    "scrolled": true
   },
   "outputs": [
    {
     "data": {
      "text/plain": [
       "[]"
      ]
     },
     "execution_count": 138,
     "metadata": {},
     "output_type": "execute_result"
    }
   ],
   "source": [
    "dom2.select('#mainFrame')[0]['src']"
   ]
  },
  {
   "cell_type": "code",
   "execution_count": 34,
   "metadata": {
    "scrolled": true
   },
   "outputs": [
    {
     "data": {
      "text/plain": [
       "ParseResult(scheme='https', netloc='blog.naver.com', path='/dlqlwm14', params='', query='Redirect=Log&logNo=221529807195', fragment='')"
      ]
     },
     "execution_count": 34,
     "metadata": {},
     "output_type": "execute_result"
    }
   ],
   "source": [
    "compat.urlparse('https://blog.naver.com/dlqlwm14?Redirect=Log&logNo=221529807195')"
   ]
  },
  {
   "cell_type": "code",
   "execution_count": 32,
   "metadata": {},
   "outputs": [],
   "source": [
    "def checkBlog(url):\n",
    "    return compat.urlparse(url)[1] == 'blog.naver.com'"
   ]
  },
  {
   "cell_type": "code",
   "execution_count": 33,
   "metadata": {},
   "outputs": [
    {
     "data": {
      "text/plain": [
       "True"
      ]
     },
     "execution_count": 33,
     "metadata": {},
     "output_type": "execute_result"
    }
   ],
   "source": [
    "checkBlog('https://blog.naver.com/dlqlwm14?Redirect=Log&logNo=221529807195')"
   ]
  },
  {
   "cell_type": "code",
   "execution_count": 115,
   "metadata": {
    "scrolled": true
   },
   "outputs": [
    {
     "data": {
      "text/plain": [
       "'https://ko.wikipedia.org/wiki/%EB%B0%95%EB%B3%B4%EC%98%81'"
      ]
     },
     "execution_count": 115,
     "metadata": {},
     "output_type": "execute_result"
    }
   ],
   "source": [
    "[_.find_parent()[\"href\"] for _ in dom2.select(\".LC20lb\")][0]"
   ]
  },
  {
   "cell_type": "code",
   "execution_count": 110,
   "metadata": {},
   "outputs": [],
   "source": [
    "def parseURL(seed):\n",
    "    html = download(\"get\",geturl(seed),param=getparams(seed))\n",
    "    dom = BeautifulSoup(html.text,\"lxml\")\n",
    "    \n",
    "    return [compat.urljoin(html.url,_[\"href\"])\n",
    "                 for _ in dom.find_all(\"a\") \n",
    "            if _.has_attr(\"href\") and not _[\"href\"].startswith('#')]"
   ]
  },
  {
   "cell_type": "code",
   "execution_count": 102,
   "metadata": {},
   "outputs": [],
   "source": [
    "def geturl(urlsrc):\n",
    "    if '?' in urlsrc:\n",
    "        return urlsrc.split('?')[0]+'?'\n",
    "    else:\n",
    "        return urlsrc\n",
    "\n",
    "def getparams(urlsrc):\n",
    "    if '?' in  urlsrc:\n",
    "        paramList = urlsrc.split('?')[1].split('&')\n",
    "        params = {_.split('=')[0]:compat.unquote(_.split('=')[1]) for _ in paramList}\n",
    "        return params\n",
    "    else:\n",
    "        return None"
   ]
  },
  {
   "cell_type": "code",
   "execution_count": 114,
   "metadata": {},
   "outputs": [
    {
     "name": "stdout",
     "output_type": "stream",
     "text": [
      "Queue: 612, Seen: 1\n",
      "Queue: 864, Seen: 2\n",
      "Queue: 1712, Seen: 3\n",
      "Queue: 1828, Seen: 4\n",
      "Queue: 1862, Seen: 5\n",
      "Queue: 1871, Seen: 6\n",
      "Queue: 1911, Seen: 7\n",
      "Queue: 2089, Seen: 8\n",
      "Queue: 2260, Seen: 9\n",
      "Queue: 2280, Seen: 10\n",
      "Queue: 2298, Seen: 11\n",
      "Queue: 4506, Seen: 12\n",
      "Queue: 4733, Seen: 13\n",
      "Queue: 4947, Seen: 14\n",
      "Queue: 5014, Seen: 15\n",
      "Queue: 5114, Seen: 16\n"
     ]
    },
    {
     "ename": "KeyboardInterrupt",
     "evalue": "",
     "output_type": "error",
     "traceback": [
      "\u001b[1;31m---------------------------------------------------------------------------\u001b[0m",
      "\u001b[1;31mTypeError\u001b[0m                                 Traceback (most recent call last)",
      "\u001b[1;32m~\\Anaconda3\\lib\\site-packages\\urllib3\\connectionpool.py\u001b[0m in \u001b[0;36m_make_request\u001b[1;34m(self, conn, method, url, timeout, chunked, **httplib_request_kw)\u001b[0m\n\u001b[0;32m    376\u001b[0m             \u001b[1;32mtry\u001b[0m\u001b[1;33m:\u001b[0m  \u001b[1;31m# Python 2.7, use buffering of HTTP responses\u001b[0m\u001b[1;33m\u001b[0m\u001b[1;33m\u001b[0m\u001b[0m\n\u001b[1;32m--> 377\u001b[1;33m                 \u001b[0mhttplib_response\u001b[0m \u001b[1;33m=\u001b[0m \u001b[0mconn\u001b[0m\u001b[1;33m.\u001b[0m\u001b[0mgetresponse\u001b[0m\u001b[1;33m(\u001b[0m\u001b[0mbuffering\u001b[0m\u001b[1;33m=\u001b[0m\u001b[1;32mTrue\u001b[0m\u001b[1;33m)\u001b[0m\u001b[1;33m\u001b[0m\u001b[1;33m\u001b[0m\u001b[0m\n\u001b[0m\u001b[0;32m    378\u001b[0m             \u001b[1;32mexcept\u001b[0m \u001b[0mTypeError\u001b[0m\u001b[1;33m:\u001b[0m  \u001b[1;31m# Python 3\u001b[0m\u001b[1;33m\u001b[0m\u001b[1;33m\u001b[0m\u001b[0m\n",
      "\u001b[1;31mTypeError\u001b[0m: getresponse() got an unexpected keyword argument 'buffering'",
      "\nDuring handling of the above exception, another exception occurred:\n",
      "\u001b[1;31mKeyboardInterrupt\u001b[0m                         Traceback (most recent call last)",
      "\u001b[1;32m<ipython-input-114-a60cfa2c8d23>\u001b[0m in \u001b[0;36m<module>\u001b[1;34m\u001b[0m\n\u001b[0;32m     16\u001b[0m     \u001b[0mtime\u001b[0m\u001b[1;33m.\u001b[0m\u001b[0msleep\u001b[0m\u001b[1;33m(\u001b[0m\u001b[1;36m1\u001b[0m\u001b[1;33m)\u001b[0m \u001b[1;31m# 너무 빠르면 안된다.\u001b[0m\u001b[1;33m\u001b[0m\u001b[1;33m\u001b[0m\u001b[0m\n\u001b[0;32m     17\u001b[0m \u001b[1;33m\u001b[0m\u001b[0m\n\u001b[1;32m---> 18\u001b[1;33m     \u001b[0mlinkList\u001b[0m \u001b[1;33m=\u001b[0m \u001b[0mparseURL\u001b[0m\u001b[1;33m(\u001b[0m\u001b[0mbaseURL\u001b[0m\u001b[1;33m)\u001b[0m\u001b[1;33m\u001b[0m\u001b[1;33m\u001b[0m\u001b[0m\n\u001b[0m\u001b[0;32m     19\u001b[0m     \u001b[1;32mfor\u001b[0m \u001b[0mlink\u001b[0m \u001b[1;32min\u001b[0m \u001b[0mlinkList\u001b[0m\u001b[1;33m:\u001b[0m  \u001b[1;31m# 중복되는 url은 빼주어야 한다. (Home 같은 것)\u001b[0m\u001b[1;33m\u001b[0m\u001b[1;33m\u001b[0m\u001b[0m\n\u001b[0;32m     20\u001b[0m         \u001b[1;32mif\u001b[0m \u001b[0mlink\u001b[0m \u001b[1;32mnot\u001b[0m \u001b[1;32min\u001b[0m \u001b[0mqueue\u001b[0m \u001b[1;32mand\u001b[0m \u001b[0mlink\u001b[0m \u001b[1;32mnot\u001b[0m \u001b[1;32min\u001b[0m \u001b[0mseen\u001b[0m\u001b[1;33m:\u001b[0m\u001b[1;33m\u001b[0m\u001b[1;33m\u001b[0m\u001b[0m\n",
      "\u001b[1;32m<ipython-input-110-01eaaf03ea0b>\u001b[0m in \u001b[0;36mparseURL\u001b[1;34m(seed)\u001b[0m\n\u001b[0;32m      1\u001b[0m \u001b[1;32mdef\u001b[0m \u001b[0mparseURL\u001b[0m\u001b[1;33m(\u001b[0m\u001b[0mseed\u001b[0m\u001b[1;33m)\u001b[0m\u001b[1;33m:\u001b[0m\u001b[1;33m\u001b[0m\u001b[1;33m\u001b[0m\u001b[0m\n\u001b[1;32m----> 2\u001b[1;33m     \u001b[0mhtml\u001b[0m \u001b[1;33m=\u001b[0m \u001b[0mdownload\u001b[0m\u001b[1;33m(\u001b[0m\u001b[1;34m\"get\"\u001b[0m\u001b[1;33m,\u001b[0m\u001b[0mgeturl\u001b[0m\u001b[1;33m(\u001b[0m\u001b[0mseed\u001b[0m\u001b[1;33m)\u001b[0m\u001b[1;33m,\u001b[0m\u001b[0mparam\u001b[0m\u001b[1;33m=\u001b[0m\u001b[0mgetparams\u001b[0m\u001b[1;33m(\u001b[0m\u001b[0mseed\u001b[0m\u001b[1;33m)\u001b[0m\u001b[1;33m)\u001b[0m\u001b[1;33m\u001b[0m\u001b[1;33m\u001b[0m\u001b[0m\n\u001b[0m\u001b[0;32m      3\u001b[0m     \u001b[0mdom\u001b[0m \u001b[1;33m=\u001b[0m \u001b[0mBeautifulSoup\u001b[0m\u001b[1;33m(\u001b[0m\u001b[0mhtml\u001b[0m\u001b[1;33m.\u001b[0m\u001b[0mtext\u001b[0m\u001b[1;33m,\u001b[0m\u001b[1;34m\"lxml\"\u001b[0m\u001b[1;33m)\u001b[0m\u001b[1;33m\u001b[0m\u001b[1;33m\u001b[0m\u001b[0m\n\u001b[0;32m      4\u001b[0m \u001b[1;33m\u001b[0m\u001b[0m\n\u001b[0;32m      5\u001b[0m     return [compat.urljoin(html.url,_[\"href\"])\n",
      "\u001b[1;32m<ipython-input-5-ccd1c027a29d>\u001b[0m in \u001b[0;36mdownload\u001b[1;34m(method, url, param, data, timeout, maxretries)\u001b[0m\n\u001b[0;32m     12\u001b[0m         resp = requests.request(method, url,\n\u001b[0;32m     13\u001b[0m                                 \u001b[0mparams\u001b[0m\u001b[1;33m=\u001b[0m \u001b[0mparam\u001b[0m\u001b[1;33m,\u001b[0m\u001b[1;33m\u001b[0m\u001b[1;33m\u001b[0m\u001b[0m\n\u001b[1;32m---> 14\u001b[1;33m                                 data=data, headers=headers)\n\u001b[0m\u001b[0;32m     15\u001b[0m         \u001b[0mresp\u001b[0m\u001b[1;33m.\u001b[0m\u001b[0mraise_for_status\u001b[0m\u001b[1;33m(\u001b[0m\u001b[1;33m)\u001b[0m\u001b[1;33m\u001b[0m\u001b[1;33m\u001b[0m\u001b[0m\n\u001b[0;32m     16\u001b[0m \u001b[1;33m\u001b[0m\u001b[0m\n",
      "\u001b[1;32m~\\Anaconda3\\lib\\site-packages\\requests\\api.py\u001b[0m in \u001b[0;36mrequest\u001b[1;34m(method, url, **kwargs)\u001b[0m\n\u001b[0;32m     58\u001b[0m     \u001b[1;31m# cases, and look like a memory leak in others.\u001b[0m\u001b[1;33m\u001b[0m\u001b[1;33m\u001b[0m\u001b[1;33m\u001b[0m\u001b[0m\n\u001b[0;32m     59\u001b[0m     \u001b[1;32mwith\u001b[0m \u001b[0msessions\u001b[0m\u001b[1;33m.\u001b[0m\u001b[0mSession\u001b[0m\u001b[1;33m(\u001b[0m\u001b[1;33m)\u001b[0m \u001b[1;32mas\u001b[0m \u001b[0msession\u001b[0m\u001b[1;33m:\u001b[0m\u001b[1;33m\u001b[0m\u001b[1;33m\u001b[0m\u001b[0m\n\u001b[1;32m---> 60\u001b[1;33m         \u001b[1;32mreturn\u001b[0m \u001b[0msession\u001b[0m\u001b[1;33m.\u001b[0m\u001b[0mrequest\u001b[0m\u001b[1;33m(\u001b[0m\u001b[0mmethod\u001b[0m\u001b[1;33m=\u001b[0m\u001b[0mmethod\u001b[0m\u001b[1;33m,\u001b[0m \u001b[0murl\u001b[0m\u001b[1;33m=\u001b[0m\u001b[0murl\u001b[0m\u001b[1;33m,\u001b[0m \u001b[1;33m**\u001b[0m\u001b[0mkwargs\u001b[0m\u001b[1;33m)\u001b[0m\u001b[1;33m\u001b[0m\u001b[1;33m\u001b[0m\u001b[0m\n\u001b[0m\u001b[0;32m     61\u001b[0m \u001b[1;33m\u001b[0m\u001b[0m\n\u001b[0;32m     62\u001b[0m \u001b[1;33m\u001b[0m\u001b[0m\n",
      "\u001b[1;32m~\\Anaconda3\\lib\\site-packages\\requests\\sessions.py\u001b[0m in \u001b[0;36mrequest\u001b[1;34m(self, method, url, params, data, headers, cookies, files, auth, timeout, allow_redirects, proxies, hooks, stream, verify, cert, json)\u001b[0m\n\u001b[0;32m    531\u001b[0m         }\n\u001b[0;32m    532\u001b[0m         \u001b[0msend_kwargs\u001b[0m\u001b[1;33m.\u001b[0m\u001b[0mupdate\u001b[0m\u001b[1;33m(\u001b[0m\u001b[0msettings\u001b[0m\u001b[1;33m)\u001b[0m\u001b[1;33m\u001b[0m\u001b[1;33m\u001b[0m\u001b[0m\n\u001b[1;32m--> 533\u001b[1;33m         \u001b[0mresp\u001b[0m \u001b[1;33m=\u001b[0m \u001b[0mself\u001b[0m\u001b[1;33m.\u001b[0m\u001b[0msend\u001b[0m\u001b[1;33m(\u001b[0m\u001b[0mprep\u001b[0m\u001b[1;33m,\u001b[0m \u001b[1;33m**\u001b[0m\u001b[0msend_kwargs\u001b[0m\u001b[1;33m)\u001b[0m\u001b[1;33m\u001b[0m\u001b[1;33m\u001b[0m\u001b[0m\n\u001b[0m\u001b[0;32m    534\u001b[0m \u001b[1;33m\u001b[0m\u001b[0m\n\u001b[0;32m    535\u001b[0m         \u001b[1;32mreturn\u001b[0m \u001b[0mresp\u001b[0m\u001b[1;33m\u001b[0m\u001b[1;33m\u001b[0m\u001b[0m\n",
      "\u001b[1;32m~\\Anaconda3\\lib\\site-packages\\requests\\sessions.py\u001b[0m in \u001b[0;36msend\u001b[1;34m(self, request, **kwargs)\u001b[0m\n\u001b[0;32m    644\u001b[0m \u001b[1;33m\u001b[0m\u001b[0m\n\u001b[0;32m    645\u001b[0m         \u001b[1;31m# Send the request\u001b[0m\u001b[1;33m\u001b[0m\u001b[1;33m\u001b[0m\u001b[1;33m\u001b[0m\u001b[0m\n\u001b[1;32m--> 646\u001b[1;33m         \u001b[0mr\u001b[0m \u001b[1;33m=\u001b[0m \u001b[0madapter\u001b[0m\u001b[1;33m.\u001b[0m\u001b[0msend\u001b[0m\u001b[1;33m(\u001b[0m\u001b[0mrequest\u001b[0m\u001b[1;33m,\u001b[0m \u001b[1;33m**\u001b[0m\u001b[0mkwargs\u001b[0m\u001b[1;33m)\u001b[0m\u001b[1;33m\u001b[0m\u001b[1;33m\u001b[0m\u001b[0m\n\u001b[0m\u001b[0;32m    647\u001b[0m \u001b[1;33m\u001b[0m\u001b[0m\n\u001b[0;32m    648\u001b[0m         \u001b[1;31m# Total elapsed time of the request (approximately)\u001b[0m\u001b[1;33m\u001b[0m\u001b[1;33m\u001b[0m\u001b[1;33m\u001b[0m\u001b[0m\n",
      "\u001b[1;32m~\\Anaconda3\\lib\\site-packages\\requests\\adapters.py\u001b[0m in \u001b[0;36msend\u001b[1;34m(self, request, stream, timeout, verify, cert, proxies)\u001b[0m\n\u001b[0;32m    447\u001b[0m                     \u001b[0mdecode_content\u001b[0m\u001b[1;33m=\u001b[0m\u001b[1;32mFalse\u001b[0m\u001b[1;33m,\u001b[0m\u001b[1;33m\u001b[0m\u001b[1;33m\u001b[0m\u001b[0m\n\u001b[0;32m    448\u001b[0m                     \u001b[0mretries\u001b[0m\u001b[1;33m=\u001b[0m\u001b[0mself\u001b[0m\u001b[1;33m.\u001b[0m\u001b[0mmax_retries\u001b[0m\u001b[1;33m,\u001b[0m\u001b[1;33m\u001b[0m\u001b[1;33m\u001b[0m\u001b[0m\n\u001b[1;32m--> 449\u001b[1;33m                     \u001b[0mtimeout\u001b[0m\u001b[1;33m=\u001b[0m\u001b[0mtimeout\u001b[0m\u001b[1;33m\u001b[0m\u001b[1;33m\u001b[0m\u001b[0m\n\u001b[0m\u001b[0;32m    450\u001b[0m                 )\n\u001b[0;32m    451\u001b[0m \u001b[1;33m\u001b[0m\u001b[0m\n",
      "\u001b[1;32m~\\Anaconda3\\lib\\site-packages\\urllib3\\connectionpool.py\u001b[0m in \u001b[0;36murlopen\u001b[1;34m(self, method, url, body, headers, retries, redirect, assert_same_host, timeout, pool_timeout, release_conn, chunked, body_pos, **response_kw)\u001b[0m\n\u001b[0;32m    598\u001b[0m                                                   \u001b[0mtimeout\u001b[0m\u001b[1;33m=\u001b[0m\u001b[0mtimeout_obj\u001b[0m\u001b[1;33m,\u001b[0m\u001b[1;33m\u001b[0m\u001b[1;33m\u001b[0m\u001b[0m\n\u001b[0;32m    599\u001b[0m                                                   \u001b[0mbody\u001b[0m\u001b[1;33m=\u001b[0m\u001b[0mbody\u001b[0m\u001b[1;33m,\u001b[0m \u001b[0mheaders\u001b[0m\u001b[1;33m=\u001b[0m\u001b[0mheaders\u001b[0m\u001b[1;33m,\u001b[0m\u001b[1;33m\u001b[0m\u001b[1;33m\u001b[0m\u001b[0m\n\u001b[1;32m--> 600\u001b[1;33m                                                   chunked=chunked)\n\u001b[0m\u001b[0;32m    601\u001b[0m \u001b[1;33m\u001b[0m\u001b[0m\n\u001b[0;32m    602\u001b[0m             \u001b[1;31m# If we're going to release the connection in ``finally:``, then\u001b[0m\u001b[1;33m\u001b[0m\u001b[1;33m\u001b[0m\u001b[1;33m\u001b[0m\u001b[0m\n",
      "\u001b[1;32m~\\Anaconda3\\lib\\site-packages\\urllib3\\connectionpool.py\u001b[0m in \u001b[0;36m_make_request\u001b[1;34m(self, conn, method, url, timeout, chunked, **httplib_request_kw)\u001b[0m\n\u001b[0;32m    378\u001b[0m             \u001b[1;32mexcept\u001b[0m \u001b[0mTypeError\u001b[0m\u001b[1;33m:\u001b[0m  \u001b[1;31m# Python 3\u001b[0m\u001b[1;33m\u001b[0m\u001b[1;33m\u001b[0m\u001b[0m\n\u001b[0;32m    379\u001b[0m                 \u001b[1;32mtry\u001b[0m\u001b[1;33m:\u001b[0m\u001b[1;33m\u001b[0m\u001b[1;33m\u001b[0m\u001b[0m\n\u001b[1;32m--> 380\u001b[1;33m                     \u001b[0mhttplib_response\u001b[0m \u001b[1;33m=\u001b[0m \u001b[0mconn\u001b[0m\u001b[1;33m.\u001b[0m\u001b[0mgetresponse\u001b[0m\u001b[1;33m(\u001b[0m\u001b[1;33m)\u001b[0m\u001b[1;33m\u001b[0m\u001b[1;33m\u001b[0m\u001b[0m\n\u001b[0m\u001b[0;32m    381\u001b[0m                 \u001b[1;32mexcept\u001b[0m \u001b[0mException\u001b[0m \u001b[1;32mas\u001b[0m \u001b[0me\u001b[0m\u001b[1;33m:\u001b[0m\u001b[1;33m\u001b[0m\u001b[1;33m\u001b[0m\u001b[0m\n\u001b[0;32m    382\u001b[0m                     \u001b[1;31m# Remove the TypeError from the exception chain in Python 3;\u001b[0m\u001b[1;33m\u001b[0m\u001b[1;33m\u001b[0m\u001b[1;33m\u001b[0m\u001b[0m\n",
      "\u001b[1;32m~\\Anaconda3\\lib\\http\\client.py\u001b[0m in \u001b[0;36mgetresponse\u001b[1;34m(self)\u001b[0m\n\u001b[0;32m   1319\u001b[0m         \u001b[1;32mtry\u001b[0m\u001b[1;33m:\u001b[0m\u001b[1;33m\u001b[0m\u001b[1;33m\u001b[0m\u001b[0m\n\u001b[0;32m   1320\u001b[0m             \u001b[1;32mtry\u001b[0m\u001b[1;33m:\u001b[0m\u001b[1;33m\u001b[0m\u001b[1;33m\u001b[0m\u001b[0m\n\u001b[1;32m-> 1321\u001b[1;33m                 \u001b[0mresponse\u001b[0m\u001b[1;33m.\u001b[0m\u001b[0mbegin\u001b[0m\u001b[1;33m(\u001b[0m\u001b[1;33m)\u001b[0m\u001b[1;33m\u001b[0m\u001b[1;33m\u001b[0m\u001b[0m\n\u001b[0m\u001b[0;32m   1322\u001b[0m             \u001b[1;32mexcept\u001b[0m \u001b[0mConnectionError\u001b[0m\u001b[1;33m:\u001b[0m\u001b[1;33m\u001b[0m\u001b[1;33m\u001b[0m\u001b[0m\n\u001b[0;32m   1323\u001b[0m                 \u001b[0mself\u001b[0m\u001b[1;33m.\u001b[0m\u001b[0mclose\u001b[0m\u001b[1;33m(\u001b[0m\u001b[1;33m)\u001b[0m\u001b[1;33m\u001b[0m\u001b[1;33m\u001b[0m\u001b[0m\n",
      "\u001b[1;32m~\\Anaconda3\\lib\\http\\client.py\u001b[0m in \u001b[0;36mbegin\u001b[1;34m(self)\u001b[0m\n\u001b[0;32m    294\u001b[0m         \u001b[1;31m# read until we get a non-100 response\u001b[0m\u001b[1;33m\u001b[0m\u001b[1;33m\u001b[0m\u001b[1;33m\u001b[0m\u001b[0m\n\u001b[0;32m    295\u001b[0m         \u001b[1;32mwhile\u001b[0m \u001b[1;32mTrue\u001b[0m\u001b[1;33m:\u001b[0m\u001b[1;33m\u001b[0m\u001b[1;33m\u001b[0m\u001b[0m\n\u001b[1;32m--> 296\u001b[1;33m             \u001b[0mversion\u001b[0m\u001b[1;33m,\u001b[0m \u001b[0mstatus\u001b[0m\u001b[1;33m,\u001b[0m \u001b[0mreason\u001b[0m \u001b[1;33m=\u001b[0m \u001b[0mself\u001b[0m\u001b[1;33m.\u001b[0m\u001b[0m_read_status\u001b[0m\u001b[1;33m(\u001b[0m\u001b[1;33m)\u001b[0m\u001b[1;33m\u001b[0m\u001b[1;33m\u001b[0m\u001b[0m\n\u001b[0m\u001b[0;32m    297\u001b[0m             \u001b[1;32mif\u001b[0m \u001b[0mstatus\u001b[0m \u001b[1;33m!=\u001b[0m \u001b[0mCONTINUE\u001b[0m\u001b[1;33m:\u001b[0m\u001b[1;33m\u001b[0m\u001b[1;33m\u001b[0m\u001b[0m\n\u001b[0;32m    298\u001b[0m                 \u001b[1;32mbreak\u001b[0m\u001b[1;33m\u001b[0m\u001b[1;33m\u001b[0m\u001b[0m\n",
      "\u001b[1;32m~\\Anaconda3\\lib\\http\\client.py\u001b[0m in \u001b[0;36m_read_status\u001b[1;34m(self)\u001b[0m\n\u001b[0;32m    255\u001b[0m \u001b[1;33m\u001b[0m\u001b[0m\n\u001b[0;32m    256\u001b[0m     \u001b[1;32mdef\u001b[0m \u001b[0m_read_status\u001b[0m\u001b[1;33m(\u001b[0m\u001b[0mself\u001b[0m\u001b[1;33m)\u001b[0m\u001b[1;33m:\u001b[0m\u001b[1;33m\u001b[0m\u001b[1;33m\u001b[0m\u001b[0m\n\u001b[1;32m--> 257\u001b[1;33m         \u001b[0mline\u001b[0m \u001b[1;33m=\u001b[0m \u001b[0mstr\u001b[0m\u001b[1;33m(\u001b[0m\u001b[0mself\u001b[0m\u001b[1;33m.\u001b[0m\u001b[0mfp\u001b[0m\u001b[1;33m.\u001b[0m\u001b[0mreadline\u001b[0m\u001b[1;33m(\u001b[0m\u001b[0m_MAXLINE\u001b[0m \u001b[1;33m+\u001b[0m \u001b[1;36m1\u001b[0m\u001b[1;33m)\u001b[0m\u001b[1;33m,\u001b[0m \u001b[1;34m\"iso-8859-1\"\u001b[0m\u001b[1;33m)\u001b[0m\u001b[1;33m\u001b[0m\u001b[1;33m\u001b[0m\u001b[0m\n\u001b[0m\u001b[0;32m    258\u001b[0m         \u001b[1;32mif\u001b[0m \u001b[0mlen\u001b[0m\u001b[1;33m(\u001b[0m\u001b[0mline\u001b[0m\u001b[1;33m)\u001b[0m \u001b[1;33m>\u001b[0m \u001b[0m_MAXLINE\u001b[0m\u001b[1;33m:\u001b[0m\u001b[1;33m\u001b[0m\u001b[1;33m\u001b[0m\u001b[0m\n\u001b[0;32m    259\u001b[0m             \u001b[1;32mraise\u001b[0m \u001b[0mLineTooLong\u001b[0m\u001b[1;33m(\u001b[0m\u001b[1;34m\"status line\"\u001b[0m\u001b[1;33m)\u001b[0m\u001b[1;33m\u001b[0m\u001b[1;33m\u001b[0m\u001b[0m\n",
      "\u001b[1;32m~\\Anaconda3\\lib\\socket.py\u001b[0m in \u001b[0;36mreadinto\u001b[1;34m(self, b)\u001b[0m\n\u001b[0;32m    587\u001b[0m         \u001b[1;32mwhile\u001b[0m \u001b[1;32mTrue\u001b[0m\u001b[1;33m:\u001b[0m\u001b[1;33m\u001b[0m\u001b[1;33m\u001b[0m\u001b[0m\n\u001b[0;32m    588\u001b[0m             \u001b[1;32mtry\u001b[0m\u001b[1;33m:\u001b[0m\u001b[1;33m\u001b[0m\u001b[1;33m\u001b[0m\u001b[0m\n\u001b[1;32m--> 589\u001b[1;33m                 \u001b[1;32mreturn\u001b[0m \u001b[0mself\u001b[0m\u001b[1;33m.\u001b[0m\u001b[0m_sock\u001b[0m\u001b[1;33m.\u001b[0m\u001b[0mrecv_into\u001b[0m\u001b[1;33m(\u001b[0m\u001b[0mb\u001b[0m\u001b[1;33m)\u001b[0m\u001b[1;33m\u001b[0m\u001b[1;33m\u001b[0m\u001b[0m\n\u001b[0m\u001b[0;32m    590\u001b[0m             \u001b[1;32mexcept\u001b[0m \u001b[0mtimeout\u001b[0m\u001b[1;33m:\u001b[0m\u001b[1;33m\u001b[0m\u001b[1;33m\u001b[0m\u001b[0m\n\u001b[0;32m    591\u001b[0m                 \u001b[0mself\u001b[0m\u001b[1;33m.\u001b[0m\u001b[0m_timeout_occurred\u001b[0m \u001b[1;33m=\u001b[0m \u001b[1;32mTrue\u001b[0m\u001b[1;33m\u001b[0m\u001b[1;33m\u001b[0m\u001b[0m\n",
      "\u001b[1;32m~\\Anaconda3\\lib\\site-packages\\urllib3\\contrib\\pyopenssl.py\u001b[0m in \u001b[0;36mrecv_into\u001b[1;34m(self, *args, **kwargs)\u001b[0m\n\u001b[0;32m    292\u001b[0m     \u001b[1;32mdef\u001b[0m \u001b[0mrecv_into\u001b[0m\u001b[1;33m(\u001b[0m\u001b[0mself\u001b[0m\u001b[1;33m,\u001b[0m \u001b[1;33m*\u001b[0m\u001b[0margs\u001b[0m\u001b[1;33m,\u001b[0m \u001b[1;33m**\u001b[0m\u001b[0mkwargs\u001b[0m\u001b[1;33m)\u001b[0m\u001b[1;33m:\u001b[0m\u001b[1;33m\u001b[0m\u001b[1;33m\u001b[0m\u001b[0m\n\u001b[0;32m    293\u001b[0m         \u001b[1;32mtry\u001b[0m\u001b[1;33m:\u001b[0m\u001b[1;33m\u001b[0m\u001b[1;33m\u001b[0m\u001b[0m\n\u001b[1;32m--> 294\u001b[1;33m             \u001b[1;32mreturn\u001b[0m \u001b[0mself\u001b[0m\u001b[1;33m.\u001b[0m\u001b[0mconnection\u001b[0m\u001b[1;33m.\u001b[0m\u001b[0mrecv_into\u001b[0m\u001b[1;33m(\u001b[0m\u001b[1;33m*\u001b[0m\u001b[0margs\u001b[0m\u001b[1;33m,\u001b[0m \u001b[1;33m**\u001b[0m\u001b[0mkwargs\u001b[0m\u001b[1;33m)\u001b[0m\u001b[1;33m\u001b[0m\u001b[1;33m\u001b[0m\u001b[0m\n\u001b[0m\u001b[0;32m    295\u001b[0m         \u001b[1;32mexcept\u001b[0m \u001b[0mOpenSSL\u001b[0m\u001b[1;33m.\u001b[0m\u001b[0mSSL\u001b[0m\u001b[1;33m.\u001b[0m\u001b[0mSysCallError\u001b[0m \u001b[1;32mas\u001b[0m \u001b[0me\u001b[0m\u001b[1;33m:\u001b[0m\u001b[1;33m\u001b[0m\u001b[1;33m\u001b[0m\u001b[0m\n\u001b[0;32m    296\u001b[0m             \u001b[1;32mif\u001b[0m \u001b[0mself\u001b[0m\u001b[1;33m.\u001b[0m\u001b[0msuppress_ragged_eofs\u001b[0m \u001b[1;32mand\u001b[0m \u001b[0me\u001b[0m\u001b[1;33m.\u001b[0m\u001b[0margs\u001b[0m \u001b[1;33m==\u001b[0m \u001b[1;33m(\u001b[0m\u001b[1;33m-\u001b[0m\u001b[1;36m1\u001b[0m\u001b[1;33m,\u001b[0m \u001b[1;34m'Unexpected EOF'\u001b[0m\u001b[1;33m)\u001b[0m\u001b[1;33m:\u001b[0m\u001b[1;33m\u001b[0m\u001b[1;33m\u001b[0m\u001b[0m\n",
      "\u001b[1;32m~\\Anaconda3\\lib\\site-packages\\OpenSSL\\SSL.py\u001b[0m in \u001b[0;36mrecv_into\u001b[1;34m(self, buffer, nbytes, flags)\u001b[0m\n\u001b[0;32m   1819\u001b[0m             \u001b[0mresult\u001b[0m \u001b[1;33m=\u001b[0m \u001b[0m_lib\u001b[0m\u001b[1;33m.\u001b[0m\u001b[0mSSL_peek\u001b[0m\u001b[1;33m(\u001b[0m\u001b[0mself\u001b[0m\u001b[1;33m.\u001b[0m\u001b[0m_ssl\u001b[0m\u001b[1;33m,\u001b[0m \u001b[0mbuf\u001b[0m\u001b[1;33m,\u001b[0m \u001b[0mnbytes\u001b[0m\u001b[1;33m)\u001b[0m\u001b[1;33m\u001b[0m\u001b[1;33m\u001b[0m\u001b[0m\n\u001b[0;32m   1820\u001b[0m         \u001b[1;32melse\u001b[0m\u001b[1;33m:\u001b[0m\u001b[1;33m\u001b[0m\u001b[1;33m\u001b[0m\u001b[0m\n\u001b[1;32m-> 1821\u001b[1;33m             \u001b[0mresult\u001b[0m \u001b[1;33m=\u001b[0m \u001b[0m_lib\u001b[0m\u001b[1;33m.\u001b[0m\u001b[0mSSL_read\u001b[0m\u001b[1;33m(\u001b[0m\u001b[0mself\u001b[0m\u001b[1;33m.\u001b[0m\u001b[0m_ssl\u001b[0m\u001b[1;33m,\u001b[0m \u001b[0mbuf\u001b[0m\u001b[1;33m,\u001b[0m \u001b[0mnbytes\u001b[0m\u001b[1;33m)\u001b[0m\u001b[1;33m\u001b[0m\u001b[1;33m\u001b[0m\u001b[0m\n\u001b[0m\u001b[0;32m   1822\u001b[0m         \u001b[0mself\u001b[0m\u001b[1;33m.\u001b[0m\u001b[0m_raise_ssl_error\u001b[0m\u001b[1;33m(\u001b[0m\u001b[0mself\u001b[0m\u001b[1;33m.\u001b[0m\u001b[0m_ssl\u001b[0m\u001b[1;33m,\u001b[0m \u001b[0mresult\u001b[0m\u001b[1;33m)\u001b[0m\u001b[1;33m\u001b[0m\u001b[1;33m\u001b[0m\u001b[0m\n\u001b[0;32m   1823\u001b[0m \u001b[1;33m\u001b[0m\u001b[0m\n",
      "\u001b[1;31mKeyboardInterrupt\u001b[0m: "
     ]
    }
   ],
   "source": [
    "queue = list()\n",
    "#queue.append('https://www.google.com/search?newwindow=1&hl=en&source=hp&ei=wN8rXZW8NMn_8QWErqDgDg&q=박보영&oq=박보영&gs_l=psy-ab.3..0l10.2667.3629..3735...2.0..1.126.877.1j8......0....1..gws-wiz.....0..0i131.xCFY8trEo3I')\n",
    "#for _ in ParkList:\n",
    "#    queue.append(_[0])\n",
    "\n",
    "queue.extend([_.find_parent()[\"href\"] for _ in dom2.select(\".LC20lb\")])\n",
    "seen = list()\n",
    "\n",
    "# BFS Search (너비 우선 탐색)\n",
    "while True:\n",
    "    baseURL = queue.pop(0) # FIFO\n",
    "    #baseURL = queue.pop(-1) # Stack으로 해서 깊이우선 탐색\n",
    "    seen.append(baseURL)\n",
    "    # URL Seen : BaseURL에 쓰인 것을 다른 table에서 관리하다가 있으면 피한다.\n",
    "    \n",
    "    time.sleep(1) # 너무 빠르면 안된다.\n",
    "    \n",
    "    linkList = parseURL(baseURL)\n",
    "    for link in linkList:  # 중복되는 url은 빼주어야 한다. (Home 같은 것)\n",
    "        if link not in queue and link not in seen:\n",
    "            queue.append(link)\n",
    "    print(\"Queue: {0}, Seen: {1}\".format(len(queue),len(seen)))\n",
    "\n",
    "# Back of Add Model을 만들 수 있다.\n",
    "# Or not vector(?) \n",
    "# 저차원으로 가면 Word Embedding\n"
   ]
  },
  {
   "cell_type": "markdown",
   "metadata": {},
   "source": [
    "- 데이터베이스를 만드려면 테이블관의 관계를 어떻게 할건지 스키마 구성해야함\n",
    "- 이미지만, 텍스트만 처리 혹은 구성할건지\n",
    "- 데이터베이스는 PK가 제일 중요하다(Unique). 절대로 문자열 쓰지마라.  \n",
    "DB는 빠르게 해쉬해야하는데 문자열이면 해쉬값을 못만든다.  \n",
    "- ID , url, 언제 Access했는지(date값), seen인지 체크\n"
   ]
  },
  {
   "cell_type": "markdown",
   "metadata": {},
   "source": [
    "- 테이블 1개에 id, url, seen, date가 필요\n",
    "- url도 중복이 많이 생기기 때문에 참조하는 형태로 하면 속도가 빨라질 것이다.\n",
    "- "
   ]
  },
  {
   "cell_type": "markdown",
   "metadata": {},
   "source": [
    "table1 = id, path, param seen, date  \n",
    "table2 = id, netloc, date(timestamp 방식)  \n",
    "url = netloc + path + param  \n",
    "\n",
    "table1과 table2를 join시켜서 table2에 focused 크롤링 하면 된다.  "
   ]
  },
  {
   "cell_type": "code",
   "execution_count": 307,
   "metadata": {},
   "outputs": [],
   "source": [
    "import sqlite3 as sql3"
   ]
  },
  {
   "cell_type": "code",
   "execution_count": 308,
   "metadata": {},
   "outputs": [],
   "source": [
    "con = sql3.connect('myB.db',)"
   ]
  },
  {
   "cell_type": "code",
   "execution_count": 309,
   "metadata": {},
   "outputs": [],
   "source": [
    "cur = con.cursor()"
   ]
  },
  {
   "cell_type": "code",
   "execution_count": 423,
   "metadata": {},
   "outputs": [
    {
     "data": {
      "text/plain": [
       "<sqlite3.Cursor at 0x186c6f60b20>"
      ]
     },
     "execution_count": 423,
     "metadata": {},
     "output_type": "execute_result"
    }
   ],
   "source": [
    "cur.executescript(\"\"\"\n",
    "    DROP TABLE IF EXISTS table1;\n",
    "    CREATE TABLE table1(\n",
    "    id INTEGER PRIMARY KEY AUTOINCREMENT NOT NULL,\n",
    "    table2_id INTEGER NOT NULL,\n",
    "    path TEXT NOT NULL,\n",
    "    param TEXT,\n",
    "    depth INTEGER NOT NULL,\n",
    "    inbound INTEGER NOT NULL,\n",
    "    seen BOOLEAN DEFAULT FALSE,\n",
    "    date TIMESTAMP DEFAULT CURRENT_TIMESTAMP NOT NULL\n",
    "    );\n",
    "    \n",
    "    DROP TABLE IF EXISTS table2;\n",
    "    CREATE TABLE table2(\n",
    "    id INTEGER PRIMARY KEY AUTOINCREMENT NOT NULL,\n",
    "    netloc TEXT NOT NULL,\n",
    "    date TIMESTAMP DEFAULT CURRENT_TIMESTAMP NOT NULL\n",
    "    );\n",
    "\"\"\") # 나중에 본문 내용 빼놓고 이미지,텍스트로 분기도 가능하다."
   ]
  },
  {
   "cell_type": "code",
   "execution_count": 424,
   "metadata": {},
   "outputs": [],
   "source": [
    "con.commit()"
   ]
  },
  {
   "cell_type": "code",
   "execution_count": 425,
   "metadata": {},
   "outputs": [],
   "source": [
    "def parseURL(seed):\n",
    "    html = download(\"get\",seed)\n",
    "    dom = BeautifulSoup(html.text,\"lxml\")\n",
    "    \n",
    "    return [compat.urljoin(seed,_[\"href\"]) # 특정 depth까지만\n",
    "                 for _ in dom.find_all(\"a\") \n",
    "            if _.has_attr(\"href\") and len(_[\"href\"]) > 3]"
   ]
  },
  {
   "cell_type": "code",
   "execution_count": 426,
   "metadata": {},
   "outputs": [],
   "source": [
    "# Google\n",
    "url = 'https://www.google.com/search?newwindow=1&ei=rhwsXfmJLsj58QXyyZugAQ&q=%EB%B0%95%EB%B3%B4%EC%98%81&oq=%EB%B0%95%EB%B3%B4%EC%98%81&gs_l=psy-ab.3..0l2j0i131j0l7.233632.234700..234750...1.0..1.137.847.1j7......0....1..gws-wiz.....0..0i71.NbxV7mwYbnE'\n",
    "param = getparams(url)\n",
    "urlsrc = geturl(url)\n",
    "\n",
    "html = download('get',urlsrc,param)\n",
    "dom = BeautifulSoup(html.text,\"lxml\")"
   ]
  },
  {
   "cell_type": "code",
   "execution_count": 427,
   "metadata": {},
   "outputs": [
    {
     "name": "stdout",
     "output_type": "stream",
     "text": [
      "1 (1,)\n",
      "2 (2,)\n",
      "3 (2,)\n",
      "4 (3,)\n",
      "5 (4,)\n",
      "6 (5,)\n",
      "7 (6,)\n",
      "8 (7,)\n",
      "9 (8,)\n"
     ]
    }
   ],
   "source": [
    "for href in [_.find_parent()[\"href\"] for _ in dom.select(\".LC20lb\")]:\n",
    "    \n",
    "    _urlparse = compat.urlparse(href)\n",
    "    netloc = \"://\".join(_urlparse[:2])\n",
    "    cur.execute(\"SELECT id FROM table2 WHERE netloc = ? LIMIT 0,1\"\n",
    "                ,[netloc]) # netloc은 sequence로 만들어야함\n",
    "    \n",
    "    netlocID = cur.fetchone()\n",
    "    if not netlocID:\n",
    "        cur.execute(\"INSERT INTO table2 (netloc) VALUES(?)\"\n",
    "                    ,[netloc])\n",
    "        con.commit()\n",
    "        cur.execute(\"SELECT id FROM table2 WHERE netloc = ? LIMIT 0,1\"\n",
    "                ,[netloc])\n",
    "        netlocID = cur.fetchone()\n",
    "        \n",
    "    cur.execute(\"INSERT INTO table1(table2_id,path,param,depth,inbound)\\\n",
    "    VALUES(?,?,?,?,?)\",[netlocID[0],_urlparse[2],_urlparse[4],1,0])\n",
    "    con.commit()\n",
    "    print(cur.lastrowid,netlocID)\n",
    "    "
   ]
  },
  {
   "cell_type": "code",
   "execution_count": 428,
   "metadata": {},
   "outputs": [
    {
     "ename": "KeyboardInterrupt",
     "evalue": "",
     "output_type": "error",
     "traceback": [
      "\u001b[1;31m---------------------------------------------------------------------------\u001b[0m",
      "\u001b[1;31mKeyboardInterrupt\u001b[0m                         Traceback (most recent call last)",
      "\u001b[1;32m<ipython-input-428-4aba06ca05b1>\u001b[0m in \u001b[0;36m<module>\u001b[1;34m\u001b[0m\n\u001b[0;32m     42\u001b[0m         VALUES(?,?,?,?,?)\",[netlocID[0],_urlparse[2],_urlparse[4],seed[4]+1,\n\u001b[0;32m     43\u001b[0m                            seed[5]])\n\u001b[1;32m---> 44\u001b[1;33m         \u001b[0mcon\u001b[0m\u001b[1;33m.\u001b[0m\u001b[0mcommit\u001b[0m\u001b[1;33m(\u001b[0m\u001b[1;33m)\u001b[0m\u001b[1;33m\u001b[0m\u001b[1;33m\u001b[0m\u001b[0m\n\u001b[0m\u001b[0;32m     45\u001b[0m     \u001b[0mi\u001b[0m\u001b[1;33m+=\u001b[0m\u001b[1;36m1\u001b[0m\u001b[1;33m\u001b[0m\u001b[1;33m\u001b[0m\u001b[0m\n\u001b[0;32m     46\u001b[0m     \u001b[1;32mif\u001b[0m \u001b[0mi\u001b[0m\u001b[1;33m==\u001b[0m\u001b[1;36m1000\u001b[0m\u001b[1;33m:\u001b[0m\u001b[1;33m\u001b[0m\u001b[1;33m\u001b[0m\u001b[0m\n",
      "\u001b[1;31mKeyboardInterrupt\u001b[0m: "
     ]
    }
   ],
   "source": [
    "i = 0\n",
    "while True:\n",
    "    cur.execute(\"\"\"\n",
    "    SELECT table1.id,table2.netloc,\n",
    "           table1.path,table1.param,\n",
    "           table1.depth, table2.id\n",
    "    FROM table1\n",
    "    JOIN table2 ON table1.table2_id=table2.id\n",
    "    WHERE table1.seen = FALSE and table1.depth < 3\n",
    "    ORDER BY table1.date ASC\n",
    "    LIMIT 0,1;\n",
    "    \"\"\")\n",
    "    seed = cur.fetchone()\n",
    "    if not seed:\n",
    "        break;\n",
    "    \n",
    "    cur.execute(\"\"\"\n",
    "        UPDATE table1\n",
    "        SET seen=TRUE\n",
    "        where id = ?\n",
    "    \"\"\",[seed[0]])\n",
    "    con.commit()\n",
    "    \n",
    "    baseURL = \"{0}{1}?{2}\".format(seed[1],seed[2],seed[3]) # 주소 만들기\n",
    "    for href in parseURL(baseURL):\n",
    "\n",
    "        _urlparse = compat.urlparse(href)\n",
    "        netloc = \"://\".join(_urlparse[:2])\n",
    "        cur.execute(\"SELECT id FROM table2 WHERE netloc = ? LIMIT 0,1\"\n",
    "                    ,[netloc]) # netloc은 sequence로 만들어야함\n",
    "\n",
    "        netlocID = cur.fetchone()\n",
    "        if not netlocID:\n",
    "            cur.execute(\"INSERT INTO table2 (netloc) VALUES(?)\"\n",
    "                        ,[netloc])\n",
    "            con.commit()\n",
    "            cur.execute(\"SELECT id FROM table2 WHERE netloc = ? LIMIT 0,1\"\n",
    "                    ,[netloc])\n",
    "            netlocID = cur.fetchone()\n",
    "\n",
    "        cur.execute(\"INSERT INTO table1(table2_id,path,param,depth,inbound)\\\n",
    "        VALUES(?,?,?,?,?)\",[netlocID[0],_urlparse[2],_urlparse[4],seed[4]+1,\n",
    "                           seed[5]])\n",
    "        con.commit()\n",
    "    i+=1\n",
    "    if i==1000:\n",
    "        break;"
   ]
  },
  {
   "cell_type": "code",
   "execution_count": 404,
   "metadata": {
    "scrolled": true
   },
   "outputs": [],
   "source": [
    "cur.execute(\"INSERT INTO table1(table2_id,path,param)\\\n",
    "        VALUES(?,?,?)\",[10,'',''])\n",
    "con.commit()"
   ]
  },
  {
   "cell_type": "code",
   "execution_count": 359,
   "metadata": {},
   "outputs": [
    {
     "data": {
      "text/plain": [
       "[ParseResult(scheme='https', netloc='namu.wiki', path='/w/%EB%B0%95%EB%B3%B4%EC%98%81', params='', query='', fragment=''),\n",
       " ParseResult(scheme='https', netloc='ko.wikipedia.org', path='/wiki/%EB%B0%95%EB%B3%B4%EC%98%81', params='', query='', fragment=''),\n",
       " ParseResult(scheme='https', netloc='ko.wikipedia.org', path='/wiki/%EB%B0%95%EB%B3%B4%EC%98%81%EC%9D%98_%EC%9E%91%ED%92%88_%EB%AA%A9%EB%A1%9D', params='', query='', fragment=''),\n",
       " ParseResult(scheme='https', netloc='news.joins.com', path='/article/22895953', params='', query='', fragment=''),\n",
       " ParseResult(scheme='https', netloc='movie.daum.net', path='/person/main', params='', query='personId=105244', fragment=''),\n",
       " ParseResult(scheme='http', netloc='m.cafe.daum.net', path='/parkboyoungfd', params='', query='', fragment=''),\n",
       " ParseResult(scheme='https', netloc='www.msn.com', path='/ko-kr/entertainment/tv/hd%EC%8A%A4%ED%86%A0%EB%A6%AC-%EC%9E%91%EC%9D%80-%EA%B1%B0%EC%9D%B8-%EB%B0%95%EB%B3%B4%EC%98%81%E2%80%A6%EA%B7%B8%EC%9D%98-%EC%97%B0%EA%B8%B0%EC%97%90-%EB%8C%80%ED%95%9C-%ED%9D%94%EC%A0%81%EB%93%A4/ar-BBUvL0V', params='', query='', fragment=''),\n",
       " ParseResult(scheme='https', netloc='twitter.com', path='/hashtag/%EB%B0%95%EB%B3%B4%EC%98%81', params='', query='', fragment=''),\n",
       " ParseResult(scheme='http', netloc='www.epochtimes.co.kr', path='/news/articleView.html', params='', query='idxno=415565', fragment='')]"
      ]
     },
     "execution_count": 359,
     "metadata": {},
     "output_type": "execute_result"
    }
   ],
   "source": [
    "[compat.urlparse(_.find_parent()[\"href\"]) for _ in dom.select(\".LC20lb\")]\n",
    "# params는 post방식에서 넘기는 것이다."
   ]
  },
  {
   "cell_type": "code",
   "execution_count": 346,
   "metadata": {},
   "outputs": [
    {
     "data": {
      "text/plain": [
       "(6,)"
      ]
     },
     "execution_count": 346,
     "metadata": {},
     "output_type": "execute_result"
    }
   ],
   "source": [
    "cur.execute(\"SELECT id FROM table2 WHERE netloc = ? LIMIT 0,1\"\n",
    "                ,[netloc])\n",
    "cur.fetchone()"
   ]
  },
  {
   "cell_type": "code",
   "execution_count": 305,
   "metadata": {
    "collapsed": true
   },
   "outputs": [
    {
     "name": "stdout",
     "output_type": "stream",
     "text": [
      "Queue: 45, Seen: 1\n",
      "Queue: 61, Seen: 2\n",
      "Queue: 85, Seen: 3\n",
      "Queue: 92, Seen: 4\n",
      "Queue: 91, Seen: 5\n",
      "Queue: 90, Seen: 6\n",
      "Queue: 89, Seen: 7\n",
      "Queue: 88, Seen: 8\n",
      "Queue: 87, Seen: 9\n",
      "Queue: 86, Seen: 10\n",
      "Queue: 85, Seen: 11\n",
      "Queue: 84, Seen: 12\n",
      "Queue: 83, Seen: 13\n",
      "Queue: 82, Seen: 14\n",
      "Queue: 81, Seen: 15\n",
      "Queue: 80, Seen: 16\n",
      "Queue: 79, Seen: 17\n",
      "Queue: 78, Seen: 18\n",
      "Queue: 77, Seen: 19\n",
      "Queue: 76, Seen: 20\n",
      "Queue: 75, Seen: 21\n",
      "Queue: 74, Seen: 22\n",
      "Queue: 73, Seen: 23\n",
      "Queue: 72, Seen: 24\n",
      "Queue: 71, Seen: 25\n",
      "Queue: 70, Seen: 26\n",
      "Queue: 69, Seen: 27\n",
      "Queue: 68, Seen: 28\n",
      "Queue: 67, Seen: 29\n",
      "Queue: 66, Seen: 30\n",
      "Queue: 65, Seen: 31\n",
      "Queue: 64, Seen: 32\n",
      "Queue: 63, Seen: 33\n",
      "Queue: 62, Seen: 34\n",
      "Queue: 61, Seen: 35\n",
      "Queue: 60, Seen: 36\n",
      "Queue: 59, Seen: 37\n",
      "Queue: 58, Seen: 38\n",
      "Queue: 57, Seen: 39\n",
      "Queue: 56, Seen: 40\n",
      "Queue: 55, Seen: 41\n",
      "Queue: 54, Seen: 42\n",
      "Queue: 53, Seen: 43\n",
      "Queue: 52, Seen: 44\n",
      "Queue: 51, Seen: 45\n",
      "Queue: 50, Seen: 46\n",
      "Queue: 49, Seen: 47\n",
      "Queue: 48, Seen: 48\n",
      "Queue: 47, Seen: 49\n",
      "Queue: 46, Seen: 50\n",
      "Queue: 45, Seen: 51\n",
      "Queue: 44, Seen: 52\n",
      "Queue: 43, Seen: 53\n",
      "Queue: 42, Seen: 54\n",
      "Queue: 41, Seen: 55\n",
      "Queue: 40, Seen: 56\n",
      "Queue: 39, Seen: 57\n",
      "Queue: 38, Seen: 58\n",
      "Queue: 37, Seen: 59\n",
      "Queue: 36, Seen: 60\n",
      "Queue: 35, Seen: 61\n",
      "Queue: 34, Seen: 62\n",
      "Queue: 33, Seen: 63\n",
      "Queue: 32, Seen: 64\n",
      "Queue: 31, Seen: 65\n",
      "Queue: 30, Seen: 66\n",
      "Queue: 29, Seen: 67\n",
      "Queue: 28, Seen: 68\n",
      "Queue: 27, Seen: 69\n",
      "Queue: 26, Seen: 70\n",
      "Queue: 25, Seen: 71\n",
      "Queue: 24, Seen: 72\n",
      "Queue: 23, Seen: 73\n",
      "Queue: 22, Seen: 74\n",
      "Queue: 21, Seen: 75\n",
      "Queue: 20, Seen: 76\n",
      "Queue: 19, Seen: 77\n",
      "Queue: 18, Seen: 78\n",
      "Queue: 17, Seen: 79\n",
      "Queue: 16, Seen: 80\n",
      "Queue: 15, Seen: 81\n",
      "Queue: 14, Seen: 82\n",
      "Queue: 13, Seen: 83\n",
      "Queue: 12, Seen: 84\n",
      "Queue: 11, Seen: 85\n",
      "Queue: 10, Seen: 86\n",
      "Queue: 9, Seen: 87\n",
      "Queue: 8, Seen: 88\n",
      "Queue: 7, Seen: 89\n",
      "Queue: 6, Seen: 90\n",
      "Queue: 5, Seen: 91\n",
      "Queue: 4, Seen: 92\n",
      "Queue: 3, Seen: 93\n",
      "Queue: 2, Seen: 94\n",
      "Queue: 1, Seen: 95\n",
      "Queue: 0, Seen: 96\n"
     ]
    }
   ],
   "source": [
    "queue = list()\n",
    "queue.extend([_.find_parent()[\"href\"] for _ in dom.select(\".LC20lb\")])\n",
    "seen = list()\n",
    "\n",
    "while queue:\n",
    "    baseURL = queue.pop(0) \n",
    "    seen.append(baseURL)\n",
    "    \n",
    "    time.sleep(0.1) # 너무 빠르면 안된다.\n",
    "    \n",
    "    linkList = parseURL(baseURL)\n",
    "    for link in linkList:  # 중복되는 url은 빼주어야 한다. (Home 같은 것)\n",
    "        if link not in queue and link not in seen:\n",
    "            queue.append(link)\n",
    "    print(\"Queue: {0}, Seen: {1}\".format(len(queue),len(seen)))\n",
    "\n",
    "    \n",
    "# Focused crawling은 얼마나 레퍼런스됬는지 볼때사용됨."
   ]
  },
  {
   "cell_type": "code",
   "execution_count": 332,
   "metadata": {},
   "outputs": [
    {
     "data": {
      "text/plain": [
       "ParseResult(scheme='https', netloc='namu.wiki', path='/w/%EB%B0%95%EB%B3%B4%EC%98%81', params='', query='', fragment='')"
      ]
     },
     "execution_count": 332,
     "metadata": {},
     "output_type": "execute_result"
    }
   ],
   "source": [
    "compat.urlparse(a[0])"
   ]
  },
  {
   "cell_type": "code",
   "execution_count": null,
   "metadata": {},
   "outputs": [],
   "source": [
    "select inbound,count(inbound)\n",
    "from table1 where table2_id=2 group by inbound;"
   ]
  },
  {
   "cell_type": "code",
   "execution_count": 430,
   "metadata": {},
   "outputs": [
    {
     "data": {
      "text/plain": [
       "[(1, 979), (10, 1310)]"
      ]
     },
     "execution_count": 430,
     "metadata": {},
     "output_type": "execute_result"
    }
   ],
   "source": [
    "cur.execute(\"\"\"\n",
    "    select inbound,count(inbound)\n",
    "    from table1 \n",
    "    where table2_id=10 group by inbound;\n",
    "\"\"\")\n",
    "cur.fetchall() # outbound 보기 가능."
   ]
  },
  {
   "cell_type": "code",
   "execution_count": 431,
   "metadata": {},
   "outputs": [
    {
     "data": {
      "text/plain": [
       "[(35768,)]"
      ]
     },
     "execution_count": 431,
     "metadata": {},
     "output_type": "execute_result"
    }
   ],
   "source": [
    "cur.execute(\"\"\"\n",
    "    select count(inbound)\n",
    "    from table1 \n",
    "    where inbound=1;\n",
    "\"\"\")\n",
    "cur.fetchall()"
   ]
  },
  {
   "cell_type": "markdown",
   "metadata": {},
   "source": [
    "- 979/35768이 1번 사이트의 가중치이다.\n",
    "- 정보의 중요성이 얼마나 되는지 볼 때 inbound, outbound를 이용한 rank를 사용"
   ]
  },
  {
   "cell_type": "markdown",
   "metadata": {},
   "source": [
    "- 내일은 contents를 담는 table만들어서 엮을 것임.\n",
    "- 원하는 data 뽑아서 넣을 것임"
   ]
  },
  {
   "cell_type": "code",
   "execution_count": null,
   "metadata": {},
   "outputs": [],
   "source": []
  }
 ],
 "metadata": {
  "kernelspec": {
   "display_name": "Python 3",
   "language": "python",
   "name": "python3"
  },
  "language_info": {
   "codemirror_mode": {
    "name": "ipython",
    "version": 3
   },
   "file_extension": ".py",
   "mimetype": "text/x-python",
   "name": "python",
   "nbconvert_exporter": "python",
   "pygments_lexer": "ipython3",
   "version": "3.7.3"
  }
 },
 "nbformat": 4,
 "nbformat_minor": 2
}
