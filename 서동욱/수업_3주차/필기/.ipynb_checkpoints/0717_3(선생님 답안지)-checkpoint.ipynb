{
 "cells": [
  {
   "cell_type": "code",
   "execution_count": 3,
   "metadata": {},
   "outputs": [],
   "source": [
    "import sqlite3\n",
    "con = sqlite3.connect(\"news.db\")\n",
    "cur = con.cursor()\n",
    "\n",
    "cur.executescript(\"\"\"\n",
    "    DROP TABLE IF EXISTS table1;\n",
    "    CREATE TABLE table1(\n",
    "        id INTEGER PRIMARY KEY AUTOINCREMENT NOT NULL,\n",
    "        title TEXT NOT NULL,\n",
    "        url TEXT NOT NULL\n",
    "    );\n",
    "    \n",
    "    DROP TABLE IF EXISTS table2;\n",
    "    CREATE TABLE table2(\n",
    "        id INTEGER PRIMARY KEY AUTOINCREMENT NOT NULL,\n",
    "        table1_id INTEGER NOT NULL,\n",
    "        content TEXT NOT NULL\n",
    "    );\n",
    "\n",
    "\"\"\")\n",
    "con.commit()"
   ]
  },
  {
   "cell_type": "code",
   "execution_count": 2,
   "metadata": {},
   "outputs": [
    {
     "ename": "NameError",
     "evalue": "name 'driver' is not defined",
     "output_type": "error",
     "traceback": [
      "\u001b[1;31m---------------------------------------------------------------------------\u001b[0m",
      "\u001b[1;31mNameError\u001b[0m                                 Traceback (most recent call last)",
      "\u001b[1;32m<ipython-input-2-693f4222495a>\u001b[0m in \u001b[0;36m<module>\u001b[1;34m\u001b[0m\n\u001b[1;32m----> 1\u001b[1;33m \u001b[0mdriver\u001b[0m\u001b[1;33m.\u001b[0m\u001b[0mget\u001b[0m\u001b[1;33m(\u001b[0m\u001b[1;34m\"https://news.naver.com/\"\u001b[0m\u001b[1;33m)\u001b[0m\u001b[1;33m\u001b[0m\u001b[1;33m\u001b[0m\u001b[0m\n\u001b[0m",
      "\u001b[1;31mNameError\u001b[0m: name 'driver' is not defined"
     ]
    }
   ],
   "source": [
    "driver.get(\"https://news.naver.com/\")\n"
   ]
  },
  {
   "cell_type": "code",
   "execution_count": null,
   "metadata": {},
   "outputs": [],
   "source": [
    "######## 1번 방식 링크들어가서 제목, 내용 한번에 스크래핑"
   ]
  },
  {
   "cell_type": "code",
   "execution_count": 1,
   "metadata": {
    "scrolled": true
   },
   "outputs": [
    {
     "ename": "NameError",
     "evalue": "name 'driver' is not defined",
     "output_type": "error",
     "traceback": [
      "\u001b[1;31m---------------------------------------------------------------------------\u001b[0m",
      "\u001b[1;31mNameError\u001b[0m                                 Traceback (most recent call last)",
      "\u001b[1;32m<ipython-input-1-2bb6efaf9a52>\u001b[0m in \u001b[0;36m<module>\u001b[1;34m\u001b[0m\n\u001b[0;32m      1\u001b[0m \u001b[1;31m# 셀레니움 어떤 타입으로 가져오는지\u001b[0m\u001b[1;33m\u001b[0m\u001b[1;33m\u001b[0m\u001b[1;33m\u001b[0m\u001b[0m\n\u001b[0;32m      2\u001b[0m \u001b[0mN\u001b[0m \u001b[1;33m=\u001b[0m \u001b[1;36m0\u001b[0m\u001b[1;33m\u001b[0m\u001b[1;33m\u001b[0m\u001b[0m\n\u001b[1;32m----> 3\u001b[1;33m \u001b[1;32mfor\u001b[0m \u001b[0m_\u001b[0m \u001b[1;32min\u001b[0m \u001b[0mdriver\u001b[0m\u001b[1;33m.\u001b[0m\u001b[0mfind_elements_by_css_selector\u001b[0m\u001b[1;33m(\u001b[0m\u001b[1;34m\".hdline_news  .hdline_article_tit > a, .com_list li > a\"\u001b[0m\u001b[1;33m)\u001b[0m \u001b[1;33m:\u001b[0m\u001b[1;33m\u001b[0m\u001b[1;33m\u001b[0m\u001b[0m\n\u001b[0m\u001b[0;32m      4\u001b[0m     \u001b[1;32mif\u001b[0m \u001b[0mlen\u001b[0m\u001b[1;33m(\u001b[0m\u001b[0m_\u001b[0m\u001b[1;33m.\u001b[0m\u001b[0mget_attribute\u001b[0m\u001b[1;33m(\u001b[0m\u001b[1;34m\"href\"\u001b[0m\u001b[1;33m)\u001b[0m\u001b[1;33m)\u001b[0m \u001b[1;33m>\u001b[0m \u001b[1;36m1\u001b[0m\u001b[1;33m:\u001b[0m\u001b[1;33m\u001b[0m\u001b[1;33m\u001b[0m\u001b[0m\n\u001b[0;32m      5\u001b[0m       \u001b[1;31m#  print(_.get_attribute(\"href\"))\u001b[0m\u001b[1;33m\u001b[0m\u001b[1;33m\u001b[0m\u001b[1;33m\u001b[0m\u001b[0m\n",
      "\u001b[1;31mNameError\u001b[0m: name 'driver' is not defined"
     ]
    }
   ],
   "source": [
    "# 셀레니움 어떤 타입으로 가져오는지\n",
    "N = 0\n",
    "for _ in driver.find_elements_by_css_selector(\".hdline_news  .hdline_article_tit > a, .com_list li > a\") :\n",
    "    if len(_.get_attribute(\"href\")) > 1:\n",
    "      #  print(_.get_attribute(\"href\"))\n",
    "        print(_.text)\n",
    "        N = N + 1\n",
    "      #  print (len(_.get_attribute(\"href\")))\n"
   ]
  },
  {
   "cell_type": "code",
   "execution_count": null,
   "metadata": {},
   "outputs": [],
   "source": [
    "####### 2번 방식 제목갔다가 본문갔다가 왔다갔다하면서 데이터 스크래핑"
   ]
  },
  {
   "cell_type": "code",
   "execution_count": 12,
   "metadata": {},
   "outputs": [],
   "source": [
    "for i in range(N):\n",
    "    driver.find_element_by_css_selector(\"#lnb > ul > li:first-child > a\").click()\n",
    "    news = [_ for _ in driver.find_elements_by_css_selector(\".hdline_news .hdline_article_tit > a, .com_list li > a\") \\\n",
    "            if len(_.get_attribute(\"href\")) > 1][i]\n",
    "    \n",
    "    cur.execute(\"INSERT INTO table1(title, url)  VALUES(? ,?)\", [news.text, news.get_attribute(\"href\")])\n",
    "    con.commit()\n",
    "    \n",
    "    cur.execute(\"SELECT id FROM table1 WHERE url=?\",[news.get_attribute(\"href\")])\n",
    "    newsID = cur.fetchone()[0]\n",
    "    \n",
    "    cur.execute(\"INSERT INTO table1(title, url) VALUES(?, ?)\", [news.text, news.get_attribute(\"href\")])\n",
    "    con.commit()\n",
    "    \n",
    "    cur.execute(\"SELECT id FROM table1 WHERE url =?\", [news.get_attribute(\"href\")])\n",
    "    news.click()\n",
    "    \n",
    "    cur.execute(\"INSERT INTO table2(table1_id, content) VALUES(?, ?)\", [newsID, driver.find_element_by_css_selector(\"#articleBodyContents\").text])\n",
    "    con.commit()"
   ]
  },
  {
   "cell_type": "code",
   "execution_count": null,
   "metadata": {},
   "outputs": [],
   "source": []
  },
  {
   "cell_type": "code",
   "execution_count": null,
   "metadata": {},
   "outputs": [],
   "source": []
  },
  {
   "cell_type": "code",
   "execution_count": null,
   "metadata": {},
   "outputs": [],
   "source": []
  },
  {
   "cell_type": "code",
   "execution_count": null,
   "metadata": {},
   "outputs": [],
   "source": []
  },
  {
   "cell_type": "code",
   "execution_count": null,
   "metadata": {},
   "outputs": [],
   "source": []
  },
  {
   "cell_type": "code",
   "execution_count": null,
   "metadata": {},
   "outputs": [],
   "source": []
  },
  {
   "cell_type": "code",
   "execution_count": null,
   "metadata": {},
   "outputs": [],
   "source": []
  },
  {
   "cell_type": "code",
   "execution_count": null,
   "metadata": {},
   "outputs": [],
   "source": [
    "#######################################################################################################################\n",
    "\n",
    "\n",
    "\n",
    "################# 떄려친다 ###############################33"
   ]
  },
  {
   "cell_type": "code",
   "execution_count": null,
   "metadata": {},
   "outputs": [],
   "source": [
    "from selenium import webdriver\n",
    "\n",
    "driver = webdriver.Chrome()\n",
    "# 창끄면 핸들러 잃어버림\n",
    "# driver.close()"
   ]
  },
  {
   "cell_type": "code",
   "execution_count": null,
   "metadata": {},
   "outputs": [],
   "source": [
    "from urllib import *\n",
    "from html import unescape\n",
    "import requests\n",
    "import json \n",
    "headers={\"user-agent\":\"Mozilla/5.0 (Windows NT 10.0; Win64; x64) AppleWebKit/537.36 (KHTML, like Gecko) Chrome/75.0.3770.100 Safari/537.36\"}\n",
    "import requests\n",
    "import time\n",
    "import bs4\n",
    "from bs4 import BeautifulSoup\n",
    "import re\n",
    "import time\n",
    "\n",
    "\n",
    "def download(method, url, \n",
    "             param = None, data = None, \n",
    "            timeout = 1,maxretries = 3):\n",
    "    \n",
    "    headers = {'user-agent': 'Mozilla/5.0 (Windows NT 10.0; Win64; x64) AppleWebKit/537.36 (KHTML, like Gecko) Chrome/75.0.3770.100 Safari/537.36'}\n",
    "    #headers = None\n",
    "    \n",
    "    try:\n",
    "        resp = requests.request(method, url, params= param, data=data, headers=headers)\n",
    "        resp.raise_for_status()\n",
    "        \n",
    "    except requests.exceptions.HTTPError as e:\n",
    "        if 500 <= e.response.status_code < 600 and maxretries > 0: \n",
    "            time.sleep(timeout) # param에따라 몇초 기다릴지 결정 할 수가 있다.\n",
    "            print(maxretries) # 재귀적으로 자기 자신을 부르게 코드를 짜면 된다.\n",
    "            resp = download(method,\n",
    "                            url, param = param, data=data,\n",
    "                            timeout=timeout,\n",
    "                            maxretries = maxretries - 1)\n",
    "        else:\n",
    "            print(e.response.status_code)\n",
    "            print(e.response.reason)\n",
    "    return resp\n",
    "\n",
    "def checkBlog(url):\n",
    "    return requests.compat.urlparse(url)[1].endswith(\"tistory.com\")\n",
    "    ## 정규식 re.search(\".+?\\.tistory.com\", \"http:\\\\adam24eve.tistory.com/\") #짧게매칭되는거 ? 레이지 \n",
    "\n",
    "def parseURL(seed):\n",
    "    html = download(\"get\",seed)\n",
    "    dom = BeautifulSoup(html.text, \"lxml\")\n",
    "    \n",
    "    ## naver iframe html안에 html 또들어있어서\n",
    "   # if len(dom.select(\"#mainFrame\")) < 1:  ## 메인이랑, 첫페이지만 없음\n",
    "   #     return []\n",
    "    \n",
    "   \n",
    "   # seed = requests.compat.urljoin(seed,dom.select(\"#mainFrame\")[0][\"src\"])\n",
    "  #  print(\"-=================================================\")\n",
    "   # print(seed)\n",
    "  #  print(\"-=================================================\")\n",
    "   # html = download(\"get\",seed)\n",
    "   # dom = BeautifulSoup(html.text, \"lxml\")\n",
    "    \n",
    "\n",
    "    return  [requests.compat.urljoin(seed, _[\"href\"]) for _ in dom.find_all(\"a\") if  _.has_attr(\"href\") and len(_[\"href\"]) >3 ]\n",
    "\n",
    "##and checkBlog(requests.compat.urljoin(seed, _[\"href\"]))\n",
    "\n",
    "\n",
    "\n",
    "\n"
   ]
  },
  {
   "cell_type": "code",
   "execution_count": null,
   "metadata": {},
   "outputs": [],
   "source": []
  }
 ],
 "metadata": {
  "kernelspec": {
   "display_name": "Python 3",
   "language": "python",
   "name": "python3"
  },
  "language_info": {
   "codemirror_mode": {
    "name": "ipython",
    "version": 3
   },
   "file_extension": ".py",
   "mimetype": "text/x-python",
   "name": "python",
   "nbconvert_exporter": "python",
   "pygments_lexer": "ipython3",
   "version": "3.7.3"
  }
 },
 "nbformat": 4,
 "nbformat_minor": 2
}
