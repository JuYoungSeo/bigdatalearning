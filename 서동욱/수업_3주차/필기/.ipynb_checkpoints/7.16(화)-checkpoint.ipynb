{
 "cells": [
  {
   "cell_type": "markdown",
   "metadata": {},
   "source": [
    "# Scraping"
   ]
  },
  {
   "cell_type": "markdown",
   "metadata": {},
   "source": [
    "- 실제 크롤링해서 가중치 매길일은 거의 없을듯\n",
    "- 앞의 내용은 빅데이터 수집 관점에서 어떤게 있었는지\n",
    "- Crawling은 큰 규모.  \n",
    "나중에 다긁어와서 버려야 하지만\n",
    "- Scraping : 얼만큼 할지 결정할 수 있다.(작은 규모)  \n",
    "필요한 부분만 긁으면 됨."
   ]
  },
  {
   "cell_type": "markdown",
   "metadata": {},
   "source": [
    "- 크롤링은 crawl agent\n",
    "- 스크래핑은 parser까지 필요하다.(원하는 부분만 가져올거니까)\n",
    "- 스크래핑은 특정 사이트 가서 원하는 부분만 긁어오는 것\n",
    "- 크롤링은 Anchor를 따라서 사이트를 돌아다니는 것.\n",
    "- 스크래핑은 내 목적에 맞게 가져오는 것,"
   ]
  },
  {
   "cell_type": "markdown",
   "metadata": {},
   "source": [
    "# Architecture"
   ]
  },
  {
   "cell_type": "markdown",
   "metadata": {},
   "source": [
    "- 멀티 스레드로 돌아감\n",
    "- 긁어오고 다음페이지 가고... 그런 식\n",
    "- 어제 db를 유지하면서 새로운 것을 만들어야함."
   ]
  },
  {
   "cell_type": "markdown",
   "metadata": {},
   "source": [
    "- 뽐뿌 : euc-kr아직도 사용함\n",
    "- 태그쌍이 안맞을때 어떤 브라우저가 어떻게 태그를 사용하는지."
   ]
  },
  {
   "cell_type": "markdown",
   "metadata": {},
   "source": [
    "- Focused crawling을 특정페이지마다 열어서 해당 정보 열어서 \n",
    "Scrapper가 쭉 추출하는 구조\n",
    "- 가격비교 사이트는 공익비교라 괜찮고, 마르지 않는 샘이다."
   ]
  },
  {
   "cell_type": "code",
   "execution_count": 3,
   "metadata": {},
   "outputs": [],
   "source": [
    "import requests\n",
    "import time\n",
    "\n",
    "def download(method, url, \n",
    "             param = None, data = None, \n",
    "            timeout = 1,maxretries = 3):\n",
    "    \n",
    "    headers = {'user-agent': 'Mozilla/5.0 (Windows NT 10.0; Win64; x64) AppleWebKit/537.36 (KHTML, like Gecko) Chrome/75.0.3770.100 Safari/537.36'}\n",
    "    #headers = None\n",
    "    \n",
    "    try:\n",
    "        resp = requests.request(method, url,\n",
    "                                params= param,\n",
    "                                data=data, headers=headers)\n",
    "        resp.raise_for_status()\n",
    "        \n",
    "    except requests.exceptions.HTTPError as e:\n",
    "        if 500 <= e.response.status_code < 600 and maxretries > 0: \n",
    "            time.sleep(timeout) # param에따라 몇초 기다릴지 결정 할 수가 있다.\n",
    "            print(maxretries) # 재귀적으로 자기 자신을 부르게 코드를 짜면 된다.\n",
    "            resp = download(method,\n",
    "                            url, param = param, data=data,\n",
    "                            timeout=timeout,\n",
    "                            maxretries = maxretries - 1)\n",
    "        else:\n",
    "            print(e.response.status_code)\n",
    "            print(e.response.reason)\n",
    "    return resp"
   ]
  },
  {
   "cell_type": "code",
   "execution_count": 6,
   "metadata": {},
   "outputs": [],
   "source": [
    "def geturl(urlsrc):\n",
    "    if '?' in urlsrc:\n",
    "        return urlsrc.split('?')[0]+'?'\n",
    "    else:\n",
    "        return urlsrc\n",
    "\n",
    "def getparams(urlsrc):\n",
    "    if '?' in  urlsrc:\n",
    "        paramList = urlsrc.split('?')[1].split('&')\n",
    "        params = {_.split('=')[0]:compat.unquote(_.split('=')[1]) for _ in paramList}\n",
    "        return params\n",
    "    else:\n",
    "        return None"
   ]
  },
  {
   "cell_type": "code",
   "execution_count": 4,
   "metadata": {},
   "outputs": [],
   "source": [
    "from bs4 import BeautifulSoup\n",
    "from requests import compat"
   ]
  },
  {
   "cell_type": "code",
   "execution_count": null,
   "metadata": {},
   "outputs": [],
   "source": [
    "def parseURL(seed):\n",
    "    html = download(\"get\",seed)\n",
    "    dom = BeautifulSoup(html.text,\"lxml\")\n",
    "    \n",
    "    return [compat.urljoin(html.url,_[\"href\"])\n",
    "                 for _ in dom.find_all(\"a\") \n",
    "            if _.has_attr(\"href\") and not _[\"href\"].startswith('#')]"
   ]
  },
  {
   "cell_type": "code",
   "execution_count": 27,
   "metadata": {},
   "outputs": [
    {
     "data": {
      "text/plain": [
       "['/zboard/zboard.php?id=ppomppu',\n",
       " '/zboard/zboard.php?id=ppomppu&keyword=%C7%D8%C7%C7%B8%D3%B4%CF',\n",
       " '/zboard/zboard.php?id=ppomppu&keyword=%BF%A1%BE%EE%C6%CC',\n",
       " '/zboard/zboard.php?id=ppomppu&keyword=qcy',\n",
       " '/zboard/zboard.php?id=ppomppu&keyword=%C4%C3%C3%C4',\n",
       " '/zboard/zboard.php?id=ppomppu&keyword=gs',\n",
       " '/zboard/zboard.php?id=ppomppu&keyword=%BB%E7%C0%DA',\n",
       " '/zboard/zboard.php?id=ppomppu&keyword=CGV',\n",
       " '/zboard/zboard.php?id=ppomppu&keyword=%BB%F3%C7%B0%B1%C7',\n",
       " '/zboard/zboard.php?id=ppomppu&keyword=%BC%B1%C7%B3%B1%E2',\n",
       " 'zboard.php?id=ppomppu',\n",
       " 'zboard.php?id=ppomppu&category=1',\n",
       " 'zboard.php?id=ppomppu&category=4',\n",
       " 'zboard.php?id=ppomppu&category=5',\n",
       " 'zboard.php?id=ppomppu&category=6',\n",
       " 'zboard.php?id=ppomppu&category=8',\n",
       " 'zboard.php?id=ppomppu&category=9',\n",
       " 'zboard.php?id=ppomppu&category=10',\n",
       " 'zboard.php?id=ppomppu&category=11',\n",
       " 'zboard.php?id=ppomppu&category=12',\n",
       " 'zboard.php?id=ppomppu&category=13',\n",
       " 'zboard.php?id=ppomppu&category=15',\n",
       " 'zboard.php?id=ppomppu&page=1&divpage=56&&no=323877',\n",
       " 'zboard.php?id=ppomppu&page=1&divpage=56&no=323877',\n",
       " 'zboard.php?id=ppomppu&page=1&divpage=56&&no=323876',\n",
       " 'zboard.php?id=ppomppu&page=1&divpage=56&no=323876',\n",
       " 'zboard.php?id=ppomppu&page=1&divpage=56&&no=323875',\n",
       " 'zboard.php?id=ppomppu&page=1&divpage=56&no=323875',\n",
       " 'zboard.php?id=ppomppu&page=1&divpage=56&&no=323874',\n",
       " 'zboard.php?id=ppomppu&page=1&divpage=56&no=323874',\n",
       " 'zboard.php?id=ppomppu&page=1&divpage=56&&no=323873',\n",
       " 'zboard.php?id=ppomppu&page=1&divpage=56&no=323873',\n",
       " 'zboard.php?id=ppomppu&page=1&divpage=56&&no=323872',\n",
       " 'zboard.php?id=ppomppu&page=1&divpage=56&no=323872',\n",
       " 'zboard.php?id=ppomppu&page=1&divpage=56&&no=323871',\n",
       " 'zboard.php?id=ppomppu&page=1&divpage=56&no=323871',\n",
       " 'zboard.php?id=ppomppu&page=1&divpage=56&&no=323870',\n",
       " 'zboard.php?id=ppomppu&page=1&divpage=56&no=323870',\n",
       " 'zboard.php?id=ppomppu&page=1&divpage=56&&no=323869',\n",
       " 'zboard.php?id=ppomppu&page=1&divpage=56&no=323869',\n",
       " 'zboard.php?id=ppomppu&page=1&divpage=56&&no=323868',\n",
       " 'zboard.php?id=ppomppu&page=1&divpage=56&no=323868',\n",
       " 'zboard.php?id=ppomppu&page=1&divpage=56&&no=323867',\n",
       " 'zboard.php?id=ppomppu&page=1&divpage=56&no=323867',\n",
       " 'zboard.php?id=ppomppu&page=1&divpage=56&&no=323866',\n",
       " 'zboard.php?id=ppomppu&page=1&divpage=56&no=323866',\n",
       " 'zboard.php?id=ppomppu&page=1&divpage=56&&no=323865',\n",
       " 'zboard.php?id=ppomppu&page=1&divpage=56&no=323865',\n",
       " 'zboard.php?id=ppomppu&page=1&divpage=56&&no=323864',\n",
       " 'zboard.php?id=ppomppu&page=1&divpage=56&no=323864',\n",
       " 'zboard.php?id=ppomppu&page=1&divpage=56&&no=323863',\n",
       " 'zboard.php?id=ppomppu&page=1&divpage=56&no=323863',\n",
       " 'zboard.php?id=ppomppu&page=1&divpage=56&&no=323862',\n",
       " 'zboard.php?id=ppomppu&page=1&divpage=56&no=323862',\n",
       " 'zboard.php?id=ppomppu&page=1&divpage=56&&no=323861',\n",
       " 'zboard.php?id=ppomppu&page=1&divpage=56&no=323861',\n",
       " 'zboard.php?id=ppomppu&page=1&divpage=56&&no=323860',\n",
       " 'zboard.php?id=ppomppu&page=1&divpage=56&no=323860',\n",
       " 'zboard.php?id=ppomppu&page=1&divpage=56&&no=323859',\n",
       " 'zboard.php?id=ppomppu&page=1&divpage=56&no=323859',\n",
       " 'zboard.php?id=ppomppu&page=1&divpage=56&&no=323858',\n",
       " 'zboard.php?id=ppomppu&page=1&divpage=56&no=323858',\n",
       " '/zboard/zboard.php?id=ppomppu&page=1&prev_no=&divpage=56',\n",
       " '/zboard/zboard.php?id=ppomppu&page=2&divpage=56',\n",
       " '/zboard/zboard.php?id=ppomppu&page=2&divpage=56',\n",
       " '/zboard/zboard.php?id=ppomppu&page=3&divpage=56',\n",
       " '/zboard/zboard.php?id=ppomppu&page=4&divpage=56',\n",
       " '/zboard/zboard.php?id=ppomppu&page=5&divpage=56',\n",
       " '/zboard/zboard.php?id=ppomppu&page=6&divpage=56',\n",
       " '/zboard/zboard.php?id=ppomppu&page=7&divpage=56',\n",
       " '/zboard/zboard.php?id=ppomppu&page=8&divpage=56',\n",
       " '/zboard/zboard.php?id=ppomppu&page=9&divpage=56',\n",
       " '/zboard/zboard.php?id=ppomppu&page=10&divpage=56',\n",
       " '/zboard/zboard.php?id=ppomppu&page=11&divpage=56']"
      ]
     },
     "execution_count": 27,
     "metadata": {},
     "output_type": "execute_result"
    }
   ],
   "source": [
    "# 뽐뿌\n",
    "url = \"http://www.ppomppu.co.kr/zboard/zboard.php?id=ppomppu\"\n",
    "param = getparams(url)\n",
    "urlsrc = geturl(url)\n",
    "\n",
    "html = download('get',urlsrc,param)\n",
    "dom = BeautifulSoup(html.text,\"lxml\")\n",
    "\n",
    "([_[\"href\"] \n",
    "  for _ in dom.select(\".container a\")\n",
    " if checkPpompu(_[\"href\"])]) # 다음 블로그만 가져오기."
   ]
  },
  {
   "cell_type": "code",
   "execution_count": 15,
   "metadata": {},
   "outputs": [],
   "source": [
    "import re\n",
    "p = re.compile(r\"zboard.php\\?id=ppomppu\\b\")"
   ]
  },
  {
   "cell_type": "code",
   "execution_count": 26,
   "metadata": {},
   "outputs": [],
   "source": [
    "def checkPpompu(url):\n",
    "    return p.search(url) != None\n",
    "# tistory는 endswith로 했다."
   ]
  },
  {
   "cell_type": "code",
   "execution_count": 314,
   "metadata": {},
   "outputs": [],
   "source": [
    "url = \"http://www.ppomppu.co.kr/zboard/zboard.php?id=ppomppu\"\n",
    "param = getparams(url)\n",
    "urlsrc = geturl(url)\n",
    "\n",
    "html = download('get',urlsrc,param)\n",
    "dom = BeautifulSoup(html.text,\"lxml\")"
   ]
  },
  {
   "cell_type": "code",
   "execution_count": 316,
   "metadata": {},
   "outputs": [
    {
     "name": "stdout",
     "output_type": "stream",
     "text": [
      "http://static.ppomppu.co.kr/www/img/noimage/noimage_60x50.jpg\n",
      "[티몬]부산출발 하노이 (1인 278,300/무료)\n"
     ]
    },
    {
     "ename": "TypeError",
     "evalue": "expected string or bytes-like object",
     "output_type": "error",
     "traceback": [
      "\u001b[1;31m---------------------------------------------------------------------------\u001b[0m",
      "\u001b[1;31mTypeError\u001b[0m                                 Traceback (most recent call last)",
      "\u001b[1;32m<ipython-input-316-fc3eb35eda89>\u001b[0m in \u001b[0;36m<module>\u001b[1;34m\u001b[0m\n\u001b[0;32m      3\u001b[0m     \u001b[0mprint\u001b[0m\u001b[1;33m(\u001b[0m\u001b[0mcompat\u001b[0m\u001b[1;33m.\u001b[0m\u001b[0murljoin\u001b[0m\u001b[1;33m(\u001b[0m\u001b[0murl\u001b[0m\u001b[1;33m,\u001b[0m\u001b[0mtd\u001b[0m\u001b[1;33m[\u001b[0m\u001b[1;36m3\u001b[0m\u001b[1;33m]\u001b[0m\u001b[1;33m.\u001b[0m\u001b[0ma\u001b[0m\u001b[1;33m.\u001b[0m\u001b[0mimg\u001b[0m\u001b[1;33m[\u001b[0m\u001b[1;34m\"src\"\u001b[0m\u001b[1;33m]\u001b[0m\u001b[1;33m)\u001b[0m\u001b[1;33m)\u001b[0m\u001b[1;33m\u001b[0m\u001b[1;33m\u001b[0m\u001b[0m\n\u001b[0;32m      4\u001b[0m     \u001b[0mprint\u001b[0m\u001b[1;33m(\u001b[0m\u001b[0mtd\u001b[0m\u001b[1;33m[\u001b[0m\u001b[1;36m3\u001b[0m\u001b[1;33m]\u001b[0m\u001b[1;33m.\u001b[0m\u001b[0mselect\u001b[0m\u001b[1;33m(\u001b[0m\u001b[1;34m'td[valign=middle] > a'\u001b[0m\u001b[1;33m)\u001b[0m\u001b[1;33m[\u001b[0m\u001b[1;36m0\u001b[0m\u001b[1;33m]\u001b[0m\u001b[1;33m.\u001b[0m\u001b[0mtext\u001b[0m\u001b[1;33m)\u001b[0m\u001b[1;33m\u001b[0m\u001b[1;33m\u001b[0m\u001b[0m\n\u001b[1;32m----> 5\u001b[1;33m     \u001b[0mprint\u001b[0m\u001b[1;33m(\u001b[0m\u001b[0mre\u001b[0m\u001b[1;33m.\u001b[0m\u001b[0mfindall\u001b[0m\u001b[1;33m(\u001b[0m\u001b[1;34mr\".+\\((.+?)\\).*\"\u001b[0m\u001b[1;33m,\u001b[0m\u001b[0mtemp\u001b[0m\u001b[1;33m)\u001b[0m\u001b[1;33m[\u001b[0m\u001b[1;36m0\u001b[0m\u001b[1;33m]\u001b[0m\u001b[1;33m.\u001b[0m\u001b[0msplit\u001b[0m\u001b[1;33m(\u001b[0m\u001b[1;34m\"/\"\u001b[0m\u001b[1;33m)\u001b[0m\u001b[1;33m)\u001b[0m\u001b[1;33m\u001b[0m\u001b[1;33m\u001b[0m\u001b[0m\n\u001b[0m\u001b[0;32m      6\u001b[0m     \u001b[0mtemp\u001b[0m \u001b[1;33m=\u001b[0m \u001b[0mtd\u001b[0m\u001b[1;33m[\u001b[0m\u001b[1;36m5\u001b[0m\u001b[1;33m]\u001b[0m\u001b[1;33m.\u001b[0m\u001b[0mtext\u001b[0m\u001b[1;33m.\u001b[0m\u001b[0msplit\u001b[0m\u001b[1;33m(\u001b[0m\u001b[1;34m'-'\u001b[0m\u001b[1;33m)\u001b[0m\u001b[1;33m\u001b[0m\u001b[1;33m\u001b[0m\u001b[0m\n\u001b[0;32m      7\u001b[0m     \u001b[0mprint\u001b[0m\u001b[1;33m(\u001b[0m\u001b[1;33m(\u001b[0m\u001b[1;36m0\u001b[0m\u001b[1;33m,\u001b[0m\u001b[1;36m0\u001b[0m\u001b[1;33m)\u001b[0m \u001b[1;32mif\u001b[0m \u001b[0mlen\u001b[0m\u001b[1;33m(\u001b[0m\u001b[0mtemp\u001b[0m\u001b[1;33m)\u001b[0m \u001b[1;33m<\u001b[0m \u001b[1;36m2\u001b[0m \u001b[1;32melse\u001b[0m \u001b[1;34m\",\"\u001b[0m\u001b[1;33m.\u001b[0m\u001b[0mjoin\u001b[0m\u001b[1;33m(\u001b[0m\u001b[0mtemp\u001b[0m\u001b[1;33m)\u001b[0m\u001b[1;33m)\u001b[0m\u001b[1;33m\u001b[0m\u001b[1;33m\u001b[0m\u001b[0m\n",
      "\u001b[1;32m~\\Anaconda3\\lib\\re.py\u001b[0m in \u001b[0;36mfindall\u001b[1;34m(pattern, string, flags)\u001b[0m\n\u001b[0;32m    221\u001b[0m \u001b[1;33m\u001b[0m\u001b[0m\n\u001b[0;32m    222\u001b[0m     Empty matches are included in the result.\"\"\"\n\u001b[1;32m--> 223\u001b[1;33m     \u001b[1;32mreturn\u001b[0m \u001b[0m_compile\u001b[0m\u001b[1;33m(\u001b[0m\u001b[0mpattern\u001b[0m\u001b[1;33m,\u001b[0m \u001b[0mflags\u001b[0m\u001b[1;33m)\u001b[0m\u001b[1;33m.\u001b[0m\u001b[0mfindall\u001b[0m\u001b[1;33m(\u001b[0m\u001b[0mstring\u001b[0m\u001b[1;33m)\u001b[0m\u001b[1;33m\u001b[0m\u001b[1;33m\u001b[0m\u001b[0m\n\u001b[0m\u001b[0;32m    224\u001b[0m \u001b[1;33m\u001b[0m\u001b[0m\n\u001b[0;32m    225\u001b[0m \u001b[1;32mdef\u001b[0m \u001b[0mfinditer\u001b[0m\u001b[1;33m(\u001b[0m\u001b[0mpattern\u001b[0m\u001b[1;33m,\u001b[0m \u001b[0mstring\u001b[0m\u001b[1;33m,\u001b[0m \u001b[0mflags\u001b[0m\u001b[1;33m=\u001b[0m\u001b[1;36m0\u001b[0m\u001b[1;33m)\u001b[0m\u001b[1;33m:\u001b[0m\u001b[1;33m\u001b[0m\u001b[1;33m\u001b[0m\u001b[0m\n",
      "\u001b[1;31mTypeError\u001b[0m: expected string or bytes-like object"
     ]
    }
   ],
   "source": [
    "for tr in  dom.select(\"tr[class^=list]\")[1:]: #tr인데 class가 list로 시작하는.\n",
    "    td = tr.find_all('td',recursive = False)\n",
    "    print(compat.urljoin(url,td[3].a.img[\"src\"]))\n",
    "    print(td[3].select('td[valign=middle] > a')[0].text)\n",
    "    print(re.findall(\".+\\((.+?)\\).*\",temp)[0].split(\"/\"))\n",
    "    temp = td[5].text.split('-')\n",
    "    print((0,0) if len(temp) < 2 else \",\".join(temp))\n",
    "    print(td[6].text.strip())\n",
    "    print()"
   ]
  },
  {
   "cell_type": "code",
   "execution_count": null,
   "metadata": {},
   "outputs": [],
   "source": [
    "# 정규식으로 한 것\n"
   ]
  },
  {
   "cell_type": "code",
   "execution_count": 134,
   "metadata": {
    "collapsed": true
   },
   "outputs": [
    {
     "ename": "IndexError",
     "evalue": "list index out of range",
     "output_type": "error",
     "traceback": [
      "\u001b[1;31m---------------------------------------------------------------------------\u001b[0m",
      "\u001b[1;31mIndexError\u001b[0m                                Traceback (most recent call last)",
      "\u001b[1;32m<ipython-input-134-aaccad4b18df>\u001b[0m in \u001b[0;36m<module>\u001b[1;34m\u001b[0m\n\u001b[0;32m      4\u001b[0m \u001b[1;32mfor\u001b[0m \u001b[0mtr\u001b[0m \u001b[1;32min\u001b[0m \u001b[0mdom\u001b[0m\u001b[1;33m.\u001b[0m\u001b[0mselect\u001b[0m\u001b[1;33m(\u001b[0m\u001b[1;34m\"tr[class^=list]\"\u001b[0m\u001b[1;33m)\u001b[0m\u001b[1;33m:\u001b[0m\u001b[1;33m\u001b[0m\u001b[1;33m\u001b[0m\u001b[0m\n\u001b[0;32m      5\u001b[0m     \u001b[0mtd\u001b[0m \u001b[1;33m=\u001b[0m \u001b[0mtr\u001b[0m\u001b[1;33m.\u001b[0m\u001b[0mfind_all\u001b[0m\u001b[1;33m(\u001b[0m\u001b[1;34m'td'\u001b[0m\u001b[1;33m)\u001b[0m\u001b[1;33m\u001b[0m\u001b[1;33m\u001b[0m\u001b[0m\n\u001b[1;32m----> 6\u001b[1;33m     \u001b[0mprint\u001b[0m\u001b[1;33m(\u001b[0m\u001b[0mtd\u001b[0m\u001b[1;33m[\u001b[0m\u001b[1;36m3\u001b[0m\u001b[1;33m]\u001b[0m\u001b[1;33m.\u001b[0m\u001b[0mselect\u001b[0m\u001b[1;33m(\u001b[0m\u001b[1;34m\"td[valign=middle] > a\"\u001b[0m\u001b[1;33m)\u001b[0m\u001b[1;33m[\u001b[0m\u001b[1;36m0\u001b[0m\u001b[1;33m]\u001b[0m\u001b[1;33m.\u001b[0m\u001b[0mtext\u001b[0m\u001b[1;33m)\u001b[0m\u001b[1;33m\u001b[0m\u001b[1;33m\u001b[0m\u001b[0m\n\u001b[0m",
      "\u001b[1;31mIndexError\u001b[0m: list index out of range"
     ]
    }
   ],
   "source": [
    "titleList = []\n",
    "DateList = []\n",
    "SeenList = []\n",
    "for tr in dom.select(\"tr[class^=list]\"):\n",
    "    td = tr.find_all('td')\n",
    "    print(td[3].select(\"td[valign=middle] > a\")[0].text)"
   ]
  },
  {
   "cell_type": "code",
   "execution_count": 128,
   "metadata": {
    "collapsed": true
   },
   "outputs": [
    {
     "ename": "TypeError",
     "evalue": "select() missing 1 required positional argument: 'selector'",
     "output_type": "error",
     "traceback": [
      "\u001b[1;31m---------------------------------------------------------------------------\u001b[0m",
      "\u001b[1;31mTypeError\u001b[0m                                 Traceback (most recent call last)",
      "\u001b[1;32m<ipython-input-128-0d844678d61e>\u001b[0m in \u001b[0;36m<module>\u001b[1;34m\u001b[0m\n\u001b[0;32m      1\u001b[0m \u001b[1;32mfor\u001b[0m \u001b[0mtr\u001b[0m \u001b[1;32min\u001b[0m \u001b[0mdom\u001b[0m\u001b[1;33m.\u001b[0m\u001b[0mselect\u001b[0m\u001b[1;33m(\u001b[0m\u001b[1;34m\"tr[class^=list]\"\u001b[0m\u001b[1;33m)\u001b[0m\u001b[1;33m[\u001b[0m\u001b[1;36m1\u001b[0m\u001b[1;33m:\u001b[0m\u001b[1;33m]\u001b[0m\u001b[1;33m:\u001b[0m\u001b[1;33m\u001b[0m\u001b[1;33m\u001b[0m\u001b[0m\n\u001b[0;32m      2\u001b[0m     \u001b[0mtd\u001b[0m \u001b[1;33m=\u001b[0m \u001b[0mtr\u001b[0m\u001b[1;33m.\u001b[0m\u001b[0mfind_all\u001b[0m\u001b[1;33m(\u001b[0m\u001b[1;34m'td'\u001b[0m\u001b[1;33m)\u001b[0m\u001b[1;33m\u001b[0m\u001b[1;33m\u001b[0m\u001b[0m\n\u001b[1;32m----> 3\u001b[1;33m     \u001b[0mprint\u001b[0m\u001b[1;33m(\u001b[0m\u001b[0mtd\u001b[0m\u001b[1;33m[\u001b[0m\u001b[1;36m3\u001b[0m\u001b[1;33m]\u001b[0m\u001b[1;33m.\u001b[0m\u001b[0mselect\u001b[0m\u001b[1;33m(\u001b[0m\u001b[1;33m)\u001b[0m\u001b[1;33m)\u001b[0m\u001b[1;33m\u001b[0m\u001b[1;33m\u001b[0m\u001b[0m\n\u001b[0m",
      "\u001b[1;31mTypeError\u001b[0m: select() missing 1 required positional argument: 'selector'"
     ]
    }
   ],
   "source": [
    "for tr in dom.select(\"tr[class^=list]\")[1:]:\n",
    "    td = tr.find_all('td')\n",
    "    print(td[3].select())"
   ]
  },
  {
   "cell_type": "code",
   "execution_count": 89,
   "metadata": {
    "collapsed": true
   },
   "outputs": [
    {
     "name": "stdout",
     "output_type": "stream",
     "text": [
      "13/10/24\n",
      "13/10/24\n",
      "0\n",
      "2424970\n",
      "\n",
      "323877\t\n",
      "14:45:12\n",
      "14:45:12\n",
      "\n",
      "97\n",
      "\n",
      "323876\t\n",
      "13:54:21\n",
      "13:54:21\n",
      "3 - 0\n",
      "4287\n",
      "\n",
      "323875\t\n",
      "13:41:45\n",
      "13:41:45\n",
      "9 - 5\n",
      "6671\n",
      "\n",
      "323874\t\n",
      "13:34:57\n",
      "13:34:57\n",
      "\n",
      "4075\n",
      "\n",
      "323873\t\n",
      "13:01:59\n",
      "13:01:59\n",
      "9 - 0\n",
      "2210\n",
      "\n",
      "323872\t\n",
      "12:33:29\n",
      "12:33:29\n",
      "34 - 0\n",
      "8542\n",
      "\n",
      "323871\t\n",
      "12:22:33\n",
      "12:22:33\n",
      "78 - 0\n",
      "12421\n",
      "\n",
      "323870\t\n",
      "12:20:14\n",
      "12:20:14\n",
      "1 - 0\n",
      "5272\n",
      "\n",
      "323869\t\n",
      "11:50:45\n",
      "11:50:45\n",
      "6 - 0\n",
      "4020\n",
      "\n",
      "323868\t\n",
      "11:30:29\n",
      "11:30:29\n",
      "77 - 16\n",
      "35957\n",
      "\n",
      "323867\t\n",
      "11:25:09\n",
      "11:25:09\n",
      "0 - 1\n",
      "2416\n",
      "\n",
      "323866\t\n",
      "11:22:39\n",
      "11:22:39\n",
      "3 - 0\n",
      "3262\n",
      "\n",
      "323865\t\n",
      "11:19:39\n",
      "11:19:39\n",
      "10 - 0\n",
      "9311\n",
      "\n",
      "323864\t\n",
      "11:06:13\n",
      "11:06:13\n",
      "3 - 0\n",
      "2212\n",
      "\n",
      "323863\t\n",
      "10:49:07\n",
      "10:49:07\n",
      "1 - 0\n",
      "3124\n",
      "\n",
      "323862\t\n",
      "10:44:35\n",
      "10:44:35\n",
      "\n",
      "1312\n",
      "\n",
      "323861\t\n",
      "10:39:02\n",
      "10:39:02\n",
      "\n",
      "2417\n",
      "\n",
      "323860\t\n",
      "10:23:56\n",
      "10:23:56\n",
      "2 - 2\n",
      "5608\n",
      "\n",
      "323859\t\n",
      "10:20:40\n",
      "10:20:40\n",
      "14 - 0\n",
      "9554\n",
      "\n",
      "323858\t\n",
      "10:19:24\n",
      "10:19:24\n",
      "13 - 0\n",
      "2377\n"
     ]
    }
   ],
   "source": [
    "for _ in dom.select(\"tr[align=center] .eng.list_vspace\"):\n",
    "    print(_.text)"
   ]
  },
  {
   "cell_type": "code",
   "execution_count": null,
   "metadata": {},
   "outputs": [],
   "source": [
    "queue = list()\n",
    "#queue.append('https://www.google.com/search?newwindow=1&hl=en&source=hp&ei=wN8rXZW8NMn_8QWErqDgDg&q=박보영&oq=박보영&gs_l=psy-ab.3..0l10.2667.3629..3735...2.0..1.126.877.1j8......0....1..gws-wiz.....0..0i131.xCFY8trEo3I')\n",
    "#for _ in ParkList:\n",
    "#    queue.append(_[0])\n",
    "\n",
    "queue.extend([_.find_parent()[\"href\"] for _ in dom2.select(\".LC20lb\")])\n",
    "seen = list()\n",
    "\n",
    "# BFS Search (너비 우선 탐색)\n",
    "while True:\n",
    "    baseURL = queue.pop(0) # FIFO\n",
    "    #baseURL = queue.pop(-1) # Stack으로 해서 깊이우선 탐색\n",
    "    seen.append(baseURL)\n",
    "    # URL Seen : BaseURL에 쓰인 것을 다른 table에서 관리하다가 있으면 피한다.\n",
    "    \n",
    "    time.sleep(1) # 너무 빠르면 안된다.\n",
    "    \n",
    "    linkList = parseURL(baseURL)\n",
    "    for link in linkList:  # 중복되는 url은 빼주어야 한다. (Home 같은 것)\n",
    "        if link not in queue and link not in seen:\n",
    "            queue.append(link)\n",
    "    print(\"Queue: {0}, Seen: {1}\".format(len(queue),len(seen)))\n",
    "\n",
    "# Back of Add Model을 만들 수 있다.\n",
    "# Or not vector(?) \n",
    "# 저차원으로 가면 Word Embedding\n"
   ]
  },
  {
   "cell_type": "markdown",
   "metadata": {},
   "source": [
    "- 자유게시판 10개 페이지만 글들 목록에서 Anchor가 붙어있는 글 제목과 링크를\n",
    "가져가서 내용과 댓글을 가져오는 것이 목표\n",
    "\n",
    "[Crawling]\n",
    "1. focued crawling(10페이지 내에서)\n",
    "2. 각 페이지 당 게시글(제목 부분의 a수집\n",
    "3. 수집 된 a로부터 Scraping\n",
    "\n",
    "[Scraping]\n",
    "1. 제목, 본문내용, 댓글 파싱\n",
    "(땟글은 있거나 여러개 있음)"
   ]
  },
  {
   "cell_type": "code",
   "execution_count": 151,
   "metadata": {},
   "outputs": [],
   "source": [
    "url = \"http://www.ppomppu.co.kr/zboard/zboard.php?id=freeboard\"\n",
    "param = getparams(url)\n",
    "urlsrc = geturl(url)\n",
    "\n",
    "html = download('get',urlsrc,param)\n",
    "dom = BeautifulSoup(html.text,\"lxml\")"
   ]
  },
  {
   "cell_type": "code",
   "execution_count": 178,
   "metadata": {},
   "outputs": [
    {
     "data": {
      "text/plain": [
       "[<a href=\"/zboard/zboard.php?id=freeboard&amp;page=2&amp;divpage=1221\" onfocus=\"blur()\">2</a>,\n",
       " <a href=\"/zboard/zboard.php?id=freeboard&amp;page=3&amp;divpage=1221\" onfocus=\"blur()\">3</a>,\n",
       " <a href=\"/zboard/zboard.php?id=freeboard&amp;page=4&amp;divpage=1221\" onfocus=\"blur()\">4</a>,\n",
       " <a href=\"/zboard/zboard.php?id=freeboard&amp;page=5&amp;divpage=1221\" onfocus=\"blur()\">5</a>,\n",
       " <a href=\"/zboard/zboard.php?id=freeboard&amp;page=6&amp;divpage=1221\" onfocus=\"blur()\">6</a>,\n",
       " <a href=\"/zboard/zboard.php?id=freeboard&amp;page=7&amp;divpage=1221\" onfocus=\"blur()\">7</a>,\n",
       " <a href=\"/zboard/zboard.php?id=freeboard&amp;page=8&amp;divpage=1221\" onfocus=\"blur()\">8</a>,\n",
       " <a href=\"/zboard/zboard.php?id=freeboard&amp;page=9&amp;divpage=1221\" onfocus=\"blur()\">9</a>,\n",
       " <a href=\"/zboard/zboard.php?id=freeboard&amp;page=10&amp;divpage=1221\" onfocus=\"blur()\">10</a>,\n",
       " <a class=\"page_next\" href=\"/zboard/zboard.php?id=freeboard&amp;page=11&amp;divpage=1221\" onfocus=\"blur()\">다음<img src=\"/images/main/arrow_right_icon.gif\"/></a>]"
      ]
     },
     "execution_count": 178,
     "metadata": {},
     "output_type": "execute_result"
    }
   ],
   "source": [
    "dom.select('#page_list a')"
   ]
  },
  {
   "cell_type": "code",
   "execution_count": 363,
   "metadata": {},
   "outputs": [],
   "source": [
    "url = \"http://www.ppomppu.co.kr/zboard/zboard.php?id=freeboard\"\n",
    "param = getparams(url)\n",
    "urlsrc = geturl(url)\n",
    "\n",
    "html = download('get',urlsrc,param)\n",
    "dom = BeautifulSoup(html.text,\"lxml\")\n",
    "\n",
    "pageList = ['http://www.ppomppu.co.kr/zboard/zboard.php?id=freeboard&page=1&divpage=1221']\n",
    "for _ in  dom.select(\"#page_list a\")[:-1]:\n",
    "    pageList.append('http://www.ppomppu.co.kr' + _[\"href\"])"
   ]
  },
  {
   "cell_type": "code",
   "execution_count": 398,
   "metadata": {
    "scrolled": true
   },
   "outputs": [],
   "source": [
    "siteList = []\n",
    "\n",
    "for newurl in pageList:\n",
    "    newhtml = download('get',newurl)\n",
    "    newdom = BeautifulSoup(newhtml.text,\"lxml\")\n",
    "    tmp = newdom.select(\"tr[class^=list]\")[2:]\n",
    "    \n",
    "    for tr in tmp:#tr인데 class가 list로 시작하는.\n",
    "        td = tr.find_all('td',recursive = False)\n",
    "        siteList.extend(['http://www.ppomppu.co.kr/zboard/' + _[\"href\"] for _ in td[2].select('a')])\n",
    "\n",
    "\n",
    "    \n",
    "    #print(type(td[2]))\n",
    "#     print(td[3].select('td[valign=middle] > a')[0].text)\n",
    "#     temp = td[5].text.split('-')\n",
    "#     print((0,0) if len(temp) < 2 else \",\".join(temp))\n",
    "#     print(td[6].text.strip())\n",
    "#     print()"
   ]
  },
  {
   "cell_type": "code",
   "execution_count": 399,
   "metadata": {},
   "outputs": [
    {
     "data": {
      "text/plain": [
       "282"
      ]
     },
     "execution_count": 399,
     "metadata": {},
     "output_type": "execute_result"
    }
   ],
   "source": [
    "len(siteList)"
   ]
  },
  {
   "cell_type": "code",
   "execution_count": 394,
   "metadata": {},
   "outputs": [
    {
     "name": "stdout",
     "output_type": "stream",
     "text": [
      "----- 1 번째 게시글 :\n",
      "----- 2 번째 게시글 :\n",
      "----- 3 번째 게시글 :\n",
      "----- 4 번째 게시글 :\n",
      "----- 5 번째 게시글 :\n",
      "----- 6 번째 게시글 :\n",
      "----- 7 번째 게시글 :\n",
      "----- 8 번째 게시글 :\n",
      "----- 9 번째 게시글 :\n",
      "----- 10 번째 게시글 :\n",
      "----- 11 번째 게시글 :\n",
      "----- 12 번째 게시글 :\n",
      "----- 13 번째 게시글 :\n",
      "----- 14 번째 게시글 :\n",
      "----- 15 번째 게시글 :\n",
      "----- 16 번째 게시글 :\n",
      "----- 17 번째 게시글 :\n",
      "----- 18 번째 게시글 :\n",
      "----- 19 번째 게시글 :\n",
      "----- 20 번째 게시글 :\n",
      "----- 21 번째 게시글 :\n",
      "----- 22 번째 게시글 :\n",
      "----- 23 번째 게시글 :\n",
      "----- 24 번째 게시글 :\n",
      "----- 25 번째 게시글 :\n",
      "----- 26 번째 게시글 :\n",
      "----- 27 번째 게시글 :\n",
      "----- 28 번째 게시글 :\n",
      "----- 29 번째 게시글 :\n",
      "----- 30 번째 게시글 :\n",
      "----- 31 번째 게시글 :\n",
      "----- 32 번째 게시글 :\n",
      "----- 33 번째 게시글 :\n",
      "----- 34 번째 게시글 :\n",
      "----- 35 번째 게시글 :\n",
      "----- 36 번째 게시글 :\n",
      "----- 37 번째 게시글 :\n",
      "----- 38 번째 게시글 :\n",
      "----- 39 번째 게시글 :\n",
      "----- 40 번째 게시글 :\n",
      "----- 41 번째 게시글 :\n",
      "----- 42 번째 게시글 :\n",
      "----- 43 번째 게시글 :\n",
      "----- 44 번째 게시글 :\n",
      "----- 45 번째 게시글 :\n",
      "----- 46 번째 게시글 :\n",
      "----- 47 번째 게시글 :\n",
      "----- 48 번째 게시글 :\n",
      "----- 49 번째 게시글 :\n",
      "----- 50 번째 게시글 :\n",
      "----- 51 번째 게시글 :\n",
      "----- 52 번째 게시글 :\n",
      "----- 53 번째 게시글 :\n",
      "----- 54 번째 게시글 :\n",
      "----- 55 번째 게시글 :\n",
      "----- 56 번째 게시글 :\n",
      "----- 57 번째 게시글 :\n",
      "----- 58 번째 게시글 :\n",
      "----- 59 번째 게시글 :\n",
      "----- 60 번째 게시글 :\n",
      "----- 61 번째 게시글 :\n",
      "----- 62 번째 게시글 :\n",
      "----- 63 번째 게시글 :\n",
      "----- 64 번째 게시글 :\n",
      "----- 65 번째 게시글 :\n",
      "----- 66 번째 게시글 :\n",
      "----- 67 번째 게시글 :\n",
      "----- 68 번째 게시글 :\n",
      "----- 69 번째 게시글 :\n",
      "----- 70 번째 게시글 :\n",
      "----- 71 번째 게시글 :\n",
      "----- 72 번째 게시글 :\n",
      "----- 73 번째 게시글 :\n",
      "----- 74 번째 게시글 :\n",
      "----- 75 번째 게시글 :\n",
      "----- 76 번째 게시글 :\n",
      "----- 77 번째 게시글 :\n",
      "----- 78 번째 게시글 :\n",
      "----- 79 번째 게시글 :\n",
      "----- 80 번째 게시글 :\n",
      "----- 81 번째 게시글 :\n",
      "----- 82 번째 게시글 :\n",
      "----- 83 번째 게시글 :\n",
      "----- 84 번째 게시글 :\n",
      "----- 85 번째 게시글 :\n",
      "----- 86 번째 게시글 :\n",
      "----- 87 번째 게시글 :\n",
      "----- 88 번째 게시글 :\n",
      "----- 89 번째 게시글 :\n",
      "----- 90 번째 게시글 :\n",
      "----- 91 번째 게시글 :\n",
      "----- 92 번째 게시글 :\n",
      "----- 93 번째 게시글 :\n",
      "----- 94 번째 게시글 :\n",
      "----- 95 번째 게시글 :\n",
      "----- 96 번째 게시글 :\n",
      "----- 97 번째 게시글 :\n",
      "----- 98 번째 게시글 :\n",
      "----- 99 번째 게시글 :\n",
      "----- 100 번째 게시글 :\n",
      "----- 101 번째 게시글 :\n",
      "----- 102 번째 게시글 :\n",
      "----- 103 번째 게시글 :\n",
      "----- 104 번째 게시글 :\n",
      "----- 105 번째 게시글 :\n",
      "----- 106 번째 게시글 :\n",
      "----- 107 번째 게시글 :\n",
      "----- 108 번째 게시글 :\n",
      "----- 109 번째 게시글 :\n",
      "----- 110 번째 게시글 :\n",
      "----- 111 번째 게시글 :\n",
      "----- 112 번째 게시글 :\n",
      "----- 113 번째 게시글 :\n",
      "----- 114 번째 게시글 :\n",
      "----- 115 번째 게시글 :\n",
      "----- 116 번째 게시글 :\n",
      "----- 117 번째 게시글 :\n",
      "----- 118 번째 게시글 :\n",
      "----- 119 번째 게시글 :\n",
      "----- 120 번째 게시글 :\n",
      "----- 121 번째 게시글 :\n",
      "----- 122 번째 게시글 :\n",
      "----- 123 번째 게시글 :\n",
      "----- 124 번째 게시글 :\n",
      "----- 125 번째 게시글 :\n",
      "----- 126 번째 게시글 :\n",
      "----- 127 번째 게시글 :\n",
      "----- 128 번째 게시글 :\n",
      "----- 129 번째 게시글 :\n",
      "----- 130 번째 게시글 :\n",
      "----- 131 번째 게시글 :\n",
      "----- 132 번째 게시글 :\n",
      "----- 133 번째 게시글 :\n",
      "----- 134 번째 게시글 :\n",
      "----- 135 번째 게시글 :\n",
      "----- 136 번째 게시글 :\n",
      "----- 137 번째 게시글 :\n",
      "----- 138 번째 게시글 :\n",
      "----- 139 번째 게시글 :\n",
      "----- 140 번째 게시글 :\n",
      "----- 141 번째 게시글 :\n",
      "----- 142 번째 게시글 :\n",
      "----- 143 번째 게시글 :\n",
      "----- 144 번째 게시글 :\n",
      "----- 145 번째 게시글 :\n",
      "----- 146 번째 게시글 :\n",
      "----- 147 번째 게시글 :\n",
      "----- 148 번째 게시글 :\n",
      "----- 149 번째 게시글 :\n",
      "----- 150 번째 게시글 :\n",
      "----- 151 번째 게시글 :\n",
      "----- 152 번째 게시글 :\n",
      "----- 153 번째 게시글 :\n",
      "----- 154 번째 게시글 :\n",
      "----- 155 번째 게시글 :\n",
      "----- 156 번째 게시글 :\n",
      "----- 157 번째 게시글 :\n",
      "----- 158 번째 게시글 :\n",
      "----- 159 번째 게시글 :\n",
      "----- 160 번째 게시글 :\n",
      "----- 161 번째 게시글 :\n",
      "----- 162 번째 게시글 :\n",
      "----- 163 번째 게시글 :\n",
      "----- 164 번째 게시글 :\n",
      "----- 165 번째 게시글 :\n",
      "----- 166 번째 게시글 :\n",
      "----- 167 번째 게시글 :\n",
      "----- 168 번째 게시글 :\n",
      "----- 169 번째 게시글 :\n",
      "----- 170 번째 게시글 :\n",
      "----- 171 번째 게시글 :\n",
      "----- 172 번째 게시글 :\n",
      "----- 173 번째 게시글 :\n",
      "----- 174 번째 게시글 :\n",
      "----- 175 번째 게시글 :\n",
      "----- 176 번째 게시글 :\n",
      "----- 177 번째 게시글 :\n",
      "----- 178 번째 게시글 :\n",
      "----- 179 번째 게시글 :\n",
      "----- 180 번째 게시글 :\n",
      "----- 181 번째 게시글 :\n",
      "----- 182 번째 게시글 :\n",
      "----- 183 번째 게시글 :\n",
      "----- 184 번째 게시글 :\n",
      "----- 185 번째 게시글 :\n",
      "----- 186 번째 게시글 :\n",
      "----- 187 번째 게시글 :\n",
      "----- 188 번째 게시글 :\n",
      "----- 189 번째 게시글 :\n",
      "----- 190 번째 게시글 :\n",
      "----- 191 번째 게시글 :\n",
      "----- 192 번째 게시글 :\n",
      "----- 193 번째 게시글 :\n",
      "----- 194 번째 게시글 :\n",
      "----- 195 번째 게시글 :\n",
      "----- 196 번째 게시글 :\n",
      "----- 197 번째 게시글 :\n",
      "----- 198 번째 게시글 :\n",
      "----- 199 번째 게시글 :\n",
      "----- 200 번째 게시글 :\n",
      "----- 201 번째 게시글 :\n",
      "----- 202 번째 게시글 :\n",
      "----- 203 번째 게시글 :\n",
      "----- 204 번째 게시글 :\n",
      "----- 205 번째 게시글 :\n",
      "----- 206 번째 게시글 :\n",
      "----- 207 번째 게시글 :\n",
      "----- 208 번째 게시글 :\n",
      "----- 209 번째 게시글 :\n",
      "----- 210 번째 게시글 :\n",
      "----- 211 번째 게시글 :\n",
      "----- 212 번째 게시글 :\n",
      "----- 213 번째 게시글 :\n",
      "----- 214 번째 게시글 :\n",
      "----- 215 번째 게시글 :\n",
      "----- 216 번째 게시글 :\n",
      "----- 217 번째 게시글 :\n",
      "----- 218 번째 게시글 :\n",
      "----- 219 번째 게시글 :\n",
      "----- 220 번째 게시글 :\n",
      "----- 221 번째 게시글 :\n",
      "----- 222 번째 게시글 :\n",
      "----- 223 번째 게시글 :\n",
      "----- 224 번째 게시글 :\n",
      "----- 225 번째 게시글 :\n",
      "----- 226 번째 게시글 :\n",
      "----- 227 번째 게시글 :\n",
      "----- 228 번째 게시글 :\n",
      "----- 229 번째 게시글 :\n",
      "----- 230 번째 게시글 :\n",
      "----- 231 번째 게시글 :\n",
      "----- 232 번째 게시글 :\n",
      "----- 233 번째 게시글 :\n",
      "----- 234 번째 게시글 :\n",
      "----- 235 번째 게시글 :\n",
      "----- 236 번째 게시글 :\n",
      "----- 237 번째 게시글 :\n",
      "----- 238 번째 게시글 :\n",
      "----- 239 번째 게시글 :\n",
      "----- 240 번째 게시글 :\n",
      "----- 241 번째 게시글 :\n",
      "----- 242 번째 게시글 :\n",
      "----- 243 번째 게시글 :\n",
      "----- 244 번째 게시글 :\n",
      "----- 245 번째 게시글 :\n",
      "----- 246 번째 게시글 :\n",
      "----- 247 번째 게시글 :\n",
      "----- 248 번째 게시글 :\n",
      "----- 249 번째 게시글 :\n",
      "----- 250 번째 게시글 :\n",
      "----- 251 번째 게시글 :\n",
      "----- 252 번째 게시글 :\n",
      "----- 253 번째 게시글 :\n",
      "----- 254 번째 게시글 :\n",
      "----- 255 번째 게시글 :\n",
      "----- 256 번째 게시글 :\n",
      "----- 257 번째 게시글 :\n",
      "----- 258 번째 게시글 :\n",
      "----- 259 번째 게시글 :\n",
      "----- 260 번째 게시글 :\n",
      "----- 261 번째 게시글 :\n",
      "----- 262 번째 게시글 :\n",
      "----- 263 번째 게시글 :\n",
      "----- 264 번째 게시글 :\n",
      "----- 265 번째 게시글 :\n",
      "----- 266 번째 게시글 :\n",
      "----- 267 번째 게시글 :\n",
      "----- 268 번째 게시글 :\n",
      "----- 269 번째 게시글 :\n",
      "----- 270 번째 게시글 :\n",
      "----- 271 번째 게시글 :\n",
      "----- 272 번째 게시글 :\n",
      "----- 273 번째 게시글 :\n",
      "----- 274 번째 게시글 :\n",
      "----- 275 번째 게시글 :\n",
      "----- 276 번째 게시글 :\n",
      "----- 277 번째 게시글 :\n",
      "----- 278 번째 게시글 :\n",
      "----- 279 번째 게시글 :\n",
      "----- 280 번째 게시글 :\n",
      "----- 281 번째 게시글 :\n",
      "----- 282 번째 게시글 :\n"
     ]
    }
   ],
   "source": [
    "i = 1\n",
    "contentsList = []\n",
    "for site in siteList:        \n",
    "    sitehtml = download('get',site)\n",
    "    sitedom = BeautifulSoup(sitehtml.text,\"lxml\")\n",
    "    title = sitedom.select(\".view_title2\")\n",
    "    content = sitedom.select(\".board-contents\")\n",
    "    commentList = [_.text for _ in sitedom.select(\"div[id^=commentContent]\")]\n",
    "    temp = {\"title\":\"\",\n",
    "            \"content\":\"\",\n",
    "           \"comment\":[]}\n",
    "    \n",
    "    print('-----',i,'번째 게시글 :',end=\"\")\n",
    "    if not title == []:\n",
    "        #print(title[0].text.strip())\n",
    "        temp[\"title\"] = title[0].text.strip()\n",
    "    if not content == []:\n",
    "        #print(content[0].text.strip())\n",
    "        temp[\"content\"] = content[0].text.strip()\n",
    "    #print('댓글')\n",
    "    if not commentList == []:\n",
    "        for _ in commentList:\n",
    "            temp[\"comment\"].extend([_.strip()])\n",
    "     #       print(_)\n",
    "    \n",
    "    contentsList.append(temp)\n",
    "    i= i+1\n",
    "    print()"
   ]
  },
  {
   "cell_type": "code",
   "execution_count": 345,
   "metadata": {},
   "outputs": [
    {
     "data": {
      "text/plain": [
       "{'title': '킹스맨이 또 나오나 봅니다.',\n",
       " 'content': '2020년 2월 개봉예정',\n",
       " 'comment': ['기대되네요.ㅋㅋ ',\n",
       "  '예고편 보니 프리퀄 형식에 1.2편에서 보여준 병신미는 없는것 같더군요...',\n",
       "  '킹스맨은 1 엔딩보면 다본거..',\n",
       "  '이것도 뜬금없이 pc충처럼\\n킹스걸 흑인여성 주인공나올듯ㅋㅋ',\n",
       "  '개봉일이 언제인가 ?\\n보고 싶네요 ^^',\n",
       "  '킹스맨2 너무 실망해서 ㅋㅋ',\n",
       "  '킹스맨 시리즈 좋아요~',\n",
       "  '트레일러 나옴\\n킹스맨 프리퀄\\nhttps://youtu.be/e82JHkkPw54',\n",
       "  '킹스맨 재밌게봤는데 2는 조금 실망했긴하지만 그래도 기대되네요 ㅎㅎ',\n",
       "  '어벤 재개봉 부터 보고싶네요']}"
      ]
     },
     "execution_count": 345,
     "metadata": {},
     "output_type": "execute_result"
    }
   ],
   "source": [
    "contentsList[299]"
   ]
  },
  {
   "cell_type": "code",
   "execution_count": 283,
   "metadata": {
    "scrolled": true
   },
   "outputs": [
    {
     "name": "stdout",
     "output_type": "stream",
     "text": [
      "http://www.ppomppu.co.kr/zboard/zboard.php?id=freeboard&page=1&divpage=1221&no=6543111\n"
     ]
    }
   ],
   "source": [
    "print(siteList[5])"
   ]
  },
  {
   "cell_type": "code",
   "execution_count": 286,
   "metadata": {},
   "outputs": [],
   "source": [
    "title = sitedom.select(\".view_title2\")"
   ]
  },
  {
   "cell_type": "code",
   "execution_count": 289,
   "metadata": {
    "scrolled": true
   },
   "outputs": [
    {
     "data": {
      "text/plain": [
       "'일본여행 취소?'"
      ]
     },
     "execution_count": 289,
     "metadata": {},
     "output_type": "execute_result"
    }
   ],
   "source": [
    "title[0].text"
   ]
  },
  {
   "cell_type": "code",
   "execution_count": 296,
   "metadata": {},
   "outputs": [],
   "source": [
    "sitehtml = download('get',siteList[5])\n",
    "sitedom = BeautifulSoup(sitehtml.text,\"lxml\")\n",
    "text = sitedom.select(\".board-contents\")[0].text\n"
   ]
  },
  {
   "cell_type": "code",
   "execution_count": 271,
   "metadata": {},
   "outputs": [
    {
     "data": {
      "text/plain": [
       "[]"
      ]
     },
     "execution_count": 271,
     "metadata": {},
     "output_type": "execute_result"
    }
   ],
   "source": [
    "sitedom.select(\".board-contents\")"
   ]
  },
  {
   "cell_type": "code",
   "execution_count": 346,
   "metadata": {},
   "outputs": [],
   "source": [
    "import sqlite3 as sql3\n",
    "con = sql3.connect(\"yB.db\")\n",
    "cur = con.cursor()"
   ]
  },
  {
   "cell_type": "code",
   "execution_count": 401,
   "metadata": {},
   "outputs": [
    {
     "data": {
      "text/plain": [
       "<sqlite3.Cursor at 0x2bd4cdcc180>"
      ]
     },
     "execution_count": 401,
     "metadata": {},
     "output_type": "execute_result"
    }
   ],
   "source": [
    "cur.executescript(\"\"\"\n",
    "    DROP TABLE IF EXISTS table1;\n",
    "    CREATE TABLE table1(\n",
    "    id INTEGER PRIMARY KEY AUTOINCREMENT NOT NULL,\n",
    "    table2_id INTEGER NOT NULL,\n",
    "    path TEXT NOT NULL,\n",
    "    param TEXT,\n",
    "    depth INTEGER NOT NULL,\n",
    "    inbound INTEGER NOT NULL,\n",
    "    seen BOOLEAN DEFAULT FALSE,\n",
    "    date TIMESTAMP DEFAULT CURRENT_TIMESTAMP NOT NULL\n",
    "    );\n",
    "    \n",
    "    DROP TABLE IF EXISTS table2;\n",
    "    CREATE TABLE table2(\n",
    "    id INTEGER PRIMARY KEY AUTOINCREMENT NOT NULL,\n",
    "    netloc TEXT NOT NULL,\n",
    "    date TIMESTAMP DEFAULT CURRENT_TIMESTAMP NOT NULL\n",
    "    );\n",
    "\"\"\") # 나중에 본문 내용 빼놓고 이미지,텍스트로 분기도 가능하다."
   ]
  },
  {
   "cell_type": "code",
   "execution_count": 402,
   "metadata": {},
   "outputs": [
    {
     "data": {
      "text/plain": [
       "<sqlite3.Cursor at 0x2bd4cdcc180>"
      ]
     },
     "execution_count": 402,
     "metadata": {},
     "output_type": "execute_result"
    }
   ],
   "source": [
    "cur.executescript(\"\"\"\n",
    "    DROP TABLE IF EXISTS table3;\n",
    "    CREATE TABLE table3(\n",
    "    id INTEGER PRIMARY KEY AUTOINCREMENT NOT NULL,\n",
    "    title TEXT NOT NULL,\n",
    "    content TEXT NOT NULL,\n",
    "    date TIMESTAMP DEFAULT CURRENT_TIMESTAMP NOT NULL\n",
    "    );\n",
    "    \n",
    "    DROP TABLE IF EXISTS table4;\n",
    "    CREATE TABLE table4(\n",
    "    id INTEGER PRIMARY KEY AUTOINCREMENT NOT NULL,\n",
    "    table3_id INTEGER NOT NULL,\n",
    "    comment TEXT NOT NULL\n",
    "    );\n",
    "\"\"\") # 나중에 본문 내용 빼놓고 이미지,텍스트로 분기도 가능하다."
   ]
  },
  {
   "cell_type": "code",
   "execution_count": 403,
   "metadata": {},
   "outputs": [],
   "source": [
    "con.commit()"
   ]
  },
  {
   "cell_type": "code",
   "execution_count": 359,
   "metadata": {},
   "outputs": [
    {
     "ename": "NameError",
     "evalue": "name 'queue' is not defined",
     "output_type": "error",
     "traceback": [
      "\u001b[1;31m---------------------------------------------------------------------------\u001b[0m",
      "\u001b[1;31mNameError\u001b[0m                                 Traceback (most recent call last)",
      "\u001b[1;32m<ipython-input-359-afd5131641ce>\u001b[0m in \u001b[0;36m<module>\u001b[1;34m\u001b[0m\n\u001b[1;32m----> 1\u001b[1;33m \u001b[1;32mwhile\u001b[0m \u001b[0mqueue\u001b[0m\u001b[1;33m:\u001b[0m\u001b[1;33m\u001b[0m\u001b[1;33m\u001b[0m\u001b[0m\n\u001b[0m\u001b[0;32m      2\u001b[0m     \u001b[0mbaseURL\u001b[0m \u001b[1;33m=\u001b[0m \u001b[0mqueue\u001b[0m\u001b[1;33m.\u001b[0m\u001b[0mpop\u001b[0m\u001b[1;33m(\u001b[0m\u001b[1;36m0\u001b[0m\u001b[1;33m)\u001b[0m\u001b[1;33m\u001b[0m\u001b[1;33m\u001b[0m\u001b[0m\n\u001b[0;32m      3\u001b[0m     \u001b[0mseen\u001b[0m\u001b[1;33m.\u001b[0m\u001b[0mappend\u001b[0m\u001b[1;33m(\u001b[0m\u001b[0mbaseURL\u001b[0m\u001b[1;33m)\u001b[0m\u001b[1;33m\u001b[0m\u001b[1;33m\u001b[0m\u001b[0m\n\u001b[0;32m      4\u001b[0m     \u001b[0mcontent\u001b[0m \u001b[1;33m=\u001b[0m \u001b[0mparseContent\u001b[0m\u001b[1;33m(\u001b[0m\u001b[0mbaseURL\u001b[0m\u001b[1;33m)\u001b[0m\u001b[1;33m\u001b[0m\u001b[1;33m\u001b[0m\u001b[0m\n",
      "\u001b[1;31mNameError\u001b[0m: name 'queue' is not defined"
     ]
    }
   ],
   "source": [
    "while queue:\n",
    "    baseURL = queue.pop(0)\n",
    "    seen.append(baseURL)\n",
    "    content = parseContent(baseURL)"
   ]
  },
  {
   "cell_type": "code",
   "execution_count": 404,
   "metadata": {},
   "outputs": [
    {
     "name": "stdout",
     "output_type": "stream",
     "text": [
      "1\n",
      "2\n",
      "3\n",
      "4\n",
      "5\n",
      "6\n",
      "7\n",
      "8\n",
      "9\n",
      "10\n",
      "11\n",
      "12\n",
      "13\n",
      "14\n",
      "15\n",
      "16\n",
      "17\n",
      "18\n",
      "19\n",
      "20\n",
      "21\n",
      "22\n",
      "23\n",
      "24\n",
      "25\n",
      "26\n",
      "27\n",
      "28\n",
      "29\n",
      "30\n",
      "31\n",
      "32\n",
      "33\n",
      "34\n",
      "35\n",
      "36\n",
      "37\n",
      "38\n",
      "39\n",
      "40\n",
      "41\n",
      "42\n",
      "43\n",
      "44\n",
      "45\n",
      "46\n",
      "47\n",
      "48\n",
      "49\n",
      "50\n",
      "51\n",
      "52\n",
      "53\n",
      "54\n",
      "55\n",
      "56\n",
      "57\n",
      "58\n",
      "59\n",
      "60\n",
      "61\n",
      "62\n",
      "63\n",
      "64\n",
      "65\n",
      "66\n",
      "67\n",
      "68\n",
      "69\n",
      "70\n",
      "71\n",
      "72\n",
      "73\n",
      "74\n",
      "75\n",
      "76\n",
      "77\n",
      "78\n",
      "79\n",
      "80\n",
      "81\n",
      "82\n",
      "83\n",
      "84\n",
      "85\n",
      "86\n",
      "87\n",
      "88\n",
      "89\n",
      "90\n",
      "91\n",
      "92\n",
      "93\n",
      "94\n",
      "95\n",
      "96\n",
      "97\n",
      "98\n",
      "99\n",
      "100\n",
      "101\n",
      "102\n",
      "103\n",
      "104\n",
      "105\n",
      "106\n",
      "107\n",
      "108\n",
      "109\n",
      "110\n",
      "111\n",
      "112\n",
      "113\n",
      "114\n",
      "115\n",
      "116\n",
      "117\n",
      "118\n",
      "119\n",
      "120\n",
      "121\n",
      "122\n",
      "123\n",
      "124\n",
      "125\n",
      "126\n",
      "127\n",
      "128\n",
      "129\n",
      "130\n",
      "131\n",
      "132\n",
      "133\n",
      "134\n",
      "135\n",
      "136\n",
      "137\n",
      "138\n",
      "139\n",
      "140\n",
      "141\n",
      "142\n",
      "143\n",
      "144\n",
      "145\n",
      "146\n",
      "147\n",
      "148\n",
      "149\n",
      "150\n",
      "151\n",
      "152\n",
      "153\n",
      "154\n",
      "155\n",
      "156\n",
      "157\n",
      "158\n",
      "159\n",
      "160\n",
      "161\n",
      "162\n",
      "163\n",
      "164\n",
      "165\n",
      "166\n",
      "167\n",
      "168\n",
      "169\n",
      "170\n",
      "171\n",
      "172\n",
      "173\n",
      "174\n",
      "175\n",
      "176\n",
      "177\n",
      "178\n",
      "179\n",
      "180\n",
      "181\n",
      "182\n",
      "183\n",
      "184\n",
      "185\n",
      "186\n",
      "187\n",
      "188\n",
      "189\n",
      "190\n",
      "191\n",
      "192\n",
      "193\n",
      "194\n",
      "195\n",
      "196\n",
      "197\n",
      "198\n",
      "199\n",
      "200\n",
      "201\n",
      "202\n",
      "203\n",
      "204\n",
      "205\n",
      "206\n",
      "207\n",
      "208\n",
      "209\n",
      "210\n",
      "211\n",
      "212\n",
      "213\n",
      "214\n",
      "215\n",
      "216\n",
      "217\n",
      "218\n",
      "219\n",
      "220\n",
      "221\n",
      "222\n",
      "223\n",
      "224\n",
      "225\n",
      "226\n",
      "227\n",
      "228\n",
      "229\n",
      "230\n",
      "231\n",
      "232\n",
      "233\n",
      "234\n",
      "235\n",
      "236\n",
      "237\n",
      "238\n",
      "239\n",
      "240\n",
      "241\n",
      "242\n",
      "243\n",
      "244\n",
      "245\n",
      "246\n",
      "247\n",
      "248\n",
      "249\n",
      "250\n",
      "251\n",
      "252\n",
      "253\n",
      "254\n",
      "255\n",
      "256\n",
      "257\n",
      "258\n",
      "259\n",
      "260\n",
      "261\n",
      "262\n",
      "263\n",
      "264\n",
      "265\n",
      "266\n",
      "267\n",
      "268\n",
      "269\n",
      "270\n",
      "271\n",
      "272\n",
      "273\n",
      "274\n",
      "275\n",
      "276\n",
      "277\n",
      "278\n",
      "279\n",
      "280\n",
      "281\n",
      "282\n"
     ]
    }
   ],
   "source": [
    "seen = list()\n",
    "while contentsList:\n",
    "    content = contentsList.pop(0)\n",
    "    seen.append(content)\n",
    "    \n",
    "    cur.execute(\"\"\"INSERT INTO table3(title,content)\n",
    "        VALUES(?,?);\"\"\"\n",
    "                ,[content[\"title\"],content[\"content\"]])\n",
    "    con.commit()\n",
    "    \n",
    "    cur.execute(\"\"\"\n",
    "        SELECT id\n",
    "        FROM table3\n",
    "        WHERE title=? AND content=?;\n",
    "        \"\"\",[content[\"title\"],content[\"content\"]])\n",
    "    table3_id = cur.fetchone()[0]\n",
    "    print(table3_id)\n",
    "    \n",
    "    for comment in content[\"comment\"]:\n",
    "        cur.execute(\"\"\"\n",
    "            INSERT INTO table4\n",
    "            (table3_id,comment)\n",
    "            VALUES(?,?)\n",
    "        \"\"\",[table3_id,comment])\n",
    "    con.commit()"
   ]
  },
  {
   "cell_type": "code",
   "execution_count": 361,
   "metadata": {},
   "outputs": [
    {
     "data": {
      "text/plain": [
       "29"
      ]
     },
     "execution_count": 361,
     "metadata": {},
     "output_type": "execute_result"
    }
   ],
   "source": [
    "table3_id"
   ]
  },
  {
   "cell_type": "code",
   "execution_count": 362,
   "metadata": {},
   "outputs": [
    {
     "data": {
      "text/plain": [
       "[]"
      ]
     },
     "execution_count": 362,
     "metadata": {},
     "output_type": "execute_result"
    }
   ],
   "source": [
    "contentsList"
   ]
  },
  {
   "cell_type": "code",
   "execution_count": 368,
   "metadata": {},
   "outputs": [
    {
     "data": {
      "text/plain": [
       "{'title': '헐 정두언 의원...',\n",
       " 'content': '와 이명박이 진심 무섭네요..\\n\\xa0\\n고인의 명복을 빕니다',\n",
       " 'comment': ['정자게로 가세요']}"
      ]
     },
     "execution_count": 368,
     "metadata": {},
     "output_type": "execute_result"
    }
   ],
   "source": [
    "seen[1]"
   ]
  },
  {
   "cell_type": "code",
   "execution_count": 408,
   "metadata": {},
   "outputs": [
    {
     "name": "stdout",
     "output_type": "stream",
     "text": [
      "http://www.ppomppu.co.kr/zboard/zboard.php?id=freeboard&page=9&divpage=1221&no=6543017\n"
     ]
    }
   ],
   "source": [
    "print(siteList[238])"
   ]
  },
  {
   "cell_type": "code",
   "execution_count": null,
   "metadata": {},
   "outputs": [],
   "source": []
  }
 ],
 "metadata": {
  "kernelspec": {
   "display_name": "Python 3",
   "language": "python",
   "name": "python3"
  },
  "language_info": {
   "codemirror_mode": {
    "name": "ipython",
    "version": 3
   },
   "file_extension": ".py",
   "mimetype": "text/x-python",
   "name": "python",
   "nbconvert_exporter": "python",
   "pygments_lexer": "ipython3",
   "version": "3.7.3"
  }
 },
 "nbformat": 4,
 "nbformat_minor": 2
}
