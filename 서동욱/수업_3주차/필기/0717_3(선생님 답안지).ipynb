{
 "cells": [
  {
   "cell_type": "code",
   "execution_count": 2,
   "metadata": {},
   "outputs": [],
   "source": [
    "import sqlite3\n",
    "con = sqlite3.connect(\"news.db\")\n",
    "cur = con.cursor()\n",
    "\n",
    "cur.executescript(\"\"\"\n",
    "    DROP TABLE IF EXISTS table1;\n",
    "    CREATE TABLE table1(\n",
    "        id INTEGER PRIMARY KEY AUTOINCREMENT NOT NULL,\n",
    "        title TEXT NOT NULL,\n",
    "        url TEXT NOT NULL\n",
    "    );\n",
    "    \n",
    "    DROP TABLE IF EXISTS table2;\n",
    "    CREATE TABLE table2(\n",
    "        id INTEGER PRIMARY KEY AUTOINCREMENT NOT NULL,\n",
    "        table1_id INTEGER NOT NULL,\n",
    "        content TEXT NOT NULL\n",
    "    );\n",
    "\n",
    "\"\"\")\n",
    "con.commit()"
   ]
  },
  {
   "cell_type": "code",
   "execution_count": 5,
   "metadata": {},
   "outputs": [],
   "source": [
    "driver.get(\"https://news.naver.com/\")\n"
   ]
  },
  {
   "cell_type": "code",
   "execution_count": null,
   "metadata": {},
   "outputs": [],
   "source": [
    "######## 1번 방식 링크들어가서 제목, 내용 한번에 스크래핑"
   ]
  },
  {
   "cell_type": "code",
   "execution_count": 6,
   "metadata": {
    "scrolled": true
   },
   "outputs": [
    {
     "name": "stdout",
     "output_type": "stream",
     "text": [
      "\"강제징용 손배청구권 남아있다\" 입장밝힌 靑…논란 예고\n",
      "경찰, 양현석 '성매매 알선' 혐의로 입건 본격 수사\n",
      "유니클로 “한국 불매운동 장기 영향 없다” 닷새 만에 “대단히 죄송”\n",
      "태풍, 장마전선 밀어올리며 북상…22일까지 전국 곳곳 게릴라 폭우\n",
      "“상사가 ‘이게 괴롭힘이냐? 잘리지 뭐’ 하더라…인식이 딱 그 수준”\n",
      "한국, 제 3국 중재 꼭 수용해야 하나…강제조항 없어, 2011년 일본도 불응\n",
      "'애증 관계' MB, 정두언 죽음에 “안타깝다”\n",
      "\"한국은 무슨 낯짝으로\"...靑, 언론사 보도 실명비판\n",
      "‘분당 수순’ 평화당·‘술렁’ 바른미래…제3지대 정계개편 신호탄\n",
      "[팩트체크] '사법자제의 원칙' 안 지켜 한·일 관계 꼬였다?\n",
      "\"일본 못 믿겠다\"…중국으로 눈 돌리는 韓 기업들\n",
      "\"술취한 상사가 단체방서 답 강요하면 괴롭힘?\" …Q&A로 본 '직장내 괴롭힘'\n",
      "'제2의 아레나 뿌리 뽑는다'...유흥업소 등 163명 세무조사\n",
      "'타다' 제한적 허용...기여금 내고 車 직접 소유\n",
      "[자막뉴스] 쟁점 ‘타다’는 빠져…스타트업 반발 속 처리 난항\n",
      "게임·토토·휴대폰깡…20대들의 파산 루트\n",
      "태풍, 장마전선 밀어올리며 북상…22일까지 전국 곳곳 게릴라 폭우\n",
      "알바 전전하다 취업 못해…파산 교육선 “무조건 쓰지마라”\n",
      "[뉴스분석] 택시 완승으로 끝난 김현미 상생안…타다 설 자리가 없다\n",
      "이거 실화임?…'세상에 이런일이' 150kg에서 79.6kg이 된 인간 승리 다이어터\n",
      "구독자 1650만명…원밀리언, K댄스 성지가 되다\n",
      "“연예인 관두면 기업 물려줄 것” 탁재훈 아버지 배조웅 대표 이력\n",
      "유대교 이스라엘 레우빈 대통령, 여의도순복음교회 방문 왜?\n",
      "성경 본문을 연극 대사로 쉽게\n",
      "‘성숙한 신앙인’이 되는 첫걸음\n",
      "\"러, 모스크바 미국계 학교 교사 30명에 비자 거부\"…외교 파문(종합)\n",
      "한국 유학생 강도 살해 '무기수' 27년만에 무죄 석방\n",
      "일본여행 예약률 '반 토막'…\"한국 관광객 축소 체감 중\"\n",
      "트럼프 추가관세 위협에…中 \"천리 길도 한걸음부터\"\n",
      "[자막뉴스] 日이 반색하는 ‘한국發 기사’…이렇게 유통된다\n",
      "대기업들의 ‘모빌리티 시장’ 진출 발판 마련 렌터카 활용업체 “진입장벽 높아졌다” 반발 [택시제도 개편안]\n",
      "남부 최고 150mm 장맛비…태풍 ‘다나스’도 북상\n",
      "'부활의 날개짓' 싸이월드, 기대감 UP ↑\n",
      "당근마켓에 트립스토어까지…라인, 스타트업 표절 구설수(종합)\n",
      "“불법 촬영물 95% 해외 서버 유통”…방심위, 구글 등과 공조\n"
     ]
    }
   ],
   "source": [
    "# 셀레니움 어떤 타입으로 가져오는지\n",
    "N = 0\n",
    "for _ in driver.find_elements_by_css_selector(\".hdline_news  .hdline_article_tit > a, .com_list li > a\") :\n",
    "    if len(_.get_attribute(\"href\")) > 1:\n",
    "      #  print(_.get_attribute(\"href\"))\n",
    "        print(_.text)\n",
    "        N = N + 1\n",
    "      #  print (len(_.get_attribute(\"href\")))\n"
   ]
  },
  {
   "cell_type": "code",
   "execution_count": null,
   "metadata": {},
   "outputs": [],
   "source": [
    "####### 2번 방식 제목갔다가 본문갔다가 왔다갔다하면서 데이터 스크래핑"
   ]
  },
  {
   "cell_type": "code",
   "execution_count": 7,
   "metadata": {},
   "outputs": [],
   "source": [
    "for i in range(N):\n",
    "    driver.find_element_by_css_selector(\"#lnb > ul > li:first-child > a\").click()\n",
    "    news = [_ for _ in driver.find_elements_by_css_selector(\".hdline_news .hdline_article_tit > a, .com_list li > a\") \\\n",
    "            if len(_.get_attribute(\"href\")) > 1][i]\n",
    "    \n",
    "    cur.execute(\"INSERT INTO table1(title, url)  VALUES(? ,?)\", [news.text, news.get_attribute(\"href\")])\n",
    "    con.commit()\n",
    "    \n",
    "    cur.execute(\"SELECT id FROM table1 WHERE url=?\",[news.get_attribute(\"href\")])\n",
    "    newsID = cur.fetchone()[0]\n",
    "    \n",
    "    cur.execute(\"INSERT INTO table1(title, url) VALUES(?, ?)\", [news.text, news.get_attribute(\"href\")])\n",
    "    con.commit()\n",
    "    \n",
    "    cur.execute(\"SELECT id FROM table1 WHERE url =?\", [news.get_attribute(\"href\")])\n",
    "    news.click()\n",
    "    \n",
    "    cur.execute(\"INSERT INTO table2(table1_id, content) VALUES(?, ?)\", [newsID, driver.find_element_by_css_selector(\"#articleBodyContents\").text])\n",
    "    con.commit()"
   ]
  },
  {
   "cell_type": "code",
   "execution_count": null,
   "metadata": {},
   "outputs": [],
   "source": []
  },
  {
   "cell_type": "code",
   "execution_count": null,
   "metadata": {},
   "outputs": [],
   "source": []
  },
  {
   "cell_type": "code",
   "execution_count": null,
   "metadata": {},
   "outputs": [],
   "source": []
  },
  {
   "cell_type": "code",
   "execution_count": null,
   "metadata": {},
   "outputs": [],
   "source": []
  },
  {
   "cell_type": "code",
   "execution_count": null,
   "metadata": {},
   "outputs": [],
   "source": []
  },
  {
   "cell_type": "code",
   "execution_count": null,
   "metadata": {},
   "outputs": [],
   "source": []
  },
  {
   "cell_type": "code",
   "execution_count": null,
   "metadata": {},
   "outputs": [],
   "source": []
  },
  {
   "cell_type": "code",
   "execution_count": null,
   "metadata": {},
   "outputs": [],
   "source": [
    "#######################################################################################################################\n",
    "\n",
    "\n",
    "\n",
    "################# 떄려친다 ###############################33"
   ]
  },
  {
   "cell_type": "code",
   "execution_count": 4,
   "metadata": {},
   "outputs": [],
   "source": [
    "from selenium import webdriver\n",
    "\n",
    "driver = webdriver.Chrome()\n",
    "# 창끄면 핸들러 잃어버림\n",
    "# driver.close()"
   ]
  },
  {
   "cell_type": "code",
   "execution_count": 1,
   "metadata": {},
   "outputs": [],
   "source": [
    "from urllib import *\n",
    "from html import unescape\n",
    "import requests\n",
    "import json \n",
    "headers={\"user-agent\":\"Mozilla/5.0 (Windows NT 10.0; Win64; x64) AppleWebKit/537.36 (KHTML, like Gecko) Chrome/75.0.3770.100 Safari/537.36\"}\n",
    "import requests\n",
    "import time\n",
    "import bs4\n",
    "from bs4 import BeautifulSoup\n",
    "import re\n",
    "import time\n",
    "\n",
    "\n",
    "def download(method, url, \n",
    "             param = None, data = None, \n",
    "            timeout = 1,maxretries = 3):\n",
    "    \n",
    "    headers = {'user-agent': 'Mozilla/5.0 (Windows NT 10.0; Win64; x64) AppleWebKit/537.36 (KHTML, like Gecko) Chrome/75.0.3770.100 Safari/537.36'}\n",
    "    #headers = None\n",
    "    \n",
    "    try:\n",
    "        resp = requests.request(method, url, params= param, data=data, headers=headers)\n",
    "        resp.raise_for_status()\n",
    "        \n",
    "    except requests.exceptions.HTTPError as e:\n",
    "        if 500 <= e.response.status_code < 600 and maxretries > 0: \n",
    "            time.sleep(timeout) # param에따라 몇초 기다릴지 결정 할 수가 있다.\n",
    "            print(maxretries) # 재귀적으로 자기 자신을 부르게 코드를 짜면 된다.\n",
    "            resp = download(method,\n",
    "                            url, param = param, data=data,\n",
    "                            timeout=timeout,\n",
    "                            maxretries = maxretries - 1)\n",
    "        else:\n",
    "            print(e.response.status_code)\n",
    "            print(e.response.reason)\n",
    "    return resp\n",
    "\n",
    "def checkBlog(url):\n",
    "    return requests.compat.urlparse(url)[1].endswith(\"tistory.com\")\n",
    "    ## 정규식 re.search(\".+?\\.tistory.com\", \"http:\\\\adam24eve.tistory.com/\") #짧게매칭되는거 ? 레이지 \n",
    "\n",
    "def parseURL(seed):\n",
    "    html = download(\"get\",seed)\n",
    "    dom = BeautifulSoup(html.text, \"lxml\")\n",
    "    \n",
    "    ## naver iframe html안에 html 또들어있어서\n",
    "   # if len(dom.select(\"#mainFrame\")) < 1:  ## 메인이랑, 첫페이지만 없음\n",
    "   #     return []\n",
    "    \n",
    "   \n",
    "   # seed = requests.compat.urljoin(seed,dom.select(\"#mainFrame\")[0][\"src\"])\n",
    "  #  print(\"-=================================================\")\n",
    "   # print(seed)\n",
    "  #  print(\"-=================================================\")\n",
    "   # html = download(\"get\",seed)\n",
    "   # dom = BeautifulSoup(html.text, \"lxml\")\n",
    "    \n",
    "\n",
    "    return  [requests.compat.urljoin(seed, _[\"href\"]) for _ in dom.find_all(\"a\") if  _.has_attr(\"href\") and len(_[\"href\"]) >3 ]\n",
    "\n",
    "##and checkBlog(requests.compat.urljoin(seed, _[\"href\"]))\n",
    "\n",
    "\n",
    "\n",
    "\n"
   ]
  },
  {
   "cell_type": "code",
   "execution_count": null,
   "metadata": {},
   "outputs": [],
   "source": []
  }
 ],
 "metadata": {
  "kernelspec": {
   "display_name": "Python 3",
   "language": "python",
   "name": "python3"
  },
  "language_info": {
   "codemirror_mode": {
    "name": "ipython",
    "version": 3
   },
   "file_extension": ".py",
   "mimetype": "text/x-python",
   "name": "python",
   "nbconvert_exporter": "python",
   "pygments_lexer": "ipython3",
   "version": "3.7.3"
  }
 },
 "nbformat": 4,
 "nbformat_minor": 2
}
